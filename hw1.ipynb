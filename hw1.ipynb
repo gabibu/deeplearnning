{
 "cells": [
  {
   "cell_type": "markdown",
   "metadata": {},
   "source": [
    "# Exercise 1: Linear Regression\n",
    "\n",
    "### This notebook is executed automatically.  Please comply carefully with the following instructions. Failure to comply with the instructions will result with faulty execution.\n",
    "\n",
    "## Read the following instructions carefully:\n",
    "\n",
    "1. This jupyter notebook contains all the step by step instructions needed for this exercise.\n",
    "1. Write **efficient vectorized** code whenever possible. Some calculations in this exercise take several minutes when implemented efficiently, and might take much longer otherwise. Avoid unnecessary loops.\n",
    "1. You should add as many tests as you need to verify the correctness of your code. Tests will not be graded nor checked. You are allowed to add cells in the notebook for that purpose.\n",
    "1. Write your functions in this notebook only. **Do not create Python modules and import them**.\n",
    "1. Your code must run without errors. During the environment setup, you were given a specific version of python to install. Please do not change the configuration as provided.\n",
    "1. Submission includes this notebook only with the exercise number and your ID as the filename. For example: `hw1_123456789_987654321.ipynb` if you submitted in pairs and `hw1_123456789.ipynb` if you submitted the exercise alone.\n",
    "1. Answers to qualitative questions should be written in **markdown** cells (with $\\LaTeX$ support). Answers that will be written in commented code blocks will not be checked."
   ]
  },
  {
   "cell_type": "code",
   "execution_count": 1,
   "metadata": {},
   "outputs": [],
   "source": [
    "import numpy as np # used for scientific computing\n",
    "import pandas as pd # used for data analysis and manipulation\n",
    "import matplotlib.pyplot as plt # used for visualization and plotting\n",
    "\n",
    "np.random.seed(42) \n",
    "\n",
    "# make matplotlib figures appear inline in the notebook\n",
    "%matplotlib inline\n",
    "plt.rcParams['figure.figsize'] = (14.0, 8.0) # set default size of plots\n",
    "plt.rcParams['image.interpolation'] = 'nearest'\n",
    "plt.rcParams['image.cmap'] = 'gray'"
   ]
  },
  {
   "cell_type": "markdown",
   "metadata": {},
   "source": [
    "## 1. Linear Regression using NumPy (40 Points)\n",
    "\n",
    "#### It is highly recommended that you read the linear regression summary uploaded to [Piazza](https://piazza.com/class_profile/get_resource/k86egexwv2j2hy/k8ida08cf4a54d).\n",
    "\n",
    "Simple linear regression is a linear regression model with a single explanatory variable and a single target value. \n",
    "\n",
    "$$\n",
    "\\hat{y} = h_w(x) = w^T x = b + a x_1 ~,~~~\\mbox{where}~~~  w=[b, a]^T ~~\\mbox{and}~~ x=[1, x_1]^T\n",
    "$$\n",
    "\n",
    "Assume a set of points $\\{x^{(i)}, y^{(i)}\\}_{i=1}^n$, our task is to find the best possible linear line that explains all the points in our dataset. We start by guessing initial values for the linear regression parameters $w$ and updating the values using gradient descent. \n",
    "\n",
    "The objective of linear regression is to minimize the cost function $J$:\n",
    "\n",
    "$$\n",
    "J(w) = \\frac{1}{2m} \\sum_{i=1}^{n}(h_w(x^{(i)})-y^{(i)})^2\n",
    "$$\n",
    "\n",
    "where the hypothesis (model) $h_w(x)$ is given by a **linear** model:\n",
    "\n",
    "$$\n",
    "h_w(x) = w^T x = b + a x_1\n",
    "$$\n",
    "\n",
    "$w_j$ are parameters of your model at step j and by cleverly changing those values you will be able to lower the cost function $J(w)$. One way to accomplish this is to use gradient descent:\n",
    "\n",
    "$$\n",
    "w_{j+1} = w_j - \\alpha \\frac{\\partial J}{\\partial w}  = w_j - \\alpha \\frac{1}{m} \\sum_{i=1}^n (h_{w_j}(x^{(i)})-y^{(i)})x^{(i)}\n",
    "$$\n",
    "\n",
    "In linear regression, we know that with each step of gradient descent, the parameters $w_j$ get closer to the optimal values that will achieve the lowest cost $J(w)$.\n",
    "\n",
    "\n",
    "Perform single variable linear regression using `numpy` using the following steps:\n",
    "\n",
    "1. Create a function that takes as input the features {x}, the targets {y} and parameters (w) and calculates the loss (MSE).\n",
    "1. Perform gradient descent on the training set and obtain the optimal loss values.\n",
    "1. Check your result by calculating the pseudo-inverse. Do not use `np.linalg.pinv`. You should use `np.linalg.inv` to calculate the inverse and numpy operations for matrix multiplication.\n",
    "1. Visualize your results using matplotlib: create a graph of the loss (seperately, for the training and validation datasets) as a function of the number of iterations. Use the optimal loss calculated using the optimal w values derived from the pseudo-inverse as a horizontal line on the same graph.\n",
    "1. Visualize your iterations in the data spaces and in the parameter (weight) space in 2 dimensions: \n",
    "    1. In the weight space you should plot the loss contours and the weights (a and b) after each few iterations.\n",
    "    1. In the data space you should plot the true points and the linear lines corresponding to the weight points (using the same colors as part 1).\n",
    "    1. Make sure your visualization is clear and informative.\n",
    "    1. Your results should look like this (note that in the figure $(b,w)$ should be $(b, a)$:\n",
    "\n",
    "![Image](https://github.com/alono88/autoencoders/blob/master/im1.png?raw=true)"
   ]
  },
  {
   "cell_type": "markdown",
   "metadata": {},
   "source": [
    "### Data generation"
   ]
  },
  {
   "cell_type": "code",
   "execution_count": 2,
   "metadata": {},
   "outputs": [],
   "source": [
    "x = np.random.rand(1000, 1)\n",
    "y = 1 + 2 * x + .1 * np.random.randn(1000, 1)\n",
    "\n",
    "# Shuffles the indices\n",
    "idx = np.arange(1000)\n",
    "np.random.shuffle(idx)\n",
    "\n",
    "# Uses first 80 random indices for train\n",
    "train_idx = idx[:800]\n",
    "# Uses the remaining indices for validation\n",
    "val_idx = idx[800:]\n",
    "\n",
    "# Generates train and validation sets\n",
    "x_train, y_train = x[train_idx], y[train_idx].reshape(-1)\n",
    "x_val, y_val = x[val_idx], y[val_idx].reshape(-1)"
   ]
  },
  {
   "cell_type": "markdown",
   "metadata": {},
   "source": [
    "Use the bias trick here so you could use a single dot product to calculate the predications, $\\hat{y}$."
   ]
  },
  {
   "cell_type": "code",
   "execution_count": 3,
   "metadata": {},
   "outputs": [],
   "source": [
    "###########################################################################\n",
    "#                            START OF YOUR CODE                           #\n",
    "###########################################################################\n",
    "x_train = np.hstack((np.ones_like(x_train), x_train))\n",
    "###########################################################################\n",
    "#                             END OF YOUR CODE                            #\n",
    "###########################################################################"
   ]
  },
  {
   "cell_type": "code",
   "execution_count": 4,
   "metadata": {},
   "outputs": [],
   "source": [
    "def compute_cost(X, y, w):\n",
    "    \"\"\"\n",
    "    Part 1: calculate the cost J given the data and model parameters.\n",
    "    Input:\n",
    "    - X: inputs  (n features over m instances).\n",
    "    - y: true labels (1 value over m instances).\n",
    "    - w: the parameters (weights) of the model being learned.\n",
    "\n",
    "    Returns a single value:\n",
    "    - J: the cost associated with the current set of parameters (scalar).\n",
    "    \"\"\"\n",
    "    J = 0  # Use J for the cost.\n",
    "    ###########################################################################\n",
    "    # TODO: Implement the MSE cost function.                                  #\n",
    "    ###########################################################################\n",
    "    total_error = np.sum(np.square(X.dot(w).flatten() - y))\n",
    "    multiplier = 1/(X.shape[0] * 2)\n",
    "    J = total_error* multiplier\n",
    "    ###########################################################################\n",
    "    #                             END OF YOUR CODE                            #\n",
    "    ###########################################################################\n",
    "    return J"
   ]
  },
  {
   "cell_type": "code",
   "execution_count": 5,
   "metadata": {},
   "outputs": [
    {
     "data": {
      "text/plain": [
       "0.7271552285793346"
      ]
     },
     "execution_count": 5,
     "metadata": {},
     "output_type": "execute_result"
    }
   ],
   "source": [
    "np.random.seed(42)\n",
    "w = np.random.random(size=2)\n",
    "compute_cost(x_train, y_train, w)"
   ]
  },
  {
   "cell_type": "code",
   "execution_count": 6,
   "metadata": {},
   "outputs": [],
   "source": [
    "prev_w = []\n",
    "\n",
    "def gradient_step(X, w, y):\n",
    "    \n",
    "    predictions = np.dot(X, w)\n",
    "    error = predictions - y    \n",
    "    return (1/X.shape[0])  * (X.T.dot(error))\n",
    "\n",
    "def gradient_descent(X, y, w, alpha, num_iters):\n",
    "    \"\"\"\n",
    "    Part 2: Implement simple gradient descent.\n",
    "    Input:\n",
    "    - X: Inputs  (n features over m instances).\n",
    "    - y: True labels (1 value over m instances).\n",
    "    - w: The parameters (weights) of the model being learned.\n",
    "    - alpha: The learning rate of your model.\n",
    "    - num_iters: The number of updates performed.\n",
    "\n",
    "    Returns two values:\n",
    "    - w: The learned parameters of your model.\n",
    "    - J_history: the loss value for every iteration.\n",
    "    \"\"\"\n",
    "    J_history = [] # Use a python list to save cost in every iteration\n",
    "    ###########################################################################\n",
    "    # TODO: Implement the gradient descent optimization algorithm.            #\n",
    "    ###########################################################################\n",
    "    iteration = 0\n",
    "    length = y.shape[0]\n",
    "    while iteration < num_iters:\n",
    "        prev_w.append(w)\n",
    "        #predictions = np.dot(X, w)\n",
    "        #error = predictions - y\n",
    "        #w = w - ( alpha * (1/length)  * (X.T.dot(error)))\n",
    "        w = w- (alpha * gradient_step(X, w, y))\n",
    "        iteration_cost = compute_cost(X, y, w)\n",
    "        J_history.append(iteration_cost)\n",
    "        iteration += 1\n",
    "    ###########################################################################\n",
    "    #                             END OF YOUR CODE                            #\n",
    "    ###########################################################################\n",
    "    return w, J_history"
   ]
  },
  {
   "cell_type": "code",
   "execution_count": 7,
   "metadata": {},
   "outputs": [],
   "source": [
    "np.random.seed(42)\n",
    "w = np.random.random(size=2)\n",
    "iterations = 40000\n",
    "alpha = 0.1\n",
    "w, J_history = gradient_descent(x_train ,y_train, w, alpha, iterations)"
   ]
  },
  {
   "cell_type": "code",
   "execution_count": 8,
   "metadata": {},
   "outputs": [],
   "source": [
    "def pinv(X, y):\n",
    "    \"\"\"\n",
    "    Part 3: Calculate the optimal values of \n",
    "    the parameters using the pseudoinverse.\n",
    "\n",
    "    Input:\n",
    "    - X: Inputs (n features over m instances).\n",
    "    - y: True labels (1 value over m instances).\n",
    "\n",
    "    Returns two values:\n",
    "    - w: The optimal parameters of your model.\n",
    "\n",
    "    ########## DO NOT USE numpy.pinv ##############\n",
    "    \"\"\"\n",
    "    \n",
    "    pinv_w = []\n",
    "    ###########################################################################\n",
    "    # TODO: Implement the pseudoinverse method.                               #\n",
    "    ###########################################################################\n",
    "    #pass #np.linalg.inv\n",
    "    pinv_w = np.matmul(np.matmul(np.linalg.inv(np.matmul(np.transpose(X), X)), np.transpose(X)), y)\n",
    "    ###########################################################################\n",
    "    #                             END OF YOUR CODE                            #\n",
    "    ###########################################################################\n",
    "    return pinv_w"
   ]
  },
  {
   "cell_type": "code",
   "execution_count": 9,
   "metadata": {},
   "outputs": [],
   "source": [
    "w_pinv = pinv(x_train, y_train)\n",
    "J_pinv = compute_cost(x_train, y_train, w_pinv)"
   ]
  },
  {
   "cell_type": "code",
   "execution_count": 10,
   "metadata": {},
   "outputs": [
    {
     "data": {
      "image/png": "[encoded data removed]",
      "text/plain": [
       "<Figure size 432x288 with 1 Axes>"
      ]
     },
     "metadata": {
      "needs_background": "light"
     },
     "output_type": "display_data"
    }
   ],
   "source": [
    "def visualize_loss(J_history, J_pinv=0):\n",
    "    \"\"\"\n",
    "    Part 4: Visualize the losses as a function of the interation\n",
    "    Input:\n",
    "    - J_history: array that holds the loss for every iteration\n",
    "    - J_pinv: the calculated loss value using pinv_w\n",
    "\n",
    "    This function has no return value\n",
    "    \"\"\"\n",
    "    ###########################################################################\n",
    "    # TODO: visualize the loss as a function of the iteration.                #\n",
    "    ###########################################################################\n",
    "    \n",
    "    gd = plt.scatter(range(len(J_history)), J_history, c='#1f77b4')\n",
    "    pinv = plt.scatter(1, [J_pinv] , c='#ff7f0e')\n",
    "        \n",
    "    plt.legend((gd, pinv),\n",
    "           ('Gradient Descent', 'PINV'),\n",
    "           scatterpoints=1,\n",
    "           loc='upper right',\n",
    "           ncol=3,\n",
    "           fontsize=8)\n",
    "    \n",
    "    \n",
    "    ###########################################################################\n",
    "    #                             END OF YOUR CODE                            #\n",
    "    ###########################################################################\n",
    "visualize_loss(J_history, J_pinv)"
   ]
  },
  {
   "cell_type": "code",
   "execution_count": 12,
   "metadata": {},
   "outputs": [
    {
     "data": {
      "image/png": "[encoded data removed]",
      "text/plain": [
       "<Figure size 432x288 with 1 Axes>"
      ]
     },
     "metadata": {
      "needs_background": "light"
     },
     "output_type": "display_data"
    },
    {
     "data": {
      "image/png": "[encoded data removed]",
      "text/plain": [
       "<Figure size 432x288 with 1 Axes>"
      ]
     },
     "metadata": {
      "needs_background": "light"
     },
     "output_type": "display_data"
    }
   ],
   "source": [
    "import numpy as np \n",
    "import numpy as np\n",
    "import pandas as pd\n",
    "from matplotlib import pyplot as plt\n",
    "from mpl_toolkits.mplot3d import Axes3D\n",
    "\n",
    "\n",
    "def contour_plot(X, y):\n",
    "    all_ws = np.array(prev_w)\n",
    "    \n",
    "    levels = np.sort(np.array(list(set(J_history))))\n",
    "\n",
    "    b = np.linspace(-w[0] * 5, w[0] * 5, 100)\n",
    "    a = np.linspace(-w[1] * 5, w[1] * 5, 100)\n",
    "    mses = np.zeros(shape=(b.size, a.size))\n",
    "\n",
    "    for i, value1 in enumerate(b):\n",
    "        for j, value2 in enumerate(a):\n",
    "            mses[i, j] = compute_cost(X, y, np.array((value1,value2)))\n",
    "\n",
    "    CS = plt.contour(b, a, mses, levels, linewidths=1,colors='black')\n",
    "    plt.clabel(CS, inline=1, fontsize=8)\n",
    "    plt.xlabel(\"b\")\n",
    "    plt.ylabel(\"a\")\n",
    "    plt.show()\n",
    "\n",
    "def plotData(X, y, x_val, y_val, w):\n",
    "    \n",
    "    plt.scatter(X[:, 1], y,  color='black')\n",
    "    predictions = np.dot(X, w).flatten()\n",
    "    plt.plot(X[:, 1], predictions, color='blue', linewidth=3)\n",
    "    \n",
    "    #validation\n",
    "    plt.scatter(x_val, y_val,  color='red')\n",
    "    x_val = np.hstack((np.ones_like(x_val), x_val))\n",
    "    predictions_val = np.dot(x_val, w).flatten()\n",
    "    plt.plot(x_val[:, 1], predictions_val, color='red', linewidth=3)\n",
    "    #valiodation\n",
    "    \n",
    "    plt.xticks(np.arange(0, 2., 0.5))\n",
    "    plt.yticks(np.arange(0, 5., 0.5))\n",
    "    plt.xlabel('X')  \n",
    "    plt.ylabel('Y')\n",
    "        \n",
    "def visualize_spaces(X, y, w, x_val, y_val):\n",
    "    \"\"\"\n",
    "    Part 5: Visualize the parameter weight & parameter spaces\n",
    "    Input: up to you.\n",
    "\n",
    "    This function has no return value\n",
    "    \"\"\"                                                        \n",
    "    ###########################################################################\n",
    "    # TODO: Visualize the data & parameter spaces.                            #\n",
    "    ###########################################################################\n",
    "    contour_plot(X, y)\n",
    "    plotData(X, y, x_val, y_val, w)\n",
    "    \n",
    "    ###########################################################################\n",
    "    #                             END OF YOUR CODE                            #\n",
    "    ###########################################################################\n",
    "    \n",
    "visualize_spaces(x_train, y_train, w, x_val, y_val)"
   ]
  },
  {
   "cell_type": "markdown",
   "metadata": {},
   "source": [
    "## 2. Linear Regression using PyTorch (60 points)\n",
    "\n",
    "Now that you understand basic linear regression, we can begin uncovering the benefit of using PyTorch. First, make sure you can import `pytorch` by running the next cell. Version `1.4.0` is recommended."
   ]
  },
  {
   "cell_type": "code",
   "execution_count": 13,
   "metadata": {},
   "outputs": [
    {
     "name": "stdout",
     "output_type": "stream",
     "text": [
      "1.2.0\n"
     ]
    }
   ],
   "source": [
    "import torch\n",
    "import numpy as np\n",
    "import torch.nn as nn\n",
    "import matplotlib.pyplot as plt\n",
    "print(torch.__version__)\n",
    "np.random.seed(42)"
   ]
  },
  {
   "cell_type": "markdown",
   "metadata": {},
   "source": [
    "### Data generation"
   ]
  },
  {
   "cell_type": "code",
   "execution_count": 14,
   "metadata": {},
   "outputs": [],
   "source": [
    "x = np.random.rand(1000, 1)\n",
    "y = 1 + 2 * x + .1 * np.random.randn(1000, 1)\n",
    "\n",
    "# Shuffles the indices\n",
    "idx = np.arange(1000)\n",
    "np.random.shuffle(idx)\n",
    "\n",
    "# Uses first 80 random indices for train\n",
    "train_idx = idx[:800]\n",
    "# Uses the remaining indices for validation\n",
    "val_idx = idx[800:]\n",
    "\n",
    "# Generates train and validation sets\n",
    "x_train, y_train = x[train_idx], y[train_idx]\n",
    "x_val, y_val = x[val_idx], y[val_idx]"
   ]
  },
  {
   "cell_type": "markdown",
   "metadata": {},
   "source": [
    "### Data Preprocessing\n",
    "\n",
    "I have loaded the training set into tensors for you. Use a different way to load the validation set to tensors. Your code should support both `cpu` and `cuda` execution."
   ]
  },
  {
   "cell_type": "code",
   "execution_count": 15,
   "metadata": {},
   "outputs": [],
   "source": [
    "device = 'cuda' if torch.cuda.is_available() else 'cpu'\n",
    "\n",
    "x_train_tensor = torch.from_numpy(x_train).float().to(device)\n",
    "y_train_tensor = torch.from_numpy(y_train).float().to(device)\n",
    "\n",
    "x_val;\n",
    "y_val;"
   ]
  },
  {
   "cell_type": "markdown",
   "metadata": {},
   "source": [
    "### Network parameters\n",
    "\n",
    "Since we are dealing with a simple linear model, we need only two parameters."
   ]
  },
  {
   "cell_type": "code",
   "execution_count": 16,
   "metadata": {},
   "outputs": [
    {
     "name": "stdout",
     "output_type": "stream",
     "text": [
      "tensor([1.7350], requires_grad=True) tensor([-0.0767], requires_grad=True)\n"
     ]
    }
   ],
   "source": [
    "a = torch.randn(1, requires_grad=True, dtype=torch.float).to(device)\n",
    "b = torch.randn(1, requires_grad=True, dtype=torch.float).to(device)\n",
    "print(a, b)"
   ]
  },
  {
   "cell_type": "markdown",
   "metadata": {},
   "source": [
    "### Parameter update\n",
    "\n",
    "1. Iterate over the entire dataset `num_epochs` times.\n",
    "2. In each iteration, you should perform a single forward prop (on the entire dataset at once without additional loops) and calculate the average error.\n",
    "3. Use the `loss.backward()` method to calculate gradients for each of the learned parameters in your model and perform the update using the provided learning rate - `lr`.\n",
    "4. Reset the parameter gradients created by `.backward()`.\n",
    "5. Print the learned parameters.\n",
    "\n",
    "Answer the following questions in this markdown cell:\n",
    "\n",
    "1. Why updating the parameters using `x = x - lr * x.grad` does not work?\n",
    "\n",
    "\n",
    "\n",
    "2. What is the purpose of `.backward()`? Does it compute gradients for all variables in the graph? With respect to what?"
   ]
  },
  {
   "cell_type": "code",
   "execution_count": 17,
   "metadata": {},
   "outputs": [
    {
     "name": "stdout",
     "output_type": "stream",
     "text": [
      "tensor([1.9844], requires_grad=True) tensor([1.0173], requires_grad=True)\n"
     ]
    }
   ],
   "source": [
    "lr = 1e-1\n",
    "num_epochs = 1000\n",
    "\n",
    "for epoch in range(num_epochs):\n",
    "###########################################################################\n",
    "#                            START OF YOUR CODE                           #\n",
    "###########################################################################\n",
    "\n",
    "\n",
    "    y_tag = x_train_tensor * a.T  + b\n",
    "    diff_tensor = y_tag - y_train_tensor\n",
    "    \n",
    "    loss = torch.pow(diff_tensor, 2).mean()\n",
    "    \n",
    "    loss.backward()\n",
    "    with torch.no_grad():\n",
    "        a -= a.grad * lr\n",
    "        b -= b.grad * lr\n",
    "        \n",
    "        a.grad.zero_()\n",
    "        b.grad.zero_()\n",
    "###########################################################################\n",
    "#                             END OF YOUR CODE                            #\n",
    "###########################################################################\n",
    "print(a, b)"
   ]
  },
  {
   "cell_type": "markdown",
   "metadata": {},
   "source": [
    "1. We need to use torch.no_grad() to keep the update out of the computation graph and \n",
    " and when updating this way we lose the gradient that becomes None.\n",
    "<br>\n",
    "2. It computed the gredient to all elements with requires_grad True.\n",
    "<br>\n",
    "   The gradient are of the output node from which the backard was called with respsect to other leaf nodes.\n",
    "   \n",
    "   "
   ]
  },
  {
   "cell_type": "markdown",
   "metadata": {},
   "source": [
    "### Better data handling\n",
    "\n",
    "1. Reinitialize the learned parameters `a,b`.\n",
    "1. Define a custom dataset by inheriting from the `Dataset` class available in `torch.utils.data`. Your class should take as input two numpy arrays (`x,y`) and implement three class methods:  \n",
    "&nbsp;\n",
    "    1. `__init__(self)` - use the init function to save the inputs as instance variables.  \n",
    "    2. `__get_item__(self, index)` allows the dataset to be indexed so it behaves like a list. It can return the corresponding slices of the pre-loaded dataset or load them on demand.\n",
    "    3. `__len__(self)` returns the number of instances in the dataset.    \n",
    "&nbsp;\n",
    "1. Use the `DataLoader` from `torch.utils.data` and iterate over the training dataset one batch at a time instead of performing full batch gradient descent. The dataloader takes the dataset as input and outputs an iterator over the data.\n",
    "\n",
    "Answer the following questions in this markdown cell:\n",
    "\n",
    "1. Why the data tensors were not assigned to a device as in the previous example?\n",
    "\n",
    "\n",
    "\n",
    "2. Why do we need the `DataLoader`? Is it possible to iterate over the `Dataset` directly?"
   ]
  },
  {
   "cell_type": "code",
   "execution_count": 18,
   "metadata": {},
   "outputs": [
    {
     "name": "stdout",
     "output_type": "stream",
     "text": [
      "(tensor([0.4174]), tensor([1.8040]))\n",
      "800\n"
     ]
    }
   ],
   "source": [
    "from torch.utils.data import Dataset, DataLoader\n",
    "\n",
    "class CustomDataset(Dataset):\n",
    "    ###########################################################################\n",
    "    #                            START OF YOUR CODE                           #\n",
    "    ###########################################################################\n",
    "    def __init__(self, a, b):\n",
    "        self._a = a\n",
    "        self._b = b\n",
    "    def __getitem__(self, index):\n",
    "        return self._a[index], self._b[index]\n",
    "    \n",
    "    def __len__(self):\n",
    "        return len(self._a)\n",
    "    ###########################################################################\n",
    "    #                             END OF YOUR CODE                            #\n",
    "    ###########################################################################\n",
    "\n",
    "x_train_tensor = torch.from_numpy(x_train).float()\n",
    "y_train_tensor = torch.from_numpy(y_train).float()\n",
    "\n",
    "train_data = CustomDataset(x_train_tensor, y_train_tensor)\n",
    "print(train_data[0])\n",
    "print(len(train_data))"
   ]
  },
  {
   "cell_type": "markdown",
   "metadata": {},
   "source": [
    "1. According to pytorch documentation, it is not recommended to return CUDA tensors in multi-process loading because of many subtleties in using CUDA and sharing CUDA tensors in multiprocessing.\n",
    " Usually when assign the device later before callung to the model. \n",
    "\n",
    "2. Dataloader enable more than iteration over the data.\n",
    "   We can split the data to batches, shuffle the data, sample the data, loading the data in parallel using multiprocessing.<br>\n",
    "   \n",
    "we can iterrate over the dataset directly - \n",
    "   for i in range(len(train_data)):\n",
    "     sample = train_data[i]\n",
    "    "
   ]
  },
  {
   "cell_type": "code",
   "execution_count": 19,
   "metadata": {},
   "outputs": [],
   "source": [
    "train_loader = DataLoader(train_data, batch_size=200)"
   ]
  },
  {
   "cell_type": "markdown",
   "metadata": {},
   "source": [
    "## Better loss calculation\n",
    "Instead of directly calculating the loss, use the built-in MSE loss from `torch.nn`."
   ]
  },
  {
   "cell_type": "code",
   "execution_count": 20,
   "metadata": {},
   "outputs": [],
   "source": [
    "###########################################################################\n",
    "#                            START OF YOUR CODE                           #\n",
    "###########################################################################\n",
    "criterion = torch.nn.MSELoss()\n",
    "###########################################################################\n",
    "#                             END OF YOUR CODE                            #\n",
    "###########################################################################"
   ]
  },
  {
   "cell_type": "markdown",
   "metadata": {},
   "source": [
    "## Better parameter updates\n",
    "Use a suitable optimizer from `torch.optim`. Read the documentation and initiate your optimizer such that it can update the correct parameters. "
   ]
  },
  {
   "cell_type": "code",
   "execution_count": 21,
   "metadata": {},
   "outputs": [],
   "source": [
    "###########################################################################\n",
    "#                            START OF YOUR CODE                           #\n",
    "###########################################################################\n",
    "optimizer = torch.optim.SGD([a,b] , lr=lr)\n",
    "###########################################################################\n",
    "#                             END OF YOUR CODE                            #\n",
    "###########################################################################"
   ]
  },
  {
   "cell_type": "markdown",
   "metadata": {},
   "source": [
    "Before we continue, train your network again using the new building blocks (dataloader, optimizer and criterion) and make sure everything works. Explain how the batch size affects the training time in this example."
   ]
  },
  {
   "cell_type": "code",
   "execution_count": 22,
   "metadata": {},
   "outputs": [
    {
     "name": "stdout",
     "output_type": "stream",
     "text": [
      "tensor([1.9843], requires_grad=True) tensor([1.0173], requires_grad=True)\n"
     ]
    }
   ],
   "source": [
    "lr = 1e-1\n",
    "num_epochs = 1000\n",
    "a = torch.randn(1, requires_grad=True, dtype=torch.float).to(device)\n",
    "b = torch.randn(1, requires_grad=True, dtype=torch.float).to(device)\n",
    "\n",
    "for epoch in range(num_epochs):\n",
    "###########################################################################\n",
    "#                            START OF YOUR CODE                           #\n",
    "###########################################################################\n",
    "    for x,y in train_loader:\n",
    "        y_tag = x * a.T  + b\n",
    "        loss = criterion(y_tag, y)\n",
    "        loss.backward()\n",
    "        with torch.no_grad():\n",
    "            a -= a.grad * lr\n",
    "            b -= b.grad * lr\n",
    "\n",
    "            a.grad.zero_()\n",
    "            b.grad.zero_()\n",
    "        \n",
    "###########################################################################\n",
    "#                             END OF YOUR CODE                            #\n",
    "###########################################################################\n",
    "print(a, b)"
   ]
  },
  {
   "cell_type": "markdown",
   "metadata": {},
   "source": [
    "## Defining a model\n",
    "\n",
    "A model is represented by a python class that inherits from the [Module](https://pytorch.org/docs/stable/nn.html#torch.nn.Module) class from PyTorch. Every model requires two functions:\n",
    "1. `__init__(self)`: defines the parameters and layers of the model.\n",
    "2. `forward(self,x)`: defines the architecture of the model and outputs the prediction, given the input `x`.\n",
    "\n",
    "Create a linear regression model using a custom class. Make sure you read about `torch.nn.Parameter` before diving in."
   ]
  },
  {
   "cell_type": "code",
   "execution_count": 23,
   "metadata": {
    "code_folding": []
   },
   "outputs": [],
   "source": [
    "class ManualLinearRegression(nn.Module):\n",
    "###########################################################################\n",
    "    def __init__(self):\n",
    "        super(ManualLinearRegression, self).__init__()\n",
    "        self.linear = torch.nn.Linear(1, 1)\n",
    "        \n",
    "###########################################################################\n",
    "###########################################################################\n",
    "    def forward(self,x):\n",
    "        return self.linear(x)\n",
    "###########################################################################"
   ]
  },
  {
   "cell_type": "code",
   "execution_count": 24,
   "metadata": {},
   "outputs": [
    {
     "data": {
      "text/plain": [
       "OrderedDict([('linear.weight', tensor([[-0.1880]])),\n",
       "             ('linear.bias', tensor([0.1956]))])"
      ]
     },
     "execution_count": 24,
     "metadata": {},
     "output_type": "execute_result"
    }
   ],
   "source": [
    "model = ManualLinearRegression()\n",
    "model.state_dict()"
   ]
  },
  {
   "cell_type": "markdown",
   "metadata": {},
   "source": [
    "## Putting everything together\n",
    "\n",
    "Train your network again using the model you just defined. In addition, use both training and validation datasets to obtain the training and validation loss during training. Make sure you properly use `model.train()`, `model.eval()` and `torch.no_grad()`. Provide visualizations that demonstrate how well your network is converging. "
   ]
  },
  {
   "cell_type": "code",
   "execution_count": 25,
   "metadata": {},
   "outputs": [],
   "source": [
    "###########################################################################\n",
    "#                            START OF YOUR CODE                           #\n",
    "###########################################################################\n",
    "from torch.autograd import Variable\n",
    "\n",
    "\n",
    "optimizer = torch.optim.SGD(model.parameters(), lr=lr)\n",
    "criterion = torch.nn.MSELoss()\n",
    "\n",
    "for epoch in range(num_epochs):\n",
    "    for x,y in train_loader:\n",
    "        x = Variable(x).to(device)\n",
    "        y = Variable(y).to(device)\n",
    "        \n",
    "        optimizer.zero_grad()\n",
    "        \n",
    "        y_tag = model(x)\n",
    "        loss = criterion(y_tag, y)\n",
    "        loss.backward()\n",
    "        optimizer.step()\n",
    "        \n",
    "###########################################################################\n",
    "#                             END OF YOUR CODE                            #\n",
    "###########################################################################"
   ]
  },
  {
   "cell_type": "code",
   "execution_count": null,
   "metadata": {},
   "outputs": [],
   "source": []
  }
 ],
 "metadata": {
  "kernelspec": {
   "display_name": "Python 3",
   "language": "python",
   "name": "python3"
  },
  "language_info": {
   "codemirror_mode": {
    "name": "ipython",
    "version": 3
   },
   "file_extension": ".py",
   "mimetype": "text/x-python",
   "name": "python",
   "nbconvert_exporter": "python",
   "pygments_lexer": "ipython3",
   "version": "3.7.4"
  }
 },
 "nbformat": 4,
 "nbformat_minor": 4
}
