{
  "nbformat": 4,
  "nbformat_minor": 0,
  "metadata": {
    "kernelspec": {
      "name": "python3",
      "display_name": "Python 3"
    },
    "language_info": {
      "codemirror_mode": {
        "name": "ipython",
        "version": 3
      },
      "file_extension": ".py",
      "mimetype": "text/x-python",
      "name": "python",
      "nbconvert_exporter": "python",
      "pygments_lexer": "ipython3",
      "version": "3.7.0"
    },
    "colab": {
      "name": "DL_word_embedding_assignment.ipynb",
      "provenance": []
    },
    "accelerator": "GPU"
  },
  "cells": [
    {
      "cell_type": "markdown",
      "metadata": {
        "id": "E3UhbKu23RsL",
        "colab_type": "text"
      },
      "source": [
        "# Word Embedding - Home Assigment\n",
        "## Dr. Omri Allouche 2018. YData Deep Learning Course\n",
        "\n",
        "[Open in Google Colab](https://colab.research.google.com/github/omriallouche/deep_learning_course/blob/master/DL_word_embedding_assignment.ipynb)\n",
        "    \n",
        "    \n",
        "In this exercise, you'll use word vectors trained on a corpus of 380,000 lyrics of songs from MetroLyrics (https://www.kaggle.com/gyani95/380000-lyrics-from-metrolyrics).  \n",
        "The dataset contains these fields for each song, in CSV format:\n",
        "1. index\n",
        "1. song\n",
        "1. year\n",
        "1. artist\n",
        "1. genre\n",
        "1. lyrics\n",
        "\n",
        "Before doing this exercise, we recommend that you go over the \"Bag of words meets bag of popcorn\" tutorial (https://www.kaggle.com/c/word2vec-nlp-tutorial)\n",
        "\n",
        "Other recommended resources:\n",
        "- https://rare-technologies.com/word2vec-tutorial/\n",
        "- https://www.kaggle.com/pierremegret/gensim-word2vec-tutorial"
      ]
    },
    {
      "cell_type": "markdown",
      "metadata": {
        "id": "1ock7CX_3RsN",
        "colab_type": "text"
      },
      "source": [
        "### Train word vectors\n",
        "Train word vectors using the Skipgram Word2vec algorithm and the gensim package.\n",
        "Make sure you perform the following:\n",
        "- Tokenize words\n",
        "- Lowercase all words\n",
        "- Remove punctuation marks\n",
        "- Remove rare words\n",
        "- Remove stopwords\n",
        "\n",
        "Use 300 as the dimension of the word vectors. Try different context sizes."
      ]
    },
    {
      "cell_type": "code",
      "metadata": {
        "id": "RhmPqLwI3RsO",
        "colab_type": "code",
        "colab": {
          "base_uri": "https://localhost:8080/",
          "height": 85
        },
        "outputId": "ed58cbc9-07f9-4e6a-8651-446e4f0935a3"
      },
      "source": [
        "import pandas as pd\n",
        "import string\n",
        "import nltk \n",
        "from gensim.models import Word2Vec\n",
        "\n",
        "nltk.download('punkt')\n",
        "nltk.download('stopwords')\n",
        "from nltk.corpus import stopwords\n",
        "pd.set_option('display.width', -1)\n",
        "pd.set_option('max_colwidth', -1)\n",
        "\n",
        "stop_words = set(stopwords.words(\"english\"))\n"
      ],
      "execution_count": 19,
      "outputs": [
        {
          "output_type": "stream",
          "text": [
            "[nltk_data] Downloading package punkt to /root/nltk_data...\n",
            "[nltk_data]   Package punkt is already up-to-date!\n",
            "[nltk_data] Downloading package stopwords to /root/nltk_data...\n",
            "[nltk_data]   Package stopwords is already up-to-date!\n"
          ],
          "name": "stdout"
        }
      ]
    },
    {
      "cell_type": "code",
      "metadata": {
        "id": "CopC33vU4OtL",
        "colab_type": "code",
        "colab": {
          "base_uri": "https://localhost:8080/",
          "height": 34
        },
        "outputId": "3a6c7a35-06c6-473e-9a70-789312c898f1"
      },
      "source": [
        "from google.colab import drive\n",
        "drive.mount('/content/drive')"
      ],
      "execution_count": 3,
      "outputs": [
        {
          "output_type": "stream",
          "text": [
            "Mounted at /content/drive\n"
          ],
          "name": "stdout"
        }
      ]
    },
    {
      "cell_type": "code",
      "metadata": {
        "id": "tJUylIph4Fcs",
        "colab_type": "code",
        "colab": {
          "base_uri": "https://localhost:8080/",
          "height": 111
        },
        "outputId": "eadd7688-1632-44aa-b172-48a0fb51b2dc"
      },
      "source": [
        "lyrics_df = pd.read_csv(\"/content/drive/My Drive/lyrics.csv\", usecols=['genre', 'lyrics'])\n",
        "lyrics_df.sample(2)"
      ],
      "execution_count": 4,
      "outputs": [
        {
          "output_type": "execute_result",
          "data": {
            "text/html": [
              "<div>\n",
              "<style scoped>\n",
              "    .dataframe tbody tr th:only-of-type {\n",
              "        vertical-align: middle;\n",
              "    }\n",
              "\n",
              "    .dataframe tbody tr th {\n",
              "        vertical-align: top;\n",
              "    }\n",
              "\n",
              "    .dataframe thead th {\n",
              "        text-align: right;\n",
              "    }\n",
              "</style>\n",
              "<table border=\"1\" class=\"dataframe\">\n",
              "  <thead>\n",
              "    <tr style=\"text-align: right;\">\n",
              "      <th></th>\n",
              "      <th>genre</th>\n",
              "      <th>lyrics</th>\n",
              "    </tr>\n",
              "  </thead>\n",
              "  <tbody>\n",
              "    <tr>\n",
              "      <th>263852</th>\n",
              "      <td>Rock</td>\n",
              "      <td>This is just a business call\\nIt won't take no...</td>\n",
              "    </tr>\n",
              "    <tr>\n",
              "      <th>486</th>\n",
              "      <td>Other</td>\n",
              "      <td>bu benim meselem derin mesele\\nezelden ebede g...</td>\n",
              "    </tr>\n",
              "  </tbody>\n",
              "</table>\n",
              "</div>"
            ],
            "text/plain": [
              "        genre                                             lyrics\n",
              "263852   Rock  This is just a business call\\nIt won't take no...\n",
              "486     Other  bu benim meselem derin mesele\\nezelden ebede g..."
            ]
          },
          "metadata": {
            "tags": []
          },
          "execution_count": 4
        }
      ]
    },
    {
      "cell_type": "code",
      "metadata": {
        "id": "Sq_Y2su_7rQc",
        "colab_type": "code",
        "colab": {}
      },
      "source": [
        "lyrics_df = lyrics_df.where((pd.notnull(lyrics_df)), None)\n"
      ],
      "execution_count": 0,
      "outputs": []
    },
    {
      "cell_type": "code",
      "metadata": {
        "id": "FWH_CWdc4cpT",
        "colab_type": "code",
        "colab": {
          "base_uri": "https://localhost:8080/",
          "height": 136
        },
        "outputId": "3722f846-c5e0-49da-eac2-59fa77b8b941"
      },
      "source": [
        "lyrics_df.info()"
      ],
      "execution_count": 6,
      "outputs": [
        {
          "output_type": "stream",
          "text": [
            "<class 'pandas.core.frame.DataFrame'>\n",
            "RangeIndex: 362237 entries, 0 to 362236\n",
            "Data columns (total 2 columns):\n",
            "genre     362237 non-null object\n",
            "lyrics    266557 non-null object\n",
            "dtypes: object(2)\n",
            "memory usage: 5.5+ MB\n"
          ],
          "name": "stdout"
        }
      ]
    },
    {
      "cell_type": "code",
      "metadata": {
        "id": "gJLISvt774kD",
        "colab_type": "code",
        "colab": {}
      },
      "source": [
        "lyrics_df = lyrics_df[lyrics_df['lyrics'].notnull()]"
      ],
      "execution_count": 0,
      "outputs": []
    },
    {
      "cell_type": "code",
      "metadata": {
        "id": "DQzH8g-d4Zj2",
        "colab_type": "code",
        "colab": {}
      },
      "source": [
        "from nltk.tokenize import RegexpTokenizer\n",
        "tokenizer = RegexpTokenizer(r'\\w+')"
      ],
      "execution_count": 0,
      "outputs": []
    },
    {
      "cell_type": "code",
      "metadata": {
        "id": "rTn-8VWl5quM",
        "colab_type": "code",
        "colab": {}
      },
      "source": [
        "def cleanText(text):\n",
        "  tokens = tokenizer.tokenize(text.lower())\n",
        "  tokens = [token for token in tokens if token not in stop_words and token not in string.punctuation]\n",
        "  \n",
        "  return tokens if len(tokens) > 0 else None"
      ],
      "execution_count": 0,
      "outputs": []
    },
    {
      "cell_type": "code",
      "metadata": {
        "id": "AmIbguVy5iNk",
        "colab_type": "code",
        "colab": {}
      },
      "source": [
        "lyrics_df['clean_lyrics'] = lyrics_df['lyrics'].apply(cleanText)"
      ],
      "execution_count": 0,
      "outputs": []
    },
    {
      "cell_type": "code",
      "metadata": {
        "id": "fU6KyBAy-Mrj",
        "colab_type": "code",
        "colab": {}
      },
      "source": [
        "lyrics_df = lyrics_df[lyrics_df['clean_lyrics'].notnull()]"
      ],
      "execution_count": 0,
      "outputs": []
    },
    {
      "cell_type": "code",
      "metadata": {
        "id": "r4SM6U-T68FV",
        "colab_type": "code",
        "colab": {
          "base_uri": "https://localhost:8080/",
          "height": 278
        },
        "outputId": "f26ae232-f52f-40ba-d0b7-3e3c7bbe40ec"
      },
      "source": [
        "lyrics_df[['genre', 'clean_lyrics']].sample(3)"
      ],
      "execution_count": 18,
      "outputs": [
        {
          "output_type": "execute_result",
          "data": {
            "text/html": [
              "<div>\n",
              "<style scoped>\n",
              "    .dataframe tbody tr th:only-of-type {\n",
              "        vertical-align: middle;\n",
              "    }\n",
              "\n",
              "    .dataframe tbody tr th {\n",
              "        vertical-align: top;\n",
              "    }\n",
              "\n",
              "    .dataframe thead th {\n",
              "        text-align: right;\n",
              "    }\n",
              "</style>\n",
              "<table border=\"1\" class=\"dataframe\">\n",
              "  <thead>\n",
              "    <tr style=\"text-align: right;\">\n",
              "      <th></th>\n",
              "      <th>genre</th>\n",
              "      <th>clean_lyrics</th>\n",
              "    </tr>\n",
              "  </thead>\n",
              "  <tbody>\n",
              "    <tr>\n",
              "      <th>77154</th>\n",
              "      <td>Rock</td>\n",
              "      <td>[trying, take, life, away, forever, young, cannot, stay, every, corner, see, know, name, know, kind, promises, sign, life, away, living, backstreets, home, home, painted, walls, ever, known, guns, forever, battle, cry, flag, fly, high, every, day, try, drag, us, cry, anfer, done, crime, terrace, hear, crowd, roar, subway, hear, whisper, ragin, glory, years, never, thought, fears, fir, battle, cry, nothing, lasts, forever, seem, tell]</td>\n",
              "    </tr>\n",
              "    <tr>\n",
              "      <th>136420</th>\n",
              "      <td>Rock</td>\n",
              "      <td>[fellows, gather, round, let, give, good, advice, gonna, gonna, ask, better, think, twice, cheating, woman, something, never, even, thought, making, love, old, lady, making, love, making, love, old, lady, making, love, seen, many, fellows, fall, old, bag, thinking, woman, made, beat, treated, bad, oh, fellows, let, ask, sure, something, never, dreamed, making, love, old, lady, making, love, making, love, old, lady, making, love, know, women, give, excuse, trying, run, life, boy, yeah, reason, ask, question, used, old, way, decided, straighten, found, bit, late, oh, happened, something, never, ever, dreamed, somebody, making, love, old, lady, making, love, somebody, loving, old, lady, ...]</td>\n",
              "    </tr>\n",
              "    <tr>\n",
              "      <th>47978</th>\n",
              "      <td>Pop</td>\n",
              "      <td>[eres, mi, good, good, mi, good, good, ready, soy, una, chica, city, come, put, around, believe, sabes, muy, bien, que, tu, mirada, puede, enloquecer, sabes, tambiã, n, que, nuestro, amor, es, como, un, juego, de, ajedrez, puedes, ganar, puedes, perder, te, quiero, tener, todo, el, tiempo, en, mi, destino, en, el, vino, en, el, cafã, te, pienso, perder, eres, mi, good, good, baby, sabes, que, yo, soy, la, sangre, que, recorre, cada, espacio, de, tu, ser, hago, que, tu, corazã³n, haga, bum, bum, eres, mi, good, good, mi, good, good, eres, mi, good, good, right, mi, good, good, good, good, ...]</td>\n",
              "    </tr>\n",
              "  </tbody>\n",
              "</table>\n",
              "</div>"
            ],
            "text/plain": [
              "       genre                                                                                                                                                                                                                                                                                                                                                                                                                                                                                                                                                                                                                                                                                                               clean_lyrics\n",
              "77154   Rock  [trying, take, life, away, forever, young, cannot, stay, every, corner, see, know, name, know, kind, promises, sign, life, away, living, backstreets, home, home, painted, walls, ever, known, guns, forever, battle, cry, flag, fly, high, every, day, try, drag, us, cry, anfer, done, crime, terrace, hear, crowd, roar, subway, hear, whisper, ragin, glory, years, never, thought, fears, fir, battle, cry, nothing, lasts, forever, seem, tell]                                                                                                                                                                                                                                                                    \n",
              "136420  Rock  [fellows, gather, round, let, give, good, advice, gonna, gonna, ask, better, think, twice, cheating, woman, something, never, even, thought, making, love, old, lady, making, love, making, love, old, lady, making, love, seen, many, fellows, fall, old, bag, thinking, woman, made, beat, treated, bad, oh, fellows, let, ask, sure, something, never, dreamed, making, love, old, lady, making, love, making, love, old, lady, making, love, know, women, give, excuse, trying, run, life, boy, yeah, reason, ask, question, used, old, way, decided, straighten, found, bit, late, oh, happened, something, never, ever, dreamed, somebody, making, love, old, lady, making, love, somebody, loving, old, lady, ...]\n",
              "47978   Pop   [eres, mi, good, good, mi, good, good, ready, soy, una, chica, city, come, put, around, believe, sabes, muy, bien, que, tu, mirada, puede, enloquecer, sabes, tambiã, n, que, nuestro, amor, es, como, un, juego, de, ajedrez, puedes, ganar, puedes, perder, te, quiero, tener, todo, el, tiempo, en, mi, destino, en, el, vino, en, el, cafã, te, pienso, perder, eres, mi, good, good, baby, sabes, que, yo, soy, la, sangre, que, recorre, cada, espacio, de, tu, ser, hago, que, tu, corazã³n, haga, bum, bum, eres, mi, good, good, mi, good, good, eres, mi, good, good, right, mi, good, good, good, good, ...]                                                                                                  "
            ]
          },
          "metadata": {
            "tags": []
          },
          "execution_count": 18
        }
      ]
    },
    {
      "cell_type": "code",
      "metadata": {
        "id": "VziQL7mX4qsu",
        "colab_type": "code",
        "colab": {}
      },
      "source": [
        "FEATURE_VECTOR_SIZE = 300 \n",
        "WINDOW_SIZE = 3\n",
        "all_sentenses = lyrics_df[\"clean_lyrics\"].tolist()\n",
        "wevec_model = Word2Vec(all_sentenses, size=FEATURE_VECTOR_SIZE, window=WINDOW_SIZE, workers=4, min_count=3)"
      ],
      "execution_count": 0,
      "outputs": []
    },
    {
      "cell_type": "markdown",
      "metadata": {
        "id": "Za296Eg93RsQ",
        "colab_type": "text"
      },
      "source": [
        "### Review most similar words\n",
        "Get initial evaluation of the word vectors by analyzing the most similar words for a few interesting words in the text. \n",
        "\n",
        "Choose words yourself, and find the most similar words to them."
      ]
    },
    {
      "cell_type": "code",
      "metadata": {
        "id": "i2DbKOJb3RsQ",
        "colab_type": "code",
        "colab": {
          "base_uri": "https://localhost:8080/",
          "height": 122
        },
        "outputId": "b5fe7464-86dc-4754-e9ee-66d67fe8eba4"
      },
      "source": [
        ""
      ],
      "execution_count": 1,
      "outputs": [
        {
          "output_type": "stream",
          "text": [
            "Go to this URL in a browser: https://accounts.google.com/o/oauth2/auth?client_id=947318989803-6bn6qk8qdgf4n4g3pfee6491hc0brc4i.apps.googleusercontent.com&redirect_uri=urn%3Aietf%3Awg%3Aoauth%3A2.0%3Aoob&scope=email%20https%3A%2F%2Fwww.googleapis.com%2Fauth%2Fdocs.test%20https%3A%2F%2Fwww.googleapis.com%2Fauth%2Fdrive%20https%3A%2F%2Fwww.googleapis.com%2Fauth%2Fdrive.photos.readonly%20https%3A%2F%2Fwww.googleapis.com%2Fauth%2Fpeopleapi.readonly&response_type=code\n",
            "\n",
            "Enter your authorization code:\n",
            "··········\n",
            "Mounted at /content/drive\n"
          ],
          "name": "stdout"
        }
      ]
    },
    {
      "cell_type": "markdown",
      "metadata": {
        "id": "sYRBpD303RsT",
        "colab_type": "text"
      },
      "source": [
        "### Word Vectors Algebra\n",
        "We've seen in class examples of algebraic games on the word vectors (e.g. man - woman + king = queen ). \n",
        "\n",
        "Try a few vector algebra terms, and evaluate how well they work. Try to use the Cosine distance and compare it to the Euclidean distance."
      ]
    },
    {
      "cell_type": "code",
      "metadata": {
        "id": "rYsRL2eZ3RsT",
        "colab_type": "code",
        "colab": {}
      },
      "source": [
        ""
      ],
      "execution_count": 0,
      "outputs": []
    },
    {
      "cell_type": "markdown",
      "metadata": {
        "id": "k_CwD9Fk3RsV",
        "colab_type": "text"
      },
      "source": [
        "## Sentiment Analysis\n",
        "Estimate sentiment of words using word vectors.  \n",
        "In this section, we'll use the SemEval-2015 English Twitter Sentiment Lexicon.  \n",
        "The lexicon was used as an official test set in the SemEval-2015 shared Task #10: Subtask E, and contains a polarity score for words in range -1 (negative) to 1 (positive) - http://saifmohammad.com/WebPages/SCL.html#OPP"
      ]
    },
    {
      "cell_type": "markdown",
      "metadata": {
        "id": "jiBP0tHv3RsV",
        "colab_type": "text"
      },
      "source": [
        "Build a classifier for the sentiment of a word given its word vector. Split the data to a train and test sets, and report the model performance on both sets."
      ]
    },
    {
      "cell_type": "code",
      "metadata": {
        "id": "vggDl4sv3RsW",
        "colab_type": "code",
        "colab": {}
      },
      "source": [
        ""
      ],
      "execution_count": 0,
      "outputs": []
    },
    {
      "cell_type": "markdown",
      "metadata": {
        "id": "-kVlv7IX3RsY",
        "colab_type": "text"
      },
      "source": [
        "Use your trained model from the previous question to predict the sentiment score of words in the lyrics corpus that are not part of the original sentiment dataset. Review the words with the highest positive and negative sentiment. Do the results make sense?"
      ]
    },
    {
      "cell_type": "code",
      "metadata": {
        "id": "VgZUs39D3RsZ",
        "colab_type": "code",
        "colab": {}
      },
      "source": [
        ""
      ],
      "execution_count": 0,
      "outputs": []
    },
    {
      "cell_type": "markdown",
      "metadata": {
        "id": "PexZrC3Z3Rsb",
        "colab_type": "text"
      },
      "source": [
        "### Visualize Word Vectors\n",
        "In this section, you'll plot words on a 2D grid based on their inner similarity. We'll use the tSNE transformation to reduce dimensions from 300 to 2. You can get sample code from https://www.kaggle.com/pierremegret/gensim-word2vec-tutorial or other tutorials online.\n",
        "\n",
        "Perform the following:\n",
        "- Keep only the 3,000 most frequent words (after removing stopwords)\n",
        "- For this list, compute for each word its relative abundance in each of the genres\n",
        "- Compute the ratio between the proportion of each word in each genre and the proportion of the word in the entire corpus (the background distribution)\n",
        "- Pick the top 50 words for each genre. These words give good indication for that genre. Join the words from all genres into a single list of top significant words. \n",
        "- Compute tSNE transformation to 2D for all words, based on their word vectors\n",
        "- Plot the list of the top significant words in 2D. Next to each word output its text. The color of each point should indicate the genre for which it is most significant.\n",
        "\n",
        "You might prefer to use a different number of points or a slightly different methodology for improved results.  \n",
        "Analyze the results."
      ]
    },
    {
      "cell_type": "code",
      "metadata": {
        "id": "njRjVeOo3Rsb",
        "colab_type": "code",
        "colab": {}
      },
      "source": [
        ""
      ],
      "execution_count": 0,
      "outputs": []
    },
    {
      "cell_type": "markdown",
      "metadata": {
        "id": "VrrV48nU3Rsd",
        "colab_type": "text"
      },
      "source": [
        "## Text Classification\n",
        "In this section, you'll build a text classifier, determining the genre of a song based on its lyrics."
      ]
    },
    {
      "cell_type": "markdown",
      "metadata": {
        "id": "ib5DLejw3Rsd",
        "colab_type": "text"
      },
      "source": [
        "### Text classification using Bag-of-Words\n",
        "Build a Naive Bayes classifier based on the bag of Words.  \n",
        "You will need to divide your dataset into a train and test sets."
      ]
    },
    {
      "cell_type": "code",
      "metadata": {
        "id": "lxmPDfzs3Rse",
        "colab_type": "code",
        "colab": {}
      },
      "source": [
        ""
      ],
      "execution_count": 0,
      "outputs": []
    },
    {
      "cell_type": "markdown",
      "metadata": {
        "id": "xbGekJtg3Rsf",
        "colab_type": "text"
      },
      "source": [
        "Show the confusion matrix."
      ]
    },
    {
      "cell_type": "code",
      "metadata": {
        "id": "1YWleqZZ3Rsg",
        "colab_type": "code",
        "colab": {}
      },
      "source": [
        ""
      ],
      "execution_count": 0,
      "outputs": []
    },
    {
      "cell_type": "markdown",
      "metadata": {
        "id": "mILK18503Rsh",
        "colab_type": "text"
      },
      "source": [
        "Show the classification report - precision, recall, f1 for each class."
      ]
    },
    {
      "cell_type": "code",
      "metadata": {
        "id": "Wk6gn2V83Rsi",
        "colab_type": "code",
        "colab": {}
      },
      "source": [
        ""
      ],
      "execution_count": 0,
      "outputs": []
    },
    {
      "cell_type": "markdown",
      "metadata": {
        "id": "kMkFvrqg3Rsl",
        "colab_type": "text"
      },
      "source": [
        "### Text classification using Word Vectors\n",
        "#### Average word vectors\n",
        "Do the same, using a classifier that averages the word vectors of words in the document."
      ]
    },
    {
      "cell_type": "code",
      "metadata": {
        "id": "ZF4dN0lX3Rsm",
        "colab_type": "code",
        "colab": {}
      },
      "source": [
        ""
      ],
      "execution_count": 0,
      "outputs": []
    },
    {
      "cell_type": "markdown",
      "metadata": {
        "id": "CT37MjaM3Rsn",
        "colab_type": "text"
      },
      "source": [
        "#### TfIdf Weighting\n",
        "Do the same, using a classifier that averages the word vectors of words in the document, weighting each word by its TfIdf.\n"
      ]
    },
    {
      "cell_type": "code",
      "metadata": {
        "id": "YUbSsXYi3Rso",
        "colab_type": "code",
        "colab": {}
      },
      "source": [
        ""
      ],
      "execution_count": 0,
      "outputs": []
    },
    {
      "cell_type": "markdown",
      "metadata": {
        "id": "ZJJ0Zrx23Rsp",
        "colab_type": "text"
      },
      "source": [
        "### Text classification using ConvNet\n",
        "Do the same, using a ConvNet.  \n",
        "The ConvNet should get as input a 2D matrix where each column is an embedding vector of a single word, and words are in order. Use zero padding so that all matrices have a similar length.  \n",
        "Some songs might be very long. Trim them so you keep a maximum of 128 words (after cleaning stop words and rare words).  \n",
        "Initialize the embedding layer using the word vectors that you've trained before, but allow them to change during training.  \n",
        "\n",
        "Extra: Try training the ConvNet with 2 slight modifications:\n",
        "1. freezing the the weights trained using Word2vec (preventing it from updating)\n",
        "1. random initialization of the embedding layer"
      ]
    },
    {
      "cell_type": "markdown",
      "metadata": {
        "id": "01FKqgeL3Rsp",
        "colab_type": "text"
      },
      "source": [
        "You are encouraged to try this question on your own.  \n",
        "\n",
        "You might prefer to get ideas from the paper \"Convolutional Neural Networks for Sentence Classification\" (Kim 2014, [link](https://arxiv.org/abs/1408.5882)).\n",
        "\n",
        "There are several implementations of the paper code in PyTorch online (see for example [this repo](https://github.com/prakashpandey9/Text-Classification-Pytorch) for a PyTorch implementation of CNN and other architectures for text classification). If you get stuck, they might provide you with a reference for your own code."
      ]
    },
    {
      "cell_type": "code",
      "metadata": {
        "id": "MxOIg8gc3Rsq",
        "colab_type": "code",
        "colab": {}
      },
      "source": [
        ""
      ],
      "execution_count": 0,
      "outputs": []
    }
  ]
}