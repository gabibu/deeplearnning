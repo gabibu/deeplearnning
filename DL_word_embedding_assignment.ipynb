{
  "nbformat": 4,
  "nbformat_minor": 0,
  "metadata": {
    "kernelspec": {
      "name": "python3",
      "display_name": "Python 3"
    },
    "language_info": {
      "codemirror_mode": {
        "name": "ipython",
        "version": 3
      },
      "file_extension": ".py",
      "mimetype": "text/x-python",
      "name": "python",
      "nbconvert_exporter": "python",
      "pygments_lexer": "ipython3",
      "version": "3.7.0"
    },
    "colab": {
      "name": "DL_word_embedding_assignment.ipynb",
      "provenance": []
    },
    "accelerator": "GPU"
  },
  "cells": [
    {
      "cell_type": "markdown",
      "metadata": {
        "id": "E3UhbKu23RsL",
        "colab_type": "text"
      },
      "source": [
        "# Word Embedding - Home Assigment\n",
        "## Dr. Omri Allouche 2018. YData Deep Learning Course\n",
        "\n",
        "[Open in Google Colab](https://colab.research.google.com/github/omriallouche/deep_learning_course/blob/master/DL_word_embedding_assignment.ipynb)\n",
        "    \n",
        "    \n",
        "In this exercise, you'll use word vectors trained on a corpus of 380,000 lyrics of songs from MetroLyrics (https://www.kaggle.com/gyani95/380000-lyrics-from-metrolyrics).  \n",
        "The dataset contains these fields for each song, in CSV format:\n",
        "1. index\n",
        "1. song\n",
        "1. year\n",
        "1. artist\n",
        "1. genre\n",
        "1. lyrics\n",
        "\n",
        "Before doing this exercise, we recommend that you go over the \"Bag of words meets bag of popcorn\" tutorial (https://www.kaggle.com/c/word2vec-nlp-tutorial)\n",
        "\n",
        "Other recommended resources:\n",
        "- https://rare-technologies.com/word2vec-tutorial/\n",
        "- https://www.kaggle.com/pierremegret/gensim-word2vec-tutorial"
      ]
    },
    {
      "cell_type": "markdown",
      "metadata": {
        "id": "1ock7CX_3RsN",
        "colab_type": "text"
      },
      "source": [
        "### Train word vectors\n",
        "Train word vectors using the Skipgram Word2vec algorithm and the gensim package.\n",
        "Make sure you perform the following:\n",
        "- Tokenize words\n",
        "- Lowercase all words\n",
        "- Remove punctuation marks\n",
        "- Remove rare words\n",
        "- Remove stopwords\n",
        "\n",
        "Use 300 as the dimension of the word vectors. Try different context sizes."
      ]
    },
    {
      "cell_type": "code",
      "metadata": {
        "id": "6JOvvKt4GkRH",
        "colab_type": "code",
        "outputId": "313668f9-cc31-49f9-e33a-d177c91784a7",
        "colab": {
          "base_uri": "https://localhost:8080/",
          "height": 751
        }
      },
      "source": [
        "!pip install livelossplot"
      ],
      "execution_count": 1,
      "outputs": [
        {
          "output_type": "stream",
          "text": [
            "Collecting livelossplot\n",
            "  Downloading https://files.pythonhosted.org/packages/8e/f6/0618c30078f9c1e4b2cd84f1ea6bb70c6615070468b75b0d934326107bcd/livelossplot-0.4.1-py3-none-any.whl\n",
            "Requirement already satisfied: notebook in /usr/local/lib/python3.6/dist-packages (from livelossplot) (5.2.2)\n",
            "Requirement already satisfied: matplotlib in /usr/local/lib/python3.6/dist-packages (from livelossplot) (3.1.1)\n",
            "Requirement already satisfied: nbconvert in /usr/local/lib/python3.6/dist-packages (from notebook->livelossplot) (5.6.0)\n",
            "Requirement already satisfied: nbformat in /usr/local/lib/python3.6/dist-packages (from notebook->livelossplot) (4.4.0)\n",
            "Requirement already satisfied: jupyter-client in /usr/local/lib/python3.6/dist-packages (from notebook->livelossplot) (5.3.4)\n",
            "Requirement already satisfied: tornado>=4 in /usr/local/lib/python3.6/dist-packages (from notebook->livelossplot) (4.5.3)\n",
            "Requirement already satisfied: ipykernel in /usr/local/lib/python3.6/dist-packages (from notebook->livelossplot) (4.6.1)\n",
            "Requirement already satisfied: traitlets>=4.2.1 in /usr/local/lib/python3.6/dist-packages (from notebook->livelossplot) (4.3.3)\n",
            "Requirement already satisfied: jinja2 in /usr/local/lib/python3.6/dist-packages (from notebook->livelossplot) (2.10.3)\n",
            "Requirement already satisfied: ipython-genutils in /usr/local/lib/python3.6/dist-packages (from notebook->livelossplot) (0.2.0)\n",
            "Requirement already satisfied: terminado>=0.3.3; sys_platform != \"win32\" in /usr/local/lib/python3.6/dist-packages (from notebook->livelossplot) (0.8.2)\n",
            "Requirement already satisfied: jupyter-core in /usr/local/lib/python3.6/dist-packages (from notebook->livelossplot) (4.6.0)\n",
            "Requirement already satisfied: numpy>=1.11 in /usr/local/lib/python3.6/dist-packages (from matplotlib->livelossplot) (1.17.3)\n",
            "Requirement already satisfied: cycler>=0.10 in /usr/local/lib/python3.6/dist-packages (from matplotlib->livelossplot) (0.10.0)\n",
            "Requirement already satisfied: pyparsing!=2.0.4,!=2.1.2,!=2.1.6,>=2.0.1 in /usr/local/lib/python3.6/dist-packages (from matplotlib->livelossplot) (2.4.2)\n",
            "Requirement already satisfied: python-dateutil>=2.1 in /usr/local/lib/python3.6/dist-packages (from matplotlib->livelossplot) (2.6.1)\n",
            "Requirement already satisfied: kiwisolver>=1.0.1 in /usr/local/lib/python3.6/dist-packages (from matplotlib->livelossplot) (1.1.0)\n",
            "Requirement already satisfied: mistune<2,>=0.8.1 in /usr/local/lib/python3.6/dist-packages (from nbconvert->notebook->livelossplot) (0.8.4)\n",
            "Requirement already satisfied: bleach in /usr/local/lib/python3.6/dist-packages (from nbconvert->notebook->livelossplot) (3.1.0)\n",
            "Requirement already satisfied: defusedxml in /usr/local/lib/python3.6/dist-packages (from nbconvert->notebook->livelossplot) (0.6.0)\n",
            "Requirement already satisfied: pandocfilters>=1.4.1 in /usr/local/lib/python3.6/dist-packages (from nbconvert->notebook->livelossplot) (1.4.2)\n",
            "Requirement already satisfied: testpath in /usr/local/lib/python3.6/dist-packages (from nbconvert->notebook->livelossplot) (0.4.2)\n",
            "Requirement already satisfied: pygments in /usr/local/lib/python3.6/dist-packages (from nbconvert->notebook->livelossplot) (2.1.3)\n",
            "Requirement already satisfied: entrypoints>=0.2.2 in /usr/local/lib/python3.6/dist-packages (from nbconvert->notebook->livelossplot) (0.3)\n",
            "Requirement already satisfied: jsonschema!=2.5.0,>=2.4 in /usr/local/lib/python3.6/dist-packages (from nbformat->notebook->livelossplot) (2.6.0)\n",
            "Requirement already satisfied: pyzmq>=13 in /usr/local/lib/python3.6/dist-packages (from jupyter-client->notebook->livelossplot) (17.0.0)\n",
            "Requirement already satisfied: ipython>=4.0.0 in /usr/local/lib/python3.6/dist-packages (from ipykernel->notebook->livelossplot) (5.5.0)\n",
            "Requirement already satisfied: decorator in /usr/local/lib/python3.6/dist-packages (from traitlets>=4.2.1->notebook->livelossplot) (4.4.0)\n",
            "Requirement already satisfied: six in /usr/local/lib/python3.6/dist-packages (from traitlets>=4.2.1->notebook->livelossplot) (1.12.0)\n",
            "Requirement already satisfied: MarkupSafe>=0.23 in /usr/local/lib/python3.6/dist-packages (from jinja2->notebook->livelossplot) (1.1.1)\n",
            "Requirement already satisfied: ptyprocess; os_name != \"nt\" in /usr/local/lib/python3.6/dist-packages (from terminado>=0.3.3; sys_platform != \"win32\"->notebook->livelossplot) (0.6.0)\n",
            "Requirement already satisfied: setuptools in /usr/local/lib/python3.6/dist-packages (from kiwisolver>=1.0.1->matplotlib->livelossplot) (41.4.0)\n",
            "Requirement already satisfied: webencodings in /usr/local/lib/python3.6/dist-packages (from bleach->nbconvert->notebook->livelossplot) (0.5.1)\n",
            "Requirement already satisfied: pickleshare in /usr/local/lib/python3.6/dist-packages (from ipython>=4.0.0->ipykernel->notebook->livelossplot) (0.7.5)\n",
            "Requirement already satisfied: pexpect; sys_platform != \"win32\" in /usr/local/lib/python3.6/dist-packages (from ipython>=4.0.0->ipykernel->notebook->livelossplot) (4.7.0)\n",
            "Requirement already satisfied: prompt-toolkit<2.0.0,>=1.0.4 in /usr/local/lib/python3.6/dist-packages (from ipython>=4.0.0->ipykernel->notebook->livelossplot) (1.0.18)\n",
            "Requirement already satisfied: simplegeneric>0.8 in /usr/local/lib/python3.6/dist-packages (from ipython>=4.0.0->ipykernel->notebook->livelossplot) (0.8.1)\n",
            "Requirement already satisfied: wcwidth in /usr/local/lib/python3.6/dist-packages (from prompt-toolkit<2.0.0,>=1.0.4->ipython>=4.0.0->ipykernel->notebook->livelossplot) (0.1.7)\n",
            "Installing collected packages: livelossplot\n",
            "Successfully installed livelossplot-0.4.1\n"
          ],
          "name": "stdout"
        }
      ]
    },
    {
      "cell_type": "code",
      "metadata": {
        "id": "RhmPqLwI3RsO",
        "colab_type": "code",
        "outputId": "3c629d52-7c1c-42f2-b03b-7a9ad84445f0",
        "colab": {
          "base_uri": "https://localhost:8080/",
          "height": 85
        }
      },
      "source": [
        "import pandas as pd\n",
        "import string\n",
        "import nltk \n",
        "from gensim.models import Word2Vec\n",
        "import re\n",
        "import torch\n",
        "import numpy as np\n",
        "from livelossplot import PlotLosses\n",
        "nltk.download('punkt')\n",
        "nltk.download('stopwords')\n",
        "from nltk.corpus import stopwords\n",
        "pd.set_option('display.width', -1)\n",
        "pd.set_option('max_colwidth', -1)\n",
        "from sklearn.model_selection import train_test_split\n",
        "from xgboost import XGBClassifier,XGBRegressor\n",
        "from sklearn.metrics import accuracy_score\n",
        "from sklearn.ensemble import RandomForestRegressor\n",
        "import seaborn as sns\n",
        "from sklearn.decomposition import PCA\n",
        "import matplotlib.pyplot as plt\n",
        "from sklearn.manifold import TSNE\n",
        "from sklearn.feature_extraction.text import CountVectorizer\n",
        "from sklearn.naive_bayes import MultinomialNB\n",
        "from sklearn.metrics import confusion_matrix\n",
        "from sklearn.metrics import classification_report\n",
        "from sklearn import preprocessing\n",
        "from sklearn.preprocessing import MinMaxScaler\n",
        "from sklearn.metrics import confusion_matrix,classification_report\n",
        "\n",
        "stop_words = set(stopwords.words(\"english\"))\n"
      ],
      "execution_count": 46,
      "outputs": [
        {
          "output_type": "stream",
          "text": [
            "[nltk_data] Downloading package punkt to /root/nltk_data...\n",
            "[nltk_data]   Package punkt is already up-to-date!\n",
            "[nltk_data] Downloading package stopwords to /root/nltk_data...\n",
            "[nltk_data]   Package stopwords is already up-to-date!\n"
          ],
          "name": "stdout"
        }
      ]
    },
    {
      "cell_type": "code",
      "metadata": {
        "id": "V7KzfHMq2HUM",
        "colab_type": "code",
        "colab": {}
      },
      "source": [
        "def plt_confusion_matrix(cm, class_names, normalize =False):\n",
        "  \n",
        "  if normalize:\n",
        "        cm = cm.astype('float') / cm.sum(axis=1)[:, np.newaxis]\n",
        "      \n",
        "  \n",
        "  df_cm = pd.DataFrame(cm, index = [i for i in class_names],\n",
        "                    columns = class_names)\n",
        "  \n",
        "  plt.figure(figsize = (20,14))\n",
        "  sns.heatmap(df_cm, annot=True)"
      ],
      "execution_count": 0,
      "outputs": []
    },
    {
      "cell_type": "code",
      "metadata": {
        "id": "CopC33vU4OtL",
        "colab_type": "code",
        "outputId": "e004dada-312c-4a34-ff64-878956a1ece6",
        "colab": {
          "base_uri": "https://localhost:8080/",
          "height": 122
        }
      },
      "source": [
        "from google.colab import drive\n",
        "drive.mount('/content/drive')"
      ],
      "execution_count": 3,
      "outputs": [
        {
          "output_type": "stream",
          "text": [
            "Go to this URL in a browser: https://accounts.google.com/o/oauth2/auth?client_id=947318989803-6bn6qk8qdgf4n4g3pfee6491hc0brc4i.apps.googleusercontent.com&redirect_uri=urn%3Aietf%3Awg%3Aoauth%3A2.0%3Aoob&scope=email%20https%3A%2F%2Fwww.googleapis.com%2Fauth%2Fdocs.test%20https%3A%2F%2Fwww.googleapis.com%2Fauth%2Fdrive%20https%3A%2F%2Fwww.googleapis.com%2Fauth%2Fdrive.photos.readonly%20https%3A%2F%2Fwww.googleapis.com%2Fauth%2Fpeopleapi.readonly&response_type=code\n",
            "\n",
            "Enter your authorization code:\n",
            "··········\n",
            "Mounted at /content/drive\n"
          ],
          "name": "stdout"
        }
      ]
    },
    {
      "cell_type": "code",
      "metadata": {
        "id": "tJUylIph4Fcs",
        "colab_type": "code",
        "outputId": "f13d63b7-227e-44d4-9916-180cb00e3a30",
        "colab": {
          "base_uri": "https://localhost:8080/",
          "height": 230
        }
      },
      "source": [
        "lyrics_df = pd.read_csv(\"/content/drive/My Drive/lyrics.csv\", usecols=['genre', 'lyrics'])\n",
        "lyrics_df.sample(2)"
      ],
      "execution_count": 4,
      "outputs": [
        {
          "output_type": "execute_result",
          "data": {
            "text/html": [
              "<div>\n",
              "<style scoped>\n",
              "    .dataframe tbody tr th:only-of-type {\n",
              "        vertical-align: middle;\n",
              "    }\n",
              "\n",
              "    .dataframe tbody tr th {\n",
              "        vertical-align: top;\n",
              "    }\n",
              "\n",
              "    .dataframe thead th {\n",
              "        text-align: right;\n",
              "    }\n",
              "</style>\n",
              "<table border=\"1\" class=\"dataframe\">\n",
              "  <thead>\n",
              "    <tr style=\"text-align: right;\">\n",
              "      <th></th>\n",
              "      <th>genre</th>\n",
              "      <th>lyrics</th>\n",
              "    </tr>\n",
              "  </thead>\n",
              "  <tbody>\n",
              "    <tr>\n",
              "      <th>352303</th>\n",
              "      <td>Rock</td>\n",
              "      <td>E-d-see-bb e-d-see-bb e-d-see-bb e-d-see-bb\\nE-g-see-a\\nE someone please g save us\\nSee save us from our a wicked little selves\\nE we're bent or cour-g-ageous\\nSee we're drifting so it's a hard for me to tell\\nI want to make you mine all of the time\\nI want to be your ? man\\nGet outta my head or into my bed.\\nGet outta my head or into my bed.\\nEi d had a see dream about bb you last e night d-see-bb\\nEi d had a see dream about bb you last e night d-see-bb\\nYeah we were contageous\\nWe were both covered up with bees\\nI felt so outrageous\\nThe hip priest man, he ain't got nothing on me\\nI want to make you mine all of the time\\nI want to be your ? man\\nGet outta my head or into my bed.\\nGet outta my head or into my bed.\\nI had a dream about you last night\\nI had a dream about you last night</td>\n",
              "    </tr>\n",
              "    <tr>\n",
              "      <th>83542</th>\n",
              "      <td>Rock</td>\n",
              "      <td>Deep down this boy can feel too much\\nHis flesh is weak he needs the satin crown\\nGot balls intact despite the fact\\nHe'll curse his luck, his painful guts\\nScrewed up the path he followed\\nAlways the pretty songs for us to sing along and bust up\\nThis is the worst news I have heard alone and disturbed now\\nHe's divine this time\\nWhen will you listen?\\nNo fake what does it take when will you listen\\nWhen will you learn?\\nYou fuss you fight I don't think it's right\\nThat you pushed this man so deep down this hole\\nCome back\\nCome back\\nAlways the pretty songs for us to sing along and get fucked up</td>\n",
              "    </tr>\n",
              "  </tbody>\n",
              "</table>\n",
              "</div>"
            ],
            "text/plain": [
              "       genre                                                                                                                                                                                                                                                                                                                                                                                                                                                                                                                                                                                                                                                                                                                                                                                                                        lyrics\n",
              "352303  Rock  E-d-see-bb e-d-see-bb e-d-see-bb e-d-see-bb\\nE-g-see-a\\nE someone please g save us\\nSee save us from our a wicked little selves\\nE we're bent or cour-g-ageous\\nSee we're drifting so it's a hard for me to tell\\nI want to make you mine all of the time\\nI want to be your ? man\\nGet outta my head or into my bed.\\nGet outta my head or into my bed.\\nEi d had a see dream about bb you last e night d-see-bb\\nEi d had a see dream about bb you last e night d-see-bb\\nYeah we were contageous\\nWe were both covered up with bees\\nI felt so outrageous\\nThe hip priest man, he ain't got nothing on me\\nI want to make you mine all of the time\\nI want to be your ? man\\nGet outta my head or into my bed.\\nGet outta my head or into my bed.\\nI had a dream about you last night\\nI had a dream about you last night\n",
              "83542   Rock  Deep down this boy can feel too much\\nHis flesh is weak he needs the satin crown\\nGot balls intact despite the fact\\nHe'll curse his luck, his painful guts\\nScrewed up the path he followed\\nAlways the pretty songs for us to sing along and bust up\\nThis is the worst news I have heard alone and disturbed now\\nHe's divine this time\\nWhen will you listen?\\nNo fake what does it take when will you listen\\nWhen will you learn?\\nYou fuss you fight I don't think it's right\\nThat you pushed this man so deep down this hole\\nCome back\\nCome back\\nAlways the pretty songs for us to sing along and get fucked up                                                                                                                                                                                                 "
            ]
          },
          "metadata": {
            "tags": []
          },
          "execution_count": 4
        }
      ]
    },
    {
      "cell_type": "code",
      "metadata": {
        "id": "Sq_Y2su_7rQc",
        "colab_type": "code",
        "colab": {}
      },
      "source": [
        "lyrics_df = lyrics_df.where((pd.notnull(lyrics_df)), None)"
      ],
      "execution_count": 0,
      "outputs": []
    },
    {
      "cell_type": "code",
      "metadata": {
        "id": "FWH_CWdc4cpT",
        "colab_type": "code",
        "outputId": "8a3c5e37-840b-4acc-8b8c-17271815e0c2",
        "colab": {
          "base_uri": "https://localhost:8080/",
          "height": 136
        }
      },
      "source": [
        "lyrics_df.info()"
      ],
      "execution_count": 6,
      "outputs": [
        {
          "output_type": "stream",
          "text": [
            "<class 'pandas.core.frame.DataFrame'>\n",
            "RangeIndex: 362237 entries, 0 to 362236\n",
            "Data columns (total 2 columns):\n",
            "genre     362237 non-null object\n",
            "lyrics    266557 non-null object\n",
            "dtypes: object(2)\n",
            "memory usage: 5.5+ MB\n"
          ],
          "name": "stdout"
        }
      ]
    },
    {
      "cell_type": "code",
      "metadata": {
        "id": "gJLISvt774kD",
        "colab_type": "code",
        "colab": {}
      },
      "source": [
        "lyrics_df = lyrics_df[lyrics_df['lyrics'].notnull()]"
      ],
      "execution_count": 0,
      "outputs": []
    },
    {
      "cell_type": "code",
      "metadata": {
        "id": "DQzH8g-d4Zj2",
        "colab_type": "code",
        "colab": {}
      },
      "source": [
        "from nltk.tokenize import RegexpTokenizer\n",
        "tokenizer = RegexpTokenizer(r'\\w+')"
      ],
      "execution_count": 0,
      "outputs": []
    },
    {
      "cell_type": "code",
      "metadata": {
        "id": "rTn-8VWl5quM",
        "colab_type": "code",
        "colab": {}
      },
      "source": [
        "def cleanText(text):\n",
        "  text = text.lower()\n",
        "  text = re.sub(r'\\d', '#', text) \n",
        "  text = re.sub(r\"\\s+\",\" \", text, flags = re.I)\n",
        "  tokens = tokenizer.tokenize(text.lower())\n",
        "  tokens = [token for token in tokens if token not in stop_words and token not in string.punctuation]\n",
        "  \n",
        "  return tokens if len(tokens) > 0 else None"
      ],
      "execution_count": 0,
      "outputs": []
    },
    {
      "cell_type": "code",
      "metadata": {
        "id": "AmIbguVy5iNk",
        "colab_type": "code",
        "colab": {}
      },
      "source": [
        "lyrics_df['clean_lyrics'] = lyrics_df['lyrics'].apply(cleanText)"
      ],
      "execution_count": 0,
      "outputs": []
    },
    {
      "cell_type": "code",
      "metadata": {
        "id": "fU6KyBAy-Mrj",
        "colab_type": "code",
        "colab": {}
      },
      "source": [
        "lyrics_df = lyrics_df[lyrics_df['clean_lyrics'].notnull()]"
      ],
      "execution_count": 0,
      "outputs": []
    },
    {
      "cell_type": "code",
      "metadata": {
        "id": "r4SM6U-T68FV",
        "colab_type": "code",
        "outputId": "78b62d33-2332-42e9-bd2f-e0f110a6b234",
        "colab": {
          "base_uri": "https://localhost:8080/",
          "height": 210
        }
      },
      "source": [
        "lyrics_df[['genre', 'clean_lyrics']].sample(3)"
      ],
      "execution_count": 14,
      "outputs": [
        {
          "output_type": "execute_result",
          "data": {
            "text/html": [
              "<div>\n",
              "<style scoped>\n",
              "    .dataframe tbody tr th:only-of-type {\n",
              "        vertical-align: middle;\n",
              "    }\n",
              "\n",
              "    .dataframe tbody tr th {\n",
              "        vertical-align: top;\n",
              "    }\n",
              "\n",
              "    .dataframe thead th {\n",
              "        text-align: right;\n",
              "    }\n",
              "</style>\n",
              "<table border=\"1\" class=\"dataframe\">\n",
              "  <thead>\n",
              "    <tr style=\"text-align: right;\">\n",
              "      <th></th>\n",
              "      <th>genre</th>\n",
              "      <th>clean_lyrics</th>\n",
              "    </tr>\n",
              "  </thead>\n",
              "  <tbody>\n",
              "    <tr>\n",
              "      <th>233006</th>\n",
              "      <td>R&amp;B</td>\n",
              "      <td>[written, jon, john, babyface, r, phillips, performed, diana, ross, wanna, know, style, kinda, style, makes, woman, wanna, lose, mind, wanna, know, make, worth, time, like, rest, give, best, fall, behind, cause, wanna, know, turns, keep, lovin, strong, cause, ask, cause, roni, give, need, think, could, swing, little, time, swing, need, think, could, swing, little, time, swing, need, thing, find, man, gives, love, kind, cool, takie, night, candlelight, want, one, never, cause, wanna, know, turns, keep, lovin, strong, cause, ask, cause, roni, give, need, hook, times, cause, wanna, know, turns, keep, lovin, strong, cause, ask, cause, roni, give, need, swing, swing, ...]</td>\n",
              "    </tr>\n",
              "    <tr>\n",
              "      <th>43779</th>\n",
              "      <td>Rock</td>\n",
              "      <td>[travel, searching, home, found, stopping, goin, hunting, hunter, bring, back, goods, know, thought, could, organize, freedom, american, figured, could, smell, left, complete, mission, leaving, behind, going, hunting, hunter, hunter, hunter, know, know, know, know, know, know, know]</td>\n",
              "    </tr>\n",
              "    <tr>\n",
              "      <th>148392</th>\n",
              "      <td>Rock</td>\n",
              "      <td>[instrumental]</td>\n",
              "    </tr>\n",
              "  </tbody>\n",
              "</table>\n",
              "</div>"
            ],
            "text/plain": [
              "       genre                                                                                                                                                                                                                                                                                                                                                                                                                                                                                                                                                                                                                                                                                         clean_lyrics\n",
              "233006  R&B   [written, jon, john, babyface, r, phillips, performed, diana, ross, wanna, know, style, kinda, style, makes, woman, wanna, lose, mind, wanna, know, make, worth, time, like, rest, give, best, fall, behind, cause, wanna, know, turns, keep, lovin, strong, cause, ask, cause, roni, give, need, think, could, swing, little, time, swing, need, think, could, swing, little, time, swing, need, thing, find, man, gives, love, kind, cool, takie, night, candlelight, want, one, never, cause, wanna, know, turns, keep, lovin, strong, cause, ask, cause, roni, give, need, hook, times, cause, wanna, know, turns, keep, lovin, strong, cause, ask, cause, roni, give, need, swing, swing, ...]\n",
              "43779   Rock  [travel, searching, home, found, stopping, goin, hunting, hunter, bring, back, goods, know, thought, could, organize, freedom, american, figured, could, smell, left, complete, mission, leaving, behind, going, hunting, hunter, hunter, hunter, know, know, know, know, know, know, know]                                                                                                                                                                                                                                                                                                                                                                                                        \n",
              "148392  Rock  [instrumental]                                                                                                                                                                                                                                                                                                                                                                                                                                                                                                                                                                                                                                                                                     "
            ]
          },
          "metadata": {
            "tags": []
          },
          "execution_count": 14
        }
      ]
    },
    {
      "cell_type": "code",
      "metadata": {
        "id": "VziQL7mX4qsu",
        "colab_type": "code",
        "colab": {}
      },
      "source": [
        "FEATURE_VECTOR_SIZE = 300 \n",
        "WINDOW_SIZE = 5\n",
        "all_sentenses = lyrics_df[\"clean_lyrics\"].tolist()\n",
        "wevec_model = Word2Vec(all_sentenses, size=FEATURE_VECTOR_SIZE, window=WINDOW_SIZE, workers=4, min_count=3)"
      ],
      "execution_count": 0,
      "outputs": []
    },
    {
      "cell_type": "markdown",
      "metadata": {
        "id": "Za296Eg93RsQ",
        "colab_type": "text"
      },
      "source": [
        "### Review most similar words\n",
        "Get initial evaluation of the word vectors by analyzing the most similar words for a few interesting words in the text. \n",
        "\n",
        "Choose words yourself, and find the most similar words to them."
      ]
    },
    {
      "cell_type": "code",
      "metadata": {
        "id": "i2DbKOJb3RsQ",
        "colab_type": "code",
        "outputId": "bff26398-580c-4b60-b406-df79572010b4",
        "colab": {
          "base_uri": "https://localhost:8080/",
          "height": 275
        }
      },
      "source": [
        "for word in ['love', 'man', 'girl', 'feel']:\n",
        "  print('**********{}**************'.format(word))\n",
        "  print(wevec_model.wv.most_similar('love'))\n",
        "  print('**********{}**************'.format(word))\n",
        "  "
      ],
      "execution_count": 0,
      "outputs": [
        {
          "output_type": "stream",
          "text": [
            "**********love**************\n",
            "[('know', 0.6976536512374878), ('baby', 0.6739638447761536), ('cause', 0.6532072424888611), ('true', 0.620837926864624), ('oh', 0.6157742738723755), ('want', 0.6149493455886841), ('never', 0.6118445992469788), ('always', 0.6080036163330078), ('heart', 0.6009585857391357), ('way', 0.5991636514663696)]\n",
            "**********love**************\n",
            "**********man**************\n",
            "[('know', 0.6976536512374878), ('baby', 0.6739638447761536), ('cause', 0.6532072424888611), ('true', 0.620837926864624), ('oh', 0.6157742738723755), ('want', 0.6149493455886841), ('never', 0.6118445992469788), ('always', 0.6080036163330078), ('heart', 0.6009585857391357), ('way', 0.5991636514663696)]\n",
            "**********man**************\n",
            "**********girl**************\n",
            "[('know', 0.6976536512374878), ('baby', 0.6739638447761536), ('cause', 0.6532072424888611), ('true', 0.620837926864624), ('oh', 0.6157742738723755), ('want', 0.6149493455886841), ('never', 0.6118445992469788), ('always', 0.6080036163330078), ('heart', 0.6009585857391357), ('way', 0.5991636514663696)]\n",
            "**********girl**************\n",
            "**********feel**************\n",
            "[('know', 0.6976536512374878), ('baby', 0.6739638447761536), ('cause', 0.6532072424888611), ('true', 0.620837926864624), ('oh', 0.6157742738723755), ('want', 0.6149493455886841), ('never', 0.6118445992469788), ('always', 0.6080036163330078), ('heart', 0.6009585857391357), ('way', 0.5991636514663696)]\n",
            "**********feel**************\n"
          ],
          "name": "stdout"
        },
        {
          "output_type": "stream",
          "text": [
            "/usr/local/lib/python3.6/dist-packages/gensim/matutils.py:737: FutureWarning: Conversion of the second argument of issubdtype from `int` to `np.signedinteger` is deprecated. In future, it will be treated as `np.int64 == np.dtype(int).type`.\n",
            "  if np.issubdtype(vec.dtype, np.int):\n"
          ],
          "name": "stderr"
        }
      ]
    },
    {
      "cell_type": "markdown",
      "metadata": {
        "id": "sYRBpD303RsT",
        "colab_type": "text"
      },
      "source": [
        "### Word Vectors Algebra\n",
        "We've seen in class examples of algebraic games on the word vectors (e.g. man - woman + king = queen ). \n",
        "\n",
        "Try a few vector algebra terms, and evaluate how well they work. Try to use the Cosine distance and compare it to the Euclidean distance."
      ]
    },
    {
      "cell_type": "code",
      "metadata": {
        "id": "rYsRL2eZ3RsT",
        "colab_type": "code",
        "outputId": "27437216-eb7d-499c-dfc7-891ebf4921a5",
        "colab": {
          "base_uri": "https://localhost:8080/",
          "height": 241
        }
      },
      "source": [
        "v1 = wevec_model.wv['king'] \n",
        "v2 = wevec_model.wv['queen'] \n",
        "\n",
        "res =  v1 - v2 \n",
        "wevec_model.wv.similar_by_vector(res)"
      ],
      "execution_count": 0,
      "outputs": [
        {
          "output_type": "stream",
          "text": [
            "/usr/local/lib/python3.6/dist-packages/gensim/matutils.py:737: FutureWarning: Conversion of the second argument of issubdtype from `int` to `np.signedinteger` is deprecated. In future, it will be treated as `np.int64 == np.dtype(int).type`.\n",
            "  if np.issubdtype(vec.dtype, np.int):\n"
          ],
          "name": "stderr"
        },
        {
          "output_type": "execute_result",
          "data": {
            "text/plain": [
              "[('king', 0.4416906237602234),\n",
              " ('victorious', 0.28422659635543823),\n",
              " ('christ', 0.28422001004219055),\n",
              " ('overthrow', 0.2781832814216614),\n",
              " ('disarmament', 0.2606436610221863),\n",
              " ('undisputed', 0.2583610415458679),\n",
              " ('overcome', 0.25667399168014526),\n",
              " ('solomon', 0.2539622485637665),\n",
              " ('dispear', 0.24596869945526123),\n",
              " ('battle', 0.23669087886810303)]"
            ]
          },
          "metadata": {
            "tags": []
          },
          "execution_count": 15
        }
      ]
    },
    {
      "cell_type": "code",
      "metadata": {
        "id": "7SnVAt9ZC2e4",
        "colab_type": "code",
        "outputId": "595068f7-d5a3-4d2f-9f5d-518923935dd4",
        "colab": {
          "base_uri": "https://localhost:8080/",
          "height": 241
        }
      },
      "source": [
        "v1 = wevec_model.wv['woman'] \n",
        "v2 = wevec_model.wv['girl'] \n",
        "\n",
        "res =  v1 - v2 \n",
        "wevec_model.wv.similar_by_vector(res)"
      ],
      "execution_count": 0,
      "outputs": [
        {
          "output_type": "stream",
          "text": [
            "/usr/local/lib/python3.6/dist-packages/gensim/matutils.py:737: FutureWarning: Conversion of the second argument of issubdtype from `int` to `np.signedinteger` is deprecated. In future, it will be treated as `np.int64 == np.dtype(int).type`.\n",
            "  if np.issubdtype(vec.dtype, np.int):\n"
          ],
          "name": "stderr"
        },
        {
          "output_type": "execute_result",
          "data": {
            "text/plain": [
              "[('woman', 0.3945504426956177),\n",
              " ('witchy', 0.3829672932624817),\n",
              " ('adherence', 0.3591882586479187),\n",
              " ('hath', 0.355106920003891),\n",
              " ('wastelands', 0.35092365741729736),\n",
              " ('hinguckt', 0.3403870761394501),\n",
              " ('wanhopige', 0.3390408158302307),\n",
              " ('incarnate', 0.33836591243743896),\n",
              " ('parachutist', 0.3364051580429077),\n",
              " ('dissatisfied', 0.3338039517402649)]"
            ]
          },
          "metadata": {
            "tags": []
          },
          "execution_count": 17
        }
      ]
    },
    {
      "cell_type": "code",
      "metadata": {
        "id": "FaBATHr0C-xW",
        "colab_type": "code",
        "outputId": "95d4ea0b-f4a3-4610-dfc0-18ae63b94ba9",
        "colab": {
          "base_uri": "https://localhost:8080/",
          "height": 241
        }
      },
      "source": [
        "v1 = wevec_model.wv['girl'] \n",
        "v2 = wevec_model.wv['man'] \n",
        "\n",
        "res =  v1 + v2 \n",
        "wevec_model.wv.similar_by_vector(res)"
      ],
      "execution_count": 0,
      "outputs": [
        {
          "output_type": "stream",
          "text": [
            "/usr/local/lib/python3.6/dist-packages/gensim/matutils.py:737: FutureWarning: Conversion of the second argument of issubdtype from `int` to `np.signedinteger` is deprecated. In future, it will be treated as `np.int64 == np.dtype(int).type`.\n",
            "  if np.issubdtype(vec.dtype, np.int):\n"
          ],
          "name": "stderr"
        },
        {
          "output_type": "execute_result",
          "data": {
            "text/plain": [
              "[('girl', 0.8658943176269531),\n",
              " ('man', 0.8452440500259399),\n",
              " ('woman', 0.7247971892356873),\n",
              " ('boy', 0.7180936336517334),\n",
              " ('know', 0.6527124047279358),\n",
              " ('baby', 0.6476815938949585),\n",
              " ('cause', 0.638348400592804),\n",
              " ('got', 0.6022270321846008),\n",
              " ('yeah', 0.5943912267684937),\n",
              " ('love', 0.5738491415977478)]"
            ]
          },
          "metadata": {
            "tags": []
          },
          "execution_count": 18
        }
      ]
    },
    {
      "cell_type": "code",
      "metadata": {
        "id": "WhR4V2nNDJw-",
        "colab_type": "code",
        "outputId": "ecf899a6-83a2-4991-b6d7-1f323640f704",
        "colab": {
          "base_uri": "https://localhost:8080/",
          "height": 241
        }
      },
      "source": [
        "v1 = wevec_model.wv['woman'] \n",
        "v2 = wevec_model.wv['husband'] \n",
        "\n",
        "res =  v1 + v2 \n",
        "wevec_model.wv.similar_by_vector(res)"
      ],
      "execution_count": 0,
      "outputs": [
        {
          "output_type": "stream",
          "text": [
            "/usr/local/lib/python3.6/dist-packages/gensim/matutils.py:737: FutureWarning: Conversion of the second argument of issubdtype from `int` to `np.signedinteger` is deprecated. In future, it will be treated as `np.int64 == np.dtype(int).type`.\n",
            "  if np.issubdtype(vec.dtype, np.int):\n"
          ],
          "name": "stderr"
        },
        {
          "output_type": "execute_result",
          "data": {
            "text/plain": [
              "[('woman', 0.8930797576904297),\n",
              " ('husband', 0.7790439128875732),\n",
              " ('wife', 0.6306020021438599),\n",
              " ('man', 0.6067594289779663),\n",
              " ('girl', 0.5493606328964233),\n",
              " ('daughter', 0.5384731292724609),\n",
              " ('child', 0.49661391973495483),\n",
              " ('women', 0.48693349957466125),\n",
              " ('neighbor', 0.46220311522483826),\n",
              " ('lovin', 0.4582667052745819)]"
            ]
          },
          "metadata": {
            "tags": []
          },
          "execution_count": 19
        }
      ]
    },
    {
      "cell_type": "code",
      "metadata": {
        "id": "5IKrj51iDQc-",
        "colab_type": "code",
        "outputId": "2b75d86e-f623-4bb2-e0b5-6dd4dfaf717f",
        "colab": {
          "base_uri": "https://localhost:8080/",
          "height": 241
        }
      },
      "source": [
        "v1 = wevec_model.wv['wife'] \n",
        "v2 = wevec_model.wv['woman'] \n",
        "\n",
        "res =  v1 - v2 \n",
        "wevec_model.wv.similar_by_vector(res)"
      ],
      "execution_count": 0,
      "outputs": [
        {
          "output_type": "stream",
          "text": [
            "/usr/local/lib/python3.6/dist-packages/gensim/matutils.py:737: FutureWarning: Conversion of the second argument of issubdtype from `int` to `np.signedinteger` is deprecated. In future, it will be treated as `np.int64 == np.dtype(int).type`.\n",
            "  if np.issubdtype(vec.dtype, np.int):\n"
          ],
          "name": "stderr"
        },
        {
          "output_type": "execute_result",
          "data": {
            "text/plain": [
              "[('wife', 0.5940633416175842),\n",
              " ('doorjust', 0.39944425225257874),\n",
              " ('beaters', 0.38050615787506104),\n",
              " ('tillman', 0.3772699236869812),\n",
              " ('nephews', 0.3584328591823578),\n",
              " ('ahhhhaaaaaaaaghhhh', 0.3539944887161255),\n",
              " ('attended', 0.34795355796813965),\n",
              " ('swipe', 0.33600378036499023),\n",
              " ('saver', 0.3341713845729828),\n",
              " ('burglary', 0.32993119955062866)]"
            ]
          },
          "metadata": {
            "tags": []
          },
          "execution_count": 20
        }
      ]
    },
    {
      "cell_type": "code",
      "metadata": {
        "id": "F-gKSCMdDejf",
        "colab_type": "code",
        "outputId": "0a023c33-4700-496b-907b-13ff71e2d866",
        "colab": {
          "base_uri": "https://localhost:8080/",
          "height": 241
        }
      },
      "source": [
        "v1 = wevec_model.wv['young'] \n",
        "v2 = wevec_model.wv['baby'] \n",
        "\n",
        "res =  v1 + v2 \n",
        "wevec_model.wv.similar_by_vector(res)"
      ],
      "execution_count": 0,
      "outputs": [
        {
          "output_type": "stream",
          "text": [
            "/usr/local/lib/python3.6/dist-packages/gensim/matutils.py:737: FutureWarning: Conversion of the second argument of issubdtype from `int` to `np.signedinteger` is deprecated. In future, it will be treated as `np.int64 == np.dtype(int).type`.\n",
            "  if np.issubdtype(vec.dtype, np.int):\n"
          ],
          "name": "stderr"
        },
        {
          "output_type": "execute_result",
          "data": {
            "text/plain": [
              "[('young', 0.7975558042526245),\n",
              " ('baby', 0.7816184163093567),\n",
              " ('girl', 0.6593176126480103),\n",
              " ('love', 0.6478465795516968),\n",
              " ('cause', 0.6436699628829956),\n",
              " ('know', 0.6418748497962952),\n",
              " ('yeah', 0.6136243343353271),\n",
              " ('boy', 0.6044150590896606),\n",
              " ('got', 0.5908496975898743),\n",
              " ('want', 0.58655846118927)]"
            ]
          },
          "metadata": {
            "tags": []
          },
          "execution_count": 26
        }
      ]
    },
    {
      "cell_type": "markdown",
      "metadata": {
        "id": "k_CwD9Fk3RsV",
        "colab_type": "text"
      },
      "source": [
        "## Sentiment Analysis\n",
        "Estimate sentiment of words using word vectors.  \n",
        "In this section, we'll use the SemEval-2015 English Twitter Sentiment Lexicon.  \n",
        "The lexicon was used as an official test set in the SemEval-2015 shared Task #10: Subtask E, and contains a polarity score for words in range -1 (negative) to 1 (positive) - http://saifmohammad.com/WebPages/SCL.html#OPP"
      ]
    },
    {
      "cell_type": "markdown",
      "metadata": {
        "id": "jiBP0tHv3RsV",
        "colab_type": "text"
      },
      "source": [
        "Build a classifier for the sentiment of a word given its word vector. Split the data to a train and test sets, and report the model performance on both sets."
      ]
    },
    {
      "cell_type": "code",
      "metadata": {
        "id": "vggDl4sv3RsW",
        "colab_type": "code",
        "outputId": "661cb93b-4813-4a8c-bd57-03403c8125d2",
        "colab": {
          "base_uri": "https://localhost:8080/",
          "height": 390
        }
      },
      "source": [
        "twitter_lex_df = pd.read_csv('/content/drive/My Drive/SemEval2015-English-Twitter-Lexicon.txt', sep='\\t',  names =['polarity', 'word'])\n",
        "twitter_lex_df.describe(include = 'all')"
      ],
      "execution_count": 17,
      "outputs": [
        {
          "output_type": "execute_result",
          "data": {
            "text/html": [
              "<div>\n",
              "<style scoped>\n",
              "    .dataframe tbody tr th:only-of-type {\n",
              "        vertical-align: middle;\n",
              "    }\n",
              "\n",
              "    .dataframe tbody tr th {\n",
              "        vertical-align: top;\n",
              "    }\n",
              "\n",
              "    .dataframe thead th {\n",
              "        text-align: right;\n",
              "    }\n",
              "</style>\n",
              "<table border=\"1\" class=\"dataframe\">\n",
              "  <thead>\n",
              "    <tr style=\"text-align: right;\">\n",
              "      <th></th>\n",
              "      <th>polarity</th>\n",
              "      <th>word</th>\n",
              "    </tr>\n",
              "  </thead>\n",
              "  <tbody>\n",
              "    <tr>\n",
              "      <th>count</th>\n",
              "      <td>1515.000000</td>\n",
              "      <td>1515</td>\n",
              "    </tr>\n",
              "    <tr>\n",
              "      <th>unique</th>\n",
              "      <td>NaN</td>\n",
              "      <td>1515</td>\n",
              "    </tr>\n",
              "    <tr>\n",
              "      <th>top</th>\n",
              "      <td>NaN</td>\n",
              "      <td>don't feel</td>\n",
              "    </tr>\n",
              "    <tr>\n",
              "      <th>freq</th>\n",
              "      <td>NaN</td>\n",
              "      <td>1</td>\n",
              "    </tr>\n",
              "    <tr>\n",
              "      <th>mean</th>\n",
              "      <td>0.000319</td>\n",
              "      <td>NaN</td>\n",
              "    </tr>\n",
              "    <tr>\n",
              "      <th>std</th>\n",
              "      <td>0.502247</td>\n",
              "      <td>NaN</td>\n",
              "    </tr>\n",
              "    <tr>\n",
              "      <th>min</th>\n",
              "      <td>-0.984000</td>\n",
              "      <td>NaN</td>\n",
              "    </tr>\n",
              "    <tr>\n",
              "      <th>25%</th>\n",
              "      <td>-0.422000</td>\n",
              "      <td>NaN</td>\n",
              "    </tr>\n",
              "    <tr>\n",
              "      <th>50%</th>\n",
              "      <td>0.031000</td>\n",
              "      <td>NaN</td>\n",
              "    </tr>\n",
              "    <tr>\n",
              "      <th>75%</th>\n",
              "      <td>0.406000</td>\n",
              "      <td>NaN</td>\n",
              "    </tr>\n",
              "    <tr>\n",
              "      <th>max</th>\n",
              "      <td>0.984000</td>\n",
              "      <td>NaN</td>\n",
              "    </tr>\n",
              "  </tbody>\n",
              "</table>\n",
              "</div>"
            ],
            "text/plain": [
              "           polarity        word\n",
              "count   1515.000000  1515      \n",
              "unique NaN           1515      \n",
              "top    NaN           don't feel\n",
              "freq   NaN           1         \n",
              "mean    0.000319     NaN       \n",
              "std     0.502247     NaN       \n",
              "min    -0.984000     NaN       \n",
              "25%    -0.422000     NaN       \n",
              "50%     0.031000     NaN       \n",
              "75%     0.406000     NaN       \n",
              "max     0.984000     NaN       "
            ]
          },
          "metadata": {
            "tags": []
          },
          "execution_count": 17
        }
      ]
    },
    {
      "cell_type": "code",
      "metadata": {
        "id": "u-U69mo7D1_P",
        "colab_type": "code",
        "outputId": "5a12c343-bf6c-47f5-c20f-bb59cfe8f544",
        "colab": {
          "base_uri": "https://localhost:8080/",
          "height": 173
        }
      },
      "source": [
        "twitter_lex_df.sample(4)"
      ],
      "execution_count": 19,
      "outputs": [
        {
          "output_type": "execute_result",
          "data": {
            "text/html": [
              "<div>\n",
              "<style scoped>\n",
              "    .dataframe tbody tr th:only-of-type {\n",
              "        vertical-align: middle;\n",
              "    }\n",
              "\n",
              "    .dataframe tbody tr th {\n",
              "        vertical-align: top;\n",
              "    }\n",
              "\n",
              "    .dataframe thead th {\n",
              "        text-align: right;\n",
              "    }\n",
              "</style>\n",
              "<table border=\"1\" class=\"dataframe\">\n",
              "  <thead>\n",
              "    <tr style=\"text-align: right;\">\n",
              "      <th></th>\n",
              "      <th>polarity</th>\n",
              "      <th>word</th>\n",
              "    </tr>\n",
              "  </thead>\n",
              "  <tbody>\n",
              "    <tr>\n",
              "      <th>869</th>\n",
              "      <td>-0.094</td>\n",
              "      <td>age</td>\n",
              "    </tr>\n",
              "    <tr>\n",
              "      <th>328</th>\n",
              "      <td>0.469</td>\n",
              "      <td>g'nite</td>\n",
              "    </tr>\n",
              "    <tr>\n",
              "      <th>555</th>\n",
              "      <td>0.203</td>\n",
              "      <td>young</td>\n",
              "    </tr>\n",
              "    <tr>\n",
              "      <th>929</th>\n",
              "      <td>-0.156</td>\n",
              "      <td>turnovers</td>\n",
              "    </tr>\n",
              "  </tbody>\n",
              "</table>\n",
              "</div>"
            ],
            "text/plain": [
              "     polarity       word\n",
              "869 -0.094     age      \n",
              "328  0.469     g'nite   \n",
              "555  0.203     young    \n",
              "929 -0.156     turnovers"
            ]
          },
          "metadata": {
            "tags": []
          },
          "execution_count": 19
        }
      ]
    },
    {
      "cell_type": "code",
      "metadata": {
        "id": "QFjvMj3CD7dX",
        "colab_type": "code",
        "colab": {}
      },
      "source": [
        "twitter_lex_df['vector'] = twitter_lex_df[\"word\"].apply(lambda word: wevec_model.wv[word].reshape(1,-1) if word in wevec_model.wv else None)\n",
        "twitter_lex_df = twitter_lex_df[twitter_lex_df.vector.notnull()]\n"
      ],
      "execution_count": 0,
      "outputs": []
    },
    {
      "cell_type": "code",
      "metadata": {
        "id": "8OkGlggnEB_X",
        "colab_type": "code",
        "colab": {}
      },
      "source": [
        "  \n",
        "train, test = train_test_split(twitter_lex_df, test_size=0.2, random_state=999)\n",
        "X_train = train['vector'].values\n",
        "y_train = train['polarity'].values\n",
        "X_test = test['vector'].values\n",
        "y_test = test['polarity'].values\n",
        "\n",
        "X_train = np.concatenate(X_train).reshape(X_train.shape[0], X_train[0].shape[1])\n",
        "\n",
        "shape = list(X_test[0].shape)\n",
        "X_test = np.concatenate(X_test).reshape(X_test.shape[0],X_test[0].shape[1])"
      ],
      "execution_count": 0,
      "outputs": []
    },
    {
      "cell_type": "code",
      "metadata": {
        "id": "RPm1o54AEU5P",
        "colab_type": "code",
        "outputId": "6a81a614-f514-49f2-ee31-093f447f7af2",
        "colab": {
          "base_uri": "https://localhost:8080/",
          "height": 153
        }
      },
      "source": [
        "model = XGBRegressor()\n",
        "model.fit(X_train, y_train)"
      ],
      "execution_count": 22,
      "outputs": [
        {
          "output_type": "stream",
          "text": [
            "[07:16:47] WARNING: /workspace/src/objective/regression_obj.cu:152: reg:linear is now deprecated in favor of reg:squarederror.\n"
          ],
          "name": "stdout"
        },
        {
          "output_type": "execute_result",
          "data": {
            "text/plain": [
              "XGBRegressor(base_score=0.5, booster='gbtree', colsample_bylevel=1,\n",
              "             colsample_bynode=1, colsample_bytree=1, gamma=0,\n",
              "             importance_type='gain', learning_rate=0.1, max_delta_step=0,\n",
              "             max_depth=3, min_child_weight=1, missing=None, n_estimators=100,\n",
              "             n_jobs=1, nthread=None, objective='reg:linear', random_state=0,\n",
              "             reg_alpha=0, reg_lambda=1, scale_pos_weight=1, seed=None,\n",
              "             silent=None, subsample=1, verbosity=1)"
            ]
          },
          "metadata": {
            "tags": []
          },
          "execution_count": 22
        }
      ]
    },
    {
      "cell_type": "code",
      "metadata": {
        "id": "i4gqsIBsEYIP",
        "colab_type": "code",
        "outputId": "5f6c527f-eb7f-47d4-e4f2-d07423821c5d",
        "colab": {
          "base_uri": "https://localhost:8080/",
          "height": 34
        }
      },
      "source": [
        "model.score(X_test, y_test)"
      ],
      "execution_count": 23,
      "outputs": [
        {
          "output_type": "execute_result",
          "data": {
            "text/plain": [
              "0.31221742731072255"
            ]
          },
          "metadata": {
            "tags": []
          },
          "execution_count": 23
        }
      ]
    },
    {
      "cell_type": "code",
      "metadata": {
        "id": "EZpF0HWqE-7n",
        "colab_type": "code",
        "outputId": "954c0120-02dc-40a3-d223-af6b1ad24a96",
        "colab": {
          "base_uri": "https://localhost:8080/",
          "height": 34
        }
      },
      "source": [
        "use_cuda = torch.cuda.is_available()\n",
        "use_cuda"
      ],
      "execution_count": 27,
      "outputs": [
        {
          "output_type": "execute_result",
          "data": {
            "text/plain": [
              "True"
            ]
          },
          "metadata": {
            "tags": []
          },
          "execution_count": 27
        }
      ]
    },
    {
      "cell_type": "code",
      "metadata": {
        "id": "5BjHOvWyFFzH",
        "colab_type": "code",
        "colab": {}
      },
      "source": [
        "import torch.utils.data as utils_data\n",
        "from torch.autograd import Variable\n",
        "\n",
        "training_samples = utils_data.TensorDataset(torch.from_numpy(X_train), torch.from_numpy(y_train))\n",
        "data_loader = utils_data.DataLoader(training_samples, batch_size=5, shuffle=False)\t\n",
        "\n",
        "test_samples = utils_data.TensorDataset(torch.from_numpy(X_test), torch.from_numpy(y_test))\n",
        "test_data_loader = utils_data.DataLoader(test_samples, batch_size=len(X_test), shuffle=False)\t\n",
        "test_data_loader_1 = utils_data.DataLoader(test_samples, batch_size=1, shuffle=False)\n"
      ],
      "execution_count": 0,
      "outputs": []
    },
    {
      "cell_type": "code",
      "metadata": {
        "id": "p0OCCruLEsR_",
        "colab_type": "code",
        "outputId": "70e99b37-b9bb-4faf-fee8-6cf554d58848",
        "colab": {
          "base_uri": "https://localhost:8080/",
          "height": 392
        }
      },
      "source": [
        "import torch\n",
        "from torch import nn, optim\n",
        "from torch.nn import functional as F\n",
        "from sklearn.metrics import r2_score, mean_squared_error\n",
        "\n",
        "\n",
        "def score(netModel, data_loader, criterion):\n",
        "  \n",
        "  running_loss = 0.\n",
        "  calc_count =0.\n",
        "  valTrue  = []\n",
        "  valPredicted  = []\n",
        "  \n",
        "  netModel.eval()\n",
        "  \n",
        "  with torch.no_grad():\n",
        "    for vectors, labels in data_loader:\n",
        "      if use_cuda:\n",
        "        vectors = vectors.cuda()\n",
        "        labels = labels.cuda().float()\n",
        "        \n",
        "      vectors = Variable(vectors)  \n",
        "      labels = Variable(labels)\n",
        "      \n",
        "      outputs = netModel(vectors.float())\n",
        "      \n",
        "      valPredicted.extend(outputs.detach().cpu().numpy().flatten())\n",
        "      valTrue.extend(labels.detach().cpu().numpy().flatten())\n",
        "      \n",
        "      loss = criterion(outputs.flatten(), labels.flatten())\n",
        "      running_loss += loss.item()\n",
        "      \n",
        "  return running_loss/len(valTrue), r2_score(valTrue, valPredicted), mean_squared_error(valTrue, valPredicted)\n",
        "\n",
        "\n",
        "liveloss = PlotLosses()\n",
        "\n",
        "class Net(torch.nn.Module):\n",
        "    def __init__(self, n_feature, n_hidden, n_output):\n",
        "        super(Net, self).__init__()\n",
        "        self.hidden = torch.nn.Linear(n_feature, n_hidden)\n",
        "        self.predict = torch.nn.Linear(n_hidden, n_output)\n",
        "        self.dropout1 = nn.Dropout(p=0.5)\n",
        "        self.dropout2 = nn.Dropout(p=0.5)\n",
        "        \n",
        "\n",
        "    def forward(self, x):\n",
        "        x = self.dropout1(x)\n",
        "        x = F.relu(self.hidden(x))   \n",
        "        x = self.dropout2(x)\n",
        "        x = self.predict(x)  \n",
        "        return x\n",
        "\n",
        "      \n",
        "      \n",
        "net = Net(n_feature=300, n_hidden=20, n_output=1)     \n",
        "optimizer = torch.optim.SGD(net.parameters(), lr=0.001)\n",
        "loss_func = torch.nn.MSELoss()\n",
        "\n",
        "if use_cuda:\n",
        "  net = net.cuda()\n",
        "  \n",
        "# plt.ion()  \n",
        "\n",
        "for epoch in range(1000):\n",
        "  \n",
        "  net.train()\n",
        "  \n",
        "  batchloss = 0.0\n",
        "  yTrue = []\n",
        "  YPredicted = []\n",
        "  for batch_idx, (data, target) in enumerate(data_loader):\n",
        "        \n",
        "    if use_cuda:\n",
        "      data = data.cuda()\n",
        "      target = target.cuda()\n",
        "          \n",
        "          \n",
        "    data, target = Variable(data).float(), Variable(target).float()\n",
        "    optimizer.zero_grad()\n",
        "    prediction = net(data)\n",
        "    loss = loss_func(prediction.flatten(), target.flatten()) \n",
        "    \n",
        "    \n",
        "    YPredicted.extend(prediction.detach().cpu().numpy().flatten())\n",
        "    yTrue.extend(target.detach().cpu().numpy().flatten())\n",
        "        \n",
        "    loss.backward() \n",
        "    optimizer.step()\n",
        "    \n",
        "    batchloss += loss.item()\n",
        "  \n",
        "  losLog = {}\n",
        "  losLog['trainning_loss'] = batchloss/len(YPredicted)\n",
        "  \n",
        "  r2 = r2_score(yTrue, YPredicted)\n",
        "  losLog['trainning_r2'] = r2\n",
        "  trainningMSE = mean_squared_error(yTrue, YPredicted)\n",
        "  losLog['trainning_mse'] = trainningMSE\n",
        "  \n",
        "  valLoss, valR2, valMSE = score(net, test_data_loader, loss_func )\n",
        "  \n",
        "  losLog['validation_loss'] = valLoss\n",
        "  losLog['validation_r2'] = valR2\n",
        "  losLog['validation_mse'] = valMSE\n",
        "  liveloss.update(losLog)\n",
        "  liveloss.draw()\n",
        "        "
      ],
      "execution_count": 29,
      "outputs": [
        {
          "output_type": "error",
          "ename": "KeyboardInterrupt",
          "evalue": "ignored",
          "traceback": [
            "\u001b[0;31m---------------------------------------------------------------------------\u001b[0m",
            "\u001b[0;31mKeyboardInterrupt\u001b[0m                         Traceback (most recent call last)",
            "\u001b[0;32m<ipython-input-29-53fa3ef17b47>\u001b[0m in \u001b[0;36m<module>\u001b[0;34m()\u001b[0m\n\u001b[1;32m    105\u001b[0m   \u001b[0mlosLog\u001b[0m\u001b[0;34m[\u001b[0m\u001b[0;34m'validation_mse'\u001b[0m\u001b[0;34m]\u001b[0m \u001b[0;34m=\u001b[0m \u001b[0mvalMSE\u001b[0m\u001b[0;34m\u001b[0m\u001b[0;34m\u001b[0m\u001b[0m\n\u001b[1;32m    106\u001b[0m   \u001b[0mliveloss\u001b[0m\u001b[0;34m.\u001b[0m\u001b[0mupdate\u001b[0m\u001b[0;34m(\u001b[0m\u001b[0mlosLog\u001b[0m\u001b[0;34m)\u001b[0m\u001b[0;34m\u001b[0m\u001b[0;34m\u001b[0m\u001b[0m\n\u001b[0;32m--> 107\u001b[0;31m   \u001b[0mliveloss\u001b[0m\u001b[0;34m.\u001b[0m\u001b[0mdraw\u001b[0m\u001b[0;34m(\u001b[0m\u001b[0;34m)\u001b[0m\u001b[0;34m\u001b[0m\u001b[0;34m\u001b[0m\u001b[0m\n\u001b[0m\u001b[1;32m    108\u001b[0m \u001b[0;34m\u001b[0m\u001b[0m\n",
            "\u001b[0;32m/usr/local/lib/python3.6/dist-packages/livelossplot/generic_plot.py\u001b[0m in \u001b[0;36mdraw\u001b[0;34m(self)\u001b[0m\n\u001b[1;32m    114\u001b[0m                       \u001b[0mskip_first\u001b[0m\u001b[0;34m=\u001b[0m\u001b[0mself\u001b[0m\u001b[0;34m.\u001b[0m\u001b[0mskip_first\u001b[0m\u001b[0;34m,\u001b[0m\u001b[0;34m\u001b[0m\u001b[0;34m\u001b[0m\u001b[0m\n\u001b[1;32m    115\u001b[0m                       \u001b[0mextra_plots\u001b[0m\u001b[0;34m=\u001b[0m\u001b[0mself\u001b[0m\u001b[0;34m.\u001b[0m\u001b[0mextra_plots\u001b[0m\u001b[0;34m,\u001b[0m\u001b[0;34m\u001b[0m\u001b[0;34m\u001b[0m\u001b[0m\n\u001b[0;32m--> 116\u001b[0;31m                       fig_path=self.fig_path)\n\u001b[0m\u001b[1;32m    117\u001b[0m             \u001b[0;32mif\u001b[0m \u001b[0mself\u001b[0m\u001b[0;34m.\u001b[0m\u001b[0mmetrics_extrema\u001b[0m\u001b[0;34m:\u001b[0m\u001b[0;34m\u001b[0m\u001b[0;34m\u001b[0m\u001b[0m\n\u001b[1;32m    118\u001b[0m                 print_extrema(self.logs,\n",
            "\u001b[0;32m/usr/local/lib/python3.6/dist-packages/livelossplot/core.py\u001b[0m in \u001b[0;36mdraw_plot\u001b[0;34m(logs, metrics, figsize, max_epoch, max_cols, series_fmt, metric2title, skip_first, extra_plots, fig_path)\u001b[0m\n\u001b[1;32m     69\u001b[0m     \u001b[0;32mif\u001b[0m \u001b[0mfig_path\u001b[0m \u001b[0;32mis\u001b[0m \u001b[0;32mnot\u001b[0m \u001b[0;32mNone\u001b[0m\u001b[0;34m:\u001b[0m\u001b[0;34m\u001b[0m\u001b[0;34m\u001b[0m\u001b[0m\n\u001b[1;32m     70\u001b[0m         \u001b[0mplt\u001b[0m\u001b[0;34m.\u001b[0m\u001b[0msavefig\u001b[0m\u001b[0;34m(\u001b[0m\u001b[0mfig_path\u001b[0m\u001b[0;34m)\u001b[0m\u001b[0;34m\u001b[0m\u001b[0;34m\u001b[0m\u001b[0m\n\u001b[0;32m---> 71\u001b[0;31m     \u001b[0mplt\u001b[0m\u001b[0;34m.\u001b[0m\u001b[0mshow\u001b[0m\u001b[0;34m(\u001b[0m\u001b[0;34m)\u001b[0m\u001b[0;34m\u001b[0m\u001b[0;34m\u001b[0m\u001b[0m\n\u001b[0m\u001b[1;32m     72\u001b[0m \u001b[0;34m\u001b[0m\u001b[0m\n\u001b[1;32m     73\u001b[0m def print_extrema(logs,\n",
            "\u001b[0;32m/usr/local/lib/python3.6/dist-packages/matplotlib/pyplot.py\u001b[0m in \u001b[0;36mshow\u001b[0;34m(*args, **kw)\u001b[0m\n\u001b[1;32m    267\u001b[0m     \"\"\"\n\u001b[1;32m    268\u001b[0m     \u001b[0;32mglobal\u001b[0m \u001b[0m_show\u001b[0m\u001b[0;34m\u001b[0m\u001b[0;34m\u001b[0m\u001b[0m\n\u001b[0;32m--> 269\u001b[0;31m     \u001b[0;32mreturn\u001b[0m \u001b[0m_show\u001b[0m\u001b[0;34m(\u001b[0m\u001b[0;34m*\u001b[0m\u001b[0margs\u001b[0m\u001b[0;34m,\u001b[0m \u001b[0;34m**\u001b[0m\u001b[0mkw\u001b[0m\u001b[0;34m)\u001b[0m\u001b[0;34m\u001b[0m\u001b[0;34m\u001b[0m\u001b[0m\n\u001b[0m\u001b[1;32m    270\u001b[0m \u001b[0;34m\u001b[0m\u001b[0m\n\u001b[1;32m    271\u001b[0m \u001b[0;34m\u001b[0m\u001b[0m\n",
            "\u001b[0;32m/usr/local/lib/python3.6/dist-packages/ipykernel/pylab/backend_inline.py\u001b[0m in \u001b[0;36mshow\u001b[0;34m(close, block)\u001b[0m\n\u001b[1;32m     34\u001b[0m     \u001b[0;32mtry\u001b[0m\u001b[0;34m:\u001b[0m\u001b[0;34m\u001b[0m\u001b[0;34m\u001b[0m\u001b[0m\n\u001b[1;32m     35\u001b[0m         \u001b[0;32mfor\u001b[0m \u001b[0mfigure_manager\u001b[0m \u001b[0;32min\u001b[0m \u001b[0mGcf\u001b[0m\u001b[0;34m.\u001b[0m\u001b[0mget_all_fig_managers\u001b[0m\u001b[0;34m(\u001b[0m\u001b[0;34m)\u001b[0m\u001b[0;34m:\u001b[0m\u001b[0;34m\u001b[0m\u001b[0;34m\u001b[0m\u001b[0m\n\u001b[0;32m---> 36\u001b[0;31m             \u001b[0mdisplay\u001b[0m\u001b[0;34m(\u001b[0m\u001b[0mfigure_manager\u001b[0m\u001b[0;34m.\u001b[0m\u001b[0mcanvas\u001b[0m\u001b[0;34m.\u001b[0m\u001b[0mfigure\u001b[0m\u001b[0;34m)\u001b[0m\u001b[0;34m\u001b[0m\u001b[0;34m\u001b[0m\u001b[0m\n\u001b[0m\u001b[1;32m     37\u001b[0m     \u001b[0;32mfinally\u001b[0m\u001b[0;34m:\u001b[0m\u001b[0;34m\u001b[0m\u001b[0;34m\u001b[0m\u001b[0m\n\u001b[1;32m     38\u001b[0m         \u001b[0mshow\u001b[0m\u001b[0;34m.\u001b[0m\u001b[0m_to_draw\u001b[0m \u001b[0;34m=\u001b[0m \u001b[0;34m[\u001b[0m\u001b[0;34m]\u001b[0m\u001b[0;34m\u001b[0m\u001b[0;34m\u001b[0m\u001b[0m\n",
            "\u001b[0;32m/usr/local/lib/python3.6/dist-packages/IPython/core/display.py\u001b[0m in \u001b[0;36mdisplay\u001b[0;34m(*objs, **kwargs)\u001b[0m\n\u001b[1;32m    304\u001b[0m             \u001b[0mpublish_display_data\u001b[0m\u001b[0;34m(\u001b[0m\u001b[0mdata\u001b[0m\u001b[0;34m=\u001b[0m\u001b[0mobj\u001b[0m\u001b[0;34m,\u001b[0m \u001b[0mmetadata\u001b[0m\u001b[0;34m=\u001b[0m\u001b[0mmetadata\u001b[0m\u001b[0;34m,\u001b[0m \u001b[0;34m**\u001b[0m\u001b[0mkwargs\u001b[0m\u001b[0;34m)\u001b[0m\u001b[0;34m\u001b[0m\u001b[0;34m\u001b[0m\u001b[0m\n\u001b[1;32m    305\u001b[0m         \u001b[0;32melse\u001b[0m\u001b[0;34m:\u001b[0m\u001b[0;34m\u001b[0m\u001b[0;34m\u001b[0m\u001b[0m\n\u001b[0;32m--> 306\u001b[0;31m             \u001b[0mformat_dict\u001b[0m\u001b[0;34m,\u001b[0m \u001b[0mmd_dict\u001b[0m \u001b[0;34m=\u001b[0m \u001b[0mformat\u001b[0m\u001b[0;34m(\u001b[0m\u001b[0mobj\u001b[0m\u001b[0;34m,\u001b[0m \u001b[0minclude\u001b[0m\u001b[0;34m=\u001b[0m\u001b[0minclude\u001b[0m\u001b[0;34m,\u001b[0m \u001b[0mexclude\u001b[0m\u001b[0;34m=\u001b[0m\u001b[0mexclude\u001b[0m\u001b[0;34m)\u001b[0m\u001b[0;34m\u001b[0m\u001b[0;34m\u001b[0m\u001b[0m\n\u001b[0m\u001b[1;32m    307\u001b[0m             \u001b[0;32mif\u001b[0m \u001b[0;32mnot\u001b[0m \u001b[0mformat_dict\u001b[0m\u001b[0;34m:\u001b[0m\u001b[0;34m\u001b[0m\u001b[0;34m\u001b[0m\u001b[0m\n\u001b[1;32m    308\u001b[0m                 \u001b[0;31m# nothing to display (e.g. _ipython_display_ took over)\u001b[0m\u001b[0;34m\u001b[0m\u001b[0;34m\u001b[0m\u001b[0;34m\u001b[0m\u001b[0m\n",
            "\u001b[0;32m/usr/local/lib/python3.6/dist-packages/IPython/core/formatters.py\u001b[0m in \u001b[0;36mformat\u001b[0;34m(self, obj, include, exclude)\u001b[0m\n\u001b[1;32m    171\u001b[0m             \u001b[0mmd\u001b[0m \u001b[0;34m=\u001b[0m \u001b[0;32mNone\u001b[0m\u001b[0;34m\u001b[0m\u001b[0;34m\u001b[0m\u001b[0m\n\u001b[1;32m    172\u001b[0m             \u001b[0;32mtry\u001b[0m\u001b[0;34m:\u001b[0m\u001b[0;34m\u001b[0m\u001b[0;34m\u001b[0m\u001b[0m\n\u001b[0;32m--> 173\u001b[0;31m                 \u001b[0mdata\u001b[0m \u001b[0;34m=\u001b[0m \u001b[0mformatter\u001b[0m\u001b[0;34m(\u001b[0m\u001b[0mobj\u001b[0m\u001b[0;34m)\u001b[0m\u001b[0;34m\u001b[0m\u001b[0;34m\u001b[0m\u001b[0m\n\u001b[0m\u001b[1;32m    174\u001b[0m             \u001b[0;32mexcept\u001b[0m\u001b[0;34m:\u001b[0m\u001b[0;34m\u001b[0m\u001b[0;34m\u001b[0m\u001b[0m\n\u001b[1;32m    175\u001b[0m                 \u001b[0;31m# FIXME: log the exception\u001b[0m\u001b[0;34m\u001b[0m\u001b[0;34m\u001b[0m\u001b[0;34m\u001b[0m\u001b[0m\n",
            "\u001b[0;32m</usr/local/lib/python3.6/dist-packages/decorator.py:decorator-gen-9>\u001b[0m in \u001b[0;36m__call__\u001b[0;34m(self, obj)\u001b[0m\n",
            "\u001b[0;32m/usr/local/lib/python3.6/dist-packages/IPython/core/formatters.py\u001b[0m in \u001b[0;36mcatch_format_error\u001b[0;34m(method, self, *args, **kwargs)\u001b[0m\n\u001b[1;32m    215\u001b[0m     \u001b[0;34m\"\"\"show traceback on failed format call\"\"\"\u001b[0m\u001b[0;34m\u001b[0m\u001b[0;34m\u001b[0m\u001b[0m\n\u001b[1;32m    216\u001b[0m     \u001b[0;32mtry\u001b[0m\u001b[0;34m:\u001b[0m\u001b[0;34m\u001b[0m\u001b[0;34m\u001b[0m\u001b[0m\n\u001b[0;32m--> 217\u001b[0;31m         \u001b[0mr\u001b[0m \u001b[0;34m=\u001b[0m \u001b[0mmethod\u001b[0m\u001b[0;34m(\u001b[0m\u001b[0mself\u001b[0m\u001b[0;34m,\u001b[0m \u001b[0;34m*\u001b[0m\u001b[0margs\u001b[0m\u001b[0;34m,\u001b[0m \u001b[0;34m**\u001b[0m\u001b[0mkwargs\u001b[0m\u001b[0;34m)\u001b[0m\u001b[0;34m\u001b[0m\u001b[0;34m\u001b[0m\u001b[0m\n\u001b[0m\u001b[1;32m    218\u001b[0m     \u001b[0;32mexcept\u001b[0m \u001b[0mNotImplementedError\u001b[0m\u001b[0;34m:\u001b[0m\u001b[0;34m\u001b[0m\u001b[0;34m\u001b[0m\u001b[0m\n\u001b[1;32m    219\u001b[0m         \u001b[0;31m# don't warn on NotImplementedErrors\u001b[0m\u001b[0;34m\u001b[0m\u001b[0;34m\u001b[0m\u001b[0;34m\u001b[0m\u001b[0m\n",
            "\u001b[0;32m/usr/local/lib/python3.6/dist-packages/IPython/core/formatters.py\u001b[0m in \u001b[0;36m__call__\u001b[0;34m(self, obj)\u001b[0m\n\u001b[1;32m    332\u001b[0m                 \u001b[0;32mpass\u001b[0m\u001b[0;34m\u001b[0m\u001b[0;34m\u001b[0m\u001b[0m\n\u001b[1;32m    333\u001b[0m             \u001b[0;32melse\u001b[0m\u001b[0;34m:\u001b[0m\u001b[0;34m\u001b[0m\u001b[0;34m\u001b[0m\u001b[0m\n\u001b[0;32m--> 334\u001b[0;31m                 \u001b[0;32mreturn\u001b[0m \u001b[0mprinter\u001b[0m\u001b[0;34m(\u001b[0m\u001b[0mobj\u001b[0m\u001b[0;34m)\u001b[0m\u001b[0;34m\u001b[0m\u001b[0;34m\u001b[0m\u001b[0m\n\u001b[0m\u001b[1;32m    335\u001b[0m             \u001b[0;31m# Finally look for special method names\u001b[0m\u001b[0;34m\u001b[0m\u001b[0;34m\u001b[0m\u001b[0;34m\u001b[0m\u001b[0m\n\u001b[1;32m    336\u001b[0m             \u001b[0mmethod\u001b[0m \u001b[0;34m=\u001b[0m \u001b[0mget_real_method\u001b[0m\u001b[0;34m(\u001b[0m\u001b[0mobj\u001b[0m\u001b[0;34m,\u001b[0m \u001b[0mself\u001b[0m\u001b[0;34m.\u001b[0m\u001b[0mprint_method\u001b[0m\u001b[0;34m)\u001b[0m\u001b[0;34m\u001b[0m\u001b[0;34m\u001b[0m\u001b[0m\n",
            "\u001b[0;32m/usr/local/lib/python3.6/dist-packages/IPython/core/pylabtools.py\u001b[0m in \u001b[0;36m<lambda>\u001b[0;34m(fig)\u001b[0m\n\u001b[1;32m    239\u001b[0m \u001b[0;34m\u001b[0m\u001b[0m\n\u001b[1;32m    240\u001b[0m     \u001b[0;32mif\u001b[0m \u001b[0;34m'png'\u001b[0m \u001b[0;32min\u001b[0m \u001b[0mformats\u001b[0m\u001b[0;34m:\u001b[0m\u001b[0;34m\u001b[0m\u001b[0;34m\u001b[0m\u001b[0m\n\u001b[0;32m--> 241\u001b[0;31m         \u001b[0mpng_formatter\u001b[0m\u001b[0;34m.\u001b[0m\u001b[0mfor_type\u001b[0m\u001b[0;34m(\u001b[0m\u001b[0mFigure\u001b[0m\u001b[0;34m,\u001b[0m \u001b[0;32mlambda\u001b[0m \u001b[0mfig\u001b[0m\u001b[0;34m:\u001b[0m \u001b[0mprint_figure\u001b[0m\u001b[0;34m(\u001b[0m\u001b[0mfig\u001b[0m\u001b[0;34m,\u001b[0m \u001b[0;34m'png'\u001b[0m\u001b[0;34m,\u001b[0m \u001b[0;34m**\u001b[0m\u001b[0mkwargs\u001b[0m\u001b[0;34m)\u001b[0m\u001b[0;34m)\u001b[0m\u001b[0;34m\u001b[0m\u001b[0;34m\u001b[0m\u001b[0m\n\u001b[0m\u001b[1;32m    242\u001b[0m     \u001b[0;32mif\u001b[0m \u001b[0;34m'retina'\u001b[0m \u001b[0;32min\u001b[0m \u001b[0mformats\u001b[0m \u001b[0;32mor\u001b[0m \u001b[0;34m'png2x'\u001b[0m \u001b[0;32min\u001b[0m \u001b[0mformats\u001b[0m\u001b[0;34m:\u001b[0m\u001b[0;34m\u001b[0m\u001b[0;34m\u001b[0m\u001b[0m\n\u001b[1;32m    243\u001b[0m         \u001b[0mpng_formatter\u001b[0m\u001b[0;34m.\u001b[0m\u001b[0mfor_type\u001b[0m\u001b[0;34m(\u001b[0m\u001b[0mFigure\u001b[0m\u001b[0;34m,\u001b[0m \u001b[0;32mlambda\u001b[0m \u001b[0mfig\u001b[0m\u001b[0;34m:\u001b[0m \u001b[0mretina_figure\u001b[0m\u001b[0;34m(\u001b[0m\u001b[0mfig\u001b[0m\u001b[0;34m,\u001b[0m \u001b[0;34m**\u001b[0m\u001b[0mkwargs\u001b[0m\u001b[0;34m)\u001b[0m\u001b[0;34m)\u001b[0m\u001b[0;34m\u001b[0m\u001b[0;34m\u001b[0m\u001b[0m\n",
            "\u001b[0;32m/usr/local/lib/python3.6/dist-packages/IPython/core/pylabtools.py\u001b[0m in \u001b[0;36mprint_figure\u001b[0;34m(fig, fmt, bbox_inches, **kwargs)\u001b[0m\n\u001b[1;32m    123\u001b[0m \u001b[0;34m\u001b[0m\u001b[0m\n\u001b[1;32m    124\u001b[0m     \u001b[0mbytes_io\u001b[0m \u001b[0;34m=\u001b[0m \u001b[0mBytesIO\u001b[0m\u001b[0;34m(\u001b[0m\u001b[0;34m)\u001b[0m\u001b[0;34m\u001b[0m\u001b[0;34m\u001b[0m\u001b[0m\n\u001b[0;32m--> 125\u001b[0;31m     \u001b[0mfig\u001b[0m\u001b[0;34m.\u001b[0m\u001b[0mcanvas\u001b[0m\u001b[0;34m.\u001b[0m\u001b[0mprint_figure\u001b[0m\u001b[0;34m(\u001b[0m\u001b[0mbytes_io\u001b[0m\u001b[0;34m,\u001b[0m \u001b[0;34m**\u001b[0m\u001b[0mkw\u001b[0m\u001b[0;34m)\u001b[0m\u001b[0;34m\u001b[0m\u001b[0;34m\u001b[0m\u001b[0m\n\u001b[0m\u001b[1;32m    126\u001b[0m     \u001b[0mdata\u001b[0m \u001b[0;34m=\u001b[0m \u001b[0mbytes_io\u001b[0m\u001b[0;34m.\u001b[0m\u001b[0mgetvalue\u001b[0m\u001b[0;34m(\u001b[0m\u001b[0;34m)\u001b[0m\u001b[0;34m\u001b[0m\u001b[0;34m\u001b[0m\u001b[0m\n\u001b[1;32m    127\u001b[0m     \u001b[0;32mif\u001b[0m \u001b[0mfmt\u001b[0m \u001b[0;34m==\u001b[0m \u001b[0;34m'svg'\u001b[0m\u001b[0;34m:\u001b[0m\u001b[0;34m\u001b[0m\u001b[0;34m\u001b[0m\u001b[0m\n",
            "\u001b[0;32m/usr/local/lib/python3.6/dist-packages/matplotlib/backend_bases.py\u001b[0m in \u001b[0;36mprint_figure\u001b[0;34m(self, filename, dpi, facecolor, edgecolor, orientation, format, bbox_inches, **kwargs)\u001b[0m\n\u001b[1;32m   2080\u001b[0m                     \u001b[0morientation\u001b[0m\u001b[0;34m=\u001b[0m\u001b[0morientation\u001b[0m\u001b[0;34m,\u001b[0m\u001b[0;34m\u001b[0m\u001b[0;34m\u001b[0m\u001b[0m\n\u001b[1;32m   2081\u001b[0m                     \u001b[0mbbox_inches_restore\u001b[0m\u001b[0;34m=\u001b[0m\u001b[0m_bbox_inches_restore\u001b[0m\u001b[0;34m,\u001b[0m\u001b[0;34m\u001b[0m\u001b[0;34m\u001b[0m\u001b[0m\n\u001b[0;32m-> 2082\u001b[0;31m                     **kwargs)\n\u001b[0m\u001b[1;32m   2083\u001b[0m             \u001b[0;32mfinally\u001b[0m\u001b[0;34m:\u001b[0m\u001b[0;34m\u001b[0m\u001b[0;34m\u001b[0m\u001b[0m\n\u001b[1;32m   2084\u001b[0m                 \u001b[0;32mif\u001b[0m \u001b[0mbbox_inches\u001b[0m \u001b[0;32mand\u001b[0m \u001b[0mrestore_bbox\u001b[0m\u001b[0;34m:\u001b[0m\u001b[0;34m\u001b[0m\u001b[0;34m\u001b[0m\u001b[0m\n",
            "\u001b[0;32m/usr/local/lib/python3.6/dist-packages/matplotlib/backends/backend_agg.py\u001b[0m in \u001b[0;36mprint_png\u001b[0;34m(self, filename_or_obj, metadata, pil_kwargs, *args, **kwargs)\u001b[0m\n\u001b[1;32m    525\u001b[0m \u001b[0;34m\u001b[0m\u001b[0m\n\u001b[1;32m    526\u001b[0m         \u001b[0;32melse\u001b[0m\u001b[0;34m:\u001b[0m\u001b[0;34m\u001b[0m\u001b[0;34m\u001b[0m\u001b[0m\n\u001b[0;32m--> 527\u001b[0;31m             \u001b[0mFigureCanvasAgg\u001b[0m\u001b[0;34m.\u001b[0m\u001b[0mdraw\u001b[0m\u001b[0;34m(\u001b[0m\u001b[0mself\u001b[0m\u001b[0;34m)\u001b[0m\u001b[0;34m\u001b[0m\u001b[0;34m\u001b[0m\u001b[0m\n\u001b[0m\u001b[1;32m    528\u001b[0m             \u001b[0mrenderer\u001b[0m \u001b[0;34m=\u001b[0m \u001b[0mself\u001b[0m\u001b[0;34m.\u001b[0m\u001b[0mget_renderer\u001b[0m\u001b[0;34m(\u001b[0m\u001b[0;34m)\u001b[0m\u001b[0;34m\u001b[0m\u001b[0;34m\u001b[0m\u001b[0m\n\u001b[1;32m    529\u001b[0m             \u001b[0;32mwith\u001b[0m \u001b[0mcbook\u001b[0m\u001b[0;34m.\u001b[0m\u001b[0m_setattr_cm\u001b[0m\u001b[0;34m(\u001b[0m\u001b[0mrenderer\u001b[0m\u001b[0;34m,\u001b[0m \u001b[0mdpi\u001b[0m\u001b[0;34m=\u001b[0m\u001b[0mself\u001b[0m\u001b[0;34m.\u001b[0m\u001b[0mfigure\u001b[0m\u001b[0;34m.\u001b[0m\u001b[0mdpi\u001b[0m\u001b[0;34m)\u001b[0m\u001b[0;34m,\u001b[0m\u001b[0;31m \u001b[0m\u001b[0;31m\\\u001b[0m\u001b[0;34m\u001b[0m\u001b[0;34m\u001b[0m\u001b[0m\n",
            "\u001b[0;32m/usr/local/lib/python3.6/dist-packages/matplotlib/backends/backend_agg.py\u001b[0m in \u001b[0;36mdraw\u001b[0;34m(self)\u001b[0m\n\u001b[1;32m    386\u001b[0m         \u001b[0mself\u001b[0m\u001b[0;34m.\u001b[0m\u001b[0mrenderer\u001b[0m \u001b[0;34m=\u001b[0m \u001b[0mself\u001b[0m\u001b[0;34m.\u001b[0m\u001b[0mget_renderer\u001b[0m\u001b[0;34m(\u001b[0m\u001b[0mcleared\u001b[0m\u001b[0;34m=\u001b[0m\u001b[0;32mTrue\u001b[0m\u001b[0;34m)\u001b[0m\u001b[0;34m\u001b[0m\u001b[0;34m\u001b[0m\u001b[0m\n\u001b[1;32m    387\u001b[0m         \u001b[0;32mwith\u001b[0m \u001b[0mRendererAgg\u001b[0m\u001b[0;34m.\u001b[0m\u001b[0mlock\u001b[0m\u001b[0;34m:\u001b[0m\u001b[0;34m\u001b[0m\u001b[0;34m\u001b[0m\u001b[0m\n\u001b[0;32m--> 388\u001b[0;31m             \u001b[0mself\u001b[0m\u001b[0;34m.\u001b[0m\u001b[0mfigure\u001b[0m\u001b[0;34m.\u001b[0m\u001b[0mdraw\u001b[0m\u001b[0;34m(\u001b[0m\u001b[0mself\u001b[0m\u001b[0;34m.\u001b[0m\u001b[0mrenderer\u001b[0m\u001b[0;34m)\u001b[0m\u001b[0;34m\u001b[0m\u001b[0;34m\u001b[0m\u001b[0m\n\u001b[0m\u001b[1;32m    389\u001b[0m             \u001b[0;31m# A GUI class may be need to update a window using this draw, so\u001b[0m\u001b[0;34m\u001b[0m\u001b[0;34m\u001b[0m\u001b[0;34m\u001b[0m\u001b[0m\n\u001b[1;32m    390\u001b[0m             \u001b[0;31m# don't forget to call the superclass.\u001b[0m\u001b[0;34m\u001b[0m\u001b[0;34m\u001b[0m\u001b[0;34m\u001b[0m\u001b[0m\n",
            "\u001b[0;32m/usr/local/lib/python3.6/dist-packages/matplotlib/artist.py\u001b[0m in \u001b[0;36mdraw_wrapper\u001b[0;34m(artist, renderer, *args, **kwargs)\u001b[0m\n\u001b[1;32m     36\u001b[0m                 \u001b[0mrenderer\u001b[0m\u001b[0;34m.\u001b[0m\u001b[0mstart_filter\u001b[0m\u001b[0;34m(\u001b[0m\u001b[0;34m)\u001b[0m\u001b[0;34m\u001b[0m\u001b[0;34m\u001b[0m\u001b[0m\n\u001b[1;32m     37\u001b[0m \u001b[0;34m\u001b[0m\u001b[0m\n\u001b[0;32m---> 38\u001b[0;31m             \u001b[0;32mreturn\u001b[0m \u001b[0mdraw\u001b[0m\u001b[0;34m(\u001b[0m\u001b[0martist\u001b[0m\u001b[0;34m,\u001b[0m \u001b[0mrenderer\u001b[0m\u001b[0;34m,\u001b[0m \u001b[0;34m*\u001b[0m\u001b[0margs\u001b[0m\u001b[0;34m,\u001b[0m \u001b[0;34m**\u001b[0m\u001b[0mkwargs\u001b[0m\u001b[0;34m)\u001b[0m\u001b[0;34m\u001b[0m\u001b[0;34m\u001b[0m\u001b[0m\n\u001b[0m\u001b[1;32m     39\u001b[0m         \u001b[0;32mfinally\u001b[0m\u001b[0;34m:\u001b[0m\u001b[0;34m\u001b[0m\u001b[0;34m\u001b[0m\u001b[0m\n\u001b[1;32m     40\u001b[0m             \u001b[0;32mif\u001b[0m \u001b[0martist\u001b[0m\u001b[0;34m.\u001b[0m\u001b[0mget_agg_filter\u001b[0m\u001b[0;34m(\u001b[0m\u001b[0;34m)\u001b[0m \u001b[0;32mis\u001b[0m \u001b[0;32mnot\u001b[0m \u001b[0;32mNone\u001b[0m\u001b[0;34m:\u001b[0m\u001b[0;34m\u001b[0m\u001b[0;34m\u001b[0m\u001b[0m\n",
            "\u001b[0;32m/usr/local/lib/python3.6/dist-packages/matplotlib/figure.py\u001b[0m in \u001b[0;36mdraw\u001b[0;34m(self, renderer)\u001b[0m\n\u001b[1;32m   1707\u001b[0m             \u001b[0mself\u001b[0m\u001b[0;34m.\u001b[0m\u001b[0mpatch\u001b[0m\u001b[0;34m.\u001b[0m\u001b[0mdraw\u001b[0m\u001b[0;34m(\u001b[0m\u001b[0mrenderer\u001b[0m\u001b[0;34m)\u001b[0m\u001b[0;34m\u001b[0m\u001b[0;34m\u001b[0m\u001b[0m\n\u001b[1;32m   1708\u001b[0m             mimage._draw_list_compositing_images(\n\u001b[0;32m-> 1709\u001b[0;31m                 renderer, self, artists, self.suppressComposite)\n\u001b[0m\u001b[1;32m   1710\u001b[0m \u001b[0;34m\u001b[0m\u001b[0m\n\u001b[1;32m   1711\u001b[0m             \u001b[0mrenderer\u001b[0m\u001b[0;34m.\u001b[0m\u001b[0mclose_group\u001b[0m\u001b[0;34m(\u001b[0m\u001b[0;34m'figure'\u001b[0m\u001b[0;34m)\u001b[0m\u001b[0;34m\u001b[0m\u001b[0;34m\u001b[0m\u001b[0m\n",
            "\u001b[0;32m/usr/local/lib/python3.6/dist-packages/matplotlib/image.py\u001b[0m in \u001b[0;36m_draw_list_compositing_images\u001b[0;34m(renderer, parent, artists, suppress_composite)\u001b[0m\n\u001b[1;32m    133\u001b[0m     \u001b[0;32mif\u001b[0m \u001b[0mnot_composite\u001b[0m \u001b[0;32mor\u001b[0m \u001b[0;32mnot\u001b[0m \u001b[0mhas_images\u001b[0m\u001b[0;34m:\u001b[0m\u001b[0;34m\u001b[0m\u001b[0;34m\u001b[0m\u001b[0m\n\u001b[1;32m    134\u001b[0m         \u001b[0;32mfor\u001b[0m \u001b[0ma\u001b[0m \u001b[0;32min\u001b[0m \u001b[0martists\u001b[0m\u001b[0;34m:\u001b[0m\u001b[0;34m\u001b[0m\u001b[0;34m\u001b[0m\u001b[0m\n\u001b[0;32m--> 135\u001b[0;31m             \u001b[0ma\u001b[0m\u001b[0;34m.\u001b[0m\u001b[0mdraw\u001b[0m\u001b[0;34m(\u001b[0m\u001b[0mrenderer\u001b[0m\u001b[0;34m)\u001b[0m\u001b[0;34m\u001b[0m\u001b[0;34m\u001b[0m\u001b[0m\n\u001b[0m\u001b[1;32m    136\u001b[0m     \u001b[0;32melse\u001b[0m\u001b[0;34m:\u001b[0m\u001b[0;34m\u001b[0m\u001b[0;34m\u001b[0m\u001b[0m\n\u001b[1;32m    137\u001b[0m         \u001b[0;31m# Composite any adjacent images together\u001b[0m\u001b[0;34m\u001b[0m\u001b[0;34m\u001b[0m\u001b[0;34m\u001b[0m\u001b[0m\n",
            "\u001b[0;32m/usr/local/lib/python3.6/dist-packages/matplotlib/artist.py\u001b[0m in \u001b[0;36mdraw_wrapper\u001b[0;34m(artist, renderer, *args, **kwargs)\u001b[0m\n\u001b[1;32m     36\u001b[0m                 \u001b[0mrenderer\u001b[0m\u001b[0;34m.\u001b[0m\u001b[0mstart_filter\u001b[0m\u001b[0;34m(\u001b[0m\u001b[0;34m)\u001b[0m\u001b[0;34m\u001b[0m\u001b[0;34m\u001b[0m\u001b[0m\n\u001b[1;32m     37\u001b[0m \u001b[0;34m\u001b[0m\u001b[0m\n\u001b[0;32m---> 38\u001b[0;31m             \u001b[0;32mreturn\u001b[0m \u001b[0mdraw\u001b[0m\u001b[0;34m(\u001b[0m\u001b[0martist\u001b[0m\u001b[0;34m,\u001b[0m \u001b[0mrenderer\u001b[0m\u001b[0;34m,\u001b[0m \u001b[0;34m*\u001b[0m\u001b[0margs\u001b[0m\u001b[0;34m,\u001b[0m \u001b[0;34m**\u001b[0m\u001b[0mkwargs\u001b[0m\u001b[0;34m)\u001b[0m\u001b[0;34m\u001b[0m\u001b[0;34m\u001b[0m\u001b[0m\n\u001b[0m\u001b[1;32m     39\u001b[0m         \u001b[0;32mfinally\u001b[0m\u001b[0;34m:\u001b[0m\u001b[0;34m\u001b[0m\u001b[0;34m\u001b[0m\u001b[0m\n\u001b[1;32m     40\u001b[0m             \u001b[0;32mif\u001b[0m \u001b[0martist\u001b[0m\u001b[0;34m.\u001b[0m\u001b[0mget_agg_filter\u001b[0m\u001b[0;34m(\u001b[0m\u001b[0;34m)\u001b[0m \u001b[0;32mis\u001b[0m \u001b[0;32mnot\u001b[0m \u001b[0;32mNone\u001b[0m\u001b[0;34m:\u001b[0m\u001b[0;34m\u001b[0m\u001b[0;34m\u001b[0m\u001b[0m\n",
            "\u001b[0;32m/usr/local/lib/python3.6/dist-packages/matplotlib/axes/_base.py\u001b[0m in \u001b[0;36mdraw\u001b[0;34m(self, renderer, inframe)\u001b[0m\n\u001b[1;32m   2645\u001b[0m             \u001b[0mrenderer\u001b[0m\u001b[0;34m.\u001b[0m\u001b[0mstop_rasterizing\u001b[0m\u001b[0;34m(\u001b[0m\u001b[0;34m)\u001b[0m\u001b[0;34m\u001b[0m\u001b[0;34m\u001b[0m\u001b[0m\n\u001b[1;32m   2646\u001b[0m \u001b[0;34m\u001b[0m\u001b[0m\n\u001b[0;32m-> 2647\u001b[0;31m         \u001b[0mmimage\u001b[0m\u001b[0;34m.\u001b[0m\u001b[0m_draw_list_compositing_images\u001b[0m\u001b[0;34m(\u001b[0m\u001b[0mrenderer\u001b[0m\u001b[0;34m,\u001b[0m \u001b[0mself\u001b[0m\u001b[0;34m,\u001b[0m \u001b[0martists\u001b[0m\u001b[0;34m)\u001b[0m\u001b[0;34m\u001b[0m\u001b[0;34m\u001b[0m\u001b[0m\n\u001b[0m\u001b[1;32m   2648\u001b[0m \u001b[0;34m\u001b[0m\u001b[0m\n\u001b[1;32m   2649\u001b[0m         \u001b[0mrenderer\u001b[0m\u001b[0;34m.\u001b[0m\u001b[0mclose_group\u001b[0m\u001b[0;34m(\u001b[0m\u001b[0;34m'axes'\u001b[0m\u001b[0;34m)\u001b[0m\u001b[0;34m\u001b[0m\u001b[0;34m\u001b[0m\u001b[0m\n",
            "\u001b[0;32m/usr/local/lib/python3.6/dist-packages/matplotlib/image.py\u001b[0m in \u001b[0;36m_draw_list_compositing_images\u001b[0;34m(renderer, parent, artists, suppress_composite)\u001b[0m\n\u001b[1;32m    133\u001b[0m     \u001b[0;32mif\u001b[0m \u001b[0mnot_composite\u001b[0m \u001b[0;32mor\u001b[0m \u001b[0;32mnot\u001b[0m \u001b[0mhas_images\u001b[0m\u001b[0;34m:\u001b[0m\u001b[0;34m\u001b[0m\u001b[0;34m\u001b[0m\u001b[0m\n\u001b[1;32m    134\u001b[0m         \u001b[0;32mfor\u001b[0m \u001b[0ma\u001b[0m \u001b[0;32min\u001b[0m \u001b[0martists\u001b[0m\u001b[0;34m:\u001b[0m\u001b[0;34m\u001b[0m\u001b[0;34m\u001b[0m\u001b[0m\n\u001b[0;32m--> 135\u001b[0;31m             \u001b[0ma\u001b[0m\u001b[0;34m.\u001b[0m\u001b[0mdraw\u001b[0m\u001b[0;34m(\u001b[0m\u001b[0mrenderer\u001b[0m\u001b[0;34m)\u001b[0m\u001b[0;34m\u001b[0m\u001b[0;34m\u001b[0m\u001b[0m\n\u001b[0m\u001b[1;32m    136\u001b[0m     \u001b[0;32melse\u001b[0m\u001b[0;34m:\u001b[0m\u001b[0;34m\u001b[0m\u001b[0;34m\u001b[0m\u001b[0m\n\u001b[1;32m    137\u001b[0m         \u001b[0;31m# Composite any adjacent images together\u001b[0m\u001b[0;34m\u001b[0m\u001b[0;34m\u001b[0m\u001b[0;34m\u001b[0m\u001b[0m\n",
            "\u001b[0;32m/usr/local/lib/python3.6/dist-packages/matplotlib/artist.py\u001b[0m in \u001b[0;36mdraw_wrapper\u001b[0;34m(artist, renderer, *args, **kwargs)\u001b[0m\n\u001b[1;32m     36\u001b[0m                 \u001b[0mrenderer\u001b[0m\u001b[0;34m.\u001b[0m\u001b[0mstart_filter\u001b[0m\u001b[0;34m(\u001b[0m\u001b[0;34m)\u001b[0m\u001b[0;34m\u001b[0m\u001b[0;34m\u001b[0m\u001b[0m\n\u001b[1;32m     37\u001b[0m \u001b[0;34m\u001b[0m\u001b[0m\n\u001b[0;32m---> 38\u001b[0;31m             \u001b[0;32mreturn\u001b[0m \u001b[0mdraw\u001b[0m\u001b[0;34m(\u001b[0m\u001b[0martist\u001b[0m\u001b[0;34m,\u001b[0m \u001b[0mrenderer\u001b[0m\u001b[0;34m,\u001b[0m \u001b[0;34m*\u001b[0m\u001b[0margs\u001b[0m\u001b[0;34m,\u001b[0m \u001b[0;34m**\u001b[0m\u001b[0mkwargs\u001b[0m\u001b[0;34m)\u001b[0m\u001b[0;34m\u001b[0m\u001b[0;34m\u001b[0m\u001b[0m\n\u001b[0m\u001b[1;32m     39\u001b[0m         \u001b[0;32mfinally\u001b[0m\u001b[0;34m:\u001b[0m\u001b[0;34m\u001b[0m\u001b[0;34m\u001b[0m\u001b[0m\n\u001b[1;32m     40\u001b[0m             \u001b[0;32mif\u001b[0m \u001b[0martist\u001b[0m\u001b[0;34m.\u001b[0m\u001b[0mget_agg_filter\u001b[0m\u001b[0;34m(\u001b[0m\u001b[0;34m)\u001b[0m \u001b[0;32mis\u001b[0m \u001b[0;32mnot\u001b[0m \u001b[0;32mNone\u001b[0m\u001b[0;34m:\u001b[0m\u001b[0;34m\u001b[0m\u001b[0;34m\u001b[0m\u001b[0m\n",
            "\u001b[0;32m/usr/local/lib/python3.6/dist-packages/matplotlib/axis.py\u001b[0m in \u001b[0;36mdraw\u001b[0;34m(self, renderer, *args, **kwargs)\u001b[0m\n\u001b[1;32m   1206\u001b[0m \u001b[0;34m\u001b[0m\u001b[0m\n\u001b[1;32m   1207\u001b[0m         \u001b[0;32mfor\u001b[0m \u001b[0mtick\u001b[0m \u001b[0;32min\u001b[0m \u001b[0mticks_to_draw\u001b[0m\u001b[0;34m:\u001b[0m\u001b[0;34m\u001b[0m\u001b[0;34m\u001b[0m\u001b[0m\n\u001b[0;32m-> 1208\u001b[0;31m             \u001b[0mtick\u001b[0m\u001b[0;34m.\u001b[0m\u001b[0mdraw\u001b[0m\u001b[0;34m(\u001b[0m\u001b[0mrenderer\u001b[0m\u001b[0;34m)\u001b[0m\u001b[0;34m\u001b[0m\u001b[0;34m\u001b[0m\u001b[0m\n\u001b[0m\u001b[1;32m   1209\u001b[0m \u001b[0;34m\u001b[0m\u001b[0m\n\u001b[1;32m   1210\u001b[0m         \u001b[0;31m# scale up the axis label box to also find the neighbors, not\u001b[0m\u001b[0;34m\u001b[0m\u001b[0;34m\u001b[0m\u001b[0;34m\u001b[0m\u001b[0m\n",
            "\u001b[0;32m/usr/local/lib/python3.6/dist-packages/matplotlib/artist.py\u001b[0m in \u001b[0;36mdraw_wrapper\u001b[0;34m(artist, renderer, *args, **kwargs)\u001b[0m\n\u001b[1;32m     36\u001b[0m                 \u001b[0mrenderer\u001b[0m\u001b[0;34m.\u001b[0m\u001b[0mstart_filter\u001b[0m\u001b[0;34m(\u001b[0m\u001b[0;34m)\u001b[0m\u001b[0;34m\u001b[0m\u001b[0;34m\u001b[0m\u001b[0m\n\u001b[1;32m     37\u001b[0m \u001b[0;34m\u001b[0m\u001b[0m\n\u001b[0;32m---> 38\u001b[0;31m             \u001b[0;32mreturn\u001b[0m \u001b[0mdraw\u001b[0m\u001b[0;34m(\u001b[0m\u001b[0martist\u001b[0m\u001b[0;34m,\u001b[0m \u001b[0mrenderer\u001b[0m\u001b[0;34m,\u001b[0m \u001b[0;34m*\u001b[0m\u001b[0margs\u001b[0m\u001b[0;34m,\u001b[0m \u001b[0;34m**\u001b[0m\u001b[0mkwargs\u001b[0m\u001b[0;34m)\u001b[0m\u001b[0;34m\u001b[0m\u001b[0;34m\u001b[0m\u001b[0m\n\u001b[0m\u001b[1;32m     39\u001b[0m         \u001b[0;32mfinally\u001b[0m\u001b[0;34m:\u001b[0m\u001b[0;34m\u001b[0m\u001b[0;34m\u001b[0m\u001b[0m\n\u001b[1;32m     40\u001b[0m             \u001b[0;32mif\u001b[0m \u001b[0martist\u001b[0m\u001b[0;34m.\u001b[0m\u001b[0mget_agg_filter\u001b[0m\u001b[0;34m(\u001b[0m\u001b[0;34m)\u001b[0m \u001b[0;32mis\u001b[0m \u001b[0;32mnot\u001b[0m \u001b[0;32mNone\u001b[0m\u001b[0;34m:\u001b[0m\u001b[0;34m\u001b[0m\u001b[0;34m\u001b[0m\u001b[0m\n",
            "\u001b[0;32m/usr/local/lib/python3.6/dist-packages/matplotlib/axis.py\u001b[0m in \u001b[0;36mdraw\u001b[0;34m(self, renderer)\u001b[0m\n\u001b[1;32m    295\u001b[0m         for artist in [self.gridline, self.tick1line, self.tick2line,\n\u001b[1;32m    296\u001b[0m                        self.label1, self.label2]:\n\u001b[0;32m--> 297\u001b[0;31m             \u001b[0martist\u001b[0m\u001b[0;34m.\u001b[0m\u001b[0mdraw\u001b[0m\u001b[0;34m(\u001b[0m\u001b[0mrenderer\u001b[0m\u001b[0;34m)\u001b[0m\u001b[0;34m\u001b[0m\u001b[0;34m\u001b[0m\u001b[0m\n\u001b[0m\u001b[1;32m    298\u001b[0m         \u001b[0mrenderer\u001b[0m\u001b[0;34m.\u001b[0m\u001b[0mclose_group\u001b[0m\u001b[0;34m(\u001b[0m\u001b[0mself\u001b[0m\u001b[0;34m.\u001b[0m\u001b[0m__name__\u001b[0m\u001b[0;34m)\u001b[0m\u001b[0;34m\u001b[0m\u001b[0;34m\u001b[0m\u001b[0m\n\u001b[1;32m    299\u001b[0m         \u001b[0mself\u001b[0m\u001b[0;34m.\u001b[0m\u001b[0mstale\u001b[0m \u001b[0;34m=\u001b[0m \u001b[0;32mFalse\u001b[0m\u001b[0;34m\u001b[0m\u001b[0;34m\u001b[0m\u001b[0m\n",
            "\u001b[0;32m/usr/local/lib/python3.6/dist-packages/matplotlib/artist.py\u001b[0m in \u001b[0;36mdraw_wrapper\u001b[0;34m(artist, renderer, *args, **kwargs)\u001b[0m\n\u001b[1;32m     36\u001b[0m                 \u001b[0mrenderer\u001b[0m\u001b[0;34m.\u001b[0m\u001b[0mstart_filter\u001b[0m\u001b[0;34m(\u001b[0m\u001b[0;34m)\u001b[0m\u001b[0;34m\u001b[0m\u001b[0;34m\u001b[0m\u001b[0m\n\u001b[1;32m     37\u001b[0m \u001b[0;34m\u001b[0m\u001b[0m\n\u001b[0;32m---> 38\u001b[0;31m             \u001b[0;32mreturn\u001b[0m \u001b[0mdraw\u001b[0m\u001b[0;34m(\u001b[0m\u001b[0martist\u001b[0m\u001b[0;34m,\u001b[0m \u001b[0mrenderer\u001b[0m\u001b[0;34m,\u001b[0m \u001b[0;34m*\u001b[0m\u001b[0margs\u001b[0m\u001b[0;34m,\u001b[0m \u001b[0;34m**\u001b[0m\u001b[0mkwargs\u001b[0m\u001b[0;34m)\u001b[0m\u001b[0;34m\u001b[0m\u001b[0;34m\u001b[0m\u001b[0m\n\u001b[0m\u001b[1;32m     39\u001b[0m         \u001b[0;32mfinally\u001b[0m\u001b[0;34m:\u001b[0m\u001b[0;34m\u001b[0m\u001b[0;34m\u001b[0m\u001b[0m\n\u001b[1;32m     40\u001b[0m             \u001b[0;32mif\u001b[0m \u001b[0martist\u001b[0m\u001b[0;34m.\u001b[0m\u001b[0mget_agg_filter\u001b[0m\u001b[0;34m(\u001b[0m\u001b[0;34m)\u001b[0m \u001b[0;32mis\u001b[0m \u001b[0;32mnot\u001b[0m \u001b[0;32mNone\u001b[0m\u001b[0;34m:\u001b[0m\u001b[0;34m\u001b[0m\u001b[0;34m\u001b[0m\u001b[0m\n",
            "\u001b[0;32m/usr/local/lib/python3.6/dist-packages/matplotlib/text.py\u001b[0m in \u001b[0;36mdraw\u001b[0;34m(self, renderer)\u001b[0m\n\u001b[1;32m    716\u001b[0m                     textrenderer.draw_text(gc, x, y, clean_line,\n\u001b[1;32m    717\u001b[0m                                            \u001b[0mtextobj\u001b[0m\u001b[0;34m.\u001b[0m\u001b[0m_fontproperties\u001b[0m\u001b[0;34m,\u001b[0m \u001b[0mangle\u001b[0m\u001b[0;34m,\u001b[0m\u001b[0;34m\u001b[0m\u001b[0;34m\u001b[0m\u001b[0m\n\u001b[0;32m--> 718\u001b[0;31m                                            ismath=ismath, mtext=mtext)\n\u001b[0m\u001b[1;32m    719\u001b[0m \u001b[0;34m\u001b[0m\u001b[0m\n\u001b[1;32m    720\u001b[0m         \u001b[0mgc\u001b[0m\u001b[0;34m.\u001b[0m\u001b[0mrestore\u001b[0m\u001b[0;34m(\u001b[0m\u001b[0;34m)\u001b[0m\u001b[0;34m\u001b[0m\u001b[0;34m\u001b[0m\u001b[0m\n",
            "\u001b[0;32m/usr/local/lib/python3.6/dist-packages/matplotlib/backends/backend_agg.py\u001b[0m in \u001b[0;36mdraw_text\u001b[0;34m(self, gc, x, y, s, prop, angle, ismath, mtext)\u001b[0m\n\u001b[1;32m    189\u001b[0m \u001b[0;34m\u001b[0m\u001b[0m\n\u001b[1;32m    190\u001b[0m         self._renderer.draw_text_image(\n\u001b[0;32m--> 191\u001b[0;31m             font, np.round(x - xd + xo), np.round(y + yd + yo) + 1, angle, gc)\n\u001b[0m\u001b[1;32m    192\u001b[0m \u001b[0;34m\u001b[0m\u001b[0m\n\u001b[1;32m    193\u001b[0m     \u001b[0;32mdef\u001b[0m \u001b[0mget_text_width_height_descent\u001b[0m\u001b[0;34m(\u001b[0m\u001b[0mself\u001b[0m\u001b[0;34m,\u001b[0m \u001b[0ms\u001b[0m\u001b[0;34m,\u001b[0m \u001b[0mprop\u001b[0m\u001b[0;34m,\u001b[0m \u001b[0mismath\u001b[0m\u001b[0;34m)\u001b[0m\u001b[0;34m:\u001b[0m\u001b[0;34m\u001b[0m\u001b[0;34m\u001b[0m\u001b[0m\n",
            "\u001b[0;31mKeyboardInterrupt\u001b[0m: "
          ]
        }
      ]
    },
    {
      "cell_type": "markdown",
      "metadata": {
        "id": "-kVlv7IX3RsY",
        "colab_type": "text"
      },
      "source": [
        "Use your trained model from the previous question to predict the sentiment score of words in the lyrics corpus that are not part of the original sentiment dataset. Review the words with the highest positive and negative sentiment. Do the results make sense?"
      ]
    },
    {
      "cell_type": "code",
      "metadata": {
        "id": "VgZUs39D3RsZ",
        "colab_type": "code",
        "colab": {}
      },
      "source": [
        ""
      ],
      "execution_count": 0,
      "outputs": []
    },
    {
      "cell_type": "markdown",
      "metadata": {
        "id": "PexZrC3Z3Rsb",
        "colab_type": "text"
      },
      "source": [
        "### Visualize Word Vectors\n",
        "In this section, you'll plot words on a 2D grid based on their inner similarity. We'll use the tSNE transformation to reduce dimensions from 300 to 2. You can get sample code from https://www.kaggle.com/pierremegret/gensim-word2vec-tutorial or other tutorials online.\n",
        "\n",
        "Perform the following:\n",
        "- Keep only the 3,000 most frequent words (after removing stopwords)\n",
        "- For this list, compute for each word its relative abundance in each of the genres\n",
        "- Compute the ratio between the proportion of each word in each genre and the proportion of the word in the entire corpus (the background distribution)\n",
        "- Pick the top 50 words for each genre. These words give good indication for that genre. Join the words from all genres into a single list of top significant words. \n",
        "- Compute tSNE transformation to 2D for all words, based on their word vectors\n",
        "- Plot the list of the top significant words in 2D. Next to each word output its text. The color of each point should indicate the genre for which it is most significant.\n",
        "\n",
        "You might prefer to use a different number of points or a slightly different methodology for improved results.  \n",
        "Analyze the results."
      ]
    },
    {
      "cell_type": "code",
      "metadata": {
        "id": "njRjVeOo3Rsb",
        "colab_type": "code",
        "colab": {}
      },
      "source": [
        "\n",
        "\n",
        "\n",
        "\n",
        "def tsnescatterplot(model, genere_words):\n",
        "    \"\"\" Plot in seaborn the results from the t-SNE dimensionality reduction algorithm of the vectors of a query word,\n",
        "    its list of most similar words, and a list of words.\n",
        "    \"\"\"\n",
        "    num_of_geners = len(genere_words.keys()) * 50\n",
        "    arrays = np.empty((0, 300), dtype='f')\n",
        "    #arrays = np.empty((0,num_of_geners)  , dtype='f')\n",
        "                      \n",
        "#     word_labels = [word]\n",
        "    word_labels = []\n",
        "\n",
        "#     color_list  = ['red']\n",
        "    color_list_ptions = ['white',  'green', 'purple', 'black',  'blue', 'yellow', 'orange', 'red', 'olive', \n",
        "                  'pink', 'cyan', 'brown']\n",
        "    \n",
        "\n",
        "    color_list = []                  \n",
        "    for index, (genere, list_names) in  enumerate(genere_words.items()):\n",
        "        color = color_list_ptions[index]\n",
        "        for wrd in list_names:\n",
        "            wrd_vector = model.wv.__getitem__([wrd])   \n",
        "            word_labels.append(wrd)\n",
        "            color_list.append(color)\n",
        "            arrays = np.append(arrays, wrd_vector, axis=0)\n",
        "                      \n",
        "         \n",
        "                    \n",
        "        \n",
        "    # Reduces the dimensionality from 300 to 50 dimensions with PCA\n",
        "    reduc = PCA(n_components=50).fit_transform(arrays)\n",
        "    \n",
        "    # Finds t-SNE coordinates for 2 dimensions\n",
        "    np.set_printoptions(suppress=True)\n",
        "    \n",
        "    Y = TSNE(n_components=2, random_state=0, perplexity=15).fit_transform(reduc)\n",
        "    \n",
        "    # Sets everything up to plot\n",
        "    df = pd.DataFrame({'x': [x for x in Y[:, 0]],\n",
        "                       'y': [y for y in Y[:, 1]],\n",
        "                       'words': word_labels,\n",
        "                       'color': color_list})\n",
        "    \n",
        "    fig, _ = plt.subplots()\n",
        "    fig.set_size_inches(9, 9)\n",
        "    \n",
        "    # Basic plot\n",
        "    p1 = sns.regplot(data=df,\n",
        "                     x=\"x\",\n",
        "                     y=\"y\",\n",
        "                     fit_reg=False,\n",
        "                     marker=\"o\",\n",
        "                     scatter_kws={'s': 40,\n",
        "                                  'facecolors': df['color']\n",
        "                                 }\n",
        "                    )\n",
        "    \n",
        "    # Adds annotations one by one with a loop\n",
        "    for line in range(0, df.shape[0]):\n",
        "         p1.text(df[\"x\"][line],\n",
        "                 df['y'][line],\n",
        "                 '  ' + df[\"words\"][line].title(),\n",
        "                 horizontalalignment='left',\n",
        "                 verticalalignment='bottom', size='medium',\n",
        "                 color=df['color'][line],\n",
        "                 weight='normal'\n",
        "                ).set_size(15)\n",
        "\n",
        "    \n",
        "    plt.xlim(Y[:, 0].min()-50, Y[:, 0].max()+50)\n",
        "    plt.ylim(Y[:, 1].min()-50, Y[:, 1].max()+50)\n",
        "            \n",
        "    plt.title('t-SNE visualization for {}'.format(word.title()))"
      ],
      "execution_count": 0,
      "outputs": []
    },
    {
      "cell_type": "code",
      "metadata": {
        "id": "S5ANazMazLuO",
        "colab_type": "code",
        "colab": {}
      },
      "source": [
        "texts = lyrics_df[\"clean_lyrics\"].tolist()\n",
        "\n",
        "all_text = [item for sublist in texts for item in sublist]\n",
        "req_dist = nltk.FreqDist(all_text)\n",
        "words_couter = [(word, count) for (word, count) in req_dist.items()]\n",
        "words_couter.sort(key=lambda tup: tup[1], reverse=True) \n",
        "top_words = words_couter[0:3000]\n",
        "\n"
      ],
      "execution_count": 0,
      "outputs": []
    },
    {
      "cell_type": "code",
      "metadata": {
        "id": "S8wZuTXE0Md0",
        "colab_type": "code",
        "colab": {}
      },
      "source": [
        "geners = lyrics_df['genre'].unique()\n",
        "word_gener_counter = np.zeros(shape=(3000, len(geners)))\n",
        "word_total_counter = np.zeros(len(geners))\n",
        "word_index = {word: index for index, (word,counter) in enumerate(top_words)}\n",
        "index_word = {index:word for index, (word,counter) in enumerate(top_words)}\n",
        "\n",
        "genere_index = {genere: index for index, genere in enumerate(geners)}\n",
        "index_genere = {index:genere  for index, genere in enumerate(geners)}\n",
        "\n",
        "for index, row in lyrics_df.iterrows():\n",
        "    genre = row['genre']\n",
        "    words = row['clean_lyrics']\n",
        "    \n",
        "    current_genere_index = genere_index[genre]\n",
        "     \n",
        "    \n",
        "    for word in words:\n",
        "        if word in word_index:\n",
        "            word_total_counter[current_genere_index] += 1\n",
        "            current_word_index = word_index[word]\n",
        "            word_gener_counter[current_word_index][current_genere_index]  += 1"
      ],
      "execution_count": 0,
      "outputs": []
    },
    {
      "cell_type": "code",
      "metadata": {
        "id": "YP9jAhx_02i1",
        "colab_type": "code",
        "colab": {}
      },
      "source": [
        "ratios = word_gener_counter / word_total_counter.reshape(12)\n",
        "(ratios[1, 10],word_gener_counter[1, 10]/ word_total_counter[10])\n",
        "\n",
        "ratios_sorted = np.argsort(ratios, axis=0, kind='quicksort')\n",
        "top_ineces = ratios_sorted[0:50, :]\n",
        "\n",
        "\n",
        "ratios = word_gener_counter / word_total_counter.reshape(12)\n",
        "(ratios[1, 10],word_gener_counter[1, 10]/ word_total_counter[10])\n",
        "genget_top_words = {}\n",
        "for row in top_ineces:\n",
        "    for column, val in enumerate(row):\n",
        "        genre = index_genere[column]\n",
        "        if genre not in genget_top_words:\n",
        "            genget_top_words[genre] = []\n",
        "        \n",
        "        word = index_word[val]\n",
        "        genget_top_words[genre].append(word)\n",
        "        "
      ],
      "execution_count": 0,
      "outputs": []
    },
    {
      "cell_type": "code",
      "metadata": {
        "id": "Djy7sqvu1GWN",
        "colab_type": "code",
        "colab": {
          "base_uri": "https://localhost:8080/",
          "height": 567
        },
        "outputId": "722983da-0de7-4246-90fd-bc3c4b9e37bf"
      },
      "source": [
        "tsnescatterplot(wevec_model, genget_top_words)"
      ],
      "execution_count": 37,
      "outputs": [
        {
          "output_type": "display_data",
          "data": {
            "image/png": "[encoded data removed]",
            "text/plain": [
              "<Figure size 648x648 with 1 Axes>"
            ]
          },
          "metadata": {
            "tags": []
          }
        }
      ]
    },
    {
      "cell_type": "markdown",
      "metadata": {
        "id": "VrrV48nU3Rsd",
        "colab_type": "text"
      },
      "source": [
        "## Text Classification\n",
        "In this section, you'll build a text classifier, determining the genre of a song based on its lyrics."
      ]
    },
    {
      "cell_type": "markdown",
      "metadata": {
        "id": "ib5DLejw3Rsd",
        "colab_type": "text"
      },
      "source": [
        "### Text classification using Bag-of-Words\n",
        "Build a Naive Bayes classifier based on the bag of Words.  \n",
        "You will need to divide your dataset into a train and test sets."
      ]
    },
    {
      "cell_type": "code",
      "metadata": {
        "id": "lxmPDfzs3Rse",
        "colab_type": "code",
        "colab": {}
      },
      "source": [
        "lyrics_df['clean_sentense'] = lyrics_df['clean_lyrics'].map(lambda words: ' '.join(words)) \n",
        "train, test = train_test_split(lyrics_df, test_size=0.2, random_state=999)\n",
        "\n",
        "\n",
        "X_train = train['clean_sentense'].tolist()\n",
        "y_train = train['genre'].tolist()\n",
        "\n",
        "\n",
        "X_test = test['clean_sentense']\n",
        "y_test = test['genre']"
      ],
      "execution_count": 0,
      "outputs": []
    },
    {
      "cell_type": "code",
      "metadata": {
        "id": "g2pz0yy71teu",
        "colab_type": "code",
        "colab": {}
      },
      "source": [
        "vect = CountVectorizer()\n",
        "X_train_dtm = vect.fit_transform(X_train)"
      ],
      "execution_count": 0,
      "outputs": []
    },
    {
      "cell_type": "code",
      "metadata": {
        "id": "WAZYk3h_1wcO",
        "colab_type": "code",
        "colab": {
          "base_uri": "https://localhost:8080/",
          "height": 34
        },
        "outputId": "f3d55c67-5f6e-4793-cbe4-96fd87e4e301"
      },
      "source": [
        "nb = MultinomialNB()\n",
        "nb.fit(X_train_dtm, y_train)\n"
      ],
      "execution_count": 40,
      "outputs": [
        {
          "output_type": "execute_result",
          "data": {
            "text/plain": [
              "MultinomialNB(alpha=1.0, class_prior=None, fit_prior=True)"
            ]
          },
          "metadata": {
            "tags": []
          },
          "execution_count": 40
        }
      ]
    },
    {
      "cell_type": "code",
      "metadata": {
        "id": "Su2jIiCS1zQe",
        "colab_type": "code",
        "colab": {
          "base_uri": "https://localhost:8080/",
          "height": 34
        },
        "outputId": "c7c94056-c2ed-4e79-9e8c-483a623e2968"
      },
      "source": [
        "X_test_dtm = vect.transform(X_test)\n",
        "y_pred_class = nb.predict(X_test_dtm)\n",
        "accuracy = accuracy_score(y_test, y_pred_class)\n",
        "accuracy\n"
      ],
      "execution_count": 41,
      "outputs": [
        {
          "output_type": "execute_result",
          "data": {
            "text/plain": [
              "0.509929532351057"
            ]
          },
          "metadata": {
            "tags": []
          },
          "execution_count": 41
        }
      ]
    },
    {
      "cell_type": "markdown",
      "metadata": {
        "id": "xbGekJtg3Rsf",
        "colab_type": "text"
      },
      "source": [
        "Show the confusion matrix."
      ]
    },
    {
      "cell_type": "code",
      "metadata": {
        "id": "1YWleqZZ3Rsg",
        "colab_type": "code",
        "colab": {
          "base_uri": "https://localhost:8080/",
          "height": 818
        },
        "outputId": "fdeb3b92-f4af-4a9a-995f-dc8c001b1999"
      },
      "source": [
        "geners = lyrics_df['genre'].unique()\n",
        "conf_mat = confusion_matrix(y_test, y_pred_class, labels = geners)\n",
        "plt_confusion_matrix(conf_mat, geners)"
      ],
      "execution_count": 45,
      "outputs": [
        {
          "output_type": "display_data",
          "data": {
            "image/png": "[encoded data removed]",
            "text/plain": [
              "<Figure size 1440x1008 with 2 Axes>"
            ]
          },
          "metadata": {
            "tags": []
          }
        }
      ]
    },
    {
      "cell_type": "markdown",
      "metadata": {
        "id": "mILK18503Rsh",
        "colab_type": "text"
      },
      "source": [
        "Show the classification report - precision, recall, f1 for each class."
      ]
    },
    {
      "cell_type": "code",
      "metadata": {
        "id": "Wk6gn2V83Rsi",
        "colab_type": "code",
        "colab": {
          "base_uri": "https://localhost:8080/",
          "height": 340
        },
        "outputId": "dd996d79-dd0a-4f20-8368-c60d057ac49a"
      },
      "source": [
        "print(classification_report(y_test, y_pred_class))\n"
      ],
      "execution_count": 47,
      "outputs": [
        {
          "output_type": "stream",
          "text": [
            "               precision    recall  f1-score   support\n",
            "\n",
            "      Country       0.39      0.28      0.33      2888\n",
            "   Electronic       0.55      0.04      0.07      1581\n",
            "         Folk       0.21      0.09      0.13       435\n",
            "      Hip-Hop       0.64      0.74      0.69      5008\n",
            "        Indie       0.50      0.00      0.01       595\n",
            "         Jazz       0.38      0.07      0.12      1566\n",
            "        Metal       0.56      0.59      0.58      4719\n",
            "Not Available       0.28      0.20      0.24      4583\n",
            "        Other       0.15      0.12      0.13      1037\n",
            "          Pop       0.45      0.16      0.23      8114\n",
            "          R&B       0.33      0.01      0.01       695\n",
            "         Rock       0.53      0.79      0.63     21853\n",
            "\n",
            "     accuracy                           0.51     53074\n",
            "    macro avg       0.41      0.26      0.26     53074\n",
            " weighted avg       0.48      0.51      0.46     53074\n",
            "\n"
          ],
          "name": "stdout"
        }
      ]
    },
    {
      "cell_type": "markdown",
      "metadata": {
        "id": "kMkFvrqg3Rsl",
        "colab_type": "text"
      },
      "source": [
        "[link text](https://)### Text classification using Word Vectors\n",
        "#### Average word vectors\n",
        "Do the same, using a classifier that averages the word vectors of words in the document."
      ]
    },
    {
      "cell_type": "code",
      "metadata": {
        "id": "ZF4dN0lX3Rsm",
        "colab_type": "code",
        "colab": {}
      },
      "source": [
        "def avg_sentense(sentense_words):\n",
        "    vectors = []\n",
        "    for word in sentense_words:\n",
        "      if word in wevec_model.wv:\n",
        "        vectors.append(wevec_model.wv[word].reshape(1,-1))\n",
        "    \n",
        "    if len(vectors) > 1:\n",
        "        #return np.mean(vectors, axis=0)\n",
        "        return np.concatenate(vectors).mean(axis=0).flatten()\n",
        "        \n",
        "    elif len(vectors) ==1:\n",
        "        return vectors[0][0].flatten()\n",
        "    else:\n",
        "        return None\n"
      ],
      "execution_count": 0,
      "outputs": []
    },
    {
      "cell_type": "code",
      "metadata": {
        "id": "92AatOAl3Jis",
        "colab_type": "code",
        "colab": {}
      },
      "source": [
        "lyrics_df = lyrics_df[lyrics_df.clean_lyrics.notnull()]\n",
        "lyrics_df['avg_vector'] = lyrics_df[\"clean_lyrics\"].map(lambda sentense: (avg_sentense(sentense)))"
      ],
      "execution_count": 0,
      "outputs": []
    },
    {
      "cell_type": "code",
      "metadata": {
        "id": "Z-7c1DmE5C41",
        "colab_type": "code",
        "colab": {
          "base_uri": "https://localhost:8080/",
          "height": 71
        },
        "outputId": "5b476e0e-5620-4381-c1cc-2ccc058b83fb"
      },
      "source": [
        "lyrics_df[\"clean_lyrics\"].sample(1).map(lambda sentense: (avg_sentense(sentense)))"
      ],
      "execution_count": 82,
      "outputs": [
        {
          "output_type": "execute_result",
          "data": {
            "text/plain": [
              "289396    [-0.5018303, 0.55506, -0.055607695, 0.18106334, 0.6255077, -0.5162023, 1.0287136, 1.5346574, 0.35379058, 0.11648924, 0.39957562, 1.376006, 0.59835595, -0.4191012, -0.35221186, -0.06991421, 0.38435674, 0.70955426, -1.1908681, -0.28061524, 0.12701692, 0.3369138, 0.38385534, -0.17301916, -0.6557818, -0.5968585, 0.27325913, -0.3394589, -0.7789423, 0.38745955, -0.68865347, 0.24971454, 0.55055755, 0.44622713, 0.09521971, -0.83432865, 0.54070836, 0.4017019, -1.6859702, 0.2476546, 0.81857115, -0.1769637, -0.24311955, 0.13981824, -1.0457183, 0.33445767, -0.15838598, 0.49297008, -0.21521111, 0.2917587, -0.5116512, -0.66315776, 0.9215394, 0.44875887, -0.347298, -0.64172494, -0.04161022, -0.017646752, -0.6238763, -0.86569196, 0.4269472, 0.28925163, -0.04513591, 1.0675752, 0.31119442, 0.81247103, -0.14964531, 0.34749928, 0.54454356, -0.4930853, 0.2775732, -0.35631588, 0.5577445, -0.0931644, -0.2487093, 0.35882428, 0.106339835, -0.64089066, -0.5358259, 0.34448376, -0.14298555, -0.15740047, -0.05161639, 0.56175435, -0.79820114, 0.8540802, -0.2767713, 0.34338468, -0.5215441, 0.42800733, 0.3429671, -0.0299894, -0.09017712, 0.61689794, 0.18135175, -0.48914197, 0.06334644, -0.06656703, 0.3240266, 0.40713874, ...]\n",
              "Name: clean_lyrics, dtype: object"
            ]
          },
          "metadata": {
            "tags": []
          },
          "execution_count": 82
        }
      ]
    },
    {
      "cell_type": "code",
      "metadata": {
        "id": "SjNFnKYb4OTv",
        "colab_type": "code",
        "colab": {}
      },
      "source": [
        "train, test = train_test_split(lyrics_df, test_size=0.2, random_state=999)\n"
      ],
      "execution_count": 0,
      "outputs": []
    },
    {
      "cell_type": "code",
      "metadata": {
        "id": "Fq1PEwsc3DTG",
        "colab_type": "code",
        "colab": {}
      },
      "source": [
        "X_train = train['avg_vector'].tolist()\n",
        "#X_train = [x.squeeze() for x in X_train]\n",
        "#X_train = np.asanyarray(X_train)\n",
        "\n",
        "y_train = train['genre'].tolist()\n",
        "\n",
        "X_test = test['avg_vector'].tolist()\n",
        "# X_test = [x.squeeze() for x in X_test]\n",
        "# X_test = np.asanyarray(X_test)\n",
        "\n",
        "y_test = test['genre']\n"
      ],
      "execution_count": 0,
      "outputs": []
    },
    {
      "cell_type": "code",
      "metadata": {
        "id": "rxqmW3p9690M",
        "colab_type": "code",
        "colab": {
          "base_uri": "https://localhost:8080/",
          "height": 375
        },
        "outputId": "f0182952-f4e5-49a3-e119-80634a910ce7"
      },
      "source": [
        "\n",
        "scaler = MinMaxScaler()\n",
        "scaler.fit(X_train)\n",
        "X_scaled = scaler.transform(X_train)\n",
        "X_test1 = scaler.transform(X_test)\n"
      ],
      "execution_count": 88,
      "outputs": [
        {
          "output_type": "error",
          "ename": "ValueError",
          "evalue": "ignored",
          "traceback": [
            "\u001b[0;31m---------------------------------------------------------------------------\u001b[0m",
            "\u001b[0;31mValueError\u001b[0m                                Traceback (most recent call last)",
            "\u001b[0;32m<ipython-input-88-aca6a6a01d36>\u001b[0m in \u001b[0;36m<module>\u001b[0;34m()\u001b[0m\n\u001b[1;32m      1\u001b[0m \u001b[0;34m\u001b[0m\u001b[0m\n\u001b[1;32m      2\u001b[0m \u001b[0mscaler\u001b[0m \u001b[0;34m=\u001b[0m \u001b[0mMinMaxScaler\u001b[0m\u001b[0;34m(\u001b[0m\u001b[0;34m)\u001b[0m\u001b[0;34m\u001b[0m\u001b[0;34m\u001b[0m\u001b[0m\n\u001b[0;32m----> 3\u001b[0;31m \u001b[0mscaler\u001b[0m\u001b[0;34m.\u001b[0m\u001b[0mfit\u001b[0m\u001b[0;34m(\u001b[0m\u001b[0mX_train\u001b[0m\u001b[0;34m)\u001b[0m\u001b[0;34m\u001b[0m\u001b[0;34m\u001b[0m\u001b[0m\n\u001b[0m\u001b[1;32m      4\u001b[0m \u001b[0mX_scaled\u001b[0m \u001b[0;34m=\u001b[0m \u001b[0mscaler\u001b[0m\u001b[0;34m.\u001b[0m\u001b[0mtransform\u001b[0m\u001b[0;34m(\u001b[0m\u001b[0mX_train\u001b[0m\u001b[0;34m)\u001b[0m\u001b[0;34m\u001b[0m\u001b[0;34m\u001b[0m\u001b[0m\n\u001b[1;32m      5\u001b[0m \u001b[0mX_test1\u001b[0m \u001b[0;34m=\u001b[0m \u001b[0mscaler\u001b[0m\u001b[0;34m.\u001b[0m\u001b[0mtransform\u001b[0m\u001b[0;34m(\u001b[0m\u001b[0mX_test\u001b[0m\u001b[0;34m)\u001b[0m\u001b[0;34m\u001b[0m\u001b[0;34m\u001b[0m\u001b[0m\n",
            "\u001b[0;32m/usr/local/lib/python3.6/dist-packages/sklearn/preprocessing/data.py\u001b[0m in \u001b[0;36mfit\u001b[0;34m(self, X, y)\u001b[0m\n\u001b[1;32m    323\u001b[0m         \u001b[0;31m# Reset internal state before fitting\u001b[0m\u001b[0;34m\u001b[0m\u001b[0;34m\u001b[0m\u001b[0;34m\u001b[0m\u001b[0m\n\u001b[1;32m    324\u001b[0m         \u001b[0mself\u001b[0m\u001b[0;34m.\u001b[0m\u001b[0m_reset\u001b[0m\u001b[0;34m(\u001b[0m\u001b[0;34m)\u001b[0m\u001b[0;34m\u001b[0m\u001b[0;34m\u001b[0m\u001b[0m\n\u001b[0;32m--> 325\u001b[0;31m         \u001b[0;32mreturn\u001b[0m \u001b[0mself\u001b[0m\u001b[0;34m.\u001b[0m\u001b[0mpartial_fit\u001b[0m\u001b[0;34m(\u001b[0m\u001b[0mX\u001b[0m\u001b[0;34m,\u001b[0m \u001b[0my\u001b[0m\u001b[0;34m)\u001b[0m\u001b[0;34m\u001b[0m\u001b[0;34m\u001b[0m\u001b[0m\n\u001b[0m\u001b[1;32m    326\u001b[0m \u001b[0;34m\u001b[0m\u001b[0m\n\u001b[1;32m    327\u001b[0m     \u001b[0;32mdef\u001b[0m \u001b[0mpartial_fit\u001b[0m\u001b[0;34m(\u001b[0m\u001b[0mself\u001b[0m\u001b[0;34m,\u001b[0m \u001b[0mX\u001b[0m\u001b[0;34m,\u001b[0m \u001b[0my\u001b[0m\u001b[0;34m=\u001b[0m\u001b[0;32mNone\u001b[0m\u001b[0;34m)\u001b[0m\u001b[0;34m:\u001b[0m\u001b[0;34m\u001b[0m\u001b[0;34m\u001b[0m\u001b[0m\n",
            "\u001b[0;32m/usr/local/lib/python3.6/dist-packages/sklearn/preprocessing/data.py\u001b[0m in \u001b[0;36mpartial_fit\u001b[0;34m(self, X, y)\u001b[0m\n\u001b[1;32m    351\u001b[0m         X = check_array(X, copy=self.copy,\n\u001b[1;32m    352\u001b[0m                         \u001b[0mestimator\u001b[0m\u001b[0;34m=\u001b[0m\u001b[0mself\u001b[0m\u001b[0;34m,\u001b[0m \u001b[0mdtype\u001b[0m\u001b[0;34m=\u001b[0m\u001b[0mFLOAT_DTYPES\u001b[0m\u001b[0;34m,\u001b[0m\u001b[0;34m\u001b[0m\u001b[0;34m\u001b[0m\u001b[0m\n\u001b[0;32m--> 353\u001b[0;31m                         force_all_finite=\"allow-nan\")\n\u001b[0m\u001b[1;32m    354\u001b[0m \u001b[0;34m\u001b[0m\u001b[0m\n\u001b[1;32m    355\u001b[0m         \u001b[0mdata_min\u001b[0m \u001b[0;34m=\u001b[0m \u001b[0mnp\u001b[0m\u001b[0;34m.\u001b[0m\u001b[0mnanmin\u001b[0m\u001b[0;34m(\u001b[0m\u001b[0mX\u001b[0m\u001b[0;34m,\u001b[0m \u001b[0maxis\u001b[0m\u001b[0;34m=\u001b[0m\u001b[0;36m0\u001b[0m\u001b[0;34m)\u001b[0m\u001b[0;34m\u001b[0m\u001b[0;34m\u001b[0m\u001b[0m\n",
            "\u001b[0;32m/usr/local/lib/python3.6/dist-packages/sklearn/utils/validation.py\u001b[0m in \u001b[0;36mcheck_array\u001b[0;34m(array, accept_sparse, accept_large_sparse, dtype, order, copy, force_all_finite, ensure_2d, allow_nd, ensure_min_samples, ensure_min_features, warn_on_dtype, estimator)\u001b[0m\n\u001b[1;32m    494\u001b[0m             \u001b[0;32mtry\u001b[0m\u001b[0;34m:\u001b[0m\u001b[0;34m\u001b[0m\u001b[0;34m\u001b[0m\u001b[0m\n\u001b[1;32m    495\u001b[0m                 \u001b[0mwarnings\u001b[0m\u001b[0;34m.\u001b[0m\u001b[0msimplefilter\u001b[0m\u001b[0;34m(\u001b[0m\u001b[0;34m'error'\u001b[0m\u001b[0;34m,\u001b[0m \u001b[0mComplexWarning\u001b[0m\u001b[0;34m)\u001b[0m\u001b[0;34m\u001b[0m\u001b[0;34m\u001b[0m\u001b[0m\n\u001b[0;32m--> 496\u001b[0;31m                 \u001b[0marray\u001b[0m \u001b[0;34m=\u001b[0m \u001b[0mnp\u001b[0m\u001b[0;34m.\u001b[0m\u001b[0masarray\u001b[0m\u001b[0;34m(\u001b[0m\u001b[0marray\u001b[0m\u001b[0;34m,\u001b[0m \u001b[0mdtype\u001b[0m\u001b[0;34m=\u001b[0m\u001b[0mdtype\u001b[0m\u001b[0;34m,\u001b[0m \u001b[0morder\u001b[0m\u001b[0;34m=\u001b[0m\u001b[0morder\u001b[0m\u001b[0;34m)\u001b[0m\u001b[0;34m\u001b[0m\u001b[0;34m\u001b[0m\u001b[0m\n\u001b[0m\u001b[1;32m    497\u001b[0m             \u001b[0;32mexcept\u001b[0m \u001b[0mComplexWarning\u001b[0m\u001b[0;34m:\u001b[0m\u001b[0;34m\u001b[0m\u001b[0;34m\u001b[0m\u001b[0m\n\u001b[1;32m    498\u001b[0m                 raise ValueError(\"Complex data not supported\\n\"\n",
            "\u001b[0;32m/usr/local/lib/python3.6/dist-packages/numpy/core/_asarray.py\u001b[0m in \u001b[0;36masarray\u001b[0;34m(a, dtype, order)\u001b[0m\n\u001b[1;32m     83\u001b[0m \u001b[0;34m\u001b[0m\u001b[0m\n\u001b[1;32m     84\u001b[0m     \"\"\"\n\u001b[0;32m---> 85\u001b[0;31m     \u001b[0;32mreturn\u001b[0m \u001b[0marray\u001b[0m\u001b[0;34m(\u001b[0m\u001b[0ma\u001b[0m\u001b[0;34m,\u001b[0m \u001b[0mdtype\u001b[0m\u001b[0;34m,\u001b[0m \u001b[0mcopy\u001b[0m\u001b[0;34m=\u001b[0m\u001b[0;32mFalse\u001b[0m\u001b[0;34m,\u001b[0m \u001b[0morder\u001b[0m\u001b[0;34m=\u001b[0m\u001b[0morder\u001b[0m\u001b[0;34m)\u001b[0m\u001b[0;34m\u001b[0m\u001b[0;34m\u001b[0m\u001b[0m\n\u001b[0m\u001b[1;32m     86\u001b[0m \u001b[0;34m\u001b[0m\u001b[0m\n\u001b[1;32m     87\u001b[0m \u001b[0;34m\u001b[0m\u001b[0m\n",
            "\u001b[0;31mValueError\u001b[0m: setting an array element with a sequence."
          ]
        }
      ]
    },
    {
      "cell_type": "code",
      "metadata": {
        "id": "18v2ecl46xWW",
        "colab_type": "code",
        "colab": {}
      },
      "source": [
        "translator = {}\n",
        "translator2 = {}\n",
        "for index, y in  enumerate(set(y_train)):\n",
        "    translator[index] = y\n",
        "    translator2[y] = index"
      ],
      "execution_count": 0,
      "outputs": []
    },
    {
      "cell_type": "code",
      "metadata": {
        "id": "Xml2Tv3j62X8",
        "colab_type": "code",
        "colab": {
          "base_uri": "https://localhost:8080/",
          "height": 181
        },
        "outputId": "d4c50262-9753-45ec-825d-b694908dcff7"
      },
      "source": [
        "nb = MultinomialNB()\n",
        "nb.fit(X_scaled, y_train_numbers)"
      ],
      "execution_count": 87,
      "outputs": [
        {
          "output_type": "error",
          "ename": "NameError",
          "evalue": "ignored",
          "traceback": [
            "\u001b[0;31m---------------------------------------------------------------------------\u001b[0m",
            "\u001b[0;31mNameError\u001b[0m                                 Traceback (most recent call last)",
            "\u001b[0;32m<ipython-input-87-93fdb0e226ec>\u001b[0m in \u001b[0;36m<module>\u001b[0;34m()\u001b[0m\n\u001b[1;32m      1\u001b[0m \u001b[0mnb\u001b[0m \u001b[0;34m=\u001b[0m \u001b[0mMultinomialNB\u001b[0m\u001b[0;34m(\u001b[0m\u001b[0;34m)\u001b[0m\u001b[0;34m\u001b[0m\u001b[0;34m\u001b[0m\u001b[0m\n\u001b[0;32m----> 2\u001b[0;31m \u001b[0mnb\u001b[0m\u001b[0;34m.\u001b[0m\u001b[0mfit\u001b[0m\u001b[0;34m(\u001b[0m\u001b[0mX_scaled\u001b[0m\u001b[0;34m,\u001b[0m \u001b[0my_train_numbers\u001b[0m\u001b[0;34m)\u001b[0m\u001b[0;34m\u001b[0m\u001b[0;34m\u001b[0m\u001b[0m\n\u001b[0m",
            "\u001b[0;31mNameError\u001b[0m: name 'X_scaled' is not defined"
          ]
        }
      ]
    },
    {
      "cell_type": "code",
      "metadata": {
        "id": "wjM_fQ176ziE",
        "colab_type": "code",
        "colab": {}
      },
      "source": [
        "y_train_numbers = [translator2[y] for y in y_train]"
      ],
      "execution_count": 0,
      "outputs": []
    },
    {
      "cell_type": "code",
      "metadata": {
        "id": "qWlw8SqO4ylW",
        "colab_type": "code",
        "colab": {
          "base_uri": "https://localhost:8080/",
          "height": 1000
        },
        "outputId": "e2a4fead-23b2-4322-dd33-f9d079454e8e"
      },
      "source": [
        "train.sample(10)"
      ],
      "execution_count": 61,
      "outputs": [
        {
          "output_type": "execute_result",
          "data": {
            "text/html": [
              "<div>\n",
              "<style scoped>\n",
              "    .dataframe tbody tr th:only-of-type {\n",
              "        vertical-align: middle;\n",
              "    }\n",
              "\n",
              "    .dataframe tbody tr th {\n",
              "        vertical-align: top;\n",
              "    }\n",
              "\n",
              "    .dataframe thead th {\n",
              "        text-align: right;\n",
              "    }\n",
              "</style>\n",
              "<table border=\"1\" class=\"dataframe\">\n",
              "  <thead>\n",
              "    <tr style=\"text-align: right;\">\n",
              "      <th></th>\n",
              "      <th>genre</th>\n",
              "      <th>lyrics</th>\n",
              "      <th>clean_lyrics</th>\n",
              "      <th>clean_sentense</th>\n",
              "      <th>avg_vector</th>\n",
              "    </tr>\n",
              "  </thead>\n",
              "  <tbody>\n",
              "    <tr>\n",
              "      <th>75052</th>\n",
              "      <td>Not Available</td>\n",
              "      <td>Candle light and chocolate kisses\\nCalls to say you missed me when we started\\nGerald:\\nYour nails was done, your hair was pressed\\nI miss the way you used to dress\\nWhen I met you\\nI really do\\nKelly:\\nI gave my best 4 years, my time was wasted\\nGerald:\\nSee I shared your fears, and the tears you cried I tasted\\nKelly:\\nBaby, I loved your kids, opened up my home. Yes I did\\nGerald:\\nPaid your mama's bills. Gave you all when\\nyou had nothing.\\nChorus\\nLove you so, can't let go.\\nNever thought I'd be without you\\nCan't imagine life without you\\nwalk away, everyday.\\nTold me that you'd never leave.\\nBut now you say it hurts too much to stay.\\nKelly:\\nToo much to stay\\nGerald:\\nSaid it's hard for me\\nYour lover's stayin with his mom\\nTell me was it worth the drama oh baby\\nSee we got our own kids yeah\\nKelly:\\nIf there had to be another.\\nWhy go trick'n in the gutter\\nAnd drivin our sh.... mmmmmm\\nboo baby\\nGerald:\\nSee I know he can't put that thang down like I do.\\nKelly:\\nBaby that was the past. You don't roll like you used\\nGerald:\\nSaid what's my motivation\\nGirl I'm better off alone.\\nKelly:\\nTell me why can't we just walk away.\\nGerald and Kelly:\\nWhy are we so torn?\\nChorus\\nBoth:\\nNever meant to hurt you.\\nG: you walk away from me\\ntell me why did you change\\nKelly:\\nCan't it be all that we have hoped and prayed for\\nnow its gone away\\nGerald:\\nOh baby, everything. Our hopes and dreams they are\\nno longer. We can't go back the way it used to be\\nsaid now really.\\nChorus\\nGerald:\\nTryin to make you understand that I only just a man\\nKelly:\\nGoing to jail cause I kill yo girl\\nGoing to jail cause I kill yo girl\\nGerald:\\nCome on now don't do this now\\ncome on now don't do this now\\nKelly:\\nYour body belongs to me\\nShe can't have you no matter what she thinks\\nNo no no no no no no no no</td>\n",
              "      <td>[candle, light, chocolate, kisses, calls, say, missed, started, gerald, nails, done, hair, pressed, miss, way, used, dress, met, really, kelly, gave, best, years, time, wasted, gerald, see, shared, fears, tears, cried, tasted, kelly, baby, loved, kids, opened, home, yes, gerald, paid, mama, bills, gave, nothing, chorus, love, let, go, never, thought, without, imagine, life, without, walk, away, everyday, told, never, leave, say, hurts, much, stay, kelly, much, stay, gerald, said, hard, lover, stayin, mom, tell, worth, drama, oh, baby, see, got, kids, yeah, kelly, another, go, trick, n, gutter, drivin, sh, mmmmmm, boo, baby, gerald, see, know, put, thang, like, ...]</td>\n",
              "      <td>candle light chocolate kisses calls say missed started gerald nails done hair pressed miss way used dress met really kelly gave best years time wasted gerald see shared fears tears cried tasted kelly baby loved kids opened home yes gerald paid mama bills gave nothing chorus love let go never thought without imagine life without walk away everyday told never leave say hurts much stay kelly much stay gerald said hard lover stayin mom tell worth drama oh baby see got kids yeah kelly another go trick n gutter drivin sh mmmmmm boo baby gerald see know put thang like kelly baby past roll like used gerald said motivation girl better alone kelly tell walk away gerald kelly torn chorus never meant hurt g walk away tell change kelly hoped prayed gone away gerald oh baby everything hopes dreams longer go back way used said really chorus gerald tryin make understand man kelly going jail cause kill yo girl going jail cause kill yo girl gerald come come kelly body belongs matter thinks</td>\n",
              "      <td>[-0.22532901, 0.424555, 0.22073254, 0.12915924, 0.7011071, -0.3741459, 0.7637562, 0.92419267, 0.39707303, 0.07572546, 0.49225128, 0.9475905, 0.61015683, -0.45786718, -0.5193757, -0.16280635, 0.23117271, 0.44702598, -0.81277746, -0.17867742, 0.24962763, 0.2361407, 0.12101826, -0.092190266, -0.44787735, -0.33349103, 0.31659085, -0.16030036, -0.46242744, -0.08145312, -0.5198053, 0.019894991, 0.6621323, 0.44839695, -0.15070549, -0.6019854, 0.44540128, 0.34905896, -1.1166136, 0.13434638, 0.5953365, -0.2626083, -0.08498721, -0.12428504, -0.65177125, 0.26403317, -0.10953179, 0.3179784, -0.3922562, 0.3393174, -0.37460476, -0.4008053, 0.8146178, 0.5983496, -0.14642136, -0.25825804, -0.310164, -0.21116808, -0.70248103, -0.5284628, 0.44711468, 0.35553485, -0.19262443, 0.5949393, 0.22483504, 0.4329253, -0.5418641, -0.12646642, 0.24915764, -0.14854474, 0.0054409206, -0.28900778, 0.5124558, -0.14311737, -0.13628726, 0.23099326, 0.14318955, -0.31789216, -0.2759828, -0.20666453, 0.009083697, -0.151864, 0.012302964, 0.3662331, -0.80934495, 0.991142, -0.2566387, 0.11619717, -0.3993701, 0.5504545, 0.43415335, 0.17014353, -0.53965116, 0.5409569, 0.17368901, -0.37788585, 0.006880996, -0.10967528, 0.29722267, 0.10947384, ...]</td>\n",
              "    </tr>\n",
              "    <tr>\n",
              "      <th>12696</th>\n",
              "      <td>Rock</td>\n",
              "      <td>I hear the train all night\\nSound of its wind blowing through our subtle lives\\nAnd I have a job to do walking these cars\\nWalking all asleep to get to you\\nBut I don't feel your stir beside me\\nAnd your not in my morning hour\\nSome ties are made to break\\nSome stalks grow high and green to run away\\nAnd feel the wake\\nAnd these lines tell the truth\\nThese city veins answer all you do\\nSo could you keep me in the pulses\\nCould you keep me in the sound\\nI got wise and I got old\\nNot once, not once did I fall\\nSo don't you know\\nMaybe you bet on me\\nWhile we were still young enough to know\\nOr to believe\\nFor every year you took\\nFor every soft breathe or loving look\\nBelieve me\\nAnd don't keep me like you have me\\nAnd don't kiss me like you don't\\nI got wise and I got old\\nNot once, not once did I fall\\nSo don't you now\\nSome land holds a home\\nSome of my years only hold me to Rome\\nBut I tell myself its true\\nYou see a home you see a man\\nYou see it too\\nAnd I say don't you know you have her\\nGo on kiss her now you boy\\nI got wise and I got old\\nNot once, not once did I fall\\nSo don't you now\\nI got wise and I got old\\nNot once, not once did I fall\\nSo don't you now</td>\n",
              "      <td>[hear, train, night, sound, wind, blowing, subtle, lives, job, walking, cars, walking, asleep, get, feel, stir, beside, morning, hour, ties, made, break, stalks, grow, high, green, run, away, feel, wake, lines, tell, truth, city, veins, answer, could, keep, pulses, could, keep, sound, got, wise, got, old, fall, know, maybe, bet, still, young, enough, know, believe, every, year, took, every, soft, breathe, loving, look, believe, keep, like, kiss, like, got, wise, got, old, fall, land, holds, home, years, hold, rome, tell, true, see, home, see, man, see, say, know, go, kiss, boy, got, wise, got, old, fall, got, wise, got, old, ...]</td>\n",
              "      <td>hear train night sound wind blowing subtle lives job walking cars walking asleep get feel stir beside morning hour ties made break stalks grow high green run away feel wake lines tell truth city veins answer could keep pulses could keep sound got wise got old fall know maybe bet still young enough know believe every year took every soft breathe loving look believe keep like kiss like got wise got old fall land holds home years hold rome tell true see home see man see say know go kiss boy got wise got old fall got wise got old fall</td>\n",
              "      <td>[-0.5465219, 0.45740426, -0.022095501, 0.06439891, 0.56843036, -0.19221778, 0.82942873, 0.9376329, 0.34099662, 0.2620498, 0.41120964, 1.3563102, 0.8772306, -0.87869895, -0.7878143, 0.044656623, 0.28320336, 0.36525968, -0.9714588, -0.17588341, 0.31858167, 0.14847249, 0.21078786, -0.056434125, -0.4779424, -0.112617165, 0.35978454, -0.36305842, -0.4413551, 0.1023605, -0.5622147, 0.2882587, 0.76581156, 0.471019, -0.25838742, -0.7375838, 0.45485353, 0.60927254, -1.3849833, 0.39378724, 0.5732335, -0.26489267, -0.106336705, -0.16014417, -0.8941633, 0.17088467, 0.1140739, 0.3693444, -0.088731565, 0.27603567, -0.18319264, -0.71061456, 0.77695554, 0.6463247, -0.22899915, -0.09095661, -0.38438314, 0.2055388, -0.5948543, -0.80971545, 0.28671876, 0.32619524, -0.0900234, 0.65851223, 0.12014842, 0.53110975, -0.55571604, 0.23414628, 0.16033196, -0.30773088, -0.24883778, -0.3244681, 0.75295055, -0.03682625, -0.23608668, 0.52546823, 0.39917925, -0.38293993, -0.15272562, -0.13225037, -0.15725526, -0.042635012, 0.10520819, 0.5154441, -0.74842274, 1.1342978, 0.094613366, 0.30467978, -0.53539217, 0.8573019, 0.67027473, 0.443938, -0.40029535, 0.7695861, 0.22019866, -0.30204758, 0.027214102, -0.104258545, 0.36705527, 0.20551436, ...]</td>\n",
              "    </tr>\n",
              "    <tr>\n",
              "      <th>343290</th>\n",
              "      <td>Hip-Hop</td>\n",
              "      <td>You're jealous.\\nYou just can't stand to see me get along without you, like I do. You told me to.\\nNow you're jealous.\\nYou don't khow how hard it was to be alone without you, &amp; wanting you. like I do.\\n[Chorus:]\\nI would have stayed if you'd want it would have been willing\\nBut you said I treat you so badly,\\nI can't be forgiven.\\nYou know I would have done anything\\nTo make it through with you.\\nBut I don't deserve to be lonely,\\nJust cause you say I do.\\nYou're jealous\\nYou don't know how hard it is to be a woman in love with you, when you're so cruel &amp; so jealous.\\nYou don't think about anybodies feelings but your own.\\nAre you coming home?\\n[Chorus:]\\nI would have stayed if you'd want it would have been willing\\nBut you said I treat you so badly,\\nI can't be forgiven.\\nYou know I would have done anything\\nTo make it through with you.\\nBut I don't deserve to be lonely,\\nJust cause you say I do.\\nSo if you're gonna go, you're gonna go, &amp; if you're stayin, stay.\\nCause I can't take the pain you keep leaving when you go away.\\nSo if you're gonna go, you're gonna go, &amp; if you're stayin, stay.\\nCause I can't take the pain you keep leaving when you go away.\\nI don't deserve to be so lonely.\\nI don't deserve to cry.\\nI don't deserve to be so lonely.</td>\n",
              "      <td>[jealous, stand, see, get, along, without, like, told, jealous, khow, hard, alone, without, wanting, like, chorus, would, stayed, want, would, willing, said, treat, badly, forgiven, know, would, done, anything, make, deserve, lonely, cause, say, jealous, know, hard, woman, love, cruel, jealous, think, anybodies, feelings, coming, home, chorus, would, stayed, want, would, willing, said, treat, badly, forgiven, know, would, done, anything, make, deserve, lonely, cause, say, gonna, go, gonna, go, stayin, stay, cause, take, pain, keep, leaving, go, away, gonna, go, gonna, go, stayin, stay, cause, take, pain, keep, leaving, go, away, deserve, lonely, deserve, cry, deserve, lonely]</td>\n",
              "      <td>jealous stand see get along without like told jealous khow hard alone without wanting like chorus would stayed want would willing said treat badly forgiven know would done anything make deserve lonely cause say jealous know hard woman love cruel jealous think anybodies feelings coming home chorus would stayed want would willing said treat badly forgiven know would done anything make deserve lonely cause say gonna go gonna go stayin stay cause take pain keep leaving go away gonna go gonna go stayin stay cause take pain keep leaving go away deserve lonely deserve cry deserve lonely</td>\n",
              "      <td>[-0.5119409, 0.58078736, 0.074781924, 0.0236012, 0.5547622, -0.5424808, 1.1292261, 1.3248911, 0.3841302, 0.0071630925, 0.34874722, 0.9062822, 0.7586662, -0.47584948, -0.5049665, -0.33049014, 0.29096857, 0.58158076, -1.1534897, -0.062810786, 0.2387657, 0.3111719, 0.15101886, -0.19788744, -0.3228751, -0.6074787, 0.29126608, -0.3434606, -0.7316436, -0.12973706, -0.4889307, 0.2471577, 0.50915563, 0.40826732, 0.008024347, -0.86061335, 0.5207669, 0.08227667, -1.2248328, 0.16281794, 0.3896659, -0.2926244, -0.2749457, 0.062217038, -1.0185646, 0.26104847, 0.037043117, 0.61229724, -0.39118713, 0.13183798, -0.6335072, -0.692322, 1.1950606, 0.9010307, -0.044548497, -0.41024482, -0.3406258, -0.17132525, -0.7548211, -0.5720098, 0.43960083, 0.5150351, -0.32617232, 0.83819854, 0.36914676, 0.8297868, -0.11497575, 0.12304429, 0.09309225, -0.25345284, -0.12508468, -0.35828292, 0.5319782, -0.4325143, -0.4438709, 0.28965694, 0.035314888, -0.3793101, -0.6337289, 0.15969391, -0.10704395, -0.014348931, 0.04076742, 0.3927964, -0.42722845, 1.2924963, -0.045867443, 0.06573486, -0.58871555, 0.7618113, 0.3772947, 0.35333532, -0.55529255, 0.53022295, 0.2516645, -0.73584986, -0.007892013, -0.07379463, 0.16580604, -0.058034547, ...]</td>\n",
              "    </tr>\n",
              "    <tr>\n",
              "      <th>240962</th>\n",
              "      <td>Not Available</td>\n",
              "      <td>Recondita Armonia\\nRecondita armonia di bellezze diverse!\\nbruna Floria, l'ardente amante mia,\\ne te, beltade ignota\\ncinta di chiome bionde!\\nTu azzurro hai l'occhio\\nTosca ha l'occhio nero!\\nL'arte nel suo mistero\\nle diverse bellezze insiem confonde:\\nma nel ritrar costei\\nil mio solo pensiero,\\nah! il mio sol pensier sei tu!\\nTosca, sei tu!\\nTranslation:\\nWhat subtle harmony\\nWhat subtle harmony of different beauties!\\nFloria, my passionate lover is a brunette\\nand you, unknown beauty,\\nare framed by fair hair\\nyou have blue eyes\\nTosca has dark eyes\\nthe mysterious art\\nmixes the different beauties together:\\nbut while I paint her\\nI only think\\nAh! I only think of you\\nTosca, of you!</td>\n",
              "      <td>[recondita, armonia, recondita, armonia, di, bellezze, diverse, bruna, floria, l, ardente, amante, mia, e, te, beltade, ignota, cinta, di, chiome, bionde, tu, azzurro, hai, l, occhio, tosca, ha, l, occhio, nero, l, arte, nel, suo, mistero, le, diverse, bellezze, insiem, confonde, nel, ritrar, costei, il, mio, solo, pensiero, ah, il, mio, sol, pensier, sei, tu, tosca, sei, tu, translation, subtle, harmony, subtle, harmony, different, beauties, floria, passionate, lover, brunette, unknown, beauty, framed, fair, hair, blue, eyes, tosca, dark, eyes, mysterious, art, mixes, different, beauties, together, paint, think, ah, think, tosca]</td>\n",
              "      <td>recondita armonia recondita armonia di bellezze diverse bruna floria l ardente amante mia e te beltade ignota cinta di chiome bionde tu azzurro hai l occhio tosca ha l occhio nero l arte nel suo mistero le diverse bellezze insiem confonde nel ritrar costei il mio solo pensiero ah il mio sol pensier sei tu tosca sei tu translation subtle harmony subtle harmony different beauties floria passionate lover brunette unknown beauty framed fair hair blue eyes tosca dark eyes mysterious art mixes different beauties together paint think ah think tosca</td>\n",
              "      <td>[0.19141044, -0.02914226, -0.1421909, 0.3116554, 0.25555718, -0.23146476, 0.027080983, 0.36976767, 0.25359663, -0.23826736, 0.11790432, 0.27163675, 0.38592336, 0.22318885, -0.26893437, 0.14443435, 0.13683854, 0.13003542, 0.06823411, -0.059088513, -0.22649224, 0.014525911, 0.10689265, 0.04876388, 0.2560631, -0.10867913, -0.20789613, 0.11439138, -0.10215276, 0.09032041, 0.28663635, -0.23780982, -0.47692978, -0.19370466, 0.38509953, 0.16924553, -0.15172224, -0.3239203, 0.1912489, 0.04455505, 0.44866088, 0.29087445, 0.049817313, -0.014758649, 0.07388797, 0.29403433, -0.30736363, 0.038635615, -0.29537144, 0.14263453, -0.19428897, -0.2239045, 0.13522133, -0.30643252, -0.042831957, 0.09168407, 0.05925693, -0.3713247, -0.3959962, -0.22959009, -0.543312, 0.17917642, 0.1345568, -0.52011645, 0.07208942, 0.07247694, 0.11863636, -0.12848364, -0.12204293, -0.12778255, -0.11331792, 0.028566888, 0.32917684, 0.42777386, 0.44353577, -0.20679666, 0.1253661, -0.033922657, 0.22095297, 0.04903303, -0.16567573, -0.3155424, 0.13719963, -0.0941307, -0.5010076, -0.021193778, -0.024459545, -0.28520963, 0.28463992, 0.09630807, 0.2075426, -0.14036547, 0.20680015, -0.47102702, -0.10128752, 0.13670878, -0.041152727, -0.158111, -0.07862289, -0.18161194, ...]</td>\n",
              "    </tr>\n",
              "    <tr>\n",
              "      <th>279075</th>\n",
              "      <td>Rock</td>\n",
              "      <td>Don't say you love me when it's just a rumor\\nDon't say a word if there is any doubt\\nSometimes I think that love is just a tumor\\nYou've got to cut it out\\nYou say you're sorry for the things that you've done\\nYou say you're sorry but you know you don't mean it\\nI wouldn't worry, I had so much fun\\nSometimes I almost feel just like a human being\\nIt's you, not just another mouth in the lipstick vogue\\nIt's you, not just another mouth in the lipstick vogue\\nOh yeah\\nGet to the slot machine, almost dead on arrival\\nJust hit me one more time with that live wire\\nMaybe they told you you were only a girl in a million\\nYou say I've got no feelings, this is a good way to kill them\\nSelect the control and then insert the token\\nYou want to throw me away but I'm not broken\\nYou've got a lot to say, well, I'm not joking\\nThere are some words they don't allow to be spoken\\nSometimes I almost feel just like a human being\\nIt's you, not just another mouth in the lipstick vogue\\nIt's you, not just another mouth in the lipstick vogue\\nNot just another mouth, the last of the lipstick vogue\\nNot just another mouth, the last of the lipstick vogue\\nNot just another mouth, the last of the lipstick vogue\\nNot just another mouth, the last of the lipstick vogue</td>\n",
              "      <td>[say, love, rumor, say, word, doubt, sometimes, think, love, tumor, got, cut, say, sorry, things, done, say, sorry, know, mean, worry, much, fun, sometimes, almost, feel, like, human, another, mouth, lipstick, vogue, another, mouth, lipstick, vogue, oh, yeah, get, slot, machine, almost, dead, arrival, hit, one, time, live, wire, maybe, told, girl, million, say, got, feelings, good, way, kill, select, control, insert, token, want, throw, away, broken, got, lot, say, well, joking, words, allow, spoken, sometimes, almost, feel, like, human, another, mouth, lipstick, vogue, another, mouth, lipstick, vogue, another, mouth, last, lipstick, vogue, another, mouth, last, lipstick, vogue, another, mouth, ...]</td>\n",
              "      <td>say love rumor say word doubt sometimes think love tumor got cut say sorry things done say sorry know mean worry much fun sometimes almost feel like human another mouth lipstick vogue another mouth lipstick vogue oh yeah get slot machine almost dead arrival hit one time live wire maybe told girl million say got feelings good way kill select control insert token want throw away broken got lot say well joking words allow spoken sometimes almost feel like human another mouth lipstick vogue another mouth lipstick vogue another mouth last lipstick vogue another mouth last lipstick vogue another mouth last lipstick vogue another mouth last lipstick vogue</td>\n",
              "      <td>[-0.45221764, 0.2088501, 0.23681249, 0.102495655, 0.14098074, 0.05005515, 0.91233784, 0.43856755, 0.5719165, 0.40228114, 0.2578407, 0.7788426, 0.6837115, -0.90845877, -0.58638924, -0.08141752, 0.5419383, 0.7026825, -0.86431766, -0.4818091, 0.3346469, 0.27877316, -0.12762322, -0.34693187, -0.6127621, -0.22031277, 0.10961951, -0.17605746, -0.41697904, 0.20780447, -0.33879223, 0.2968825, 0.5461861, 0.3471949, -0.029190607, -0.6358127, 0.3656092, 0.2016574, -0.77390724, -0.004345237, 0.5737453, -0.20706151, -0.1075988, 0.06704864, -0.7124099, 0.3290952, -0.3503388, 0.5665745, -0.33590782, 0.45836276, -0.5232635, -0.66064036, 0.64844924, 0.7791492, -0.31812844, -0.24181992, -0.5094886, 0.08672919, -0.74191695, -0.622251, 0.14604458, 0.3871284, -0.26128435, 0.8485573, 0.303076, 0.29891858, -0.5236049, 0.04286034, -0.065952666, -0.33721396, 0.16748518, -0.46995375, 0.45120016, -0.2246214, -0.533218, 0.3294216, 0.05467146, -0.6093564, -0.31327406, -0.0468273, -0.4157021, -0.046862658, -0.3181595, 0.34527326, -0.67454225, 1.1926198, -0.32079577, 0.47941098, -0.29266024, 0.513713, 0.080523446, 0.35232866, -0.036598817, 0.46279666, -0.15125626, -0.5659552, -0.014421185, -0.22767541, 0.3747587, 0.19305123, ...]</td>\n",
              "    </tr>\n",
              "    <tr>\n",
              "      <th>24147</th>\n",
              "      <td>Rock</td>\n",
              "      <td>Lord, You are the light of my heart\\nGrander than the greatest stars\\nYou are, that I might be alive for Thee\\nLord, You came and breathed anew\\nA gift of life that will not cease\\nI am, that You might be glorified\\nAnd I open my eyes to see\\nI'm asking You, Lord, reveal to me\\nYour majesty is captivating all of me\\nAnd I stand before the one who makes my heart adore\\nYour majesty beyond what mortal souls could dream\\nAnd we stand amazed breathless as we come to face Your majesty\\nLord, I come into this place\\nTo bring honor to Your name\\nI stand, just to sing of Your great fame\\nSo I open my heart to You\\n'Cause there's nothing else that I can do\\nWhen Your majesty is captivating all of me\\nAnd I stand before the one who makes my heart adore\\nYour majesty beyond what mortal souls could dream\\nAnd we stand amazed breathless as we come to face\\nWill You shine down over Your children\\nReach out and touch us again\\nShine down over Your children\\nReach out and touch me again\\nAnd I stand before the one who makes my heart adore\\nYour majesty is captivating all of me\\nAnd I stand before the one who makes my heart adore\\nYour majesty beyond what mortal souls could dream\\nAnd we stand amazed breathless as we come to face\\nYour majesty, Your majesty, Your majesty</td>\n",
              "      <td>[lord, light, heart, grander, greatest, stars, might, alive, thee, lord, came, breathed, anew, gift, life, cease, might, glorified, open, eyes, see, asking, lord, reveal, majesty, captivating, stand, one, makes, heart, adore, majesty, beyond, mortal, souls, could, dream, stand, amazed, breathless, come, face, majesty, lord, come, place, bring, honor, name, stand, sing, great, fame, open, heart, cause, nothing, else, majesty, captivating, stand, one, makes, heart, adore, majesty, beyond, mortal, souls, could, dream, stand, amazed, breathless, come, face, shine, children, reach, touch, us, shine, children, reach, touch, stand, one, makes, heart, adore, majesty, captivating, stand, one, makes, heart, adore, majesty, beyond, mortal, ...]</td>\n",
              "      <td>lord light heart grander greatest stars might alive thee lord came breathed anew gift life cease might glorified open eyes see asking lord reveal majesty captivating stand one makes heart adore majesty beyond mortal souls could dream stand amazed breathless come face majesty lord come place bring honor name stand sing great fame open heart cause nothing else majesty captivating stand one makes heart adore majesty beyond mortal souls could dream stand amazed breathless come face shine children reach touch us shine children reach touch stand one makes heart adore majesty captivating stand one makes heart adore majesty beyond mortal souls could dream stand amazed breathless come face majesty majesty majesty</td>\n",
              "      <td>[-0.4772683, 0.5086439, -0.25844756, 0.46449155, 0.61736494, -0.33920023, 0.8245557, 0.6399211, 0.08470294, 0.15285169, 0.2035998, 1.1031724, 0.71784693, -0.47484332, -0.24628404, -0.20769534, 0.1792571, 0.12092919, -0.5718179, 0.01877773, 0.0953656, 0.1522321, 0.012905213, -0.14291126, -0.22207955, -0.004121995, -0.46930203, -0.905626, -0.64239186, 0.1201827, 0.1014503, 0.46006274, 0.11229278, 0.38451147, 0.053333227, -0.5735037, 0.6339732, -0.093809366, -0.81119573, 0.19237038, 0.5523611, -0.4950331, -0.57026416, -0.047852352, -0.682928, 0.17839049, 0.3870861, 0.28991932, 0.06711366, -0.18989196, -0.07153788, -0.69849986, 0.70222646, 0.35443684, -0.559627, -0.5393799, -0.47099063, -0.03534129, -0.76697016, -0.5657009, -0.021902682, 0.4075833, -0.0488503, 0.27540115, 0.006775915, 0.6730836, -0.39225796, 0.041127652, 0.042600963, -0.8994418, -0.20094748, -0.54240495, 0.38116392, 0.0059697456, -0.24251874, 0.41013634, 0.3606646, -0.30761272, -0.33196938, 0.32014427, -0.35570708, -0.31264174, -0.029083127, -0.21738918, -0.27743718, 0.8595096, 0.41705975, 0.16744432, -0.17699061, 1.0337594, 0.616886, 0.341976, 0.115554385, 0.46160826, -0.21338093, -0.1562316, -0.108959384, -0.09921383, 0.3770036, 0.10300436, ...]</td>\n",
              "    </tr>\n",
              "    <tr>\n",
              "      <th>196105</th>\n",
              "      <td>Rock</td>\n",
              "      <td>Deny- All the shame that you're feeling inside\\nRunaway from the sense you hide\\nDon't try- We don't all suffer from lack of pride\\nSo get back to your so-called life\\nChorus\\nAll of my life,\\nAnswering to someone else\\nLiving to die,\\nNever asked for your help\\nBuried inside,\\nIt was here once nevermore\\nNowhere to hide,\\nI'm still alive won't die\\nTo get rid of this pain\\nI gotta fight, fight\\nTo get rid of you\\nIs my right, right\\nTake it away,\\nI don't need this anymore,\\nIt's time to delay,\\nMy disconnected life\\nChorus 2x\\nback to top</td>\n",
              "      <td>[deny, shame, feeling, inside, runaway, sense, hide, try, suffer, lack, pride, get, back, called, life, chorus, life, answering, someone, else, living, die, never, asked, help, buried, inside, nevermore, nowhere, hide, still, alive, die, get, rid, pain, gotta, fight, fight, get, rid, right, right, take, away, need, anymore, time, delay, disconnected, life, chorus, x, back, top]</td>\n",
              "      <td>deny shame feeling inside runaway sense hide try suffer lack pride get back called life chorus life answering someone else living die never asked help buried inside nevermore nowhere hide still alive die get rid pain gotta fight fight get rid right right take away need anymore time delay disconnected life chorus x back top</td>\n",
              "      <td>[-0.56619406, 0.78813076, 0.387065, -0.06857024, 0.47747308, -0.50034595, 0.9102122, 0.92325383, 0.068633944, 0.4179171, 0.6145869, 0.72478545, 0.43166697, -0.7436735, -0.4164714, -0.097972594, 0.30086416, 0.22765358, -0.77800757, -0.028410833, 0.22763316, 0.4703888, -0.33227327, -0.43444574, -0.41335574, -0.08192057, 0.12470414, -0.6016278, -0.46998686, -0.31333068, -0.1565046, 0.52093595, 0.5294195, 0.52201813, 0.059628718, -1.0096229, 0.71002287, 0.24911012, -1.1518147, -0.04723579, 0.24431898, -0.32596624, -0.25098014, 0.16732684, -1.0078933, 0.059008926, -0.058820836, 0.3878629, -0.40008694, 0.2170355, -0.24907619, -0.69329494, 0.92825395, 0.9266111, -0.103956155, -0.15497002, -0.39822677, 0.10583415, -0.86537474, -0.45706126, 0.44992837, 0.37060463, -0.5066279, 0.75542986, 0.2606355, 1.0489026, 0.077138446, 0.37213036, 0.3542006, -0.5294916, -0.051212847, -0.39196056, 0.28038853, -0.7545836, -0.28406197, 0.4414902, 0.22628725, -0.43315062, -0.5965156, 0.09580271, -0.44276866, 0.059055787, 0.017140139, 0.028247278, -0.7120951, 0.8693767, 0.24694864, 0.1672394, -0.6152191, 0.5974605, 0.2949483, 0.46918374, -0.10489624, 0.46652687, 0.026543537, -0.5022694, -0.11969155, -0.0038859367, 0.6234575, 0.3609767, ...]</td>\n",
              "    </tr>\n",
              "    <tr>\n",
              "      <th>232518</th>\n",
              "      <td>Metal</td>\n",
              "      <td>Estas alucinando\\nWhy pasas de pensar,\\nTe va mucho a la gacha\\nTe tienes que cuidar.\\nTe han dicho en tu casa\\nQue tienes que mirar,\\nWhy nadie te comprende\\nEn esta sociedad.\\nJunkie,\\nJunkie,\\nJunkie,\\nJunkie.\\nCargado de problemas\\nQue quieres olvidar,\\nTe lanzas a la calle\\nHaber que pasa allÃÂ¡.\\nTe encuentras ya muy chumbo,\\nLo estas pasando mal,\\nTe dices a ti mismo\\nLo tengo que dejar.\\nJunkie,\\nJunkie,\\nJunkie,\\nJunkie.</td>\n",
              "      <td>[estas, alucinando, pasas, de, pensar, te, va, mucho, la, gacha, te, tienes, que, cuidar, te, han, dicho, en, tu, casa, que, tienes, que, mirar, nadie, te, comprende, en, esta, sociedad, junkie, junkie, junkie, junkie, cargado, de, problemas, que, quieres, olvidar, te, lanzas, la, calle, haber, que, pasa, allã, â, te, encuentras, ya, muy, chumbo, lo, estas, pasando, mal, te, dices, ti, mismo, lo, tengo, que, dejar, junkie, junkie, junkie, junkie]</td>\n",
              "      <td>estas alucinando pasas de pensar te va mucho la gacha te tienes que cuidar te han dicho en tu casa que tienes que mirar nadie te comprende en esta sociedad junkie junkie junkie junkie cargado de problemas que quieres olvidar te lanzas la calle haber que pasa allã â te encuentras ya muy chumbo lo estas pasando mal te dices ti mismo lo tengo que dejar junkie junkie junkie junkie</td>\n",
              "      <td>[-0.1242991, -0.5637635, -0.19266482, 0.40889224, -0.3458857, 0.9002796, -0.5212154, 0.8016655, 0.150008, -0.3410412, 0.08232564, -0.36816013, -0.67566425, 0.776604, -0.14679815, -0.34069917, 0.020435354, -0.2665593, 0.5329857, -0.1467089, 0.20721462, -0.583823, 0.3449702, -0.48610726, 0.96708345, -0.5679825, -0.19173251, 0.9757635, 0.65270376, -0.36955392, 0.7147584, -0.12196976, -0.5423382, 0.105166, 0.68381196, 0.28067413, -0.17485562, -0.7772666, 0.8850151, -0.58374226, 0.021838548, 0.36855534, 0.4583784, -0.20022543, 1.0643737, 0.057854783, -0.9364015, -0.22500582, -1.0941765, 0.8934544, -0.4274181, 0.41205648, 0.8436538, -0.70119816, -0.18060175, -0.20770253, -0.043517374, -0.21624766, 0.6531361, 0.39474553, -0.50882894, 0.71709496, -0.40426016, -0.926017, 0.09522347, 0.33845225, 0.5300477, 0.25730866, 0.25635412, 0.80420107, -0.8292978, -0.22319542, -0.23506372, -0.08173807, 1.5272888, 0.616206, 0.42047992, 0.23373365, 0.12552495, -0.14281955, 0.15718336, -1.2555715, -0.5242493, 0.34870493, -0.21564573, -1.0412866, 0.08400401, -0.4428087, -0.3478237, -0.6962512, 0.009041791, -0.9836154, 0.103926435, -0.940045, -0.45012647, 0.8299235, -0.08160706, 0.3978791, 0.09171967, -0.7993069, ...]</td>\n",
              "    </tr>\n",
              "    <tr>\n",
              "      <th>181998</th>\n",
              "      <td>Not Available</td>\n",
              "      <td>Questo amore cominciato cos, che non ci credevi\\nnemmeno tu\\navevamo tutti contro di noi e sembrava di non\\nuscirne pi\\nquesto amore fatto di mille idee, di silenzi dentro\\ncamera tua\\nquando il buio di nascosco dai tuoi morivano di noi\\ne proprio adesso che ti amo cos dicevi che te na vai\\nQuesto amore rester dentro di me,\\nanche quando un altra mi guarder\\nogni donna avr i tuoi occhi lo so, la sua voce\\nparler di te\\ndentro quante cose ti trover\\nquel maglione che hai scordato da me\\nla stagnola di quel bacio, le vie fatte insieme\\ncon te\\nperch noi due ci apparteniamo e tu lo sai\\nLo senti amore questo cuore che batte in te\\nche ci fa nascere e morire di noi\\nquesto respiro che ci viene dall'anima\\ncome un onda che non si ferma mai\\nQuesto amore non finir mai, anche se sarai lontana\\nda me\\ne qualunque storia adesso vivrai so che non mi\\ndimenticherai\\ndai ti prego non buttiamoci via\\ndarsi tempo e solo un'altra bugia\\ntroppe storie si fermano quando in coraggio\\nnon c'\\npero noi due siamo diversi e tu lo sai\\nLo senti amore questo cuore che batte in te\\nche ci fa nascere e morire di noi\\nquesto respiro che ci viene dall'anima\\ncome un onda che non si ferma mai</td>\n",
              "      <td>[questo, amore, cominciato, cos, che, non, ci, credevi, nemmeno, tu, avevamo, tutti, contro, di, noi, e, sembrava, di, non, uscirne, pi, questo, amore, fatto, di, mille, idee, di, silenzi, dentro, camera, tua, quando, il, buio, di, nascosco, dai, tuoi, morivano, di, noi, e, proprio, adesso, che, ti, amo, cos, dicevi, che, te, na, vai, questo, amore, rester, dentro, di, anche, quando, un, altra, mi, guarder, ogni, donna, avr, tuoi, occhi, lo, la, sua, voce, parler, di, te, dentro, quante, cose, ti, trover, quel, maglione, che, hai, scordato, da, la, stagnola, di, quel, bacio, le, vie, fatte, insieme, con, te, perch, ...]</td>\n",
              "      <td>questo amore cominciato cos che non ci credevi nemmeno tu avevamo tutti contro di noi e sembrava di non uscirne pi questo amore fatto di mille idee di silenzi dentro camera tua quando il buio di nascosco dai tuoi morivano di noi e proprio adesso che ti amo cos dicevi che te na vai questo amore rester dentro di anche quando un altra mi guarder ogni donna avr tuoi occhi lo la sua voce parler di te dentro quante cose ti trover quel maglione che hai scordato da la stagnola di quel bacio le vie fatte insieme con te perch noi due ci apparteniamo e tu lo sai lo senti amore questo cuore che batte te che ci fa nascere e morire di noi questo respiro che ci viene dall anima come un onda che non si ferma mai questo amore non finir mai anche se sarai lontana da e qualunque storia adesso vivrai che non mi dimenticherai dai ti prego non buttiamoci via darsi tempo e solo un altra bugia troppe storie si fermano quando coraggio non c pero noi due siamo diversi e tu lo sai lo senti amore questo cuore che batte te che ci fa nascere e morire di noi questo respiro che ci viene dall anima come un onda che non si ferma mai</td>\n",
              "      <td>[0.48521605, -0.059954938, -0.2083264, 0.10913127, 0.19061917, -0.35992432, -0.33119243, 0.8548679, 0.12781559, -0.553994, -0.39029035, -0.34176946, 0.4308183, 1.068219, -0.22977835, -0.21506898, 0.007915872, 0.37059072, 0.999338, 0.14625262, -0.116749294, 0.050107207, 0.04649503, 0.24732065, 0.3464228, -0.057430252, -0.64611393, 0.13841672, -0.09627049, 0.7682999, 0.7272607, -0.63375413, -1.1223739, -0.88908505, 0.5872201, 0.5353653, -0.6918473, -0.36819768, 0.5328911, -0.117370054, 0.6411424, 0.5239953, 0.45616242, 0.4491911, 0.3286604, 0.5087562, -0.7483205, 0.32067677, -0.33962506, -0.28261107, -0.49759898, -0.21497966, -0.3548002, -0.59901327, 0.17387684, 0.1994194, 0.49287868, -0.6259952, -0.4630403, -0.51801276, -0.98145884, 0.22516084, 0.66196615, -0.7157933, 0.17295398, -0.18891862, 0.75464857, -0.35775846, -0.21243668, 0.44929206, -0.2011033, 0.10126736, 0.20362961, 0.41171318, 0.9552776, -0.518667, 0.04746705, 0.33061454, 0.53817207, 0.16935104, -0.10881657, -0.4975132, -0.4478409, -0.12898548, -0.66848254, -0.95044315, 0.26989138, -0.93397015, 1.0741811, -0.44265324, 0.179118, -0.36225134, 0.88520265, -1.4454986, 0.19601305, 0.40626186, -0.39959204, -0.28228986, -0.56964463, 0.017454127, ...]</td>\n",
              "    </tr>\n",
              "    <tr>\n",
              "      <th>115044</th>\n",
              "      <td>Rock</td>\n",
              "      <td>Â¡Vamos a robar cerezas! de las del valle del Jerte.\\nSoy capaz de cualquier cosa por volver a verte.\\nHe perdido la cabeza, la he perdido por perderte.\\nSoy capaz de cualquier cosa por volver a verte.\\nAtravieso otra montaÃ±a, tu recuerdo me acompaÃ±a.\\nÂ¡Si! y voy cada vez mas lejos.\\nDoy la vuelta a cualquier dÃ­a, para darte compaÃ±Ã­a.\\nÂ¡Si! y voy cada vez mÃ¡s dentro.\\nAtravieso otra montaÃ±a, y tu recuerdo me acompaÃ±a\\nÂ¡Si! y voy cada vez mas lejos.\\nDoy la vuelta a cualquier dÃ­a para darte compaÃ±Ã­a.\\nÂ¡Si! y voy cada vez mÃ¡s dentro.\\nHoy que me encuentro perdiÃ³, vamos a saltar del puente\\nA ver si caemos al rÃ­o, al mismo de siempre.\\nDices que no te hago caso, es que tuve que irme lejos.\\nPero te prometo que doy paso, sin tocar el suelo.\\nAtravieso otra montaÃ±a, tu recuerdo me acompaÃ±a.\\nÂ¡Si! y voy cada vez mas lejos.\\nDoy la vuelta a cualquier dÃ­a, para darte compaÃ±Ã­a.\\nÂ¡Si! voy cada vez mÃ¡s dentro.\\nAtravieso otra montaÃ±a, y tu recuerdo me acompaÃ±a\\nÂ¡Si! y voy cada vez mas lejos.\\nDoy la vuelta a cualquier dÃ­a para darte compaÃ±Ã­a.\\nÂ¡Si! voy cada vez mÃ¡s dentro.</td>\n",
              "      <td>[â, vamos, robar, cerezas, de, las, del, valle, del, jerte, soy, capaz, de, cualquier, cosa, por, volver, verte, perdido, la, cabeza, la, perdido, por, perderte, soy, capaz, de, cualquier, cosa, por, volver, verte, atravieso, otra, montaã, tu, recuerdo, acompaã, â, si, voy, cada, vez, mas, lejos, doy, la, vuelta, cualquier, dã, para, darte, compaã, ã, â, si, voy, cada, vez, mã, dentro, atravieso, otra, montaã, tu, recuerdo, acompaã, â, si, voy, cada, vez, mas, lejos, doy, la, vuelta, cualquier, dã, para, darte, compaã, ã, â, si, voy, cada, vez, mã, dentro, hoy, que, encuentro, perdiã³, vamos, saltar, del, puente, ver, ...]</td>\n",
              "      <td>â vamos robar cerezas de las del valle del jerte soy capaz de cualquier cosa por volver verte perdido la cabeza la perdido por perderte soy capaz de cualquier cosa por volver verte atravieso otra montaã tu recuerdo acompaã â si voy cada vez mas lejos doy la vuelta cualquier dã para darte compaã ã â si voy cada vez mã dentro atravieso otra montaã tu recuerdo acompaã â si voy cada vez mas lejos doy la vuelta cualquier dã para darte compaã ã â si voy cada vez mã dentro hoy que encuentro perdiã³ vamos saltar del puente ver si caemos al rã al mismo de siempre dices que te hago caso es que tuve que irme lejos pero te prometo que doy paso sin tocar el suelo atravieso otra montaã tu recuerdo acompaã â si voy cada vez mas lejos doy la vuelta cualquier dã para darte compaã ã â si voy cada vez mã dentro atravieso otra montaã tu recuerdo acompaã â si voy cada vez mas lejos doy la vuelta cualquier dã para darte compaã ã â si voy cada vez mã dentro</td>\n",
              "      <td>[-0.18974271, -0.7847477, -0.48828137, 0.78243476, -0.3984186, 0.9083431, -0.1715952, 0.6263935, -0.19466847, -0.27415758, 0.1258765, -0.57923454, -0.9995612, 0.9271347, 0.18043469, -0.45608827, -0.1966022, -0.4210534, 0.62251234, -0.07370456, 0.29635516, -0.7437349, 0.02539724, -0.4405829, 0.8249525, -0.4262222, -0.421867, 0.784188, 0.8641253, -0.108569935, 0.95633155, -0.24457322, -0.7489735, -0.24323215, 0.92268026, 0.4042351, -0.7306411, -0.6880378, 1.4045489, -0.9513814, -0.3687098, 0.39547685, 0.6128511, 0.01406889, 1.0138395, 0.07728718, -0.81898963, -0.20888634, -0.7500373, 0.43015483, -0.163166, 0.69689643, 0.5327846, -0.68540025, -0.038838506, -0.23355281, 0.03160339, -0.3026827, 0.6514074, 0.37377983, -0.9736975, 0.40194649, -0.2540425, -1.0731508, 0.114845306, 0.26405266, 0.7828312, 0.33658862, -0.35215333, 0.17420529, -0.81107324, 0.27422965, -0.39338204, -0.17512007, 1.1409421, 0.5874055, 0.71481127, 0.36820933, 0.09033689, -0.029767616, 0.025825938, -0.9237145, -0.42567888, 0.052129, 0.17606963, -0.9649192, 0.10389796, -0.51482046, 0.20854667, -0.5737325, 0.20816515, -0.8436691, 0.3001529, -0.8400673, -0.48215008, 0.95074505, -0.2924521, 0.5248497, 0.2299944, -0.47328532, ...]</td>\n",
              "    </tr>\n",
              "  </tbody>\n",
              "</table>\n",
              "</div>"
            ],
            "text/plain": [
              "                genre  ...                                                                                                                                                                                                                                                                                                                                                                                                                                                                                                                                                                                                                                                                                                                                                                                                                                                                                                                                                                                                                                                                                                                                                                                                                                                                                      avg_vector\n",
              "75052   Not Available  ...  [-0.22532901, 0.424555, 0.22073254, 0.12915924, 0.7011071, -0.3741459, 0.7637562, 0.92419267, 0.39707303, 0.07572546, 0.49225128, 0.9475905, 0.61015683, -0.45786718, -0.5193757, -0.16280635, 0.23117271, 0.44702598, -0.81277746, -0.17867742, 0.24962763, 0.2361407, 0.12101826, -0.092190266, -0.44787735, -0.33349103, 0.31659085, -0.16030036, -0.46242744, -0.08145312, -0.5198053, 0.019894991, 0.6621323, 0.44839695, -0.15070549, -0.6019854, 0.44540128, 0.34905896, -1.1166136, 0.13434638, 0.5953365, -0.2626083, -0.08498721, -0.12428504, -0.65177125, 0.26403317, -0.10953179, 0.3179784, -0.3922562, 0.3393174, -0.37460476, -0.4008053, 0.8146178, 0.5983496, -0.14642136, -0.25825804, -0.310164, -0.21116808, -0.70248103, -0.5284628, 0.44711468, 0.35553485, -0.19262443, 0.5949393, 0.22483504, 0.4329253, -0.5418641, -0.12646642, 0.24915764, -0.14854474, 0.0054409206, -0.28900778, 0.5124558, -0.14311737, -0.13628726, 0.23099326, 0.14318955, -0.31789216, -0.2759828, -0.20666453, 0.009083697, -0.151864, 0.012302964, 0.3662331, -0.80934495, 0.991142, -0.2566387, 0.11619717, -0.3993701, 0.5504545, 0.43415335, 0.17014353, -0.53965116, 0.5409569, 0.17368901, -0.37788585, 0.006880996, -0.10967528, 0.29722267, 0.10947384, ...]                       \n",
              "12696   Rock           ...  [-0.5465219, 0.45740426, -0.022095501, 0.06439891, 0.56843036, -0.19221778, 0.82942873, 0.9376329, 0.34099662, 0.2620498, 0.41120964, 1.3563102, 0.8772306, -0.87869895, -0.7878143, 0.044656623, 0.28320336, 0.36525968, -0.9714588, -0.17588341, 0.31858167, 0.14847249, 0.21078786, -0.056434125, -0.4779424, -0.112617165, 0.35978454, -0.36305842, -0.4413551, 0.1023605, -0.5622147, 0.2882587, 0.76581156, 0.471019, -0.25838742, -0.7375838, 0.45485353, 0.60927254, -1.3849833, 0.39378724, 0.5732335, -0.26489267, -0.106336705, -0.16014417, -0.8941633, 0.17088467, 0.1140739, 0.3693444, -0.088731565, 0.27603567, -0.18319264, -0.71061456, 0.77695554, 0.6463247, -0.22899915, -0.09095661, -0.38438314, 0.2055388, -0.5948543, -0.80971545, 0.28671876, 0.32619524, -0.0900234, 0.65851223, 0.12014842, 0.53110975, -0.55571604, 0.23414628, 0.16033196, -0.30773088, -0.24883778, -0.3244681, 0.75295055, -0.03682625, -0.23608668, 0.52546823, 0.39917925, -0.38293993, -0.15272562, -0.13225037, -0.15725526, -0.042635012, 0.10520819, 0.5154441, -0.74842274, 1.1342978, 0.094613366, 0.30467978, -0.53539217, 0.8573019, 0.67027473, 0.443938, -0.40029535, 0.7695861, 0.22019866, -0.30204758, 0.027214102, -0.104258545, 0.36705527, 0.20551436, ...]                 \n",
              "343290  Hip-Hop        ...  [-0.5119409, 0.58078736, 0.074781924, 0.0236012, 0.5547622, -0.5424808, 1.1292261, 1.3248911, 0.3841302, 0.0071630925, 0.34874722, 0.9062822, 0.7586662, -0.47584948, -0.5049665, -0.33049014, 0.29096857, 0.58158076, -1.1534897, -0.062810786, 0.2387657, 0.3111719, 0.15101886, -0.19788744, -0.3228751, -0.6074787, 0.29126608, -0.3434606, -0.7316436, -0.12973706, -0.4889307, 0.2471577, 0.50915563, 0.40826732, 0.008024347, -0.86061335, 0.5207669, 0.08227667, -1.2248328, 0.16281794, 0.3896659, -0.2926244, -0.2749457, 0.062217038, -1.0185646, 0.26104847, 0.037043117, 0.61229724, -0.39118713, 0.13183798, -0.6335072, -0.692322, 1.1950606, 0.9010307, -0.044548497, -0.41024482, -0.3406258, -0.17132525, -0.7548211, -0.5720098, 0.43960083, 0.5150351, -0.32617232, 0.83819854, 0.36914676, 0.8297868, -0.11497575, 0.12304429, 0.09309225, -0.25345284, -0.12508468, -0.35828292, 0.5319782, -0.4325143, -0.4438709, 0.28965694, 0.035314888, -0.3793101, -0.6337289, 0.15969391, -0.10704395, -0.014348931, 0.04076742, 0.3927964, -0.42722845, 1.2924963, -0.045867443, 0.06573486, -0.58871555, 0.7618113, 0.3772947, 0.35333532, -0.55529255, 0.53022295, 0.2516645, -0.73584986, -0.007892013, -0.07379463, 0.16580604, -0.058034547, ...]                          \n",
              "240962  Not Available  ...  [0.19141044, -0.02914226, -0.1421909, 0.3116554, 0.25555718, -0.23146476, 0.027080983, 0.36976767, 0.25359663, -0.23826736, 0.11790432, 0.27163675, 0.38592336, 0.22318885, -0.26893437, 0.14443435, 0.13683854, 0.13003542, 0.06823411, -0.059088513, -0.22649224, 0.014525911, 0.10689265, 0.04876388, 0.2560631, -0.10867913, -0.20789613, 0.11439138, -0.10215276, 0.09032041, 0.28663635, -0.23780982, -0.47692978, -0.19370466, 0.38509953, 0.16924553, -0.15172224, -0.3239203, 0.1912489, 0.04455505, 0.44866088, 0.29087445, 0.049817313, -0.014758649, 0.07388797, 0.29403433, -0.30736363, 0.038635615, -0.29537144, 0.14263453, -0.19428897, -0.2239045, 0.13522133, -0.30643252, -0.042831957, 0.09168407, 0.05925693, -0.3713247, -0.3959962, -0.22959009, -0.543312, 0.17917642, 0.1345568, -0.52011645, 0.07208942, 0.07247694, 0.11863636, -0.12848364, -0.12204293, -0.12778255, -0.11331792, 0.028566888, 0.32917684, 0.42777386, 0.44353577, -0.20679666, 0.1253661, -0.033922657, 0.22095297, 0.04903303, -0.16567573, -0.3155424, 0.13719963, -0.0941307, -0.5010076, -0.021193778, -0.024459545, -0.28520963, 0.28463992, 0.09630807, 0.2075426, -0.14036547, 0.20680015, -0.47102702, -0.10128752, 0.13670878, -0.041152727, -0.158111, -0.07862289, -0.18161194, ...]\n",
              "279075  Rock           ...  [-0.45221764, 0.2088501, 0.23681249, 0.102495655, 0.14098074, 0.05005515, 0.91233784, 0.43856755, 0.5719165, 0.40228114, 0.2578407, 0.7788426, 0.6837115, -0.90845877, -0.58638924, -0.08141752, 0.5419383, 0.7026825, -0.86431766, -0.4818091, 0.3346469, 0.27877316, -0.12762322, -0.34693187, -0.6127621, -0.22031277, 0.10961951, -0.17605746, -0.41697904, 0.20780447, -0.33879223, 0.2968825, 0.5461861, 0.3471949, -0.029190607, -0.6358127, 0.3656092, 0.2016574, -0.77390724, -0.004345237, 0.5737453, -0.20706151, -0.1075988, 0.06704864, -0.7124099, 0.3290952, -0.3503388, 0.5665745, -0.33590782, 0.45836276, -0.5232635, -0.66064036, 0.64844924, 0.7791492, -0.31812844, -0.24181992, -0.5094886, 0.08672919, -0.74191695, -0.622251, 0.14604458, 0.3871284, -0.26128435, 0.8485573, 0.303076, 0.29891858, -0.5236049, 0.04286034, -0.065952666, -0.33721396, 0.16748518, -0.46995375, 0.45120016, -0.2246214, -0.533218, 0.3294216, 0.05467146, -0.6093564, -0.31327406, -0.0468273, -0.4157021, -0.046862658, -0.3181595, 0.34527326, -0.67454225, 1.1926198, -0.32079577, 0.47941098, -0.29266024, 0.513713, 0.080523446, 0.35232866, -0.036598817, 0.46279666, -0.15125626, -0.5659552, -0.014421185, -0.22767541, 0.3747587, 0.19305123, ...]                            \n",
              "24147   Rock           ...  [-0.4772683, 0.5086439, -0.25844756, 0.46449155, 0.61736494, -0.33920023, 0.8245557, 0.6399211, 0.08470294, 0.15285169, 0.2035998, 1.1031724, 0.71784693, -0.47484332, -0.24628404, -0.20769534, 0.1792571, 0.12092919, -0.5718179, 0.01877773, 0.0953656, 0.1522321, 0.012905213, -0.14291126, -0.22207955, -0.004121995, -0.46930203, -0.905626, -0.64239186, 0.1201827, 0.1014503, 0.46006274, 0.11229278, 0.38451147, 0.053333227, -0.5735037, 0.6339732, -0.093809366, -0.81119573, 0.19237038, 0.5523611, -0.4950331, -0.57026416, -0.047852352, -0.682928, 0.17839049, 0.3870861, 0.28991932, 0.06711366, -0.18989196, -0.07153788, -0.69849986, 0.70222646, 0.35443684, -0.559627, -0.5393799, -0.47099063, -0.03534129, -0.76697016, -0.5657009, -0.021902682, 0.4075833, -0.0488503, 0.27540115, 0.006775915, 0.6730836, -0.39225796, 0.041127652, 0.042600963, -0.8994418, -0.20094748, -0.54240495, 0.38116392, 0.0059697456, -0.24251874, 0.41013634, 0.3606646, -0.30761272, -0.33196938, 0.32014427, -0.35570708, -0.31264174, -0.029083127, -0.21738918, -0.27743718, 0.8595096, 0.41705975, 0.16744432, -0.17699061, 1.0337594, 0.616886, 0.341976, 0.115554385, 0.46160826, -0.21338093, -0.1562316, -0.108959384, -0.09921383, 0.3770036, 0.10300436, ...]                 \n",
              "196105  Rock           ...  [-0.56619406, 0.78813076, 0.387065, -0.06857024, 0.47747308, -0.50034595, 0.9102122, 0.92325383, 0.068633944, 0.4179171, 0.6145869, 0.72478545, 0.43166697, -0.7436735, -0.4164714, -0.097972594, 0.30086416, 0.22765358, -0.77800757, -0.028410833, 0.22763316, 0.4703888, -0.33227327, -0.43444574, -0.41335574, -0.08192057, 0.12470414, -0.6016278, -0.46998686, -0.31333068, -0.1565046, 0.52093595, 0.5294195, 0.52201813, 0.059628718, -1.0096229, 0.71002287, 0.24911012, -1.1518147, -0.04723579, 0.24431898, -0.32596624, -0.25098014, 0.16732684, -1.0078933, 0.059008926, -0.058820836, 0.3878629, -0.40008694, 0.2170355, -0.24907619, -0.69329494, 0.92825395, 0.9266111, -0.103956155, -0.15497002, -0.39822677, 0.10583415, -0.86537474, -0.45706126, 0.44992837, 0.37060463, -0.5066279, 0.75542986, 0.2606355, 1.0489026, 0.077138446, 0.37213036, 0.3542006, -0.5294916, -0.051212847, -0.39196056, 0.28038853, -0.7545836, -0.28406197, 0.4414902, 0.22628725, -0.43315062, -0.5965156, 0.09580271, -0.44276866, 0.059055787, 0.017140139, 0.028247278, -0.7120951, 0.8693767, 0.24694864, 0.1672394, -0.6152191, 0.5974605, 0.2949483, 0.46918374, -0.10489624, 0.46652687, 0.026543537, -0.5022694, -0.11969155, -0.0038859367, 0.6234575, 0.3609767, ...]              \n",
              "232518  Metal          ...  [-0.1242991, -0.5637635, -0.19266482, 0.40889224, -0.3458857, 0.9002796, -0.5212154, 0.8016655, 0.150008, -0.3410412, 0.08232564, -0.36816013, -0.67566425, 0.776604, -0.14679815, -0.34069917, 0.020435354, -0.2665593, 0.5329857, -0.1467089, 0.20721462, -0.583823, 0.3449702, -0.48610726, 0.96708345, -0.5679825, -0.19173251, 0.9757635, 0.65270376, -0.36955392, 0.7147584, -0.12196976, -0.5423382, 0.105166, 0.68381196, 0.28067413, -0.17485562, -0.7772666, 0.8850151, -0.58374226, 0.021838548, 0.36855534, 0.4583784, -0.20022543, 1.0643737, 0.057854783, -0.9364015, -0.22500582, -1.0941765, 0.8934544, -0.4274181, 0.41205648, 0.8436538, -0.70119816, -0.18060175, -0.20770253, -0.043517374, -0.21624766, 0.6531361, 0.39474553, -0.50882894, 0.71709496, -0.40426016, -0.926017, 0.09522347, 0.33845225, 0.5300477, 0.25730866, 0.25635412, 0.80420107, -0.8292978, -0.22319542, -0.23506372, -0.08173807, 1.5272888, 0.616206, 0.42047992, 0.23373365, 0.12552495, -0.14281955, 0.15718336, -1.2555715, -0.5242493, 0.34870493, -0.21564573, -1.0412866, 0.08400401, -0.4428087, -0.3478237, -0.6962512, 0.009041791, -0.9836154, 0.103926435, -0.940045, -0.45012647, 0.8299235, -0.08160706, 0.3978791, 0.09171967, -0.7993069, ...]                                   \n",
              "181998  Not Available  ...  [0.48521605, -0.059954938, -0.2083264, 0.10913127, 0.19061917, -0.35992432, -0.33119243, 0.8548679, 0.12781559, -0.553994, -0.39029035, -0.34176946, 0.4308183, 1.068219, -0.22977835, -0.21506898, 0.007915872, 0.37059072, 0.999338, 0.14625262, -0.116749294, 0.050107207, 0.04649503, 0.24732065, 0.3464228, -0.057430252, -0.64611393, 0.13841672, -0.09627049, 0.7682999, 0.7272607, -0.63375413, -1.1223739, -0.88908505, 0.5872201, 0.5353653, -0.6918473, -0.36819768, 0.5328911, -0.117370054, 0.6411424, 0.5239953, 0.45616242, 0.4491911, 0.3286604, 0.5087562, -0.7483205, 0.32067677, -0.33962506, -0.28261107, -0.49759898, -0.21497966, -0.3548002, -0.59901327, 0.17387684, 0.1994194, 0.49287868, -0.6259952, -0.4630403, -0.51801276, -0.98145884, 0.22516084, 0.66196615, -0.7157933, 0.17295398, -0.18891862, 0.75464857, -0.35775846, -0.21243668, 0.44929206, -0.2011033, 0.10126736, 0.20362961, 0.41171318, 0.9552776, -0.518667, 0.04746705, 0.33061454, 0.53817207, 0.16935104, -0.10881657, -0.4975132, -0.4478409, -0.12898548, -0.66848254, -0.95044315, 0.26989138, -0.93397015, 1.0741811, -0.44265324, 0.179118, -0.36225134, 0.88520265, -1.4454986, 0.19601305, 0.40626186, -0.39959204, -0.28228986, -0.56964463, 0.017454127, ...]                       \n",
              "115044  Rock           ...  [-0.18974271, -0.7847477, -0.48828137, 0.78243476, -0.3984186, 0.9083431, -0.1715952, 0.6263935, -0.19466847, -0.27415758, 0.1258765, -0.57923454, -0.9995612, 0.9271347, 0.18043469, -0.45608827, -0.1966022, -0.4210534, 0.62251234, -0.07370456, 0.29635516, -0.7437349, 0.02539724, -0.4405829, 0.8249525, -0.4262222, -0.421867, 0.784188, 0.8641253, -0.108569935, 0.95633155, -0.24457322, -0.7489735, -0.24323215, 0.92268026, 0.4042351, -0.7306411, -0.6880378, 1.4045489, -0.9513814, -0.3687098, 0.39547685, 0.6128511, 0.01406889, 1.0138395, 0.07728718, -0.81898963, -0.20888634, -0.7500373, 0.43015483, -0.163166, 0.69689643, 0.5327846, -0.68540025, -0.038838506, -0.23355281, 0.03160339, -0.3026827, 0.6514074, 0.37377983, -0.9736975, 0.40194649, -0.2540425, -1.0731508, 0.114845306, 0.26405266, 0.7828312, 0.33658862, -0.35215333, 0.17420529, -0.81107324, 0.27422965, -0.39338204, -0.17512007, 1.1409421, 0.5874055, 0.71481127, 0.36820933, 0.09033689, -0.029767616, 0.025825938, -0.9237145, -0.42567888, 0.052129, 0.17606963, -0.9649192, 0.10389796, -0.51482046, 0.20854667, -0.5737325, 0.20816515, -0.8436691, 0.3001529, -0.8400673, -0.48215008, 0.95074505, -0.2924521, 0.5248497, 0.2299944, -0.47328532, ...]                                    \n",
              "\n",
              "[10 rows x 5 columns]"
            ]
          },
          "metadata": {
            "tags": []
          },
          "execution_count": 61
        }
      ]
    },
    {
      "cell_type": "code",
      "metadata": {
        "id": "siAi201a4lTE",
        "colab_type": "code",
        "colab": {
          "base_uri": "https://localhost:8080/",
          "height": 324
        },
        "outputId": "1e1fc473-e263-4736-f57e-399a318d3a05"
      },
      "source": [
        "scaler = MinMaxScaler()\n",
        "scaler.fit(X_train)"
      ],
      "execution_count": 59,
      "outputs": [
        {
          "output_type": "error",
          "ename": "ValueError",
          "evalue": "ignored",
          "traceback": [
            "\u001b[0;31m---------------------------------------------------------------------------\u001b[0m",
            "\u001b[0;31mValueError\u001b[0m                                Traceback (most recent call last)",
            "\u001b[0;32m<ipython-input-59-b604c4b997ca>\u001b[0m in \u001b[0;36m<module>\u001b[0;34m()\u001b[0m\n\u001b[1;32m      1\u001b[0m \u001b[0mscaler\u001b[0m \u001b[0;34m=\u001b[0m \u001b[0mMinMaxScaler\u001b[0m\u001b[0;34m(\u001b[0m\u001b[0;34m)\u001b[0m\u001b[0;34m\u001b[0m\u001b[0;34m\u001b[0m\u001b[0m\n\u001b[0;32m----> 2\u001b[0;31m \u001b[0mscaler\u001b[0m\u001b[0;34m.\u001b[0m\u001b[0mfit\u001b[0m\u001b[0;34m(\u001b[0m\u001b[0mX_train\u001b[0m\u001b[0;34m)\u001b[0m\u001b[0;34m\u001b[0m\u001b[0;34m\u001b[0m\u001b[0m\n\u001b[0m",
            "\u001b[0;32m/usr/local/lib/python3.6/dist-packages/sklearn/preprocessing/data.py\u001b[0m in \u001b[0;36mfit\u001b[0;34m(self, X, y)\u001b[0m\n\u001b[1;32m    323\u001b[0m         \u001b[0;31m# Reset internal state before fitting\u001b[0m\u001b[0;34m\u001b[0m\u001b[0;34m\u001b[0m\u001b[0;34m\u001b[0m\u001b[0m\n\u001b[1;32m    324\u001b[0m         \u001b[0mself\u001b[0m\u001b[0;34m.\u001b[0m\u001b[0m_reset\u001b[0m\u001b[0;34m(\u001b[0m\u001b[0;34m)\u001b[0m\u001b[0;34m\u001b[0m\u001b[0;34m\u001b[0m\u001b[0m\n\u001b[0;32m--> 325\u001b[0;31m         \u001b[0;32mreturn\u001b[0m \u001b[0mself\u001b[0m\u001b[0;34m.\u001b[0m\u001b[0mpartial_fit\u001b[0m\u001b[0;34m(\u001b[0m\u001b[0mX\u001b[0m\u001b[0;34m,\u001b[0m \u001b[0my\u001b[0m\u001b[0;34m)\u001b[0m\u001b[0;34m\u001b[0m\u001b[0;34m\u001b[0m\u001b[0m\n\u001b[0m\u001b[1;32m    326\u001b[0m \u001b[0;34m\u001b[0m\u001b[0m\n\u001b[1;32m    327\u001b[0m     \u001b[0;32mdef\u001b[0m \u001b[0mpartial_fit\u001b[0m\u001b[0;34m(\u001b[0m\u001b[0mself\u001b[0m\u001b[0;34m,\u001b[0m \u001b[0mX\u001b[0m\u001b[0;34m,\u001b[0m \u001b[0my\u001b[0m\u001b[0;34m=\u001b[0m\u001b[0;32mNone\u001b[0m\u001b[0;34m)\u001b[0m\u001b[0;34m:\u001b[0m\u001b[0;34m\u001b[0m\u001b[0;34m\u001b[0m\u001b[0m\n",
            "\u001b[0;32m/usr/local/lib/python3.6/dist-packages/sklearn/preprocessing/data.py\u001b[0m in \u001b[0;36mpartial_fit\u001b[0;34m(self, X, y)\u001b[0m\n\u001b[1;32m    351\u001b[0m         X = check_array(X, copy=self.copy,\n\u001b[1;32m    352\u001b[0m                         \u001b[0mestimator\u001b[0m\u001b[0;34m=\u001b[0m\u001b[0mself\u001b[0m\u001b[0;34m,\u001b[0m \u001b[0mdtype\u001b[0m\u001b[0;34m=\u001b[0m\u001b[0mFLOAT_DTYPES\u001b[0m\u001b[0;34m,\u001b[0m\u001b[0;34m\u001b[0m\u001b[0;34m\u001b[0m\u001b[0m\n\u001b[0;32m--> 353\u001b[0;31m                         force_all_finite=\"allow-nan\")\n\u001b[0m\u001b[1;32m    354\u001b[0m \u001b[0;34m\u001b[0m\u001b[0m\n\u001b[1;32m    355\u001b[0m         \u001b[0mdata_min\u001b[0m \u001b[0;34m=\u001b[0m \u001b[0mnp\u001b[0m\u001b[0;34m.\u001b[0m\u001b[0mnanmin\u001b[0m\u001b[0;34m(\u001b[0m\u001b[0mX\u001b[0m\u001b[0;34m,\u001b[0m \u001b[0maxis\u001b[0m\u001b[0;34m=\u001b[0m\u001b[0;36m0\u001b[0m\u001b[0;34m)\u001b[0m\u001b[0;34m\u001b[0m\u001b[0;34m\u001b[0m\u001b[0m\n",
            "\u001b[0;32m/usr/local/lib/python3.6/dist-packages/sklearn/utils/validation.py\u001b[0m in \u001b[0;36mcheck_array\u001b[0;34m(array, accept_sparse, accept_large_sparse, dtype, order, copy, force_all_finite, ensure_2d, allow_nd, ensure_min_samples, ensure_min_features, warn_on_dtype, estimator)\u001b[0m\n\u001b[1;32m    494\u001b[0m             \u001b[0;32mtry\u001b[0m\u001b[0;34m:\u001b[0m\u001b[0;34m\u001b[0m\u001b[0;34m\u001b[0m\u001b[0m\n\u001b[1;32m    495\u001b[0m                 \u001b[0mwarnings\u001b[0m\u001b[0;34m.\u001b[0m\u001b[0msimplefilter\u001b[0m\u001b[0;34m(\u001b[0m\u001b[0;34m'error'\u001b[0m\u001b[0;34m,\u001b[0m \u001b[0mComplexWarning\u001b[0m\u001b[0;34m)\u001b[0m\u001b[0;34m\u001b[0m\u001b[0;34m\u001b[0m\u001b[0m\n\u001b[0;32m--> 496\u001b[0;31m                 \u001b[0marray\u001b[0m \u001b[0;34m=\u001b[0m \u001b[0mnp\u001b[0m\u001b[0;34m.\u001b[0m\u001b[0masarray\u001b[0m\u001b[0;34m(\u001b[0m\u001b[0marray\u001b[0m\u001b[0;34m,\u001b[0m \u001b[0mdtype\u001b[0m\u001b[0;34m=\u001b[0m\u001b[0mdtype\u001b[0m\u001b[0;34m,\u001b[0m \u001b[0morder\u001b[0m\u001b[0;34m=\u001b[0m\u001b[0morder\u001b[0m\u001b[0;34m)\u001b[0m\u001b[0;34m\u001b[0m\u001b[0;34m\u001b[0m\u001b[0m\n\u001b[0m\u001b[1;32m    497\u001b[0m             \u001b[0;32mexcept\u001b[0m \u001b[0mComplexWarning\u001b[0m\u001b[0;34m:\u001b[0m\u001b[0;34m\u001b[0m\u001b[0;34m\u001b[0m\u001b[0m\n\u001b[1;32m    498\u001b[0m                 raise ValueError(\"Complex data not supported\\n\"\n",
            "\u001b[0;32m/usr/local/lib/python3.6/dist-packages/numpy/core/_asarray.py\u001b[0m in \u001b[0;36masarray\u001b[0;34m(a, dtype, order)\u001b[0m\n\u001b[1;32m     83\u001b[0m \u001b[0;34m\u001b[0m\u001b[0m\n\u001b[1;32m     84\u001b[0m     \"\"\"\n\u001b[0;32m---> 85\u001b[0;31m     \u001b[0;32mreturn\u001b[0m \u001b[0marray\u001b[0m\u001b[0;34m(\u001b[0m\u001b[0ma\u001b[0m\u001b[0;34m,\u001b[0m \u001b[0mdtype\u001b[0m\u001b[0;34m,\u001b[0m \u001b[0mcopy\u001b[0m\u001b[0;34m=\u001b[0m\u001b[0;32mFalse\u001b[0m\u001b[0;34m,\u001b[0m \u001b[0morder\u001b[0m\u001b[0;34m=\u001b[0m\u001b[0morder\u001b[0m\u001b[0;34m)\u001b[0m\u001b[0;34m\u001b[0m\u001b[0;34m\u001b[0m\u001b[0m\n\u001b[0m\u001b[1;32m     86\u001b[0m \u001b[0;34m\u001b[0m\u001b[0m\n\u001b[1;32m     87\u001b[0m \u001b[0;34m\u001b[0m\u001b[0m\n",
            "\u001b[0;31mValueError\u001b[0m: setting an array element with a sequence."
          ]
        }
      ]
    },
    {
      "cell_type": "code",
      "metadata": {
        "id": "kpoHry5U4gz0",
        "colab_type": "code",
        "colab": {
          "base_uri": "https://localhost:8080/",
          "height": 358
        },
        "outputId": "7d4882dc-1d2e-4e22-8ecb-37130e2769f5"
      },
      "source": [
        "# scaler = MinMaxScaler()\n",
        "# scaler.fit(X_train)\n",
        "# X_scaled = scaler.transform(X_train)\n",
        "# X_test1 = scaler.transform(X_test)"
      ],
      "execution_count": 57,
      "outputs": [
        {
          "output_type": "error",
          "ename": "ValueError",
          "evalue": "ignored",
          "traceback": [
            "\u001b[0;31m---------------------------------------------------------------------------\u001b[0m",
            "\u001b[0;31mValueError\u001b[0m                                Traceback (most recent call last)",
            "\u001b[0;32m<ipython-input-57-e500640210a2>\u001b[0m in \u001b[0;36m<module>\u001b[0;34m()\u001b[0m\n\u001b[1;32m      1\u001b[0m \u001b[0mscaler\u001b[0m \u001b[0;34m=\u001b[0m \u001b[0mMinMaxScaler\u001b[0m\u001b[0;34m(\u001b[0m\u001b[0;34m)\u001b[0m\u001b[0;34m\u001b[0m\u001b[0;34m\u001b[0m\u001b[0m\n\u001b[0;32m----> 2\u001b[0;31m \u001b[0mscaler\u001b[0m\u001b[0;34m.\u001b[0m\u001b[0mfit\u001b[0m\u001b[0;34m(\u001b[0m\u001b[0mX_train\u001b[0m\u001b[0;34m)\u001b[0m\u001b[0;34m\u001b[0m\u001b[0;34m\u001b[0m\u001b[0m\n\u001b[0m\u001b[1;32m      3\u001b[0m \u001b[0mX_scaled\u001b[0m \u001b[0;34m=\u001b[0m \u001b[0mscaler\u001b[0m\u001b[0;34m.\u001b[0m\u001b[0mtransform\u001b[0m\u001b[0;34m(\u001b[0m\u001b[0mX_train\u001b[0m\u001b[0;34m)\u001b[0m\u001b[0;34m\u001b[0m\u001b[0;34m\u001b[0m\u001b[0m\n\u001b[1;32m      4\u001b[0m \u001b[0mX_test1\u001b[0m \u001b[0;34m=\u001b[0m \u001b[0mscaler\u001b[0m\u001b[0;34m.\u001b[0m\u001b[0mtransform\u001b[0m\u001b[0;34m(\u001b[0m\u001b[0mX_test\u001b[0m\u001b[0;34m)\u001b[0m\u001b[0;34m\u001b[0m\u001b[0;34m\u001b[0m\u001b[0m\n",
            "\u001b[0;32m/usr/local/lib/python3.6/dist-packages/sklearn/preprocessing/data.py\u001b[0m in \u001b[0;36mfit\u001b[0;34m(self, X, y)\u001b[0m\n\u001b[1;32m    323\u001b[0m         \u001b[0;31m# Reset internal state before fitting\u001b[0m\u001b[0;34m\u001b[0m\u001b[0;34m\u001b[0m\u001b[0;34m\u001b[0m\u001b[0m\n\u001b[1;32m    324\u001b[0m         \u001b[0mself\u001b[0m\u001b[0;34m.\u001b[0m\u001b[0m_reset\u001b[0m\u001b[0;34m(\u001b[0m\u001b[0;34m)\u001b[0m\u001b[0;34m\u001b[0m\u001b[0;34m\u001b[0m\u001b[0m\n\u001b[0;32m--> 325\u001b[0;31m         \u001b[0;32mreturn\u001b[0m \u001b[0mself\u001b[0m\u001b[0;34m.\u001b[0m\u001b[0mpartial_fit\u001b[0m\u001b[0;34m(\u001b[0m\u001b[0mX\u001b[0m\u001b[0;34m,\u001b[0m \u001b[0my\u001b[0m\u001b[0;34m)\u001b[0m\u001b[0;34m\u001b[0m\u001b[0;34m\u001b[0m\u001b[0m\n\u001b[0m\u001b[1;32m    326\u001b[0m \u001b[0;34m\u001b[0m\u001b[0m\n\u001b[1;32m    327\u001b[0m     \u001b[0;32mdef\u001b[0m \u001b[0mpartial_fit\u001b[0m\u001b[0;34m(\u001b[0m\u001b[0mself\u001b[0m\u001b[0;34m,\u001b[0m \u001b[0mX\u001b[0m\u001b[0;34m,\u001b[0m \u001b[0my\u001b[0m\u001b[0;34m=\u001b[0m\u001b[0;32mNone\u001b[0m\u001b[0;34m)\u001b[0m\u001b[0;34m:\u001b[0m\u001b[0;34m\u001b[0m\u001b[0;34m\u001b[0m\u001b[0m\n",
            "\u001b[0;32m/usr/local/lib/python3.6/dist-packages/sklearn/preprocessing/data.py\u001b[0m in \u001b[0;36mpartial_fit\u001b[0;34m(self, X, y)\u001b[0m\n\u001b[1;32m    351\u001b[0m         X = check_array(X, copy=self.copy,\n\u001b[1;32m    352\u001b[0m                         \u001b[0mestimator\u001b[0m\u001b[0;34m=\u001b[0m\u001b[0mself\u001b[0m\u001b[0;34m,\u001b[0m \u001b[0mdtype\u001b[0m\u001b[0;34m=\u001b[0m\u001b[0mFLOAT_DTYPES\u001b[0m\u001b[0;34m,\u001b[0m\u001b[0;34m\u001b[0m\u001b[0;34m\u001b[0m\u001b[0m\n\u001b[0;32m--> 353\u001b[0;31m                         force_all_finite=\"allow-nan\")\n\u001b[0m\u001b[1;32m    354\u001b[0m \u001b[0;34m\u001b[0m\u001b[0m\n\u001b[1;32m    355\u001b[0m         \u001b[0mdata_min\u001b[0m \u001b[0;34m=\u001b[0m \u001b[0mnp\u001b[0m\u001b[0;34m.\u001b[0m\u001b[0mnanmin\u001b[0m\u001b[0;34m(\u001b[0m\u001b[0mX\u001b[0m\u001b[0;34m,\u001b[0m \u001b[0maxis\u001b[0m\u001b[0;34m=\u001b[0m\u001b[0;36m0\u001b[0m\u001b[0;34m)\u001b[0m\u001b[0;34m\u001b[0m\u001b[0;34m\u001b[0m\u001b[0m\n",
            "\u001b[0;32m/usr/local/lib/python3.6/dist-packages/sklearn/utils/validation.py\u001b[0m in \u001b[0;36mcheck_array\u001b[0;34m(array, accept_sparse, accept_large_sparse, dtype, order, copy, force_all_finite, ensure_2d, allow_nd, ensure_min_samples, ensure_min_features, warn_on_dtype, estimator)\u001b[0m\n\u001b[1;32m    494\u001b[0m             \u001b[0;32mtry\u001b[0m\u001b[0;34m:\u001b[0m\u001b[0;34m\u001b[0m\u001b[0;34m\u001b[0m\u001b[0m\n\u001b[1;32m    495\u001b[0m                 \u001b[0mwarnings\u001b[0m\u001b[0;34m.\u001b[0m\u001b[0msimplefilter\u001b[0m\u001b[0;34m(\u001b[0m\u001b[0;34m'error'\u001b[0m\u001b[0;34m,\u001b[0m \u001b[0mComplexWarning\u001b[0m\u001b[0;34m)\u001b[0m\u001b[0;34m\u001b[0m\u001b[0;34m\u001b[0m\u001b[0m\n\u001b[0;32m--> 496\u001b[0;31m                 \u001b[0marray\u001b[0m \u001b[0;34m=\u001b[0m \u001b[0mnp\u001b[0m\u001b[0;34m.\u001b[0m\u001b[0masarray\u001b[0m\u001b[0;34m(\u001b[0m\u001b[0marray\u001b[0m\u001b[0;34m,\u001b[0m \u001b[0mdtype\u001b[0m\u001b[0;34m=\u001b[0m\u001b[0mdtype\u001b[0m\u001b[0;34m,\u001b[0m \u001b[0morder\u001b[0m\u001b[0;34m=\u001b[0m\u001b[0morder\u001b[0m\u001b[0;34m)\u001b[0m\u001b[0;34m\u001b[0m\u001b[0;34m\u001b[0m\u001b[0m\n\u001b[0m\u001b[1;32m    497\u001b[0m             \u001b[0;32mexcept\u001b[0m \u001b[0mComplexWarning\u001b[0m\u001b[0;34m:\u001b[0m\u001b[0;34m\u001b[0m\u001b[0;34m\u001b[0m\u001b[0m\n\u001b[1;32m    498\u001b[0m                 raise ValueError(\"Complex data not supported\\n\"\n",
            "\u001b[0;32m/usr/local/lib/python3.6/dist-packages/numpy/core/_asarray.py\u001b[0m in \u001b[0;36masarray\u001b[0;34m(a, dtype, order)\u001b[0m\n\u001b[1;32m     83\u001b[0m \u001b[0;34m\u001b[0m\u001b[0m\n\u001b[1;32m     84\u001b[0m     \"\"\"\n\u001b[0;32m---> 85\u001b[0;31m     \u001b[0;32mreturn\u001b[0m \u001b[0marray\u001b[0m\u001b[0;34m(\u001b[0m\u001b[0ma\u001b[0m\u001b[0;34m,\u001b[0m \u001b[0mdtype\u001b[0m\u001b[0;34m,\u001b[0m \u001b[0mcopy\u001b[0m\u001b[0;34m=\u001b[0m\u001b[0;32mFalse\u001b[0m\u001b[0;34m,\u001b[0m \u001b[0morder\u001b[0m\u001b[0;34m=\u001b[0m\u001b[0morder\u001b[0m\u001b[0;34m)\u001b[0m\u001b[0;34m\u001b[0m\u001b[0;34m\u001b[0m\u001b[0m\n\u001b[0m\u001b[1;32m     86\u001b[0m \u001b[0;34m\u001b[0m\u001b[0m\n\u001b[1;32m     87\u001b[0m \u001b[0;34m\u001b[0m\u001b[0m\n",
            "\u001b[0;31mValueError\u001b[0m: setting an array element with a sequence."
          ]
        }
      ]
    },
    {
      "cell_type": "markdown",
      "metadata": {
        "id": "CT37MjaM3Rsn",
        "colab_type": "text"
      },
      "source": [
        "#### TfIdf Weighting\n",
        "Do the same, using a classifier that averages the word vectors of words in the document, weighting each word by its TfIdf.\n"
      ]
    },
    {
      "cell_type": "code",
      "metadata": {
        "id": "YUbSsXYi3Rso",
        "colab_type": "code",
        "colab": {}
      },
      "source": [
        ""
      ],
      "execution_count": 0,
      "outputs": []
    },
    {
      "cell_type": "markdown",
      "metadata": {
        "id": "ZJJ0Zrx23Rsp",
        "colab_type": "text"
      },
      "source": [
        "### Text classification using ConvNet\n",
        "Do the same, using a ConvNet.  \n",
        "The ConvNet should get as input a 2D matrix where each column is an embedding vector of a single word, and words are in order. Use zero padding so that all matrices have a similar length.  \n",
        "Some songs might be very long. Trim them so you keep a maximum of 128 words (after cleaning stop words and rare words).  \n",
        "Initialize the embedding layer using the word vectors that you've trained before, but allow them to change during training.  \n",
        "\n",
        "Extra: Try training the ConvNet with 2 slight modifications:\n",
        "1. freezing the the weights trained using Word2vec (preventing it from updating)\n",
        "1. random initialization of the embedding layer"
      ]
    },
    {
      "cell_type": "markdown",
      "metadata": {
        "id": "01FKqgeL3Rsp",
        "colab_type": "text"
      },
      "source": [
        "You are encouraged to try this question on your own.  \n",
        "\n",
        "You might prefer to get ideas from the paper \"Convolutional Neural Networks for Sentence Classification\" (Kim 2014, [link](https://arxiv.org/abs/1408.5882)).\n",
        "\n",
        "There are several implementations of the paper code in PyTorch online (see for example [this repo](https://github.com/prakashpandey9/Text-Classification-Pytorch) for a PyTorch implementation of CNN and other architectures for text classification). If you get stuck, they might provide you with a reference for your own code."
      ]
    },
    {
      "cell_type": "code",
      "metadata": {
        "id": "MxOIg8gc3Rsq",
        "colab_type": "code",
        "colab": {}
      },
      "source": [
        ""
      ],
      "execution_count": 0,
      "outputs": []
    }
  ]
}