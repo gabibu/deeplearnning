{
  "nbformat": 4,
  "nbformat_minor": 0,
  "metadata": {
    "kernelspec": {
      "name": "python3",
      "display_name": "Python 3"
    },
    "language_info": {
      "codemirror_mode": {
        "name": "ipython",
        "version": 3
      },
      "file_extension": ".py",
      "mimetype": "text/x-python",
      "name": "python",
      "nbconvert_exporter": "python",
      "pygments_lexer": "ipython3",
      "version": "3.7.0"
    },
    "colab": {
      "name": "DL_word_embedding_assignment.ipynb",
      "provenance": []
    },
    "accelerator": "GPU"
  },
  "cells": [
    {
      "cell_type": "markdown",
      "metadata": {
        "id": "E3UhbKu23RsL",
        "colab_type": "text"
      },
      "source": [
        "# Word Embedding - Home Assigment\n",
        "## Dr. Omri Allouche 2018. YData Deep Learning Course\n",
        "\n",
        "[Open in Google Colab](https://colab.research.google.com/github/omriallouche/deep_learning_course/blob/master/DL_word_embedding_assignment.ipynb)\n",
        "    \n",
        "    \n",
        "In this exercise, you'll use word vectors trained on a corpus of 380,000 lyrics of songs from MetroLyrics (https://www.kaggle.com/gyani95/380000-lyrics-from-metrolyrics).  \n",
        "The dataset contains these fields for each song, in CSV format:\n",
        "1. index\n",
        "1. song\n",
        "1. year\n",
        "1. artist\n",
        "1. genre\n",
        "1. lyrics\n",
        "\n",
        "Before doing this exercise, we recommend that you go over the \"Bag of words meets bag of popcorn\" tutorial (https://www.kaggle.com/c/word2vec-nlp-tutorial)\n",
        "\n",
        "Other recommended resources:\n",
        "- https://rare-technologies.com/word2vec-tutorial/\n",
        "- https://www.kaggle.com/pierremegret/gensim-word2vec-tutorial"
      ]
    },
    {
      "cell_type": "markdown",
      "metadata": {
        "id": "1ock7CX_3RsN",
        "colab_type": "text"
      },
      "source": [
        "### Train word vectors\n",
        "Train word vectors using the Skipgram Word2vec algorithm and the gensim package.\n",
        "Make sure you perform the following:\n",
        "- Tokenize words\n",
        "- Lowercase all words\n",
        "- Remove punctuation marks\n",
        "- Remove rare words\n",
        "- Remove stopwords\n",
        "\n",
        "Use 300 as the dimension of the word vectors. Try different context sizes."
      ]
    },
    {
      "cell_type": "code",
      "metadata": {
        "id": "6JOvvKt4GkRH",
        "colab_type": "code",
        "outputId": "a3945c0f-26a0-42d8-87c0-78a154d69063",
        "colab": {
          "base_uri": "https://localhost:8080/",
          "height": 751
        }
      },
      "source": [
        "!pip install livelossplot"
      ],
      "execution_count": 1,
      "outputs": [
        {
          "output_type": "stream",
          "text": [
            "Collecting livelossplot\n",
            "  Downloading https://files.pythonhosted.org/packages/8e/f6/0618c30078f9c1e4b2cd84f1ea6bb70c6615070468b75b0d934326107bcd/livelossplot-0.4.1-py3-none-any.whl\n",
            "Requirement already satisfied: matplotlib in /usr/local/lib/python3.6/dist-packages (from livelossplot) (3.0.3)\n",
            "Requirement already satisfied: notebook in /usr/local/lib/python3.6/dist-packages (from livelossplot) (5.2.2)\n",
            "Requirement already satisfied: pyparsing!=2.0.4,!=2.1.2,!=2.1.6,>=2.0.1 in /usr/local/lib/python3.6/dist-packages (from matplotlib->livelossplot) (2.4.2)\n",
            "Requirement already satisfied: cycler>=0.10 in /usr/local/lib/python3.6/dist-packages (from matplotlib->livelossplot) (0.10.0)\n",
            "Requirement already satisfied: python-dateutil>=2.1 in /usr/local/lib/python3.6/dist-packages (from matplotlib->livelossplot) (2.5.3)\n",
            "Requirement already satisfied: numpy>=1.10.0 in /usr/local/lib/python3.6/dist-packages (from matplotlib->livelossplot) (1.16.5)\n",
            "Requirement already satisfied: kiwisolver>=1.0.1 in /usr/local/lib/python3.6/dist-packages (from matplotlib->livelossplot) (1.1.0)\n",
            "Requirement already satisfied: tornado>=4 in /usr/local/lib/python3.6/dist-packages (from notebook->livelossplot) (4.5.3)\n",
            "Requirement already satisfied: nbconvert in /usr/local/lib/python3.6/dist-packages (from notebook->livelossplot) (5.6.0)\n",
            "Requirement already satisfied: jupyter-client in /usr/local/lib/python3.6/dist-packages (from notebook->livelossplot) (5.3.4)\n",
            "Requirement already satisfied: ipython-genutils in /usr/local/lib/python3.6/dist-packages (from notebook->livelossplot) (0.2.0)\n",
            "Requirement already satisfied: jinja2 in /usr/local/lib/python3.6/dist-packages (from notebook->livelossplot) (2.10.3)\n",
            "Requirement already satisfied: terminado>=0.3.3; sys_platform != \"win32\" in /usr/local/lib/python3.6/dist-packages (from notebook->livelossplot) (0.8.2)\n",
            "Requirement already satisfied: nbformat in /usr/local/lib/python3.6/dist-packages (from notebook->livelossplot) (4.4.0)\n",
            "Requirement already satisfied: traitlets>=4.2.1 in /usr/local/lib/python3.6/dist-packages (from notebook->livelossplot) (4.3.3)\n",
            "Requirement already satisfied: jupyter-core in /usr/local/lib/python3.6/dist-packages (from notebook->livelossplot) (4.6.0)\n",
            "Requirement already satisfied: ipykernel in /usr/local/lib/python3.6/dist-packages (from notebook->livelossplot) (4.6.1)\n",
            "Requirement already satisfied: six in /usr/local/lib/python3.6/dist-packages (from cycler>=0.10->matplotlib->livelossplot) (1.12.0)\n",
            "Requirement already satisfied: setuptools in /usr/local/lib/python3.6/dist-packages (from kiwisolver>=1.0.1->matplotlib->livelossplot) (41.4.0)\n",
            "Requirement already satisfied: pygments in /usr/local/lib/python3.6/dist-packages (from nbconvert->notebook->livelossplot) (2.1.3)\n",
            "Requirement already satisfied: pandocfilters>=1.4.1 in /usr/local/lib/python3.6/dist-packages (from nbconvert->notebook->livelossplot) (1.4.2)\n",
            "Requirement already satisfied: entrypoints>=0.2.2 in /usr/local/lib/python3.6/dist-packages (from nbconvert->notebook->livelossplot) (0.3)\n",
            "Requirement already satisfied: mistune<2,>=0.8.1 in /usr/local/lib/python3.6/dist-packages (from nbconvert->notebook->livelossplot) (0.8.4)\n",
            "Requirement already satisfied: defusedxml in /usr/local/lib/python3.6/dist-packages (from nbconvert->notebook->livelossplot) (0.6.0)\n",
            "Requirement already satisfied: testpath in /usr/local/lib/python3.6/dist-packages (from nbconvert->notebook->livelossplot) (0.4.2)\n",
            "Requirement already satisfied: bleach in /usr/local/lib/python3.6/dist-packages (from nbconvert->notebook->livelossplot) (3.1.0)\n",
            "Requirement already satisfied: pyzmq>=13 in /usr/local/lib/python3.6/dist-packages (from jupyter-client->notebook->livelossplot) (17.0.0)\n",
            "Requirement already satisfied: MarkupSafe>=0.23 in /usr/local/lib/python3.6/dist-packages (from jinja2->notebook->livelossplot) (1.1.1)\n",
            "Requirement already satisfied: ptyprocess; os_name != \"nt\" in /usr/local/lib/python3.6/dist-packages (from terminado>=0.3.3; sys_platform != \"win32\"->notebook->livelossplot) (0.6.0)\n",
            "Requirement already satisfied: jsonschema!=2.5.0,>=2.4 in /usr/local/lib/python3.6/dist-packages (from nbformat->notebook->livelossplot) (2.6.0)\n",
            "Requirement already satisfied: decorator in /usr/local/lib/python3.6/dist-packages (from traitlets>=4.2.1->notebook->livelossplot) (4.4.0)\n",
            "Requirement already satisfied: ipython>=4.0.0 in /usr/local/lib/python3.6/dist-packages (from ipykernel->notebook->livelossplot) (5.5.0)\n",
            "Requirement already satisfied: webencodings in /usr/local/lib/python3.6/dist-packages (from bleach->nbconvert->notebook->livelossplot) (0.5.1)\n",
            "Requirement already satisfied: prompt-toolkit<2.0.0,>=1.0.4 in /usr/local/lib/python3.6/dist-packages (from ipython>=4.0.0->ipykernel->notebook->livelossplot) (1.0.18)\n",
            "Requirement already satisfied: pickleshare in /usr/local/lib/python3.6/dist-packages (from ipython>=4.0.0->ipykernel->notebook->livelossplot) (0.7.5)\n",
            "Requirement already satisfied: simplegeneric>0.8 in /usr/local/lib/python3.6/dist-packages (from ipython>=4.0.0->ipykernel->notebook->livelossplot) (0.8.1)\n",
            "Requirement already satisfied: pexpect; sys_platform != \"win32\" in /usr/local/lib/python3.6/dist-packages (from ipython>=4.0.0->ipykernel->notebook->livelossplot) (4.7.0)\n",
            "Requirement already satisfied: wcwidth in /usr/local/lib/python3.6/dist-packages (from prompt-toolkit<2.0.0,>=1.0.4->ipython>=4.0.0->ipykernel->notebook->livelossplot) (0.1.7)\n",
            "Installing collected packages: livelossplot\n",
            "Successfully installed livelossplot-0.4.1\n"
          ],
          "name": "stdout"
        }
      ]
    },
    {
      "cell_type": "code",
      "metadata": {
        "id": "RhmPqLwI3RsO",
        "colab_type": "code",
        "outputId": "c185097e-e4ed-4988-975e-7a8f0269ed82",
        "colab": {
          "base_uri": "https://localhost:8080/",
          "height": 85
        }
      },
      "source": [
        "import pandas as pd\n",
        "import string\n",
        "import nltk \n",
        "from gensim.models import Word2Vec\n",
        "import re\n",
        "import numpy as np\n",
        "from livelossplot import PlotLosses\n",
        "nltk.download('punkt')\n",
        "nltk.download('stopwords')\n",
        "from nltk.corpus import stopwords\n",
        "pd.set_option('display.width', -1)\n",
        "pd.set_option('max_colwidth', -1)\n",
        "from sklearn.model_selection import train_test_split\n",
        "from xgboost import XGBClassifier,XGBRegressor\n",
        "from sklearn.metrics import accuracy_score\n",
        "from sklearn.ensemble import RandomForestRegressor\n",
        "stop_words = set(stopwords.words(\"english\"))\n"
      ],
      "execution_count": 1,
      "outputs": [
        {
          "output_type": "stream",
          "text": [
            "[nltk_data] Downloading package punkt to /root/nltk_data...\n",
            "[nltk_data]   Package punkt is already up-to-date!\n",
            "[nltk_data] Downloading package stopwords to /root/nltk_data...\n",
            "[nltk_data]   Package stopwords is already up-to-date!\n"
          ],
          "name": "stdout"
        }
      ]
    },
    {
      "cell_type": "code",
      "metadata": {
        "id": "CopC33vU4OtL",
        "colab_type": "code",
        "outputId": "82a555cf-4a3f-446b-e9b3-8bb0313457c1",
        "colab": {
          "base_uri": "https://localhost:8080/",
          "height": 34
        }
      },
      "source": [
        "from google.colab import drive\n",
        "drive.mount('/content/drive')"
      ],
      "execution_count": 3,
      "outputs": [
        {
          "output_type": "stream",
          "text": [
            "Mounted at /content/drive\n"
          ],
          "name": "stdout"
        }
      ]
    },
    {
      "cell_type": "code",
      "metadata": {
        "id": "tJUylIph4Fcs",
        "colab_type": "code",
        "outputId": "2aa8d366-85a7-402d-ef44-d3f9d49071f6",
        "colab": {
          "base_uri": "https://localhost:8080/",
          "height": 213
        }
      },
      "source": [
        "lyrics_df = pd.read_csv(\"/content/drive/My Drive/lyrics.csv\", usecols=['genre', 'lyrics'])\n",
        "lyrics_df.sample(2)"
      ],
      "execution_count": 4,
      "outputs": [
        {
          "output_type": "execute_result",
          "data": {
            "text/html": [
              "<div>\n",
              "<style scoped>\n",
              "    .dataframe tbody tr th:only-of-type {\n",
              "        vertical-align: middle;\n",
              "    }\n",
              "\n",
              "    .dataframe tbody tr th {\n",
              "        vertical-align: top;\n",
              "    }\n",
              "\n",
              "    .dataframe thead th {\n",
              "        text-align: right;\n",
              "    }\n",
              "</style>\n",
              "<table border=\"1\" class=\"dataframe\">\n",
              "  <thead>\n",
              "    <tr style=\"text-align: right;\">\n",
              "      <th></th>\n",
              "      <th>genre</th>\n",
              "      <th>lyrics</th>\n",
              "    </tr>\n",
              "  </thead>\n",
              "  <tbody>\n",
              "    <tr>\n",
              "      <th>123403</th>\n",
              "      <td>Rock</td>\n",
              "      <td>NaN</td>\n",
              "    </tr>\n",
              "    <tr>\n",
              "      <th>278329</th>\n",
              "      <td>Metal</td>\n",
              "      <td>\"Vuelvo A Ser Mortal (AntihÃ©roe)\"\\nEn la oscuridad y la soledad,\\nDe esta frÃ­a habitaciÃ³n.\\nPuedo respirar,\\nVer la realidad,\\nEncontrarme con mi voz.\\nSin el antifaz,\\nVuelvo a ser mortal,\\nTan sencillo como tÃº.\\nNo es mÃ¡s que un disfraz,\\nPara ocultar\\nUna esencia a contraluz.\\nSi estas conmigo...\\nSÃ¡lvame de la tormenta,\\nDe mis dudas,\\nMi torpeza.\\nVen, quÃ©date aquÃ­.\\nSÃ¡lvame de mis flaquezas,\\nDel dolor,\\nDe la tristeza.\\nVen, ven a por mÃ­.\\nSiempre quise ser\\nTodo lo que ves,\\nMostrarme como soy.\\nAunque aprendÃ­\\nA sobrevivir,\\nEl silencio se quedÃ³.\\nVuelvo a despertar\\nCuando la ciudad\\nSe oculta frente a mÃ­.\\nY mis sueÃ±os son\\nSolo una ilusiÃ³n\\nTan difÃ­cil de cumplir.\\nTe necesito...\\nSÃ¡lvame de la tormenta,\\nDe mis dudas,\\nMi torpeza.\\nVen, quÃ©date aquÃ­.\\nSÃ¡lvame de mis flaquezas,\\nDel dolor,\\nDe la tristeza.\\nVen, ven a por mÃ­.\\nSin el antifaz,\\nVuelvo a ser mortal\\nConvirtiÃ©ndome en un antihÃ©roe.\\nSÃ¡lvame de la tormenta,\\nDe mis dudas,\\nMi torpeza.\\nVen, quÃ©date aquÃ­.\\nSÃ¡lvame de mis flaquezas,\\nDel dolor,\\nDe la tristeza.\\nVen, ven a por mÃ­.</td>\n",
              "    </tr>\n",
              "  </tbody>\n",
              "</table>\n",
              "</div>"
            ],
            "text/plain": [
              "        genre                                                                                                                                                                                                                                                                                                                                                                                                                                                                                                                                                                                                                                                                                                                                                                                                                                                                                                                                                                                                                                                                                                                                     lyrics\n",
              "123403  Rock   NaN                                                                                                                                                                                                                                                                                                                                                                                                                                                                                                                                                                                                                                                                                                                                                                                                                                                                                                                                                                                                                                                                                                                                      \n",
              "278329  Metal  \"Vuelvo A Ser Mortal (AntihÃ©roe)\"\\nEn la oscuridad y la soledad,\\nDe esta frÃ­a habitaciÃ³n.\\nPuedo respirar,\\nVer la realidad,\\nEncontrarme con mi voz.\\nSin el antifaz,\\nVuelvo a ser mortal,\\nTan sencillo como tÃº.\\nNo es mÃ¡s que un disfraz,\\nPara ocultar\\nUna esencia a contraluz.\\nSi estas conmigo...\\nSÃ¡lvame de la tormenta,\\nDe mis dudas,\\nMi torpeza.\\nVen, quÃ©date aquÃ­.\\nSÃ¡lvame de mis flaquezas,\\nDel dolor,\\nDe la tristeza.\\nVen, ven a por mÃ­.\\nSiempre quise ser\\nTodo lo que ves,\\nMostrarme como soy.\\nAunque aprendÃ­\\nA sobrevivir,\\nEl silencio se quedÃ³.\\nVuelvo a despertar\\nCuando la ciudad\\nSe oculta frente a mÃ­.\\nY mis sueÃ±os son\\nSolo una ilusiÃ³n\\nTan difÃ­cil de cumplir.\\nTe necesito...\\nSÃ¡lvame de la tormenta,\\nDe mis dudas,\\nMi torpeza.\\nVen, quÃ©date aquÃ­.\\nSÃ¡lvame de mis flaquezas,\\nDel dolor,\\nDe la tristeza.\\nVen, ven a por mÃ­.\\nSin el antifaz,\\nVuelvo a ser mortal\\nConvirtiÃ©ndome en un antihÃ©roe.\\nSÃ¡lvame de la tormenta,\\nDe mis dudas,\\nMi torpeza.\\nVen, quÃ©date aquÃ­.\\nSÃ¡lvame de mis flaquezas,\\nDel dolor,\\nDe la tristeza.\\nVen, ven a por mÃ­."
            ]
          },
          "metadata": {
            "tags": []
          },
          "execution_count": 4
        }
      ]
    },
    {
      "cell_type": "code",
      "metadata": {
        "id": "Sq_Y2su_7rQc",
        "colab_type": "code",
        "colab": {}
      },
      "source": [
        "lyrics_df = lyrics_df.where((pd.notnull(lyrics_df)), None)"
      ],
      "execution_count": 0,
      "outputs": []
    },
    {
      "cell_type": "code",
      "metadata": {
        "id": "FWH_CWdc4cpT",
        "colab_type": "code",
        "outputId": "1400cf1d-4e41-4482-baf0-0fe7c94f7a14",
        "colab": {
          "base_uri": "https://localhost:8080/",
          "height": 136
        }
      },
      "source": [
        "lyrics_df.info()"
      ],
      "execution_count": 6,
      "outputs": [
        {
          "output_type": "stream",
          "text": [
            "<class 'pandas.core.frame.DataFrame'>\n",
            "RangeIndex: 362237 entries, 0 to 362236\n",
            "Data columns (total 2 columns):\n",
            "genre     362237 non-null object\n",
            "lyrics    266557 non-null object\n",
            "dtypes: object(2)\n",
            "memory usage: 5.5+ MB\n"
          ],
          "name": "stdout"
        }
      ]
    },
    {
      "cell_type": "code",
      "metadata": {
        "id": "gJLISvt774kD",
        "colab_type": "code",
        "colab": {}
      },
      "source": [
        "lyrics_df = lyrics_df[lyrics_df['lyrics'].notnull()]"
      ],
      "execution_count": 0,
      "outputs": []
    },
    {
      "cell_type": "code",
      "metadata": {
        "id": "DQzH8g-d4Zj2",
        "colab_type": "code",
        "colab": {}
      },
      "source": [
        "from nltk.tokenize import RegexpTokenizer\n",
        "tokenizer = RegexpTokenizer(r'\\w+')"
      ],
      "execution_count": 0,
      "outputs": []
    },
    {
      "cell_type": "code",
      "metadata": {
        "id": "rTn-8VWl5quM",
        "colab_type": "code",
        "colab": {}
      },
      "source": [
        "def cleanText(text):\n",
        "  text = text.lower()\n",
        "  text = re.sub(r'\\d', '#', text) \n",
        "  text = re.sub(r\"\\s+\",\" \", text, flags = re.I)\n",
        "  tokens = tokenizer.tokenize(text.lower())\n",
        "  tokens = [token for token in tokens if token not in stop_words and token not in string.punctuation]\n",
        "  \n",
        "  return tokens if len(tokens) > 0 else None"
      ],
      "execution_count": 0,
      "outputs": []
    },
    {
      "cell_type": "code",
      "metadata": {
        "id": "AmIbguVy5iNk",
        "colab_type": "code",
        "colab": {}
      },
      "source": [
        "lyrics_df['clean_lyrics'] = lyrics_df['lyrics'].apply(cleanText)"
      ],
      "execution_count": 0,
      "outputs": []
    },
    {
      "cell_type": "code",
      "metadata": {
        "id": "fU6KyBAy-Mrj",
        "colab_type": "code",
        "colab": {}
      },
      "source": [
        "lyrics_df = lyrics_df[lyrics_df['clean_lyrics'].notnull()]"
      ],
      "execution_count": 0,
      "outputs": []
    },
    {
      "cell_type": "code",
      "metadata": {
        "id": "r4SM6U-T68FV",
        "colab_type": "code",
        "outputId": "3d875028-f470-48d7-87ae-8696d06e0252",
        "colab": {
          "base_uri": "https://localhost:8080/",
          "height": 227
        }
      },
      "source": [
        "lyrics_df[['genre', 'clean_lyrics']].sample(3)"
      ],
      "execution_count": 12,
      "outputs": [
        {
          "output_type": "execute_result",
          "data": {
            "text/html": [
              "<div>\n",
              "<style scoped>\n",
              "    .dataframe tbody tr th:only-of-type {\n",
              "        vertical-align: middle;\n",
              "    }\n",
              "\n",
              "    .dataframe tbody tr th {\n",
              "        vertical-align: top;\n",
              "    }\n",
              "\n",
              "    .dataframe thead th {\n",
              "        text-align: right;\n",
              "    }\n",
              "</style>\n",
              "<table border=\"1\" class=\"dataframe\">\n",
              "  <thead>\n",
              "    <tr style=\"text-align: right;\">\n",
              "      <th></th>\n",
              "      <th>genre</th>\n",
              "      <th>clean_lyrics</th>\n",
              "    </tr>\n",
              "  </thead>\n",
              "  <tbody>\n",
              "    <tr>\n",
              "      <th>116195</th>\n",
              "      <td>Rock</td>\n",
              "      <td>[virginia, kind, anyway, desire, virginia, crucified, dying, keeps, alive, swell, made, everyone, else, happy, horribly, well, girl, soul, shelf, virginia, knows, bleed, giving, never, comes, free, virginia, desperately, wanting, whole, world, watching, misery, swell, made, everyone, else, happy, horribly, well]</td>\n",
              "    </tr>\n",
              "    <tr>\n",
              "      <th>127112</th>\n",
              "      <td>Hip-Hop</td>\n",
              "      <td>[turn, head, phones, comin, ghetto, near, street, fame, haha, comin, ghetto, near, mad, tricks, shot, time, sanitize, posse, look, paranoid, niggas, got, cellular, calls, traced, since, surveillance, silently, momma, chill, thug, livin, pay, bills, die, violently, closed, caskets, expose, bastards, leave, em, bloody, deloris, tucker, let, kids, hear, nigga, speak, gettin, money, nothin, funny, green, got, nigga, seein, things, hit, lye, hope, god, fly, lethal, weapon, savage, still, method, madness, blast, niggas, laugh, call, em, care, cabbage, read, em, weep, put, em, sleep, hell, bound, lyrics, leave, em, spell, bound, clown, tired, bein, held, cross, heart, hope, die, blinded, pussy, ...]</td>\n",
              "    </tr>\n",
              "    <tr>\n",
              "      <th>88157</th>\n",
              "      <td>Rock</td>\n",
              "      <td>[chorus, like, prisoner, know, right, wrong, like, baby, sings, pleading, song, many, tears, must, fall, yes, many, tears, must, fall, like, sailor, steers, away, home, feels, tidal, wave, heart, alone, chorus, like, prisoner, know, right, wrong, like, baby, sing, pleading, song, never, know, feel, yes, never, know, feel]</td>\n",
              "    </tr>\n",
              "  </tbody>\n",
              "</table>\n",
              "</div>"
            ],
            "text/plain": [
              "          genre                                                                                                                                                                                                                                                                                                                                                                                                                                                                                                                                                                                                                                                                                                                   clean_lyrics\n",
              "116195  Rock     [virginia, kind, anyway, desire, virginia, crucified, dying, keeps, alive, swell, made, everyone, else, happy, horribly, well, girl, soul, shelf, virginia, knows, bleed, giving, never, comes, free, virginia, desperately, wanting, whole, world, watching, misery, swell, made, everyone, else, happy, horribly, well]                                                                                                                                                                                                                                                                                                                                                                                                    \n",
              "127112  Hip-Hop  [turn, head, phones, comin, ghetto, near, street, fame, haha, comin, ghetto, near, mad, tricks, shot, time, sanitize, posse, look, paranoid, niggas, got, cellular, calls, traced, since, surveillance, silently, momma, chill, thug, livin, pay, bills, die, violently, closed, caskets, expose, bastards, leave, em, bloody, deloris, tucker, let, kids, hear, nigga, speak, gettin, money, nothin, funny, green, got, nigga, seein, things, hit, lye, hope, god, fly, lethal, weapon, savage, still, method, madness, blast, niggas, laugh, call, em, care, cabbage, read, em, weep, put, em, sleep, hell, bound, lyrics, leave, em, spell, bound, clown, tired, bein, held, cross, heart, hope, die, blinded, pussy, ...]\n",
              "88157   Rock     [chorus, like, prisoner, know, right, wrong, like, baby, sings, pleading, song, many, tears, must, fall, yes, many, tears, must, fall, like, sailor, steers, away, home, feels, tidal, wave, heart, alone, chorus, like, prisoner, know, right, wrong, like, baby, sing, pleading, song, never, know, feel, yes, never, know, feel]                                                                                                                                                                                                                                                                                                                                                                                          "
            ]
          },
          "metadata": {
            "tags": []
          },
          "execution_count": 12
        }
      ]
    },
    {
      "cell_type": "code",
      "metadata": {
        "id": "VziQL7mX4qsu",
        "colab_type": "code",
        "colab": {}
      },
      "source": [
        "FEATURE_VECTOR_SIZE = 300 \n",
        "WINDOW_SIZE = 5\n",
        "all_sentenses = lyrics_df[\"clean_lyrics\"].tolist()\n",
        "wevec_model = Word2Vec(all_sentenses, size=FEATURE_VECTOR_SIZE, window=WINDOW_SIZE, workers=4, min_count=3)"
      ],
      "execution_count": 0,
      "outputs": []
    },
    {
      "cell_type": "markdown",
      "metadata": {
        "id": "Za296Eg93RsQ",
        "colab_type": "text"
      },
      "source": [
        "### Review most similar words\n",
        "Get initial evaluation of the word vectors by analyzing the most similar words for a few interesting words in the text. \n",
        "\n",
        "Choose words yourself, and find the most similar words to them."
      ]
    },
    {
      "cell_type": "code",
      "metadata": {
        "id": "i2DbKOJb3RsQ",
        "colab_type": "code",
        "outputId": "bff26398-580c-4b60-b406-df79572010b4",
        "colab": {
          "base_uri": "https://localhost:8080/",
          "height": 275
        }
      },
      "source": [
        "for word in ['love', 'man', 'girl', 'feel']:\n",
        "  print('**********{}**************'.format(word))\n",
        "  print(wevec_model.wv.most_similar('love'))\n",
        "  print('**********{}**************'.format(word))\n",
        "  "
      ],
      "execution_count": 0,
      "outputs": [
        {
          "output_type": "stream",
          "text": [
            "**********love**************\n",
            "[('know', 0.6976536512374878), ('baby', 0.6739638447761536), ('cause', 0.6532072424888611), ('true', 0.620837926864624), ('oh', 0.6157742738723755), ('want', 0.6149493455886841), ('never', 0.6118445992469788), ('always', 0.6080036163330078), ('heart', 0.6009585857391357), ('way', 0.5991636514663696)]\n",
            "**********love**************\n",
            "**********man**************\n",
            "[('know', 0.6976536512374878), ('baby', 0.6739638447761536), ('cause', 0.6532072424888611), ('true', 0.620837926864624), ('oh', 0.6157742738723755), ('want', 0.6149493455886841), ('never', 0.6118445992469788), ('always', 0.6080036163330078), ('heart', 0.6009585857391357), ('way', 0.5991636514663696)]\n",
            "**********man**************\n",
            "**********girl**************\n",
            "[('know', 0.6976536512374878), ('baby', 0.6739638447761536), ('cause', 0.6532072424888611), ('true', 0.620837926864624), ('oh', 0.6157742738723755), ('want', 0.6149493455886841), ('never', 0.6118445992469788), ('always', 0.6080036163330078), ('heart', 0.6009585857391357), ('way', 0.5991636514663696)]\n",
            "**********girl**************\n",
            "**********feel**************\n",
            "[('know', 0.6976536512374878), ('baby', 0.6739638447761536), ('cause', 0.6532072424888611), ('true', 0.620837926864624), ('oh', 0.6157742738723755), ('want', 0.6149493455886841), ('never', 0.6118445992469788), ('always', 0.6080036163330078), ('heart', 0.6009585857391357), ('way', 0.5991636514663696)]\n",
            "**********feel**************\n"
          ],
          "name": "stdout"
        },
        {
          "output_type": "stream",
          "text": [
            "/usr/local/lib/python3.6/dist-packages/gensim/matutils.py:737: FutureWarning: Conversion of the second argument of issubdtype from `int` to `np.signedinteger` is deprecated. In future, it will be treated as `np.int64 == np.dtype(int).type`.\n",
            "  if np.issubdtype(vec.dtype, np.int):\n"
          ],
          "name": "stderr"
        }
      ]
    },
    {
      "cell_type": "markdown",
      "metadata": {
        "id": "sYRBpD303RsT",
        "colab_type": "text"
      },
      "source": [
        "### Word Vectors Algebra\n",
        "We've seen in class examples of algebraic games on the word vectors (e.g. man - woman + king = queen ). \n",
        "\n",
        "Try a few vector algebra terms, and evaluate how well they work. Try to use the Cosine distance and compare it to the Euclidean distance."
      ]
    },
    {
      "cell_type": "code",
      "metadata": {
        "id": "rYsRL2eZ3RsT",
        "colab_type": "code",
        "outputId": "27437216-eb7d-499c-dfc7-891ebf4921a5",
        "colab": {
          "base_uri": "https://localhost:8080/",
          "height": 241
        }
      },
      "source": [
        "v1 = wevec_model.wv['king'] \n",
        "v2 = wevec_model.wv['queen'] \n",
        "\n",
        "res =  v1 - v2 \n",
        "wevec_model.wv.similar_by_vector(res)"
      ],
      "execution_count": 0,
      "outputs": [
        {
          "output_type": "stream",
          "text": [
            "/usr/local/lib/python3.6/dist-packages/gensim/matutils.py:737: FutureWarning: Conversion of the second argument of issubdtype from `int` to `np.signedinteger` is deprecated. In future, it will be treated as `np.int64 == np.dtype(int).type`.\n",
            "  if np.issubdtype(vec.dtype, np.int):\n"
          ],
          "name": "stderr"
        },
        {
          "output_type": "execute_result",
          "data": {
            "text/plain": [
              "[('king', 0.4416906237602234),\n",
              " ('victorious', 0.28422659635543823),\n",
              " ('christ', 0.28422001004219055),\n",
              " ('overthrow', 0.2781832814216614),\n",
              " ('disarmament', 0.2606436610221863),\n",
              " ('undisputed', 0.2583610415458679),\n",
              " ('overcome', 0.25667399168014526),\n",
              " ('solomon', 0.2539622485637665),\n",
              " ('dispear', 0.24596869945526123),\n",
              " ('battle', 0.23669087886810303)]"
            ]
          },
          "metadata": {
            "tags": []
          },
          "execution_count": 15
        }
      ]
    },
    {
      "cell_type": "code",
      "metadata": {
        "id": "7SnVAt9ZC2e4",
        "colab_type": "code",
        "outputId": "595068f7-d5a3-4d2f-9f5d-518923935dd4",
        "colab": {
          "base_uri": "https://localhost:8080/",
          "height": 241
        }
      },
      "source": [
        "v1 = wevec_model.wv['woman'] \n",
        "v2 = wevec_model.wv['girl'] \n",
        "\n",
        "res =  v1 - v2 \n",
        "wevec_model.wv.similar_by_vector(res)"
      ],
      "execution_count": 0,
      "outputs": [
        {
          "output_type": "stream",
          "text": [
            "/usr/local/lib/python3.6/dist-packages/gensim/matutils.py:737: FutureWarning: Conversion of the second argument of issubdtype from `int` to `np.signedinteger` is deprecated. In future, it will be treated as `np.int64 == np.dtype(int).type`.\n",
            "  if np.issubdtype(vec.dtype, np.int):\n"
          ],
          "name": "stderr"
        },
        {
          "output_type": "execute_result",
          "data": {
            "text/plain": [
              "[('woman', 0.3945504426956177),\n",
              " ('witchy', 0.3829672932624817),\n",
              " ('adherence', 0.3591882586479187),\n",
              " ('hath', 0.355106920003891),\n",
              " ('wastelands', 0.35092365741729736),\n",
              " ('hinguckt', 0.3403870761394501),\n",
              " ('wanhopige', 0.3390408158302307),\n",
              " ('incarnate', 0.33836591243743896),\n",
              " ('parachutist', 0.3364051580429077),\n",
              " ('dissatisfied', 0.3338039517402649)]"
            ]
          },
          "metadata": {
            "tags": []
          },
          "execution_count": 17
        }
      ]
    },
    {
      "cell_type": "code",
      "metadata": {
        "id": "FaBATHr0C-xW",
        "colab_type": "code",
        "outputId": "95d4ea0b-f4a3-4610-dfc0-18ae63b94ba9",
        "colab": {
          "base_uri": "https://localhost:8080/",
          "height": 241
        }
      },
      "source": [
        "v1 = wevec_model.wv['girl'] \n",
        "v2 = wevec_model.wv['man'] \n",
        "\n",
        "res =  v1 + v2 \n",
        "wevec_model.wv.similar_by_vector(res)"
      ],
      "execution_count": 0,
      "outputs": [
        {
          "output_type": "stream",
          "text": [
            "/usr/local/lib/python3.6/dist-packages/gensim/matutils.py:737: FutureWarning: Conversion of the second argument of issubdtype from `int` to `np.signedinteger` is deprecated. In future, it will be treated as `np.int64 == np.dtype(int).type`.\n",
            "  if np.issubdtype(vec.dtype, np.int):\n"
          ],
          "name": "stderr"
        },
        {
          "output_type": "execute_result",
          "data": {
            "text/plain": [
              "[('girl', 0.8658943176269531),\n",
              " ('man', 0.8452440500259399),\n",
              " ('woman', 0.7247971892356873),\n",
              " ('boy', 0.7180936336517334),\n",
              " ('know', 0.6527124047279358),\n",
              " ('baby', 0.6476815938949585),\n",
              " ('cause', 0.638348400592804),\n",
              " ('got', 0.6022270321846008),\n",
              " ('yeah', 0.5943912267684937),\n",
              " ('love', 0.5738491415977478)]"
            ]
          },
          "metadata": {
            "tags": []
          },
          "execution_count": 18
        }
      ]
    },
    {
      "cell_type": "code",
      "metadata": {
        "id": "WhR4V2nNDJw-",
        "colab_type": "code",
        "outputId": "ecf899a6-83a2-4991-b6d7-1f323640f704",
        "colab": {
          "base_uri": "https://localhost:8080/",
          "height": 241
        }
      },
      "source": [
        "v1 = wevec_model.wv['woman'] \n",
        "v2 = wevec_model.wv['husband'] \n",
        "\n",
        "res =  v1 + v2 \n",
        "wevec_model.wv.similar_by_vector(res)"
      ],
      "execution_count": 0,
      "outputs": [
        {
          "output_type": "stream",
          "text": [
            "/usr/local/lib/python3.6/dist-packages/gensim/matutils.py:737: FutureWarning: Conversion of the second argument of issubdtype from `int` to `np.signedinteger` is deprecated. In future, it will be treated as `np.int64 == np.dtype(int).type`.\n",
            "  if np.issubdtype(vec.dtype, np.int):\n"
          ],
          "name": "stderr"
        },
        {
          "output_type": "execute_result",
          "data": {
            "text/plain": [
              "[('woman', 0.8930797576904297),\n",
              " ('husband', 0.7790439128875732),\n",
              " ('wife', 0.6306020021438599),\n",
              " ('man', 0.6067594289779663),\n",
              " ('girl', 0.5493606328964233),\n",
              " ('daughter', 0.5384731292724609),\n",
              " ('child', 0.49661391973495483),\n",
              " ('women', 0.48693349957466125),\n",
              " ('neighbor', 0.46220311522483826),\n",
              " ('lovin', 0.4582667052745819)]"
            ]
          },
          "metadata": {
            "tags": []
          },
          "execution_count": 19
        }
      ]
    },
    {
      "cell_type": "code",
      "metadata": {
        "id": "5IKrj51iDQc-",
        "colab_type": "code",
        "outputId": "2b75d86e-f623-4bb2-e0b5-6dd4dfaf717f",
        "colab": {
          "base_uri": "https://localhost:8080/",
          "height": 241
        }
      },
      "source": [
        "v1 = wevec_model.wv['wife'] \n",
        "v2 = wevec_model.wv['woman'] \n",
        "\n",
        "res =  v1 - v2 \n",
        "wevec_model.wv.similar_by_vector(res)"
      ],
      "execution_count": 0,
      "outputs": [
        {
          "output_type": "stream",
          "text": [
            "/usr/local/lib/python3.6/dist-packages/gensim/matutils.py:737: FutureWarning: Conversion of the second argument of issubdtype from `int` to `np.signedinteger` is deprecated. In future, it will be treated as `np.int64 == np.dtype(int).type`.\n",
            "  if np.issubdtype(vec.dtype, np.int):\n"
          ],
          "name": "stderr"
        },
        {
          "output_type": "execute_result",
          "data": {
            "text/plain": [
              "[('wife', 0.5940633416175842),\n",
              " ('doorjust', 0.39944425225257874),\n",
              " ('beaters', 0.38050615787506104),\n",
              " ('tillman', 0.3772699236869812),\n",
              " ('nephews', 0.3584328591823578),\n",
              " ('ahhhhaaaaaaaaghhhh', 0.3539944887161255),\n",
              " ('attended', 0.34795355796813965),\n",
              " ('swipe', 0.33600378036499023),\n",
              " ('saver', 0.3341713845729828),\n",
              " ('burglary', 0.32993119955062866)]"
            ]
          },
          "metadata": {
            "tags": []
          },
          "execution_count": 20
        }
      ]
    },
    {
      "cell_type": "code",
      "metadata": {
        "id": "F-gKSCMdDejf",
        "colab_type": "code",
        "outputId": "0a023c33-4700-496b-907b-13ff71e2d866",
        "colab": {
          "base_uri": "https://localhost:8080/",
          "height": 241
        }
      },
      "source": [
        "v1 = wevec_model.wv['young'] \n",
        "v2 = wevec_model.wv['baby'] \n",
        "\n",
        "res =  v1 + v2 \n",
        "wevec_model.wv.similar_by_vector(res)"
      ],
      "execution_count": 0,
      "outputs": [
        {
          "output_type": "stream",
          "text": [
            "/usr/local/lib/python3.6/dist-packages/gensim/matutils.py:737: FutureWarning: Conversion of the second argument of issubdtype from `int` to `np.signedinteger` is deprecated. In future, it will be treated as `np.int64 == np.dtype(int).type`.\n",
            "  if np.issubdtype(vec.dtype, np.int):\n"
          ],
          "name": "stderr"
        },
        {
          "output_type": "execute_result",
          "data": {
            "text/plain": [
              "[('young', 0.7975558042526245),\n",
              " ('baby', 0.7816184163093567),\n",
              " ('girl', 0.6593176126480103),\n",
              " ('love', 0.6478465795516968),\n",
              " ('cause', 0.6436699628829956),\n",
              " ('know', 0.6418748497962952),\n",
              " ('yeah', 0.6136243343353271),\n",
              " ('boy', 0.6044150590896606),\n",
              " ('got', 0.5908496975898743),\n",
              " ('want', 0.58655846118927)]"
            ]
          },
          "metadata": {
            "tags": []
          },
          "execution_count": 26
        }
      ]
    },
    {
      "cell_type": "markdown",
      "metadata": {
        "id": "k_CwD9Fk3RsV",
        "colab_type": "text"
      },
      "source": [
        "## Sentiment Analysis\n",
        "Estimate sentiment of words using word vectors.  \n",
        "In this section, we'll use the SemEval-2015 English Twitter Sentiment Lexicon.  \n",
        "The lexicon was used as an official test set in the SemEval-2015 shared Task #10: Subtask E, and contains a polarity score for words in range -1 (negative) to 1 (positive) - http://saifmohammad.com/WebPages/SCL.html#OPP"
      ]
    },
    {
      "cell_type": "markdown",
      "metadata": {
        "id": "jiBP0tHv3RsV",
        "colab_type": "text"
      },
      "source": [
        "Build a classifier for the sentiment of a word given its word vector. Split the data to a train and test sets, and report the model performance on both sets."
      ]
    },
    {
      "cell_type": "code",
      "metadata": {
        "id": "vggDl4sv3RsW",
        "colab_type": "code",
        "outputId": "3a061f29-bd28-4eac-b005-6f02e94d9dc9",
        "colab": {
          "base_uri": "https://localhost:8080/",
          "height": 390
        }
      },
      "source": [
        "twitter_lex_df = pd.read_csv('/content/drive/My Drive/SemEval2015-English-Twitter-Lexicon.txt', sep='\\t',  names =['polarity', 'word'])\n",
        "twitter_lex_df.describe(include = 'all')"
      ],
      "execution_count": 14,
      "outputs": [
        {
          "output_type": "execute_result",
          "data": {
            "text/html": [
              "<div>\n",
              "<style scoped>\n",
              "    .dataframe tbody tr th:only-of-type {\n",
              "        vertical-align: middle;\n",
              "    }\n",
              "\n",
              "    .dataframe tbody tr th {\n",
              "        vertical-align: top;\n",
              "    }\n",
              "\n",
              "    .dataframe thead th {\n",
              "        text-align: right;\n",
              "    }\n",
              "</style>\n",
              "<table border=\"1\" class=\"dataframe\">\n",
              "  <thead>\n",
              "    <tr style=\"text-align: right;\">\n",
              "      <th></th>\n",
              "      <th>polarity</th>\n",
              "      <th>word</th>\n",
              "    </tr>\n",
              "  </thead>\n",
              "  <tbody>\n",
              "    <tr>\n",
              "      <th>count</th>\n",
              "      <td>1515.000000</td>\n",
              "      <td>1515</td>\n",
              "    </tr>\n",
              "    <tr>\n",
              "      <th>unique</th>\n",
              "      <td>NaN</td>\n",
              "      <td>1515</td>\n",
              "    </tr>\n",
              "    <tr>\n",
              "      <th>top</th>\n",
              "      <td>NaN</td>\n",
              "      <td>#phenomenal</td>\n",
              "    </tr>\n",
              "    <tr>\n",
              "      <th>freq</th>\n",
              "      <td>NaN</td>\n",
              "      <td>1</td>\n",
              "    </tr>\n",
              "    <tr>\n",
              "      <th>mean</th>\n",
              "      <td>0.000319</td>\n",
              "      <td>NaN</td>\n",
              "    </tr>\n",
              "    <tr>\n",
              "      <th>std</th>\n",
              "      <td>0.502247</td>\n",
              "      <td>NaN</td>\n",
              "    </tr>\n",
              "    <tr>\n",
              "      <th>min</th>\n",
              "      <td>-0.984000</td>\n",
              "      <td>NaN</td>\n",
              "    </tr>\n",
              "    <tr>\n",
              "      <th>25%</th>\n",
              "      <td>-0.422000</td>\n",
              "      <td>NaN</td>\n",
              "    </tr>\n",
              "    <tr>\n",
              "      <th>50%</th>\n",
              "      <td>0.031000</td>\n",
              "      <td>NaN</td>\n",
              "    </tr>\n",
              "    <tr>\n",
              "      <th>75%</th>\n",
              "      <td>0.406000</td>\n",
              "      <td>NaN</td>\n",
              "    </tr>\n",
              "    <tr>\n",
              "      <th>max</th>\n",
              "      <td>0.984000</td>\n",
              "      <td>NaN</td>\n",
              "    </tr>\n",
              "  </tbody>\n",
              "</table>\n",
              "</div>"
            ],
            "text/plain": [
              "           polarity         word\n",
              "count   1515.000000  1515       \n",
              "unique NaN           1515       \n",
              "top    NaN           #phenomenal\n",
              "freq   NaN           1          \n",
              "mean    0.000319     NaN        \n",
              "std     0.502247     NaN        \n",
              "min    -0.984000     NaN        \n",
              "25%    -0.422000     NaN        \n",
              "50%     0.031000     NaN        \n",
              "75%     0.406000     NaN        \n",
              "max     0.984000     NaN        "
            ]
          },
          "metadata": {
            "tags": []
          },
          "execution_count": 14
        }
      ]
    },
    {
      "cell_type": "code",
      "metadata": {
        "id": "u-U69mo7D1_P",
        "colab_type": "code",
        "outputId": "fc893da1-e448-4908-8c8c-186820bc4286",
        "colab": {
          "base_uri": "https://localhost:8080/",
          "height": 142
        }
      },
      "source": [
        "twitter_lex_df.sample(3)"
      ],
      "execution_count": 0,
      "outputs": [
        {
          "output_type": "execute_result",
          "data": {
            "text/html": [
              "<div>\n",
              "<style scoped>\n",
              "    .dataframe tbody tr th:only-of-type {\n",
              "        vertical-align: middle;\n",
              "    }\n",
              "\n",
              "    .dataframe tbody tr th {\n",
              "        vertical-align: top;\n",
              "    }\n",
              "\n",
              "    .dataframe thead th {\n",
              "        text-align: right;\n",
              "    }\n",
              "</style>\n",
              "<table border=\"1\" class=\"dataframe\">\n",
              "  <thead>\n",
              "    <tr style=\"text-align: right;\">\n",
              "      <th></th>\n",
              "      <th>polarity</th>\n",
              "      <th>word</th>\n",
              "    </tr>\n",
              "  </thead>\n",
              "  <tbody>\n",
              "    <tr>\n",
              "      <th>382</th>\n",
              "      <td>0.391</td>\n",
              "      <td>no rush</td>\n",
              "    </tr>\n",
              "    <tr>\n",
              "      <th>584</th>\n",
              "      <td>0.188</td>\n",
              "      <td>read</td>\n",
              "    </tr>\n",
              "    <tr>\n",
              "      <th>390</th>\n",
              "      <td>0.391</td>\n",
              "      <td>proper</td>\n",
              "    </tr>\n",
              "  </tbody>\n",
              "</table>\n",
              "</div>"
            ],
            "text/plain": [
              "     polarity     word\n",
              "382  0.391     no rush\n",
              "584  0.188     read   \n",
              "390  0.391     proper "
            ]
          },
          "metadata": {
            "tags": []
          },
          "execution_count": 28
        }
      ]
    },
    {
      "cell_type": "code",
      "metadata": {
        "id": "QFjvMj3CD7dX",
        "colab_type": "code",
        "colab": {}
      },
      "source": [
        "twitter_lex_df['vector'] = twitter_lex_df[\"word\"].apply(lambda word: wevec_model.wv[word].reshape(1,-1) if word in wevec_model.wv else None)\n",
        "twitter_lex_df = twitter_lex_df[twitter_lex_df.vector.notnull()]\n"
      ],
      "execution_count": 0,
      "outputs": []
    },
    {
      "cell_type": "code",
      "metadata": {
        "id": "8OkGlggnEB_X",
        "colab_type": "code",
        "colab": {}
      },
      "source": [
        "  \n",
        "train, test = train_test_split(twitter_lex_df, test_size=0.2, random_state=999)\n",
        "X_train = train['vector'].values\n",
        "y_train = train['polarity'].values\n",
        "X_test = test['vector'].values\n",
        "y_test = test['polarity'].values\n",
        "\n",
        "X_train = np.concatenate(X_train).reshape(X_train.shape[0], X_train[0].shape[1])\n",
        "\n",
        "shape = list(X_test[0].shape)\n",
        "X_test = np.concatenate(X_test).reshape(X_test.shape[0],X_test[0].shape[1])"
      ],
      "execution_count": 0,
      "outputs": []
    },
    {
      "cell_type": "code",
      "metadata": {
        "id": "RPm1o54AEU5P",
        "colab_type": "code",
        "outputId": "50efea12-5fd7-4cc8-b5ce-a0419b147873",
        "colab": {
          "base_uri": "https://localhost:8080/",
          "height": 153
        }
      },
      "source": [
        "model = XGBRegressor()\n",
        "model.fit(X_train, y_train)"
      ],
      "execution_count": 0,
      "outputs": [
        {
          "output_type": "stream",
          "text": [
            "[15:24:00] WARNING: /workspace/src/objective/regression_obj.cu:152: reg:linear is now deprecated in favor of reg:squarederror.\n"
          ],
          "name": "stdout"
        },
        {
          "output_type": "execute_result",
          "data": {
            "text/plain": [
              "XGBRegressor(base_score=0.5, booster='gbtree', colsample_bylevel=1,\n",
              "             colsample_bynode=1, colsample_bytree=1, gamma=0,\n",
              "             importance_type='gain', learning_rate=0.1, max_delta_step=0,\n",
              "             max_depth=3, min_child_weight=1, missing=None, n_estimators=100,\n",
              "             n_jobs=1, nthread=None, objective='reg:linear', random_state=0,\n",
              "             reg_alpha=0, reg_lambda=1, scale_pos_weight=1, seed=None,\n",
              "             silent=None, subsample=1, verbosity=1)"
            ]
          },
          "metadata": {
            "tags": []
          },
          "execution_count": 35
        }
      ]
    },
    {
      "cell_type": "code",
      "metadata": {
        "id": "i4gqsIBsEYIP",
        "colab_type": "code",
        "outputId": "f8fada3d-9a21-4fad-908c-def9c847d986",
        "colab": {
          "base_uri": "https://localhost:8080/",
          "height": 34
        }
      },
      "source": [
        "model.score(X_test, y_test)"
      ],
      "execution_count": 0,
      "outputs": [
        {
          "output_type": "execute_result",
          "data": {
            "text/plain": [
              "0.35175120519967285"
            ]
          },
          "metadata": {
            "tags": []
          },
          "execution_count": 36
        }
      ]
    },
    {
      "cell_type": "code",
      "metadata": {
        "id": "EZpF0HWqE-7n",
        "colab_type": "code",
        "outputId": "af0ec56a-3098-4a0b-e9b9-e0a61f066255",
        "colab": {
          "base_uri": "https://localhost:8080/",
          "height": 34
        }
      },
      "source": [
        "use_cuda = torch.cuda.is_available()\n",
        "use_cuda"
      ],
      "execution_count": 19,
      "outputs": [
        {
          "output_type": "execute_result",
          "data": {
            "text/plain": [
              "True"
            ]
          },
          "metadata": {
            "tags": []
          },
          "execution_count": 19
        }
      ]
    },
    {
      "cell_type": "code",
      "metadata": {
        "id": "5BjHOvWyFFzH",
        "colab_type": "code",
        "colab": {}
      },
      "source": [
        "import torch.utils.data as utils_data\n",
        "from torch.autograd import Variable\n",
        "\n",
        "training_samples = utils_data.TensorDataset(torch.from_numpy(X_train), torch.from_numpy(y_train))\n",
        "data_loader = utils_data.DataLoader(training_samples, batch_size=5, shuffle=False)\t\n",
        "\n",
        "test_samples = utils_data.TensorDataset(torch.from_numpy(X_test), torch.from_numpy(y_test))\n",
        "test_data_loader = utils_data.DataLoader(test_samples, batch_size=len(X_test), shuffle=False)\t\n",
        "test_data_loader_1 = utils_data.DataLoader(test_samples, batch_size=1, shuffle=False)\n"
      ],
      "execution_count": 0,
      "outputs": []
    },
    {
      "cell_type": "code",
      "metadata": {
        "id": "p0OCCruLEsR_",
        "colab_type": "code",
        "outputId": "3bc1562c-aaa8-4929-ab80-773e47bde484",
        "colab": {
          "base_uri": "https://localhost:8080/",
          "height": 1000
        }
      },
      "source": [
        "import torch\n",
        "from torch import nn, optim\n",
        "from torch.nn import functional as F\n",
        "from sklearn.metrics import r2_score, mean_squared_error\n",
        "\n",
        "\n",
        "def score(netModel, data_loader, criterion):\n",
        "  \n",
        "  running_loss = 0.\n",
        "  calc_count =0.\n",
        "  valTrue  = []\n",
        "  valPredicted  = []\n",
        "  \n",
        "  netModel.eval()\n",
        "  \n",
        "  with torch.no_grad():\n",
        "    for vectors, labels in data_loader:\n",
        "      if use_cuda:\n",
        "        vectors = vectors.cuda()\n",
        "        labels = labels.cuda().float()\n",
        "        \n",
        "      vectors = Variable(vectors)  \n",
        "      labels = Variable(labels)\n",
        "      \n",
        "      outputs = netModel(vectors.float())\n",
        "      \n",
        "      valPredicted.extend(outputs.detach().cpu().numpy().flatten())\n",
        "      valTrue.extend(labels.detach().cpu().numpy().flatten())\n",
        "      \n",
        "      loss = criterion(outputs.flatten(), labels.flatten())\n",
        "      running_loss += loss.item()\n",
        "      \n",
        "  return running_loss/len(valTrue), r2_score(valTrue, valPredicted), mean_squared_error(valTrue, valPredicted)\n",
        "\n",
        "\n",
        "liveloss = PlotLosses()\n",
        "\n",
        "class Net(torch.nn.Module):\n",
        "    def __init__(self, n_feature, n_hidden, n_output):\n",
        "        super(Net, self).__init__()\n",
        "        self.hidden = torch.nn.Linear(n_feature, n_hidden)\n",
        "        self.predict = torch.nn.Linear(n_hidden, n_output)\n",
        "        self.dropout1 = nn.Dropout(p=0.5)\n",
        "        self.dropout2 = nn.Dropout(p=0.5)\n",
        "        \n",
        "\n",
        "    def forward(self, x):\n",
        "        x = self.dropout1(x)\n",
        "        x = F.relu(self.hidden(x))   \n",
        "        x = self.dropout2(x)\n",
        "        x = self.predict(x)  \n",
        "        return x\n",
        "\n",
        "      \n",
        "      \n",
        "net = Net(n_feature=300, n_hidden=20, n_output=1)     \n",
        "optimizer = torch.optim.SGD(net.parameters(), lr=0.001)\n",
        "loss_func = torch.nn.MSELoss()\n",
        "\n",
        "if use_cuda:\n",
        "  net = net.cuda()\n",
        "  \n",
        "# plt.ion()  \n",
        "\n",
        "for epoch in range(1000):\n",
        "  \n",
        "  net.train()\n",
        "  \n",
        "  batchloss = 0.0\n",
        "  yTrue = []\n",
        "  YPredicted = []\n",
        "  for batch_idx, (data, target) in enumerate(data_loader):\n",
        "        \n",
        "    if use_cuda:\n",
        "      data = data.cuda()\n",
        "      target = target.cuda()\n",
        "          \n",
        "          \n",
        "    data, target = Variable(data).float(), Variable(target).float()\n",
        "    optimizer.zero_grad()\n",
        "    prediction = net(data)\n",
        "    loss = loss_func(prediction.flatten(), target.flatten()) \n",
        "    \n",
        "    \n",
        "    YPredicted.extend(prediction.detach().cpu().numpy().flatten())\n",
        "    yTrue.extend(target.detach().cpu().numpy().flatten())\n",
        "        \n",
        "    loss.backward() \n",
        "    optimizer.step()\n",
        "    \n",
        "    batchloss += loss.item()\n",
        "  \n",
        "  losLog = {}\n",
        "  losLog['trainning_loss'] = batchloss/len(YPredicted)\n",
        "  \n",
        "  r2 = r2_score(yTrue, YPredicted)\n",
        "  losLog['trainning_r2'] = r2\n",
        "  trainningMSE = mean_squared_error(yTrue, YPredicted)\n",
        "  losLog['trainning_mse'] = trainningMSE\n",
        "  \n",
        "  valLoss, valR2, valMSE = score(net, test_data_loader, loss_func )\n",
        "  \n",
        "  losLog['validation_loss'] = valLoss\n",
        "  losLog['validation_r2'] = valR2\n",
        "  losLog['validation_mse'] = valMSE\n",
        "  liveloss.update(losLog)\n",
        "  liveloss.draw()\n",
        "        "
      ],
      "execution_count": 0,
      "outputs": [
        {
          "output_type": "display_data",
          "data": {
            "image/png": "[encoded data removed]",
            "text/plain": [
              "<Figure size 864x1152 with 6 Axes>"
            ]
          },
          "metadata": {
            "tags": []
          }
        },
        {
          "output_type": "stream",
          "text": [
            "trainning_loss:\n",
            "training   (min:    0.027, max:    0.064, cur:    0.030)\n",
            "\n",
            "trainning_r2:\n",
            "training   (min:   -0.445, max:    0.382, cur:    0.318)\n",
            "\n",
            "trainning_mse:\n",
            "training   (min:    0.137, max:    0.321, cur:    0.151)\n",
            "\n",
            "validation_loss:\n",
            "training   (min:    0.001, max:    0.001, cur:    0.001)\n",
            "\n",
            "validation_r2:\n",
            "training   (min:    0.001, max:    0.332, cur:    0.329)\n",
            "\n",
            "validation_mse:\n",
            "training   (min:    0.157, max:    0.235, cur:    0.158)\n"
          ],
          "name": "stdout"
        }
      ]
    },
    {
      "cell_type": "markdown",
      "metadata": {
        "id": "-kVlv7IX3RsY",
        "colab_type": "text"
      },
      "source": [
        "Use your trained model from the previous question to predict the sentiment score of words in the lyrics corpus that are not part of the original sentiment dataset. Review the words with the highest positive and negative sentiment. Do the results make sense?"
      ]
    },
    {
      "cell_type": "code",
      "metadata": {
        "id": "VgZUs39D3RsZ",
        "colab_type": "code",
        "colab": {}
      },
      "source": [
        ""
      ],
      "execution_count": 0,
      "outputs": []
    },
    {
      "cell_type": "markdown",
      "metadata": {
        "id": "PexZrC3Z3Rsb",
        "colab_type": "text"
      },
      "source": [
        "### Visualize Word Vectors\n",
        "In this section, you'll plot words on a 2D grid based on their inner similarity. We'll use the tSNE transformation to reduce dimensions from 300 to 2. You can get sample code from https://www.kaggle.com/pierremegret/gensim-word2vec-tutorial or other tutorials online.\n",
        "\n",
        "Perform the following:\n",
        "- Keep only the 3,000 most frequent words (after removing stopwords)\n",
        "- For this list, compute for each word its relative abundance in each of the genres\n",
        "- Compute the ratio between the proportion of each word in each genre and the proportion of the word in the entire corpus (the background distribution)\n",
        "- Pick the top 50 words for each genre. These words give good indication for that genre. Join the words from all genres into a single list of top significant words. \n",
        "- Compute tSNE transformation to 2D for all words, based on their word vectors\n",
        "- Plot the list of the top significant words in 2D. Next to each word output its text. The color of each point should indicate the genre for which it is most significant.\n",
        "\n",
        "You might prefer to use a different number of points or a slightly different methodology for improved results.  \n",
        "Analyze the results."
      ]
    },
    {
      "cell_type": "code",
      "metadata": {
        "id": "njRjVeOo3Rsb",
        "colab_type": "code",
        "colab": {}
      },
      "source": [
        ""
      ],
      "execution_count": 0,
      "outputs": []
    },
    {
      "cell_type": "markdown",
      "metadata": {
        "id": "VrrV48nU3Rsd",
        "colab_type": "text"
      },
      "source": [
        "## Text Classification\n",
        "In this section, you'll build a text classifier, determining the genre of a song based on its lyrics."
      ]
    },
    {
      "cell_type": "markdown",
      "metadata": {
        "id": "ib5DLejw3Rsd",
        "colab_type": "text"
      },
      "source": [
        "### Text classification using Bag-of-Words\n",
        "Build a Naive Bayes classifier based on the bag of Words.  \n",
        "You will need to divide your dataset into a train and test sets."
      ]
    },
    {
      "cell_type": "code",
      "metadata": {
        "id": "lxmPDfzs3Rse",
        "colab_type": "code",
        "colab": {}
      },
      "source": [
        ""
      ],
      "execution_count": 0,
      "outputs": []
    },
    {
      "cell_type": "markdown",
      "metadata": {
        "id": "xbGekJtg3Rsf",
        "colab_type": "text"
      },
      "source": [
        "Show the confusion matrix."
      ]
    },
    {
      "cell_type": "code",
      "metadata": {
        "id": "1YWleqZZ3Rsg",
        "colab_type": "code",
        "colab": {}
      },
      "source": [
        ""
      ],
      "execution_count": 0,
      "outputs": []
    },
    {
      "cell_type": "markdown",
      "metadata": {
        "id": "mILK18503Rsh",
        "colab_type": "text"
      },
      "source": [
        "Show the classification report - precision, recall, f1 for each class."
      ]
    },
    {
      "cell_type": "code",
      "metadata": {
        "id": "Wk6gn2V83Rsi",
        "colab_type": "code",
        "colab": {}
      },
      "source": [
        ""
      ],
      "execution_count": 0,
      "outputs": []
    },
    {
      "cell_type": "markdown",
      "metadata": {
        "id": "kMkFvrqg3Rsl",
        "colab_type": "text"
      },
      "source": [
        "### Text classification using Word Vectors\n",
        "#### Average word vectors\n",
        "Do the same, using a classifier that averages the word vectors of words in the document."
      ]
    },
    {
      "cell_type": "code",
      "metadata": {
        "id": "ZF4dN0lX3Rsm",
        "colab_type": "code",
        "colab": {}
      },
      "source": [
        ""
      ],
      "execution_count": 0,
      "outputs": []
    },
    {
      "cell_type": "markdown",
      "metadata": {
        "id": "CT37MjaM3Rsn",
        "colab_type": "text"
      },
      "source": [
        "#### TfIdf Weighting\n",
        "Do the same, using a classifier that averages the word vectors of words in the document, weighting each word by its TfIdf.\n"
      ]
    },
    {
      "cell_type": "code",
      "metadata": {
        "id": "YUbSsXYi3Rso",
        "colab_type": "code",
        "colab": {}
      },
      "source": [
        ""
      ],
      "execution_count": 0,
      "outputs": []
    },
    {
      "cell_type": "markdown",
      "metadata": {
        "id": "ZJJ0Zrx23Rsp",
        "colab_type": "text"
      },
      "source": [
        "### Text classification using ConvNet\n",
        "Do the same, using a ConvNet.  \n",
        "The ConvNet should get as input a 2D matrix where each column is an embedding vector of a single word, and words are in order. Use zero padding so that all matrices have a similar length.  \n",
        "Some songs might be very long. Trim them so you keep a maximum of 128 words (after cleaning stop words and rare words).  \n",
        "Initialize the embedding layer using the word vectors that you've trained before, but allow them to change during training.  \n",
        "\n",
        "Extra: Try training the ConvNet with 2 slight modifications:\n",
        "1. freezing the the weights trained using Word2vec (preventing it from updating)\n",
        "1. random initialization of the embedding layer"
      ]
    },
    {
      "cell_type": "markdown",
      "metadata": {
        "id": "01FKqgeL3Rsp",
        "colab_type": "text"
      },
      "source": [
        "You are encouraged to try this question on your own.  \n",
        "\n",
        "You might prefer to get ideas from the paper \"Convolutional Neural Networks for Sentence Classification\" (Kim 2014, [link](https://arxiv.org/abs/1408.5882)).\n",
        "\n",
        "There are several implementations of the paper code in PyTorch online (see for example [this repo](https://github.com/prakashpandey9/Text-Classification-Pytorch) for a PyTorch implementation of CNN and other architectures for text classification). If you get stuck, they might provide you with a reference for your own code."
      ]
    },
    {
      "cell_type": "code",
      "metadata": {
        "id": "MxOIg8gc3Rsq",
        "colab_type": "code",
        "colab": {}
      },
      "source": [
        ""
      ],
      "execution_count": 0,
      "outputs": []
    }
  ]
}