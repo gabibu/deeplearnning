{
  "nbformat": 4,
  "nbformat_minor": 0,
  "metadata": {
    "colab": {
      "name": "DL_word_embedding_assignment-checkpoint.ipynb",
      "version": "0.3.2",
      "provenance": []
    },
    "kernelspec": {
      "display_name": "Python 3",
      "language": "python",
      "name": "python3"
    }
  },
  "cells": [
    {
      "metadata": {
        "id": "k_CaLtyMRXae",
        "colab_type": "text"
      },
      "cell_type": "markdown",
      "source": [
        "# Word Embedding - Home Assigment\n",
        "## Dr. Omri Allouche 2018. YData Deep Learning Course\n",
        "\n",
        "[Open in Google Colab](https://colab.research.google.com/github/omriallouche/deep_learning_course/blob/master/DL_word_embedding_assignment.ipynb)\n",
        "    \n",
        "    \n",
        "In this exercise, you'll use word vectors trained on a corpus of 380,000 lyrics of songs from MetroLyrics (https://www.kaggle.com/gyani95/380000-lyrics-from-metrolyrics).  \n",
        "The dataset contains these fields for each song, in CSV format:\n",
        "1. index\n",
        "1. song\n",
        "1. year\n",
        "1. artist\n",
        "1. genre\n",
        "1. lyrics\n",
        "\n",
        "Before doing this exercise, we recommend that you go over the \"Bag of words meets bag of popcorn\" tutorial (https://www.kaggle.com/c/word2vec-nlp-tutorial)\n",
        "\n",
        "Other recommended resources:\n",
        "- https://rare-technologies.com/word2vec-tutorial/\n",
        "- https://www.kaggle.com/pierremegret/gensim-word2vec-tutorial"
      ]
    },
    {
      "metadata": {
        "id": "Ykb9T-R6RXaj",
        "colab_type": "text"
      },
      "cell_type": "markdown",
      "source": [
        "### Train word vectors\n",
        "Train word vectors using the Skipgram Word2vec algorithm and the gensim package.\n",
        "Make sure you perform the following:\n",
        "- Tokenize words\n",
        "- Lowercase all words\n",
        "- Remove punctuation marks\n",
        "- Remove rare words\n",
        "- Remove stopwords\n",
        "\n",
        "Use 300 as the dimension of the word vectors. Try different context sizes."
      ]
    },
    {
      "metadata": {
        "id": "AfpKNFzCRXak",
        "colab_type": "code",
        "colab": {
          "base_uri": "https://localhost:8080/",
          "height": 124
        },
        "outputId": "e2a8412c-a164-4695-bb2a-bd331c3d7124"
      },
      "cell_type": "code",
      "source": [
        "from google.colab import drive\n",
        "drive.mount('/content/drive')"
      ],
      "execution_count": 1,
      "outputs": [
        {
          "output_type": "stream",
          "text": [
            "Go to this URL in a browser: https://accounts.google.com/o/oauth2/auth?client_id=947318989803-6bn6qk8qdgf4n4g3pfee6491hc0brc4i.apps.googleusercontent.com&redirect_uri=urn%3Aietf%3Awg%3Aoauth%3A2.0%3Aoob&scope=email%20https%3A%2F%2Fwww.googleapis.com%2Fauth%2Fdocs.test%20https%3A%2F%2Fwww.googleapis.com%2Fauth%2Fdrive%20https%3A%2F%2Fwww.googleapis.com%2Fauth%2Fdrive.photos.readonly%20https%3A%2F%2Fwww.googleapis.com%2Fauth%2Fpeopleapi.readonly&response_type=code\n",
            "\n",
            "Enter your authorization code:\n",
            "··········\n",
            "Mounted at /content/drive\n"
          ],
          "name": "stdout"
        }
      ]
    },
    {
      "metadata": {
        "id": "B8VR2krpRXap",
        "colab_type": "code",
        "colab": {}
      },
      "cell_type": "code",
      "source": [
        "import pandas  as pd\n",
        "pd1 = pd.read_csv(\"/content/drive/My Drive/lyrics.csv\")"
      ],
      "execution_count": 0,
      "outputs": []
    },
    {
      "metadata": {
        "id": "5Aq5UnrgRuIE",
        "colab_type": "code",
        "colab": {
          "base_uri": "https://localhost:8080/",
          "height": 79
        },
        "outputId": "eda2e09b-8f46-46e9-d33b-7e783c241148"
      },
      "cell_type": "code",
      "source": [
        "pd1.sample()"
      ],
      "execution_count": 3,
      "outputs": [
        {
          "output_type": "execute_result",
          "data": {
            "text/html": [
              "<div>\n",
              "<style scoped>\n",
              "    .dataframe tbody tr th:only-of-type {\n",
              "        vertical-align: middle;\n",
              "    }\n",
              "\n",
              "    .dataframe tbody tr th {\n",
              "        vertical-align: top;\n",
              "    }\n",
              "\n",
              "    .dataframe thead th {\n",
              "        text-align: right;\n",
              "    }\n",
              "</style>\n",
              "<table border=\"1\" class=\"dataframe\">\n",
              "  <thead>\n",
              "    <tr style=\"text-align: right;\">\n",
              "      <th></th>\n",
              "      <th>index</th>\n",
              "      <th>song</th>\n",
              "      <th>year</th>\n",
              "      <th>artist</th>\n",
              "      <th>genre</th>\n",
              "      <th>lyrics</th>\n",
              "    </tr>\n",
              "  </thead>\n",
              "  <tbody>\n",
              "    <tr>\n",
              "      <th>163973</th>\n",
              "      <td>163973</td>\n",
              "      <td>lass-meine-hand-nicht-los</td>\n",
              "      <td>2006</td>\n",
              "      <td>chris-roberts</td>\n",
              "      <td>Not Available</td>\n",
              "      <td>Laß die Hand nicht los\\ndie dich berührt\\ndie ...</td>\n",
              "    </tr>\n",
              "  </tbody>\n",
              "</table>\n",
              "</div>"
            ],
            "text/plain": [
              "         index                       song  year         artist          genre  \\\n",
              "163973  163973  lass-meine-hand-nicht-los  2006  chris-roberts  Not Available   \n",
              "\n",
              "                                                   lyrics  \n",
              "163973  Laß die Hand nicht los\\ndie dich berührt\\ndie ...  "
            ]
          },
          "metadata": {
            "tags": []
          },
          "execution_count": 3
        }
      ]
    },
    {
      "metadata": {
        "id": "tNxQ6Kk4RXas",
        "colab_type": "code",
        "colab": {},
        "outputId": "6c197196-dbb2-46b7-d0b6-608cf173d102"
      },
      "cell_type": "code",
      "source": [
        "import pandas as pd \n",
        "MIN_OCCURENCES = 5\n",
        "lyrics_df = pd.read_csv('../lyrics.csv', header=0, encoding='utf-8')\n",
        "# converters={'lyrics': lambda x: str(x)},\n",
        "# lyrics_df = pd.read_csv('../lyrics.csv', header=0)\n",
        "# lyrics_df['Collyricsumn'] =lyrics_df['lyrics'].astype(str)\n",
        "lyrics_df.sample(10)\n"
      ],
      "execution_count": 0,
      "outputs": [
        {
          "output_type": "execute_result",
          "data": {
            "text/html": [
              "<div>\n",
              "<style scoped>\n",
              "    .dataframe tbody tr th:only-of-type {\n",
              "        vertical-align: middle;\n",
              "    }\n",
              "\n",
              "    .dataframe tbody tr th {\n",
              "        vertical-align: top;\n",
              "    }\n",
              "\n",
              "    .dataframe thead th {\n",
              "        text-align: right;\n",
              "    }\n",
              "</style>\n",
              "<table border=\"1\" class=\"dataframe\">\n",
              "  <thead>\n",
              "    <tr style=\"text-align: right;\">\n",
              "      <th></th>\n",
              "      <th>index</th>\n",
              "      <th>song</th>\n",
              "      <th>year</th>\n",
              "      <th>artist</th>\n",
              "      <th>genre</th>\n",
              "      <th>lyrics</th>\n",
              "    </tr>\n",
              "  </thead>\n",
              "  <tbody>\n",
              "    <tr>\n",
              "      <th>90230</th>\n",
              "      <td>90230</td>\n",
              "      <td>innocent-eyes</td>\n",
              "      <td>1986</td>\n",
              "      <td>graham-nash</td>\n",
              "      <td>Rock</td>\n",
              "      <td>With your innocent eyes\\nYou've been telling m...</td>\n",
              "    </tr>\n",
              "    <tr>\n",
              "      <th>162024</th>\n",
              "      <td>162024</td>\n",
              "      <td>lake</td>\n",
              "      <td>2007</td>\n",
              "      <td>aqualung</td>\n",
              "      <td>Rock</td>\n",
              "      <td>This house is full of secrets.\\nThis house sme...</td>\n",
              "    </tr>\n",
              "    <tr>\n",
              "      <th>204408</th>\n",
              "      <td>204408</td>\n",
              "      <td>john-e-smoke-live</td>\n",
              "      <td>2006</td>\n",
              "      <td>butthole-surfers</td>\n",
              "      <td>Rock</td>\n",
              "      <td>Now, this here story is the story of John Excz...</td>\n",
              "    </tr>\n",
              "    <tr>\n",
              "      <th>196008</th>\n",
              "      <td>196008</td>\n",
              "      <td>vamos-beber</td>\n",
              "      <td>2006</td>\n",
              "      <td>banda-das-velhas-virgens</td>\n",
              "      <td>Rock</td>\n",
              "      <td>Musica por: Paulo Carvalho\\nmeia-noite, baby\\n...</td>\n",
              "    </tr>\n",
              "    <tr>\n",
              "      <th>28891</th>\n",
              "      <td>28891</td>\n",
              "      <td>teardrops</td>\n",
              "      <td>2016</td>\n",
              "      <td>cole-plante</td>\n",
              "      <td>Not Available</td>\n",
              "      <td>Whenever I hear goodbyes\\nRemind me, baby, of ...</td>\n",
              "    </tr>\n",
              "    <tr>\n",
              "      <th>244168</th>\n",
              "      <td>244168</td>\n",
              "      <td>rose-pleure</td>\n",
              "      <td>2016</td>\n",
              "      <td>de-palmas</td>\n",
              "      <td>Rock</td>\n",
              "      <td>NaN</td>\n",
              "    </tr>\n",
              "    <tr>\n",
              "      <th>197932</th>\n",
              "      <td>197932</td>\n",
              "      <td>this-song-is-for-you</td>\n",
              "      <td>2014</td>\n",
              "      <td>cherub</td>\n",
              "      <td>Metal</td>\n",
              "      <td>You put the drops on the paper\\nYou said it wo...</td>\n",
              "    </tr>\n",
              "    <tr>\n",
              "      <th>218799</th>\n",
              "      <td>218799</td>\n",
              "      <td>nation</td>\n",
              "      <td>2006</td>\n",
              "      <td>death-in-june</td>\n",
              "      <td>Folk</td>\n",
              "      <td>NaN</td>\n",
              "    </tr>\n",
              "    <tr>\n",
              "      <th>125869</th>\n",
              "      <td>125869</td>\n",
              "      <td>way-stone</td>\n",
              "      <td>2015</td>\n",
              "      <td>anthony-naples</td>\n",
              "      <td>Electronic</td>\n",
              "      <td>NaN</td>\n",
              "    </tr>\n",
              "    <tr>\n",
              "      <th>163219</th>\n",
              "      <td>163219</td>\n",
              "      <td>decent-days-and-nights</td>\n",
              "      <td>2004</td>\n",
              "      <td>futureheads</td>\n",
              "      <td>Rock</td>\n",
              "      <td>But you look confused and you don't know what ...</td>\n",
              "    </tr>\n",
              "  </tbody>\n",
              "</table>\n",
              "</div>"
            ],
            "text/plain": [
              "         index                    song  year                    artist  \\\n",
              "90230    90230           innocent-eyes  1986               graham-nash   \n",
              "162024  162024                    lake  2007                  aqualung   \n",
              "204408  204408       john-e-smoke-live  2006          butthole-surfers   \n",
              "196008  196008             vamos-beber  2006  banda-das-velhas-virgens   \n",
              "28891    28891               teardrops  2016               cole-plante   \n",
              "244168  244168             rose-pleure  2016                 de-palmas   \n",
              "197932  197932    this-song-is-for-you  2014                    cherub   \n",
              "218799  218799                  nation  2006             death-in-june   \n",
              "125869  125869               way-stone  2015            anthony-naples   \n",
              "163219  163219  decent-days-and-nights  2004               futureheads   \n",
              "\n",
              "                genre                                             lyrics  \n",
              "90230            Rock  With your innocent eyes\\nYou've been telling m...  \n",
              "162024           Rock  This house is full of secrets.\\nThis house sme...  \n",
              "204408           Rock  Now, this here story is the story of John Excz...  \n",
              "196008           Rock  Musica por: Paulo Carvalho\\nmeia-noite, baby\\n...  \n",
              "28891   Not Available  Whenever I hear goodbyes\\nRemind me, baby, of ...  \n",
              "244168           Rock                                                NaN  \n",
              "197932          Metal  You put the drops on the paper\\nYou said it wo...  \n",
              "218799           Folk                                                NaN  \n",
              "125869     Electronic                                                NaN  \n",
              "163219           Rock  But you look confused and you don't know what ...  "
            ]
          },
          "metadata": {
            "tags": []
          },
          "execution_count": 168
        }
      ]
    },
    {
      "metadata": {
        "id": "Crg1j1LbRXaz",
        "colab_type": "code",
        "colab": {},
        "outputId": "a08f660d-d5ee-4f27-98db-3521138e4b8d"
      },
      "cell_type": "code",
      "source": [
        "lyrics_df.info()\n"
      ],
      "execution_count": 0,
      "outputs": [
        {
          "output_type": "stream",
          "text": [
            "<class 'pandas.core.frame.DataFrame'>\n",
            "RangeIndex: 362237 entries, 0 to 362236\n",
            "Data columns (total 6 columns):\n",
            "index     362237 non-null int64\n",
            "song      362235 non-null object\n",
            "year      362237 non-null int64\n",
            "artist    362237 non-null object\n",
            "genre     362237 non-null object\n",
            "lyrics    362237 non-null object\n",
            "dtypes: int64(2), object(4)\n",
            "memory usage: 16.6+ MB\n"
          ],
          "name": "stdout"
        }
      ]
    },
    {
      "metadata": {
        "id": "AnZc7UE5RXa3",
        "colab_type": "code",
        "colab": {},
        "outputId": "141a2864-3dce-4b4a-cca3-b88ee93557ac"
      },
      "cell_type": "code",
      "source": [
        "type(lyrics_df['lyrics'][0])"
      ],
      "execution_count": 0,
      "outputs": [
        {
          "output_type": "execute_result",
          "data": {
            "text/plain": [
              "unicode"
            ]
          },
          "metadata": {
            "tags": []
          },
          "execution_count": 169
        }
      ]
    },
    {
      "metadata": {
        "id": "hOOSfY5ZRXa7",
        "colab_type": "code",
        "colab": {},
        "outputId": "a14680c0-2283-471f-ef0b-590f141544f9"
      },
      "cell_type": "code",
      "source": [
        "lyrics_df.head()"
      ],
      "execution_count": 0,
      "outputs": [
        {
          "output_type": "execute_result",
          "data": {
            "text/html": [
              "<div>\n",
              "<style scoped>\n",
              "    .dataframe tbody tr th:only-of-type {\n",
              "        vertical-align: middle;\n",
              "    }\n",
              "\n",
              "    .dataframe tbody tr th {\n",
              "        vertical-align: top;\n",
              "    }\n",
              "\n",
              "    .dataframe thead th {\n",
              "        text-align: right;\n",
              "    }\n",
              "</style>\n",
              "<table border=\"1\" class=\"dataframe\">\n",
              "  <thead>\n",
              "    <tr style=\"text-align: right;\">\n",
              "      <th></th>\n",
              "      <th>index</th>\n",
              "      <th>song</th>\n",
              "      <th>year</th>\n",
              "      <th>artist</th>\n",
              "      <th>genre</th>\n",
              "      <th>lyrics</th>\n",
              "    </tr>\n",
              "  </thead>\n",
              "  <tbody>\n",
              "    <tr>\n",
              "      <th>0</th>\n",
              "      <td>0</td>\n",
              "      <td>ego-remix</td>\n",
              "      <td>2009</td>\n",
              "      <td>beyonce-knowles</td>\n",
              "      <td>Pop</td>\n",
              "      <td>Oh baby, how you doing?\\nYou know I'm gonna cu...</td>\n",
              "    </tr>\n",
              "    <tr>\n",
              "      <th>1</th>\n",
              "      <td>1</td>\n",
              "      <td>then-tell-me</td>\n",
              "      <td>2009</td>\n",
              "      <td>beyonce-knowles</td>\n",
              "      <td>Pop</td>\n",
              "      <td>playin' everything so easy,\\nit's like you see...</td>\n",
              "    </tr>\n",
              "    <tr>\n",
              "      <th>2</th>\n",
              "      <td>2</td>\n",
              "      <td>honesty</td>\n",
              "      <td>2009</td>\n",
              "      <td>beyonce-knowles</td>\n",
              "      <td>Pop</td>\n",
              "      <td>If you search\\nFor tenderness\\nIt isn't hard t...</td>\n",
              "    </tr>\n",
              "    <tr>\n",
              "      <th>3</th>\n",
              "      <td>3</td>\n",
              "      <td>you-are-my-rock</td>\n",
              "      <td>2009</td>\n",
              "      <td>beyonce-knowles</td>\n",
              "      <td>Pop</td>\n",
              "      <td>Oh oh oh I, oh oh oh I\\n[Verse 1:]\\nIf I wrote...</td>\n",
              "    </tr>\n",
              "    <tr>\n",
              "      <th>4</th>\n",
              "      <td>4</td>\n",
              "      <td>black-culture</td>\n",
              "      <td>2009</td>\n",
              "      <td>beyonce-knowles</td>\n",
              "      <td>Pop</td>\n",
              "      <td>Party the people, the people the party it's po...</td>\n",
              "    </tr>\n",
              "  </tbody>\n",
              "</table>\n",
              "</div>"
            ],
            "text/plain": [
              "   index             song  year           artist genre  \\\n",
              "0      0        ego-remix  2009  beyonce-knowles   Pop   \n",
              "1      1     then-tell-me  2009  beyonce-knowles   Pop   \n",
              "2      2          honesty  2009  beyonce-knowles   Pop   \n",
              "3      3  you-are-my-rock  2009  beyonce-knowles   Pop   \n",
              "4      4    black-culture  2009  beyonce-knowles   Pop   \n",
              "\n",
              "                                              lyrics  \n",
              "0  Oh baby, how you doing?\\nYou know I'm gonna cu...  \n",
              "1  playin' everything so easy,\\nit's like you see...  \n",
              "2  If you search\\nFor tenderness\\nIt isn't hard t...  \n",
              "3  Oh oh oh I, oh oh oh I\\n[Verse 1:]\\nIf I wrote...  \n",
              "4  Party the people, the people the party it's po...  "
            ]
          },
          "metadata": {
            "tags": []
          },
          "execution_count": 133
        }
      ]
    },
    {
      "metadata": {
        "id": "tv_6aJn0RXa-",
        "colab_type": "code",
        "colab": {},
        "outputId": "85790fd4-278a-44c4-d78a-61f1c70567df"
      },
      "cell_type": "code",
      "source": [
        "lyrics_df.describe(include = 'all')"
      ],
      "execution_count": 0,
      "outputs": [
        {
          "output_type": "execute_result",
          "data": {
            "text/html": [
              "<div>\n",
              "<style scoped>\n",
              "    .dataframe tbody tr th:only-of-type {\n",
              "        vertical-align: middle;\n",
              "    }\n",
              "\n",
              "    .dataframe tbody tr th {\n",
              "        vertical-align: top;\n",
              "    }\n",
              "\n",
              "    .dataframe thead th {\n",
              "        text-align: right;\n",
              "    }\n",
              "</style>\n",
              "<table border=\"1\" class=\"dataframe\">\n",
              "  <thead>\n",
              "    <tr style=\"text-align: right;\">\n",
              "      <th></th>\n",
              "      <th>index</th>\n",
              "      <th>song</th>\n",
              "      <th>year</th>\n",
              "      <th>artist</th>\n",
              "      <th>genre</th>\n",
              "      <th>lyrics</th>\n",
              "    </tr>\n",
              "  </thead>\n",
              "  <tbody>\n",
              "    <tr>\n",
              "      <th>count</th>\n",
              "      <td>362237.000000</td>\n",
              "      <td>362235</td>\n",
              "      <td>362237.000000</td>\n",
              "      <td>362237</td>\n",
              "      <td>362237</td>\n",
              "      <td>362237</td>\n",
              "    </tr>\n",
              "    <tr>\n",
              "      <th>unique</th>\n",
              "      <td>NaN</td>\n",
              "      <td>250472</td>\n",
              "      <td>NaN</td>\n",
              "      <td>18231</td>\n",
              "      <td>12</td>\n",
              "      <td>244874</td>\n",
              "    </tr>\n",
              "    <tr>\n",
              "      <th>top</th>\n",
              "      <td>NaN</td>\n",
              "      <td>intro</td>\n",
              "      <td>NaN</td>\n",
              "      <td>dolly-parton</td>\n",
              "      <td>Rock</td>\n",
              "      <td></td>\n",
              "    </tr>\n",
              "    <tr>\n",
              "      <th>freq</th>\n",
              "      <td>NaN</td>\n",
              "      <td>366</td>\n",
              "      <td>NaN</td>\n",
              "      <td>755</td>\n",
              "      <td>131377</td>\n",
              "      <td>95680</td>\n",
              "    </tr>\n",
              "    <tr>\n",
              "      <th>mean</th>\n",
              "      <td>181118.000000</td>\n",
              "      <td>NaN</td>\n",
              "      <td>2008.537596</td>\n",
              "      <td>NaN</td>\n",
              "      <td>NaN</td>\n",
              "      <td>NaN</td>\n",
              "    </tr>\n",
              "    <tr>\n",
              "      <th>std</th>\n",
              "      <td>104568.959068</td>\n",
              "      <td>NaN</td>\n",
              "      <td>9.908024</td>\n",
              "      <td>NaN</td>\n",
              "      <td>NaN</td>\n",
              "      <td>NaN</td>\n",
              "    </tr>\n",
              "    <tr>\n",
              "      <th>min</th>\n",
              "      <td>0.000000</td>\n",
              "      <td>NaN</td>\n",
              "      <td>67.000000</td>\n",
              "      <td>NaN</td>\n",
              "      <td>NaN</td>\n",
              "      <td>NaN</td>\n",
              "    </tr>\n",
              "    <tr>\n",
              "      <th>25%</th>\n",
              "      <td>90559.000000</td>\n",
              "      <td>NaN</td>\n",
              "      <td>2006.000000</td>\n",
              "      <td>NaN</td>\n",
              "      <td>NaN</td>\n",
              "      <td>NaN</td>\n",
              "    </tr>\n",
              "    <tr>\n",
              "      <th>50%</th>\n",
              "      <td>181118.000000</td>\n",
              "      <td>NaN</td>\n",
              "      <td>2008.000000</td>\n",
              "      <td>NaN</td>\n",
              "      <td>NaN</td>\n",
              "      <td>NaN</td>\n",
              "    </tr>\n",
              "    <tr>\n",
              "      <th>75%</th>\n",
              "      <td>271677.000000</td>\n",
              "      <td>NaN</td>\n",
              "      <td>2014.000000</td>\n",
              "      <td>NaN</td>\n",
              "      <td>NaN</td>\n",
              "      <td>NaN</td>\n",
              "    </tr>\n",
              "    <tr>\n",
              "      <th>max</th>\n",
              "      <td>362236.000000</td>\n",
              "      <td>NaN</td>\n",
              "      <td>2038.000000</td>\n",
              "      <td>NaN</td>\n",
              "      <td>NaN</td>\n",
              "      <td>NaN</td>\n",
              "    </tr>\n",
              "  </tbody>\n",
              "</table>\n",
              "</div>"
            ],
            "text/plain": [
              "                index    song           year        artist   genre  lyrics\n",
              "count   362237.000000  362235  362237.000000        362237  362237  362237\n",
              "unique            NaN  250472            NaN         18231      12  244874\n",
              "top               NaN   intro            NaN  dolly-parton    Rock        \n",
              "freq              NaN     366            NaN           755  131377   95680\n",
              "mean    181118.000000     NaN    2008.537596           NaN     NaN     NaN\n",
              "std     104568.959068     NaN       9.908024           NaN     NaN     NaN\n",
              "min          0.000000     NaN      67.000000           NaN     NaN     NaN\n",
              "25%      90559.000000     NaN    2006.000000           NaN     NaN     NaN\n",
              "50%     181118.000000     NaN    2008.000000           NaN     NaN     NaN\n",
              "75%     271677.000000     NaN    2014.000000           NaN     NaN     NaN\n",
              "max     362236.000000     NaN    2038.000000           NaN     NaN     NaN"
            ]
          },
          "metadata": {
            "tags": []
          },
          "execution_count": 134
        }
      ]
    },
    {
      "metadata": {
        "id": "t2ykUs6gRXbC",
        "colab_type": "code",
        "colab": {},
        "outputId": "fabc5211-fa0a-447c-f78e-d5f7b3a75920"
      },
      "cell_type": "code",
      "source": [
        "lyrics_df = lyrics_df[lyrics_df.lyrics.notnull()]\n",
        "lyrics_df.sample(10)"
      ],
      "execution_count": 0,
      "outputs": [
        {
          "output_type": "execute_result",
          "data": {
            "text/html": [
              "<div>\n",
              "<style scoped>\n",
              "    .dataframe tbody tr th:only-of-type {\n",
              "        vertical-align: middle;\n",
              "    }\n",
              "\n",
              "    .dataframe tbody tr th {\n",
              "        vertical-align: top;\n",
              "    }\n",
              "\n",
              "    .dataframe thead th {\n",
              "        text-align: right;\n",
              "    }\n",
              "</style>\n",
              "<table border=\"1\" class=\"dataframe\">\n",
              "  <thead>\n",
              "    <tr style=\"text-align: right;\">\n",
              "      <th></th>\n",
              "      <th>index</th>\n",
              "      <th>song</th>\n",
              "      <th>year</th>\n",
              "      <th>artist</th>\n",
              "      <th>genre</th>\n",
              "      <th>lyrics</th>\n",
              "    </tr>\n",
              "  </thead>\n",
              "  <tbody>\n",
              "    <tr>\n",
              "      <th>338044</th>\n",
              "      <td>338044</td>\n",
              "      <td>sticky-icky-situation</td>\n",
              "      <td>2007</td>\n",
              "      <td>anybody-killa</td>\n",
              "      <td>Hip-Hop</td>\n",
              "      <td>(Anybody Killa)\\nMy teacher always said I woul...</td>\n",
              "    </tr>\n",
              "    <tr>\n",
              "      <th>205861</th>\n",
              "      <td>205861</td>\n",
              "      <td>bravo-pour-le-clown</td>\n",
              "      <td>1994</td>\n",
              "      <td>edith-piaf</td>\n",
              "      <td>Jazz</td>\n",
              "      <td>Un clown est mon ami\\nUn clown bien ridicule\\n...</td>\n",
              "    </tr>\n",
              "    <tr>\n",
              "      <th>301091</th>\n",
              "      <td>301091</td>\n",
              "      <td>moonchasers</td>\n",
              "      <td>2015</td>\n",
              "      <td>alexis-gregorie</td>\n",
              "      <td>Other</td>\n",
              "      <td>verse #1:\\nGive us a chance we're never afraid...</td>\n",
              "    </tr>\n",
              "    <tr>\n",
              "      <th>345304</th>\n",
              "      <td>345304</td>\n",
              "      <td>hypnagogue</td>\n",
              "      <td>2010</td>\n",
              "      <td>current-93</td>\n",
              "      <td>Folk</td>\n",
              "      <td>I\\nBehind my walls are my Cats. And behind my ...</td>\n",
              "    </tr>\n",
              "    <tr>\n",
              "      <th>218173</th>\n",
              "      <td>218173</td>\n",
              "      <td>crush-on-you-japanese-version-of-ai-dao</td>\n",
              "      <td>2008</td>\n",
              "      <td>fahrenheit</td>\n",
              "      <td>Pop</td>\n",
              "      <td>Crush on You (Japnese Verion of Ai Dao)\\nAi ta...</td>\n",
              "    </tr>\n",
              "    <tr>\n",
              "      <th>41912</th>\n",
              "      <td>41912</td>\n",
              "      <td>histoire-seule</td>\n",
              "      <td>2016</td>\n",
              "      <td>dtcv</td>\n",
              "      <td>Pop</td>\n",
              "      <td></td>\n",
              "    </tr>\n",
              "    <tr>\n",
              "      <th>71746</th>\n",
              "      <td>71746</td>\n",
              "      <td>ebb-tide</td>\n",
              "      <td>2006</td>\n",
              "      <td>frank-sinatra</td>\n",
              "      <td>Jazz</td>\n",
              "      <td>First the tide rushes in\\nPlants a kiss on the...</td>\n",
              "    </tr>\n",
              "    <tr>\n",
              "      <th>322388</th>\n",
              "      <td>322388</td>\n",
              "      <td>run-out</td>\n",
              "      <td>2015</td>\n",
              "      <td>chip</td>\n",
              "      <td>Hip-Hop</td>\n",
              "      <td>Yo\\nI know you man just might run out of bars\\...</td>\n",
              "    </tr>\n",
              "    <tr>\n",
              "      <th>343812</th>\n",
              "      <td>343812</td>\n",
              "      <td>take-a-tip</td>\n",
              "      <td>2006</td>\n",
              "      <td>dr-feelgood</td>\n",
              "      <td>Rock</td>\n",
              "      <td>Take a little tip from Mr. Johnny Green\\nKeep ...</td>\n",
              "    </tr>\n",
              "    <tr>\n",
              "      <th>41219</th>\n",
              "      <td>41219</td>\n",
              "      <td>a-e-aeae-e-a1-2-a234eaaaea1-2-aa-e-ae2-forgott...</td>\n",
              "      <td>2016</td>\n",
              "      <td>a-lin</td>\n",
              "      <td>Pop</td>\n",
              "      <td></td>\n",
              "    </tr>\n",
              "  </tbody>\n",
              "</table>\n",
              "</div>"
            ],
            "text/plain": [
              "         index                                               song  year  \\\n",
              "338044  338044                              sticky-icky-situation  2007   \n",
              "205861  205861                                bravo-pour-le-clown  1994   \n",
              "301091  301091                                        moonchasers  2015   \n",
              "345304  345304                                         hypnagogue  2010   \n",
              "218173  218173            crush-on-you-japanese-version-of-ai-dao  2008   \n",
              "41912    41912                                     histoire-seule  2016   \n",
              "71746    71746                                           ebb-tide  2006   \n",
              "322388  322388                                            run-out  2015   \n",
              "343812  343812                                         take-a-tip  2006   \n",
              "41219    41219  a-e-aeae-e-a1-2-a234eaaaea1-2-aa-e-ae2-forgott...  2016   \n",
              "\n",
              "                 artist    genre  \\\n",
              "338044    anybody-killa  Hip-Hop   \n",
              "205861       edith-piaf     Jazz   \n",
              "301091  alexis-gregorie    Other   \n",
              "345304       current-93     Folk   \n",
              "218173       fahrenheit      Pop   \n",
              "41912              dtcv      Pop   \n",
              "71746     frank-sinatra     Jazz   \n",
              "322388             chip  Hip-Hop   \n",
              "343812      dr-feelgood     Rock   \n",
              "41219             a-lin      Pop   \n",
              "\n",
              "                                                   lyrics  \n",
              "338044  (Anybody Killa)\\nMy teacher always said I woul...  \n",
              "205861  Un clown est mon ami\\nUn clown bien ridicule\\n...  \n",
              "301091  verse #1:\\nGive us a chance we're never afraid...  \n",
              "345304  I\\nBehind my walls are my Cats. And behind my ...  \n",
              "218173  Crush on You (Japnese Verion of Ai Dao)\\nAi ta...  \n",
              "41912                                                      \n",
              "71746   First the tide rushes in\\nPlants a kiss on the...  \n",
              "322388  Yo\\nI know you man just might run out of bars\\...  \n",
              "343812  Take a little tip from Mr. Johnny Green\\nKeep ...  \n",
              "41219                                                      "
            ]
          },
          "metadata": {
            "tags": []
          },
          "execution_count": 136
        }
      ]
    },
    {
      "metadata": {
        "id": "NZMzR2VXRXbG",
        "colab_type": "code",
        "colab": {}
      },
      "cell_type": "code",
      "source": [
        "import nltk\n",
        "from nltk.tokenize import RegexpTokenizer\n",
        "\n",
        "texts = lyrics_df[\"lyrics\"].tolist()\n",
        "tokenizer = RegexpTokenizer(r'\\w+')\n",
        "flat_list =  [word for word in [tokenizer.tokenize(text.lower()) for text  in texts]]\n",
        "all_text = [item for sublist in flat_list for item in sublist]\n",
        "req_dist = nltk.FreqDist(all_text)\n",
        "rare_words = {word for (word, count) in req_dist.items() if count < MIN_OCCURENCES}\n"
      ],
      "execution_count": 0,
      "outputs": []
    },
    {
      "metadata": {
        "id": "3uXCLl53RXbI",
        "colab_type": "code",
        "colab": {},
        "outputId": "e145feec-8e0f-4189-e234-7020989f99e3"
      },
      "cell_type": "code",
      "source": [
        ""
      ],
      "execution_count": 0,
      "outputs": [
        {
          "output_type": "execute_result",
          "data": {
            "text/plain": [
              "['',\n",
              " '/home/gabib3b/anaconda2/lib/python27.zip',\n",
              " '/home/gabib3b/anaconda2/lib/python2.7',\n",
              " '/home/gabib3b/anaconda2/lib/python2.7/plat-linux2',\n",
              " '/home/gabib3b/anaconda2/lib/python2.7/lib-tk',\n",
              " '/home/gabib3b/anaconda2/lib/python2.7/lib-old',\n",
              " '/home/gabib3b/anaconda2/lib/python2.7/lib-dynload',\n",
              " '/home/gabib3b/anaconda2/lib/python2.7/site-packages',\n",
              " '/home/gabib3b/anaconda2/lib/python2.7/site-packages/setuptools-40.6.3-py2.7.egg',\n",
              " '/home/gabib3b/anaconda2/lib/python2.7/site-packages/IPython/extensions',\n",
              " '/home/gabib3b/.ipython']"
            ]
          },
          "metadata": {
            "tags": []
          },
          "execution_count": 2
        }
      ]
    },
    {
      "metadata": {
        "id": "_SW31k8TRXbL",
        "colab_type": "code",
        "colab": {}
      },
      "cell_type": "code",
      "source": [
        "from nltk.corpus import stopwords\n",
        "from nltk.tokenize import RegexpTokenizer\n",
        "from nltk.tokenize import word_tokenize\n",
        "import string \n",
        "\n",
        "def cleanText(text1, rare_words=None):\n",
        "    try:\n",
        "        text = text1.translate(None, string.punctuation)\n",
        "        tokens = word_tokenize(text)\n",
        "        tokens = [w.lower() for w in tokens]\n",
        "\n",
        "        stops = set(stopwords.words(\"english\"))\n",
        "\n",
        "        words = [word for word in tokens if word not in stops and (rare_words is None or word not in rare_words)]\n",
        "        if len(words) == 0:\n",
        "            return None\n",
        "\n",
        "        return words\n",
        "    except:\n",
        "        raise Exception(text)"
      ],
      "execution_count": 0,
      "outputs": []
    },
    {
      "metadata": {
        "id": "VEkrD8wpRXbN",
        "colab_type": "code",
        "colab": {}
      },
      "cell_type": "code",
      "source": [
        "#text = 'he went home I goes to the scholls, and I. I could not call him'\n",
        "#text.translate(None, string.punctuation)\n",
        "# lyrics_df[\"lyrics\"][0]"
      ],
      "execution_count": 0,
      "outputs": []
    },
    {
      "metadata": {
        "id": "fhMq6Tj0RXbP",
        "colab_type": "code",
        "colab": {},
        "outputId": "79f4eb49-ed68-4962-953d-2e0e19df9d90"
      },
      "cell_type": "code",
      "source": [
        "lyrics_df[\"clean_lyrics\"] = lyrics_df[\"lyrics\"].map(lambda text: cleanText(text, rare_words))\n",
        "lyrics_df.sample(10)"
      ],
      "execution_count": 0,
      "outputs": [
        {
          "output_type": "execute_result",
          "data": {
            "text/html": [
              "<div>\n",
              "<style scoped>\n",
              "    .dataframe tbody tr th:only-of-type {\n",
              "        vertical-align: middle;\n",
              "    }\n",
              "\n",
              "    .dataframe tbody tr th {\n",
              "        vertical-align: top;\n",
              "    }\n",
              "\n",
              "    .dataframe thead th {\n",
              "        text-align: right;\n",
              "    }\n",
              "</style>\n",
              "<table border=\"1\" class=\"dataframe\">\n",
              "  <thead>\n",
              "    <tr style=\"text-align: right;\">\n",
              "      <th></th>\n",
              "      <th>index</th>\n",
              "      <th>song</th>\n",
              "      <th>year</th>\n",
              "      <th>artist</th>\n",
              "      <th>genre</th>\n",
              "      <th>lyrics</th>\n",
              "      <th>clean_lyrics</th>\n",
              "    </tr>\n",
              "  </thead>\n",
              "  <tbody>\n",
              "    <tr>\n",
              "      <th>96618</th>\n",
              "      <td>96618</td>\n",
              "      <td>este-amor</td>\n",
              "      <td>2015</td>\n",
              "      <td>gilberto-santa-rosa</td>\n",
              "      <td>Not Available</td>\n",
              "      <td></td>\n",
              "      <td>None</td>\n",
              "    </tr>\n",
              "    <tr>\n",
              "      <th>285738</th>\n",
              "      <td>285738</td>\n",
              "      <td>linha-do-horizonte</td>\n",
              "      <td>2015</td>\n",
              "      <td>azymuth</td>\n",
              "      <td>Jazz</td>\n",
              "      <td></td>\n",
              "      <td>None</td>\n",
              "    </tr>\n",
              "    <tr>\n",
              "      <th>61762</th>\n",
              "      <td>61762</td>\n",
              "      <td>they-re-not-horses-they-re-unicorns</td>\n",
              "      <td>2007</td>\n",
              "      <td>bayside</td>\n",
              "      <td>Rock</td>\n",
              "      <td>You're pulling out your teeth\\nAnd I'm the Nov...</td>\n",
              "      <td>[youre, pulling, teeth, im, novocaine, pump, c...</td>\n",
              "    </tr>\n",
              "    <tr>\n",
              "      <th>167212</th>\n",
              "      <td>167212</td>\n",
              "      <td>morenita</td>\n",
              "      <td>2000</td>\n",
              "      <td>cafa-quijano</td>\n",
              "      <td>Rock</td>\n",
              "      <td>Morenita no te escondas, no te escondas,\\nque ...</td>\n",
              "      <td>[morenita, te, escondas, te, escondas, que, la...</td>\n",
              "    </tr>\n",
              "    <tr>\n",
              "      <th>103717</th>\n",
              "      <td>103717</td>\n",
              "      <td>burning-bridges</td>\n",
              "      <td>1971</td>\n",
              "      <td>family</td>\n",
              "      <td>Rock</td>\n",
              "      <td></td>\n",
              "      <td>None</td>\n",
              "    </tr>\n",
              "    <tr>\n",
              "      <th>83086</th>\n",
              "      <td>83086</td>\n",
              "      <td>147-4th-st</td>\n",
              "      <td>2004</td>\n",
              "      <td>fourplay</td>\n",
              "      <td>Jazz</td>\n",
              "      <td></td>\n",
              "      <td>None</td>\n",
              "    </tr>\n",
              "    <tr>\n",
              "      <th>188443</th>\n",
              "      <td>188443</td>\n",
              "      <td>hangover</td>\n",
              "      <td>2007</td>\n",
              "      <td>cales</td>\n",
              "      <td>Metal</td>\n",
              "      <td>Everything is broken\\nChaos in my mind\\nBooze ...</td>\n",
              "      <td>[everything, broken, chaos, mind, booze, bitch...</td>\n",
              "    </tr>\n",
              "    <tr>\n",
              "      <th>260046</th>\n",
              "      <td>260046</td>\n",
              "      <td>zombie-graveyard-party</td>\n",
              "      <td>2008</td>\n",
              "      <td>be-your-own-pet</td>\n",
              "      <td>Rock</td>\n",
              "      <td>I'm dead baby\\nAs dead as can be\\nIts all beca...</td>\n",
              "      <td>[im, dead, baby, dead, zombie, ate, loved, ali...</td>\n",
              "    </tr>\n",
              "    <tr>\n",
              "      <th>246775</th>\n",
              "      <td>246775</td>\n",
              "      <td>turn-on-the-lights-remix</td>\n",
              "      <td>2012</td>\n",
              "      <td>eve</td>\n",
              "      <td>Hip-Hop</td>\n",
              "      <td>Im lookin for er\\nIm lookin for er\\nIm lookin ...</td>\n",
              "      <td>[im, lookin, er, im, lookin, er, im, lookin, e...</td>\n",
              "    </tr>\n",
              "    <tr>\n",
              "      <th>339482</th>\n",
              "      <td>339482</td>\n",
              "      <td>el-chico-del-coche-estrellado</td>\n",
              "      <td>2014</td>\n",
              "      <td>alcarabanda</td>\n",
              "      <td>Other</td>\n",
              "      <td></td>\n",
              "      <td>None</td>\n",
              "    </tr>\n",
              "  </tbody>\n",
              "</table>\n",
              "</div>"
            ],
            "text/plain": [
              "         index                                 song  year  \\\n",
              "96618    96618                            este-amor  2015   \n",
              "285738  285738                   linha-do-horizonte  2015   \n",
              "61762    61762  they-re-not-horses-they-re-unicorns  2007   \n",
              "167212  167212                             morenita  2000   \n",
              "103717  103717                      burning-bridges  1971   \n",
              "83086    83086                           147-4th-st  2004   \n",
              "188443  188443                             hangover  2007   \n",
              "260046  260046               zombie-graveyard-party  2008   \n",
              "246775  246775             turn-on-the-lights-remix  2012   \n",
              "339482  339482        el-chico-del-coche-estrellado  2014   \n",
              "\n",
              "                     artist          genre  \\\n",
              "96618   gilberto-santa-rosa  Not Available   \n",
              "285738              azymuth           Jazz   \n",
              "61762               bayside           Rock   \n",
              "167212         cafa-quijano           Rock   \n",
              "103717               family           Rock   \n",
              "83086              fourplay           Jazz   \n",
              "188443                cales          Metal   \n",
              "260046      be-your-own-pet           Rock   \n",
              "246775                  eve        Hip-Hop   \n",
              "339482          alcarabanda          Other   \n",
              "\n",
              "                                                   lyrics  \\\n",
              "96618                                                       \n",
              "285738                                                      \n",
              "61762   You're pulling out your teeth\\nAnd I'm the Nov...   \n",
              "167212  Morenita no te escondas, no te escondas,\\nque ...   \n",
              "103717                                                      \n",
              "83086                                                       \n",
              "188443  Everything is broken\\nChaos in my mind\\nBooze ...   \n",
              "260046  I'm dead baby\\nAs dead as can be\\nIts all beca...   \n",
              "246775  Im lookin for er\\nIm lookin for er\\nIm lookin ...   \n",
              "339482                                                      \n",
              "\n",
              "                                             clean_lyrics  \n",
              "96618                                                None  \n",
              "285738                                               None  \n",
              "61762   [youre, pulling, teeth, im, novocaine, pump, c...  \n",
              "167212  [morenita, te, escondas, te, escondas, que, la...  \n",
              "103717                                               None  \n",
              "83086                                                None  \n",
              "188443  [everything, broken, chaos, mind, booze, bitch...  \n",
              "260046  [im, dead, baby, dead, zombie, ate, loved, ali...  \n",
              "246775  [im, lookin, er, im, lookin, er, im, lookin, e...  \n",
              "339482                                               None  "
            ]
          },
          "metadata": {
            "tags": []
          },
          "execution_count": 139
        }
      ]
    },
    {
      "metadata": {
        "id": "-9RTqtm6RXbV",
        "colab_type": "code",
        "colab": {}
      },
      "cell_type": "code",
      "source": [
        "lyrics_df = lyrics_df[lyrics_df.clean_lyrics.notnull()]"
      ],
      "execution_count": 0,
      "outputs": []
    },
    {
      "metadata": {
        "id": "13GsRZKhRXba",
        "colab_type": "code",
        "colab": {}
      },
      "cell_type": "code",
      "source": [
        "from gensim.models import Word2Vec\n",
        "FEATURE_VECTOR_SIZE = 300 \n",
        "WINDOW_SIZE = 2\n",
        "all_sentenses = lyrics_df[\"clean_lyrics\"].tolist()\n",
        "wevec_model = Word2Vec(all_sentenses, size=FEATURE_VECTOR_SIZE, window=WINDOW_SIZE, workers=4)"
      ],
      "execution_count": 0,
      "outputs": []
    },
    {
      "metadata": {
        "id": "L1wosSO7RXbd",
        "colab_type": "code",
        "colab": {}
      },
      "cell_type": "code",
      "source": [
        "clean_text = lyrics_df[\"clean_lyrics\"].tolist()\n",
        "flat_list = [item for sublist in clean_text for item in sublist]\n",
        "clean_req_dist = nltk.FreqDist(flat_list)"
      ],
      "execution_count": 0,
      "outputs": []
    },
    {
      "metadata": {
        "id": "8N-oKf2LRXbg",
        "colab_type": "code",
        "colab": {}
      },
      "cell_type": "code",
      "source": [
        ""
      ],
      "execution_count": 0,
      "outputs": []
    },
    {
      "metadata": {
        "id": "vEMcasRaRXbo",
        "colab_type": "text"
      },
      "cell_type": "markdown",
      "source": [
        "### Review most similar words\n",
        "Get initial evaluation of the word vectors by analyzing the most similar words for a few interesting words in the text. \n",
        "\n",
        "Choose words yourself, and find the most similar words to them."
      ]
    },
    {
      "metadata": {
        "id": "szI-y5dYRXbp",
        "colab_type": "code",
        "colab": {},
        "outputId": "69e83713-88e3-4716-f1c8-2af19d75f3d1"
      },
      "cell_type": "code",
      "source": [
        "word_similars = {}\n",
        "for word, _ in clean_req_dist.most_common(50):\n",
        "  \n",
        "    similar = wevec_model.wv.most_similar(word)\n",
        "    word_similars[word] = similar\n",
        "\n",
        "    \n",
        "word_similars"
      ],
      "execution_count": 0,
      "outputs": [
        {
          "output_type": "execute_result",
          "data": {
            "text/plain": [
              "{'aint': [('im', 0.5726337432861328),\n",
              "  ('cause', 0.5702913403511047),\n",
              "  ('wasnt', 0.5466445684432983),\n",
              "  ('youre', 0.5172334909439087),\n",
              "  ('theres', 0.5154941082000732),\n",
              "  ('thats', 0.5152735710144043),\n",
              "  ('isnt', 0.5046398043632507),\n",
              "  ('never', 0.49962231516838074),\n",
              "  ('got', 0.4969417154788971),\n",
              "  ('know', 0.49464669823646545)],\n",
              " 'away': [('let', 0.48581111431121826),\n",
              "  ('astray', 0.4782832860946655),\n",
              "  ('gone', 0.47674280405044556),\n",
              "  ('time', 0.47650831937789917),\n",
              "  ('around', 0.47166481614112854),\n",
              "  ('cause', 0.4704693853855133),\n",
              "  ('back', 0.470113068819046),\n",
              "  ('far', 0.4667569696903229),\n",
              "  ('well', 0.46566495299339294),\n",
              "  ('home', 0.45680245757102966)],\n",
              " 'baby': [('babe', 0.7152196168899536),\n",
              "  ('girl', 0.7144144177436829),\n",
              "  ('want', 0.669073224067688),\n",
              "  ('love', 0.6666328310966492),\n",
              "  ('know', 0.654323399066925),\n",
              "  ('yeah', 0.653462827205658),\n",
              "  ('oh', 0.6504117846488953),\n",
              "  ('darlin', 0.6488524675369263),\n",
              "  ('ooh', 0.645618200302124),\n",
              "  ('honey', 0.6347125768661499)],\n",
              " 'back': [('home', 0.5738927721977234),\n",
              "  ('cause', 0.5310065746307373),\n",
              "  ('right', 0.5274859070777893),\n",
              "  ('baby', 0.5216064453125),\n",
              "  ('way', 0.5201342105865479),\n",
              "  ('come', 0.515805184841156),\n",
              "  ('see', 0.5147786736488342),\n",
              "  ('go', 0.5068985819816589),\n",
              "  ('let', 0.5038480162620544),\n",
              "  ('get', 0.5020297765731812)],\n",
              " 'cant': [('couldnt', 0.7189155220985413),\n",
              "  ('wont', 0.6789019703865051),\n",
              "  ('dont', 0.6531246900558472),\n",
              "  ('want', 0.5876275300979614),\n",
              "  ('could', 0.5803419351577759),\n",
              "  ('cause', 0.5765647292137146),\n",
              "  ('try', 0.57232266664505),\n",
              "  ('trying', 0.5562009811401367),\n",
              "  ('ill', 0.5539504885673523),\n",
              "  ('refuse', 0.5522397756576538)],\n",
              " 'cause': [('cuz', 0.7992430329322815),\n",
              "  ('know', 0.75087970495224),\n",
              "  ('coz', 0.6941068172454834),\n",
              "  ('dont', 0.6869237422943115),\n",
              "  ('think', 0.667016863822937),\n",
              "  ('love', 0.6513764262199402),\n",
              "  ('cos', 0.6497781276702881),\n",
              "  ('want', 0.6482722759246826),\n",
              "  ('see', 0.647189199924469),\n",
              "  ('baby', 0.6343177556991577)],\n",
              " 'come': [('go', 0.6005770564079285),\n",
              "  ('comes', 0.5917117595672607),\n",
              "  ('baby', 0.5863629579544067),\n",
              "  ('bring', 0.5719496011734009),\n",
              "  ('came', 0.5690042972564697),\n",
              "  ('want', 0.5649036169052124),\n",
              "  ('take', 0.5619226098060608),\n",
              "  ('get', 0.5617247819900513),\n",
              "  ('coming', 0.5604856610298157),\n",
              "  ('see', 0.5526594519615173)],\n",
              " 'could': [('would', 0.7987850308418274),\n",
              "  ('id', 0.685921847820282),\n",
              "  ('youd', 0.6596370935440063),\n",
              "  ('couldnt', 0.6554365158081055),\n",
              "  ('wanted', 0.6355710029602051),\n",
              "  ('knew', 0.6140090227127075),\n",
              "  ('didnt', 0.6015174388885498),\n",
              "  ('never', 0.5926485657691956),\n",
              "  ('theyd', 0.5844491720199585),\n",
              "  ('cant', 0.5803419947624207)],\n",
              " 'day': [('time', 0.6202123761177063),\n",
              "  ('night', 0.6173961758613586),\n",
              "  ('everyday', 0.5721374750137329),\n",
              "  ('today', 0.5531831979751587),\n",
              "  ('morning', 0.5487507581710815),\n",
              "  ('days', 0.5358103513717651),\n",
              "  ('year', 0.533915102481842),\n",
              "  ('way', 0.5195949673652649),\n",
              "  ('moment', 0.5177748203277588),\n",
              "  ('life', 0.5174463391304016)],\n",
              " 'dont': [('want', 0.716680645942688),\n",
              "  ('wont', 0.7100021839141846),\n",
              "  ('know', 0.6989144086837769),\n",
              "  ('cause', 0.6869237422943115),\n",
              "  ('cant', 0.6531245708465576),\n",
              "  ('didnt', 0.6461882591247559),\n",
              "  ('need', 0.643778383731842),\n",
              "  ('baby', 0.6274146437644958),\n",
              "  ('really', 0.6241004467010498),\n",
              "  ('wan', 0.6127464771270752)],\n",
              " 'feel': [('feels', 0.6910566687583923),\n",
              "  ('feeling', 0.6541588306427002),\n",
              "  ('felt', 0.640657365322113),\n",
              "  ('know', 0.6153895854949951),\n",
              "  ('feelin', 0.6031802892684937),\n",
              "  ('love', 0.5852519273757935),\n",
              "  ('want', 0.5793048143386841),\n",
              "  ('see', 0.576849639415741),\n",
              "  ('cause', 0.5716100931167603),\n",
              "  ('think', 0.5591074824333191)],\n",
              " 'get': [('cause', 0.621272623538971),\n",
              "  ('go', 0.6027043461799622),\n",
              "  ('getting', 0.5943885445594788),\n",
              "  ('gettin', 0.5908432006835938),\n",
              "  ('know', 0.5808355212211609),\n",
              "  ('take', 0.5797603726387024),\n",
              "  ('gets', 0.5661826729774475),\n",
              "  ('make', 0.5655983686447144),\n",
              "  ('see', 0.5650560855865479),\n",
              "  ('come', 0.5617247819900513)],\n",
              " 'girl': [('baby', 0.7144144177436829),\n",
              "  ('boy', 0.6919136643409729),\n",
              "  ('woman', 0.6514701247215271),\n",
              "  ('cause', 0.603367805480957),\n",
              "  ('know', 0.600426197052002),\n",
              "  ('love', 0.5878747701644897),\n",
              "  ('girls', 0.5761503577232361),\n",
              "  ('guy', 0.5693761706352234),\n",
              "  ('yeah', 0.5624175071716309),\n",
              "  ('youre', 0.5577806234359741)],\n",
              " 'give': [('gave', 0.6287678480148315),\n",
              "  ('giving', 0.6259108781814575),\n",
              "  ('take', 0.6104089021682739),\n",
              "  ('givin', 0.6073629260063171),\n",
              "  ('want', 0.604444146156311),\n",
              "  ('need', 0.6006021499633789),\n",
              "  ('gives', 0.5866212844848633),\n",
              "  ('know', 0.5772948861122131),\n",
              "  ('love', 0.5754213333129883),\n",
              "  ('let', 0.5708746910095215)],\n",
              " 'go': [('know', 0.626079261302948),\n",
              "  ('let', 0.6038341522216797),\n",
              "  ('take', 0.6035383343696594),\n",
              "  ('get', 0.6027043461799622),\n",
              "  ('come', 0.6005770564079285),\n",
              "  ('baby', 0.5815646052360535),\n",
              "  ('going', 0.5607408881187439),\n",
              "  ('stay', 0.5597073435783386),\n",
              "  ('see', 0.558803915977478),\n",
              "  ('want', 0.5481281280517578)],\n",
              " 'gon': [('gunna', 0.660095751285553),\n",
              "  ('na', 0.6311637759208679),\n",
              "  ('going', 0.5862451791763306),\n",
              "  ('ill', 0.5808987021446228),\n",
              "  ('cause', 0.5564051270484924),\n",
              "  ('well', 0.5491093397140503),\n",
              "  ('supposed', 0.5483319163322449),\n",
              "  ('wont', 0.5415453314781189),\n",
              "  ('wan', 0.5349541306495667),\n",
              "  ('ready', 0.5343626737594604)],\n",
              " 'got': [('gots', 0.660319447517395),\n",
              "  ('cause', 0.5799301266670227),\n",
              "  ('get', 0.5539065599441528),\n",
              "  ('know', 0.553178608417511),\n",
              "  ('ta', 0.5520949959754944),\n",
              "  ('yeah', 0.5332597494125366),\n",
              "  ('want', 0.5271502137184143),\n",
              "  ('dont', 0.5244688391685486),\n",
              "  ('thats', 0.5166460275650024),\n",
              "  ('give', 0.514904260635376)],\n",
              " 'heart': [('hearts', 0.718835175037384),\n",
              "  ('love', 0.5802263021469116),\n",
              "  ('soul', 0.549561083316803),\n",
              "  ('know', 0.5170827507972717),\n",
              "  ('mine', 0.5132535696029663),\n",
              "  ('inside', 0.509134829044342),\n",
              "  ('cause', 0.5052371621131897),\n",
              "  ('always', 0.4955388009548187),\n",
              "  ('mind', 0.492153525352478),\n",
              "  ('never', 0.4899277985095978)],\n",
              " 'ill': [('youll', 0.7865107655525208),\n",
              "  ('theyll', 0.6792991757392883),\n",
              "  ('wont', 0.6635021567344666),\n",
              "  ('shell', 0.6593012809753418),\n",
              "  ('well', 0.6423420906066895),\n",
              "  ('want', 0.6198937892913818),\n",
              "  ('itll', 0.6133744120597839),\n",
              "  ('dont', 0.5968849062919617),\n",
              "  ('gon', 0.580898642539978),\n",
              "  ('could', 0.5781256556510925)],\n",
              " 'im': [('youre', 0.8068298101425171),\n",
              "  ('theyre', 0.6176744699478149),\n",
              "  ('cause', 0.6114144325256348),\n",
              "  ('shes', 0.6099496483802795),\n",
              "  ('hes', 0.6072119474411011),\n",
              "  ('aint', 0.5726337432861328),\n",
              "  ('whos', 0.570510745048523),\n",
              "  ('still', 0.5547416806221008),\n",
              "  ('keep', 0.554406464099884),\n",
              "  ('know', 0.5519081950187683)],\n",
              " 'ive': [('youve', 0.846036970615387),\n",
              "  ('weve', 0.7608537673950195),\n",
              "  ('theyve', 0.6986032724380493),\n",
              "  ('havent', 0.6575943827629089),\n",
              "  ('hasnt', 0.5358154773712158),\n",
              "  ('ever', 0.5306572318077087),\n",
              "  ('shes', 0.5147053003311157),\n",
              "  ('never', 0.5098140239715576),\n",
              "  ('cause', 0.507084846496582),\n",
              "  ('time', 0.5029445290565491)],\n",
              " 'know': [('cause', 0.75087970495224),\n",
              "  ('want', 0.7310596704483032),\n",
              "  ('think', 0.719833493232727),\n",
              "  ('really', 0.7169957756996155),\n",
              "  ('tell', 0.7089402675628662),\n",
              "  ('love', 0.7010596394538879),\n",
              "  ('dont', 0.6989144086837769),\n",
              "  ('say', 0.6835671067237854),\n",
              "  ('see', 0.6818000674247742),\n",
              "  ('need', 0.6553258895874023)],\n",
              " 'la': [('lunera', 0.4674633741378784),\n",
              "  ('conoca', 0.4480932950973511),\n",
              "  ('aaro', 0.43831491470336914),\n",
              "  ('una', 0.4322173297405243),\n",
              "  ('esa', 0.4227932393550873),\n",
              "  ('misma', 0.4057827591896057),\n",
              "  ('\\xc2\\xbfqu', 0.40431898832321167),\n",
              "  ('esta', 0.40088626742362976),\n",
              "  ('nuestra', 0.39738553762435913),\n",
              "  ('mia', 0.3907831311225891)],\n",
              " 'let': [('know', 0.6435350179672241),\n",
              "  ('want', 0.6416960954666138),\n",
              "  ('letting', 0.6221975088119507),\n",
              "  ('wont', 0.6174680590629578),\n",
              "  ('tell', 0.6096522808074951),\n",
              "  ('dont', 0.6081572771072388),\n",
              "  ('go', 0.6038341522216797),\n",
              "  ('cause', 0.5891314744949341),\n",
              "  ('baby', 0.5832515358924866),\n",
              "  ('love', 0.5741517543792725)],\n",
              " 'life': [('lives', 0.6384295225143433),\n",
              "  ('lifes', 0.6105927228927612),\n",
              "  ('world', 0.6041514277458191),\n",
              "  ('time', 0.589820146560669),\n",
              "  ('love', 0.5817276239395142),\n",
              "  ('cause', 0.5571755170822144),\n",
              "  ('way', 0.5557308793067932),\n",
              "  ('lifetime', 0.5490458607673645),\n",
              "  ('know', 0.5177091956138611),\n",
              "  ('day', 0.5174463391304016)],\n",
              " 'like': [('cause', 0.5706603527069092),\n",
              "  ('know', 0.5571945309638977),\n",
              "  ('see', 0.5195850729942322),\n",
              "  ('yeah', 0.5102760195732117),\n",
              "  ('love', 0.5099983215332031),\n",
              "  ('im', 0.5047522187232971),\n",
              "  ('way', 0.5003231167793274),\n",
              "  ('think', 0.49936363101005554),\n",
              "  ('want', 0.4957481026649475),\n",
              "  ('right', 0.4937320351600647)],\n",
              " 'love': [('know', 0.7010595798492432),\n",
              "  ('baby', 0.666632890701294),\n",
              "  ('cause', 0.6513764262199402),\n",
              "  ('want', 0.6384370923042297),\n",
              "  ('oh', 0.6189632415771484),\n",
              "  ('way', 0.6038429737091064),\n",
              "  ('yeah', 0.6005270481109619),\n",
              "  ('really', 0.5965404510498047),\n",
              "  ('believe', 0.5951105952262878),\n",
              "  ('true', 0.5926972031593323)],\n",
              " 'make': [('making', 0.6673080325126648),\n",
              "  ('made', 0.6562694907188416),\n",
              "  ('makin', 0.6243255138397217),\n",
              "  ('makes', 0.6224759221076965),\n",
              "  ('cause', 0.5693091750144958),\n",
              "  ('get', 0.5655983686447144),\n",
              "  ('know', 0.5621506571769714),\n",
              "  ('see', 0.5581544637680054),\n",
              "  ('want', 0.5568185448646545),\n",
              "  ('baby', 0.5442637205123901)],\n",
              " 'man': [('woman', 0.6083204746246338),\n",
              "  ('mans', 0.557479739189148),\n",
              "  ('boy', 0.5327961444854736),\n",
              "  ('men', 0.5189105868339539),\n",
              "  ('girl', 0.5090734362602234),\n",
              "  ('guy', 0.5081716179847717),\n",
              "  ('cause', 0.4995732009410858),\n",
              "  ('know', 0.4913017153739929),\n",
              "  ('im', 0.4753400981426239),\n",
              "  ('person', 0.4702901542186737)],\n",
              " 'na': [('gon', 0.6311637163162231),\n",
              "  ('wan', 0.5259227156639099),\n",
              "  ('dont', 0.4805344045162201),\n",
              "  ('tonight', 0.46787604689598083),\n",
              "  ('baby', 0.4648917615413666),\n",
              "  ('gunna', 0.4613085985183716),\n",
              "  ('know', 0.4610101580619812),\n",
              "  ('cause', 0.45063939690589905),\n",
              "  ('want', 0.4446399211883545),\n",
              "  ('make', 0.4407389760017395)],\n",
              " 'need': [('want', 0.7738757133483887),\n",
              "  ('know', 0.6553258299827576),\n",
              "  ('dont', 0.643778383731842),\n",
              "  ('cause', 0.6235896944999695),\n",
              "  ('baby', 0.6007249355316162),\n",
              "  ('give', 0.6006021499633789),\n",
              "  ('needed', 0.598579466342926),\n",
              "  ('needs', 0.587816059589386),\n",
              "  ('love', 0.5838306546211243),\n",
              "  ('wan', 0.5658081769943237)],\n",
              " 'never': [('ever', 0.712336540222168),\n",
              "  ('always', 0.65769362449646),\n",
              "  ('know', 0.5994217991828918),\n",
              "  ('could', 0.592648446559906),\n",
              "  ('cause', 0.5734935998916626),\n",
              "  ('love', 0.5713541507720947),\n",
              "  ('knew', 0.5700271725654602),\n",
              "  ('would', 0.5669793486595154),\n",
              "  ('wanted', 0.563857913017273),\n",
              "  ('well', 0.5618811845779419)],\n",
              " 'night': [('day', 0.6173961758613586),\n",
              "  ('nights', 0.6159958243370056),\n",
              "  ('evening', 0.6024149060249329),\n",
              "  ('time', 0.5863271355628967),\n",
              "  ('nite', 0.5696223378181458),\n",
              "  ('tonight', 0.5687024593353271),\n",
              "  ('afternoon', 0.5680603384971619),\n",
              "  ('weekend', 0.5641685724258423),\n",
              "  ('nighttime', 0.5206041932106018),\n",
              "  ('week', 0.5200651288032532)],\n",
              " 'oh': [('yeah', 0.7650155425071716),\n",
              "  ('whoa', 0.7151498794555664),\n",
              "  ('woah', 0.655664324760437),\n",
              "  ('baby', 0.6504117846488953),\n",
              "  ('yes', 0.6426502466201782),\n",
              "  ('ooh', 0.6349190473556519),\n",
              "  ('love', 0.6189631819725037),\n",
              "  ('know', 0.5802196860313416),\n",
              "  ('darling', 0.5726733207702637),\n",
              "  ('ohoh', 0.5536147952079773)],\n",
              " 'one': [('another', 0.6006686687469482),\n",
              "  ('cause', 0.5929161310195923),\n",
              "  ('love', 0.5712689161300659),\n",
              "  ('know', 0.5661751627922058),\n",
              "  ('every', 0.5614594221115112),\n",
              "  ('always', 0.5533695220947266),\n",
              "  ('last', 0.5490371584892273),\n",
              "  ('baby', 0.5439494848251343),\n",
              "  ('someone', 0.5419884920120239),\n",
              "  ('never', 0.5409644842147827)],\n",
              " 'que': [('cuando', 0.6425056457519531),\n",
              "  ('porque', 0.6405003666877747),\n",
              "  ('aunque', 0.6397753953933716),\n",
              "  ('qu', 0.6352249979972839),\n",
              "  ('m\\xc3\\x83\\xc2\\x83\\xc3\\x82\\xc2\\xa1s', 0.6191968321800232),\n",
              "  ('nunca', 0.615195631980896),\n",
              "  ('cual', 0.614463210105896),\n",
              "  ('quien', 0.611522912979126),\n",
              "  ('paque', 0.6087436079978943),\n",
              "  ('verdad', 0.6003798842430115)],\n",
              " 'right': [('alright', 0.6257935762405396),\n",
              "  ('know', 0.6139387488365173),\n",
              "  ('baby', 0.6029905080795288),\n",
              "  ('cause', 0.6023246049880981),\n",
              "  ('well', 0.5962277054786682),\n",
              "  ('wrong', 0.5927395224571228),\n",
              "  ('way', 0.5898244380950928),\n",
              "  ('yeah', 0.5862207412719727),\n",
              "  ('tonight', 0.5718761086463928),\n",
              "  ('good', 0.5558097958564758)],\n",
              " 'say': [('said', 0.6899821758270264),\n",
              "  ('know', 0.6835671067237854),\n",
              "  ('saying', 0.6717901229858398),\n",
              "  ('tell', 0.6596493721008301),\n",
              "  ('cause', 0.6326661109924316),\n",
              "  ('think', 0.6173607707023621),\n",
              "  ('believe', 0.5983862280845642),\n",
              "  ('want', 0.592422604560852),\n",
              "  ('sayin', 0.5816965103149414),\n",
              "  ('see', 0.5797767043113708)],\n",
              " 'see': [('know', 0.6818000674247742),\n",
              "  ('cause', 0.647189199924469),\n",
              "  ('look', 0.6423646807670593),\n",
              "  ('tell', 0.6323638558387756),\n",
              "  ('believe', 0.6066811084747314),\n",
              "  ('find', 0.581488847732544),\n",
              "  ('say', 0.5797767043113708),\n",
              "  ('seeing', 0.5789057612419128),\n",
              "  ('love', 0.5774520635604858),\n",
              "  ('feel', 0.576849639415741)],\n",
              " 'take': [('taking', 0.6747264862060547),\n",
              "  ('took', 0.6472983956336975),\n",
              "  ('takin', 0.6145901679992676),\n",
              "  ('give', 0.6104088425636292),\n",
              "  ('takes', 0.6097592115402222),\n",
              "  ('go', 0.6035381555557251),\n",
              "  ('get', 0.5797602534294128),\n",
              "  ('taken', 0.5705008506774902),\n",
              "  ('come', 0.5619226098060608),\n",
              "  ('hold', 0.5603235960006714)],\n",
              " 'tell': [('know', 0.7089401483535767),\n",
              "  ('say', 0.6596493721008301),\n",
              "  ('see', 0.6323638558387756),\n",
              "  ('telling', 0.6244874596595764),\n",
              "  ('cause', 0.6229647397994995),\n",
              "  ('told', 0.6104852557182312),\n",
              "  ('let', 0.6096522808074951),\n",
              "  ('tellin', 0.5987286567687988),\n",
              "  ('ask', 0.5978748798370361),\n",
              "  ('baby', 0.5975700616836548)],\n",
              " 'thats': [('cause', 0.6063066124916077),\n",
              "  ('know', 0.6056761145591736),\n",
              "  ('yeah', 0.5844053030014038),\n",
              "  ('love', 0.5750522613525391),\n",
              "  ('right', 0.5476338863372803),\n",
              "  ('well', 0.5418047308921814),\n",
              "  ('baby', 0.5359138250350952),\n",
              "  ('always', 0.5357525944709778),\n",
              "  ('way', 0.5277034640312195),\n",
              "  ('youre', 0.5268524885177612)],\n",
              " 'time': [('day', 0.6202123761177063),\n",
              "  ('moment', 0.6016969084739685),\n",
              "  ('cause', 0.5944951176643372),\n",
              "  ('life', 0.589820146560669),\n",
              "  ('night', 0.5863271355628967),\n",
              "  ('well', 0.5774103403091431),\n",
              "  ('way', 0.5551213026046753),\n",
              "  ('always', 0.553257405757904),\n",
              "  ('love', 0.548822820186615),\n",
              "  ('know', 0.5486138463020325)],\n",
              " 'wan': [('want', 0.7269458174705505),\n",
              "  ('dont', 0.6127464771270752),\n",
              "  ('know', 0.6072008609771729),\n",
              "  ('need', 0.5658081769943237),\n",
              "  ('let', 0.5413091778755188),\n",
              "  ('gon', 0.5349540710449219),\n",
              "  ('cause', 0.5323712229728699),\n",
              "  ('baby', 0.5280036330223083),\n",
              "  ('na', 0.5259227156639099),\n",
              "  ('love', 0.5176416635513306)],\n",
              " 'want': [('need', 0.7738757133483887),\n",
              "  ('know', 0.7310596704483032),\n",
              "  ('wan', 0.7269459366798401),\n",
              "  ('dont', 0.7166807055473328),\n",
              "  ('baby', 0.6690733432769775),\n",
              "  ('cause', 0.6482723355293274),\n",
              "  ('let', 0.6416960954666138),\n",
              "  ('love', 0.6384370923042297),\n",
              "  ('ill', 0.6198939085006714),\n",
              "  ('really', 0.6073273420333862)],\n",
              " 'way': [('love', 0.6038429737091064),\n",
              "  ('cause', 0.6009751558303833),\n",
              "  ('know', 0.5953599214553833),\n",
              "  ('right', 0.5898244976997375),\n",
              "  ('well', 0.5768380761146545),\n",
              "  ('always', 0.556844174861908),\n",
              "  ('life', 0.5557308793067932),\n",
              "  ('time', 0.5551213622093201),\n",
              "  ('baby', 0.5523089170455933),\n",
              "  ('never', 0.551428496837616)],\n",
              " 'well': [('ill', 0.6423421502113342),\n",
              "  ('cause', 0.6322770118713379),\n",
              "  ('know', 0.6144271492958069),\n",
              "  ('right', 0.596227765083313),\n",
              "  ('might', 0.5817500352859497),\n",
              "  ('youll', 0.5806663632392883),\n",
              "  ('love', 0.5797067880630493),\n",
              "  ('time', 0.5774103403091431),\n",
              "  ('way', 0.5768381357192993),\n",
              "  ('baby', 0.5756925940513611)],\n",
              " 'world': [('worlds', 0.616723895072937),\n",
              "  ('life', 0.6041514277458191),\n",
              "  ('universe', 0.5478916764259338),\n",
              "  ('cause', 0.532717764377594),\n",
              "  ('love', 0.5323495268821716),\n",
              "  ('everything', 0.5159353613853455),\n",
              "  ('us', 0.5080416202545166),\n",
              "  ('way', 0.5078290700912476),\n",
              "  ('know', 0.49930864572525024),\n",
              "  ('see', 0.49919089674949646)],\n",
              " 'yeah': [('oh', 0.7650155425071716),\n",
              "  ('baby', 0.6534628868103027),\n",
              "  ('ooh', 0.6489588022232056),\n",
              "  ('whoa', 0.6454036235809326),\n",
              "  ('know', 0.6202691793441772),\n",
              "  ('cause', 0.6149356365203857),\n",
              "  ('love', 0.6005270481109619),\n",
              "  ('aw', 0.5946927070617676),\n",
              "  ('yes', 0.5915719270706177),\n",
              "  ('right', 0.5862207412719727)],\n",
              " 'youre': [('im', 0.8068298101425171),\n",
              "  ('theyre', 0.6399924755096436),\n",
              "  ('shes', 0.6375544667243958),\n",
              "  ('cause', 0.6246843338012695),\n",
              "  ('know', 0.6126502752304077),\n",
              "  ('always', 0.5880410075187683),\n",
              "  ('baby', 0.5865567326545715),\n",
              "  ('hes', 0.5773549675941467),\n",
              "  ('love', 0.5656024813652039),\n",
              "  ('see', 0.559781551361084)]}"
            ]
          },
          "metadata": {
            "tags": []
          },
          "execution_count": 143
        }
      ]
    },
    {
      "metadata": {
        "id": "1W3GUhLPRXbr",
        "colab_type": "code",
        "colab": {},
        "outputId": "56a1ac3b-4120-4835-8fdd-435dd20e2c3c"
      },
      "cell_type": "code",
      "source": [
        "wevec_model.wv.most_similar('fire')"
      ],
      "execution_count": 0,
      "outputs": [
        {
          "output_type": "execute_result",
          "data": {
            "text/plain": [
              "[('fires', 0.6295726895332336),\n",
              " ('flames', 0.6074615120887756),\n",
              " ('flame', 0.6055196523666382),\n",
              " ('ablaze', 0.5413768887519836),\n",
              " ('desire', 0.5156161785125732),\n",
              " ('alight', 0.5122188329696655),\n",
              " ('gasoline', 0.4977535903453827),\n",
              " ('burning', 0.49690544605255127),\n",
              " ('spark', 0.4928058683872223),\n",
              " ('aflame', 0.4832827150821686)]"
            ]
          },
          "metadata": {
            "tags": []
          },
          "execution_count": 67
        }
      ]
    },
    {
      "metadata": {
        "id": "ab9S8xOnRXbt",
        "colab_type": "code",
        "colab": {},
        "outputId": "efbf0b19-5a06-4b89-cd27-344e2751e865"
      },
      "cell_type": "code",
      "source": [
        "wevec_model.wv.most_similar('kiss')"
      ],
      "execution_count": 0,
      "outputs": [
        {
          "output_type": "execute_result",
          "data": {
            "text/plain": [
              "[('kissed', 0.5996934771537781),\n",
              " ('touch', 0.5846958160400391),\n",
              " ('kisses', 0.5504751205444336),\n",
              " ('hug', 0.5244470834732056),\n",
              " ('caress', 0.5160906314849854),\n",
              " ('kissing', 0.4945163130760193),\n",
              " ('love', 0.4940756559371948),\n",
              " ('baby', 0.4696815013885498),\n",
              " ('kissin', 0.46546944975852966),\n",
              " ('taste', 0.4626149833202362)]"
            ]
          },
          "metadata": {
            "tags": []
          },
          "execution_count": 68
        }
      ]
    },
    {
      "metadata": {
        "id": "zdeUfR_aRXbw",
        "colab_type": "code",
        "colab": {},
        "outputId": "c3f46683-7aeb-4deb-a1c0-a3d05e7e2cc9"
      },
      "cell_type": "code",
      "source": [
        "wevec_model.wv.most_similar('girl')"
      ],
      "execution_count": 0,
      "outputs": [
        {
          "output_type": "execute_result",
          "data": {
            "text/plain": [
              "[('baby', 0.7139131426811218),\n",
              " ('boy', 0.7059749960899353),\n",
              " ('woman', 0.6433032751083374),\n",
              " ('know', 0.6125483512878418),\n",
              " ('cause', 0.5841875672340393),\n",
              " ('love', 0.5832270383834839),\n",
              " ('girls', 0.5812261700630188),\n",
              " ('yeah', 0.5732951164245605),\n",
              " ('want', 0.5672628879547119),\n",
              " ('youre', 0.5650014877319336)]"
            ]
          },
          "metadata": {
            "tags": []
          },
          "execution_count": 69
        }
      ]
    },
    {
      "metadata": {
        "id": "doTUjmQ1RXbz",
        "colab_type": "code",
        "colab": {},
        "outputId": "70809223-e037-4a7a-e97d-371230ca1be5"
      },
      "cell_type": "code",
      "source": [
        "wevec_model.wv.most_similar('day')"
      ],
      "execution_count": 0,
      "outputs": [
        {
          "output_type": "execute_result",
          "data": {
            "text/plain": [
              "[('time', 0.6295426487922668),\n",
              " ('night', 0.6169971227645874),\n",
              " ('everyday', 0.587461531162262),\n",
              " ('today', 0.5645662546157837),\n",
              " ('morning', 0.5523067712783813),\n",
              " ('days', 0.5446341633796692),\n",
              " ('year', 0.5427302718162537),\n",
              " ('one', 0.5393405556678772),\n",
              " ('life', 0.5369404554367065),\n",
              " ('moment', 0.5355512499809265)]"
            ]
          },
          "metadata": {
            "tags": []
          },
          "execution_count": 70
        }
      ]
    },
    {
      "metadata": {
        "id": "_BaSE8w0RXb2",
        "colab_type": "text"
      },
      "cell_type": "markdown",
      "source": [
        "### Word Vectors Algebra\n",
        "We've seen in class examples of algebraic games on the word vectors (e.g. man - woman + king = queen ). \n",
        "\n",
        "Try a few vector algebra terms, and evaluate how well they work. Try to use the Cosine distance and compare it to the Euclidean distance."
      ]
    },
    {
      "metadata": {
        "id": "oDyT5JtPRXb3",
        "colab_type": "code",
        "colab": {},
        "outputId": "f135859f-54b2-4b0a-e6b2-5987e2b073e6"
      },
      "cell_type": "code",
      "source": [
        "v1 = wevec_model.wv['man'] \n",
        "v2 = wevec_model.wv['woman'] \n",
        "v3 = wevec_model.wv['king'] \n",
        "\n",
        "res =  v1 - v2 + v3\n",
        "wevec_model.wv.similar_by_vector(res)"
      ],
      "execution_count": 0,
      "outputs": [
        {
          "output_type": "execute_result",
          "data": {
            "text/plain": [
              "[('king', 0.8066390156745911),\n",
              " ('man', 0.4949924945831299),\n",
              " ('ruler', 0.3888992965221405),\n",
              " ('throne', 0.3676997125148773),\n",
              " ('kings', 0.3651754558086395),\n",
              " ('master', 0.35738009214401245),\n",
              " ('hail', 0.34931355714797974),\n",
              " ('koopa', 0.34843963384628296),\n",
              " ('chief', 0.3418534994125366),\n",
              " ('prophet', 0.3411588668823242)]"
            ]
          },
          "metadata": {
            "tags": []
          },
          "execution_count": 71
        }
      ]
    },
    {
      "metadata": {
        "id": "LeYCRYwxRXb8",
        "colab_type": "code",
        "colab": {},
        "outputId": "dd998a13-3fd7-4841-dc1e-61028f1938c5"
      },
      "cell_type": "code",
      "source": [
        "v1 = wevec_model.wv['girl'] \n",
        "v2 = wevec_model.wv['baby'] \n",
        "\n",
        "res =  v1 + v2 \n",
        "wevec_model.wv.similar_by_vector(res)"
      ],
      "execution_count": 0,
      "outputs": [
        {
          "output_type": "execute_result",
          "data": {
            "text/plain": [
              "[('girl', 0.9317685961723328),\n",
              " ('baby', 0.9194236993789673),\n",
              " ('boy', 0.7159754037857056),\n",
              " ('know', 0.6910368800163269),\n",
              " ('babe', 0.6796531081199646),\n",
              " ('love', 0.6683871746063232),\n",
              " ('want', 0.6660570502281189),\n",
              " ('yeah', 0.6640785932540894),\n",
              " ('cause', 0.6572161316871643),\n",
              " ('woman', 0.6439871191978455)]"
            ]
          },
          "metadata": {
            "tags": []
          },
          "execution_count": 72
        }
      ]
    },
    {
      "metadata": {
        "id": "-YaIx-p5RXcA",
        "colab_type": "code",
        "colab": {},
        "outputId": "8432ea5a-ebd3-4927-9b69-e692c413adb8"
      },
      "cell_type": "code",
      "source": [
        "v1 = wevec_model.wv['lover'] \n",
        "v2 = wevec_model.wv['man'] \n",
        "v3 = wevec_model.wv['woman'] \n",
        "\n",
        "res =  v1 - v2  + v3\n",
        "wevec_model.wv.similar_by_vector(res)"
      ],
      "execution_count": 0,
      "outputs": [
        {
          "output_type": "execute_result",
          "data": {
            "text/plain": [
              "[('lover', 0.7892687916755676),\n",
              " ('woman', 0.6649908423423767),\n",
              " ('girl', 0.46213266253471375),\n",
              " ('baby', 0.45129093527793884),\n",
              " ('lovin', 0.43202048540115356),\n",
              " ('babe', 0.42368084192276),\n",
              " ('friend', 0.4233058989048004),\n",
              " ('lady', 0.42173564434051514),\n",
              " ('love', 0.4168216288089752),\n",
              " ('mine', 0.40540170669555664)]"
            ]
          },
          "metadata": {
            "tags": []
          },
          "execution_count": 73
        }
      ]
    },
    {
      "metadata": {
        "id": "FU3sAwZERXcF",
        "colab_type": "code",
        "colab": {},
        "outputId": "e87af557-3a82-47a6-f402-235155d28731"
      },
      "cell_type": "code",
      "source": [
        "v1 = wevec_model.wv['love'] \n",
        "v2 = wevec_model.wv['woman'] \n",
        "\n",
        "res =  v1 + v2\n",
        "wevec_model.wv.similar_by_vector(res)"
      ],
      "execution_count": 0,
      "outputs": [
        {
          "output_type": "execute_result",
          "data": {
            "text/plain": [
              "[('woman', 0.877863347530365),\n",
              " ('love', 0.8622276782989502),\n",
              " ('girl', 0.7056551575660706),\n",
              " ('baby', 0.6891446709632874),\n",
              " ('know', 0.6853798627853394),\n",
              " ('cause', 0.6328531503677368),\n",
              " ('lovin', 0.6304674744606018),\n",
              " ('want', 0.6176474094390869),\n",
              " ('man', 0.615849494934082),\n",
              " ('way', 0.6060291528701782)]"
            ]
          },
          "metadata": {
            "tags": []
          },
          "execution_count": 74
        }
      ]
    },
    {
      "metadata": {
        "id": "cG4bL0g4RXcJ",
        "colab_type": "code",
        "colab": {},
        "outputId": "c5c9a036-24c7-47ce-8a23-80302d52ab9f"
      },
      "cell_type": "code",
      "source": [
        "v1 = wevec_model.wv['love'] \n",
        "v2 = wevec_model.wv['woman'] \n",
        "\n",
        "res =  v1 + v2\n",
        "wevec_model.wv.similar_by_vector(res)"
      ],
      "execution_count": 0,
      "outputs": [
        {
          "output_type": "execute_result",
          "data": {
            "text/plain": [
              "[('woman', 0.877863347530365),\n",
              " ('love', 0.8622276782989502),\n",
              " ('girl', 0.7056551575660706),\n",
              " ('baby', 0.6891446709632874),\n",
              " ('know', 0.6853798627853394),\n",
              " ('cause', 0.6328531503677368),\n",
              " ('lovin', 0.6304674744606018),\n",
              " ('want', 0.6176474094390869),\n",
              " ('man', 0.615849494934082),\n",
              " ('way', 0.6060291528701782)]"
            ]
          },
          "metadata": {
            "tags": []
          },
          "execution_count": 75
        }
      ]
    },
    {
      "metadata": {
        "id": "OJov8FhCRXcL",
        "colab_type": "code",
        "colab": {},
        "outputId": "3112c7f3-3cd1-4a98-af76-837114c65bd8"
      },
      "cell_type": "code",
      "source": [
        "v1 = wevec_model.wv['baby'] \n",
        "v2 = wevec_model.wv['girl'] \n",
        "v3 = wevec_model.wv['man'] \n",
        "\n",
        "res =  v1 - v2 + v3\n",
        "wevec_model.wv.similar_by_vector(res)"
      ],
      "execution_count": 0,
      "outputs": [
        {
          "output_type": "execute_result",
          "data": {
            "text/plain": [
              "[('man', 0.7557414770126343),\n",
              " ('baby', 0.5543480515480042),\n",
              " ('yeah', 0.44544079899787903),\n",
              " ('know', 0.42860183119773865),\n",
              " ('cause', 0.42804914712905884),\n",
              " ('love', 0.42010751366615295),\n",
              " ('well', 0.4168336093425751),\n",
              " ('babe', 0.413404256105423),\n",
              " ('lord', 0.40702784061431885),\n",
              " ('want', 0.40664753317832947)]"
            ]
          },
          "metadata": {
            "tags": []
          },
          "execution_count": 76
        }
      ]
    },
    {
      "metadata": {
        "id": "6GXrv02MRXcN",
        "colab_type": "code",
        "colab": {},
        "outputId": "9e6c6fbc-6052-43d9-b915-1763585eece8"
      },
      "cell_type": "code",
      "source": [
        "v2 = wevec_model.wv['love'] \n",
        "v2 = wevec_model.wv['woman'] \n",
        "\n",
        "res =  v1 + v2\n",
        "wevec_model.wv.similar_by_vector(res)"
      ],
      "execution_count": 0,
      "outputs": [
        {
          "output_type": "execute_result",
          "data": {
            "text/plain": [
              "[('woman', 0.886969268321991),\n",
              " ('baby', 0.8707532286643982),\n",
              " ('girl', 0.7706629037857056),\n",
              " ('babe', 0.6707208752632141),\n",
              " ('love', 0.6638684868812561),\n",
              " ('know', 0.6623520255088806),\n",
              " ('want', 0.630240261554718),\n",
              " ('yeah', 0.6264259815216064),\n",
              " ('cause', 0.6246328353881836),\n",
              " ('honey', 0.6214901208877563)]"
            ]
          },
          "metadata": {
            "tags": []
          },
          "execution_count": 77
        }
      ]
    },
    {
      "metadata": {
        "id": "uiHCl_FjRXcP",
        "colab_type": "code",
        "colab": {}
      },
      "cell_type": "code",
      "source": [
        ""
      ],
      "execution_count": 0,
      "outputs": []
    },
    {
      "metadata": {
        "id": "IV41Rzd-RXcR",
        "colab_type": "text"
      },
      "cell_type": "markdown",
      "source": [
        "## Sentiment Analysis\n",
        "Estimate sentiment of words using word vectors.  \n",
        "In this section, we'll use the SemEval-2015 English Twitter Sentiment Lexicon.  \n",
        "The lexicon was used as an official test set in the SemEval-2015 shared Task #10: Subtask E, and contains a polarity score for words in range -1 (negative) to 1 (positive) - http://saifmohammad.com/WebPages/SCL.html#OPP"
      ]
    },
    {
      "metadata": {
        "id": "2xZFSPXIRXcR",
        "colab_type": "text"
      },
      "cell_type": "markdown",
      "source": [
        "Build a classifier for the sentiment of a word given its word vector. Split the data to a train and test sets, and report the model performance on both sets."
      ]
    },
    {
      "metadata": {
        "id": "nPyYXUApRXcS",
        "colab_type": "code",
        "colab": {},
        "outputId": "430fac0e-c567-4d3c-8014-cac3c4bd63bc"
      },
      "cell_type": "code",
      "source": [
        "twitter_lex_df = pd.read_csv('../SemEval2015-English-Twitter-Lexicon/SemEval2015-English-Twitter-Lexicon.txt', sep='\\t',  names =['polarity', 'word'])\n",
        "twitter_lex_df.describe(include = 'all')"
      ],
      "execution_count": 0,
      "outputs": [
        {
          "output_type": "execute_result",
          "data": {
            "text/html": [
              "<div>\n",
              "<style scoped>\n",
              "    .dataframe tbody tr th:only-of-type {\n",
              "        vertical-align: middle;\n",
              "    }\n",
              "\n",
              "    .dataframe tbody tr th {\n",
              "        vertical-align: top;\n",
              "    }\n",
              "\n",
              "    .dataframe thead th {\n",
              "        text-align: right;\n",
              "    }\n",
              "</style>\n",
              "<table border=\"1\" class=\"dataframe\">\n",
              "  <thead>\n",
              "    <tr style=\"text-align: right;\">\n",
              "      <th></th>\n",
              "      <th>polarity</th>\n",
              "      <th>word</th>\n",
              "    </tr>\n",
              "  </thead>\n",
              "  <tbody>\n",
              "    <tr>\n",
              "      <th>count</th>\n",
              "      <td>1515.000000</td>\n",
              "      <td>1515</td>\n",
              "    </tr>\n",
              "    <tr>\n",
              "      <th>unique</th>\n",
              "      <td>NaN</td>\n",
              "      <td>1515</td>\n",
              "    </tr>\n",
              "    <tr>\n",
              "      <th>top</th>\n",
              "      <td>NaN</td>\n",
              "      <td>songs</td>\n",
              "    </tr>\n",
              "    <tr>\n",
              "      <th>freq</th>\n",
              "      <td>NaN</td>\n",
              "      <td>1</td>\n",
              "    </tr>\n",
              "    <tr>\n",
              "      <th>mean</th>\n",
              "      <td>0.000319</td>\n",
              "      <td>NaN</td>\n",
              "    </tr>\n",
              "    <tr>\n",
              "      <th>std</th>\n",
              "      <td>0.502247</td>\n",
              "      <td>NaN</td>\n",
              "    </tr>\n",
              "    <tr>\n",
              "      <th>min</th>\n",
              "      <td>-0.984000</td>\n",
              "      <td>NaN</td>\n",
              "    </tr>\n",
              "    <tr>\n",
              "      <th>25%</th>\n",
              "      <td>-0.422000</td>\n",
              "      <td>NaN</td>\n",
              "    </tr>\n",
              "    <tr>\n",
              "      <th>50%</th>\n",
              "      <td>0.031000</td>\n",
              "      <td>NaN</td>\n",
              "    </tr>\n",
              "    <tr>\n",
              "      <th>75%</th>\n",
              "      <td>0.406000</td>\n",
              "      <td>NaN</td>\n",
              "    </tr>\n",
              "    <tr>\n",
              "      <th>max</th>\n",
              "      <td>0.984000</td>\n",
              "      <td>NaN</td>\n",
              "    </tr>\n",
              "  </tbody>\n",
              "</table>\n",
              "</div>"
            ],
            "text/plain": [
              "           polarity   word\n",
              "count   1515.000000   1515\n",
              "unique          NaN   1515\n",
              "top             NaN  songs\n",
              "freq            NaN      1\n",
              "mean       0.000319    NaN\n",
              "std        0.502247    NaN\n",
              "min       -0.984000    NaN\n",
              "25%       -0.422000    NaN\n",
              "50%        0.031000    NaN\n",
              "75%        0.406000    NaN\n",
              "max        0.984000    NaN"
            ]
          },
          "metadata": {
            "tags": []
          },
          "execution_count": 146
        }
      ]
    },
    {
      "metadata": {
        "id": "gvIxpK4ARXcY",
        "colab_type": "code",
        "colab": {},
        "outputId": "b1e3f54a-1e58-4d41-88b7-b7d186688ca0"
      },
      "cell_type": "code",
      "source": [
        "twitter_lex_df.head()"
      ],
      "execution_count": 0,
      "outputs": [
        {
          "output_type": "execute_result",
          "data": {
            "text/html": [
              "<div>\n",
              "<style scoped>\n",
              "    .dataframe tbody tr th:only-of-type {\n",
              "        vertical-align: middle;\n",
              "    }\n",
              "\n",
              "    .dataframe tbody tr th {\n",
              "        vertical-align: top;\n",
              "    }\n",
              "\n",
              "    .dataframe thead th {\n",
              "        text-align: right;\n",
              "    }\n",
              "</style>\n",
              "<table border=\"1\" class=\"dataframe\">\n",
              "  <thead>\n",
              "    <tr style=\"text-align: right;\">\n",
              "      <th></th>\n",
              "      <th>polarity</th>\n",
              "      <th>word</th>\n",
              "    </tr>\n",
              "  </thead>\n",
              "  <tbody>\n",
              "    <tr>\n",
              "      <th>0</th>\n",
              "      <td>0.984</td>\n",
              "      <td>loves</td>\n",
              "    </tr>\n",
              "    <tr>\n",
              "      <th>1</th>\n",
              "      <td>0.984</td>\n",
              "      <td>#inspirational</td>\n",
              "    </tr>\n",
              "    <tr>\n",
              "      <th>2</th>\n",
              "      <td>0.969</td>\n",
              "      <td>amazing</td>\n",
              "    </tr>\n",
              "    <tr>\n",
              "      <th>3</th>\n",
              "      <td>0.969</td>\n",
              "      <td>#peaceful</td>\n",
              "    </tr>\n",
              "    <tr>\n",
              "      <th>4</th>\n",
              "      <td>0.953</td>\n",
              "      <td>#greatness</td>\n",
              "    </tr>\n",
              "  </tbody>\n",
              "</table>\n",
              "</div>"
            ],
            "text/plain": [
              "   polarity            word\n",
              "0     0.984           loves\n",
              "1     0.984  #inspirational\n",
              "2     0.969         amazing\n",
              "3     0.969       #peaceful\n",
              "4     0.953      #greatness"
            ]
          },
          "metadata": {
            "tags": []
          },
          "execution_count": 147
        }
      ]
    },
    {
      "metadata": {
        "id": "3gFx_-0pRXcb",
        "colab_type": "code",
        "colab": {}
      },
      "cell_type": "code",
      "source": [
        "twitter_lex_df['vector'] = twitter_lex_df[\"word\"].map(lambda word: wevec_model.wv[word].reshape(1,-1) if word in wevec_model.wv else None)\n",
        "twitter_lex_df = twitter_lex_df[twitter_lex_df.vector.notnull()]\n"
      ],
      "execution_count": 0,
      "outputs": []
    },
    {
      "metadata": {
        "id": "1qhm9PFZRXcd",
        "colab_type": "code",
        "colab": {}
      },
      "cell_type": "code",
      "source": [
        "import numpy as np \n",
        "from sklearn.model_selection import train_test_split\n",
        "train, test = train_test_split(twitter_lex_df, test_size=0.2, random_state=999)\n",
        "X_train = train['vector'].values\n",
        "y_train = train['polarity'].values\n",
        "X_test = test['vector'].values\n",
        "y_test = test['polarity'].values\n",
        "\n",
        "X_train = np.concatenate(X_train).reshape(X_train.shape[0], X_train[0].shape[1])\n",
        "\n",
        "shape = list(X_test[0].shape)\n",
        "X_test = np.concatenate(X_test).reshape(X_test.shape[0],X_test[0].shape[1])"
      ],
      "execution_count": 0,
      "outputs": []
    },
    {
      "metadata": {
        "id": "JTajK9JHRXce",
        "colab_type": "code",
        "colab": {},
        "outputId": "b806c7bb-e05c-4f89-911f-9bcd90020fb3"
      },
      "cell_type": "code",
      "source": [
        "from xgboost import XGBClassifier,XGBRegressor\n",
        "from sklearn.metrics import accuracy_score\n",
        "\n",
        "model = XGBRegressor()\n",
        "model.fit(X_train, y_train)"
      ],
      "execution_count": 0,
      "outputs": [
        {
          "output_type": "execute_result",
          "data": {
            "text/plain": [
              "XGBRegressor(base_score=0.5, booster='gbtree', colsample_bylevel=1,\n",
              "       colsample_bytree=1, gamma=0, learning_rate=0.1, max_delta_step=0,\n",
              "       max_depth=3, min_child_weight=1, missing=None, n_estimators=100,\n",
              "       n_jobs=1, nthread=None, objective='reg:linear', random_state=0,\n",
              "       reg_alpha=0, reg_lambda=1, scale_pos_weight=1, seed=None,\n",
              "       silent=True, subsample=1)"
            ]
          },
          "metadata": {
            "tags": []
          },
          "execution_count": 150
        }
      ]
    },
    {
      "metadata": {
        "id": "A6CXEYhWRXch",
        "colab_type": "code",
        "colab": {},
        "outputId": "b442980d-578f-44e6-ca6d-41a49980d108"
      },
      "cell_type": "code",
      "source": [
        "model.score(X_test, y_test)"
      ],
      "execution_count": 0,
      "outputs": [
        {
          "output_type": "execute_result",
          "data": {
            "text/plain": [
              "0.39736693795996159"
            ]
          },
          "metadata": {
            "tags": []
          },
          "execution_count": 151
        }
      ]
    },
    {
      "metadata": {
        "id": "32oVBSJGRXcl",
        "colab_type": "code",
        "colab": {},
        "outputId": "894efbd0-dfec-475a-fec0-89149edc1631"
      },
      "cell_type": "code",
      "source": [
        "from sklearn.ensemble import RandomForestRegressor\n",
        "regr = RandomForestRegressor(max_depth=3, random_state=999, n_estimators=150, min_samples_leaf=3)\n",
        "regr.fit(X_train, y_train)"
      ],
      "execution_count": 0,
      "outputs": [
        {
          "output_type": "execute_result",
          "data": {
            "text/plain": [
              "RandomForestRegressor(bootstrap=True, criterion='mse', max_depth=3,\n",
              "           max_features='auto', max_leaf_nodes=None,\n",
              "           min_impurity_decrease=0.0, min_impurity_split=None,\n",
              "           min_samples_leaf=3, min_samples_split=2,\n",
              "           min_weight_fraction_leaf=0.0, n_estimators=150, n_jobs=1,\n",
              "           oob_score=False, random_state=999, verbose=0, warm_start=False)"
            ]
          },
          "metadata": {
            "tags": []
          },
          "execution_count": 152
        }
      ]
    },
    {
      "metadata": {
        "id": "XnrL0bUmRXcp",
        "colab_type": "code",
        "colab": {},
        "outputId": "d7035658-fc28-467c-d39e-21e16a0ee80a"
      },
      "cell_type": "code",
      "source": [
        "regr.score(X_test, y_test)"
      ],
      "execution_count": 0,
      "outputs": [
        {
          "output_type": "execute_result",
          "data": {
            "text/plain": [
              "0.21092209047015298"
            ]
          },
          "metadata": {
            "tags": []
          },
          "execution_count": 153
        }
      ]
    },
    {
      "metadata": {
        "id": "tq9k0rF4RXcs",
        "colab_type": "code",
        "colab": {}
      },
      "cell_type": "code",
      "source": [
        "import torch\n",
        "import torch.utils.data as utils_data\n",
        "from torch.autograd import Variable\n",
        "import numpy as np\n",
        "from torch import nn, optim\n",
        "import matplotlib.pyplot as plt"
      ],
      "execution_count": 0,
      "outputs": []
    },
    {
      "metadata": {
        "id": "0ZPQpE1YRXcx",
        "colab_type": "code",
        "colab": {},
        "outputId": "55053ed4-caa9-4a09-df63-8dcf2d35fa3e"
      },
      "cell_type": "code",
      "source": [
        "y = y_train.reshape(-1, 1)\n",
        "yy = y_test.reshape(-1, 1)\n",
        "y.shape"
      ],
      "execution_count": 0,
      "outputs": [
        {
          "output_type": "execute_result",
          "data": {
            "text/plain": [
              "(665, 1)"
            ]
          },
          "metadata": {
            "tags": []
          },
          "execution_count": 155
        }
      ]
    },
    {
      "metadata": {
        "id": "gSZsh-cbRXc1",
        "colab_type": "code",
        "colab": {}
      },
      "cell_type": "code",
      "source": [
        "training_samples = utils_data.TensorDataset(torch.from_numpy(X_train), torch.from_numpy(y))\n",
        "data_loader = utils_data.DataLoader(training_samples, batch_size=5, shuffle=False)\t\n",
        "\n",
        "test_samples = utils_data.TensorDataset(torch.from_numpy(X_test), torch.from_numpy(yy))\n",
        "test_data_loader = utils_data.DataLoader(test_samples, batch_size=len(X_test), shuffle=False)\t\n",
        "test_data_loader_1 = utils_data.DataLoader(test_samples, batch_size=1, shuffle=False)\n"
      ],
      "execution_count": 0,
      "outputs": []
    },
    {
      "metadata": {
        "id": "IMah6XckRXc5",
        "colab_type": "code",
        "colab": {}
      },
      "cell_type": "code",
      "source": [
        ""
      ],
      "execution_count": 0,
      "outputs": []
    },
    {
      "metadata": {
        "id": "4Od1vn9wRXc8",
        "colab_type": "code",
        "colab": {},
        "outputId": "f678a6cf-64b0-4f02-9078-dcf2815d50fd"
      },
      "cell_type": "code",
      "source": [
        "import torch\n",
        "import torch.nn.functional as F\n",
        "import matplotlib.pyplot as plt\n",
        "\n",
        "\n",
        "class Net(torch.nn.Module):\n",
        "    def __init__(self, n_feature, n_hidden, n_output):\n",
        "        super(Net, self).__init__()\n",
        "        self.hidden = torch.nn.Linear(n_feature, n_hidden)   # hidden layer\n",
        "        self.predict = torch.nn.Linear(n_hidden, n_output)   # output layer\n",
        "        self.dropout1 = nn.Dropout(p=0.1)\n",
        "        \n",
        "\n",
        "    def forward(self, x):\n",
        "        x = F.relu(self.hidden(x))      # activation function for hidden layer\n",
        "        x = self.dropout1(x)\n",
        "        x = self.predict(x)             # linear output\n",
        "        return x\n",
        "    \n",
        "net = Net(n_feature=300, n_hidden=20, n_output=1)     # define the network\n",
        "print(net)  # net architecture\n",
        "optimizer = torch.optim.SGD(net.parameters(), lr=0.001)\n",
        "loss_func = torch.nn.MSELoss()  # this is for regression mean squared loss\n",
        "\n",
        "plt.ion()   # something about plotting\n",
        "\n",
        "for t in range(100):\n",
        "    for batch_idx, (data, target) in enumerate(data_loader):\n",
        "  \n",
        "        data, target = Variable(data).float(), Variable(target).float()\n",
        "        optimizer.zero_grad()\n",
        "        prediction = net(data)\n",
        "        loss = loss_func(prediction, target) \n",
        "        \n",
        "        loss.backward() \n",
        "        optimizer.step()\n",
        "        \n",
        "\n",
        "print('score')\n",
        "def score(model, data_loader, criterion):\n",
        "    \n",
        "  running_loss = 0.\n",
        "  calc_count =0.\n",
        "  \n",
        "  model.eval()\n",
        "  \n",
        "  with torch.no_grad():\n",
        "    for images, labels in data_loader:\n",
        "\n",
        "      images = Variable(images)  \n",
        "      labels = Variable(labels)\n",
        "      \n",
        "      outputs = model(images.float())\n",
        "      #(outputs.shape, labels.shape)\n",
        "      loss = criterion(outputs, labels.float())\n",
        "\n",
        "score(net, test_data_loader, loss_func )  "
      ],
      "execution_count": 0,
      "outputs": [
        {
          "output_type": "stream",
          "text": [
            "Net(\n",
            "  (hidden): Linear(in_features=300, out_features=20, bias=True)\n",
            "  (predict): Linear(in_features=20, out_features=1, bias=True)\n",
            "  (dropout1): Dropout(p=0.1)\n",
            ")\n",
            "score\n"
          ],
          "name": "stdout"
        }
      ]
    },
    {
      "metadata": {
        "id": "onaHnQPXRXc-",
        "colab_type": "code",
        "colab": {},
        "outputId": "c35b269e-b5ae-4424-ac56-841b4e070e09"
      },
      "cell_type": "code",
      "source": [
        "net.eval()\n",
        "\n",
        "  \n",
        "with torch.no_grad():\n",
        "    for index, (images, labels) in  enumerate(test_data_loader_1):\n",
        "\n",
        "        images = Variable(images)  \n",
        "        labels = Variable(labels)\n",
        "      \n",
        "        outputs = net(images.float())\n",
        "        print((outputs.data, labels))\n",
        "        \n",
        "       \n",
        "\n",
        "     \n"
      ],
      "execution_count": 0,
      "outputs": [
        {
          "output_type": "stream",
          "text": [
            "(tensor(1.00000e-02 *\n",
            "       [[ 6.5528]]), tensor([[ 0.6560]], dtype=torch.float64))\n",
            "(tensor([[-0.4627]]), tensor([[-0.4530]], dtype=torch.float64))\n",
            "(tensor([[ 0.5221]]), tensor([[ 0.1410]], dtype=torch.float64))\n",
            "(tensor([[ 0.3823]]), tensor([[ 0.5000]], dtype=torch.float64))\n",
            "(tensor([[-0.9572]]), tensor([[-0.7970]], dtype=torch.float64))\n",
            "(tensor(1.00000e-02 *\n",
            "       [[ 2.1191]]), tensor([[ 0.3590]], dtype=torch.float64))\n",
            "(tensor([[ 0.4138]]), tensor([[ 0.7030]], dtype=torch.float64))\n",
            "(tensor(1.00000e-02 *\n",
            "       [[-3.4649]]), tensor([[ 0.3910]], dtype=torch.float64))\n",
            "(tensor([[-0.4100]]), tensor([[-0.8130]], dtype=torch.float64))\n",
            "(tensor([[ 0.5511]]), tensor([[ 0.6880]], dtype=torch.float64))\n",
            "(tensor([[-0.3560]]), tensor([[-0.6410]], dtype=torch.float64))\n",
            "(tensor([[ 0.2243]]), tensor([[ 0.6720]], dtype=torch.float64))\n"
          ],
          "name": "stdout"
        }
      ]
    },
    {
      "metadata": {
        "id": "LZT1RIAyRXdB",
        "colab_type": "code",
        "colab": {}
      },
      "cell_type": "code",
      "source": [
        "model = torch.nn.Sequential(\n",
        "torch.nn.Linear(300, 150),\n",
        "torch.nn.ReLU(),\n",
        "torch.nn.Linear(150, 1),\n",
        ")\n"
      ],
      "execution_count": 0,
      "outputs": []
    },
    {
      "metadata": {
        "id": "r4oCCXA1RXdE",
        "colab_type": "code",
        "colab": {}
      },
      "cell_type": "code",
      "source": [
        "target"
      ],
      "execution_count": 0,
      "outputs": []
    },
    {
      "metadata": {
        "id": "Goi1mSRQRXdG",
        "colab_type": "code",
        "colab": {},
        "outputId": "1ac794c9-c5cc-432c-a326-7123e5bbd3d2"
      },
      "cell_type": "code",
      "source": [
        "model = Net(n_feature=300, n_hidden=10, n_output=1)  \n",
        "criterion = nn.MSELoss()\n",
        "optimizer = optim.Adam(model.parameters())\n",
        "model.train()\n",
        "loss_list = []\n",
        "for epoch in range(200):\n",
        "    for batch_idx, (data, target) in enumerate(data_loader):\n",
        "        data, target = Variable(data), Variable(target)\n",
        "        optimizer.zero_grad()\n",
        "        output = model(data.float())       \n",
        "        loss = criterion(output, target.float())\n",
        "        loss.backward()\n",
        "        optimizer.step()\n",
        "        if epoch >2:\n",
        "            if batch_idx % 200 == 0:\n",
        "                loss_list.append(loss.data[0])\n",
        "        if batch_idx % 800 == 0:\n",
        "            print('Train Epoch: {} [{}/{} ({:.0f}%)]\\tLoss: {:.6f}'.format(\n",
        "            epoch, batch_idx * len(data), len(data_loader.dataset),\n",
        "            100. * batch_idx / len(data_loader), loss.data[0]))\n",
        "\n",
        "print('score')\n",
        "def score(model, data_loader, criterion):\n",
        "    \n",
        "  running_loss = 0.\n",
        "  calc_count =0.\n",
        "  \n",
        "  model.eval()\n",
        "  \n",
        "  with torch.no_grad():\n",
        "    for images, labels in data_loader:\n",
        "\n",
        "      images = Variable(images)  \n",
        "      labels = Variable(labels)\n",
        "      \n",
        "      outputs = model(images.float())\n",
        "      #(outputs.shape, labels.shape)\n",
        "      loss = criterion(outputs, labels.float())\n",
        "      print(loss)\n",
        "\n",
        "score(model, test_data_loader, criterion )        \n",
        "            \n",
        "            \n",
        "            \n",
        "            "
      ],
      "execution_count": 0,
      "outputs": [
        {
          "output_type": "stream",
          "text": [
            "/home/gabib3b/anaconda2/lib/python2.7/site-packages/ipykernel_launcher.py:20: UserWarning: invalid index of a 0-dim tensor. This will be an error in PyTorch 0.5. Use tensor.item() to convert a 0-dim tensor to a Python number\n",
            "/home/gabib3b/anaconda2/lib/python2.7/site-packages/ipykernel_launcher.py:20: UserWarning: invalid index of a 0-dim tensor. This will be an error in PyTorch 0.5. Use tensor.item() to convert a 0-dim tensor to a Python number\n",
            "/home/gabib3b/anaconda2/lib/python2.7/site-packages/ipykernel_launcher.py:20: UserWarning: invalid index of a 0-dim tensor. This will be an error in PyTorch 0.5. Use tensor.item() to convert a 0-dim tensor to a Python number\n",
            "/home/gabib3b/anaconda2/lib/python2.7/site-packages/ipykernel_launcher.py:16: UserWarning: invalid index of a 0-dim tensor. This will be an error in PyTorch 0.5. Use tensor.item() to convert a 0-dim tensor to a Python number\n",
            "  app.launch_new_instance()\n",
            "/home/gabib3b/anaconda2/lib/python2.7/site-packages/ipykernel_launcher.py:20: UserWarning: invalid index of a 0-dim tensor. This will be an error in PyTorch 0.5. Use tensor.item() to convert a 0-dim tensor to a Python number\n"
          ],
          "name": "stderr"
        },
        {
          "output_type": "stream",
          "text": [
            "Train Epoch: 0 [0/665 (0%)]\tLoss: 0.402835\n",
            "Train Epoch: 1 [0/665 (0%)]\tLoss: 0.123204\n",
            "Train Epoch: 2 [0/665 (0%)]\tLoss: 0.077212\n",
            "Train Epoch: 3 [0/665 (0%)]\tLoss: 0.099639\n"
          ],
          "name": "stdout"
        },
        {
          "output_type": "stream",
          "text": [
            "/home/gabib3b/anaconda2/lib/python2.7/site-packages/ipykernel_launcher.py:16: UserWarning: invalid index of a 0-dim tensor. This will be an error in PyTorch 0.5. Use tensor.item() to convert a 0-dim tensor to a Python number\n",
            "  app.launch_new_instance()\n",
            "/home/gabib3b/anaconda2/lib/python2.7/site-packages/ipykernel_launcher.py:20: UserWarning: invalid index of a 0-dim tensor. This will be an error in PyTorch 0.5. Use tensor.item() to convert a 0-dim tensor to a Python number\n",
            "/home/gabib3b/anaconda2/lib/python2.7/site-packages/ipykernel_launcher.py:16: UserWarning: invalid index of a 0-dim tensor. This will be an error in PyTorch 0.5. Use tensor.item() to convert a 0-dim tensor to a Python number\n",
            "  app.launch_new_instance()\n",
            "/home/gabib3b/anaconda2/lib/python2.7/site-packages/ipykernel_launcher.py:20: UserWarning: invalid index of a 0-dim tensor. This will be an error in PyTorch 0.5. Use tensor.item() to convert a 0-dim tensor to a Python number\n",
            "/home/gabib3b/anaconda2/lib/python2.7/site-packages/ipykernel_launcher.py:16: UserWarning: invalid index of a 0-dim tensor. This will be an error in PyTorch 0.5. Use tensor.item() to convert a 0-dim tensor to a Python number\n",
            "  app.launch_new_instance()\n",
            "/home/gabib3b/anaconda2/lib/python2.7/site-packages/ipykernel_launcher.py:20: UserWarning: invalid index of a 0-dim tensor. This will be an error in PyTorch 0.5. Use tensor.item() to convert a 0-dim tensor to a Python number\n",
            "/home/gabib3b/anaconda2/lib/python2.7/site-packages/ipykernel_launcher.py:16: UserWarning: invalid index of a 0-dim tensor. This will be an error in PyTorch 0.5. Use tensor.item() to convert a 0-dim tensor to a Python number\n",
            "  app.launch_new_instance()\n",
            "/home/gabib3b/anaconda2/lib/python2.7/site-packages/ipykernel_launcher.py:20: UserWarning: invalid index of a 0-dim tensor. This will be an error in PyTorch 0.5. Use tensor.item() to convert a 0-dim tensor to a Python number\n"
          ],
          "name": "stderr"
        },
        {
          "output_type": "stream",
          "text": [
            "Train Epoch: 4 [0/665 (0%)]\tLoss: 0.095495\n",
            "Train Epoch: 5 [0/665 (0%)]\tLoss: 0.052913\n",
            "Train Epoch: 6 [0/665 (0%)]\tLoss: 0.048970\n",
            "Train Epoch: 7 [0/665 (0%)]\tLoss: 0.085788\n"
          ],
          "name": "stdout"
        },
        {
          "output_type": "stream",
          "text": [
            "/home/gabib3b/anaconda2/lib/python2.7/site-packages/ipykernel_launcher.py:16: UserWarning: invalid index of a 0-dim tensor. This will be an error in PyTorch 0.5. Use tensor.item() to convert a 0-dim tensor to a Python number\n",
            "  app.launch_new_instance()\n",
            "/home/gabib3b/anaconda2/lib/python2.7/site-packages/ipykernel_launcher.py:20: UserWarning: invalid index of a 0-dim tensor. This will be an error in PyTorch 0.5. Use tensor.item() to convert a 0-dim tensor to a Python number\n",
            "/home/gabib3b/anaconda2/lib/python2.7/site-packages/ipykernel_launcher.py:16: UserWarning: invalid index of a 0-dim tensor. This will be an error in PyTorch 0.5. Use tensor.item() to convert a 0-dim tensor to a Python number\n",
            "  app.launch_new_instance()\n",
            "/home/gabib3b/anaconda2/lib/python2.7/site-packages/ipykernel_launcher.py:20: UserWarning: invalid index of a 0-dim tensor. This will be an error in PyTorch 0.5. Use tensor.item() to convert a 0-dim tensor to a Python number\n",
            "/home/gabib3b/anaconda2/lib/python2.7/site-packages/ipykernel_launcher.py:16: UserWarning: invalid index of a 0-dim tensor. This will be an error in PyTorch 0.5. Use tensor.item() to convert a 0-dim tensor to a Python number\n",
            "  app.launch_new_instance()\n",
            "/home/gabib3b/anaconda2/lib/python2.7/site-packages/ipykernel_launcher.py:20: UserWarning: invalid index of a 0-dim tensor. This will be an error in PyTorch 0.5. Use tensor.item() to convert a 0-dim tensor to a Python number\n",
            "/home/gabib3b/anaconda2/lib/python2.7/site-packages/ipykernel_launcher.py:16: UserWarning: invalid index of a 0-dim tensor. This will be an error in PyTorch 0.5. Use tensor.item() to convert a 0-dim tensor to a Python number\n",
            "  app.launch_new_instance()\n",
            "/home/gabib3b/anaconda2/lib/python2.7/site-packages/ipykernel_launcher.py:20: UserWarning: invalid index of a 0-dim tensor. This will be an error in PyTorch 0.5. Use tensor.item() to convert a 0-dim tensor to a Python number\n"
          ],
          "name": "stderr"
        },
        {
          "output_type": "stream",
          "text": [
            "Train Epoch: 8 [0/665 (0%)]\tLoss: 0.089588\n",
            "Train Epoch: 9 [0/665 (0%)]\tLoss: 0.048897\n",
            "Train Epoch: 10 [0/665 (0%)]\tLoss: 0.077866\n",
            "Train Epoch: 11 [0/665 (0%)]\tLoss: 0.032900\n"
          ],
          "name": "stdout"
        },
        {
          "output_type": "stream",
          "text": [
            "/home/gabib3b/anaconda2/lib/python2.7/site-packages/ipykernel_launcher.py:16: UserWarning: invalid index of a 0-dim tensor. This will be an error in PyTorch 0.5. Use tensor.item() to convert a 0-dim tensor to a Python number\n",
            "  app.launch_new_instance()\n",
            "/home/gabib3b/anaconda2/lib/python2.7/site-packages/ipykernel_launcher.py:20: UserWarning: invalid index of a 0-dim tensor. This will be an error in PyTorch 0.5. Use tensor.item() to convert a 0-dim tensor to a Python number\n",
            "/home/gabib3b/anaconda2/lib/python2.7/site-packages/ipykernel_launcher.py:16: UserWarning: invalid index of a 0-dim tensor. This will be an error in PyTorch 0.5. Use tensor.item() to convert a 0-dim tensor to a Python number\n",
            "  app.launch_new_instance()\n",
            "/home/gabib3b/anaconda2/lib/python2.7/site-packages/ipykernel_launcher.py:20: UserWarning: invalid index of a 0-dim tensor. This will be an error in PyTorch 0.5. Use tensor.item() to convert a 0-dim tensor to a Python number\n",
            "/home/gabib3b/anaconda2/lib/python2.7/site-packages/ipykernel_launcher.py:16: UserWarning: invalid index of a 0-dim tensor. This will be an error in PyTorch 0.5. Use tensor.item() to convert a 0-dim tensor to a Python number\n",
            "  app.launch_new_instance()\n",
            "/home/gabib3b/anaconda2/lib/python2.7/site-packages/ipykernel_launcher.py:20: UserWarning: invalid index of a 0-dim tensor. This will be an error in PyTorch 0.5. Use tensor.item() to convert a 0-dim tensor to a Python number\n",
            "/home/gabib3b/anaconda2/lib/python2.7/site-packages/ipykernel_launcher.py:16: UserWarning: invalid index of a 0-dim tensor. This will be an error in PyTorch 0.5. Use tensor.item() to convert a 0-dim tensor to a Python number\n",
            "  app.launch_new_instance()\n",
            "/home/gabib3b/anaconda2/lib/python2.7/site-packages/ipykernel_launcher.py:20: UserWarning: invalid index of a 0-dim tensor. This will be an error in PyTorch 0.5. Use tensor.item() to convert a 0-dim tensor to a Python number\n"
          ],
          "name": "stderr"
        },
        {
          "output_type": "stream",
          "text": [
            "Train Epoch: 12 [0/665 (0%)]\tLoss: 0.025415\n",
            "Train Epoch: 13 [0/665 (0%)]\tLoss: 0.056053\n",
            "Train Epoch: 14 [0/665 (0%)]\tLoss: 0.105875\n",
            "Train Epoch: 15 [0/665 (0%)]\tLoss: 0.032394\n"
          ],
          "name": "stdout"
        },
        {
          "output_type": "stream",
          "text": [
            "/home/gabib3b/anaconda2/lib/python2.7/site-packages/ipykernel_launcher.py:16: UserWarning: invalid index of a 0-dim tensor. This will be an error in PyTorch 0.5. Use tensor.item() to convert a 0-dim tensor to a Python number\n",
            "  app.launch_new_instance()\n",
            "/home/gabib3b/anaconda2/lib/python2.7/site-packages/ipykernel_launcher.py:20: UserWarning: invalid index of a 0-dim tensor. This will be an error in PyTorch 0.5. Use tensor.item() to convert a 0-dim tensor to a Python number\n",
            "/home/gabib3b/anaconda2/lib/python2.7/site-packages/ipykernel_launcher.py:16: UserWarning: invalid index of a 0-dim tensor. This will be an error in PyTorch 0.5. Use tensor.item() to convert a 0-dim tensor to a Python number\n",
            "  app.launch_new_instance()\n",
            "/home/gabib3b/anaconda2/lib/python2.7/site-packages/ipykernel_launcher.py:20: UserWarning: invalid index of a 0-dim tensor. This will be an error in PyTorch 0.5. Use tensor.item() to convert a 0-dim tensor to a Python number\n",
            "/home/gabib3b/anaconda2/lib/python2.7/site-packages/ipykernel_launcher.py:16: UserWarning: invalid index of a 0-dim tensor. This will be an error in PyTorch 0.5. Use tensor.item() to convert a 0-dim tensor to a Python number\n",
            "  app.launch_new_instance()\n",
            "/home/gabib3b/anaconda2/lib/python2.7/site-packages/ipykernel_launcher.py:20: UserWarning: invalid index of a 0-dim tensor. This will be an error in PyTorch 0.5. Use tensor.item() to convert a 0-dim tensor to a Python number\n",
            "/home/gabib3b/anaconda2/lib/python2.7/site-packages/ipykernel_launcher.py:16: UserWarning: invalid index of a 0-dim tensor. This will be an error in PyTorch 0.5. Use tensor.item() to convert a 0-dim tensor to a Python number\n",
            "  app.launch_new_instance()\n",
            "/home/gabib3b/anaconda2/lib/python2.7/site-packages/ipykernel_launcher.py:20: UserWarning: invalid index of a 0-dim tensor. This will be an error in PyTorch 0.5. Use tensor.item() to convert a 0-dim tensor to a Python number\n"
          ],
          "name": "stderr"
        },
        {
          "output_type": "stream",
          "text": [
            "Train Epoch: 16 [0/665 (0%)]\tLoss: 0.058887\n",
            "Train Epoch: 17 [0/665 (0%)]\tLoss: 0.015493\n",
            "Train Epoch: 18 [0/665 (0%)]\tLoss: 0.012723\n",
            "Train Epoch: 19 [0/665 (0%)]\tLoss: 0.014749\n"
          ],
          "name": "stdout"
        },
        {
          "output_type": "stream",
          "text": [
            "/home/gabib3b/anaconda2/lib/python2.7/site-packages/ipykernel_launcher.py:16: UserWarning: invalid index of a 0-dim tensor. This will be an error in PyTorch 0.5. Use tensor.item() to convert a 0-dim tensor to a Python number\n",
            "  app.launch_new_instance()\n",
            "/home/gabib3b/anaconda2/lib/python2.7/site-packages/ipykernel_launcher.py:20: UserWarning: invalid index of a 0-dim tensor. This will be an error in PyTorch 0.5. Use tensor.item() to convert a 0-dim tensor to a Python number\n",
            "/home/gabib3b/anaconda2/lib/python2.7/site-packages/ipykernel_launcher.py:16: UserWarning: invalid index of a 0-dim tensor. This will be an error in PyTorch 0.5. Use tensor.item() to convert a 0-dim tensor to a Python number\n",
            "  app.launch_new_instance()\n",
            "/home/gabib3b/anaconda2/lib/python2.7/site-packages/ipykernel_launcher.py:20: UserWarning: invalid index of a 0-dim tensor. This will be an error in PyTorch 0.5. Use tensor.item() to convert a 0-dim tensor to a Python number\n",
            "/home/gabib3b/anaconda2/lib/python2.7/site-packages/ipykernel_launcher.py:16: UserWarning: invalid index of a 0-dim tensor. This will be an error in PyTorch 0.5. Use tensor.item() to convert a 0-dim tensor to a Python number\n",
            "  app.launch_new_instance()\n",
            "/home/gabib3b/anaconda2/lib/python2.7/site-packages/ipykernel_launcher.py:20: UserWarning: invalid index of a 0-dim tensor. This will be an error in PyTorch 0.5. Use tensor.item() to convert a 0-dim tensor to a Python number\n",
            "/home/gabib3b/anaconda2/lib/python2.7/site-packages/ipykernel_launcher.py:16: UserWarning: invalid index of a 0-dim tensor. This will be an error in PyTorch 0.5. Use tensor.item() to convert a 0-dim tensor to a Python number\n",
            "  app.launch_new_instance()\n",
            "/home/gabib3b/anaconda2/lib/python2.7/site-packages/ipykernel_launcher.py:20: UserWarning: invalid index of a 0-dim tensor. This will be an error in PyTorch 0.5. Use tensor.item() to convert a 0-dim tensor to a Python number\n"
          ],
          "name": "stderr"
        },
        {
          "output_type": "stream",
          "text": [
            "Train Epoch: 20 [0/665 (0%)]\tLoss: 0.050517\n",
            "Train Epoch: 21 [0/665 (0%)]\tLoss: 0.019446\n",
            "Train Epoch: 22 [0/665 (0%)]\tLoss: 0.010983\n",
            "Train Epoch: 23 [0/665 (0%)]\tLoss: 0.008362\n"
          ],
          "name": "stdout"
        },
        {
          "output_type": "stream",
          "text": [
            "/home/gabib3b/anaconda2/lib/python2.7/site-packages/ipykernel_launcher.py:16: UserWarning: invalid index of a 0-dim tensor. This will be an error in PyTorch 0.5. Use tensor.item() to convert a 0-dim tensor to a Python number\n",
            "  app.launch_new_instance()\n",
            "/home/gabib3b/anaconda2/lib/python2.7/site-packages/ipykernel_launcher.py:20: UserWarning: invalid index of a 0-dim tensor. This will be an error in PyTorch 0.5. Use tensor.item() to convert a 0-dim tensor to a Python number\n",
            "/home/gabib3b/anaconda2/lib/python2.7/site-packages/ipykernel_launcher.py:16: UserWarning: invalid index of a 0-dim tensor. This will be an error in PyTorch 0.5. Use tensor.item() to convert a 0-dim tensor to a Python number\n",
            "  app.launch_new_instance()\n",
            "/home/gabib3b/anaconda2/lib/python2.7/site-packages/ipykernel_launcher.py:20: UserWarning: invalid index of a 0-dim tensor. This will be an error in PyTorch 0.5. Use tensor.item() to convert a 0-dim tensor to a Python number\n",
            "/home/gabib3b/anaconda2/lib/python2.7/site-packages/ipykernel_launcher.py:16: UserWarning: invalid index of a 0-dim tensor. This will be an error in PyTorch 0.5. Use tensor.item() to convert a 0-dim tensor to a Python number\n",
            "  app.launch_new_instance()\n",
            "/home/gabib3b/anaconda2/lib/python2.7/site-packages/ipykernel_launcher.py:20: UserWarning: invalid index of a 0-dim tensor. This will be an error in PyTorch 0.5. Use tensor.item() to convert a 0-dim tensor to a Python number\n",
            "/home/gabib3b/anaconda2/lib/python2.7/site-packages/ipykernel_launcher.py:16: UserWarning: invalid index of a 0-dim tensor. This will be an error in PyTorch 0.5. Use tensor.item() to convert a 0-dim tensor to a Python number\n",
            "  app.launch_new_instance()\n",
            "/home/gabib3b/anaconda2/lib/python2.7/site-packages/ipykernel_launcher.py:20: UserWarning: invalid index of a 0-dim tensor. This will be an error in PyTorch 0.5. Use tensor.item() to convert a 0-dim tensor to a Python number\n"
          ],
          "name": "stderr"
        },
        {
          "output_type": "stream",
          "text": [
            "Train Epoch: 24 [0/665 (0%)]\tLoss: 0.028048\n",
            "Train Epoch: 25 [0/665 (0%)]\tLoss: 0.006614\n",
            "Train Epoch: 26 [0/665 (0%)]\tLoss: 0.021020\n",
            "Train Epoch: 27 [0/665 (0%)]\tLoss: 0.030834\n"
          ],
          "name": "stdout"
        },
        {
          "output_type": "stream",
          "text": [
            "/home/gabib3b/anaconda2/lib/python2.7/site-packages/ipykernel_launcher.py:16: UserWarning: invalid index of a 0-dim tensor. This will be an error in PyTorch 0.5. Use tensor.item() to convert a 0-dim tensor to a Python number\n",
            "  app.launch_new_instance()\n",
            "/home/gabib3b/anaconda2/lib/python2.7/site-packages/ipykernel_launcher.py:20: UserWarning: invalid index of a 0-dim tensor. This will be an error in PyTorch 0.5. Use tensor.item() to convert a 0-dim tensor to a Python number\n",
            "/home/gabib3b/anaconda2/lib/python2.7/site-packages/ipykernel_launcher.py:16: UserWarning: invalid index of a 0-dim tensor. This will be an error in PyTorch 0.5. Use tensor.item() to convert a 0-dim tensor to a Python number\n",
            "  app.launch_new_instance()\n",
            "/home/gabib3b/anaconda2/lib/python2.7/site-packages/ipykernel_launcher.py:20: UserWarning: invalid index of a 0-dim tensor. This will be an error in PyTorch 0.5. Use tensor.item() to convert a 0-dim tensor to a Python number\n",
            "/home/gabib3b/anaconda2/lib/python2.7/site-packages/ipykernel_launcher.py:16: UserWarning: invalid index of a 0-dim tensor. This will be an error in PyTorch 0.5. Use tensor.item() to convert a 0-dim tensor to a Python number\n",
            "  app.launch_new_instance()\n",
            "/home/gabib3b/anaconda2/lib/python2.7/site-packages/ipykernel_launcher.py:20: UserWarning: invalid index of a 0-dim tensor. This will be an error in PyTorch 0.5. Use tensor.item() to convert a 0-dim tensor to a Python number\n",
            "/home/gabib3b/anaconda2/lib/python2.7/site-packages/ipykernel_launcher.py:16: UserWarning: invalid index of a 0-dim tensor. This will be an error in PyTorch 0.5. Use tensor.item() to convert a 0-dim tensor to a Python number\n",
            "  app.launch_new_instance()\n",
            "/home/gabib3b/anaconda2/lib/python2.7/site-packages/ipykernel_launcher.py:20: UserWarning: invalid index of a 0-dim tensor. This will be an error in PyTorch 0.5. Use tensor.item() to convert a 0-dim tensor to a Python number\n"
          ],
          "name": "stderr"
        },
        {
          "output_type": "stream",
          "text": [
            "Train Epoch: 28 [0/665 (0%)]\tLoss: 0.025677\n",
            "Train Epoch: 29 [0/665 (0%)]\tLoss: 0.024732\n",
            "Train Epoch: 30 [0/665 (0%)]\tLoss: 0.011352\n",
            "Train Epoch: 31 [0/665 (0%)]\tLoss: 0.005871\n"
          ],
          "name": "stdout"
        },
        {
          "output_type": "stream",
          "text": [
            "/home/gabib3b/anaconda2/lib/python2.7/site-packages/ipykernel_launcher.py:16: UserWarning: invalid index of a 0-dim tensor. This will be an error in PyTorch 0.5. Use tensor.item() to convert a 0-dim tensor to a Python number\n",
            "  app.launch_new_instance()\n",
            "/home/gabib3b/anaconda2/lib/python2.7/site-packages/ipykernel_launcher.py:20: UserWarning: invalid index of a 0-dim tensor. This will be an error in PyTorch 0.5. Use tensor.item() to convert a 0-dim tensor to a Python number\n",
            "/home/gabib3b/anaconda2/lib/python2.7/site-packages/ipykernel_launcher.py:16: UserWarning: invalid index of a 0-dim tensor. This will be an error in PyTorch 0.5. Use tensor.item() to convert a 0-dim tensor to a Python number\n",
            "  app.launch_new_instance()\n",
            "/home/gabib3b/anaconda2/lib/python2.7/site-packages/ipykernel_launcher.py:20: UserWarning: invalid index of a 0-dim tensor. This will be an error in PyTorch 0.5. Use tensor.item() to convert a 0-dim tensor to a Python number\n",
            "/home/gabib3b/anaconda2/lib/python2.7/site-packages/ipykernel_launcher.py:16: UserWarning: invalid index of a 0-dim tensor. This will be an error in PyTorch 0.5. Use tensor.item() to convert a 0-dim tensor to a Python number\n",
            "  app.launch_new_instance()\n",
            "/home/gabib3b/anaconda2/lib/python2.7/site-packages/ipykernel_launcher.py:20: UserWarning: invalid index of a 0-dim tensor. This will be an error in PyTorch 0.5. Use tensor.item() to convert a 0-dim tensor to a Python number\n",
            "/home/gabib3b/anaconda2/lib/python2.7/site-packages/ipykernel_launcher.py:16: UserWarning: invalid index of a 0-dim tensor. This will be an error in PyTorch 0.5. Use tensor.item() to convert a 0-dim tensor to a Python number\n",
            "  app.launch_new_instance()\n",
            "/home/gabib3b/anaconda2/lib/python2.7/site-packages/ipykernel_launcher.py:20: UserWarning: invalid index of a 0-dim tensor. This will be an error in PyTorch 0.5. Use tensor.item() to convert a 0-dim tensor to a Python number\n"
          ],
          "name": "stderr"
        },
        {
          "output_type": "stream",
          "text": [
            "Train Epoch: 32 [0/665 (0%)]\tLoss: 0.017196\n",
            "Train Epoch: 33 [0/665 (0%)]\tLoss: 0.008764\n",
            "Train Epoch: 34 [0/665 (0%)]\tLoss: 0.018078\n",
            "Train Epoch: 35 [0/665 (0%)]\tLoss: 0.110022\n"
          ],
          "name": "stdout"
        },
        {
          "output_type": "stream",
          "text": [
            "/home/gabib3b/anaconda2/lib/python2.7/site-packages/ipykernel_launcher.py:16: UserWarning: invalid index of a 0-dim tensor. This will be an error in PyTorch 0.5. Use tensor.item() to convert a 0-dim tensor to a Python number\n",
            "  app.launch_new_instance()\n",
            "/home/gabib3b/anaconda2/lib/python2.7/site-packages/ipykernel_launcher.py:20: UserWarning: invalid index of a 0-dim tensor. This will be an error in PyTorch 0.5. Use tensor.item() to convert a 0-dim tensor to a Python number\n",
            "/home/gabib3b/anaconda2/lib/python2.7/site-packages/ipykernel_launcher.py:16: UserWarning: invalid index of a 0-dim tensor. This will be an error in PyTorch 0.5. Use tensor.item() to convert a 0-dim tensor to a Python number\n",
            "  app.launch_new_instance()\n",
            "/home/gabib3b/anaconda2/lib/python2.7/site-packages/ipykernel_launcher.py:20: UserWarning: invalid index of a 0-dim tensor. This will be an error in PyTorch 0.5. Use tensor.item() to convert a 0-dim tensor to a Python number\n",
            "/home/gabib3b/anaconda2/lib/python2.7/site-packages/ipykernel_launcher.py:16: UserWarning: invalid index of a 0-dim tensor. This will be an error in PyTorch 0.5. Use tensor.item() to convert a 0-dim tensor to a Python number\n",
            "  app.launch_new_instance()\n",
            "/home/gabib3b/anaconda2/lib/python2.7/site-packages/ipykernel_launcher.py:20: UserWarning: invalid index of a 0-dim tensor. This will be an error in PyTorch 0.5. Use tensor.item() to convert a 0-dim tensor to a Python number\n",
            "/home/gabib3b/anaconda2/lib/python2.7/site-packages/ipykernel_launcher.py:16: UserWarning: invalid index of a 0-dim tensor. This will be an error in PyTorch 0.5. Use tensor.item() to convert a 0-dim tensor to a Python number\n",
            "  app.launch_new_instance()\n",
            "/home/gabib3b/anaconda2/lib/python2.7/site-packages/ipykernel_launcher.py:20: UserWarning: invalid index of a 0-dim tensor. This will be an error in PyTorch 0.5. Use tensor.item() to convert a 0-dim tensor to a Python number\n"
          ],
          "name": "stderr"
        },
        {
          "output_type": "stream",
          "text": [
            "Train Epoch: 36 [0/665 (0%)]\tLoss: 0.014823\n",
            "Train Epoch: 37 [0/665 (0%)]\tLoss: 0.090969\n",
            "Train Epoch: 38 [0/665 (0%)]\tLoss: 0.024522\n",
            "Train Epoch: 39 [0/665 (0%)]\tLoss: 0.020069\n"
          ],
          "name": "stdout"
        },
        {
          "output_type": "stream",
          "text": [
            "/home/gabib3b/anaconda2/lib/python2.7/site-packages/ipykernel_launcher.py:16: UserWarning: invalid index of a 0-dim tensor. This will be an error in PyTorch 0.5. Use tensor.item() to convert a 0-dim tensor to a Python number\n",
            "  app.launch_new_instance()\n",
            "/home/gabib3b/anaconda2/lib/python2.7/site-packages/ipykernel_launcher.py:20: UserWarning: invalid index of a 0-dim tensor. This will be an error in PyTorch 0.5. Use tensor.item() to convert a 0-dim tensor to a Python number\n",
            "/home/gabib3b/anaconda2/lib/python2.7/site-packages/ipykernel_launcher.py:16: UserWarning: invalid index of a 0-dim tensor. This will be an error in PyTorch 0.5. Use tensor.item() to convert a 0-dim tensor to a Python number\n",
            "  app.launch_new_instance()\n",
            "/home/gabib3b/anaconda2/lib/python2.7/site-packages/ipykernel_launcher.py:20: UserWarning: invalid index of a 0-dim tensor. This will be an error in PyTorch 0.5. Use tensor.item() to convert a 0-dim tensor to a Python number\n",
            "/home/gabib3b/anaconda2/lib/python2.7/site-packages/ipykernel_launcher.py:16: UserWarning: invalid index of a 0-dim tensor. This will be an error in PyTorch 0.5. Use tensor.item() to convert a 0-dim tensor to a Python number\n",
            "  app.launch_new_instance()\n",
            "/home/gabib3b/anaconda2/lib/python2.7/site-packages/ipykernel_launcher.py:20: UserWarning: invalid index of a 0-dim tensor. This will be an error in PyTorch 0.5. Use tensor.item() to convert a 0-dim tensor to a Python number\n",
            "/home/gabib3b/anaconda2/lib/python2.7/site-packages/ipykernel_launcher.py:16: UserWarning: invalid index of a 0-dim tensor. This will be an error in PyTorch 0.5. Use tensor.item() to convert a 0-dim tensor to a Python number\n",
            "  app.launch_new_instance()\n",
            "/home/gabib3b/anaconda2/lib/python2.7/site-packages/ipykernel_launcher.py:20: UserWarning: invalid index of a 0-dim tensor. This will be an error in PyTorch 0.5. Use tensor.item() to convert a 0-dim tensor to a Python number\n"
          ],
          "name": "stderr"
        },
        {
          "output_type": "stream",
          "text": [
            "Train Epoch: 40 [0/665 (0%)]\tLoss: 0.005234\n",
            "Train Epoch: 41 [0/665 (0%)]\tLoss: 0.028146\n",
            "Train Epoch: 42 [0/665 (0%)]\tLoss: 0.011213\n",
            "Train Epoch: 43 [0/665 (0%)]\tLoss: 0.059577\n"
          ],
          "name": "stdout"
        },
        {
          "output_type": "stream",
          "text": [
            "/home/gabib3b/anaconda2/lib/python2.7/site-packages/ipykernel_launcher.py:16: UserWarning: invalid index of a 0-dim tensor. This will be an error in PyTorch 0.5. Use tensor.item() to convert a 0-dim tensor to a Python number\n",
            "  app.launch_new_instance()\n",
            "/home/gabib3b/anaconda2/lib/python2.7/site-packages/ipykernel_launcher.py:20: UserWarning: invalid index of a 0-dim tensor. This will be an error in PyTorch 0.5. Use tensor.item() to convert a 0-dim tensor to a Python number\n",
            "/home/gabib3b/anaconda2/lib/python2.7/site-packages/ipykernel_launcher.py:16: UserWarning: invalid index of a 0-dim tensor. This will be an error in PyTorch 0.5. Use tensor.item() to convert a 0-dim tensor to a Python number\n",
            "  app.launch_new_instance()\n",
            "/home/gabib3b/anaconda2/lib/python2.7/site-packages/ipykernel_launcher.py:20: UserWarning: invalid index of a 0-dim tensor. This will be an error in PyTorch 0.5. Use tensor.item() to convert a 0-dim tensor to a Python number\n",
            "/home/gabib3b/anaconda2/lib/python2.7/site-packages/ipykernel_launcher.py:16: UserWarning: invalid index of a 0-dim tensor. This will be an error in PyTorch 0.5. Use tensor.item() to convert a 0-dim tensor to a Python number\n",
            "  app.launch_new_instance()\n",
            "/home/gabib3b/anaconda2/lib/python2.7/site-packages/ipykernel_launcher.py:20: UserWarning: invalid index of a 0-dim tensor. This will be an error in PyTorch 0.5. Use tensor.item() to convert a 0-dim tensor to a Python number\n",
            "/home/gabib3b/anaconda2/lib/python2.7/site-packages/ipykernel_launcher.py:16: UserWarning: invalid index of a 0-dim tensor. This will be an error in PyTorch 0.5. Use tensor.item() to convert a 0-dim tensor to a Python number\n",
            "  app.launch_new_instance()\n",
            "/home/gabib3b/anaconda2/lib/python2.7/site-packages/ipykernel_launcher.py:20: UserWarning: invalid index of a 0-dim tensor. This will be an error in PyTorch 0.5. Use tensor.item() to convert a 0-dim tensor to a Python number\n",
            "/home/gabib3b/anaconda2/lib/python2.7/site-packages/ipykernel_launcher.py:16: UserWarning: invalid index of a 0-dim tensor. This will be an error in PyTorch 0.5. Use tensor.item() to convert a 0-dim tensor to a Python number\n",
            "  app.launch_new_instance()\n",
            "/home/gabib3b/anaconda2/lib/python2.7/site-packages/ipykernel_launcher.py:20: UserWarning: invalid index of a 0-dim tensor. This will be an error in PyTorch 0.5. Use tensor.item() to convert a 0-dim tensor to a Python number\n"
          ],
          "name": "stderr"
        },
        {
          "output_type": "stream",
          "text": [
            "Train Epoch: 44 [0/665 (0%)]\tLoss: 0.014742\n",
            "Train Epoch: 45 [0/665 (0%)]\tLoss: 0.011355\n",
            "Train Epoch: 46 [0/665 (0%)]\tLoss: 0.066657\n",
            "Train Epoch: 47 [0/665 (0%)]\tLoss: 0.014173\n",
            "Train Epoch: 48 [0/665 (0%)]\tLoss: 0.008560\n"
          ],
          "name": "stdout"
        },
        {
          "output_type": "stream",
          "text": [
            "/home/gabib3b/anaconda2/lib/python2.7/site-packages/ipykernel_launcher.py:16: UserWarning: invalid index of a 0-dim tensor. This will be an error in PyTorch 0.5. Use tensor.item() to convert a 0-dim tensor to a Python number\n",
            "  app.launch_new_instance()\n",
            "/home/gabib3b/anaconda2/lib/python2.7/site-packages/ipykernel_launcher.py:20: UserWarning: invalid index of a 0-dim tensor. This will be an error in PyTorch 0.5. Use tensor.item() to convert a 0-dim tensor to a Python number\n",
            "/home/gabib3b/anaconda2/lib/python2.7/site-packages/ipykernel_launcher.py:16: UserWarning: invalid index of a 0-dim tensor. This will be an error in PyTorch 0.5. Use tensor.item() to convert a 0-dim tensor to a Python number\n",
            "  app.launch_new_instance()\n",
            "/home/gabib3b/anaconda2/lib/python2.7/site-packages/ipykernel_launcher.py:20: UserWarning: invalid index of a 0-dim tensor. This will be an error in PyTorch 0.5. Use tensor.item() to convert a 0-dim tensor to a Python number\n",
            "/home/gabib3b/anaconda2/lib/python2.7/site-packages/ipykernel_launcher.py:16: UserWarning: invalid index of a 0-dim tensor. This will be an error in PyTorch 0.5. Use tensor.item() to convert a 0-dim tensor to a Python number\n",
            "  app.launch_new_instance()\n",
            "/home/gabib3b/anaconda2/lib/python2.7/site-packages/ipykernel_launcher.py:20: UserWarning: invalid index of a 0-dim tensor. This will be an error in PyTorch 0.5. Use tensor.item() to convert a 0-dim tensor to a Python number\n",
            "/home/gabib3b/anaconda2/lib/python2.7/site-packages/ipykernel_launcher.py:16: UserWarning: invalid index of a 0-dim tensor. This will be an error in PyTorch 0.5. Use tensor.item() to convert a 0-dim tensor to a Python number\n",
            "  app.launch_new_instance()\n",
            "/home/gabib3b/anaconda2/lib/python2.7/site-packages/ipykernel_launcher.py:20: UserWarning: invalid index of a 0-dim tensor. This will be an error in PyTorch 0.5. Use tensor.item() to convert a 0-dim tensor to a Python number\n"
          ],
          "name": "stderr"
        },
        {
          "output_type": "stream",
          "text": [
            "Train Epoch: 49 [0/665 (0%)]\tLoss: 0.036724\n",
            "Train Epoch: 50 [0/665 (0%)]\tLoss: 0.074386\n",
            "Train Epoch: 51 [0/665 (0%)]\tLoss: 0.005370\n",
            "Train Epoch: 52 [0/665 (0%)]\tLoss: 0.021551\n"
          ],
          "name": "stdout"
        },
        {
          "output_type": "stream",
          "text": [
            "/home/gabib3b/anaconda2/lib/python2.7/site-packages/ipykernel_launcher.py:16: UserWarning: invalid index of a 0-dim tensor. This will be an error in PyTorch 0.5. Use tensor.item() to convert a 0-dim tensor to a Python number\n",
            "  app.launch_new_instance()\n",
            "/home/gabib3b/anaconda2/lib/python2.7/site-packages/ipykernel_launcher.py:20: UserWarning: invalid index of a 0-dim tensor. This will be an error in PyTorch 0.5. Use tensor.item() to convert a 0-dim tensor to a Python number\n",
            "/home/gabib3b/anaconda2/lib/python2.7/site-packages/ipykernel_launcher.py:16: UserWarning: invalid index of a 0-dim tensor. This will be an error in PyTorch 0.5. Use tensor.item() to convert a 0-dim tensor to a Python number\n",
            "  app.launch_new_instance()\n",
            "/home/gabib3b/anaconda2/lib/python2.7/site-packages/ipykernel_launcher.py:20: UserWarning: invalid index of a 0-dim tensor. This will be an error in PyTorch 0.5. Use tensor.item() to convert a 0-dim tensor to a Python number\n",
            "/home/gabib3b/anaconda2/lib/python2.7/site-packages/ipykernel_launcher.py:16: UserWarning: invalid index of a 0-dim tensor. This will be an error in PyTorch 0.5. Use tensor.item() to convert a 0-dim tensor to a Python number\n",
            "  app.launch_new_instance()\n",
            "/home/gabib3b/anaconda2/lib/python2.7/site-packages/ipykernel_launcher.py:20: UserWarning: invalid index of a 0-dim tensor. This will be an error in PyTorch 0.5. Use tensor.item() to convert a 0-dim tensor to a Python number\n",
            "/home/gabib3b/anaconda2/lib/python2.7/site-packages/ipykernel_launcher.py:16: UserWarning: invalid index of a 0-dim tensor. This will be an error in PyTorch 0.5. Use tensor.item() to convert a 0-dim tensor to a Python number\n",
            "  app.launch_new_instance()\n",
            "/home/gabib3b/anaconda2/lib/python2.7/site-packages/ipykernel_launcher.py:20: UserWarning: invalid index of a 0-dim tensor. This will be an error in PyTorch 0.5. Use tensor.item() to convert a 0-dim tensor to a Python number\n"
          ],
          "name": "stderr"
        },
        {
          "output_type": "stream",
          "text": [
            "Train Epoch: 53 [0/665 (0%)]\tLoss: 0.035960\n",
            "Train Epoch: 54 [0/665 (0%)]\tLoss: 0.032906\n",
            "Train Epoch: 55 [0/665 (0%)]\tLoss: 0.055422\n",
            "Train Epoch: 56 [0/665 (0%)]\tLoss: 0.004038\n"
          ],
          "name": "stdout"
        },
        {
          "output_type": "stream",
          "text": [
            "/home/gabib3b/anaconda2/lib/python2.7/site-packages/ipykernel_launcher.py:16: UserWarning: invalid index of a 0-dim tensor. This will be an error in PyTorch 0.5. Use tensor.item() to convert a 0-dim tensor to a Python number\n",
            "  app.launch_new_instance()\n",
            "/home/gabib3b/anaconda2/lib/python2.7/site-packages/ipykernel_launcher.py:20: UserWarning: invalid index of a 0-dim tensor. This will be an error in PyTorch 0.5. Use tensor.item() to convert a 0-dim tensor to a Python number\n",
            "/home/gabib3b/anaconda2/lib/python2.7/site-packages/ipykernel_launcher.py:16: UserWarning: invalid index of a 0-dim tensor. This will be an error in PyTorch 0.5. Use tensor.item() to convert a 0-dim tensor to a Python number\n",
            "  app.launch_new_instance()\n",
            "/home/gabib3b/anaconda2/lib/python2.7/site-packages/ipykernel_launcher.py:20: UserWarning: invalid index of a 0-dim tensor. This will be an error in PyTorch 0.5. Use tensor.item() to convert a 0-dim tensor to a Python number\n",
            "/home/gabib3b/anaconda2/lib/python2.7/site-packages/ipykernel_launcher.py:16: UserWarning: invalid index of a 0-dim tensor. This will be an error in PyTorch 0.5. Use tensor.item() to convert a 0-dim tensor to a Python number\n",
            "  app.launch_new_instance()\n",
            "/home/gabib3b/anaconda2/lib/python2.7/site-packages/ipykernel_launcher.py:20: UserWarning: invalid index of a 0-dim tensor. This will be an error in PyTorch 0.5. Use tensor.item() to convert a 0-dim tensor to a Python number\n",
            "/home/gabib3b/anaconda2/lib/python2.7/site-packages/ipykernel_launcher.py:16: UserWarning: invalid index of a 0-dim tensor. This will be an error in PyTorch 0.5. Use tensor.item() to convert a 0-dim tensor to a Python number\n",
            "  app.launch_new_instance()\n",
            "/home/gabib3b/anaconda2/lib/python2.7/site-packages/ipykernel_launcher.py:20: UserWarning: invalid index of a 0-dim tensor. This will be an error in PyTorch 0.5. Use tensor.item() to convert a 0-dim tensor to a Python number\n"
          ],
          "name": "stderr"
        },
        {
          "output_type": "stream",
          "text": [
            "Train Epoch: 57 [0/665 (0%)]\tLoss: 0.021101\n",
            "Train Epoch: 58 [0/665 (0%)]\tLoss: 0.018065\n",
            "Train Epoch: 59 [0/665 (0%)]\tLoss: 0.020524\n",
            "Train Epoch: 60 [0/665 (0%)]\tLoss: 0.054835\n"
          ],
          "name": "stdout"
        },
        {
          "output_type": "stream",
          "text": [
            "/home/gabib3b/anaconda2/lib/python2.7/site-packages/ipykernel_launcher.py:16: UserWarning: invalid index of a 0-dim tensor. This will be an error in PyTorch 0.5. Use tensor.item() to convert a 0-dim tensor to a Python number\n",
            "  app.launch_new_instance()\n",
            "/home/gabib3b/anaconda2/lib/python2.7/site-packages/ipykernel_launcher.py:20: UserWarning: invalid index of a 0-dim tensor. This will be an error in PyTorch 0.5. Use tensor.item() to convert a 0-dim tensor to a Python number\n",
            "/home/gabib3b/anaconda2/lib/python2.7/site-packages/ipykernel_launcher.py:16: UserWarning: invalid index of a 0-dim tensor. This will be an error in PyTorch 0.5. Use tensor.item() to convert a 0-dim tensor to a Python number\n",
            "  app.launch_new_instance()\n",
            "/home/gabib3b/anaconda2/lib/python2.7/site-packages/ipykernel_launcher.py:20: UserWarning: invalid index of a 0-dim tensor. This will be an error in PyTorch 0.5. Use tensor.item() to convert a 0-dim tensor to a Python number\n",
            "/home/gabib3b/anaconda2/lib/python2.7/site-packages/ipykernel_launcher.py:16: UserWarning: invalid index of a 0-dim tensor. This will be an error in PyTorch 0.5. Use tensor.item() to convert a 0-dim tensor to a Python number\n",
            "  app.launch_new_instance()\n",
            "/home/gabib3b/anaconda2/lib/python2.7/site-packages/ipykernel_launcher.py:20: UserWarning: invalid index of a 0-dim tensor. This will be an error in PyTorch 0.5. Use tensor.item() to convert a 0-dim tensor to a Python number\n",
            "/home/gabib3b/anaconda2/lib/python2.7/site-packages/ipykernel_launcher.py:16: UserWarning: invalid index of a 0-dim tensor. This will be an error in PyTorch 0.5. Use tensor.item() to convert a 0-dim tensor to a Python number\n",
            "  app.launch_new_instance()\n",
            "/home/gabib3b/anaconda2/lib/python2.7/site-packages/ipykernel_launcher.py:20: UserWarning: invalid index of a 0-dim tensor. This will be an error in PyTorch 0.5. Use tensor.item() to convert a 0-dim tensor to a Python number\n"
          ],
          "name": "stderr"
        },
        {
          "output_type": "stream",
          "text": [
            "Train Epoch: 61 [0/665 (0%)]\tLoss: 0.054576\n",
            "Train Epoch: 62 [0/665 (0%)]\tLoss: 0.010134\n",
            "Train Epoch: 63 [0/665 (0%)]\tLoss: 0.090162\n",
            "Train Epoch: 64 [0/665 (0%)]\tLoss: 0.011824\n"
          ],
          "name": "stdout"
        },
        {
          "output_type": "stream",
          "text": [
            "/home/gabib3b/anaconda2/lib/python2.7/site-packages/ipykernel_launcher.py:16: UserWarning: invalid index of a 0-dim tensor. This will be an error in PyTorch 0.5. Use tensor.item() to convert a 0-dim tensor to a Python number\n",
            "  app.launch_new_instance()\n",
            "/home/gabib3b/anaconda2/lib/python2.7/site-packages/ipykernel_launcher.py:20: UserWarning: invalid index of a 0-dim tensor. This will be an error in PyTorch 0.5. Use tensor.item() to convert a 0-dim tensor to a Python number\n",
            "/home/gabib3b/anaconda2/lib/python2.7/site-packages/ipykernel_launcher.py:16: UserWarning: invalid index of a 0-dim tensor. This will be an error in PyTorch 0.5. Use tensor.item() to convert a 0-dim tensor to a Python number\n",
            "  app.launch_new_instance()\n",
            "/home/gabib3b/anaconda2/lib/python2.7/site-packages/ipykernel_launcher.py:20: UserWarning: invalid index of a 0-dim tensor. This will be an error in PyTorch 0.5. Use tensor.item() to convert a 0-dim tensor to a Python number\n",
            "/home/gabib3b/anaconda2/lib/python2.7/site-packages/ipykernel_launcher.py:16: UserWarning: invalid index of a 0-dim tensor. This will be an error in PyTorch 0.5. Use tensor.item() to convert a 0-dim tensor to a Python number\n",
            "  app.launch_new_instance()\n",
            "/home/gabib3b/anaconda2/lib/python2.7/site-packages/ipykernel_launcher.py:20: UserWarning: invalid index of a 0-dim tensor. This will be an error in PyTorch 0.5. Use tensor.item() to convert a 0-dim tensor to a Python number\n",
            "/home/gabib3b/anaconda2/lib/python2.7/site-packages/ipykernel_launcher.py:16: UserWarning: invalid index of a 0-dim tensor. This will be an error in PyTorch 0.5. Use tensor.item() to convert a 0-dim tensor to a Python number\n",
            "  app.launch_new_instance()\n",
            "/home/gabib3b/anaconda2/lib/python2.7/site-packages/ipykernel_launcher.py:20: UserWarning: invalid index of a 0-dim tensor. This will be an error in PyTorch 0.5. Use tensor.item() to convert a 0-dim tensor to a Python number\n"
          ],
          "name": "stderr"
        },
        {
          "output_type": "stream",
          "text": [
            "Train Epoch: 65 [0/665 (0%)]\tLoss: 0.046363\n",
            "Train Epoch: 66 [0/665 (0%)]\tLoss: 0.002171\n",
            "Train Epoch: 67 [0/665 (0%)]\tLoss: 0.016770\n",
            "Train Epoch: 68 [0/665 (0%)]\tLoss: 0.026235\n"
          ],
          "name": "stdout"
        },
        {
          "output_type": "stream",
          "text": [
            "/home/gabib3b/anaconda2/lib/python2.7/site-packages/ipykernel_launcher.py:16: UserWarning: invalid index of a 0-dim tensor. This will be an error in PyTorch 0.5. Use tensor.item() to convert a 0-dim tensor to a Python number\n",
            "  app.launch_new_instance()\n",
            "/home/gabib3b/anaconda2/lib/python2.7/site-packages/ipykernel_launcher.py:20: UserWarning: invalid index of a 0-dim tensor. This will be an error in PyTorch 0.5. Use tensor.item() to convert a 0-dim tensor to a Python number\n",
            "/home/gabib3b/anaconda2/lib/python2.7/site-packages/ipykernel_launcher.py:16: UserWarning: invalid index of a 0-dim tensor. This will be an error in PyTorch 0.5. Use tensor.item() to convert a 0-dim tensor to a Python number\n",
            "  app.launch_new_instance()\n",
            "/home/gabib3b/anaconda2/lib/python2.7/site-packages/ipykernel_launcher.py:20: UserWarning: invalid index of a 0-dim tensor. This will be an error in PyTorch 0.5. Use tensor.item() to convert a 0-dim tensor to a Python number\n",
            "/home/gabib3b/anaconda2/lib/python2.7/site-packages/ipykernel_launcher.py:16: UserWarning: invalid index of a 0-dim tensor. This will be an error in PyTorch 0.5. Use tensor.item() to convert a 0-dim tensor to a Python number\n",
            "  app.launch_new_instance()\n",
            "/home/gabib3b/anaconda2/lib/python2.7/site-packages/ipykernel_launcher.py:20: UserWarning: invalid index of a 0-dim tensor. This will be an error in PyTorch 0.5. Use tensor.item() to convert a 0-dim tensor to a Python number\n"
          ],
          "name": "stderr"
        },
        {
          "output_type": "stream",
          "text": [
            "Train Epoch: 69 [0/665 (0%)]\tLoss: 0.026007\n",
            "Train Epoch: 70 [0/665 (0%)]\tLoss: 0.004980\n",
            "Train Epoch: 71 [0/665 (0%)]\tLoss: 0.005728\n"
          ],
          "name": "stdout"
        },
        {
          "output_type": "stream",
          "text": [
            "/home/gabib3b/anaconda2/lib/python2.7/site-packages/ipykernel_launcher.py:16: UserWarning: invalid index of a 0-dim tensor. This will be an error in PyTorch 0.5. Use tensor.item() to convert a 0-dim tensor to a Python number\n",
            "  app.launch_new_instance()\n",
            "/home/gabib3b/anaconda2/lib/python2.7/site-packages/ipykernel_launcher.py:20: UserWarning: invalid index of a 0-dim tensor. This will be an error in PyTorch 0.5. Use tensor.item() to convert a 0-dim tensor to a Python number\n",
            "/home/gabib3b/anaconda2/lib/python2.7/site-packages/ipykernel_launcher.py:16: UserWarning: invalid index of a 0-dim tensor. This will be an error in PyTorch 0.5. Use tensor.item() to convert a 0-dim tensor to a Python number\n",
            "  app.launch_new_instance()\n",
            "/home/gabib3b/anaconda2/lib/python2.7/site-packages/ipykernel_launcher.py:20: UserWarning: invalid index of a 0-dim tensor. This will be an error in PyTorch 0.5. Use tensor.item() to convert a 0-dim tensor to a Python number\n",
            "/home/gabib3b/anaconda2/lib/python2.7/site-packages/ipykernel_launcher.py:16: UserWarning: invalid index of a 0-dim tensor. This will be an error in PyTorch 0.5. Use tensor.item() to convert a 0-dim tensor to a Python number\n",
            "  app.launch_new_instance()\n",
            "/home/gabib3b/anaconda2/lib/python2.7/site-packages/ipykernel_launcher.py:20: UserWarning: invalid index of a 0-dim tensor. This will be an error in PyTorch 0.5. Use tensor.item() to convert a 0-dim tensor to a Python number\n",
            "/home/gabib3b/anaconda2/lib/python2.7/site-packages/ipykernel_launcher.py:16: UserWarning: invalid index of a 0-dim tensor. This will be an error in PyTorch 0.5. Use tensor.item() to convert a 0-dim tensor to a Python number\n",
            "  app.launch_new_instance()\n",
            "/home/gabib3b/anaconda2/lib/python2.7/site-packages/ipykernel_launcher.py:20: UserWarning: invalid index of a 0-dim tensor. This will be an error in PyTorch 0.5. Use tensor.item() to convert a 0-dim tensor to a Python number\n"
          ],
          "name": "stderr"
        },
        {
          "output_type": "stream",
          "text": [
            "Train Epoch: 72 [0/665 (0%)]\tLoss: 0.043401\n",
            "Train Epoch: 73 [0/665 (0%)]\tLoss: 0.007032\n",
            "Train Epoch: 74 [0/665 (0%)]\tLoss: 0.014161\n",
            "Train Epoch: 75 [0/665 (0%)]\tLoss: 0.058148\n"
          ],
          "name": "stdout"
        },
        {
          "output_type": "stream",
          "text": [
            "/home/gabib3b/anaconda2/lib/python2.7/site-packages/ipykernel_launcher.py:16: UserWarning: invalid index of a 0-dim tensor. This will be an error in PyTorch 0.5. Use tensor.item() to convert a 0-dim tensor to a Python number\n",
            "  app.launch_new_instance()\n",
            "/home/gabib3b/anaconda2/lib/python2.7/site-packages/ipykernel_launcher.py:20: UserWarning: invalid index of a 0-dim tensor. This will be an error in PyTorch 0.5. Use tensor.item() to convert a 0-dim tensor to a Python number\n",
            "/home/gabib3b/anaconda2/lib/python2.7/site-packages/ipykernel_launcher.py:16: UserWarning: invalid index of a 0-dim tensor. This will be an error in PyTorch 0.5. Use tensor.item() to convert a 0-dim tensor to a Python number\n",
            "  app.launch_new_instance()\n",
            "/home/gabib3b/anaconda2/lib/python2.7/site-packages/ipykernel_launcher.py:20: UserWarning: invalid index of a 0-dim tensor. This will be an error in PyTorch 0.5. Use tensor.item() to convert a 0-dim tensor to a Python number\n",
            "/home/gabib3b/anaconda2/lib/python2.7/site-packages/ipykernel_launcher.py:16: UserWarning: invalid index of a 0-dim tensor. This will be an error in PyTorch 0.5. Use tensor.item() to convert a 0-dim tensor to a Python number\n",
            "  app.launch_new_instance()\n",
            "/home/gabib3b/anaconda2/lib/python2.7/site-packages/ipykernel_launcher.py:20: UserWarning: invalid index of a 0-dim tensor. This will be an error in PyTorch 0.5. Use tensor.item() to convert a 0-dim tensor to a Python number\n",
            "/home/gabib3b/anaconda2/lib/python2.7/site-packages/ipykernel_launcher.py:16: UserWarning: invalid index of a 0-dim tensor. This will be an error in PyTorch 0.5. Use tensor.item() to convert a 0-dim tensor to a Python number\n",
            "  app.launch_new_instance()\n",
            "/home/gabib3b/anaconda2/lib/python2.7/site-packages/ipykernel_launcher.py:20: UserWarning: invalid index of a 0-dim tensor. This will be an error in PyTorch 0.5. Use tensor.item() to convert a 0-dim tensor to a Python number\n"
          ],
          "name": "stderr"
        },
        {
          "output_type": "stream",
          "text": [
            "Train Epoch: 76 [0/665 (0%)]\tLoss: 0.033053\n",
            "Train Epoch: 77 [0/665 (0%)]\tLoss: 0.005218\n",
            "Train Epoch: 78 [0/665 (0%)]\tLoss: 0.011828\n",
            "Train Epoch: 79 [0/665 (0%)]\tLoss: 0.011675\n"
          ],
          "name": "stdout"
        },
        {
          "output_type": "stream",
          "text": [
            "/home/gabib3b/anaconda2/lib/python2.7/site-packages/ipykernel_launcher.py:16: UserWarning: invalid index of a 0-dim tensor. This will be an error in PyTorch 0.5. Use tensor.item() to convert a 0-dim tensor to a Python number\n",
            "  app.launch_new_instance()\n",
            "/home/gabib3b/anaconda2/lib/python2.7/site-packages/ipykernel_launcher.py:20: UserWarning: invalid index of a 0-dim tensor. This will be an error in PyTorch 0.5. Use tensor.item() to convert a 0-dim tensor to a Python number\n",
            "/home/gabib3b/anaconda2/lib/python2.7/site-packages/ipykernel_launcher.py:16: UserWarning: invalid index of a 0-dim tensor. This will be an error in PyTorch 0.5. Use tensor.item() to convert a 0-dim tensor to a Python number\n",
            "  app.launch_new_instance()\n",
            "/home/gabib3b/anaconda2/lib/python2.7/site-packages/ipykernel_launcher.py:20: UserWarning: invalid index of a 0-dim tensor. This will be an error in PyTorch 0.5. Use tensor.item() to convert a 0-dim tensor to a Python number\n",
            "/home/gabib3b/anaconda2/lib/python2.7/site-packages/ipykernel_launcher.py:16: UserWarning: invalid index of a 0-dim tensor. This will be an error in PyTorch 0.5. Use tensor.item() to convert a 0-dim tensor to a Python number\n",
            "  app.launch_new_instance()\n",
            "/home/gabib3b/anaconda2/lib/python2.7/site-packages/ipykernel_launcher.py:20: UserWarning: invalid index of a 0-dim tensor. This will be an error in PyTorch 0.5. Use tensor.item() to convert a 0-dim tensor to a Python number\n",
            "/home/gabib3b/anaconda2/lib/python2.7/site-packages/ipykernel_launcher.py:16: UserWarning: invalid index of a 0-dim tensor. This will be an error in PyTorch 0.5. Use tensor.item() to convert a 0-dim tensor to a Python number\n",
            "  app.launch_new_instance()\n",
            "/home/gabib3b/anaconda2/lib/python2.7/site-packages/ipykernel_launcher.py:20: UserWarning: invalid index of a 0-dim tensor. This will be an error in PyTorch 0.5. Use tensor.item() to convert a 0-dim tensor to a Python number\n"
          ],
          "name": "stderr"
        },
        {
          "output_type": "stream",
          "text": [
            "Train Epoch: 80 [0/665 (0%)]\tLoss: 0.007108\n",
            "Train Epoch: 81 [0/665 (0%)]\tLoss: 0.013352\n",
            "Train Epoch: 82 [0/665 (0%)]\tLoss: 0.009844\n",
            "Train Epoch: 83 [0/665 (0%)]\tLoss: 0.003736\n"
          ],
          "name": "stdout"
        },
        {
          "output_type": "stream",
          "text": [
            "/home/gabib3b/anaconda2/lib/python2.7/site-packages/ipykernel_launcher.py:16: UserWarning: invalid index of a 0-dim tensor. This will be an error in PyTorch 0.5. Use tensor.item() to convert a 0-dim tensor to a Python number\n",
            "  app.launch_new_instance()\n",
            "/home/gabib3b/anaconda2/lib/python2.7/site-packages/ipykernel_launcher.py:20: UserWarning: invalid index of a 0-dim tensor. This will be an error in PyTorch 0.5. Use tensor.item() to convert a 0-dim tensor to a Python number\n",
            "/home/gabib3b/anaconda2/lib/python2.7/site-packages/ipykernel_launcher.py:16: UserWarning: invalid index of a 0-dim tensor. This will be an error in PyTorch 0.5. Use tensor.item() to convert a 0-dim tensor to a Python number\n",
            "  app.launch_new_instance()\n",
            "/home/gabib3b/anaconda2/lib/python2.7/site-packages/ipykernel_launcher.py:20: UserWarning: invalid index of a 0-dim tensor. This will be an error in PyTorch 0.5. Use tensor.item() to convert a 0-dim tensor to a Python number\n",
            "/home/gabib3b/anaconda2/lib/python2.7/site-packages/ipykernel_launcher.py:16: UserWarning: invalid index of a 0-dim tensor. This will be an error in PyTorch 0.5. Use tensor.item() to convert a 0-dim tensor to a Python number\n",
            "  app.launch_new_instance()\n",
            "/home/gabib3b/anaconda2/lib/python2.7/site-packages/ipykernel_launcher.py:20: UserWarning: invalid index of a 0-dim tensor. This will be an error in PyTorch 0.5. Use tensor.item() to convert a 0-dim tensor to a Python number\n",
            "/home/gabib3b/anaconda2/lib/python2.7/site-packages/ipykernel_launcher.py:16: UserWarning: invalid index of a 0-dim tensor. This will be an error in PyTorch 0.5. Use tensor.item() to convert a 0-dim tensor to a Python number\n",
            "  app.launch_new_instance()\n",
            "/home/gabib3b/anaconda2/lib/python2.7/site-packages/ipykernel_launcher.py:20: UserWarning: invalid index of a 0-dim tensor. This will be an error in PyTorch 0.5. Use tensor.item() to convert a 0-dim tensor to a Python number\n"
          ],
          "name": "stderr"
        },
        {
          "output_type": "stream",
          "text": [
            "Train Epoch: 84 [0/665 (0%)]\tLoss: 0.004382\n",
            "Train Epoch: 85 [0/665 (0%)]\tLoss: 0.003928\n",
            "Train Epoch: 86 [0/665 (0%)]\tLoss: 0.005785\n",
            "Train Epoch: 87 [0/665 (0%)]\tLoss: 0.012346\n"
          ],
          "name": "stdout"
        },
        {
          "output_type": "stream",
          "text": [
            "/home/gabib3b/anaconda2/lib/python2.7/site-packages/ipykernel_launcher.py:16: UserWarning: invalid index of a 0-dim tensor. This will be an error in PyTorch 0.5. Use tensor.item() to convert a 0-dim tensor to a Python number\n",
            "  app.launch_new_instance()\n",
            "/home/gabib3b/anaconda2/lib/python2.7/site-packages/ipykernel_launcher.py:20: UserWarning: invalid index of a 0-dim tensor. This will be an error in PyTorch 0.5. Use tensor.item() to convert a 0-dim tensor to a Python number\n",
            "/home/gabib3b/anaconda2/lib/python2.7/site-packages/ipykernel_launcher.py:16: UserWarning: invalid index of a 0-dim tensor. This will be an error in PyTorch 0.5. Use tensor.item() to convert a 0-dim tensor to a Python number\n",
            "  app.launch_new_instance()\n",
            "/home/gabib3b/anaconda2/lib/python2.7/site-packages/ipykernel_launcher.py:20: UserWarning: invalid index of a 0-dim tensor. This will be an error in PyTorch 0.5. Use tensor.item() to convert a 0-dim tensor to a Python number\n",
            "/home/gabib3b/anaconda2/lib/python2.7/site-packages/ipykernel_launcher.py:16: UserWarning: invalid index of a 0-dim tensor. This will be an error in PyTorch 0.5. Use tensor.item() to convert a 0-dim tensor to a Python number\n",
            "  app.launch_new_instance()\n",
            "/home/gabib3b/anaconda2/lib/python2.7/site-packages/ipykernel_launcher.py:20: UserWarning: invalid index of a 0-dim tensor. This will be an error in PyTorch 0.5. Use tensor.item() to convert a 0-dim tensor to a Python number\n",
            "/home/gabib3b/anaconda2/lib/python2.7/site-packages/ipykernel_launcher.py:16: UserWarning: invalid index of a 0-dim tensor. This will be an error in PyTorch 0.5. Use tensor.item() to convert a 0-dim tensor to a Python number\n",
            "  app.launch_new_instance()\n",
            "/home/gabib3b/anaconda2/lib/python2.7/site-packages/ipykernel_launcher.py:20: UserWarning: invalid index of a 0-dim tensor. This will be an error in PyTorch 0.5. Use tensor.item() to convert a 0-dim tensor to a Python number\n"
          ],
          "name": "stderr"
        },
        {
          "output_type": "stream",
          "text": [
            "Train Epoch: 88 [0/665 (0%)]\tLoss: 0.044927\n",
            "Train Epoch: 89 [0/665 (0%)]\tLoss: 0.007507\n",
            "Train Epoch: 90 [0/665 (0%)]\tLoss: 0.014237\n",
            "Train Epoch: 91 [0/665 (0%)]\tLoss: 0.072788\n"
          ],
          "name": "stdout"
        },
        {
          "output_type": "stream",
          "text": [
            "/home/gabib3b/anaconda2/lib/python2.7/site-packages/ipykernel_launcher.py:16: UserWarning: invalid index of a 0-dim tensor. This will be an error in PyTorch 0.5. Use tensor.item() to convert a 0-dim tensor to a Python number\n",
            "  app.launch_new_instance()\n",
            "/home/gabib3b/anaconda2/lib/python2.7/site-packages/ipykernel_launcher.py:20: UserWarning: invalid index of a 0-dim tensor. This will be an error in PyTorch 0.5. Use tensor.item() to convert a 0-dim tensor to a Python number\n",
            "/home/gabib3b/anaconda2/lib/python2.7/site-packages/ipykernel_launcher.py:16: UserWarning: invalid index of a 0-dim tensor. This will be an error in PyTorch 0.5. Use tensor.item() to convert a 0-dim tensor to a Python number\n",
            "  app.launch_new_instance()\n",
            "/home/gabib3b/anaconda2/lib/python2.7/site-packages/ipykernel_launcher.py:20: UserWarning: invalid index of a 0-dim tensor. This will be an error in PyTorch 0.5. Use tensor.item() to convert a 0-dim tensor to a Python number\n",
            "/home/gabib3b/anaconda2/lib/python2.7/site-packages/ipykernel_launcher.py:16: UserWarning: invalid index of a 0-dim tensor. This will be an error in PyTorch 0.5. Use tensor.item() to convert a 0-dim tensor to a Python number\n",
            "  app.launch_new_instance()\n",
            "/home/gabib3b/anaconda2/lib/python2.7/site-packages/ipykernel_launcher.py:20: UserWarning: invalid index of a 0-dim tensor. This will be an error in PyTorch 0.5. Use tensor.item() to convert a 0-dim tensor to a Python number\n",
            "/home/gabib3b/anaconda2/lib/python2.7/site-packages/ipykernel_launcher.py:16: UserWarning: invalid index of a 0-dim tensor. This will be an error in PyTorch 0.5. Use tensor.item() to convert a 0-dim tensor to a Python number\n",
            "  app.launch_new_instance()\n",
            "/home/gabib3b/anaconda2/lib/python2.7/site-packages/ipykernel_launcher.py:20: UserWarning: invalid index of a 0-dim tensor. This will be an error in PyTorch 0.5. Use tensor.item() to convert a 0-dim tensor to a Python number\n"
          ],
          "name": "stderr"
        },
        {
          "output_type": "stream",
          "text": [
            "Train Epoch: 92 [0/665 (0%)]\tLoss: 0.012438\n",
            "Train Epoch: 93 [0/665 (0%)]\tLoss: 0.013803\n",
            "Train Epoch: 94 [0/665 (0%)]\tLoss: 0.009906\n",
            "Train Epoch: 95 [0/665 (0%)]\tLoss: 0.002905\n"
          ],
          "name": "stdout"
        },
        {
          "output_type": "stream",
          "text": [
            "/home/gabib3b/anaconda2/lib/python2.7/site-packages/ipykernel_launcher.py:16: UserWarning: invalid index of a 0-dim tensor. This will be an error in PyTorch 0.5. Use tensor.item() to convert a 0-dim tensor to a Python number\n",
            "  app.launch_new_instance()\n",
            "/home/gabib3b/anaconda2/lib/python2.7/site-packages/ipykernel_launcher.py:20: UserWarning: invalid index of a 0-dim tensor. This will be an error in PyTorch 0.5. Use tensor.item() to convert a 0-dim tensor to a Python number\n",
            "/home/gabib3b/anaconda2/lib/python2.7/site-packages/ipykernel_launcher.py:16: UserWarning: invalid index of a 0-dim tensor. This will be an error in PyTorch 0.5. Use tensor.item() to convert a 0-dim tensor to a Python number\n",
            "  app.launch_new_instance()\n",
            "/home/gabib3b/anaconda2/lib/python2.7/site-packages/ipykernel_launcher.py:20: UserWarning: invalid index of a 0-dim tensor. This will be an error in PyTorch 0.5. Use tensor.item() to convert a 0-dim tensor to a Python number\n",
            "/home/gabib3b/anaconda2/lib/python2.7/site-packages/ipykernel_launcher.py:16: UserWarning: invalid index of a 0-dim tensor. This will be an error in PyTorch 0.5. Use tensor.item() to convert a 0-dim tensor to a Python number\n",
            "  app.launch_new_instance()\n",
            "/home/gabib3b/anaconda2/lib/python2.7/site-packages/ipykernel_launcher.py:20: UserWarning: invalid index of a 0-dim tensor. This will be an error in PyTorch 0.5. Use tensor.item() to convert a 0-dim tensor to a Python number\n",
            "/home/gabib3b/anaconda2/lib/python2.7/site-packages/ipykernel_launcher.py:16: UserWarning: invalid index of a 0-dim tensor. This will be an error in PyTorch 0.5. Use tensor.item() to convert a 0-dim tensor to a Python number\n",
            "  app.launch_new_instance()\n",
            "/home/gabib3b/anaconda2/lib/python2.7/site-packages/ipykernel_launcher.py:20: UserWarning: invalid index of a 0-dim tensor. This will be an error in PyTorch 0.5. Use tensor.item() to convert a 0-dim tensor to a Python number\n"
          ],
          "name": "stderr"
        },
        {
          "output_type": "stream",
          "text": [
            "Train Epoch: 96 [0/665 (0%)]\tLoss: 0.003729\n",
            "Train Epoch: 97 [0/665 (0%)]\tLoss: 0.057733\n",
            "Train Epoch: 98 [0/665 (0%)]\tLoss: 0.045039\n",
            "Train Epoch: 99 [0/665 (0%)]\tLoss: 0.009934\n"
          ],
          "name": "stdout"
        },
        {
          "output_type": "stream",
          "text": [
            "/home/gabib3b/anaconda2/lib/python2.7/site-packages/ipykernel_launcher.py:16: UserWarning: invalid index of a 0-dim tensor. This will be an error in PyTorch 0.5. Use tensor.item() to convert a 0-dim tensor to a Python number\n",
            "  app.launch_new_instance()\n",
            "/home/gabib3b/anaconda2/lib/python2.7/site-packages/ipykernel_launcher.py:20: UserWarning: invalid index of a 0-dim tensor. This will be an error in PyTorch 0.5. Use tensor.item() to convert a 0-dim tensor to a Python number\n",
            "/home/gabib3b/anaconda2/lib/python2.7/site-packages/ipykernel_launcher.py:16: UserWarning: invalid index of a 0-dim tensor. This will be an error in PyTorch 0.5. Use tensor.item() to convert a 0-dim tensor to a Python number\n",
            "  app.launch_new_instance()\n",
            "/home/gabib3b/anaconda2/lib/python2.7/site-packages/ipykernel_launcher.py:20: UserWarning: invalid index of a 0-dim tensor. This will be an error in PyTorch 0.5. Use tensor.item() to convert a 0-dim tensor to a Python number\n",
            "/home/gabib3b/anaconda2/lib/python2.7/site-packages/ipykernel_launcher.py:16: UserWarning: invalid index of a 0-dim tensor. This will be an error in PyTorch 0.5. Use tensor.item() to convert a 0-dim tensor to a Python number\n",
            "  app.launch_new_instance()\n",
            "/home/gabib3b/anaconda2/lib/python2.7/site-packages/ipykernel_launcher.py:20: UserWarning: invalid index of a 0-dim tensor. This will be an error in PyTorch 0.5. Use tensor.item() to convert a 0-dim tensor to a Python number\n",
            "/home/gabib3b/anaconda2/lib/python2.7/site-packages/ipykernel_launcher.py:16: UserWarning: invalid index of a 0-dim tensor. This will be an error in PyTorch 0.5. Use tensor.item() to convert a 0-dim tensor to a Python number\n",
            "  app.launch_new_instance()\n",
            "/home/gabib3b/anaconda2/lib/python2.7/site-packages/ipykernel_launcher.py:20: UserWarning: invalid index of a 0-dim tensor. This will be an error in PyTorch 0.5. Use tensor.item() to convert a 0-dim tensor to a Python number\n"
          ],
          "name": "stderr"
        },
        {
          "output_type": "stream",
          "text": [
            "Train Epoch: 100 [0/665 (0%)]\tLoss: 0.005818\n",
            "Train Epoch: 101 [0/665 (0%)]\tLoss: 0.005548\n",
            "Train Epoch: 102 [0/665 (0%)]\tLoss: 0.021369\n",
            "Train Epoch: 103 [0/665 (0%)]\tLoss: 0.010321\n"
          ],
          "name": "stdout"
        },
        {
          "output_type": "stream",
          "text": [
            "/home/gabib3b/anaconda2/lib/python2.7/site-packages/ipykernel_launcher.py:16: UserWarning: invalid index of a 0-dim tensor. This will be an error in PyTorch 0.5. Use tensor.item() to convert a 0-dim tensor to a Python number\n",
            "  app.launch_new_instance()\n",
            "/home/gabib3b/anaconda2/lib/python2.7/site-packages/ipykernel_launcher.py:20: UserWarning: invalid index of a 0-dim tensor. This will be an error in PyTorch 0.5. Use tensor.item() to convert a 0-dim tensor to a Python number\n",
            "/home/gabib3b/anaconda2/lib/python2.7/site-packages/ipykernel_launcher.py:16: UserWarning: invalid index of a 0-dim tensor. This will be an error in PyTorch 0.5. Use tensor.item() to convert a 0-dim tensor to a Python number\n",
            "  app.launch_new_instance()\n",
            "/home/gabib3b/anaconda2/lib/python2.7/site-packages/ipykernel_launcher.py:20: UserWarning: invalid index of a 0-dim tensor. This will be an error in PyTorch 0.5. Use tensor.item() to convert a 0-dim tensor to a Python number\n",
            "/home/gabib3b/anaconda2/lib/python2.7/site-packages/ipykernel_launcher.py:16: UserWarning: invalid index of a 0-dim tensor. This will be an error in PyTorch 0.5. Use tensor.item() to convert a 0-dim tensor to a Python number\n",
            "  app.launch_new_instance()\n",
            "/home/gabib3b/anaconda2/lib/python2.7/site-packages/ipykernel_launcher.py:20: UserWarning: invalid index of a 0-dim tensor. This will be an error in PyTorch 0.5. Use tensor.item() to convert a 0-dim tensor to a Python number\n",
            "/home/gabib3b/anaconda2/lib/python2.7/site-packages/ipykernel_launcher.py:16: UserWarning: invalid index of a 0-dim tensor. This will be an error in PyTorch 0.5. Use tensor.item() to convert a 0-dim tensor to a Python number\n",
            "  app.launch_new_instance()\n",
            "/home/gabib3b/anaconda2/lib/python2.7/site-packages/ipykernel_launcher.py:20: UserWarning: invalid index of a 0-dim tensor. This will be an error in PyTorch 0.5. Use tensor.item() to convert a 0-dim tensor to a Python number\n"
          ],
          "name": "stderr"
        },
        {
          "output_type": "stream",
          "text": [
            "Train Epoch: 104 [0/665 (0%)]\tLoss: 0.014408\n",
            "Train Epoch: 105 [0/665 (0%)]\tLoss: 0.022549\n",
            "Train Epoch: 106 [0/665 (0%)]\tLoss: 0.004429\n",
            "Train Epoch: 107 [0/665 (0%)]\tLoss: 0.007189\n"
          ],
          "name": "stdout"
        },
        {
          "output_type": "stream",
          "text": [
            "/home/gabib3b/anaconda2/lib/python2.7/site-packages/ipykernel_launcher.py:16: UserWarning: invalid index of a 0-dim tensor. This will be an error in PyTorch 0.5. Use tensor.item() to convert a 0-dim tensor to a Python number\n",
            "  app.launch_new_instance()\n",
            "/home/gabib3b/anaconda2/lib/python2.7/site-packages/ipykernel_launcher.py:20: UserWarning: invalid index of a 0-dim tensor. This will be an error in PyTorch 0.5. Use tensor.item() to convert a 0-dim tensor to a Python number\n",
            "/home/gabib3b/anaconda2/lib/python2.7/site-packages/ipykernel_launcher.py:16: UserWarning: invalid index of a 0-dim tensor. This will be an error in PyTorch 0.5. Use tensor.item() to convert a 0-dim tensor to a Python number\n",
            "  app.launch_new_instance()\n",
            "/home/gabib3b/anaconda2/lib/python2.7/site-packages/ipykernel_launcher.py:20: UserWarning: invalid index of a 0-dim tensor. This will be an error in PyTorch 0.5. Use tensor.item() to convert a 0-dim tensor to a Python number\n",
            "/home/gabib3b/anaconda2/lib/python2.7/site-packages/ipykernel_launcher.py:16: UserWarning: invalid index of a 0-dim tensor. This will be an error in PyTorch 0.5. Use tensor.item() to convert a 0-dim tensor to a Python number\n",
            "  app.launch_new_instance()\n",
            "/home/gabib3b/anaconda2/lib/python2.7/site-packages/ipykernel_launcher.py:20: UserWarning: invalid index of a 0-dim tensor. This will be an error in PyTorch 0.5. Use tensor.item() to convert a 0-dim tensor to a Python number\n",
            "/home/gabib3b/anaconda2/lib/python2.7/site-packages/ipykernel_launcher.py:16: UserWarning: invalid index of a 0-dim tensor. This will be an error in PyTorch 0.5. Use tensor.item() to convert a 0-dim tensor to a Python number\n",
            "  app.launch_new_instance()\n",
            "/home/gabib3b/anaconda2/lib/python2.7/site-packages/ipykernel_launcher.py:20: UserWarning: invalid index of a 0-dim tensor. This will be an error in PyTorch 0.5. Use tensor.item() to convert a 0-dim tensor to a Python number\n"
          ],
          "name": "stderr"
        },
        {
          "output_type": "stream",
          "text": [
            "Train Epoch: 108 [0/665 (0%)]\tLoss: 0.043567\n",
            "Train Epoch: 109 [0/665 (0%)]\tLoss: 0.020611\n",
            "Train Epoch: 110 [0/665 (0%)]\tLoss: 0.060360\n",
            "Train Epoch: 111 [0/665 (0%)]\tLoss: 0.027848\n"
          ],
          "name": "stdout"
        },
        {
          "output_type": "stream",
          "text": [
            "/home/gabib3b/anaconda2/lib/python2.7/site-packages/ipykernel_launcher.py:16: UserWarning: invalid index of a 0-dim tensor. This will be an error in PyTorch 0.5. Use tensor.item() to convert a 0-dim tensor to a Python number\n",
            "  app.launch_new_instance()\n",
            "/home/gabib3b/anaconda2/lib/python2.7/site-packages/ipykernel_launcher.py:20: UserWarning: invalid index of a 0-dim tensor. This will be an error in PyTorch 0.5. Use tensor.item() to convert a 0-dim tensor to a Python number\n",
            "/home/gabib3b/anaconda2/lib/python2.7/site-packages/ipykernel_launcher.py:16: UserWarning: invalid index of a 0-dim tensor. This will be an error in PyTorch 0.5. Use tensor.item() to convert a 0-dim tensor to a Python number\n",
            "  app.launch_new_instance()\n",
            "/home/gabib3b/anaconda2/lib/python2.7/site-packages/ipykernel_launcher.py:20: UserWarning: invalid index of a 0-dim tensor. This will be an error in PyTorch 0.5. Use tensor.item() to convert a 0-dim tensor to a Python number\n",
            "/home/gabib3b/anaconda2/lib/python2.7/site-packages/ipykernel_launcher.py:16: UserWarning: invalid index of a 0-dim tensor. This will be an error in PyTorch 0.5. Use tensor.item() to convert a 0-dim tensor to a Python number\n",
            "  app.launch_new_instance()\n",
            "/home/gabib3b/anaconda2/lib/python2.7/site-packages/ipykernel_launcher.py:20: UserWarning: invalid index of a 0-dim tensor. This will be an error in PyTorch 0.5. Use tensor.item() to convert a 0-dim tensor to a Python number\n",
            "/home/gabib3b/anaconda2/lib/python2.7/site-packages/ipykernel_launcher.py:16: UserWarning: invalid index of a 0-dim tensor. This will be an error in PyTorch 0.5. Use tensor.item() to convert a 0-dim tensor to a Python number\n",
            "  app.launch_new_instance()\n",
            "/home/gabib3b/anaconda2/lib/python2.7/site-packages/ipykernel_launcher.py:20: UserWarning: invalid index of a 0-dim tensor. This will be an error in PyTorch 0.5. Use tensor.item() to convert a 0-dim tensor to a Python number\n"
          ],
          "name": "stderr"
        },
        {
          "output_type": "stream",
          "text": [
            "Train Epoch: 112 [0/665 (0%)]\tLoss: 0.004897\n",
            "Train Epoch: 113 [0/665 (0%)]\tLoss: 0.018230\n",
            "Train Epoch: 114 [0/665 (0%)]\tLoss: 0.006301\n",
            "Train Epoch: 115 [0/665 (0%)]\tLoss: 0.006853\n"
          ],
          "name": "stdout"
        },
        {
          "output_type": "stream",
          "text": [
            "/home/gabib3b/anaconda2/lib/python2.7/site-packages/ipykernel_launcher.py:16: UserWarning: invalid index of a 0-dim tensor. This will be an error in PyTorch 0.5. Use tensor.item() to convert a 0-dim tensor to a Python number\n",
            "  app.launch_new_instance()\n",
            "/home/gabib3b/anaconda2/lib/python2.7/site-packages/ipykernel_launcher.py:20: UserWarning: invalid index of a 0-dim tensor. This will be an error in PyTorch 0.5. Use tensor.item() to convert a 0-dim tensor to a Python number\n",
            "/home/gabib3b/anaconda2/lib/python2.7/site-packages/ipykernel_launcher.py:16: UserWarning: invalid index of a 0-dim tensor. This will be an error in PyTorch 0.5. Use tensor.item() to convert a 0-dim tensor to a Python number\n",
            "  app.launch_new_instance()\n",
            "/home/gabib3b/anaconda2/lib/python2.7/site-packages/ipykernel_launcher.py:20: UserWarning: invalid index of a 0-dim tensor. This will be an error in PyTorch 0.5. Use tensor.item() to convert a 0-dim tensor to a Python number\n",
            "/home/gabib3b/anaconda2/lib/python2.7/site-packages/ipykernel_launcher.py:16: UserWarning: invalid index of a 0-dim tensor. This will be an error in PyTorch 0.5. Use tensor.item() to convert a 0-dim tensor to a Python number\n",
            "  app.launch_new_instance()\n",
            "/home/gabib3b/anaconda2/lib/python2.7/site-packages/ipykernel_launcher.py:20: UserWarning: invalid index of a 0-dim tensor. This will be an error in PyTorch 0.5. Use tensor.item() to convert a 0-dim tensor to a Python number\n",
            "/home/gabib3b/anaconda2/lib/python2.7/site-packages/ipykernel_launcher.py:16: UserWarning: invalid index of a 0-dim tensor. This will be an error in PyTorch 0.5. Use tensor.item() to convert a 0-dim tensor to a Python number\n",
            "  app.launch_new_instance()\n",
            "/home/gabib3b/anaconda2/lib/python2.7/site-packages/ipykernel_launcher.py:20: UserWarning: invalid index of a 0-dim tensor. This will be an error in PyTorch 0.5. Use tensor.item() to convert a 0-dim tensor to a Python number\n"
          ],
          "name": "stderr"
        },
        {
          "output_type": "stream",
          "text": [
            "Train Epoch: 116 [0/665 (0%)]\tLoss: 0.008657\n",
            "Train Epoch: 117 [0/665 (0%)]\tLoss: 0.013001\n",
            "Train Epoch: 118 [0/665 (0%)]\tLoss: 0.016988\n",
            "Train Epoch: 119 [0/665 (0%)]\tLoss: 0.011542\n"
          ],
          "name": "stdout"
        },
        {
          "output_type": "stream",
          "text": [
            "/home/gabib3b/anaconda2/lib/python2.7/site-packages/ipykernel_launcher.py:16: UserWarning: invalid index of a 0-dim tensor. This will be an error in PyTorch 0.5. Use tensor.item() to convert a 0-dim tensor to a Python number\n",
            "  app.launch_new_instance()\n",
            "/home/gabib3b/anaconda2/lib/python2.7/site-packages/ipykernel_launcher.py:20: UserWarning: invalid index of a 0-dim tensor. This will be an error in PyTorch 0.5. Use tensor.item() to convert a 0-dim tensor to a Python number\n",
            "/home/gabib3b/anaconda2/lib/python2.7/site-packages/ipykernel_launcher.py:16: UserWarning: invalid index of a 0-dim tensor. This will be an error in PyTorch 0.5. Use tensor.item() to convert a 0-dim tensor to a Python number\n",
            "  app.launch_new_instance()\n",
            "/home/gabib3b/anaconda2/lib/python2.7/site-packages/ipykernel_launcher.py:20: UserWarning: invalid index of a 0-dim tensor. This will be an error in PyTorch 0.5. Use tensor.item() to convert a 0-dim tensor to a Python number\n",
            "/home/gabib3b/anaconda2/lib/python2.7/site-packages/ipykernel_launcher.py:16: UserWarning: invalid index of a 0-dim tensor. This will be an error in PyTorch 0.5. Use tensor.item() to convert a 0-dim tensor to a Python number\n",
            "  app.launch_new_instance()\n",
            "/home/gabib3b/anaconda2/lib/python2.7/site-packages/ipykernel_launcher.py:20: UserWarning: invalid index of a 0-dim tensor. This will be an error in PyTorch 0.5. Use tensor.item() to convert a 0-dim tensor to a Python number\n",
            "/home/gabib3b/anaconda2/lib/python2.7/site-packages/ipykernel_launcher.py:16: UserWarning: invalid index of a 0-dim tensor. This will be an error in PyTorch 0.5. Use tensor.item() to convert a 0-dim tensor to a Python number\n",
            "  app.launch_new_instance()\n",
            "/home/gabib3b/anaconda2/lib/python2.7/site-packages/ipykernel_launcher.py:20: UserWarning: invalid index of a 0-dim tensor. This will be an error in PyTorch 0.5. Use tensor.item() to convert a 0-dim tensor to a Python number\n"
          ],
          "name": "stderr"
        },
        {
          "output_type": "stream",
          "text": [
            "Train Epoch: 120 [0/665 (0%)]\tLoss: 0.017906\n",
            "Train Epoch: 121 [0/665 (0%)]\tLoss: 0.010506\n",
            "Train Epoch: 122 [0/665 (0%)]\tLoss: 0.006771\n",
            "Train Epoch: 123 [0/665 (0%)]\tLoss: 0.049986\n"
          ],
          "name": "stdout"
        },
        {
          "output_type": "stream",
          "text": [
            "/home/gabib3b/anaconda2/lib/python2.7/site-packages/ipykernel_launcher.py:16: UserWarning: invalid index of a 0-dim tensor. This will be an error in PyTorch 0.5. Use tensor.item() to convert a 0-dim tensor to a Python number\n",
            "  app.launch_new_instance()\n",
            "/home/gabib3b/anaconda2/lib/python2.7/site-packages/ipykernel_launcher.py:20: UserWarning: invalid index of a 0-dim tensor. This will be an error in PyTorch 0.5. Use tensor.item() to convert a 0-dim tensor to a Python number\n",
            "/home/gabib3b/anaconda2/lib/python2.7/site-packages/ipykernel_launcher.py:16: UserWarning: invalid index of a 0-dim tensor. This will be an error in PyTorch 0.5. Use tensor.item() to convert a 0-dim tensor to a Python number\n",
            "  app.launch_new_instance()\n",
            "/home/gabib3b/anaconda2/lib/python2.7/site-packages/ipykernel_launcher.py:20: UserWarning: invalid index of a 0-dim tensor. This will be an error in PyTorch 0.5. Use tensor.item() to convert a 0-dim tensor to a Python number\n",
            "/home/gabib3b/anaconda2/lib/python2.7/site-packages/ipykernel_launcher.py:16: UserWarning: invalid index of a 0-dim tensor. This will be an error in PyTorch 0.5. Use tensor.item() to convert a 0-dim tensor to a Python number\n",
            "  app.launch_new_instance()\n",
            "/home/gabib3b/anaconda2/lib/python2.7/site-packages/ipykernel_launcher.py:20: UserWarning: invalid index of a 0-dim tensor. This will be an error in PyTorch 0.5. Use tensor.item() to convert a 0-dim tensor to a Python number\n",
            "/home/gabib3b/anaconda2/lib/python2.7/site-packages/ipykernel_launcher.py:16: UserWarning: invalid index of a 0-dim tensor. This will be an error in PyTorch 0.5. Use tensor.item() to convert a 0-dim tensor to a Python number\n",
            "  app.launch_new_instance()\n",
            "/home/gabib3b/anaconda2/lib/python2.7/site-packages/ipykernel_launcher.py:20: UserWarning: invalid index of a 0-dim tensor. This will be an error in PyTorch 0.5. Use tensor.item() to convert a 0-dim tensor to a Python number\n"
          ],
          "name": "stderr"
        },
        {
          "output_type": "stream",
          "text": [
            "Train Epoch: 124 [0/665 (0%)]\tLoss: 0.059112\n",
            "Train Epoch: 125 [0/665 (0%)]\tLoss: 0.008960\n",
            "Train Epoch: 126 [0/665 (0%)]\tLoss: 0.010652\n",
            "Train Epoch: 127 [0/665 (0%)]\tLoss: 0.037025\n"
          ],
          "name": "stdout"
        },
        {
          "output_type": "stream",
          "text": [
            "/home/gabib3b/anaconda2/lib/python2.7/site-packages/ipykernel_launcher.py:16: UserWarning: invalid index of a 0-dim tensor. This will be an error in PyTorch 0.5. Use tensor.item() to convert a 0-dim tensor to a Python number\n",
            "  app.launch_new_instance()\n",
            "/home/gabib3b/anaconda2/lib/python2.7/site-packages/ipykernel_launcher.py:20: UserWarning: invalid index of a 0-dim tensor. This will be an error in PyTorch 0.5. Use tensor.item() to convert a 0-dim tensor to a Python number\n",
            "/home/gabib3b/anaconda2/lib/python2.7/site-packages/ipykernel_launcher.py:16: UserWarning: invalid index of a 0-dim tensor. This will be an error in PyTorch 0.5. Use tensor.item() to convert a 0-dim tensor to a Python number\n",
            "  app.launch_new_instance()\n",
            "/home/gabib3b/anaconda2/lib/python2.7/site-packages/ipykernel_launcher.py:20: UserWarning: invalid index of a 0-dim tensor. This will be an error in PyTorch 0.5. Use tensor.item() to convert a 0-dim tensor to a Python number\n",
            "/home/gabib3b/anaconda2/lib/python2.7/site-packages/ipykernel_launcher.py:16: UserWarning: invalid index of a 0-dim tensor. This will be an error in PyTorch 0.5. Use tensor.item() to convert a 0-dim tensor to a Python number\n",
            "  app.launch_new_instance()\n",
            "/home/gabib3b/anaconda2/lib/python2.7/site-packages/ipykernel_launcher.py:20: UserWarning: invalid index of a 0-dim tensor. This will be an error in PyTorch 0.5. Use tensor.item() to convert a 0-dim tensor to a Python number\n",
            "/home/gabib3b/anaconda2/lib/python2.7/site-packages/ipykernel_launcher.py:16: UserWarning: invalid index of a 0-dim tensor. This will be an error in PyTorch 0.5. Use tensor.item() to convert a 0-dim tensor to a Python number\n",
            "  app.launch_new_instance()\n",
            "/home/gabib3b/anaconda2/lib/python2.7/site-packages/ipykernel_launcher.py:20: UserWarning: invalid index of a 0-dim tensor. This will be an error in PyTorch 0.5. Use tensor.item() to convert a 0-dim tensor to a Python number\n"
          ],
          "name": "stderr"
        },
        {
          "output_type": "stream",
          "text": [
            "Train Epoch: 128 [0/665 (0%)]\tLoss: 0.017973\n",
            "Train Epoch: 129 [0/665 (0%)]\tLoss: 0.013537\n",
            "Train Epoch: 130 [0/665 (0%)]\tLoss: 0.027220\n",
            "Train Epoch: 131 [0/665 (0%)]\tLoss: 0.058034\n"
          ],
          "name": "stdout"
        },
        {
          "output_type": "stream",
          "text": [
            "/home/gabib3b/anaconda2/lib/python2.7/site-packages/ipykernel_launcher.py:16: UserWarning: invalid index of a 0-dim tensor. This will be an error in PyTorch 0.5. Use tensor.item() to convert a 0-dim tensor to a Python number\n",
            "  app.launch_new_instance()\n",
            "/home/gabib3b/anaconda2/lib/python2.7/site-packages/ipykernel_launcher.py:20: UserWarning: invalid index of a 0-dim tensor. This will be an error in PyTorch 0.5. Use tensor.item() to convert a 0-dim tensor to a Python number\n",
            "/home/gabib3b/anaconda2/lib/python2.7/site-packages/ipykernel_launcher.py:16: UserWarning: invalid index of a 0-dim tensor. This will be an error in PyTorch 0.5. Use tensor.item() to convert a 0-dim tensor to a Python number\n",
            "  app.launch_new_instance()\n",
            "/home/gabib3b/anaconda2/lib/python2.7/site-packages/ipykernel_launcher.py:20: UserWarning: invalid index of a 0-dim tensor. This will be an error in PyTorch 0.5. Use tensor.item() to convert a 0-dim tensor to a Python number\n",
            "/home/gabib3b/anaconda2/lib/python2.7/site-packages/ipykernel_launcher.py:16: UserWarning: invalid index of a 0-dim tensor. This will be an error in PyTorch 0.5. Use tensor.item() to convert a 0-dim tensor to a Python number\n",
            "  app.launch_new_instance()\n",
            "/home/gabib3b/anaconda2/lib/python2.7/site-packages/ipykernel_launcher.py:20: UserWarning: invalid index of a 0-dim tensor. This will be an error in PyTorch 0.5. Use tensor.item() to convert a 0-dim tensor to a Python number\n",
            "/home/gabib3b/anaconda2/lib/python2.7/site-packages/ipykernel_launcher.py:16: UserWarning: invalid index of a 0-dim tensor. This will be an error in PyTorch 0.5. Use tensor.item() to convert a 0-dim tensor to a Python number\n",
            "  app.launch_new_instance()\n",
            "/home/gabib3b/anaconda2/lib/python2.7/site-packages/ipykernel_launcher.py:20: UserWarning: invalid index of a 0-dim tensor. This will be an error in PyTorch 0.5. Use tensor.item() to convert a 0-dim tensor to a Python number\n"
          ],
          "name": "stderr"
        },
        {
          "output_type": "stream",
          "text": [
            "Train Epoch: 132 [0/665 (0%)]\tLoss: 0.004410\n",
            "Train Epoch: 133 [0/665 (0%)]\tLoss: 0.019271\n",
            "Train Epoch: 134 [0/665 (0%)]\tLoss: 0.091552\n",
            "Train Epoch: 135 [0/665 (0%)]\tLoss: 0.011161\n"
          ],
          "name": "stdout"
        },
        {
          "output_type": "stream",
          "text": [
            "/home/gabib3b/anaconda2/lib/python2.7/site-packages/ipykernel_launcher.py:16: UserWarning: invalid index of a 0-dim tensor. This will be an error in PyTorch 0.5. Use tensor.item() to convert a 0-dim tensor to a Python number\n",
            "  app.launch_new_instance()\n",
            "/home/gabib3b/anaconda2/lib/python2.7/site-packages/ipykernel_launcher.py:20: UserWarning: invalid index of a 0-dim tensor. This will be an error in PyTorch 0.5. Use tensor.item() to convert a 0-dim tensor to a Python number\n",
            "/home/gabib3b/anaconda2/lib/python2.7/site-packages/ipykernel_launcher.py:16: UserWarning: invalid index of a 0-dim tensor. This will be an error in PyTorch 0.5. Use tensor.item() to convert a 0-dim tensor to a Python number\n",
            "  app.launch_new_instance()\n",
            "/home/gabib3b/anaconda2/lib/python2.7/site-packages/ipykernel_launcher.py:20: UserWarning: invalid index of a 0-dim tensor. This will be an error in PyTorch 0.5. Use tensor.item() to convert a 0-dim tensor to a Python number\n",
            "/home/gabib3b/anaconda2/lib/python2.7/site-packages/ipykernel_launcher.py:16: UserWarning: invalid index of a 0-dim tensor. This will be an error in PyTorch 0.5. Use tensor.item() to convert a 0-dim tensor to a Python number\n",
            "  app.launch_new_instance()\n",
            "/home/gabib3b/anaconda2/lib/python2.7/site-packages/ipykernel_launcher.py:20: UserWarning: invalid index of a 0-dim tensor. This will be an error in PyTorch 0.5. Use tensor.item() to convert a 0-dim tensor to a Python number\n",
            "/home/gabib3b/anaconda2/lib/python2.7/site-packages/ipykernel_launcher.py:16: UserWarning: invalid index of a 0-dim tensor. This will be an error in PyTorch 0.5. Use tensor.item() to convert a 0-dim tensor to a Python number\n",
            "  app.launch_new_instance()\n",
            "/home/gabib3b/anaconda2/lib/python2.7/site-packages/ipykernel_launcher.py:20: UserWarning: invalid index of a 0-dim tensor. This will be an error in PyTorch 0.5. Use tensor.item() to convert a 0-dim tensor to a Python number\n"
          ],
          "name": "stderr"
        },
        {
          "output_type": "stream",
          "text": [
            "Train Epoch: 136 [0/665 (0%)]\tLoss: 0.066685\n",
            "Train Epoch: 137 [0/665 (0%)]\tLoss: 0.007305\n",
            "Train Epoch: 138 [0/665 (0%)]\tLoss: 0.007260\n",
            "Train Epoch: 139 [0/665 (0%)]\tLoss: 0.076109\n"
          ],
          "name": "stdout"
        },
        {
          "output_type": "stream",
          "text": [
            "/home/gabib3b/anaconda2/lib/python2.7/site-packages/ipykernel_launcher.py:16: UserWarning: invalid index of a 0-dim tensor. This will be an error in PyTorch 0.5. Use tensor.item() to convert a 0-dim tensor to a Python number\n",
            "  app.launch_new_instance()\n",
            "/home/gabib3b/anaconda2/lib/python2.7/site-packages/ipykernel_launcher.py:20: UserWarning: invalid index of a 0-dim tensor. This will be an error in PyTorch 0.5. Use tensor.item() to convert a 0-dim tensor to a Python number\n",
            "/home/gabib3b/anaconda2/lib/python2.7/site-packages/ipykernel_launcher.py:16: UserWarning: invalid index of a 0-dim tensor. This will be an error in PyTorch 0.5. Use tensor.item() to convert a 0-dim tensor to a Python number\n",
            "  app.launch_new_instance()\n",
            "/home/gabib3b/anaconda2/lib/python2.7/site-packages/ipykernel_launcher.py:20: UserWarning: invalid index of a 0-dim tensor. This will be an error in PyTorch 0.5. Use tensor.item() to convert a 0-dim tensor to a Python number\n",
            "/home/gabib3b/anaconda2/lib/python2.7/site-packages/ipykernel_launcher.py:16: UserWarning: invalid index of a 0-dim tensor. This will be an error in PyTorch 0.5. Use tensor.item() to convert a 0-dim tensor to a Python number\n",
            "  app.launch_new_instance()\n",
            "/home/gabib3b/anaconda2/lib/python2.7/site-packages/ipykernel_launcher.py:20: UserWarning: invalid index of a 0-dim tensor. This will be an error in PyTorch 0.5. Use tensor.item() to convert a 0-dim tensor to a Python number\n",
            "/home/gabib3b/anaconda2/lib/python2.7/site-packages/ipykernel_launcher.py:16: UserWarning: invalid index of a 0-dim tensor. This will be an error in PyTorch 0.5. Use tensor.item() to convert a 0-dim tensor to a Python number\n",
            "  app.launch_new_instance()\n",
            "/home/gabib3b/anaconda2/lib/python2.7/site-packages/ipykernel_launcher.py:20: UserWarning: invalid index of a 0-dim tensor. This will be an error in PyTorch 0.5. Use tensor.item() to convert a 0-dim tensor to a Python number\n"
          ],
          "name": "stderr"
        },
        {
          "output_type": "stream",
          "text": [
            "Train Epoch: 140 [0/665 (0%)]\tLoss: 0.003054\n",
            "Train Epoch: 141 [0/665 (0%)]\tLoss: 0.004528\n",
            "Train Epoch: 142 [0/665 (0%)]\tLoss: 0.006879\n",
            "Train Epoch: 143 [0/665 (0%)]\tLoss: 0.014813\n"
          ],
          "name": "stdout"
        },
        {
          "output_type": "stream",
          "text": [
            "/home/gabib3b/anaconda2/lib/python2.7/site-packages/ipykernel_launcher.py:16: UserWarning: invalid index of a 0-dim tensor. This will be an error in PyTorch 0.5. Use tensor.item() to convert a 0-dim tensor to a Python number\n",
            "  app.launch_new_instance()\n",
            "/home/gabib3b/anaconda2/lib/python2.7/site-packages/ipykernel_launcher.py:20: UserWarning: invalid index of a 0-dim tensor. This will be an error in PyTorch 0.5. Use tensor.item() to convert a 0-dim tensor to a Python number\n",
            "/home/gabib3b/anaconda2/lib/python2.7/site-packages/ipykernel_launcher.py:16: UserWarning: invalid index of a 0-dim tensor. This will be an error in PyTorch 0.5. Use tensor.item() to convert a 0-dim tensor to a Python number\n",
            "  app.launch_new_instance()\n",
            "/home/gabib3b/anaconda2/lib/python2.7/site-packages/ipykernel_launcher.py:20: UserWarning: invalid index of a 0-dim tensor. This will be an error in PyTorch 0.5. Use tensor.item() to convert a 0-dim tensor to a Python number\n",
            "/home/gabib3b/anaconda2/lib/python2.7/site-packages/ipykernel_launcher.py:16: UserWarning: invalid index of a 0-dim tensor. This will be an error in PyTorch 0.5. Use tensor.item() to convert a 0-dim tensor to a Python number\n",
            "  app.launch_new_instance()\n",
            "/home/gabib3b/anaconda2/lib/python2.7/site-packages/ipykernel_launcher.py:20: UserWarning: invalid index of a 0-dim tensor. This will be an error in PyTorch 0.5. Use tensor.item() to convert a 0-dim tensor to a Python number\n"
          ],
          "name": "stderr"
        },
        {
          "output_type": "stream",
          "text": [
            "Train Epoch: 144 [0/665 (0%)]\tLoss: 0.009533\n",
            "Train Epoch: 145 [0/665 (0%)]\tLoss: 0.013937\n",
            "Train Epoch: 146 [0/665 (0%)]\tLoss: 0.006862\n"
          ],
          "name": "stdout"
        },
        {
          "output_type": "stream",
          "text": [
            "/home/gabib3b/anaconda2/lib/python2.7/site-packages/ipykernel_launcher.py:16: UserWarning: invalid index of a 0-dim tensor. This will be an error in PyTorch 0.5. Use tensor.item() to convert a 0-dim tensor to a Python number\n",
            "  app.launch_new_instance()\n",
            "/home/gabib3b/anaconda2/lib/python2.7/site-packages/ipykernel_launcher.py:20: UserWarning: invalid index of a 0-dim tensor. This will be an error in PyTorch 0.5. Use tensor.item() to convert a 0-dim tensor to a Python number\n",
            "/home/gabib3b/anaconda2/lib/python2.7/site-packages/ipykernel_launcher.py:16: UserWarning: invalid index of a 0-dim tensor. This will be an error in PyTorch 0.5. Use tensor.item() to convert a 0-dim tensor to a Python number\n",
            "  app.launch_new_instance()\n",
            "/home/gabib3b/anaconda2/lib/python2.7/site-packages/ipykernel_launcher.py:20: UserWarning: invalid index of a 0-dim tensor. This will be an error in PyTorch 0.5. Use tensor.item() to convert a 0-dim tensor to a Python number\n",
            "/home/gabib3b/anaconda2/lib/python2.7/site-packages/ipykernel_launcher.py:16: UserWarning: invalid index of a 0-dim tensor. This will be an error in PyTorch 0.5. Use tensor.item() to convert a 0-dim tensor to a Python number\n",
            "  app.launch_new_instance()\n",
            "/home/gabib3b/anaconda2/lib/python2.7/site-packages/ipykernel_launcher.py:20: UserWarning: invalid index of a 0-dim tensor. This will be an error in PyTorch 0.5. Use tensor.item() to convert a 0-dim tensor to a Python number\n"
          ],
          "name": "stderr"
        },
        {
          "output_type": "stream",
          "text": [
            "Train Epoch: 147 [0/665 (0%)]\tLoss: 0.038456\n",
            "Train Epoch: 148 [0/665 (0%)]\tLoss: 0.003331\n",
            "Train Epoch: 149 [0/665 (0%)]\tLoss: 0.010371\n"
          ],
          "name": "stdout"
        },
        {
          "output_type": "stream",
          "text": [
            "/home/gabib3b/anaconda2/lib/python2.7/site-packages/ipykernel_launcher.py:16: UserWarning: invalid index of a 0-dim tensor. This will be an error in PyTorch 0.5. Use tensor.item() to convert a 0-dim tensor to a Python number\n",
            "  app.launch_new_instance()\n",
            "/home/gabib3b/anaconda2/lib/python2.7/site-packages/ipykernel_launcher.py:20: UserWarning: invalid index of a 0-dim tensor. This will be an error in PyTorch 0.5. Use tensor.item() to convert a 0-dim tensor to a Python number\n",
            "/home/gabib3b/anaconda2/lib/python2.7/site-packages/ipykernel_launcher.py:16: UserWarning: invalid index of a 0-dim tensor. This will be an error in PyTorch 0.5. Use tensor.item() to convert a 0-dim tensor to a Python number\n",
            "  app.launch_new_instance()\n",
            "/home/gabib3b/anaconda2/lib/python2.7/site-packages/ipykernel_launcher.py:20: UserWarning: invalid index of a 0-dim tensor. This will be an error in PyTorch 0.5. Use tensor.item() to convert a 0-dim tensor to a Python number\n",
            "/home/gabib3b/anaconda2/lib/python2.7/site-packages/ipykernel_launcher.py:16: UserWarning: invalid index of a 0-dim tensor. This will be an error in PyTorch 0.5. Use tensor.item() to convert a 0-dim tensor to a Python number\n",
            "  app.launch_new_instance()\n",
            "/home/gabib3b/anaconda2/lib/python2.7/site-packages/ipykernel_launcher.py:20: UserWarning: invalid index of a 0-dim tensor. This will be an error in PyTorch 0.5. Use tensor.item() to convert a 0-dim tensor to a Python number\n",
            "/home/gabib3b/anaconda2/lib/python2.7/site-packages/ipykernel_launcher.py:16: UserWarning: invalid index of a 0-dim tensor. This will be an error in PyTorch 0.5. Use tensor.item() to convert a 0-dim tensor to a Python number\n",
            "  app.launch_new_instance()\n",
            "/home/gabib3b/anaconda2/lib/python2.7/site-packages/ipykernel_launcher.py:20: UserWarning: invalid index of a 0-dim tensor. This will be an error in PyTorch 0.5. Use tensor.item() to convert a 0-dim tensor to a Python number\n"
          ],
          "name": "stderr"
        },
        {
          "output_type": "stream",
          "text": [
            "Train Epoch: 150 [0/665 (0%)]\tLoss: 0.006425\n",
            "Train Epoch: 151 [0/665 (0%)]\tLoss: 0.007829\n",
            "Train Epoch: 152 [0/665 (0%)]\tLoss: 0.007016\n",
            "Train Epoch: 153 [0/665 (0%)]\tLoss: 0.076301\n"
          ],
          "name": "stdout"
        },
        {
          "output_type": "stream",
          "text": [
            "/home/gabib3b/anaconda2/lib/python2.7/site-packages/ipykernel_launcher.py:16: UserWarning: invalid index of a 0-dim tensor. This will be an error in PyTorch 0.5. Use tensor.item() to convert a 0-dim tensor to a Python number\n",
            "  app.launch_new_instance()\n",
            "/home/gabib3b/anaconda2/lib/python2.7/site-packages/ipykernel_launcher.py:20: UserWarning: invalid index of a 0-dim tensor. This will be an error in PyTorch 0.5. Use tensor.item() to convert a 0-dim tensor to a Python number\n",
            "/home/gabib3b/anaconda2/lib/python2.7/site-packages/ipykernel_launcher.py:16: UserWarning: invalid index of a 0-dim tensor. This will be an error in PyTorch 0.5. Use tensor.item() to convert a 0-dim tensor to a Python number\n",
            "  app.launch_new_instance()\n",
            "/home/gabib3b/anaconda2/lib/python2.7/site-packages/ipykernel_launcher.py:20: UserWarning: invalid index of a 0-dim tensor. This will be an error in PyTorch 0.5. Use tensor.item() to convert a 0-dim tensor to a Python number\n",
            "/home/gabib3b/anaconda2/lib/python2.7/site-packages/ipykernel_launcher.py:16: UserWarning: invalid index of a 0-dim tensor. This will be an error in PyTorch 0.5. Use tensor.item() to convert a 0-dim tensor to a Python number\n",
            "  app.launch_new_instance()\n",
            "/home/gabib3b/anaconda2/lib/python2.7/site-packages/ipykernel_launcher.py:20: UserWarning: invalid index of a 0-dim tensor. This will be an error in PyTorch 0.5. Use tensor.item() to convert a 0-dim tensor to a Python number\n",
            "/home/gabib3b/anaconda2/lib/python2.7/site-packages/ipykernel_launcher.py:16: UserWarning: invalid index of a 0-dim tensor. This will be an error in PyTorch 0.5. Use tensor.item() to convert a 0-dim tensor to a Python number\n",
            "  app.launch_new_instance()\n",
            "/home/gabib3b/anaconda2/lib/python2.7/site-packages/ipykernel_launcher.py:20: UserWarning: invalid index of a 0-dim tensor. This will be an error in PyTorch 0.5. Use tensor.item() to convert a 0-dim tensor to a Python number\n"
          ],
          "name": "stderr"
        },
        {
          "output_type": "stream",
          "text": [
            "Train Epoch: 154 [0/665 (0%)]\tLoss: 0.022595\n",
            "Train Epoch: 155 [0/665 (0%)]\tLoss: 0.036886\n",
            "Train Epoch: 156 [0/665 (0%)]\tLoss: 0.049829\n",
            "Train Epoch: 157 [0/665 (0%)]\tLoss: 0.007057\n"
          ],
          "name": "stdout"
        },
        {
          "output_type": "stream",
          "text": [
            "/home/gabib3b/anaconda2/lib/python2.7/site-packages/ipykernel_launcher.py:16: UserWarning: invalid index of a 0-dim tensor. This will be an error in PyTorch 0.5. Use tensor.item() to convert a 0-dim tensor to a Python number\n",
            "  app.launch_new_instance()\n",
            "/home/gabib3b/anaconda2/lib/python2.7/site-packages/ipykernel_launcher.py:20: UserWarning: invalid index of a 0-dim tensor. This will be an error in PyTorch 0.5. Use tensor.item() to convert a 0-dim tensor to a Python number\n",
            "/home/gabib3b/anaconda2/lib/python2.7/site-packages/ipykernel_launcher.py:16: UserWarning: invalid index of a 0-dim tensor. This will be an error in PyTorch 0.5. Use tensor.item() to convert a 0-dim tensor to a Python number\n",
            "  app.launch_new_instance()\n",
            "/home/gabib3b/anaconda2/lib/python2.7/site-packages/ipykernel_launcher.py:20: UserWarning: invalid index of a 0-dim tensor. This will be an error in PyTorch 0.5. Use tensor.item() to convert a 0-dim tensor to a Python number\n",
            "/home/gabib3b/anaconda2/lib/python2.7/site-packages/ipykernel_launcher.py:16: UserWarning: invalid index of a 0-dim tensor. This will be an error in PyTorch 0.5. Use tensor.item() to convert a 0-dim tensor to a Python number\n",
            "  app.launch_new_instance()\n",
            "/home/gabib3b/anaconda2/lib/python2.7/site-packages/ipykernel_launcher.py:20: UserWarning: invalid index of a 0-dim tensor. This will be an error in PyTorch 0.5. Use tensor.item() to convert a 0-dim tensor to a Python number\n",
            "/home/gabib3b/anaconda2/lib/python2.7/site-packages/ipykernel_launcher.py:16: UserWarning: invalid index of a 0-dim tensor. This will be an error in PyTorch 0.5. Use tensor.item() to convert a 0-dim tensor to a Python number\n",
            "  app.launch_new_instance()\n",
            "/home/gabib3b/anaconda2/lib/python2.7/site-packages/ipykernel_launcher.py:20: UserWarning: invalid index of a 0-dim tensor. This will be an error in PyTorch 0.5. Use tensor.item() to convert a 0-dim tensor to a Python number\n"
          ],
          "name": "stderr"
        },
        {
          "output_type": "stream",
          "text": [
            "Train Epoch: 158 [0/665 (0%)]\tLoss: 0.008277\n",
            "Train Epoch: 159 [0/665 (0%)]\tLoss: 0.017584\n",
            "Train Epoch: 160 [0/665 (0%)]\tLoss: 0.025796\n",
            "Train Epoch: 161 [0/665 (0%)]\tLoss: 0.010922\n"
          ],
          "name": "stdout"
        },
        {
          "output_type": "stream",
          "text": [
            "/home/gabib3b/anaconda2/lib/python2.7/site-packages/ipykernel_launcher.py:16: UserWarning: invalid index of a 0-dim tensor. This will be an error in PyTorch 0.5. Use tensor.item() to convert a 0-dim tensor to a Python number\n",
            "  app.launch_new_instance()\n",
            "/home/gabib3b/anaconda2/lib/python2.7/site-packages/ipykernel_launcher.py:20: UserWarning: invalid index of a 0-dim tensor. This will be an error in PyTorch 0.5. Use tensor.item() to convert a 0-dim tensor to a Python number\n",
            "/home/gabib3b/anaconda2/lib/python2.7/site-packages/ipykernel_launcher.py:16: UserWarning: invalid index of a 0-dim tensor. This will be an error in PyTorch 0.5. Use tensor.item() to convert a 0-dim tensor to a Python number\n",
            "  app.launch_new_instance()\n",
            "/home/gabib3b/anaconda2/lib/python2.7/site-packages/ipykernel_launcher.py:20: UserWarning: invalid index of a 0-dim tensor. This will be an error in PyTorch 0.5. Use tensor.item() to convert a 0-dim tensor to a Python number\n",
            "/home/gabib3b/anaconda2/lib/python2.7/site-packages/ipykernel_launcher.py:16: UserWarning: invalid index of a 0-dim tensor. This will be an error in PyTorch 0.5. Use tensor.item() to convert a 0-dim tensor to a Python number\n",
            "  app.launch_new_instance()\n",
            "/home/gabib3b/anaconda2/lib/python2.7/site-packages/ipykernel_launcher.py:20: UserWarning: invalid index of a 0-dim tensor. This will be an error in PyTorch 0.5. Use tensor.item() to convert a 0-dim tensor to a Python number\n",
            "/home/gabib3b/anaconda2/lib/python2.7/site-packages/ipykernel_launcher.py:16: UserWarning: invalid index of a 0-dim tensor. This will be an error in PyTorch 0.5. Use tensor.item() to convert a 0-dim tensor to a Python number\n",
            "  app.launch_new_instance()\n",
            "/home/gabib3b/anaconda2/lib/python2.7/site-packages/ipykernel_launcher.py:20: UserWarning: invalid index of a 0-dim tensor. This will be an error in PyTorch 0.5. Use tensor.item() to convert a 0-dim tensor to a Python number\n"
          ],
          "name": "stderr"
        },
        {
          "output_type": "stream",
          "text": [
            "Train Epoch: 162 [0/665 (0%)]\tLoss: 0.032843\n",
            "Train Epoch: 163 [0/665 (0%)]\tLoss: 0.069625\n",
            "Train Epoch: 164 [0/665 (0%)]\tLoss: 0.025459\n",
            "Train Epoch: 165 [0/665 (0%)]\tLoss: 0.009674\n"
          ],
          "name": "stdout"
        },
        {
          "output_type": "stream",
          "text": [
            "/home/gabib3b/anaconda2/lib/python2.7/site-packages/ipykernel_launcher.py:16: UserWarning: invalid index of a 0-dim tensor. This will be an error in PyTorch 0.5. Use tensor.item() to convert a 0-dim tensor to a Python number\n",
            "  app.launch_new_instance()\n",
            "/home/gabib3b/anaconda2/lib/python2.7/site-packages/ipykernel_launcher.py:20: UserWarning: invalid index of a 0-dim tensor. This will be an error in PyTorch 0.5. Use tensor.item() to convert a 0-dim tensor to a Python number\n",
            "/home/gabib3b/anaconda2/lib/python2.7/site-packages/ipykernel_launcher.py:16: UserWarning: invalid index of a 0-dim tensor. This will be an error in PyTorch 0.5. Use tensor.item() to convert a 0-dim tensor to a Python number\n",
            "  app.launch_new_instance()\n",
            "/home/gabib3b/anaconda2/lib/python2.7/site-packages/ipykernel_launcher.py:20: UserWarning: invalid index of a 0-dim tensor. This will be an error in PyTorch 0.5. Use tensor.item() to convert a 0-dim tensor to a Python number\n",
            "/home/gabib3b/anaconda2/lib/python2.7/site-packages/ipykernel_launcher.py:16: UserWarning: invalid index of a 0-dim tensor. This will be an error in PyTorch 0.5. Use tensor.item() to convert a 0-dim tensor to a Python number\n",
            "  app.launch_new_instance()\n",
            "/home/gabib3b/anaconda2/lib/python2.7/site-packages/ipykernel_launcher.py:20: UserWarning: invalid index of a 0-dim tensor. This will be an error in PyTorch 0.5. Use tensor.item() to convert a 0-dim tensor to a Python number\n",
            "/home/gabib3b/anaconda2/lib/python2.7/site-packages/ipykernel_launcher.py:16: UserWarning: invalid index of a 0-dim tensor. This will be an error in PyTorch 0.5. Use tensor.item() to convert a 0-dim tensor to a Python number\n",
            "  app.launch_new_instance()\n",
            "/home/gabib3b/anaconda2/lib/python2.7/site-packages/ipykernel_launcher.py:20: UserWarning: invalid index of a 0-dim tensor. This will be an error in PyTorch 0.5. Use tensor.item() to convert a 0-dim tensor to a Python number\n"
          ],
          "name": "stderr"
        },
        {
          "output_type": "stream",
          "text": [
            "Train Epoch: 166 [0/665 (0%)]\tLoss: 0.052263\n",
            "Train Epoch: 167 [0/665 (0%)]\tLoss: 0.034572\n",
            "Train Epoch: 168 [0/665 (0%)]\tLoss: 0.071711\n",
            "Train Epoch: 169 [0/665 (0%)]\tLoss: 0.011763\n"
          ],
          "name": "stdout"
        },
        {
          "output_type": "stream",
          "text": [
            "/home/gabib3b/anaconda2/lib/python2.7/site-packages/ipykernel_launcher.py:16: UserWarning: invalid index of a 0-dim tensor. This will be an error in PyTorch 0.5. Use tensor.item() to convert a 0-dim tensor to a Python number\n",
            "  app.launch_new_instance()\n",
            "/home/gabib3b/anaconda2/lib/python2.7/site-packages/ipykernel_launcher.py:20: UserWarning: invalid index of a 0-dim tensor. This will be an error in PyTorch 0.5. Use tensor.item() to convert a 0-dim tensor to a Python number\n",
            "/home/gabib3b/anaconda2/lib/python2.7/site-packages/ipykernel_launcher.py:16: UserWarning: invalid index of a 0-dim tensor. This will be an error in PyTorch 0.5. Use tensor.item() to convert a 0-dim tensor to a Python number\n",
            "  app.launch_new_instance()\n",
            "/home/gabib3b/anaconda2/lib/python2.7/site-packages/ipykernel_launcher.py:20: UserWarning: invalid index of a 0-dim tensor. This will be an error in PyTorch 0.5. Use tensor.item() to convert a 0-dim tensor to a Python number\n",
            "/home/gabib3b/anaconda2/lib/python2.7/site-packages/ipykernel_launcher.py:16: UserWarning: invalid index of a 0-dim tensor. This will be an error in PyTorch 0.5. Use tensor.item() to convert a 0-dim tensor to a Python number\n",
            "  app.launch_new_instance()\n",
            "/home/gabib3b/anaconda2/lib/python2.7/site-packages/ipykernel_launcher.py:20: UserWarning: invalid index of a 0-dim tensor. This will be an error in PyTorch 0.5. Use tensor.item() to convert a 0-dim tensor to a Python number\n",
            "/home/gabib3b/anaconda2/lib/python2.7/site-packages/ipykernel_launcher.py:16: UserWarning: invalid index of a 0-dim tensor. This will be an error in PyTorch 0.5. Use tensor.item() to convert a 0-dim tensor to a Python number\n",
            "  app.launch_new_instance()\n",
            "/home/gabib3b/anaconda2/lib/python2.7/site-packages/ipykernel_launcher.py:20: UserWarning: invalid index of a 0-dim tensor. This will be an error in PyTorch 0.5. Use tensor.item() to convert a 0-dim tensor to a Python number\n"
          ],
          "name": "stderr"
        },
        {
          "output_type": "stream",
          "text": [
            "Train Epoch: 170 [0/665 (0%)]\tLoss: 0.050286\n",
            "Train Epoch: 171 [0/665 (0%)]\tLoss: 0.009233\n",
            "Train Epoch: 172 [0/665 (0%)]\tLoss: 0.011544\n",
            "Train Epoch: 173 [0/665 (0%)]\tLoss: 0.016912\n"
          ],
          "name": "stdout"
        },
        {
          "output_type": "stream",
          "text": [
            "/home/gabib3b/anaconda2/lib/python2.7/site-packages/ipykernel_launcher.py:16: UserWarning: invalid index of a 0-dim tensor. This will be an error in PyTorch 0.5. Use tensor.item() to convert a 0-dim tensor to a Python number\n",
            "  app.launch_new_instance()\n",
            "/home/gabib3b/anaconda2/lib/python2.7/site-packages/ipykernel_launcher.py:20: UserWarning: invalid index of a 0-dim tensor. This will be an error in PyTorch 0.5. Use tensor.item() to convert a 0-dim tensor to a Python number\n",
            "/home/gabib3b/anaconda2/lib/python2.7/site-packages/ipykernel_launcher.py:16: UserWarning: invalid index of a 0-dim tensor. This will be an error in PyTorch 0.5. Use tensor.item() to convert a 0-dim tensor to a Python number\n",
            "  app.launch_new_instance()\n",
            "/home/gabib3b/anaconda2/lib/python2.7/site-packages/ipykernel_launcher.py:20: UserWarning: invalid index of a 0-dim tensor. This will be an error in PyTorch 0.5. Use tensor.item() to convert a 0-dim tensor to a Python number\n",
            "/home/gabib3b/anaconda2/lib/python2.7/site-packages/ipykernel_launcher.py:16: UserWarning: invalid index of a 0-dim tensor. This will be an error in PyTorch 0.5. Use tensor.item() to convert a 0-dim tensor to a Python number\n",
            "  app.launch_new_instance()\n",
            "/home/gabib3b/anaconda2/lib/python2.7/site-packages/ipykernel_launcher.py:20: UserWarning: invalid index of a 0-dim tensor. This will be an error in PyTorch 0.5. Use tensor.item() to convert a 0-dim tensor to a Python number\n",
            "/home/gabib3b/anaconda2/lib/python2.7/site-packages/ipykernel_launcher.py:16: UserWarning: invalid index of a 0-dim tensor. This will be an error in PyTorch 0.5. Use tensor.item() to convert a 0-dim tensor to a Python number\n",
            "  app.launch_new_instance()\n",
            "/home/gabib3b/anaconda2/lib/python2.7/site-packages/ipykernel_launcher.py:20: UserWarning: invalid index of a 0-dim tensor. This will be an error in PyTorch 0.5. Use tensor.item() to convert a 0-dim tensor to a Python number\n"
          ],
          "name": "stderr"
        },
        {
          "output_type": "stream",
          "text": [
            "Train Epoch: 174 [0/665 (0%)]\tLoss: 0.004167\n",
            "Train Epoch: 175 [0/665 (0%)]\tLoss: 0.007117\n",
            "Train Epoch: 176 [0/665 (0%)]\tLoss: 0.003488\n",
            "Train Epoch: 177 [0/665 (0%)]\tLoss: 0.034722\n"
          ],
          "name": "stdout"
        },
        {
          "output_type": "stream",
          "text": [
            "/home/gabib3b/anaconda2/lib/python2.7/site-packages/ipykernel_launcher.py:16: UserWarning: invalid index of a 0-dim tensor. This will be an error in PyTorch 0.5. Use tensor.item() to convert a 0-dim tensor to a Python number\n",
            "  app.launch_new_instance()\n",
            "/home/gabib3b/anaconda2/lib/python2.7/site-packages/ipykernel_launcher.py:20: UserWarning: invalid index of a 0-dim tensor. This will be an error in PyTorch 0.5. Use tensor.item() to convert a 0-dim tensor to a Python number\n",
            "/home/gabib3b/anaconda2/lib/python2.7/site-packages/ipykernel_launcher.py:16: UserWarning: invalid index of a 0-dim tensor. This will be an error in PyTorch 0.5. Use tensor.item() to convert a 0-dim tensor to a Python number\n",
            "  app.launch_new_instance()\n",
            "/home/gabib3b/anaconda2/lib/python2.7/site-packages/ipykernel_launcher.py:20: UserWarning: invalid index of a 0-dim tensor. This will be an error in PyTorch 0.5. Use tensor.item() to convert a 0-dim tensor to a Python number\n",
            "/home/gabib3b/anaconda2/lib/python2.7/site-packages/ipykernel_launcher.py:16: UserWarning: invalid index of a 0-dim tensor. This will be an error in PyTorch 0.5. Use tensor.item() to convert a 0-dim tensor to a Python number\n",
            "  app.launch_new_instance()\n",
            "/home/gabib3b/anaconda2/lib/python2.7/site-packages/ipykernel_launcher.py:20: UserWarning: invalid index of a 0-dim tensor. This will be an error in PyTorch 0.5. Use tensor.item() to convert a 0-dim tensor to a Python number\n",
            "/home/gabib3b/anaconda2/lib/python2.7/site-packages/ipykernel_launcher.py:16: UserWarning: invalid index of a 0-dim tensor. This will be an error in PyTorch 0.5. Use tensor.item() to convert a 0-dim tensor to a Python number\n",
            "  app.launch_new_instance()\n",
            "/home/gabib3b/anaconda2/lib/python2.7/site-packages/ipykernel_launcher.py:20: UserWarning: invalid index of a 0-dim tensor. This will be an error in PyTorch 0.5. Use tensor.item() to convert a 0-dim tensor to a Python number\n"
          ],
          "name": "stderr"
        },
        {
          "output_type": "stream",
          "text": [
            "Train Epoch: 178 [0/665 (0%)]\tLoss: 0.016537\n",
            "Train Epoch: 179 [0/665 (0%)]\tLoss: 0.097350\n",
            "Train Epoch: 180 [0/665 (0%)]\tLoss: 0.009703\n",
            "Train Epoch: 181 [0/665 (0%)]\tLoss: 0.005337\n"
          ],
          "name": "stdout"
        },
        {
          "output_type": "stream",
          "text": [
            "/home/gabib3b/anaconda2/lib/python2.7/site-packages/ipykernel_launcher.py:16: UserWarning: invalid index of a 0-dim tensor. This will be an error in PyTorch 0.5. Use tensor.item() to convert a 0-dim tensor to a Python number\n",
            "  app.launch_new_instance()\n",
            "/home/gabib3b/anaconda2/lib/python2.7/site-packages/ipykernel_launcher.py:20: UserWarning: invalid index of a 0-dim tensor. This will be an error in PyTorch 0.5. Use tensor.item() to convert a 0-dim tensor to a Python number\n",
            "/home/gabib3b/anaconda2/lib/python2.7/site-packages/ipykernel_launcher.py:16: UserWarning: invalid index of a 0-dim tensor. This will be an error in PyTorch 0.5. Use tensor.item() to convert a 0-dim tensor to a Python number\n",
            "  app.launch_new_instance()\n",
            "/home/gabib3b/anaconda2/lib/python2.7/site-packages/ipykernel_launcher.py:20: UserWarning: invalid index of a 0-dim tensor. This will be an error in PyTorch 0.5. Use tensor.item() to convert a 0-dim tensor to a Python number\n",
            "/home/gabib3b/anaconda2/lib/python2.7/site-packages/ipykernel_launcher.py:16: UserWarning: invalid index of a 0-dim tensor. This will be an error in PyTorch 0.5. Use tensor.item() to convert a 0-dim tensor to a Python number\n",
            "  app.launch_new_instance()\n",
            "/home/gabib3b/anaconda2/lib/python2.7/site-packages/ipykernel_launcher.py:20: UserWarning: invalid index of a 0-dim tensor. This will be an error in PyTorch 0.5. Use tensor.item() to convert a 0-dim tensor to a Python number\n",
            "/home/gabib3b/anaconda2/lib/python2.7/site-packages/ipykernel_launcher.py:16: UserWarning: invalid index of a 0-dim tensor. This will be an error in PyTorch 0.5. Use tensor.item() to convert a 0-dim tensor to a Python number\n",
            "  app.launch_new_instance()\n",
            "/home/gabib3b/anaconda2/lib/python2.7/site-packages/ipykernel_launcher.py:20: UserWarning: invalid index of a 0-dim tensor. This will be an error in PyTorch 0.5. Use tensor.item() to convert a 0-dim tensor to a Python number\n"
          ],
          "name": "stderr"
        },
        {
          "output_type": "stream",
          "text": [
            "Train Epoch: 182 [0/665 (0%)]\tLoss: 0.010667\n",
            "Train Epoch: 183 [0/665 (0%)]\tLoss: 0.007672\n",
            "Train Epoch: 184 [0/665 (0%)]\tLoss: 0.021355\n",
            "Train Epoch: 185 [0/665 (0%)]\tLoss: 0.033630\n"
          ],
          "name": "stdout"
        },
        {
          "output_type": "stream",
          "text": [
            "/home/gabib3b/anaconda2/lib/python2.7/site-packages/ipykernel_launcher.py:16: UserWarning: invalid index of a 0-dim tensor. This will be an error in PyTorch 0.5. Use tensor.item() to convert a 0-dim tensor to a Python number\n",
            "  app.launch_new_instance()\n",
            "/home/gabib3b/anaconda2/lib/python2.7/site-packages/ipykernel_launcher.py:20: UserWarning: invalid index of a 0-dim tensor. This will be an error in PyTorch 0.5. Use tensor.item() to convert a 0-dim tensor to a Python number\n",
            "/home/gabib3b/anaconda2/lib/python2.7/site-packages/ipykernel_launcher.py:16: UserWarning: invalid index of a 0-dim tensor. This will be an error in PyTorch 0.5. Use tensor.item() to convert a 0-dim tensor to a Python number\n",
            "  app.launch_new_instance()\n",
            "/home/gabib3b/anaconda2/lib/python2.7/site-packages/ipykernel_launcher.py:20: UserWarning: invalid index of a 0-dim tensor. This will be an error in PyTorch 0.5. Use tensor.item() to convert a 0-dim tensor to a Python number\n",
            "/home/gabib3b/anaconda2/lib/python2.7/site-packages/ipykernel_launcher.py:16: UserWarning: invalid index of a 0-dim tensor. This will be an error in PyTorch 0.5. Use tensor.item() to convert a 0-dim tensor to a Python number\n",
            "  app.launch_new_instance()\n",
            "/home/gabib3b/anaconda2/lib/python2.7/site-packages/ipykernel_launcher.py:20: UserWarning: invalid index of a 0-dim tensor. This will be an error in PyTorch 0.5. Use tensor.item() to convert a 0-dim tensor to a Python number\n",
            "/home/gabib3b/anaconda2/lib/python2.7/site-packages/ipykernel_launcher.py:16: UserWarning: invalid index of a 0-dim tensor. This will be an error in PyTorch 0.5. Use tensor.item() to convert a 0-dim tensor to a Python number\n",
            "  app.launch_new_instance()\n",
            "/home/gabib3b/anaconda2/lib/python2.7/site-packages/ipykernel_launcher.py:20: UserWarning: invalid index of a 0-dim tensor. This will be an error in PyTorch 0.5. Use tensor.item() to convert a 0-dim tensor to a Python number\n"
          ],
          "name": "stderr"
        },
        {
          "output_type": "stream",
          "text": [
            "Train Epoch: 186 [0/665 (0%)]\tLoss: 0.015757\n",
            "Train Epoch: 187 [0/665 (0%)]\tLoss: 0.031959\n",
            "Train Epoch: 188 [0/665 (0%)]\tLoss: 0.005542\n",
            "Train Epoch: 189 [0/665 (0%)]\tLoss: 0.006222\n"
          ],
          "name": "stdout"
        },
        {
          "output_type": "stream",
          "text": [
            "/home/gabib3b/anaconda2/lib/python2.7/site-packages/ipykernel_launcher.py:16: UserWarning: invalid index of a 0-dim tensor. This will be an error in PyTorch 0.5. Use tensor.item() to convert a 0-dim tensor to a Python number\n",
            "  app.launch_new_instance()\n",
            "/home/gabib3b/anaconda2/lib/python2.7/site-packages/ipykernel_launcher.py:20: UserWarning: invalid index of a 0-dim tensor. This will be an error in PyTorch 0.5. Use tensor.item() to convert a 0-dim tensor to a Python number\n",
            "/home/gabib3b/anaconda2/lib/python2.7/site-packages/ipykernel_launcher.py:16: UserWarning: invalid index of a 0-dim tensor. This will be an error in PyTorch 0.5. Use tensor.item() to convert a 0-dim tensor to a Python number\n",
            "  app.launch_new_instance()\n",
            "/home/gabib3b/anaconda2/lib/python2.7/site-packages/ipykernel_launcher.py:20: UserWarning: invalid index of a 0-dim tensor. This will be an error in PyTorch 0.5. Use tensor.item() to convert a 0-dim tensor to a Python number\n",
            "/home/gabib3b/anaconda2/lib/python2.7/site-packages/ipykernel_launcher.py:16: UserWarning: invalid index of a 0-dim tensor. This will be an error in PyTorch 0.5. Use tensor.item() to convert a 0-dim tensor to a Python number\n",
            "  app.launch_new_instance()\n",
            "/home/gabib3b/anaconda2/lib/python2.7/site-packages/ipykernel_launcher.py:20: UserWarning: invalid index of a 0-dim tensor. This will be an error in PyTorch 0.5. Use tensor.item() to convert a 0-dim tensor to a Python number\n",
            "/home/gabib3b/anaconda2/lib/python2.7/site-packages/ipykernel_launcher.py:16: UserWarning: invalid index of a 0-dim tensor. This will be an error in PyTorch 0.5. Use tensor.item() to convert a 0-dim tensor to a Python number\n",
            "  app.launch_new_instance()\n",
            "/home/gabib3b/anaconda2/lib/python2.7/site-packages/ipykernel_launcher.py:20: UserWarning: invalid index of a 0-dim tensor. This will be an error in PyTorch 0.5. Use tensor.item() to convert a 0-dim tensor to a Python number\n"
          ],
          "name": "stderr"
        },
        {
          "output_type": "stream",
          "text": [
            "Train Epoch: 190 [0/665 (0%)]\tLoss: 0.013729\n",
            "Train Epoch: 191 [0/665 (0%)]\tLoss: 0.015848\n",
            "Train Epoch: 192 [0/665 (0%)]\tLoss: 0.024873\n",
            "Train Epoch: 193 [0/665 (0%)]\tLoss: 0.007199\n"
          ],
          "name": "stdout"
        },
        {
          "output_type": "stream",
          "text": [
            "/home/gabib3b/anaconda2/lib/python2.7/site-packages/ipykernel_launcher.py:16: UserWarning: invalid index of a 0-dim tensor. This will be an error in PyTorch 0.5. Use tensor.item() to convert a 0-dim tensor to a Python number\n",
            "  app.launch_new_instance()\n",
            "/home/gabib3b/anaconda2/lib/python2.7/site-packages/ipykernel_launcher.py:20: UserWarning: invalid index of a 0-dim tensor. This will be an error in PyTorch 0.5. Use tensor.item() to convert a 0-dim tensor to a Python number\n",
            "/home/gabib3b/anaconda2/lib/python2.7/site-packages/ipykernel_launcher.py:16: UserWarning: invalid index of a 0-dim tensor. This will be an error in PyTorch 0.5. Use tensor.item() to convert a 0-dim tensor to a Python number\n",
            "  app.launch_new_instance()\n",
            "/home/gabib3b/anaconda2/lib/python2.7/site-packages/ipykernel_launcher.py:20: UserWarning: invalid index of a 0-dim tensor. This will be an error in PyTorch 0.5. Use tensor.item() to convert a 0-dim tensor to a Python number\n",
            "/home/gabib3b/anaconda2/lib/python2.7/site-packages/ipykernel_launcher.py:16: UserWarning: invalid index of a 0-dim tensor. This will be an error in PyTorch 0.5. Use tensor.item() to convert a 0-dim tensor to a Python number\n",
            "  app.launch_new_instance()\n",
            "/home/gabib3b/anaconda2/lib/python2.7/site-packages/ipykernel_launcher.py:20: UserWarning: invalid index of a 0-dim tensor. This will be an error in PyTorch 0.5. Use tensor.item() to convert a 0-dim tensor to a Python number\n",
            "/home/gabib3b/anaconda2/lib/python2.7/site-packages/ipykernel_launcher.py:16: UserWarning: invalid index of a 0-dim tensor. This will be an error in PyTorch 0.5. Use tensor.item() to convert a 0-dim tensor to a Python number\n",
            "  app.launch_new_instance()\n",
            "/home/gabib3b/anaconda2/lib/python2.7/site-packages/ipykernel_launcher.py:20: UserWarning: invalid index of a 0-dim tensor. This will be an error in PyTorch 0.5. Use tensor.item() to convert a 0-dim tensor to a Python number\n"
          ],
          "name": "stderr"
        },
        {
          "output_type": "stream",
          "text": [
            "Train Epoch: 194 [0/665 (0%)]\tLoss: 0.064934\n",
            "Train Epoch: 195 [0/665 (0%)]\tLoss: 0.011790\n",
            "Train Epoch: 196 [0/665 (0%)]\tLoss: 0.008893\n",
            "Train Epoch: 197 [0/665 (0%)]\tLoss: 0.005882\n",
            "Train Epoch: 198 [0/665 (0%)]\tLoss: 0.004196\n",
            "Train Epoch: 199 [0/665 (0%)]\tLoss: 0.008195\n",
            "score\n",
            "tensor(0.1963)\n"
          ],
          "name": "stdout"
        },
        {
          "output_type": "stream",
          "text": [
            "/home/gabib3b/anaconda2/lib/python2.7/site-packages/ipykernel_launcher.py:16: UserWarning: invalid index of a 0-dim tensor. This will be an error in PyTorch 0.5. Use tensor.item() to convert a 0-dim tensor to a Python number\n",
            "  app.launch_new_instance()\n",
            "/home/gabib3b/anaconda2/lib/python2.7/site-packages/ipykernel_launcher.py:20: UserWarning: invalid index of a 0-dim tensor. This will be an error in PyTorch 0.5. Use tensor.item() to convert a 0-dim tensor to a Python number\n",
            "/home/gabib3b/anaconda2/lib/python2.7/site-packages/ipykernel_launcher.py:16: UserWarning: invalid index of a 0-dim tensor. This will be an error in PyTorch 0.5. Use tensor.item() to convert a 0-dim tensor to a Python number\n",
            "  app.launch_new_instance()\n",
            "/home/gabib3b/anaconda2/lib/python2.7/site-packages/ipykernel_launcher.py:20: UserWarning: invalid index of a 0-dim tensor. This will be an error in PyTorch 0.5. Use tensor.item() to convert a 0-dim tensor to a Python number\n"
          ],
          "name": "stderr"
        }
      ]
    },
    {
      "metadata": {
        "id": "uXH77-NnRXdM",
        "colab_type": "code",
        "colab": {},
        "outputId": "7e037845-28b6-40b1-daa1-c50919b06904"
      },
      "cell_type": "code",
      "source": [
        "# def valid(model,x_valid,y_valid,criterion):\n",
        "#     model.eval()\n",
        "#     data, target = Variable(x_valid), Variable(y_valid)\n",
        "#     y_pred = model(data)\n",
        "#     loss = criterion(y_pred, target)\n",
        "# #     print('test-loss {0}'.format(loss.item())\n",
        "#     return loss.item()\n",
        "\n",
        "# valid(model, X_test, y_test.reshape(-1, 1), criterion )\n",
        "\n",
        "def score(model, data_loader, criterion):\n",
        "    \n",
        "  running_loss = 0.\n",
        "  calc_count =0.\n",
        "  \n",
        "  model.eval()\n",
        "  \n",
        "  with torch.no_grad():\n",
        "    for images, labels in data_loader:\n",
        "\n",
        "      images = Variable(images)  \n",
        "      labels = Variable(labels)\n",
        "      \n",
        "      outputs = model(images.float())\n",
        "      #(outputs.shape, labels.shape)\n",
        "      loss = criterion(outputs, labels.float())\n",
        "      print(loss)\n",
        "\n",
        "score(model, test_data_loader, criterion )        \n",
        "\n",
        "#       running_correct +=torch.sum(pred==labels.data).cpu().numpy().item()\n",
        "#       calc_count+=outputs.data.shape[0]\n",
        "#       running_loss += loss.item()\n",
        "#       confusion_matrix.add(pred, labels)\n",
        "  \n",
        "#   return round(running_loss/calc_count, 4), round(running_correct/calc_count, 4)"
      ],
      "execution_count": 0,
      "outputs": [
        {
          "output_type": "stream",
          "text": [
            "tensor(0.2898)\n"
          ],
          "name": "stdout"
        }
      ]
    },
    {
      "metadata": {
        "id": "ViJvZQ0lRXdP",
        "colab_type": "text"
      },
      "cell_type": "markdown",
      "source": [
        "Use your trained model from the previous question to predict the sentiment score of words in the lyrics corpus that are not part of the original sentiment dataset. Review the words with the highest positive and negative sentiment. Do the results make sense?"
      ]
    },
    {
      "metadata": {
        "id": "Rg8p9R5wRXdQ",
        "colab_type": "code",
        "colab": {}
      },
      "cell_type": "code",
      "source": [
        "X_train.shape"
      ],
      "execution_count": 0,
      "outputs": []
    },
    {
      "metadata": {
        "id": "02nUNxJ1RXdR",
        "colab_type": "text"
      },
      "cell_type": "markdown",
      "source": [
        "### Visualize Word Vectors\n",
        "In this section, you'll plot words on a 2D grid based on their inner similarity. We'll use the tSNE transformation to reduce dimensions from 300 to 2. You can get sample code from https://www.kaggle.com/pierremegret/gensim-word2vec-tutorial or other tutorials online.\n",
        "\n",
        "Perform the following:\n",
        "- Keep only the 3,000 most frequent words (after removing stopwords)\n",
        "- For this list, compute for each word its relative abundance in each of the genres\n",
        "- Compute the ratio between the proportion of each word in each genre and the proportion of the word in the entire corpus (the background distribution)\n",
        "- Pick the top 50 words for each genre. These words give good indication for that genre. Join the words from all genres into a single list of top significant words. \n",
        "- Compute tSNE transformation to 2D for all words, based on their word vectors\n",
        "- Plot the list of the top significant words in 2D. Next to each word output its text. The color of each point should indicate the genre for which it is most significant.\n",
        "\n",
        "You might prefer to use a different number of points or a slightly different methodology for improved results.  \n",
        "Analyze the results."
      ]
    },
    {
      "metadata": {
        "id": "B1p05fLZRXdS",
        "colab_type": "code",
        "colab": {}
      },
      "cell_type": "code",
      "source": [
        "import nltk\n",
        "from nltk.tokenize import RegexpTokenizer\n",
        "\n",
        "texts = lyrics_df[\"clean_lyrics\"].tolist()\n",
        "\n",
        "all_text = [item for sublist in texts for item in sublist]\n",
        "req_dist = nltk.FreqDist(all_text)\n",
        "words_couter = [(word, count) for (word, count) in req_dist.items()]\n",
        "words_couter.sort(key=lambda tup: tup[1], reverse=True) \n",
        "top_words = words_couter[0:3000]"
      ],
      "execution_count": 0,
      "outputs": []
    },
    {
      "metadata": {
        "id": "VQoMlRKhRXdT",
        "colab_type": "code",
        "colab": {}
      },
      "cell_type": "code",
      "source": [
        "geners = lyrics_df['genre'].unique()\n",
        "word_gener_counter = np.zeros(shape=(3000, len(geners)))\n",
        "word_total_counter = np.zeros(len(geners))\n",
        "word_index = {word: index for index, (word,counter) in enumerate(top_words)}\n",
        "index_word = {index:word for index, (word,counter) in enumerate(top_words)}\n",
        "\n",
        "genere_index = {genere: index for index, genere in enumerate(geners)}\n",
        "index_genere = {index:genere  for index, genere in enumerate(geners)}\n",
        "\n",
        "for index, row in lyrics_df.iterrows():\n",
        "    genre = row['genre']\n",
        "    words = row['clean_lyrics']\n",
        "    \n",
        "    current_genere_index = genere_index[genre]\n",
        "     \n",
        "    \n",
        "    for word in words:\n",
        "        if word in word_index:\n",
        "            word_total_counter[current_genere_index] += 1\n",
        "            current_word_index = word_index[word]\n",
        "            word_gener_counter[current_word_index][current_genere_index]  += 1"
      ],
      "execution_count": 0,
      "outputs": []
    },
    {
      "metadata": {
        "id": "sArcPgdvRXdU",
        "colab_type": "code",
        "colab": {}
      },
      "cell_type": "code",
      "source": [
        "ratios = word_gener_counter / word_total_counter.reshape(12)\n",
        "(ratios[1, 10],word_gener_counter[1, 10]/ word_total_counter[10])\n",
        "\n",
        "ratios_sorted = np.argsort(ratios, axis=0, kind='quicksort')\n",
        "top_ineces = ratios_sorted[0:50, :]\n",
        "\n",
        "\n",
        "ratios = word_gener_counter / word_total_counter.reshape(12)\n",
        "(ratios[1, 10],word_gener_counter[1, 10]/ word_total_counter[10])\n",
        "genget_top_words = {}\n",
        "for row in top_ineces:\n",
        "    for column, val in enumerate(row):\n",
        "        genre = index_genere[column]\n",
        "        if genre not in genget_top_words:\n",
        "            genget_top_words[genre] = []\n",
        "        \n",
        "        word =index_word[val]\n",
        "        genget_top_words[genre].append(word)\n",
        "        "
      ],
      "execution_count": 0,
      "outputs": []
    },
    {
      "metadata": {
        "id": "bS32v78YRXdW",
        "colab_type": "code",
        "colab": {}
      },
      "cell_type": "code",
      "source": [
        "import numpy as np\n",
        "import matplotlib.pyplot as plt\n",
        "%matplotlib inline\n",
        " \n",
        "import seaborn as sns\n",
        "sns.set_style(\"darkgrid\")\n",
        "\n",
        "from sklearn.decomposition import PCA\n",
        "from sklearn.manifold import TSNE\n",
        "\n",
        "def tsnescatterplot(model, word, list_names):\n",
        "    \"\"\" Plot in seaborn the results from the t-SNE dimensionality reduction algorithm of the vectors of a query word,\n",
        "    its list of most similar words, and a list of words.\n",
        "    \"\"\"\n",
        "    arrays = np.empty((0, 300), dtype='f')\n",
        "#     word_labels = [word]\n",
        "    word_labels = [word]\n",
        "    color_list  = ['red']\n",
        "    \n",
        "\n",
        "    # adds the vector of the query word\n",
        "    arrays = np.append(arrays, model.wv.__getitem__([word]), axis=0)\n",
        "    \n",
        "    # gets list of most similar words\n",
        "    close_words = model.wv.most_similar([word])\n",
        "    \n",
        "    # adds the vector for each of the closest words to the array\n",
        "    for wrd_score in close_words:\n",
        "        wrd_vector = model.wv.__getitem__([wrd_score[0]])\n",
        "        word_labels.append(wrd_score[0])\n",
        "        color_list.append('blue')\n",
        "        arrays = np.append(arrays, wrd_vector, axis=0)\n",
        "    \n",
        "    # adds the vector for each of the words from list_names to the array\n",
        "    for wrd in list_names:\n",
        "        wrd_vector = model.wv.__getitem__([wrd])\n",
        "        word_labels.append(wrd)\n",
        "        color_list.append('green')\n",
        "        arrays = np.append(arrays, wrd_vector, axis=0)\n",
        "        \n",
        "    # Reduces the dimensionality from 300 to 50 dimensions with PCA\n",
        "    reduc = PCA(n_components=50).fit_transform(arrays)\n",
        "    \n",
        "    # Finds t-SNE coordinates for 2 dimensions\n",
        "    np.set_printoptions(suppress=True)\n",
        "    \n",
        "    Y = TSNE(n_components=2, random_state=0, perplexity=15).fit_transform(reduc)\n",
        "    \n",
        "    # Sets everything up to plot\n",
        "    df = pd.DataFrame({'x': [x for x in Y[:, 0]],\n",
        "                       'y': [y for y in Y[:, 1]],\n",
        "                       'words': word_labels,\n",
        "                       'color': color_list})\n",
        "    \n",
        "    fig, _ = plt.subplots()\n",
        "    fig.set_size_inches(9, 9)\n",
        "    \n",
        "    # Basic plot\n",
        "    p1 = sns.regplot(data=df,\n",
        "                     x=\"x\",\n",
        "                     y=\"y\",\n",
        "                     fit_reg=False,\n",
        "                     marker=\"o\",\n",
        "                     scatter_kws={'s': 40,\n",
        "                                  'facecolors': df['color']\n",
        "                                 }\n",
        "                    )\n",
        "    \n",
        "    # Adds annotations one by one with a loop\n",
        "    for line in range(0, df.shape[0]):\n",
        "         p1.text(df[\"x\"][line],\n",
        "                 df['y'][line],\n",
        "                 '  ' + df[\"words\"][line].title(),\n",
        "                 horizontalalignment='left',\n",
        "                 verticalalignment='bottom', size='medium',\n",
        "                 color=df['color'][line],\n",
        "                 weight='normal'\n",
        "                ).set_size(15)\n",
        "\n",
        "    \n",
        "    plt.xlim(Y[:, 0].min()-50, Y[:, 0].max()+50)\n",
        "    plt.ylim(Y[:, 1].min()-50, Y[:, 1].max()+50)\n",
        "            \n",
        "    plt.title('t-SNE visualization for {}'.format(word.title()))"
      ],
      "execution_count": 0,
      "outputs": []
    },
    {
      "metadata": {
        "id": "XOXibTX6RXdY",
        "colab_type": "code",
        "colab": {},
        "outputId": "28d755fc-fe40-4707-df82-7b732906a536"
      },
      "cell_type": "code",
      "source": [
        "tsnescatterplot(wevec_model, 'lady', ['winter', 'song'])"
      ],
      "execution_count": 0,
      "outputs": [
        {
          "output_type": "display_data",
          "data": {
            "image/png": "[encoded data removed]",
            "text/plain": [
              "<Figure size 648x648 with 1 Axes>"
            ]
          },
          "metadata": {
            "tags": []
          }
        }
      ]
    },
    {
      "metadata": {
        "id": "bKjUU5QYRXda",
        "colab_type": "code",
        "colab": {}
      },
      "cell_type": "code",
      "source": [
        "import numpy as np\n",
        "import matplotlib.pyplot as plt\n",
        "%matplotlib inline\n",
        " \n",
        "import seaborn as sns\n",
        "sns.set_style(\"darkgrid\")\n",
        "\n",
        "from sklearn.decomposition import PCA\n",
        "from sklearn.manifold import TSNE\n",
        "\n",
        "def tsnescatterplot(model, genere_words):\n",
        "    \"\"\" Plot in seaborn the results from the t-SNE dimensionality reduction algorithm of the vectors of a query word,\n",
        "    its list of most similar words, and a list of words.\n",
        "    \"\"\"\n",
        "    num_of_geners = len(genere_words.keys()) * 50\n",
        "    arrays = np.empty((0, 300), dtype='f')\n",
        "    #arrays = np.empty((0,num_of_geners)  , dtype='f')\n",
        "                      \n",
        "#     word_labels = [word]\n",
        "    word_labels = []\n",
        "\n",
        "#     color_list  = ['red']\n",
        "    color_list_ptions = ['white',  'green', 'purple', 'black',  'blue', 'yellow', 'orange', 'red', 'olive', \n",
        "                  'pink', 'cyan', 'brown']\n",
        "    \n",
        "\n",
        "    color_list = []                  \n",
        "    for index, (genere, list_names) in  enumerate(genere_words.items()):\n",
        "        color = color_list_ptions[index]\n",
        "        for wrd in list_names:\n",
        "            wrd_vector = model.wv.__getitem__([wrd])   \n",
        "            word_labels.append(wrd)\n",
        "            color_list.append(color)\n",
        "            arrays = np.append(arrays, wrd_vector, axis=0)\n",
        "                      \n",
        "         \n",
        "                    \n",
        "        \n",
        "    # Reduces the dimensionality from 300 to 50 dimensions with PCA\n",
        "    reduc = PCA(n_components=50).fit_transform(arrays)\n",
        "    \n",
        "    # Finds t-SNE coordinates for 2 dimensions\n",
        "    np.set_printoptions(suppress=True)\n",
        "    \n",
        "    Y = TSNE(n_components=2, random_state=0, perplexity=15).fit_transform(reduc)\n",
        "    \n",
        "    # Sets everything up to plot\n",
        "    df = pd.DataFrame({'x': [x for x in Y[:, 0]],\n",
        "                       'y': [y for y in Y[:, 1]],\n",
        "                       'words': word_labels,\n",
        "                       'color': color_list})\n",
        "    \n",
        "    fig, _ = plt.subplots()\n",
        "    fig.set_size_inches(9, 9)\n",
        "    \n",
        "    # Basic plot\n",
        "    p1 = sns.regplot(data=df,\n",
        "                     x=\"x\",\n",
        "                     y=\"y\",\n",
        "                     fit_reg=False,\n",
        "                     marker=\"o\",\n",
        "                     scatter_kws={'s': 40,\n",
        "                                  'facecolors': df['color']\n",
        "                                 }\n",
        "                    )\n",
        "    \n",
        "    # Adds annotations one by one with a loop\n",
        "    for line in range(0, df.shape[0]):\n",
        "         p1.text(df[\"x\"][line],\n",
        "                 df['y'][line],\n",
        "                 '  ' + df[\"words\"][line].title(),\n",
        "                 horizontalalignment='left',\n",
        "                 verticalalignment='bottom', size='medium',\n",
        "                 color=df['color'][line],\n",
        "                 weight='normal'\n",
        "                ).set_size(15)\n",
        "\n",
        "    \n",
        "    plt.xlim(Y[:, 0].min()-50, Y[:, 0].max()+50)\n",
        "    plt.ylim(Y[:, 1].min()-50, Y[:, 1].max()+50)\n",
        "            \n",
        "    plt.title('t-SNE visualization for {}'.format(word.title()))"
      ],
      "execution_count": 0,
      "outputs": []
    },
    {
      "metadata": {
        "id": "DVRJZ5M5RXdd",
        "colab_type": "code",
        "colab": {},
        "outputId": "407a943f-8680-4c35-d429-29073d98eea3"
      },
      "cell_type": "code",
      "source": [
        "tsnescatterplot(wevec_model, genget_top_words)"
      ],
      "execution_count": 0,
      "outputs": [
        {
          "output_type": "stream",
          "text": [
            "Error in callback <function post_execute at 0x7fe270cc72a8> (for post_execute):\n"
          ],
          "name": "stdout"
        },
        {
          "output_type": "error",
          "ename": "ValueError",
          "evalue": "matplotlib display text must have all code points < 128 or use Unicode strings",
          "traceback": [
            "\u001b[0;31m---------------------------------------------------------------------------\u001b[0m",
            "\u001b[0;31mValueError\u001b[0m                                Traceback (most recent call last)",
            "\u001b[0;32m/home/gabib3b/anaconda2/lib/python2.7/site-packages/matplotlib/pyplot.pyc\u001b[0m in \u001b[0;36mpost_execute\u001b[0;34m()\u001b[0m\n\u001b[1;32m    147\u001b[0m             \u001b[0;32mdef\u001b[0m \u001b[0mpost_execute\u001b[0m\u001b[0;34m(\u001b[0m\u001b[0;34m)\u001b[0m\u001b[0;34m:\u001b[0m\u001b[0;34m\u001b[0m\u001b[0m\n\u001b[1;32m    148\u001b[0m                 \u001b[0;32mif\u001b[0m \u001b[0mmatplotlib\u001b[0m\u001b[0;34m.\u001b[0m\u001b[0mis_interactive\u001b[0m\u001b[0;34m(\u001b[0m\u001b[0;34m)\u001b[0m\u001b[0;34m:\u001b[0m\u001b[0;34m\u001b[0m\u001b[0m\n\u001b[0;32m--> 149\u001b[0;31m                     \u001b[0mdraw_all\u001b[0m\u001b[0;34m(\u001b[0m\u001b[0;34m)\u001b[0m\u001b[0;34m\u001b[0m\u001b[0m\n\u001b[0m\u001b[1;32m    150\u001b[0m \u001b[0;34m\u001b[0m\u001b[0m\n\u001b[1;32m    151\u001b[0m             \u001b[0;31m# IPython >= 2\u001b[0m\u001b[0;34m\u001b[0m\u001b[0;34m\u001b[0m\u001b[0m\n",
            "\u001b[0;32m/home/gabib3b/anaconda2/lib/python2.7/site-packages/matplotlib/_pylab_helpers.pyc\u001b[0m in \u001b[0;36mdraw_all\u001b[0;34m(cls, force)\u001b[0m\n\u001b[1;32m    134\u001b[0m         \u001b[0;32mfor\u001b[0m \u001b[0mf_mgr\u001b[0m \u001b[0;32min\u001b[0m \u001b[0mcls\u001b[0m\u001b[0;34m.\u001b[0m\u001b[0mget_all_fig_managers\u001b[0m\u001b[0;34m(\u001b[0m\u001b[0;34m)\u001b[0m\u001b[0;34m:\u001b[0m\u001b[0;34m\u001b[0m\u001b[0m\n\u001b[1;32m    135\u001b[0m             \u001b[0;32mif\u001b[0m \u001b[0mforce\u001b[0m \u001b[0;32mor\u001b[0m \u001b[0mf_mgr\u001b[0m\u001b[0;34m.\u001b[0m\u001b[0mcanvas\u001b[0m\u001b[0;34m.\u001b[0m\u001b[0mfigure\u001b[0m\u001b[0;34m.\u001b[0m\u001b[0mstale\u001b[0m\u001b[0;34m:\u001b[0m\u001b[0;34m\u001b[0m\u001b[0m\n\u001b[0;32m--> 136\u001b[0;31m                 \u001b[0mf_mgr\u001b[0m\u001b[0;34m.\u001b[0m\u001b[0mcanvas\u001b[0m\u001b[0;34m.\u001b[0m\u001b[0mdraw_idle\u001b[0m\u001b[0;34m(\u001b[0m\u001b[0;34m)\u001b[0m\u001b[0;34m\u001b[0m\u001b[0m\n\u001b[0m\u001b[1;32m    137\u001b[0m \u001b[0;34m\u001b[0m\u001b[0m\n\u001b[1;32m    138\u001b[0m \u001b[0matexit\u001b[0m\u001b[0;34m.\u001b[0m\u001b[0mregister\u001b[0m\u001b[0;34m(\u001b[0m\u001b[0mGcf\u001b[0m\u001b[0;34m.\u001b[0m\u001b[0mdestroy_all\u001b[0m\u001b[0;34m)\u001b[0m\u001b[0;34m\u001b[0m\u001b[0m\n",
            "\u001b[0;32m/home/gabib3b/anaconda2/lib/python2.7/site-packages/matplotlib/backend_bases.pyc\u001b[0m in \u001b[0;36mdraw_idle\u001b[0;34m(self, *args, **kwargs)\u001b[0m\n\u001b[1;32m   2053\u001b[0m         \u001b[0;32mif\u001b[0m \u001b[0;32mnot\u001b[0m \u001b[0mself\u001b[0m\u001b[0;34m.\u001b[0m\u001b[0m_is_idle_drawing\u001b[0m\u001b[0;34m:\u001b[0m\u001b[0;34m\u001b[0m\u001b[0m\n\u001b[1;32m   2054\u001b[0m             \u001b[0;32mwith\u001b[0m \u001b[0mself\u001b[0m\u001b[0;34m.\u001b[0m\u001b[0m_idle_draw_cntx\u001b[0m\u001b[0;34m(\u001b[0m\u001b[0;34m)\u001b[0m\u001b[0;34m:\u001b[0m\u001b[0;34m\u001b[0m\u001b[0m\n\u001b[0;32m-> 2055\u001b[0;31m                 \u001b[0mself\u001b[0m\u001b[0;34m.\u001b[0m\u001b[0mdraw\u001b[0m\u001b[0;34m(\u001b[0m\u001b[0;34m*\u001b[0m\u001b[0margs\u001b[0m\u001b[0;34m,\u001b[0m \u001b[0;34m**\u001b[0m\u001b[0mkwargs\u001b[0m\u001b[0;34m)\u001b[0m\u001b[0;34m\u001b[0m\u001b[0m\n\u001b[0m\u001b[1;32m   2056\u001b[0m \u001b[0;34m\u001b[0m\u001b[0m\n\u001b[1;32m   2057\u001b[0m     \u001b[0;32mdef\u001b[0m \u001b[0mdraw_cursor\u001b[0m\u001b[0;34m(\u001b[0m\u001b[0mself\u001b[0m\u001b[0;34m,\u001b[0m \u001b[0mevent\u001b[0m\u001b[0;34m)\u001b[0m\u001b[0;34m:\u001b[0m\u001b[0;34m\u001b[0m\u001b[0m\n",
            "\u001b[0;32m/home/gabib3b/anaconda2/lib/python2.7/site-packages/matplotlib/backends/backend_agg.pyc\u001b[0m in \u001b[0;36mdraw\u001b[0;34m(self)\u001b[0m\n\u001b[1;32m    431\u001b[0m             \u001b[0;31m# if toolbar:\u001b[0m\u001b[0;34m\u001b[0m\u001b[0;34m\u001b[0m\u001b[0m\n\u001b[1;32m    432\u001b[0m             \u001b[0;31m#     toolbar.set_cursor(cursors.WAIT)\u001b[0m\u001b[0;34m\u001b[0m\u001b[0;34m\u001b[0m\u001b[0m\n\u001b[0;32m--> 433\u001b[0;31m             \u001b[0mself\u001b[0m\u001b[0;34m.\u001b[0m\u001b[0mfigure\u001b[0m\u001b[0;34m.\u001b[0m\u001b[0mdraw\u001b[0m\u001b[0;34m(\u001b[0m\u001b[0mself\u001b[0m\u001b[0;34m.\u001b[0m\u001b[0mrenderer\u001b[0m\u001b[0;34m)\u001b[0m\u001b[0;34m\u001b[0m\u001b[0m\n\u001b[0m\u001b[1;32m    434\u001b[0m             \u001b[0;31m# A GUI class may be need to update a window using this draw, so\u001b[0m\u001b[0;34m\u001b[0m\u001b[0;34m\u001b[0m\u001b[0m\n\u001b[1;32m    435\u001b[0m             \u001b[0;31m# don't forget to call the superclass.\u001b[0m\u001b[0;34m\u001b[0m\u001b[0;34m\u001b[0m\u001b[0m\n",
            "\u001b[0;32m/home/gabib3b/anaconda2/lib/python2.7/site-packages/matplotlib/artist.pyc\u001b[0m in \u001b[0;36mdraw_wrapper\u001b[0;34m(artist, renderer, *args, **kwargs)\u001b[0m\n\u001b[1;32m     53\u001b[0m                 \u001b[0mrenderer\u001b[0m\u001b[0;34m.\u001b[0m\u001b[0mstart_filter\u001b[0m\u001b[0;34m(\u001b[0m\u001b[0;34m)\u001b[0m\u001b[0;34m\u001b[0m\u001b[0m\n\u001b[1;32m     54\u001b[0m \u001b[0;34m\u001b[0m\u001b[0m\n\u001b[0;32m---> 55\u001b[0;31m             \u001b[0;32mreturn\u001b[0m \u001b[0mdraw\u001b[0m\u001b[0;34m(\u001b[0m\u001b[0martist\u001b[0m\u001b[0;34m,\u001b[0m \u001b[0mrenderer\u001b[0m\u001b[0;34m,\u001b[0m \u001b[0;34m*\u001b[0m\u001b[0margs\u001b[0m\u001b[0;34m,\u001b[0m \u001b[0;34m**\u001b[0m\u001b[0mkwargs\u001b[0m\u001b[0;34m)\u001b[0m\u001b[0;34m\u001b[0m\u001b[0m\n\u001b[0m\u001b[1;32m     56\u001b[0m         \u001b[0;32mfinally\u001b[0m\u001b[0;34m:\u001b[0m\u001b[0;34m\u001b[0m\u001b[0m\n\u001b[1;32m     57\u001b[0m             \u001b[0;32mif\u001b[0m \u001b[0martist\u001b[0m\u001b[0;34m.\u001b[0m\u001b[0mget_agg_filter\u001b[0m\u001b[0;34m(\u001b[0m\u001b[0;34m)\u001b[0m \u001b[0;32mis\u001b[0m \u001b[0;32mnot\u001b[0m \u001b[0mNone\u001b[0m\u001b[0;34m:\u001b[0m\u001b[0;34m\u001b[0m\u001b[0m\n",
            "\u001b[0;32m/home/gabib3b/anaconda2/lib/python2.7/site-packages/matplotlib/figure.pyc\u001b[0m in \u001b[0;36mdraw\u001b[0;34m(self, renderer)\u001b[0m\n\u001b[1;32m   1473\u001b[0m \u001b[0;34m\u001b[0m\u001b[0m\n\u001b[1;32m   1474\u001b[0m             mimage._draw_list_compositing_images(\n\u001b[0;32m-> 1475\u001b[0;31m                 renderer, self, artists, self.suppressComposite)\n\u001b[0m\u001b[1;32m   1476\u001b[0m \u001b[0;34m\u001b[0m\u001b[0m\n\u001b[1;32m   1477\u001b[0m             \u001b[0mrenderer\u001b[0m\u001b[0;34m.\u001b[0m\u001b[0mclose_group\u001b[0m\u001b[0;34m(\u001b[0m\u001b[0;34m'figure'\u001b[0m\u001b[0;34m)\u001b[0m\u001b[0;34m\u001b[0m\u001b[0m\n",
            "\u001b[0;32m/home/gabib3b/anaconda2/lib/python2.7/site-packages/matplotlib/image.pyc\u001b[0m in \u001b[0;36m_draw_list_compositing_images\u001b[0;34m(renderer, parent, artists, suppress_composite)\u001b[0m\n\u001b[1;32m    139\u001b[0m     \u001b[0;32mif\u001b[0m \u001b[0mnot_composite\u001b[0m \u001b[0;32mor\u001b[0m \u001b[0;32mnot\u001b[0m \u001b[0mhas_images\u001b[0m\u001b[0;34m:\u001b[0m\u001b[0;34m\u001b[0m\u001b[0m\n\u001b[1;32m    140\u001b[0m         \u001b[0;32mfor\u001b[0m \u001b[0ma\u001b[0m \u001b[0;32min\u001b[0m \u001b[0martists\u001b[0m\u001b[0;34m:\u001b[0m\u001b[0;34m\u001b[0m\u001b[0m\n\u001b[0;32m--> 141\u001b[0;31m             \u001b[0ma\u001b[0m\u001b[0;34m.\u001b[0m\u001b[0mdraw\u001b[0m\u001b[0;34m(\u001b[0m\u001b[0mrenderer\u001b[0m\u001b[0;34m)\u001b[0m\u001b[0;34m\u001b[0m\u001b[0m\n\u001b[0m\u001b[1;32m    142\u001b[0m     \u001b[0;32melse\u001b[0m\u001b[0;34m:\u001b[0m\u001b[0;34m\u001b[0m\u001b[0m\n\u001b[1;32m    143\u001b[0m         \u001b[0;31m# Composite any adjacent images together\u001b[0m\u001b[0;34m\u001b[0m\u001b[0;34m\u001b[0m\u001b[0m\n",
            "\u001b[0;32m/home/gabib3b/anaconda2/lib/python2.7/site-packages/matplotlib/artist.pyc\u001b[0m in \u001b[0;36mdraw_wrapper\u001b[0;34m(artist, renderer, *args, **kwargs)\u001b[0m\n\u001b[1;32m     53\u001b[0m                 \u001b[0mrenderer\u001b[0m\u001b[0;34m.\u001b[0m\u001b[0mstart_filter\u001b[0m\u001b[0;34m(\u001b[0m\u001b[0;34m)\u001b[0m\u001b[0;34m\u001b[0m\u001b[0m\n\u001b[1;32m     54\u001b[0m \u001b[0;34m\u001b[0m\u001b[0m\n\u001b[0;32m---> 55\u001b[0;31m             \u001b[0;32mreturn\u001b[0m \u001b[0mdraw\u001b[0m\u001b[0;34m(\u001b[0m\u001b[0martist\u001b[0m\u001b[0;34m,\u001b[0m \u001b[0mrenderer\u001b[0m\u001b[0;34m,\u001b[0m \u001b[0;34m*\u001b[0m\u001b[0margs\u001b[0m\u001b[0;34m,\u001b[0m \u001b[0;34m**\u001b[0m\u001b[0mkwargs\u001b[0m\u001b[0;34m)\u001b[0m\u001b[0;34m\u001b[0m\u001b[0m\n\u001b[0m\u001b[1;32m     56\u001b[0m         \u001b[0;32mfinally\u001b[0m\u001b[0;34m:\u001b[0m\u001b[0;34m\u001b[0m\u001b[0m\n\u001b[1;32m     57\u001b[0m             \u001b[0;32mif\u001b[0m \u001b[0martist\u001b[0m\u001b[0;34m.\u001b[0m\u001b[0mget_agg_filter\u001b[0m\u001b[0;34m(\u001b[0m\u001b[0;34m)\u001b[0m \u001b[0;32mis\u001b[0m \u001b[0;32mnot\u001b[0m \u001b[0mNone\u001b[0m\u001b[0;34m:\u001b[0m\u001b[0;34m\u001b[0m\u001b[0m\n",
            "\u001b[0;32m/home/gabib3b/anaconda2/lib/python2.7/site-packages/matplotlib/axes/_base.pyc\u001b[0m in \u001b[0;36mdraw\u001b[0;34m(self, renderer, inframe)\u001b[0m\n\u001b[1;32m   2605\u001b[0m             \u001b[0mrenderer\u001b[0m\u001b[0;34m.\u001b[0m\u001b[0mstop_rasterizing\u001b[0m\u001b[0;34m(\u001b[0m\u001b[0;34m)\u001b[0m\u001b[0;34m\u001b[0m\u001b[0m\n\u001b[1;32m   2606\u001b[0m \u001b[0;34m\u001b[0m\u001b[0m\n\u001b[0;32m-> 2607\u001b[0;31m         \u001b[0mmimage\u001b[0m\u001b[0;34m.\u001b[0m\u001b[0m_draw_list_compositing_images\u001b[0m\u001b[0;34m(\u001b[0m\u001b[0mrenderer\u001b[0m\u001b[0;34m,\u001b[0m \u001b[0mself\u001b[0m\u001b[0;34m,\u001b[0m \u001b[0martists\u001b[0m\u001b[0;34m)\u001b[0m\u001b[0;34m\u001b[0m\u001b[0m\n\u001b[0m\u001b[1;32m   2608\u001b[0m \u001b[0;34m\u001b[0m\u001b[0m\n\u001b[1;32m   2609\u001b[0m         \u001b[0mrenderer\u001b[0m\u001b[0;34m.\u001b[0m\u001b[0mclose_group\u001b[0m\u001b[0;34m(\u001b[0m\u001b[0;34m'axes'\u001b[0m\u001b[0;34m)\u001b[0m\u001b[0;34m\u001b[0m\u001b[0m\n",
            "\u001b[0;32m/home/gabib3b/anaconda2/lib/python2.7/site-packages/matplotlib/image.pyc\u001b[0m in \u001b[0;36m_draw_list_compositing_images\u001b[0;34m(renderer, parent, artists, suppress_composite)\u001b[0m\n\u001b[1;32m    139\u001b[0m     \u001b[0;32mif\u001b[0m \u001b[0mnot_composite\u001b[0m \u001b[0;32mor\u001b[0m \u001b[0;32mnot\u001b[0m \u001b[0mhas_images\u001b[0m\u001b[0;34m:\u001b[0m\u001b[0;34m\u001b[0m\u001b[0m\n\u001b[1;32m    140\u001b[0m         \u001b[0;32mfor\u001b[0m \u001b[0ma\u001b[0m \u001b[0;32min\u001b[0m \u001b[0martists\u001b[0m\u001b[0;34m:\u001b[0m\u001b[0;34m\u001b[0m\u001b[0m\n\u001b[0;32m--> 141\u001b[0;31m             \u001b[0ma\u001b[0m\u001b[0;34m.\u001b[0m\u001b[0mdraw\u001b[0m\u001b[0;34m(\u001b[0m\u001b[0mrenderer\u001b[0m\u001b[0;34m)\u001b[0m\u001b[0;34m\u001b[0m\u001b[0m\n\u001b[0m\u001b[1;32m    142\u001b[0m     \u001b[0;32melse\u001b[0m\u001b[0;34m:\u001b[0m\u001b[0;34m\u001b[0m\u001b[0m\n\u001b[1;32m    143\u001b[0m         \u001b[0;31m# Composite any adjacent images together\u001b[0m\u001b[0;34m\u001b[0m\u001b[0;34m\u001b[0m\u001b[0m\n",
            "\u001b[0;32m/home/gabib3b/anaconda2/lib/python2.7/site-packages/matplotlib/artist.pyc\u001b[0m in \u001b[0;36mdraw_wrapper\u001b[0;34m(artist, renderer, *args, **kwargs)\u001b[0m\n\u001b[1;32m     53\u001b[0m                 \u001b[0mrenderer\u001b[0m\u001b[0;34m.\u001b[0m\u001b[0mstart_filter\u001b[0m\u001b[0;34m(\u001b[0m\u001b[0;34m)\u001b[0m\u001b[0;34m\u001b[0m\u001b[0m\n\u001b[1;32m     54\u001b[0m \u001b[0;34m\u001b[0m\u001b[0m\n\u001b[0;32m---> 55\u001b[0;31m             \u001b[0;32mreturn\u001b[0m \u001b[0mdraw\u001b[0m\u001b[0;34m(\u001b[0m\u001b[0martist\u001b[0m\u001b[0;34m,\u001b[0m \u001b[0mrenderer\u001b[0m\u001b[0;34m,\u001b[0m \u001b[0;34m*\u001b[0m\u001b[0margs\u001b[0m\u001b[0;34m,\u001b[0m \u001b[0;34m**\u001b[0m\u001b[0mkwargs\u001b[0m\u001b[0;34m)\u001b[0m\u001b[0;34m\u001b[0m\u001b[0m\n\u001b[0m\u001b[1;32m     56\u001b[0m         \u001b[0;32mfinally\u001b[0m\u001b[0;34m:\u001b[0m\u001b[0;34m\u001b[0m\u001b[0m\n\u001b[1;32m     57\u001b[0m             \u001b[0;32mif\u001b[0m \u001b[0martist\u001b[0m\u001b[0;34m.\u001b[0m\u001b[0mget_agg_filter\u001b[0m\u001b[0;34m(\u001b[0m\u001b[0;34m)\u001b[0m \u001b[0;32mis\u001b[0m \u001b[0;32mnot\u001b[0m \u001b[0mNone\u001b[0m\u001b[0;34m:\u001b[0m\u001b[0;34m\u001b[0m\u001b[0m\n",
            "\u001b[0;32m/home/gabib3b/anaconda2/lib/python2.7/site-packages/matplotlib/text.pyc\u001b[0m in \u001b[0;36mdraw\u001b[0;34m(self, renderer)\u001b[0m\n\u001b[1;32m    704\u001b[0m \u001b[0;34m\u001b[0m\u001b[0m\n\u001b[1;32m    705\u001b[0m         \u001b[0;32mwith\u001b[0m \u001b[0m_wrap_text\u001b[0m\u001b[0;34m(\u001b[0m\u001b[0mself\u001b[0m\u001b[0;34m)\u001b[0m \u001b[0;32mas\u001b[0m \u001b[0mtextobj\u001b[0m\u001b[0;34m:\u001b[0m\u001b[0;34m\u001b[0m\u001b[0m\n\u001b[0;32m--> 706\u001b[0;31m             \u001b[0mbbox\u001b[0m\u001b[0;34m,\u001b[0m \u001b[0minfo\u001b[0m\u001b[0;34m,\u001b[0m \u001b[0mdescent\u001b[0m \u001b[0;34m=\u001b[0m \u001b[0mtextobj\u001b[0m\u001b[0;34m.\u001b[0m\u001b[0m_get_layout\u001b[0m\u001b[0;34m(\u001b[0m\u001b[0mrenderer\u001b[0m\u001b[0;34m)\u001b[0m\u001b[0;34m\u001b[0m\u001b[0m\n\u001b[0m\u001b[1;32m    707\u001b[0m             \u001b[0mtrans\u001b[0m \u001b[0;34m=\u001b[0m \u001b[0mtextobj\u001b[0m\u001b[0;34m.\u001b[0m\u001b[0mget_transform\u001b[0m\u001b[0;34m(\u001b[0m\u001b[0;34m)\u001b[0m\u001b[0;34m\u001b[0m\u001b[0m\n\u001b[1;32m    708\u001b[0m \u001b[0;34m\u001b[0m\u001b[0m\n",
            "\u001b[0;32m/home/gabib3b/anaconda2/lib/python2.7/site-packages/matplotlib/text.pyc\u001b[0m in \u001b[0;36m_get_layout\u001b[0;34m(self, renderer)\u001b[0m\n\u001b[1;32m    303\u001b[0m         \u001b[0mbaseline\u001b[0m \u001b[0;34m=\u001b[0m \u001b[0;36m0\u001b[0m\u001b[0;34m\u001b[0m\u001b[0m\n\u001b[1;32m    304\u001b[0m         \u001b[0;32mfor\u001b[0m \u001b[0mi\u001b[0m\u001b[0;34m,\u001b[0m \u001b[0mline\u001b[0m \u001b[0;32min\u001b[0m \u001b[0menumerate\u001b[0m\u001b[0;34m(\u001b[0m\u001b[0mlines\u001b[0m\u001b[0;34m)\u001b[0m\u001b[0;34m:\u001b[0m\u001b[0;34m\u001b[0m\u001b[0m\n\u001b[0;32m--> 305\u001b[0;31m             \u001b[0mclean_line\u001b[0m\u001b[0;34m,\u001b[0m \u001b[0mismath\u001b[0m \u001b[0;34m=\u001b[0m \u001b[0mself\u001b[0m\u001b[0;34m.\u001b[0m\u001b[0mis_math_text\u001b[0m\u001b[0;34m(\u001b[0m\u001b[0mline\u001b[0m\u001b[0;34m,\u001b[0m \u001b[0mself\u001b[0m\u001b[0;34m.\u001b[0m\u001b[0mget_usetex\u001b[0m\u001b[0;34m(\u001b[0m\u001b[0;34m)\u001b[0m\u001b[0;34m)\u001b[0m\u001b[0;34m\u001b[0m\u001b[0m\n\u001b[0m\u001b[1;32m    306\u001b[0m             \u001b[0;32mif\u001b[0m \u001b[0mclean_line\u001b[0m\u001b[0;34m:\u001b[0m\u001b[0;34m\u001b[0m\u001b[0m\n\u001b[1;32m    307\u001b[0m                 w, h, d = renderer.get_text_width_height_descent(clean_line,\n",
            "\u001b[0;32m/home/gabib3b/anaconda2/lib/python2.7/site-packages/matplotlib/text.pyc\u001b[0m in \u001b[0;36mis_math_text\u001b[0;34m(s, usetex)\u001b[0m\n\u001b[1;32m   1186\u001b[0m             \u001b[0;32mreturn\u001b[0m \u001b[0ms\u001b[0m\u001b[0;34m,\u001b[0m \u001b[0;34m'TeX'\u001b[0m\u001b[0;34m\u001b[0m\u001b[0m\n\u001b[1;32m   1187\u001b[0m \u001b[0;34m\u001b[0m\u001b[0m\n\u001b[0;32m-> 1188\u001b[0;31m         \u001b[0;32mif\u001b[0m \u001b[0mcbook\u001b[0m\u001b[0;34m.\u001b[0m\u001b[0mis_math_text\u001b[0m\u001b[0;34m(\u001b[0m\u001b[0ms\u001b[0m\u001b[0;34m)\u001b[0m\u001b[0;34m:\u001b[0m\u001b[0;34m\u001b[0m\u001b[0m\n\u001b[0m\u001b[1;32m   1189\u001b[0m             \u001b[0;32mreturn\u001b[0m \u001b[0ms\u001b[0m\u001b[0;34m,\u001b[0m \u001b[0mTrue\u001b[0m\u001b[0;34m\u001b[0m\u001b[0m\n\u001b[1;32m   1190\u001b[0m         \u001b[0;32melse\u001b[0m\u001b[0;34m:\u001b[0m\u001b[0;34m\u001b[0m\u001b[0m\n",
            "\u001b[0;32m/home/gabib3b/anaconda2/lib/python2.7/site-packages/matplotlib/cbook/__init__.pyc\u001b[0m in \u001b[0;36mis_math_text\u001b[0;34m(s)\u001b[0m\n\u001b[1;32m   2031\u001b[0m     \u001b[0;32mexcept\u001b[0m \u001b[0mUnicodeDecodeError\u001b[0m\u001b[0;34m:\u001b[0m\u001b[0;34m\u001b[0m\u001b[0m\n\u001b[1;32m   2032\u001b[0m         raise ValueError(\n\u001b[0;32m-> 2033\u001b[0;31m             \u001b[0;34m\"matplotlib display text must have all code points < 128 or use \"\u001b[0m\u001b[0;34m\u001b[0m\u001b[0m\n\u001b[0m\u001b[1;32m   2034\u001b[0m             \"Unicode strings\")\n\u001b[1;32m   2035\u001b[0m \u001b[0;34m\u001b[0m\u001b[0m\n",
            "\u001b[0;31mValueError\u001b[0m: matplotlib display text must have all code points < 128 or use Unicode strings"
          ]
        },
        {
          "output_type": "error",
          "ename": "ValueError",
          "evalue": "matplotlib display text must have all code points < 128 or use Unicode strings",
          "traceback": [
            "\u001b[0;31m---------------------------------------------------------------------------\u001b[0m",
            "\u001b[0;31mValueError\u001b[0m                                Traceback (most recent call last)",
            "\u001b[0;32m/home/gabib3b/anaconda2/lib/python2.7/site-packages/IPython/core/formatters.pyc\u001b[0m in \u001b[0;36m__call__\u001b[0;34m(self, obj)\u001b[0m\n\u001b[1;32m    332\u001b[0m                 \u001b[0;32mpass\u001b[0m\u001b[0;34m\u001b[0m\u001b[0m\n\u001b[1;32m    333\u001b[0m             \u001b[0;32melse\u001b[0m\u001b[0;34m:\u001b[0m\u001b[0;34m\u001b[0m\u001b[0m\n\u001b[0;32m--> 334\u001b[0;31m                 \u001b[0;32mreturn\u001b[0m \u001b[0mprinter\u001b[0m\u001b[0;34m(\u001b[0m\u001b[0mobj\u001b[0m\u001b[0;34m)\u001b[0m\u001b[0;34m\u001b[0m\u001b[0m\n\u001b[0m\u001b[1;32m    335\u001b[0m             \u001b[0;31m# Finally look for special method names\u001b[0m\u001b[0;34m\u001b[0m\u001b[0;34m\u001b[0m\u001b[0m\n\u001b[1;32m    336\u001b[0m             \u001b[0mmethod\u001b[0m \u001b[0;34m=\u001b[0m \u001b[0mget_real_method\u001b[0m\u001b[0;34m(\u001b[0m\u001b[0mobj\u001b[0m\u001b[0;34m,\u001b[0m \u001b[0mself\u001b[0m\u001b[0;34m.\u001b[0m\u001b[0mprint_method\u001b[0m\u001b[0;34m)\u001b[0m\u001b[0;34m\u001b[0m\u001b[0m\n",
            "\u001b[0;32m/home/gabib3b/anaconda2/lib/python2.7/site-packages/IPython/core/pylabtools.pyc\u001b[0m in \u001b[0;36m<lambda>\u001b[0;34m(fig)\u001b[0m\n\u001b[1;32m    245\u001b[0m \u001b[0;34m\u001b[0m\u001b[0m\n\u001b[1;32m    246\u001b[0m     \u001b[0;32mif\u001b[0m \u001b[0;34m'png'\u001b[0m \u001b[0;32min\u001b[0m \u001b[0mformats\u001b[0m\u001b[0;34m:\u001b[0m\u001b[0;34m\u001b[0m\u001b[0m\n\u001b[0;32m--> 247\u001b[0;31m         \u001b[0mpng_formatter\u001b[0m\u001b[0;34m.\u001b[0m\u001b[0mfor_type\u001b[0m\u001b[0;34m(\u001b[0m\u001b[0mFigure\u001b[0m\u001b[0;34m,\u001b[0m \u001b[0;32mlambda\u001b[0m \u001b[0mfig\u001b[0m\u001b[0;34m:\u001b[0m \u001b[0mprint_figure\u001b[0m\u001b[0;34m(\u001b[0m\u001b[0mfig\u001b[0m\u001b[0;34m,\u001b[0m \u001b[0;34m'png'\u001b[0m\u001b[0;34m,\u001b[0m \u001b[0;34m**\u001b[0m\u001b[0mkwargs\u001b[0m\u001b[0;34m)\u001b[0m\u001b[0;34m)\u001b[0m\u001b[0;34m\u001b[0m\u001b[0m\n\u001b[0m\u001b[1;32m    248\u001b[0m     \u001b[0;32mif\u001b[0m \u001b[0;34m'retina'\u001b[0m \u001b[0;32min\u001b[0m \u001b[0mformats\u001b[0m \u001b[0;32mor\u001b[0m \u001b[0;34m'png2x'\u001b[0m \u001b[0;32min\u001b[0m \u001b[0mformats\u001b[0m\u001b[0;34m:\u001b[0m\u001b[0;34m\u001b[0m\u001b[0m\n\u001b[1;32m    249\u001b[0m         \u001b[0mpng_formatter\u001b[0m\u001b[0;34m.\u001b[0m\u001b[0mfor_type\u001b[0m\u001b[0;34m(\u001b[0m\u001b[0mFigure\u001b[0m\u001b[0;34m,\u001b[0m \u001b[0;32mlambda\u001b[0m \u001b[0mfig\u001b[0m\u001b[0;34m:\u001b[0m \u001b[0mretina_figure\u001b[0m\u001b[0;34m(\u001b[0m\u001b[0mfig\u001b[0m\u001b[0;34m,\u001b[0m \u001b[0;34m**\u001b[0m\u001b[0mkwargs\u001b[0m\u001b[0;34m)\u001b[0m\u001b[0;34m)\u001b[0m\u001b[0;34m\u001b[0m\u001b[0m\n",
            "\u001b[0;32m/home/gabib3b/anaconda2/lib/python2.7/site-packages/IPython/core/pylabtools.pyc\u001b[0m in \u001b[0;36mprint_figure\u001b[0;34m(fig, fmt, bbox_inches, **kwargs)\u001b[0m\n\u001b[1;32m    129\u001b[0m \u001b[0;34m\u001b[0m\u001b[0m\n\u001b[1;32m    130\u001b[0m     \u001b[0mbytes_io\u001b[0m \u001b[0;34m=\u001b[0m \u001b[0mBytesIO\u001b[0m\u001b[0;34m(\u001b[0m\u001b[0;34m)\u001b[0m\u001b[0;34m\u001b[0m\u001b[0m\n\u001b[0;32m--> 131\u001b[0;31m     \u001b[0mfig\u001b[0m\u001b[0;34m.\u001b[0m\u001b[0mcanvas\u001b[0m\u001b[0;34m.\u001b[0m\u001b[0mprint_figure\u001b[0m\u001b[0;34m(\u001b[0m\u001b[0mbytes_io\u001b[0m\u001b[0;34m,\u001b[0m \u001b[0;34m**\u001b[0m\u001b[0mkw\u001b[0m\u001b[0;34m)\u001b[0m\u001b[0;34m\u001b[0m\u001b[0m\n\u001b[0m\u001b[1;32m    132\u001b[0m     \u001b[0mdata\u001b[0m \u001b[0;34m=\u001b[0m \u001b[0mbytes_io\u001b[0m\u001b[0;34m.\u001b[0m\u001b[0mgetvalue\u001b[0m\u001b[0;34m(\u001b[0m\u001b[0;34m)\u001b[0m\u001b[0;34m\u001b[0m\u001b[0m\n\u001b[1;32m    133\u001b[0m     \u001b[0;32mif\u001b[0m \u001b[0mfmt\u001b[0m \u001b[0;34m==\u001b[0m \u001b[0;34m'svg'\u001b[0m\u001b[0;34m:\u001b[0m\u001b[0;34m\u001b[0m\u001b[0m\n",
            "\u001b[0;32m/home/gabib3b/anaconda2/lib/python2.7/site-packages/matplotlib/backend_bases.pyc\u001b[0m in \u001b[0;36mprint_figure\u001b[0;34m(self, filename, dpi, facecolor, edgecolor, orientation, format, **kwargs)\u001b[0m\n\u001b[1;32m   2210\u001b[0m                     \u001b[0morientation\u001b[0m\u001b[0;34m=\u001b[0m\u001b[0morientation\u001b[0m\u001b[0;34m,\u001b[0m\u001b[0;34m\u001b[0m\u001b[0m\n\u001b[1;32m   2211\u001b[0m                     \u001b[0mdryrun\u001b[0m\u001b[0;34m=\u001b[0m\u001b[0mTrue\u001b[0m\u001b[0;34m,\u001b[0m\u001b[0;34m\u001b[0m\u001b[0m\n\u001b[0;32m-> 2212\u001b[0;31m                     **kwargs)\n\u001b[0m\u001b[1;32m   2213\u001b[0m                 \u001b[0mrenderer\u001b[0m \u001b[0;34m=\u001b[0m \u001b[0mself\u001b[0m\u001b[0;34m.\u001b[0m\u001b[0mfigure\u001b[0m\u001b[0;34m.\u001b[0m\u001b[0m_cachedRenderer\u001b[0m\u001b[0;34m\u001b[0m\u001b[0m\n\u001b[1;32m   2214\u001b[0m                 \u001b[0mbbox_inches\u001b[0m \u001b[0;34m=\u001b[0m \u001b[0mself\u001b[0m\u001b[0;34m.\u001b[0m\u001b[0mfigure\u001b[0m\u001b[0;34m.\u001b[0m\u001b[0mget_tightbbox\u001b[0m\u001b[0;34m(\u001b[0m\u001b[0mrenderer\u001b[0m\u001b[0;34m)\u001b[0m\u001b[0;34m\u001b[0m\u001b[0m\n",
            "\u001b[0;32m/home/gabib3b/anaconda2/lib/python2.7/site-packages/matplotlib/backends/backend_agg.pyc\u001b[0m in \u001b[0;36mprint_png\u001b[0;34m(self, filename_or_obj, *args, **kwargs)\u001b[0m\n\u001b[1;32m    511\u001b[0m \u001b[0;34m\u001b[0m\u001b[0m\n\u001b[1;32m    512\u001b[0m     \u001b[0;32mdef\u001b[0m \u001b[0mprint_png\u001b[0m\u001b[0;34m(\u001b[0m\u001b[0mself\u001b[0m\u001b[0;34m,\u001b[0m \u001b[0mfilename_or_obj\u001b[0m\u001b[0;34m,\u001b[0m \u001b[0;34m*\u001b[0m\u001b[0margs\u001b[0m\u001b[0;34m,\u001b[0m \u001b[0;34m**\u001b[0m\u001b[0mkwargs\u001b[0m\u001b[0;34m)\u001b[0m\u001b[0;34m:\u001b[0m\u001b[0;34m\u001b[0m\u001b[0m\n\u001b[0;32m--> 513\u001b[0;31m         \u001b[0mFigureCanvasAgg\u001b[0m\u001b[0;34m.\u001b[0m\u001b[0mdraw\u001b[0m\u001b[0;34m(\u001b[0m\u001b[0mself\u001b[0m\u001b[0;34m)\u001b[0m\u001b[0;34m\u001b[0m\u001b[0m\n\u001b[0m\u001b[1;32m    514\u001b[0m         \u001b[0mrenderer\u001b[0m \u001b[0;34m=\u001b[0m \u001b[0mself\u001b[0m\u001b[0;34m.\u001b[0m\u001b[0mget_renderer\u001b[0m\u001b[0;34m(\u001b[0m\u001b[0;34m)\u001b[0m\u001b[0;34m\u001b[0m\u001b[0m\n\u001b[1;32m    515\u001b[0m         \u001b[0moriginal_dpi\u001b[0m \u001b[0;34m=\u001b[0m \u001b[0mrenderer\u001b[0m\u001b[0;34m.\u001b[0m\u001b[0mdpi\u001b[0m\u001b[0;34m\u001b[0m\u001b[0m\n",
            "\u001b[0;32m/home/gabib3b/anaconda2/lib/python2.7/site-packages/matplotlib/backends/backend_agg.pyc\u001b[0m in \u001b[0;36mdraw\u001b[0;34m(self)\u001b[0m\n\u001b[1;32m    431\u001b[0m             \u001b[0;31m# if toolbar:\u001b[0m\u001b[0;34m\u001b[0m\u001b[0;34m\u001b[0m\u001b[0m\n\u001b[1;32m    432\u001b[0m             \u001b[0;31m#     toolbar.set_cursor(cursors.WAIT)\u001b[0m\u001b[0;34m\u001b[0m\u001b[0;34m\u001b[0m\u001b[0m\n\u001b[0;32m--> 433\u001b[0;31m             \u001b[0mself\u001b[0m\u001b[0;34m.\u001b[0m\u001b[0mfigure\u001b[0m\u001b[0;34m.\u001b[0m\u001b[0mdraw\u001b[0m\u001b[0;34m(\u001b[0m\u001b[0mself\u001b[0m\u001b[0;34m.\u001b[0m\u001b[0mrenderer\u001b[0m\u001b[0;34m)\u001b[0m\u001b[0;34m\u001b[0m\u001b[0m\n\u001b[0m\u001b[1;32m    434\u001b[0m             \u001b[0;31m# A GUI class may be need to update a window using this draw, so\u001b[0m\u001b[0;34m\u001b[0m\u001b[0;34m\u001b[0m\u001b[0m\n\u001b[1;32m    435\u001b[0m             \u001b[0;31m# don't forget to call the superclass.\u001b[0m\u001b[0;34m\u001b[0m\u001b[0;34m\u001b[0m\u001b[0m\n",
            "\u001b[0;32m/home/gabib3b/anaconda2/lib/python2.7/site-packages/matplotlib/artist.pyc\u001b[0m in \u001b[0;36mdraw_wrapper\u001b[0;34m(artist, renderer, *args, **kwargs)\u001b[0m\n\u001b[1;32m     53\u001b[0m                 \u001b[0mrenderer\u001b[0m\u001b[0;34m.\u001b[0m\u001b[0mstart_filter\u001b[0m\u001b[0;34m(\u001b[0m\u001b[0;34m)\u001b[0m\u001b[0;34m\u001b[0m\u001b[0m\n\u001b[1;32m     54\u001b[0m \u001b[0;34m\u001b[0m\u001b[0m\n\u001b[0;32m---> 55\u001b[0;31m             \u001b[0;32mreturn\u001b[0m \u001b[0mdraw\u001b[0m\u001b[0;34m(\u001b[0m\u001b[0martist\u001b[0m\u001b[0;34m,\u001b[0m \u001b[0mrenderer\u001b[0m\u001b[0;34m,\u001b[0m \u001b[0;34m*\u001b[0m\u001b[0margs\u001b[0m\u001b[0;34m,\u001b[0m \u001b[0;34m**\u001b[0m\u001b[0mkwargs\u001b[0m\u001b[0;34m)\u001b[0m\u001b[0;34m\u001b[0m\u001b[0m\n\u001b[0m\u001b[1;32m     56\u001b[0m         \u001b[0;32mfinally\u001b[0m\u001b[0;34m:\u001b[0m\u001b[0;34m\u001b[0m\u001b[0m\n\u001b[1;32m     57\u001b[0m             \u001b[0;32mif\u001b[0m \u001b[0martist\u001b[0m\u001b[0;34m.\u001b[0m\u001b[0mget_agg_filter\u001b[0m\u001b[0;34m(\u001b[0m\u001b[0;34m)\u001b[0m \u001b[0;32mis\u001b[0m \u001b[0;32mnot\u001b[0m \u001b[0mNone\u001b[0m\u001b[0;34m:\u001b[0m\u001b[0;34m\u001b[0m\u001b[0m\n",
            "\u001b[0;32m/home/gabib3b/anaconda2/lib/python2.7/site-packages/matplotlib/figure.pyc\u001b[0m in \u001b[0;36mdraw\u001b[0;34m(self, renderer)\u001b[0m\n\u001b[1;32m   1473\u001b[0m \u001b[0;34m\u001b[0m\u001b[0m\n\u001b[1;32m   1474\u001b[0m             mimage._draw_list_compositing_images(\n\u001b[0;32m-> 1475\u001b[0;31m                 renderer, self, artists, self.suppressComposite)\n\u001b[0m\u001b[1;32m   1476\u001b[0m \u001b[0;34m\u001b[0m\u001b[0m\n\u001b[1;32m   1477\u001b[0m             \u001b[0mrenderer\u001b[0m\u001b[0;34m.\u001b[0m\u001b[0mclose_group\u001b[0m\u001b[0;34m(\u001b[0m\u001b[0;34m'figure'\u001b[0m\u001b[0;34m)\u001b[0m\u001b[0;34m\u001b[0m\u001b[0m\n",
            "\u001b[0;32m/home/gabib3b/anaconda2/lib/python2.7/site-packages/matplotlib/image.pyc\u001b[0m in \u001b[0;36m_draw_list_compositing_images\u001b[0;34m(renderer, parent, artists, suppress_composite)\u001b[0m\n\u001b[1;32m    139\u001b[0m     \u001b[0;32mif\u001b[0m \u001b[0mnot_composite\u001b[0m \u001b[0;32mor\u001b[0m \u001b[0;32mnot\u001b[0m \u001b[0mhas_images\u001b[0m\u001b[0;34m:\u001b[0m\u001b[0;34m\u001b[0m\u001b[0m\n\u001b[1;32m    140\u001b[0m         \u001b[0;32mfor\u001b[0m \u001b[0ma\u001b[0m \u001b[0;32min\u001b[0m \u001b[0martists\u001b[0m\u001b[0;34m:\u001b[0m\u001b[0;34m\u001b[0m\u001b[0m\n\u001b[0;32m--> 141\u001b[0;31m             \u001b[0ma\u001b[0m\u001b[0;34m.\u001b[0m\u001b[0mdraw\u001b[0m\u001b[0;34m(\u001b[0m\u001b[0mrenderer\u001b[0m\u001b[0;34m)\u001b[0m\u001b[0;34m\u001b[0m\u001b[0m\n\u001b[0m\u001b[1;32m    142\u001b[0m     \u001b[0;32melse\u001b[0m\u001b[0;34m:\u001b[0m\u001b[0;34m\u001b[0m\u001b[0m\n\u001b[1;32m    143\u001b[0m         \u001b[0;31m# Composite any adjacent images together\u001b[0m\u001b[0;34m\u001b[0m\u001b[0;34m\u001b[0m\u001b[0m\n",
            "\u001b[0;32m/home/gabib3b/anaconda2/lib/python2.7/site-packages/matplotlib/artist.pyc\u001b[0m in \u001b[0;36mdraw_wrapper\u001b[0;34m(artist, renderer, *args, **kwargs)\u001b[0m\n\u001b[1;32m     53\u001b[0m                 \u001b[0mrenderer\u001b[0m\u001b[0;34m.\u001b[0m\u001b[0mstart_filter\u001b[0m\u001b[0;34m(\u001b[0m\u001b[0;34m)\u001b[0m\u001b[0;34m\u001b[0m\u001b[0m\n\u001b[1;32m     54\u001b[0m \u001b[0;34m\u001b[0m\u001b[0m\n\u001b[0;32m---> 55\u001b[0;31m             \u001b[0;32mreturn\u001b[0m \u001b[0mdraw\u001b[0m\u001b[0;34m(\u001b[0m\u001b[0martist\u001b[0m\u001b[0;34m,\u001b[0m \u001b[0mrenderer\u001b[0m\u001b[0;34m,\u001b[0m \u001b[0;34m*\u001b[0m\u001b[0margs\u001b[0m\u001b[0;34m,\u001b[0m \u001b[0;34m**\u001b[0m\u001b[0mkwargs\u001b[0m\u001b[0;34m)\u001b[0m\u001b[0;34m\u001b[0m\u001b[0m\n\u001b[0m\u001b[1;32m     56\u001b[0m         \u001b[0;32mfinally\u001b[0m\u001b[0;34m:\u001b[0m\u001b[0;34m\u001b[0m\u001b[0m\n\u001b[1;32m     57\u001b[0m             \u001b[0;32mif\u001b[0m \u001b[0martist\u001b[0m\u001b[0;34m.\u001b[0m\u001b[0mget_agg_filter\u001b[0m\u001b[0;34m(\u001b[0m\u001b[0;34m)\u001b[0m \u001b[0;32mis\u001b[0m \u001b[0;32mnot\u001b[0m \u001b[0mNone\u001b[0m\u001b[0;34m:\u001b[0m\u001b[0;34m\u001b[0m\u001b[0m\n",
            "\u001b[0;32m/home/gabib3b/anaconda2/lib/python2.7/site-packages/matplotlib/axes/_base.pyc\u001b[0m in \u001b[0;36mdraw\u001b[0;34m(self, renderer, inframe)\u001b[0m\n\u001b[1;32m   2605\u001b[0m             \u001b[0mrenderer\u001b[0m\u001b[0;34m.\u001b[0m\u001b[0mstop_rasterizing\u001b[0m\u001b[0;34m(\u001b[0m\u001b[0;34m)\u001b[0m\u001b[0;34m\u001b[0m\u001b[0m\n\u001b[1;32m   2606\u001b[0m \u001b[0;34m\u001b[0m\u001b[0m\n\u001b[0;32m-> 2607\u001b[0;31m         \u001b[0mmimage\u001b[0m\u001b[0;34m.\u001b[0m\u001b[0m_draw_list_compositing_images\u001b[0m\u001b[0;34m(\u001b[0m\u001b[0mrenderer\u001b[0m\u001b[0;34m,\u001b[0m \u001b[0mself\u001b[0m\u001b[0;34m,\u001b[0m \u001b[0martists\u001b[0m\u001b[0;34m)\u001b[0m\u001b[0;34m\u001b[0m\u001b[0m\n\u001b[0m\u001b[1;32m   2608\u001b[0m \u001b[0;34m\u001b[0m\u001b[0m\n\u001b[1;32m   2609\u001b[0m         \u001b[0mrenderer\u001b[0m\u001b[0;34m.\u001b[0m\u001b[0mclose_group\u001b[0m\u001b[0;34m(\u001b[0m\u001b[0;34m'axes'\u001b[0m\u001b[0;34m)\u001b[0m\u001b[0;34m\u001b[0m\u001b[0m\n",
            "\u001b[0;32m/home/gabib3b/anaconda2/lib/python2.7/site-packages/matplotlib/image.pyc\u001b[0m in \u001b[0;36m_draw_list_compositing_images\u001b[0;34m(renderer, parent, artists, suppress_composite)\u001b[0m\n\u001b[1;32m    139\u001b[0m     \u001b[0;32mif\u001b[0m \u001b[0mnot_composite\u001b[0m \u001b[0;32mor\u001b[0m \u001b[0;32mnot\u001b[0m \u001b[0mhas_images\u001b[0m\u001b[0;34m:\u001b[0m\u001b[0;34m\u001b[0m\u001b[0m\n\u001b[1;32m    140\u001b[0m         \u001b[0;32mfor\u001b[0m \u001b[0ma\u001b[0m \u001b[0;32min\u001b[0m \u001b[0martists\u001b[0m\u001b[0;34m:\u001b[0m\u001b[0;34m\u001b[0m\u001b[0m\n\u001b[0;32m--> 141\u001b[0;31m             \u001b[0ma\u001b[0m\u001b[0;34m.\u001b[0m\u001b[0mdraw\u001b[0m\u001b[0;34m(\u001b[0m\u001b[0mrenderer\u001b[0m\u001b[0;34m)\u001b[0m\u001b[0;34m\u001b[0m\u001b[0m\n\u001b[0m\u001b[1;32m    142\u001b[0m     \u001b[0;32melse\u001b[0m\u001b[0;34m:\u001b[0m\u001b[0;34m\u001b[0m\u001b[0m\n\u001b[1;32m    143\u001b[0m         \u001b[0;31m# Composite any adjacent images together\u001b[0m\u001b[0;34m\u001b[0m\u001b[0;34m\u001b[0m\u001b[0m\n",
            "\u001b[0;32m/home/gabib3b/anaconda2/lib/python2.7/site-packages/matplotlib/artist.pyc\u001b[0m in \u001b[0;36mdraw_wrapper\u001b[0;34m(artist, renderer, *args, **kwargs)\u001b[0m\n\u001b[1;32m     53\u001b[0m                 \u001b[0mrenderer\u001b[0m\u001b[0;34m.\u001b[0m\u001b[0mstart_filter\u001b[0m\u001b[0;34m(\u001b[0m\u001b[0;34m)\u001b[0m\u001b[0;34m\u001b[0m\u001b[0m\n\u001b[1;32m     54\u001b[0m \u001b[0;34m\u001b[0m\u001b[0m\n\u001b[0;32m---> 55\u001b[0;31m             \u001b[0;32mreturn\u001b[0m \u001b[0mdraw\u001b[0m\u001b[0;34m(\u001b[0m\u001b[0martist\u001b[0m\u001b[0;34m,\u001b[0m \u001b[0mrenderer\u001b[0m\u001b[0;34m,\u001b[0m \u001b[0;34m*\u001b[0m\u001b[0margs\u001b[0m\u001b[0;34m,\u001b[0m \u001b[0;34m**\u001b[0m\u001b[0mkwargs\u001b[0m\u001b[0;34m)\u001b[0m\u001b[0;34m\u001b[0m\u001b[0m\n\u001b[0m\u001b[1;32m     56\u001b[0m         \u001b[0;32mfinally\u001b[0m\u001b[0;34m:\u001b[0m\u001b[0;34m\u001b[0m\u001b[0m\n\u001b[1;32m     57\u001b[0m             \u001b[0;32mif\u001b[0m \u001b[0martist\u001b[0m\u001b[0;34m.\u001b[0m\u001b[0mget_agg_filter\u001b[0m\u001b[0;34m(\u001b[0m\u001b[0;34m)\u001b[0m \u001b[0;32mis\u001b[0m \u001b[0;32mnot\u001b[0m \u001b[0mNone\u001b[0m\u001b[0;34m:\u001b[0m\u001b[0;34m\u001b[0m\u001b[0m\n",
            "\u001b[0;32m/home/gabib3b/anaconda2/lib/python2.7/site-packages/matplotlib/text.pyc\u001b[0m in \u001b[0;36mdraw\u001b[0;34m(self, renderer)\u001b[0m\n\u001b[1;32m    704\u001b[0m \u001b[0;34m\u001b[0m\u001b[0m\n\u001b[1;32m    705\u001b[0m         \u001b[0;32mwith\u001b[0m \u001b[0m_wrap_text\u001b[0m\u001b[0;34m(\u001b[0m\u001b[0mself\u001b[0m\u001b[0;34m)\u001b[0m \u001b[0;32mas\u001b[0m \u001b[0mtextobj\u001b[0m\u001b[0;34m:\u001b[0m\u001b[0;34m\u001b[0m\u001b[0m\n\u001b[0;32m--> 706\u001b[0;31m             \u001b[0mbbox\u001b[0m\u001b[0;34m,\u001b[0m \u001b[0minfo\u001b[0m\u001b[0;34m,\u001b[0m \u001b[0mdescent\u001b[0m \u001b[0;34m=\u001b[0m \u001b[0mtextobj\u001b[0m\u001b[0;34m.\u001b[0m\u001b[0m_get_layout\u001b[0m\u001b[0;34m(\u001b[0m\u001b[0mrenderer\u001b[0m\u001b[0;34m)\u001b[0m\u001b[0;34m\u001b[0m\u001b[0m\n\u001b[0m\u001b[1;32m    707\u001b[0m             \u001b[0mtrans\u001b[0m \u001b[0;34m=\u001b[0m \u001b[0mtextobj\u001b[0m\u001b[0;34m.\u001b[0m\u001b[0mget_transform\u001b[0m\u001b[0;34m(\u001b[0m\u001b[0;34m)\u001b[0m\u001b[0;34m\u001b[0m\u001b[0m\n\u001b[1;32m    708\u001b[0m \u001b[0;34m\u001b[0m\u001b[0m\n",
            "\u001b[0;32m/home/gabib3b/anaconda2/lib/python2.7/site-packages/matplotlib/text.pyc\u001b[0m in \u001b[0;36m_get_layout\u001b[0;34m(self, renderer)\u001b[0m\n\u001b[1;32m    303\u001b[0m         \u001b[0mbaseline\u001b[0m \u001b[0;34m=\u001b[0m \u001b[0;36m0\u001b[0m\u001b[0;34m\u001b[0m\u001b[0m\n\u001b[1;32m    304\u001b[0m         \u001b[0;32mfor\u001b[0m \u001b[0mi\u001b[0m\u001b[0;34m,\u001b[0m \u001b[0mline\u001b[0m \u001b[0;32min\u001b[0m \u001b[0menumerate\u001b[0m\u001b[0;34m(\u001b[0m\u001b[0mlines\u001b[0m\u001b[0;34m)\u001b[0m\u001b[0;34m:\u001b[0m\u001b[0;34m\u001b[0m\u001b[0m\n\u001b[0;32m--> 305\u001b[0;31m             \u001b[0mclean_line\u001b[0m\u001b[0;34m,\u001b[0m \u001b[0mismath\u001b[0m \u001b[0;34m=\u001b[0m \u001b[0mself\u001b[0m\u001b[0;34m.\u001b[0m\u001b[0mis_math_text\u001b[0m\u001b[0;34m(\u001b[0m\u001b[0mline\u001b[0m\u001b[0;34m,\u001b[0m \u001b[0mself\u001b[0m\u001b[0;34m.\u001b[0m\u001b[0mget_usetex\u001b[0m\u001b[0;34m(\u001b[0m\u001b[0;34m)\u001b[0m\u001b[0;34m)\u001b[0m\u001b[0;34m\u001b[0m\u001b[0m\n\u001b[0m\u001b[1;32m    306\u001b[0m             \u001b[0;32mif\u001b[0m \u001b[0mclean_line\u001b[0m\u001b[0;34m:\u001b[0m\u001b[0;34m\u001b[0m\u001b[0m\n\u001b[1;32m    307\u001b[0m                 w, h, d = renderer.get_text_width_height_descent(clean_line,\n",
            "\u001b[0;32m/home/gabib3b/anaconda2/lib/python2.7/site-packages/matplotlib/text.pyc\u001b[0m in \u001b[0;36mis_math_text\u001b[0;34m(s, usetex)\u001b[0m\n\u001b[1;32m   1186\u001b[0m             \u001b[0;32mreturn\u001b[0m \u001b[0ms\u001b[0m\u001b[0;34m,\u001b[0m \u001b[0;34m'TeX'\u001b[0m\u001b[0;34m\u001b[0m\u001b[0m\n\u001b[1;32m   1187\u001b[0m \u001b[0;34m\u001b[0m\u001b[0m\n\u001b[0;32m-> 1188\u001b[0;31m         \u001b[0;32mif\u001b[0m \u001b[0mcbook\u001b[0m\u001b[0;34m.\u001b[0m\u001b[0mis_math_text\u001b[0m\u001b[0;34m(\u001b[0m\u001b[0ms\u001b[0m\u001b[0;34m)\u001b[0m\u001b[0;34m:\u001b[0m\u001b[0;34m\u001b[0m\u001b[0m\n\u001b[0m\u001b[1;32m   1189\u001b[0m             \u001b[0;32mreturn\u001b[0m \u001b[0ms\u001b[0m\u001b[0;34m,\u001b[0m \u001b[0mTrue\u001b[0m\u001b[0;34m\u001b[0m\u001b[0m\n\u001b[1;32m   1190\u001b[0m         \u001b[0;32melse\u001b[0m\u001b[0;34m:\u001b[0m\u001b[0;34m\u001b[0m\u001b[0m\n",
            "\u001b[0;32m/home/gabib3b/anaconda2/lib/python2.7/site-packages/matplotlib/cbook/__init__.pyc\u001b[0m in \u001b[0;36mis_math_text\u001b[0;34m(s)\u001b[0m\n\u001b[1;32m   2031\u001b[0m     \u001b[0;32mexcept\u001b[0m \u001b[0mUnicodeDecodeError\u001b[0m\u001b[0;34m:\u001b[0m\u001b[0;34m\u001b[0m\u001b[0m\n\u001b[1;32m   2032\u001b[0m         raise ValueError(\n\u001b[0;32m-> 2033\u001b[0;31m             \u001b[0;34m\"matplotlib display text must have all code points < 128 or use \"\u001b[0m\u001b[0;34m\u001b[0m\u001b[0m\n\u001b[0m\u001b[1;32m   2034\u001b[0m             \"Unicode strings\")\n\u001b[1;32m   2035\u001b[0m \u001b[0;34m\u001b[0m\u001b[0m\n",
            "\u001b[0;31mValueError\u001b[0m: matplotlib display text must have all code points < 128 or use Unicode strings"
          ]
        },
        {
          "output_type": "display_data",
          "data": {
            "text/plain": [
              "<Figure size 648x648 with 1 Axes>"
            ]
          },
          "metadata": {
            "tags": []
          }
        }
      ]
    },
    {
      "metadata": {
        "id": "4WJDq0L_RXdf",
        "colab_type": "text"
      },
      "cell_type": "markdown",
      "source": [
        "## Text Classification\n",
        "In this section, you'll build a text classifier, determining the genre of a song based on its lyrics."
      ]
    },
    {
      "metadata": {
        "id": "r7r2gGPNRXdg",
        "colab_type": "text"
      },
      "cell_type": "markdown",
      "source": [
        "### Text classification using Bag-of-Words\n",
        "Build a Naive Bayes classifier based on the bag of Words.  \n",
        "You will need to divide your dataset into a train and test sets."
      ]
    },
    {
      "metadata": {
        "id": "m7_TWU0MRXdg",
        "colab_type": "code",
        "colab": {}
      },
      "cell_type": "code",
      "source": [
        "from sklearn.model_selection import train_test_split\n",
        "lyrics_df['clean_sentense'] = lyrics_df['clean_lyrics'].map(lambda words: ' '.join(words)) \n",
        "train, test = train_test_split(lyrics_df, test_size=0.2, random_state=999)\n",
        "\n",
        "\n",
        "#X_train = train['lyrics'].tolist()\n",
        "X_train = train['clean_sentense'].tolist()\n",
        "y_train = train['genre'].tolist()\n",
        "\n",
        "#X_test = test['lyrics']\n",
        "X_test = test['clean_sentense']\n",
        "y_test = test['genre']"
      ],
      "execution_count": 0,
      "outputs": []
    },
    {
      "metadata": {
        "id": "dbqc1AeARXdk",
        "colab_type": "code",
        "colab": {},
        "outputId": "c3bccfd9-53f3-4eaa-ce61-0e711f9be263"
      },
      "cell_type": "code",
      "source": [
        "from sklearn.feature_extraction.text import CountVectorizer\n",
        "vect = CountVectorizer()\n",
        "X_train_dtm = vect.fit_transform(X_train)\n"
      ],
      "execution_count": 0,
      "outputs": [
        {
          "output_type": "error",
          "ename": "UnicodeDecodeError",
          "evalue": "'utf8' codec can't decode byte 0xc2 in position 735: invalid continuation byte",
          "traceback": [
            "\u001b[0;31m---------------------------------------------------------------------------\u001b[0m",
            "\u001b[0;31mUnicodeDecodeError\u001b[0m                        Traceback (most recent call last)",
            "\u001b[0;32m<ipython-input-108-92e402d7272d>\u001b[0m in \u001b[0;36m<module>\u001b[0;34m()\u001b[0m\n\u001b[1;32m      1\u001b[0m \u001b[0;32mfrom\u001b[0m \u001b[0msklearn\u001b[0m\u001b[0;34m.\u001b[0m\u001b[0mfeature_extraction\u001b[0m\u001b[0;34m.\u001b[0m\u001b[0mtext\u001b[0m \u001b[0;32mimport\u001b[0m \u001b[0mCountVectorizer\u001b[0m\u001b[0;34m\u001b[0m\u001b[0m\n\u001b[1;32m      2\u001b[0m \u001b[0mvect\u001b[0m \u001b[0;34m=\u001b[0m \u001b[0mCountVectorizer\u001b[0m\u001b[0;34m(\u001b[0m\u001b[0;34m)\u001b[0m\u001b[0;34m\u001b[0m\u001b[0m\n\u001b[0;32m----> 3\u001b[0;31m \u001b[0mX_train_dtm\u001b[0m \u001b[0;34m=\u001b[0m \u001b[0mvect\u001b[0m\u001b[0;34m.\u001b[0m\u001b[0mfit_transform\u001b[0m\u001b[0;34m(\u001b[0m\u001b[0mX_train\u001b[0m\u001b[0;34m)\u001b[0m\u001b[0;34m\u001b[0m\u001b[0m\n\u001b[0m",
            "\u001b[0;32m/home/gabib3b/anaconda2/lib/python2.7/site-packages/sklearn/feature_extraction/text.pyc\u001b[0m in \u001b[0;36mfit_transform\u001b[0;34m(self, raw_documents, y)\u001b[0m\n\u001b[1;32m    867\u001b[0m \u001b[0;34m\u001b[0m\u001b[0m\n\u001b[1;32m    868\u001b[0m         vocabulary, X = self._count_vocab(raw_documents,\n\u001b[0;32m--> 869\u001b[0;31m                                           self.fixed_vocabulary_)\n\u001b[0m\u001b[1;32m    870\u001b[0m \u001b[0;34m\u001b[0m\u001b[0m\n\u001b[1;32m    871\u001b[0m         \u001b[0;32mif\u001b[0m \u001b[0mself\u001b[0m\u001b[0;34m.\u001b[0m\u001b[0mbinary\u001b[0m\u001b[0;34m:\u001b[0m\u001b[0;34m\u001b[0m\u001b[0m\n",
            "\u001b[0;32m/home/gabib3b/anaconda2/lib/python2.7/site-packages/sklearn/feature_extraction/text.pyc\u001b[0m in \u001b[0;36m_count_vocab\u001b[0;34m(self, raw_documents, fixed_vocab)\u001b[0m\n\u001b[1;32m    790\u001b[0m         \u001b[0;32mfor\u001b[0m \u001b[0mdoc\u001b[0m \u001b[0;32min\u001b[0m \u001b[0mraw_documents\u001b[0m\u001b[0;34m:\u001b[0m\u001b[0;34m\u001b[0m\u001b[0m\n\u001b[1;32m    791\u001b[0m             \u001b[0mfeature_counter\u001b[0m \u001b[0;34m=\u001b[0m \u001b[0;34m{\u001b[0m\u001b[0;34m}\u001b[0m\u001b[0;34m\u001b[0m\u001b[0m\n\u001b[0;32m--> 792\u001b[0;31m             \u001b[0;32mfor\u001b[0m \u001b[0mfeature\u001b[0m \u001b[0;32min\u001b[0m \u001b[0manalyze\u001b[0m\u001b[0;34m(\u001b[0m\u001b[0mdoc\u001b[0m\u001b[0;34m)\u001b[0m\u001b[0;34m:\u001b[0m\u001b[0;34m\u001b[0m\u001b[0m\n\u001b[0m\u001b[1;32m    793\u001b[0m                 \u001b[0;32mtry\u001b[0m\u001b[0;34m:\u001b[0m\u001b[0;34m\u001b[0m\u001b[0m\n\u001b[1;32m    794\u001b[0m                     \u001b[0mfeature_idx\u001b[0m \u001b[0;34m=\u001b[0m \u001b[0mvocabulary\u001b[0m\u001b[0;34m[\u001b[0m\u001b[0mfeature\u001b[0m\u001b[0;34m]\u001b[0m\u001b[0;34m\u001b[0m\u001b[0m\n",
            "\u001b[0;32m/home/gabib3b/anaconda2/lib/python2.7/site-packages/sklearn/feature_extraction/text.pyc\u001b[0m in \u001b[0;36m<lambda>\u001b[0;34m(doc)\u001b[0m\n\u001b[1;32m    264\u001b[0m \u001b[0;34m\u001b[0m\u001b[0m\n\u001b[1;32m    265\u001b[0m             return lambda doc: self._word_ngrams(\n\u001b[0;32m--> 266\u001b[0;31m                 tokenize(preprocess(self.decode(doc))), stop_words)\n\u001b[0m\u001b[1;32m    267\u001b[0m \u001b[0;34m\u001b[0m\u001b[0m\n\u001b[1;32m    268\u001b[0m         \u001b[0;32melse\u001b[0m\u001b[0;34m:\u001b[0m\u001b[0;34m\u001b[0m\u001b[0m\n",
            "\u001b[0;32m/home/gabib3b/anaconda2/lib/python2.7/site-packages/sklearn/feature_extraction/text.pyc\u001b[0m in \u001b[0;36mdecode\u001b[0;34m(self, doc)\u001b[0m\n\u001b[1;32m    114\u001b[0m \u001b[0;34m\u001b[0m\u001b[0m\n\u001b[1;32m    115\u001b[0m         \u001b[0;32mif\u001b[0m \u001b[0misinstance\u001b[0m\u001b[0;34m(\u001b[0m\u001b[0mdoc\u001b[0m\u001b[0;34m,\u001b[0m \u001b[0mbytes\u001b[0m\u001b[0;34m)\u001b[0m\u001b[0;34m:\u001b[0m\u001b[0;34m\u001b[0m\u001b[0m\n\u001b[0;32m--> 116\u001b[0;31m             \u001b[0mdoc\u001b[0m \u001b[0;34m=\u001b[0m \u001b[0mdoc\u001b[0m\u001b[0;34m.\u001b[0m\u001b[0mdecode\u001b[0m\u001b[0;34m(\u001b[0m\u001b[0mself\u001b[0m\u001b[0;34m.\u001b[0m\u001b[0mencoding\u001b[0m\u001b[0;34m,\u001b[0m \u001b[0mself\u001b[0m\u001b[0;34m.\u001b[0m\u001b[0mdecode_error\u001b[0m\u001b[0;34m)\u001b[0m\u001b[0;34m\u001b[0m\u001b[0m\n\u001b[0m\u001b[1;32m    117\u001b[0m \u001b[0;34m\u001b[0m\u001b[0m\n\u001b[1;32m    118\u001b[0m         \u001b[0;32mif\u001b[0m \u001b[0mdoc\u001b[0m \u001b[0;32mis\u001b[0m \u001b[0mnp\u001b[0m\u001b[0;34m.\u001b[0m\u001b[0mnan\u001b[0m\u001b[0;34m:\u001b[0m\u001b[0;34m\u001b[0m\u001b[0m\n",
            "\u001b[0;32m/home/gabib3b/anaconda2/lib/python2.7/encodings/utf_8.pyc\u001b[0m in \u001b[0;36mdecode\u001b[0;34m(input, errors)\u001b[0m\n\u001b[1;32m     14\u001b[0m \u001b[0;34m\u001b[0m\u001b[0m\n\u001b[1;32m     15\u001b[0m \u001b[0;32mdef\u001b[0m \u001b[0mdecode\u001b[0m\u001b[0;34m(\u001b[0m\u001b[0minput\u001b[0m\u001b[0;34m,\u001b[0m \u001b[0merrors\u001b[0m\u001b[0;34m=\u001b[0m\u001b[0;34m'strict'\u001b[0m\u001b[0;34m)\u001b[0m\u001b[0;34m:\u001b[0m\u001b[0;34m\u001b[0m\u001b[0m\n\u001b[0;32m---> 16\u001b[0;31m     \u001b[0;32mreturn\u001b[0m \u001b[0mcodecs\u001b[0m\u001b[0;34m.\u001b[0m\u001b[0mutf_8_decode\u001b[0m\u001b[0;34m(\u001b[0m\u001b[0minput\u001b[0m\u001b[0;34m,\u001b[0m \u001b[0merrors\u001b[0m\u001b[0;34m,\u001b[0m \u001b[0mTrue\u001b[0m\u001b[0;34m)\u001b[0m\u001b[0;34m\u001b[0m\u001b[0m\n\u001b[0m\u001b[1;32m     17\u001b[0m \u001b[0;34m\u001b[0m\u001b[0m\n\u001b[1;32m     18\u001b[0m \u001b[0;32mclass\u001b[0m \u001b[0mIncrementalEncoder\u001b[0m\u001b[0;34m(\u001b[0m\u001b[0mcodecs\u001b[0m\u001b[0;34m.\u001b[0m\u001b[0mIncrementalEncoder\u001b[0m\u001b[0;34m)\u001b[0m\u001b[0;34m:\u001b[0m\u001b[0;34m\u001b[0m\u001b[0m\n",
            "\u001b[0;31mUnicodeDecodeError\u001b[0m: 'utf8' codec can't decode byte 0xc2 in position 735: invalid continuation byte"
          ]
        }
      ]
    },
    {
      "metadata": {
        "id": "gQTfWo3PRXdn",
        "colab_type": "code",
        "colab": {}
      },
      "cell_type": "code",
      "source": [
        "from sklearn.naive_bayes import MultinomialNB\n",
        "\n",
        "nb = MultinomialNB()\n",
        "nb.fit(X_train_dtm, y_train)\n"
      ],
      "execution_count": 0,
      "outputs": []
    },
    {
      "metadata": {
        "id": "a3Lg6fv_RXdp",
        "colab_type": "code",
        "colab": {}
      },
      "cell_type": "code",
      "source": [
        "X_test_dtm = vect.transform(X_test)\n",
        "y_pred_class = nb.predict(X_test_dtm)\n",
        "accuracy_score = accuracy_score(y_test, y_pred_class)\n",
        "accuracy_score\n",
        "\n"
      ],
      "execution_count": 0,
      "outputs": []
    },
    {
      "metadata": {
        "id": "uVMOr9T8RXdr",
        "colab_type": "code",
        "colab": {}
      },
      "cell_type": "code",
      "source": [
        "geners = lyrics_df['genre'].unique()\n"
      ],
      "execution_count": 0,
      "outputs": []
    },
    {
      "metadata": {
        "id": "f7vRLIjhRXdt",
        "colab_type": "code",
        "colab": {}
      },
      "cell_type": "code",
      "source": [
        "from sklearn.metrics import confusion_matrix\n",
        "from sklearn.metrics import accuracy_score\n",
        "geners = lyrics_df['genre'].unique()\n",
        "conf_mat = confusion_matrix(\n",
        "        y_test, y_pred_class, labels = geners)\n",
        "\n",
        "acc_score = accuracy_score(y_test, y_pred_class)\n",
        "\n",
        "print(acc_score)"
      ],
      "execution_count": 0,
      "outputs": []
    },
    {
      "metadata": {
        "id": "UeYY3BYyRXdu",
        "colab_type": "code",
        "colab": {}
      },
      "cell_type": "code",
      "source": [
        "import seaborn as sns\n",
        "\n",
        "def plt_confusion_matrix(cm, class_names, normalize =False):\n",
        "  \n",
        "  if normalize:\n",
        "        cm = cm.astype('float') / cm.sum(axis=1)[:, np.newaxis]\n",
        "      \n",
        "  \n",
        "  df_cm = pd.DataFrame(cm, index = [i for i in class_names],\n",
        "                    columns = class_names)\n",
        "  \n",
        "  plt.figure(figsize = (20,14))\n",
        "  sns.heatmap(df_cm, annot=True)\n",
        "\n",
        "plt_confusion_matrix(conf_mat, geners)"
      ],
      "execution_count": 0,
      "outputs": []
    },
    {
      "metadata": {
        "id": "u3OJnG3-RXdv",
        "colab_type": "text"
      },
      "cell_type": "markdown",
      "source": [
        "Show the classification report - precision, recall, f1 for each class."
      ]
    },
    {
      "metadata": {
        "id": "MCHuOuKBRXdv",
        "colab_type": "code",
        "colab": {}
      },
      "cell_type": "code",
      "source": [
        "from sklearn.metrics import classification_report\n",
        "print(classification_report(y_test, y_pred_class))\n"
      ],
      "execution_count": 0,
      "outputs": []
    },
    {
      "metadata": {
        "id": "KuT0hps4RXdx",
        "colab_type": "text"
      },
      "cell_type": "markdown",
      "source": [
        "### Text classification using Word Vectors\n",
        "#### Average word vectors\n",
        "Do the same, using a classifier that averages the word vectors of words in the document."
      ]
    },
    {
      "metadata": {
        "id": "2WPbc8BIRXdx",
        "colab_type": "code",
        "colab": {}
      },
      "cell_type": "code",
      "source": [
        "#lyrics_df['t1'] = lyrics_df['clean_lyrics'].map(lambda words: ' '.join(words)) \n",
        "def avg_sentense(sentense_words):\n",
        "    vectors = []\n",
        "    for word in sentense_words:\n",
        "        vectors.append(wevec_model.wv[word].reshape(1,-1))\n",
        "    \n",
        "    if len(vectors) > 1:\n",
        "        return np.mean(vectors, axis=0)\n",
        "    else:\n",
        "        return vectors[0]\n",
        "\n",
        "lyrics_df = lyrics_df[lyrics_df.clean_lyrics.notnull()]\n",
        "lyrics_df['avg_vector'] = lyrics_df[\"clean_lyrics\"].map(lambda sentense: (avg_sentense(sentense)))\n",
        "train, test = train_test_split(lyrics_df, test_size=0.2, random_state=999)\n",
        "\n",
        "#X_train = train['lyrics'].tolist()\n",
        "X_train = train['avg_vector'].tolist()\n",
        "y_train = train['genre'].tolist()\n",
        "\n",
        "#X_test = test['lyrics']\n",
        "X_test = test['avg_vector'].tolist()\n",
        "y_test = test['genre']\n",
        "\n",
        "#avg_sentense(lyrics_df['clean_lyrics'][0])\n",
        "#twitter_lex_df['vector'] = twitter_lex_df[\"word\"].map(lambda word: wevec_model.wv[word].reshape(1,-1) if word in wevec_model.wv else None)"
      ],
      "execution_count": 0,
      "outputs": []
    },
    {
      "metadata": {
        "id": "B5-GdId2RXdy",
        "colab_type": "code",
        "colab": {}
      },
      "cell_type": "code",
      "source": [
        "# nb = MultinomialNB()\n",
        "# # nb.fit([[1,2,3], [2,3,4]], [1,2])\n",
        "# train, test = train_test_split(lyrics_df, test_size=0.2, random_state=999)\n",
        "# train_x_data = train['avg_vector'].tolist()\n",
        "\n",
        "\n"
      ],
      "execution_count": 0,
      "outputs": []
    },
    {
      "metadata": {
        "id": "kBWyIDskRXd1",
        "colab_type": "code",
        "colab": {}
      },
      "cell_type": "code",
      "source": [
        "\n",
        "from sklearn.naive_bayes import MultinomialNB\n",
        "X_train = np.asanyarray(X_train)\n",
        "X_train = X_train.reshape((212318,300))\n",
        "\n",
        "X_test1 = np.asanyarray(X_test)\n",
        "X_test1 = X_test1.reshape((-1, 300))\n",
        "\n",
        "\n",
        "# # X_train[0.shape\n",
        "# nb = MultinomialNB()\n",
        "# nb.fit(xx, y_train)\n"
      ],
      "execution_count": 0,
      "outputs": []
    },
    {
      "metadata": {
        "id": "NuFvKc8IRXd2",
        "colab_type": "code",
        "colab": {}
      },
      "cell_type": "code",
      "source": [
        "X_test1.shape\n"
      ],
      "execution_count": 0,
      "outputs": []
    },
    {
      "metadata": {
        "id": "7FgbClY3RXd9",
        "colab_type": "code",
        "colab": {}
      },
      "cell_type": "code",
      "source": [
        "from sklearn import preprocessing\n",
        "from sklearn.preprocessing import MinMaxScaler\n",
        "scaler = MinMaxScaler()\n",
        "scaler.fit(X_train)\n",
        "X_scaled = scaler.transform(X_train)\n",
        "X_test1 = scaler.transform(X_test1)\n",
        "#X_scaled = preprocessing.scale(X_train)"
      ],
      "execution_count": 0,
      "outputs": []
    },
    {
      "metadata": {
        "id": "2714gf9ERXd-",
        "colab_type": "code",
        "colab": {}
      },
      "cell_type": "code",
      "source": [
        "translator = {}\n",
        "translator2 = {}\n",
        "for index, y in  enumerate(set(y_train)):\n",
        "    translator[index] = y\n",
        "    translator2[y] = index\n",
        "    \n",
        "# (X_train.shape, len(y_train))\n",
        "# nb = MultinomialNB()\n",
        "# nb.fit(X_scaled, y_train)"
      ],
      "execution_count": 0,
      "outputs": []
    },
    {
      "metadata": {
        "id": "LDe4CVX5RXd_",
        "colab_type": "code",
        "colab": {}
      },
      "cell_type": "code",
      "source": [
        "y_train_numbers = [translator2[y] for y in y_train]"
      ],
      "execution_count": 0,
      "outputs": []
    },
    {
      "metadata": {
        "id": "TJ0MkF9bRXeA",
        "colab_type": "code",
        "colab": {}
      },
      "cell_type": "code",
      "source": [
        "# (X_train.shape, len(y_train))\n",
        "nb = MultinomialNB()\n",
        "nb.fit(X_scaled, y_train_numbers)"
      ],
      "execution_count": 0,
      "outputs": []
    },
    {
      "metadata": {
        "id": "PTx6dg-gRXeD",
        "colab_type": "code",
        "colab": {}
      },
      "cell_type": "code",
      "source": [
        "y_pred_class = nb.predict(X_test1)\n",
        "res = [translator[y1] for y1 in y_pred_class]\n",
        "acc_score = accuracy_score(y_test, res)\n",
        "acc_score"
      ],
      "execution_count": 0,
      "outputs": []
    },
    {
      "metadata": {
        "id": "vy2GTuIiRXeE",
        "colab_type": "text"
      },
      "cell_type": "markdown",
      "source": [
        "#### TfIdf Weighting\n",
        "Do the same, using a classifier that averages the word vectors of words in the document, weighting each word by its TfIdf.\n"
      ]
    },
    {
      "metadata": {
        "id": "_svSV6f1RXeG",
        "colab_type": "code",
        "colab": {}
      },
      "cell_type": "code",
      "source": [
        ""
      ],
      "execution_count": 0,
      "outputs": []
    },
    {
      "metadata": {
        "id": "EzLU6-qKRXeH",
        "colab_type": "text"
      },
      "cell_type": "markdown",
      "source": [
        "### Text classification using ConvNet\n",
        "Do the same, using a ConvNet.  \n",
        "The ConvNet should get as input a 2D matrix where each column is an embedding vector of a single word, and words are in order. Use zero padding so that all matrices have a similar length.  \n",
        "Some songs might be very long. Trim them so you keep a maximum of 128 words (after cleaning stop words and rare words).  \n",
        "Initialize the embedding layer using the word vectors that you've trained before, but allow them to change during training.  \n",
        "\n",
        "Extra: Try training the ConvNet with 2 slight modifications:\n",
        "1. freezing the the weights trained using Word2vec (preventing it from updating)\n",
        "1. random initialization of the embedding layer"
      ]
    },
    {
      "metadata": {
        "id": "8FjeeWcfRXeH",
        "colab_type": "text"
      },
      "cell_type": "markdown",
      "source": [
        "You are encouraged to try this question on your own.  \n",
        "\n",
        "You might prefer to get ideas from the paper \"Convolutional Neural Networks for Sentence Classification\" (Kim 2014, [link](https://arxiv.org/abs/1408.5882)).\n",
        "\n",
        "There are several implementations of the paper code in PyTorch online (see for example [this repo](https://github.com/prakashpandey9/Text-Classification-Pytorch) for a PyTorch implementation of CNN and other architectures for text classification). If you get stuck, they might provide you with a reference for your own code."
      ]
    },
    {
      "metadata": {
        "id": "rvOBQ3TzRXeI",
        "colab_type": "code",
        "colab": {}
      },
      "cell_type": "code",
      "source": [
        ""
      ],
      "execution_count": 0,
      "outputs": []
    }
  ]
}