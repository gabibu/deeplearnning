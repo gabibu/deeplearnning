{
  "nbformat": 4,
  "nbformat_minor": 0,
  "metadata": {
    "colab": {
      "name": "DL_word_embedding_assignment-checkpoint.ipynb",
      "version": "0.3.2",
      "provenance": []
    },
    "kernelspec": {
      "name": "python3",
      "display_name": "Python 3"
    },
    "accelerator": "GPU"
  },
  "cells": [
    {
      "metadata": {
        "id": "k_CaLtyMRXae",
        "colab_type": "text"
      },
      "cell_type": "markdown",
      "source": [
        "# Word Embedding - Home Assigment\n",
        "## Dr. Omri Allouche 2018. YData Deep Learning Course\n",
        "\n",
        "[Open in Google Colab](https://colab.research.google.com/github/omriallouche/deep_learning_course/blob/master/DL_word_embedding_assignment.ipynb)\n",
        "    \n",
        "    \n",
        "In this exercise, you'll use word vectors trained on a corpus of 380,000 lyrics of songs from MetroLyrics (https://www.kaggle.com/gyani95/380000-lyrics-from-metrolyrics).  \n",
        "The dataset contains these fields for each song, in CSV format:\n",
        "1. index\n",
        "1. song\n",
        "1. year\n",
        "1. artist\n",
        "1. genre\n",
        "1. lyrics\n",
        "\n",
        "Before doing this exercise, we recommend that you go over the \"Bag of words meets bag of popcorn\" tutorial (https://www.kaggle.com/c/word2vec-nlp-tutorial)\n",
        "\n",
        "Other recommended resources:\n",
        "- https://rare-technologies.com/word2vec-tutorial/\n",
        "- https://www.kaggle.com/pierremegret/gensim-word2vec-tutorial"
      ]
    },
    {
      "metadata": {
        "id": "Ykb9T-R6RXaj",
        "colab_type": "text"
      },
      "cell_type": "markdown",
      "source": [
        "### Train word vectors\n",
        "Train word vectors using the Skipgram Word2vec algorithm and the gensim package.\n",
        "Make sure you perform the following:\n",
        "- Tokenize words\n",
        "- Lowercase all words\n",
        "- Remove punctuation marks\n",
        "- Remove rare words\n",
        "- Remove stopwords\n",
        "\n",
        "Use 300 as the dimension of the word vectors. Try different context sizes."
      ]
    },
    {
      "metadata": {
        "id": "AfpKNFzCRXak",
        "colab_type": "code",
        "outputId": "db036f43-ea1e-44c4-eda2-0261ab6dffc2",
        "colab": {
          "base_uri": "https://localhost:8080/",
          "height": 1337
        }
      },
      "cell_type": "code",
      "source": [
        "!pip install 'livelossplot==0.2.2'\n",
        "!pip install  'torchnet==0.0.4'\n"
      ],
      "execution_count": 1,
      "outputs": [
        {
          "output_type": "stream",
          "text": [
            "Collecting livelossplot==0.2.2\n",
            "  Downloading https://files.pythonhosted.org/packages/b0/93/419eeab5ffc64da5c0d437f0c4d887e786972d8527c9a265647a52309c55/livelossplot-0.2.2-py3-none-any.whl\n",
            "Requirement already satisfied: matplotlib in /usr/local/lib/python3.6/dist-packages (from livelossplot==0.2.2) (3.0.2)\n",
            "Requirement already satisfied: notebook in /usr/local/lib/python3.6/dist-packages (from livelossplot==0.2.2) (5.2.2)\n",
            "Requirement already satisfied: cycler>=0.10 in /usr/local/lib/python3.6/dist-packages (from matplotlib->livelossplot==0.2.2) (0.10.0)\n",
            "Requirement already satisfied: numpy>=1.10.0 in /usr/local/lib/python3.6/dist-packages (from matplotlib->livelossplot==0.2.2) (1.14.6)\n",
            "Requirement already satisfied: pyparsing!=2.0.4,!=2.1.2,!=2.1.6,>=2.0.1 in /usr/local/lib/python3.6/dist-packages (from matplotlib->livelossplot==0.2.2) (2.3.1)\n",
            "Requirement already satisfied: python-dateutil>=2.1 in /usr/local/lib/python3.6/dist-packages (from matplotlib->livelossplot==0.2.2) (2.5.3)\n",
            "Requirement already satisfied: kiwisolver>=1.0.1 in /usr/local/lib/python3.6/dist-packages (from matplotlib->livelossplot==0.2.2) (1.0.1)\n",
            "Requirement already satisfied: nbconvert in /usr/local/lib/python3.6/dist-packages (from notebook->livelossplot==0.2.2) (5.4.1)\n",
            "Requirement already satisfied: terminado>=0.3.3; sys_platform != \"win32\" in /usr/local/lib/python3.6/dist-packages (from notebook->livelossplot==0.2.2) (0.8.1)\n",
            "Requirement already satisfied: jupyter-core in /usr/local/lib/python3.6/dist-packages (from notebook->livelossplot==0.2.2) (4.4.0)\n",
            "Requirement already satisfied: traitlets>=4.2.1 in /usr/local/lib/python3.6/dist-packages (from notebook->livelossplot==0.2.2) (4.3.2)\n",
            "Requirement already satisfied: nbformat in /usr/local/lib/python3.6/dist-packages (from notebook->livelossplot==0.2.2) (4.4.0)\n",
            "Requirement already satisfied: tornado>=4 in /usr/local/lib/python3.6/dist-packages (from notebook->livelossplot==0.2.2) (4.5.3)\n",
            "Requirement already satisfied: jinja2 in /usr/local/lib/python3.6/dist-packages (from notebook->livelossplot==0.2.2) (2.10)\n",
            "Requirement already satisfied: ipython-genutils in /usr/local/lib/python3.6/dist-packages (from notebook->livelossplot==0.2.2) (0.2.0)\n",
            "Requirement already satisfied: ipykernel in /usr/local/lib/python3.6/dist-packages (from notebook->livelossplot==0.2.2) (4.6.1)\n",
            "Requirement already satisfied: jupyter-client in /usr/local/lib/python3.6/dist-packages (from notebook->livelossplot==0.2.2) (5.2.4)\n",
            "Requirement already satisfied: six in /usr/local/lib/python3.6/dist-packages (from cycler>=0.10->matplotlib->livelossplot==0.2.2) (1.11.0)\n",
            "Requirement already satisfied: setuptools in /usr/local/lib/python3.6/dist-packages (from kiwisolver>=1.0.1->matplotlib->livelossplot==0.2.2) (40.8.0)\n",
            "Requirement already satisfied: entrypoints>=0.2.2 in /usr/local/lib/python3.6/dist-packages (from nbconvert->notebook->livelossplot==0.2.2) (0.3)\n",
            "Requirement already satisfied: defusedxml in /usr/local/lib/python3.6/dist-packages (from nbconvert->notebook->livelossplot==0.2.2) (0.5.0)\n",
            "Requirement already satisfied: pygments in /usr/local/lib/python3.6/dist-packages (from nbconvert->notebook->livelossplot==0.2.2) (2.1.3)\n",
            "Requirement already satisfied: bleach in /usr/local/lib/python3.6/dist-packages (from nbconvert->notebook->livelossplot==0.2.2) (3.1.0)\n",
            "Requirement already satisfied: mistune>=0.8.1 in /usr/local/lib/python3.6/dist-packages (from nbconvert->notebook->livelossplot==0.2.2) (0.8.4)\n",
            "Requirement already satisfied: testpath in /usr/local/lib/python3.6/dist-packages (from nbconvert->notebook->livelossplot==0.2.2) (0.4.2)\n",
            "Requirement already satisfied: pandocfilters>=1.4.1 in /usr/local/lib/python3.6/dist-packages (from nbconvert->notebook->livelossplot==0.2.2) (1.4.2)\n",
            "Requirement already satisfied: ptyprocess; os_name != \"nt\" in /usr/local/lib/python3.6/dist-packages (from terminado>=0.3.3; sys_platform != \"win32\"->notebook->livelossplot==0.2.2) (0.6.0)\n",
            "Requirement already satisfied: decorator in /usr/local/lib/python3.6/dist-packages (from traitlets>=4.2.1->notebook->livelossplot==0.2.2) (4.3.2)\n",
            "Requirement already satisfied: jsonschema!=2.5.0,>=2.4 in /usr/local/lib/python3.6/dist-packages (from nbformat->notebook->livelossplot==0.2.2) (2.6.0)\n",
            "Requirement already satisfied: MarkupSafe>=0.23 in /usr/local/lib/python3.6/dist-packages (from jinja2->notebook->livelossplot==0.2.2) (1.1.0)\n",
            "Requirement already satisfied: ipython>=4.0.0 in /usr/local/lib/python3.6/dist-packages (from ipykernel->notebook->livelossplot==0.2.2) (5.5.0)\n",
            "Requirement already satisfied: pyzmq>=13 in /usr/local/lib/python3.6/dist-packages (from jupyter-client->notebook->livelossplot==0.2.2) (17.0.0)\n",
            "Requirement already satisfied: webencodings in /usr/local/lib/python3.6/dist-packages (from bleach->nbconvert->notebook->livelossplot==0.2.2) (0.5.1)\n",
            "Requirement already satisfied: prompt-toolkit<2.0.0,>=1.0.4 in /usr/local/lib/python3.6/dist-packages (from ipython>=4.0.0->ipykernel->notebook->livelossplot==0.2.2) (1.0.15)\n",
            "Requirement already satisfied: simplegeneric>0.8 in /usr/local/lib/python3.6/dist-packages (from ipython>=4.0.0->ipykernel->notebook->livelossplot==0.2.2) (0.8.1)\n",
            "Requirement already satisfied: pexpect; sys_platform != \"win32\" in /usr/local/lib/python3.6/dist-packages (from ipython>=4.0.0->ipykernel->notebook->livelossplot==0.2.2) (4.6.0)\n",
            "Requirement already satisfied: pickleshare in /usr/local/lib/python3.6/dist-packages (from ipython>=4.0.0->ipykernel->notebook->livelossplot==0.2.2) (0.7.5)\n",
            "Requirement already satisfied: wcwidth in /usr/local/lib/python3.6/dist-packages (from prompt-toolkit<2.0.0,>=1.0.4->ipython>=4.0.0->ipykernel->notebook->livelossplot==0.2.2) (0.1.7)\n",
            "Installing collected packages: livelossplot\n",
            "Successfully installed livelossplot-0.2.2\n",
            "Collecting torchnet==0.0.4\n",
            "  Downloading https://files.pythonhosted.org/packages/b7/b2/d7f70a85d3f6b0365517782632f150e3bbc2fb8e998cd69e27deba599aae/torchnet-0.0.4.tar.gz\n",
            "Requirement already satisfied: torch in /usr/local/lib/python3.6/dist-packages (from torchnet==0.0.4) (1.0.1.post2)\n",
            "Requirement already satisfied: six in /usr/local/lib/python3.6/dist-packages (from torchnet==0.0.4) (1.11.0)\n",
            "Collecting visdom (from torchnet==0.0.4)\n",
            "\u001b[?25l  Downloading https://files.pythonhosted.org/packages/97/c4/5f5356fd57ae3c269e0e31601ea6487e0622fedc6756a591e4a5fd66cc7a/visdom-0.1.8.8.tar.gz (1.4MB)\n",
            "\u001b[K    100% |████████████████████████████████| 1.4MB 17.2MB/s \n",
            "\u001b[?25hRequirement already satisfied: numpy>=1.8 in /usr/local/lib/python3.6/dist-packages (from visdom->torchnet==0.0.4) (1.14.6)\n",
            "Requirement already satisfied: scipy in /usr/local/lib/python3.6/dist-packages (from visdom->torchnet==0.0.4) (1.1.0)\n",
            "Requirement already satisfied: requests in /usr/local/lib/python3.6/dist-packages (from visdom->torchnet==0.0.4) (2.18.4)\n",
            "Requirement already satisfied: tornado in /usr/local/lib/python3.6/dist-packages (from visdom->torchnet==0.0.4) (4.5.3)\n",
            "Requirement already satisfied: pyzmq in /usr/local/lib/python3.6/dist-packages (from visdom->torchnet==0.0.4) (17.0.0)\n",
            "Collecting torchfile (from visdom->torchnet==0.0.4)\n",
            "  Downloading https://files.pythonhosted.org/packages/91/af/5b305f86f2d218091af657ddb53f984ecbd9518ca9fe8ef4103a007252c9/torchfile-0.1.0.tar.gz\n",
            "Collecting websocket-client (from visdom->torchnet==0.0.4)\n",
            "\u001b[?25l  Downloading https://files.pythonhosted.org/packages/26/2d/f749a5c82f6192d77ed061a38e02001afcba55fe8477336d26a950ab17ce/websocket_client-0.54.0-py2.py3-none-any.whl (200kB)\n",
            "\u001b[K    100% |████████████████████████████████| 204kB 29.6MB/s \n",
            "\u001b[?25hRequirement already satisfied: pillow in /usr/local/lib/python3.6/dist-packages (from visdom->torchnet==0.0.4) (4.0.0)\n",
            "Requirement already satisfied: certifi>=2017.4.17 in /usr/local/lib/python3.6/dist-packages (from requests->visdom->torchnet==0.0.4) (2018.11.29)\n",
            "Requirement already satisfied: chardet<3.1.0,>=3.0.2 in /usr/local/lib/python3.6/dist-packages (from requests->visdom->torchnet==0.0.4) (3.0.4)\n",
            "Requirement already satisfied: idna<2.7,>=2.5 in /usr/local/lib/python3.6/dist-packages (from requests->visdom->torchnet==0.0.4) (2.6)\n",
            "Requirement already satisfied: urllib3<1.23,>=1.21.1 in /usr/local/lib/python3.6/dist-packages (from requests->visdom->torchnet==0.0.4) (1.22)\n",
            "Requirement already satisfied: olefile in /usr/local/lib/python3.6/dist-packages (from pillow->visdom->torchnet==0.0.4) (0.46)\n",
            "Building wheels for collected packages: torchnet, visdom, torchfile\n",
            "  Building wheel for torchnet (setup.py) ... \u001b[?25ldone\n",
            "\u001b[?25h  Stored in directory: /root/.cache/pip/wheels/e1/03/fb/1c212c2f20905cdf97fe39022946cf16b8e66ed754a6663400\n",
            "  Building wheel for visdom (setup.py) ... \u001b[?25ldone\n",
            "\u001b[?25h  Stored in directory: /root/.cache/pip/wheels/ee/87/ce/a5023722374ca73b57fc8d4284ba6f973c01219b3c385a07e0\n",
            "  Building wheel for torchfile (setup.py) ... \u001b[?25ldone\n",
            "\u001b[?25h  Stored in directory: /root/.cache/pip/wheels/b1/c3/d6/9a1cc8f3a99a0fc1124cae20153f36af59a6e683daca0a0814\n",
            "Successfully built torchnet visdom torchfile\n",
            "Installing collected packages: torchfile, websocket-client, visdom, torchnet\n",
            "Successfully installed torchfile-0.1.0 torchnet-0.0.4 visdom-0.1.8.8 websocket-client-0.54.0\n"
          ],
          "name": "stdout"
        }
      ]
    },
    {
      "metadata": {
        "id": "mM7ZpYMMgvx5",
        "colab_type": "code",
        "colab": {
          "base_uri": "https://localhost:8080/",
          "height": 35
        },
        "outputId": "15a537b2-cfdf-40c5-adde-7bc87947d31c"
      },
      "cell_type": "code",
      "source": [
        "import numpy as np \n",
        "import torch\n",
        "import torch.utils.data as utils_data\n",
        "from torch.autograd import Variable\n",
        "import numpy as np\n",
        "from torch import nn, optim\n",
        "import matplotlib.pyplot as plt\n",
        "import pandas  as pd\n",
        "import nltk\n",
        "import seaborn as sns\n",
        "import nltk\n",
        "from nltk.tokenize import RegexpTokenizer\n",
        "from nltk.corpus import stopwords\n",
        "from nltk.tokenize import RegexpTokenizer\n",
        "from nltk.tokenize import word_tokenize\n",
        "import string \n",
        "from livelossplot import PlotLosses\n",
        "from gensim.models import Word2Vec\n",
        "import numpy as np \n",
        "from sklearn.model_selection import train_test_split\n",
        "from xgboost import XGBClassifier,XGBRegressor\n",
        "from sklearn.metrics import accuracy_score\n",
        "from sklearn.ensemble import RandomForestRegressor\n",
        "import torch\n",
        "import nltk\n",
        "import seaborn as sns\n",
        "from sklearn.decomposition import PCA\n",
        "import matplotlib.pyplot as plt\n",
        "from sklearn.manifold import TSNE\n",
        "from sklearn.feature_extraction.text import CountVectorizer\n",
        "from sklearn.naive_bayes import MultinomialNB\n",
        "from sklearn.metrics import confusion_matrix\n",
        "from sklearn.metrics import classification_report\n",
        "from sklearn import preprocessing\n",
        "from sklearn.preprocessing import MinMaxScaler\n",
        "import torch\n",
        "import torch.nn as nn\n",
        "from torch.autograd import Variable\n",
        "from torch.nn import functional as F\n",
        "import numpy as np\n",
        "import pandas as pd\n",
        "from torch.utils.data import Dataset,DataLoader\n",
        "import nltk\n",
        "\n"
      ],
      "execution_count": 2,
      "outputs": [
        {
          "output_type": "stream",
          "text": [
            "Using TensorFlow backend.\n"
          ],
          "name": "stderr"
        }
      ]
    },
    {
      "metadata": {
        "id": "OLFjguyAJdDw",
        "colab_type": "code",
        "colab": {
          "base_uri": "https://localhost:8080/",
          "height": 52
        },
        "outputId": "5f619ca6-86ca-4b0f-a8af-ed9229051bc3"
      },
      "cell_type": "code",
      "source": [
        "%matplotlib inline\n",
        "sns.set_style(\"darkgrid\")\n",
        "nltk.download('punkt')\n",
        "nltk.download('stopwords')\n",
        "use_cuda = torch.cuda.is_available()\n",
        "\n",
        "SEED = 999\n",
        "import random \n",
        "def fixSeed(seed):\n",
        "    random.seed(seed)\n",
        "    np.random.seed(seed)\n",
        "    torch.manual_seed(seed)\n",
        "    if use_cuda:\n",
        "        torch.cuda.manual_seed(seed)\n",
        "        torch.cuda.manual_seed_all(seed)\n",
        "\n",
        "fixSeed(SEED)"
      ],
      "execution_count": 3,
      "outputs": [
        {
          "output_type": "stream",
          "text": [
            "[nltk_data] Downloading package stopwords to /root/nltk_data...\n",
            "[nltk_data]   Unzipping corpora/stopwords.zip.\n"
          ],
          "name": "stdout"
        }
      ]
    },
    {
      "metadata": {
        "id": "Z7hzT8EZYPZq",
        "colab_type": "code",
        "colab": {
          "base_uri": "https://localhost:8080/",
          "height": 809
        },
        "outputId": "5316aad2-2484-4a26-f514-5179743bbed6"
      },
      "cell_type": "code",
      "source": [
        "def plt_confusion_matrix(cm, class_names, normalize =False):\n",
        "  \n",
        "  if normalize:\n",
        "        cm = cm.astype('float') / cm.sum(axis=1)[:, np.newaxis]\n",
        "      \n",
        "  \n",
        "  df_cm = pd.DataFrame(cm, index = [i for i in class_names],\n",
        "                    columns = class_names)\n",
        "  \n",
        "  plt.figure(figsize = (20,14))\n",
        "  sns.heatmap(df_cm, annot=True)\n",
        "\n",
        "plt_confusion_matrix(conf_mat, geners)"
      ],
      "execution_count": 22,
      "outputs": [
        {
          "output_type": "display_data",
          "data": {
            "image/png": "[encoded data removed]",
            "text/plain": [
              "<Figure size 1440x1008 with 2 Axes>"
            ]
          },
          "metadata": {
            "tags": []
          }
        }
      ]
    },
    {
      "metadata": {
        "id": "6HTibxGZbk_t",
        "colab_type": "code",
        "outputId": "624b064a-8f7a-49ad-f58a-3d2483daaef7",
        "colab": {
          "base_uri": "https://localhost:8080/",
          "height": 124
        }
      },
      "cell_type": "code",
      "source": [
        "from google.colab import drive\n",
        "drive.mount('/content/drive')"
      ],
      "execution_count": 4,
      "outputs": [
        {
          "output_type": "stream",
          "text": [
            "Go to this URL in a browser: https://accounts.google.com/o/oauth2/auth?client_id=947318989803-6bn6qk8qdgf4n4g3pfee6491hc0brc4i.apps.googleusercontent.com&redirect_uri=urn%3Aietf%3Awg%3Aoauth%3A2.0%3Aoob&scope=email%20https%3A%2F%2Fwww.googleapis.com%2Fauth%2Fdocs.test%20https%3A%2F%2Fwww.googleapis.com%2Fauth%2Fdrive%20https%3A%2F%2Fwww.googleapis.com%2Fauth%2Fdrive.photos.readonly%20https%3A%2F%2Fwww.googleapis.com%2Fauth%2Fpeopleapi.readonly&response_type=code\n",
            "\n",
            "Enter your authorization code:\n",
            "··········\n",
            "Mounted at /content/drive\n"
          ],
          "name": "stdout"
        }
      ]
    },
    {
      "metadata": {
        "id": "B8VR2krpRXap",
        "colab_type": "code",
        "colab": {}
      },
      "cell_type": "code",
      "source": [
        "MIN_OCCURENCES = 5\n",
        "UNKOWN_WORDS = '<UNK>'\n",
        "FEATURE_VECTOR_SIZE = 300\n",
        "MAX_WORDS_TO_TAKE = 128\n",
        "BATCH_SIZE = 100\n",
        "WINDOW_SIZE = 2\n"
      ],
      "execution_count": 0,
      "outputs": []
    },
    {
      "metadata": {
        "id": "5Aq5UnrgRuIE",
        "colab_type": "code",
        "colab": {}
      },
      "cell_type": "code",
      "source": [
        ""
      ],
      "execution_count": 0,
      "outputs": []
    },
    {
      "metadata": {
        "id": "tNxQ6Kk4RXas",
        "colab_type": "code",
        "outputId": "5ac12759-f100-4b4a-fc24-fa17fd8cd235",
        "colab": {
          "base_uri": "https://localhost:8080/",
          "height": 355
        }
      },
      "cell_type": "code",
      "source": [
        "lyrics_df = pd.read_csv(\"/content/drive/My Drive/lyrics.csv\", usecols=['genre', 'lyrics'])\n",
        "lyrics_df.sample(10)"
      ],
      "execution_count": 8,
      "outputs": [
        {
          "output_type": "execute_result",
          "data": {
            "text/html": [
              "<div>\n",
              "<style scoped>\n",
              "    .dataframe tbody tr th:only-of-type {\n",
              "        vertical-align: middle;\n",
              "    }\n",
              "\n",
              "    .dataframe tbody tr th {\n",
              "        vertical-align: top;\n",
              "    }\n",
              "\n",
              "    .dataframe thead th {\n",
              "        text-align: right;\n",
              "    }\n",
              "</style>\n",
              "<table border=\"1\" class=\"dataframe\">\n",
              "  <thead>\n",
              "    <tr style=\"text-align: right;\">\n",
              "      <th></th>\n",
              "      <th>genre</th>\n",
              "      <th>lyrics</th>\n",
              "    </tr>\n",
              "  </thead>\n",
              "  <tbody>\n",
              "    <tr>\n",
              "      <th>360244</th>\n",
              "      <td>Hip-Hop</td>\n",
              "      <td>Buck! buck!\\nWa da da dang\\nWa da da da dang\\n...</td>\n",
              "    </tr>\n",
              "    <tr>\n",
              "      <th>317875</th>\n",
              "      <td>Rock</td>\n",
              "      <td>The truth, the hurt, the Spirit, the Word\\nThe...</td>\n",
              "    </tr>\n",
              "    <tr>\n",
              "      <th>158392</th>\n",
              "      <td>Electronic</td>\n",
              "      <td>Agressiva, agressiva\\nIt's up to you to decide...</td>\n",
              "    </tr>\n",
              "    <tr>\n",
              "      <th>126327</th>\n",
              "      <td>Hip-Hop</td>\n",
              "      <td>What?\\nWhat?\\nWhen I come thru, everything gon...</td>\n",
              "    </tr>\n",
              "    <tr>\n",
              "      <th>295268</th>\n",
              "      <td>Metal</td>\n",
              "      <td>He rises from the ashes - he rises from the de...</td>\n",
              "    </tr>\n",
              "    <tr>\n",
              "      <th>324112</th>\n",
              "      <td>Metal</td>\n",
              "      <td>The actions misleading\\nAnd leave it further s...</td>\n",
              "    </tr>\n",
              "    <tr>\n",
              "      <th>89583</th>\n",
              "      <td>Rock</td>\n",
              "      <td>Ashes in the Wind\\ni hold you close in my arms...</td>\n",
              "    </tr>\n",
              "    <tr>\n",
              "      <th>62102</th>\n",
              "      <td>Metal</td>\n",
              "      <td>Here is your broken character, the one left of...</td>\n",
              "    </tr>\n",
              "    <tr>\n",
              "      <th>150511</th>\n",
              "      <td>R&amp;B</td>\n",
              "      <td>NaN</td>\n",
              "    </tr>\n",
              "    <tr>\n",
              "      <th>229736</th>\n",
              "      <td>Metal</td>\n",
              "      <td>You don't understand me,\\nAnd you probably nev...</td>\n",
              "    </tr>\n",
              "  </tbody>\n",
              "</table>\n",
              "</div>"
            ],
            "text/plain": [
              "             genre                                             lyrics\n",
              "360244     Hip-Hop  Buck! buck!\\nWa da da dang\\nWa da da da dang\\n...\n",
              "317875        Rock  The truth, the hurt, the Spirit, the Word\\nThe...\n",
              "158392  Electronic  Agressiva, agressiva\\nIt's up to you to decide...\n",
              "126327     Hip-Hop  What?\\nWhat?\\nWhen I come thru, everything gon...\n",
              "295268       Metal  He rises from the ashes - he rises from the de...\n",
              "324112       Metal  The actions misleading\\nAnd leave it further s...\n",
              "89583         Rock  Ashes in the Wind\\ni hold you close in my arms...\n",
              "62102        Metal  Here is your broken character, the one left of...\n",
              "150511         R&B                                                NaN\n",
              "229736       Metal  You don't understand me,\\nAnd you probably nev..."
            ]
          },
          "metadata": {
            "tags": []
          },
          "execution_count": 8
        }
      ]
    },
    {
      "metadata": {
        "id": "QP7rrrVtMxE9",
        "colab_type": "code",
        "colab": {}
      },
      "cell_type": "code",
      "source": [
        ""
      ],
      "execution_count": 0,
      "outputs": []
    },
    {
      "metadata": {
        "id": "QlhDSx2aJ__3",
        "colab_type": "code",
        "colab": {
          "base_uri": "https://localhost:8080/",
          "height": 171
        },
        "outputId": "5483b588-0494-4a29-98c2-83687ae86562"
      },
      "cell_type": "code",
      "source": [
        "lyrics_df.describe(include = 'all')"
      ],
      "execution_count": 9,
      "outputs": [
        {
          "output_type": "execute_result",
          "data": {
            "text/html": [
              "<div>\n",
              "<style scoped>\n",
              "    .dataframe tbody tr th:only-of-type {\n",
              "        vertical-align: middle;\n",
              "    }\n",
              "\n",
              "    .dataframe tbody tr th {\n",
              "        vertical-align: top;\n",
              "    }\n",
              "\n",
              "    .dataframe thead th {\n",
              "        text-align: right;\n",
              "    }\n",
              "</style>\n",
              "<table border=\"1\" class=\"dataframe\">\n",
              "  <thead>\n",
              "    <tr style=\"text-align: right;\">\n",
              "      <th></th>\n",
              "      <th>genre</th>\n",
              "      <th>lyrics</th>\n",
              "    </tr>\n",
              "  </thead>\n",
              "  <tbody>\n",
              "    <tr>\n",
              "      <th>count</th>\n",
              "      <td>362237</td>\n",
              "      <td>266557</td>\n",
              "    </tr>\n",
              "    <tr>\n",
              "      <th>unique</th>\n",
              "      <td>12</td>\n",
              "      <td>244873</td>\n",
              "    </tr>\n",
              "    <tr>\n",
              "      <th>top</th>\n",
              "      <td>Rock</td>\n",
              "      <td>INSTRUMENTAL</td>\n",
              "    </tr>\n",
              "    <tr>\n",
              "      <th>freq</th>\n",
              "      <td>131377</td>\n",
              "      <td>1369</td>\n",
              "    </tr>\n",
              "  </tbody>\n",
              "</table>\n",
              "</div>"
            ],
            "text/plain": [
              "         genre        lyrics\n",
              "count   362237        266557\n",
              "unique      12        244873\n",
              "top       Rock  INSTRUMENTAL\n",
              "freq    131377          1369"
            ]
          },
          "metadata": {
            "tags": []
          },
          "execution_count": 9
        }
      ]
    },
    {
      "metadata": {
        "id": "dYlM9eTFMWqW",
        "colab_type": "code",
        "colab": {
          "base_uri": "https://localhost:8080/",
          "height": 139
        },
        "outputId": "f0597ac7-2a1c-4d8e-8ba1-9e9027a2a7f1"
      },
      "cell_type": "code",
      "source": [
        "lyrics_df.info()"
      ],
      "execution_count": 20,
      "outputs": [
        {
          "output_type": "stream",
          "text": [
            "<class 'pandas.core.frame.DataFrame'>\n",
            "RangeIndex: 362237 entries, 0 to 362236\n",
            "Data columns (total 2 columns):\n",
            "genre     362237 non-null object\n",
            "lyrics    266557 non-null object\n",
            "dtypes: object(2)\n",
            "memory usage: 5.5+ MB\n"
          ],
          "name": "stdout"
        }
      ]
    },
    {
      "metadata": {
        "id": "lAJZZVmuKvUx",
        "colab_type": "code",
        "colab": {
          "base_uri": "https://localhost:8080/",
          "height": 355
        },
        "outputId": "26ea307b-25a6-40f1-8ee0-b4dd4b4bbdad"
      },
      "cell_type": "code",
      "source": [
        "lyrics_df = lyrics_df[lyrics_df.lyrics.notnull()]\n",
        "lyrics_df.sample(10)"
      ],
      "execution_count": 11,
      "outputs": [
        {
          "output_type": "execute_result",
          "data": {
            "text/html": [
              "<div>\n",
              "<style scoped>\n",
              "    .dataframe tbody tr th:only-of-type {\n",
              "        vertical-align: middle;\n",
              "    }\n",
              "\n",
              "    .dataframe tbody tr th {\n",
              "        vertical-align: top;\n",
              "    }\n",
              "\n",
              "    .dataframe thead th {\n",
              "        text-align: right;\n",
              "    }\n",
              "</style>\n",
              "<table border=\"1\" class=\"dataframe\">\n",
              "  <thead>\n",
              "    <tr style=\"text-align: right;\">\n",
              "      <th></th>\n",
              "      <th>genre</th>\n",
              "      <th>lyrics</th>\n",
              "    </tr>\n",
              "  </thead>\n",
              "  <tbody>\n",
              "    <tr>\n",
              "      <th>316758</th>\n",
              "      <td>Not Available</td>\n",
              "      <td>Show me just what you're made of, paint it up ...</td>\n",
              "    </tr>\n",
              "    <tr>\n",
              "      <th>171436</th>\n",
              "      <td>Metal</td>\n",
              "      <td>I Got Through To You\\nAnd Destroyed You To\\nI ...</td>\n",
              "    </tr>\n",
              "    <tr>\n",
              "      <th>251140</th>\n",
              "      <td>Rock</td>\n",
              "      <td>And I saw it coming up like a freight train\\nA...</td>\n",
              "    </tr>\n",
              "    <tr>\n",
              "      <th>225780</th>\n",
              "      <td>Metal</td>\n",
              "      <td>I am the wind that tears your sails\\nThe broke...</td>\n",
              "    </tr>\n",
              "    <tr>\n",
              "      <th>186632</th>\n",
              "      <td>Not Available</td>\n",
              "      <td>I'm doin' fine\\nand you look great\\nI think ab...</td>\n",
              "    </tr>\n",
              "    <tr>\n",
              "      <th>202330</th>\n",
              "      <td>Metal</td>\n",
              "      <td>Splitting of median entity\\nPractice of doubt\\...</td>\n",
              "    </tr>\n",
              "    <tr>\n",
              "      <th>343631</th>\n",
              "      <td>Pop</td>\n",
              "      <td>Yeah yeah yeah yeah\\nHe makes me do things I d...</td>\n",
              "    </tr>\n",
              "    <tr>\n",
              "      <th>143458</th>\n",
              "      <td>Metal</td>\n",
              "      <td>As my mind flows by\\nIt wanders through the ti...</td>\n",
              "    </tr>\n",
              "    <tr>\n",
              "      <th>260952</th>\n",
              "      <td>Pop</td>\n",
              "      <td>Well I'm a east coast walkin'\\ntravelin', a ta...</td>\n",
              "    </tr>\n",
              "    <tr>\n",
              "      <th>351377</th>\n",
              "      <td>Hip-Hop</td>\n",
              "      <td>Ladies and Gentlemen of the Southern States of...</td>\n",
              "    </tr>\n",
              "  </tbody>\n",
              "</table>\n",
              "</div>"
            ],
            "text/plain": [
              "                genre                                             lyrics\n",
              "316758  Not Available  Show me just what you're made of, paint it up ...\n",
              "171436          Metal  I Got Through To You\\nAnd Destroyed You To\\nI ...\n",
              "251140           Rock  And I saw it coming up like a freight train\\nA...\n",
              "225780          Metal  I am the wind that tears your sails\\nThe broke...\n",
              "186632  Not Available  I'm doin' fine\\nand you look great\\nI think ab...\n",
              "202330          Metal  Splitting of median entity\\nPractice of doubt\\...\n",
              "343631            Pop  Yeah yeah yeah yeah\\nHe makes me do things I d...\n",
              "143458          Metal  As my mind flows by\\nIt wanders through the ti...\n",
              "260952            Pop  Well I'm a east coast walkin'\\ntravelin', a ta...\n",
              "351377        Hip-Hop  Ladies and Gentlemen of the Southern States of..."
            ]
          },
          "metadata": {
            "tags": []
          },
          "execution_count": 11
        }
      ]
    },
    {
      "metadata": {
        "id": "NZMzR2VXRXbG",
        "colab_type": "code",
        "colab": {}
      },
      "cell_type": "code",
      "source": [
        "texts = lyrics_df[\"lyrics\"].tolist()\n",
        "tokenizer = RegexpTokenizer(r'\\w+')\n",
        "flat_list =  [word for word in [tokenizer.tokenize(text.lower()) for text  in texts]]\n",
        "all_text = [item for sublist in flat_list for item in sublist]\n",
        "req_dist = nltk.FreqDist(all_text)\n",
        "rare_words = {word for (word, count) in req_dist.items() if count < MIN_OCCURENCES}\n",
        "replace_words = {word for (word, count) in req_dist.items() if count == MIN_OCCURENCES}"
      ],
      "execution_count": 0,
      "outputs": []
    },
    {
      "metadata": {
        "id": "_SW31k8TRXbL",
        "colab_type": "code",
        "colab": {}
      },
      "cell_type": "code",
      "source": [
        "def cleanText(text, rare_words=None, replace_words = None):\n",
        "    table = str.maketrans({key: None for key in string.punctuation})\n",
        "    text = text.translate(table)\n",
        "\n",
        "    tokens = word_tokenize(text)\n",
        "    tokens = [w.lower() for w in tokens]\n",
        "\n",
        "    stops = set(stopwords.words(\"english\"))\n",
        "\n",
        "    words = [word for word in tokens if word not in stops and (rare_words is None or word not in rare_words)]\n",
        "\n",
        "    if replace_words and words:\n",
        "        words = [word if word not in replace_words else UNKOWN_WORDS for word in words]\n",
        "\n",
        "\n",
        "    if len(words) == 0:\n",
        "        return None\n",
        "\n",
        "    return words\n",
        "    "
      ],
      "execution_count": 0,
      "outputs": []
    },
    {
      "metadata": {
        "id": "fhMq6Tj0RXbP",
        "colab_type": "code",
        "outputId": "3b9ba598-51b1-4be9-b263-f34cc3f70856",
        "colab": {
          "base_uri": "https://localhost:8080/",
          "height": 355
        }
      },
      "cell_type": "code",
      "source": [
        "lyrics_df[\"clean_lyrics\"] = lyrics_df[\"lyrics\"].map(lambda text: cleanText(text, rare_words, replace_words))\n",
        "lyrics_df = lyrics_df[lyrics_df.clean_lyrics.notnull()]\n",
        "lyrics_df.sample(10)"
      ],
      "execution_count": 14,
      "outputs": [
        {
          "output_type": "execute_result",
          "data": {
            "text/html": [
              "<div>\n",
              "<style scoped>\n",
              "    .dataframe tbody tr th:only-of-type {\n",
              "        vertical-align: middle;\n",
              "    }\n",
              "\n",
              "    .dataframe tbody tr th {\n",
              "        vertical-align: top;\n",
              "    }\n",
              "\n",
              "    .dataframe thead th {\n",
              "        text-align: right;\n",
              "    }\n",
              "</style>\n",
              "<table border=\"1\" class=\"dataframe\">\n",
              "  <thead>\n",
              "    <tr style=\"text-align: right;\">\n",
              "      <th></th>\n",
              "      <th>genre</th>\n",
              "      <th>lyrics</th>\n",
              "      <th>clean_lyrics</th>\n",
              "    </tr>\n",
              "  </thead>\n",
              "  <tbody>\n",
              "    <tr>\n",
              "      <th>164588</th>\n",
              "      <td>Pop</td>\n",
              "      <td>Cuando el amor\\nTirando a matar\\nAcierta\\nNing...</td>\n",
              "      <td>[cuando, el, amor, tirando, matar, ningãºn, er...</td>\n",
              "    </tr>\n",
              "    <tr>\n",
              "      <th>246269</th>\n",
              "      <td>Metal</td>\n",
              "      <td>It's a violent whisper\\nA kind of weightless b...</td>\n",
              "      <td>[violent, whisper, kind, weightless, burden, l...</td>\n",
              "    </tr>\n",
              "    <tr>\n",
              "      <th>356130</th>\n",
              "      <td>Pop</td>\n",
              "      <td>[Aubrey]\\nOh\\nOh\\n[DK]\\nAh, ah, ah...\\n[Day26]...</td>\n",
              "      <td>[aubrey, oh, oh, dk, ah, ah, ah, day26, q, oh,...</td>\n",
              "    </tr>\n",
              "    <tr>\n",
              "      <th>25287</th>\n",
              "      <td>Rock</td>\n",
              "      <td>Real life is just a little too real tonight\\nI...</td>\n",
              "      <td>[real, life, little, real, tonight, think, im,...</td>\n",
              "    </tr>\n",
              "    <tr>\n",
              "      <th>235418</th>\n",
              "      <td>Rock</td>\n",
              "      <td>[Instrumental]</td>\n",
              "      <td>[instrumental]</td>\n",
              "    </tr>\n",
              "    <tr>\n",
              "      <th>302938</th>\n",
              "      <td>Electronic</td>\n",
              "      <td>I never left the room\\nI never turn the corner...</td>\n",
              "      <td>[never, left, room, never, turn, corner, never...</td>\n",
              "    </tr>\n",
              "    <tr>\n",
              "      <th>33122</th>\n",
              "      <td>Hip-Hop</td>\n",
              "      <td>It's Friday night and I just got paid\\nI'm che...</td>\n",
              "      <td>[friday, night, got, paid, im, checkin, city, ...</td>\n",
              "    </tr>\n",
              "    <tr>\n",
              "      <th>27486</th>\n",
              "      <td>Metal</td>\n",
              "      <td>A heavy rain is pouring down\\nUpon the mourner...</td>\n",
              "      <td>[heavy, rain, pouring, upon, mourners, gathere...</td>\n",
              "    </tr>\n",
              "    <tr>\n",
              "      <th>162088</th>\n",
              "      <td>Electronic</td>\n",
              "      <td>(Shake your ass, shake your ass\\nshake your as...</td>\n",
              "      <td>[shake, ass, shake, ass, shake, ass, funk, men...</td>\n",
              "    </tr>\n",
              "    <tr>\n",
              "      <th>35484</th>\n",
              "      <td>R&amp;B</td>\n",
              "      <td>Sei Dir sicher, wir haben nichts gemein.\\nIhr ...</td>\n",
              "      <td>[sei, dir, sicher, wir, haben, nichts, gemein,...</td>\n",
              "    </tr>\n",
              "  </tbody>\n",
              "</table>\n",
              "</div>"
            ],
            "text/plain": [
              "             genre                                             lyrics  \\\n",
              "164588         Pop  Cuando el amor\\nTirando a matar\\nAcierta\\nNing...   \n",
              "246269       Metal  It's a violent whisper\\nA kind of weightless b...   \n",
              "356130         Pop  [Aubrey]\\nOh\\nOh\\n[DK]\\nAh, ah, ah...\\n[Day26]...   \n",
              "25287         Rock  Real life is just a little too real tonight\\nI...   \n",
              "235418        Rock                                     [Instrumental]   \n",
              "302938  Electronic  I never left the room\\nI never turn the corner...   \n",
              "33122      Hip-Hop  It's Friday night and I just got paid\\nI'm che...   \n",
              "27486        Metal  A heavy rain is pouring down\\nUpon the mourner...   \n",
              "162088  Electronic  (Shake your ass, shake your ass\\nshake your as...   \n",
              "35484          R&B  Sei Dir sicher, wir haben nichts gemein.\\nIhr ...   \n",
              "\n",
              "                                             clean_lyrics  \n",
              "164588  [cuando, el, amor, tirando, matar, ningãºn, er...  \n",
              "246269  [violent, whisper, kind, weightless, burden, l...  \n",
              "356130  [aubrey, oh, oh, dk, ah, ah, ah, day26, q, oh,...  \n",
              "25287   [real, life, little, real, tonight, think, im,...  \n",
              "235418                                     [instrumental]  \n",
              "302938  [never, left, room, never, turn, corner, never...  \n",
              "33122   [friday, night, got, paid, im, checkin, city, ...  \n",
              "27486   [heavy, rain, pouring, upon, mourners, gathere...  \n",
              "162088  [shake, ass, shake, ass, shake, ass, funk, men...  \n",
              "35484   [sei, dir, sicher, wir, haben, nichts, gemein,...  "
            ]
          },
          "metadata": {
            "tags": []
          },
          "execution_count": 14
        }
      ]
    },
    {
      "metadata": {
        "id": "-9RTqtm6RXbV",
        "colab_type": "code",
        "colab": {}
      },
      "cell_type": "code",
      "source": [
        ""
      ],
      "execution_count": 0,
      "outputs": []
    },
    {
      "metadata": {
        "id": "13GsRZKhRXba",
        "colab_type": "code",
        "colab": {}
      },
      "cell_type": "code",
      "source": [
        "FEATURE_VECTOR_SIZE = 300 \n",
        "WINDOW_SIZE = 2\n",
        "all_sentenses = lyrics_df[\"clean_lyrics\"].tolist()\n",
        "wevec_model = Word2Vec(all_sentenses, size=FEATURE_VECTOR_SIZE, window=WINDOW_SIZE, workers=4)"
      ],
      "execution_count": 0,
      "outputs": []
    },
    {
      "metadata": {
        "id": "A4kNDeeukq3V",
        "colab_type": "code",
        "outputId": "29f6be98-3bb3-4423-b410-f9d6aacd97f4",
        "colab": {
          "base_uri": "https://localhost:8080/",
          "height": 35
        }
      },
      "cell_type": "code",
      "source": [
        ""
      ],
      "execution_count": 0,
      "outputs": [
        {
          "output_type": "execute_result",
          "data": {
            "text/plain": [
              "265397"
            ]
          },
          "metadata": {
            "tags": []
          },
          "execution_count": 35
        }
      ]
    },
    {
      "metadata": {
        "id": "L1wosSO7RXbd",
        "colab_type": "code",
        "colab": {}
      },
      "cell_type": "code",
      "source": [
        "clean_text = lyrics_df[\"clean_lyrics\"].tolist()\n",
        "flat_list = [item for sublist in clean_text for item in sublist]\n",
        "clean_req_dist = nltk.FreqDist(flat_list)"
      ],
      "execution_count": 0,
      "outputs": []
    },
    {
      "metadata": {
        "id": "8N-oKf2LRXbg",
        "colab_type": "code",
        "colab": {}
      },
      "cell_type": "code",
      "source": [
        ""
      ],
      "execution_count": 0,
      "outputs": []
    },
    {
      "metadata": {
        "id": "vEMcasRaRXbo",
        "colab_type": "text"
      },
      "cell_type": "markdown",
      "source": [
        "### Review most similar words\n",
        "Get initial evaluation of the word vectors by analyzing the most similar words for a few interesting words in the text. \n",
        "\n",
        "Choose words yourself, and find the most similar words to them."
      ]
    },
    {
      "metadata": {
        "id": "szI-y5dYRXbp",
        "colab_type": "code",
        "outputId": "d4e0d25d-d18d-40ec-bb3d-df588d07960b",
        "colab": {
          "base_uri": "https://localhost:8080/",
          "height": 8739
        }
      },
      "cell_type": "code",
      "source": [
        "word_similars = {}\n",
        "for word, _ in clean_req_dist.most_common(50):\n",
        "  \n",
        "    similar = wevec_model.wv.most_similar(word)\n",
        "    word_similars[word] = similar\n",
        "    \n",
        "word_similars"
      ],
      "execution_count": 41,
      "outputs": [
        {
          "output_type": "stream",
          "text": [
            "/usr/local/lib/python3.6/dist-packages/gensim/matutils.py:737: FutureWarning: Conversion of the second argument of issubdtype from `int` to `np.signedinteger` is deprecated. In future, it will be treated as `np.int64 == np.dtype(int).type`.\n",
            "  if np.issubdtype(vec.dtype, np.int):\n"
          ],
          "name": "stderr"
        },
        {
          "output_type": "execute_result",
          "data": {
            "text/plain": [
              "{'<UNK>': [('w', 0.3981887698173523),\n",
              "  ('od', 0.34844544529914856),\n",
              "  ('nae', 0.34557467699050903),\n",
              "  ('nan', 0.3421091139316559),\n",
              "  ('n', 0.335368812084198),\n",
              "  ('jest', 0.3089711666107178),\n",
              "  ('v', 0.30823826789855957),\n",
              "  ('jo', 0.30493080615997314),\n",
              "  ('ja', 0.2991344630718231),\n",
              "  ('dynata', 0.2948426604270935)],\n",
              " 'aint': [('im', 0.5747225880622864),\n",
              "  ('cause', 0.5680946111679077),\n",
              "  ('wasnt', 0.5487749576568604),\n",
              "  ('youre', 0.5254871845245361),\n",
              "  ('thats', 0.5185229778289795),\n",
              "  ('isnt', 0.5168669819831848),\n",
              "  ('theres', 0.513460636138916),\n",
              "  ('know', 0.5115798711776733),\n",
              "  ('got', 0.5083425641059875),\n",
              "  ('never', 0.5072388648986816)],\n",
              " 'away': [('let', 0.48427218198776245),\n",
              "  ('gone', 0.48209598660469055),\n",
              "  ('back', 0.479796826839447),\n",
              "  ('astray', 0.4763369560241699),\n",
              "  ('well', 0.47064208984375),\n",
              "  ('time', 0.4704250693321228),\n",
              "  ('cause', 0.46927645802497864),\n",
              "  ('today', 0.4618341326713562),\n",
              "  ('know', 0.46102893352508545),\n",
              "  ('home', 0.4605671465396881)],\n",
              " 'baby': [('babe', 0.7268887758255005),\n",
              "  ('girl', 0.7101370692253113),\n",
              "  ('yeah', 0.6733824014663696),\n",
              "  ('know', 0.6716552376747131),\n",
              "  ('love', 0.6700528860092163),\n",
              "  ('want', 0.6634206771850586),\n",
              "  ('oh', 0.6627640128135681),\n",
              "  ('darling', 0.6416010856628418),\n",
              "  ('ooh', 0.6412896513938904),\n",
              "  ('cause', 0.6390674114227295)],\n",
              " 'back': [('home', 0.5773065686225891),\n",
              "  ('way', 0.5389034748077393),\n",
              "  ('right', 0.5371963977813721),\n",
              "  ('cause', 0.5311983823776245),\n",
              "  ('come', 0.5256485939025879),\n",
              "  ('baby', 0.5162252187728882),\n",
              "  ('take', 0.5108721256256104),\n",
              "  ('well', 0.5103353261947632),\n",
              "  ('see', 0.5089733004570007),\n",
              "  ('ill', 0.5040555596351624)],\n",
              " 'cant': [('couldnt', 0.7100168466567993),\n",
              "  ('wont', 0.694035530090332),\n",
              "  ('dont', 0.6492265462875366),\n",
              "  ('could', 0.593287467956543),\n",
              "  ('cause', 0.5877243280410767),\n",
              "  ('want', 0.5748994946479797),\n",
              "  ('try', 0.5699257850646973),\n",
              "  ('trying', 0.5624170303344727),\n",
              "  ('ill', 0.5494499802589417),\n",
              "  ('way', 0.5431763529777527)],\n",
              " 'cause': [('cuz', 0.8104572296142578),\n",
              "  ('know', 0.7407909631729126),\n",
              "  ('coz', 0.712358832359314),\n",
              "  ('dont', 0.6809267997741699),\n",
              "  ('think', 0.668778657913208),\n",
              "  ('cos', 0.6559035181999207),\n",
              "  ('want', 0.6478263139724731),\n",
              "  ('baby', 0.6390673518180847),\n",
              "  ('see', 0.6377121210098267),\n",
              "  ('youre', 0.6366878747940063)],\n",
              " 'come': [('go', 0.5902007818222046),\n",
              "  ('comes', 0.580200731754303),\n",
              "  ('bring', 0.5795637965202332),\n",
              "  ('baby', 0.575943112373352),\n",
              "  ('want', 0.5755391716957092),\n",
              "  ('get', 0.5696571469306946),\n",
              "  ('coming', 0.5623935461044312),\n",
              "  ('came', 0.5575135946273804),\n",
              "  ('take', 0.5529507398605347),\n",
              "  ('see', 0.5526833534240723)],\n",
              " 'could': [('would', 0.7938732504844666),\n",
              "  ('id', 0.6931794881820679),\n",
              "  ('youd', 0.661909818649292),\n",
              "  ('couldnt', 0.6503710746765137),\n",
              "  ('wanted', 0.6406571865081787),\n",
              "  ('knew', 0.6125012040138245),\n",
              "  ('never', 0.5984164476394653),\n",
              "  ('cant', 0.593287467956543),\n",
              "  ('ill', 0.5816258192062378),\n",
              "  ('didnt', 0.5801218152046204)],\n",
              " 'day': [('time', 0.6214035153388977),\n",
              "  ('night', 0.6153124570846558),\n",
              "  ('everyday', 0.5914465188980103),\n",
              "  ('days', 0.5651674866676331),\n",
              "  ('today', 0.5585635900497437),\n",
              "  ('morning', 0.5547274947166443),\n",
              "  ('year', 0.5445011854171753),\n",
              "  ('way', 0.5418091416358948),\n",
              "  ('one', 0.5316373109817505),\n",
              "  ('moment', 0.5222047567367554)],\n",
              " 'dont': [('wont', 0.709419846534729),\n",
              "  ('want', 0.7057095766067505),\n",
              "  ('know', 0.7014374136924744),\n",
              "  ('cause', 0.6809267997741699),\n",
              "  ('cant', 0.6492265462875366),\n",
              "  ('didnt', 0.6389292478561401),\n",
              "  ('really', 0.6330430507659912),\n",
              "  ('need', 0.6323213577270508),\n",
              "  ('wan', 0.6192669868469238),\n",
              "  ('baby', 0.6144688129425049)],\n",
              " 'feel': [('feels', 0.6931326389312744),\n",
              "  ('felt', 0.64763343334198),\n",
              "  ('feeling', 0.6354506015777588),\n",
              "  ('know', 0.6208293437957764),\n",
              "  ('love', 0.5975587368011475),\n",
              "  ('feelin', 0.5952073335647583),\n",
              "  ('want', 0.5763260722160339),\n",
              "  ('see', 0.5738499164581299),\n",
              "  ('cause', 0.5729200839996338),\n",
              "  ('youre', 0.5631476640701294)],\n",
              " 'get': [('cause', 0.6287468075752258),\n",
              "  ('go', 0.6088775396347046),\n",
              "  ('getting', 0.6079347133636475),\n",
              "  ('gettin', 0.5986543297767639),\n",
              "  ('gets', 0.5956614017486572),\n",
              "  ('know', 0.5833755135536194),\n",
              "  ('take', 0.5751512050628662),\n",
              "  ('come', 0.5696570873260498),\n",
              "  ('got', 0.5692932605743408),\n",
              "  ('see', 0.5562448501586914)],\n",
              " 'girl': [('boy', 0.7191084623336792),\n",
              "  ('baby', 0.7101370096206665),\n",
              "  ('woman', 0.6429768800735474),\n",
              "  ('know', 0.605595588684082),\n",
              "  ('cause', 0.5968373417854309),\n",
              "  ('girls', 0.5786381959915161),\n",
              "  ('love', 0.578567385673523),\n",
              "  ('babe', 0.5644991993904114),\n",
              "  ('chick', 0.5595740079879761),\n",
              "  ('guy', 0.5564826726913452)],\n",
              " 'go': [('know', 0.6201170682907104),\n",
              "  ('get', 0.6088775396347046),\n",
              "  ('let', 0.598682165145874),\n",
              "  ('take', 0.594890832901001),\n",
              "  ('come', 0.5902007222175598),\n",
              "  ('baby', 0.573053240776062),\n",
              "  ('see', 0.5597434043884277),\n",
              "  ('stay', 0.5533921718597412),\n",
              "  ('going', 0.5532842874526978),\n",
              "  ('run', 0.5430152416229248)],\n",
              " 'gon': [('gunna', 0.6580856442451477),\n",
              "  ('na', 0.6360636949539185),\n",
              "  ('going', 0.5838584303855896),\n",
              "  ('ill', 0.5805347561836243),\n",
              "  ('cause', 0.5683803558349609),\n",
              "  ('well', 0.5549696683883667),\n",
              "  ('wont', 0.5547587275505066),\n",
              "  ('supposed', 0.5479472875595093),\n",
              "  ('finna', 0.5452739000320435),\n",
              "  ('ready', 0.5439891815185547)],\n",
              " 'got': [('gots', 0.6416889429092407),\n",
              "  ('cause', 0.5930623412132263),\n",
              "  ('get', 0.5692932605743408),\n",
              "  ('know', 0.5579437017440796),\n",
              "  ('ta', 0.5508182048797607),\n",
              "  ('yeah', 0.5371739864349365),\n",
              "  ('want', 0.5360689163208008),\n",
              "  ('dont', 0.5311869382858276),\n",
              "  ('need', 0.5271309614181519),\n",
              "  ('thats', 0.5179267525672913)],\n",
              " 'heart': [('hearts', 0.7297887802124023),\n",
              "  ('love', 0.5682393908500671),\n",
              "  ('soul', 0.5556311011314392),\n",
              "  ('know', 0.5262870788574219),\n",
              "  ('cause', 0.519519567489624),\n",
              "  ('heartbeat', 0.5138879418373108),\n",
              "  ('inside', 0.5114654898643494),\n",
              "  ('always', 0.5008743405342102),\n",
              "  ('mind', 0.49174851179122925),\n",
              "  ('mine', 0.4895712733268738)],\n",
              " 'ill': [('youll', 0.7899142503738403),\n",
              "  ('theyll', 0.6907187104225159),\n",
              "  ('wont', 0.6559467315673828),\n",
              "  ('shell', 0.644955039024353),\n",
              "  ('well', 0.6336854100227356),\n",
              "  ('want', 0.6131727695465088),\n",
              "  ('itll', 0.6010470390319824),\n",
              "  ('dont', 0.5962952375411987),\n",
              "  ('could', 0.5816258192062378),\n",
              "  ('gon', 0.5805347561836243)],\n",
              " 'im': [('youre', 0.7965488433837891),\n",
              "  ('hes', 0.6137641072273254),\n",
              "  ('theyre', 0.6122327446937561),\n",
              "  ('cause', 0.6115797758102417),\n",
              "  ('shes', 0.6084159016609192),\n",
              "  ('aint', 0.5747225880622864),\n",
              "  ('keep', 0.5671051144599915),\n",
              "  ('whos', 0.5668458938598633),\n",
              "  ('know', 0.5582135915756226),\n",
              "  ('still', 0.5541632175445557)],\n",
              " 'ive': [('youve', 0.8454892039299011),\n",
              "  ('weve', 0.7696347236633301),\n",
              "  ('theyve', 0.699460506439209),\n",
              "  ('havent', 0.6525497436523438),\n",
              "  ('hasnt', 0.5308213829994202),\n",
              "  ('ever', 0.5302525758743286),\n",
              "  ('never', 0.5136958956718445),\n",
              "  ('time', 0.513159990310669),\n",
              "  ('know', 0.5112289190292358),\n",
              "  ('shes', 0.5084534883499146)],\n",
              " 'know': [('cause', 0.7407909631729126),\n",
              "  ('want', 0.7280735969543457),\n",
              "  ('really', 0.7188419103622437),\n",
              "  ('tell', 0.7166658639907837),\n",
              "  ('think', 0.7125406265258789),\n",
              "  ('dont', 0.7014374136924744),\n",
              "  ('love', 0.6905640363693237),\n",
              "  ('say', 0.6807085275650024),\n",
              "  ('see', 0.6804629564285278),\n",
              "  ('baby', 0.6716552376747131)],\n",
              " 'la': [('¿qu', 0.5295588374137878),\n",
              "  ('una', 0.4521954655647278),\n",
              "  ('misma', 0.43065857887268066),\n",
              "  ('aaro', 0.4219774007797241),\n",
              "  ('sagrada', 0.42089134454727173),\n",
              "  ('cachonda', 0.41816645860671997),\n",
              "  ('esa', 0.4147096276283264),\n",
              "  ('mia', 0.4057340919971466),\n",
              "  ('fugas', 0.4028851389884949),\n",
              "  ('esta', 0.4028056561946869)],\n",
              " 'let': [('know', 0.649100661277771),\n",
              "  ('want', 0.6378557682037354),\n",
              "  ('letting', 0.6148780584335327),\n",
              "  ('wont', 0.6137183904647827),\n",
              "  ('dont', 0.6135944128036499),\n",
              "  ('tell', 0.6085594296455383),\n",
              "  ('go', 0.598682165145874),\n",
              "  ('cause', 0.5900771617889404),\n",
              "  ('baby', 0.578346848487854),\n",
              "  ('ill', 0.5756235718727112)],\n",
              " 'life': [('lives', 0.6254443526268005),\n",
              "  ('lifes', 0.6189613342285156),\n",
              "  ('world', 0.6046401262283325),\n",
              "  ('time', 0.5884292125701904),\n",
              "  ('love', 0.5783510208129883),\n",
              "  ('lifetime', 0.5612982511520386),\n",
              "  ('cause', 0.5570521354675293),\n",
              "  ('way', 0.5526438355445862),\n",
              "  ('everything', 0.5325224995613098),\n",
              "  ('always', 0.5288187861442566)],\n",
              " 'like': [('cause', 0.5741778016090393),\n",
              "  ('know', 0.5546681880950928),\n",
              "  ('see', 0.5134316682815552),\n",
              "  ('im', 0.5053862929344177),\n",
              "  ('yeah', 0.5009764432907104),\n",
              "  ('way', 0.4984399676322937),\n",
              "  ('love', 0.497641384601593),\n",
              "  ('thats', 0.4935404658317566),\n",
              "  ('right', 0.48537835478782654),\n",
              "  ('want', 0.4853172302246094)],\n",
              " 'love': [('know', 0.6905640363693237),\n",
              "  ('baby', 0.6700528860092163),\n",
              "  ('want', 0.6500438451766968),\n",
              "  ('cause', 0.6344922184944153),\n",
              "  ('oh', 0.6139538288116455),\n",
              "  ('way', 0.6083264350891113),\n",
              "  ('true', 0.6070585250854492),\n",
              "  ('loves', 0.6019240617752075),\n",
              "  ('always', 0.5994018316268921),\n",
              "  ('need', 0.5982134342193604)],\n",
              " 'make': [('making', 0.6683921813964844),\n",
              "  ('made', 0.649623453617096),\n",
              "  ('makin', 0.6285402774810791),\n",
              "  ('makes', 0.6180124282836914),\n",
              "  ('cause', 0.5676469802856445),\n",
              "  ('know', 0.5602362155914307),\n",
              "  ('get', 0.5547778606414795),\n",
              "  ('want', 0.5490213632583618),\n",
              "  ('see', 0.5431176424026489),\n",
              "  ('love', 0.5373266935348511)],\n",
              " 'man': [('woman', 0.6054598689079285),\n",
              "  ('mans', 0.5627630949020386),\n",
              "  ('boy', 0.5436596870422363),\n",
              "  ('men', 0.5156559944152832),\n",
              "  ('cause', 0.5093166828155518),\n",
              "  ('dude', 0.5053907632827759),\n",
              "  ('guy', 0.5049281120300293),\n",
              "  ('girl', 0.5028220415115356),\n",
              "  ('know', 0.5007301568984985),\n",
              "  ('yeah', 0.4781574010848999)],\n",
              " 'na': [('gon', 0.6360635757446289),\n",
              "  ('wan', 0.5407001972198486),\n",
              "  ('dont', 0.48528724908828735),\n",
              "  ('tonight', 0.48314347863197327),\n",
              "  ('baby', 0.4746062159538269),\n",
              "  ('gunna', 0.4742796719074249),\n",
              "  ('know', 0.4693792462348938),\n",
              "  ('alright', 0.4576827883720398),\n",
              "  ('cause', 0.45725780725479126),\n",
              "  ('want', 0.45394349098205566)],\n",
              " 'need': [('want', 0.7785831689834595),\n",
              "  ('know', 0.67162024974823),\n",
              "  ('dont', 0.6323213577270508),\n",
              "  ('cause', 0.6296136379241943),\n",
              "  ('love', 0.5982134342193604),\n",
              "  ('baby', 0.5969655513763428),\n",
              "  ('give', 0.5912227630615234),\n",
              "  ('needed', 0.5816953182220459),\n",
              "  ('needs', 0.5732783675193787),\n",
              "  ('wan', 0.5623868703842163)],\n",
              " 'never': [('ever', 0.7145203351974487),\n",
              "  ('always', 0.6641536951065063),\n",
              "  ('could', 0.5984163284301758),\n",
              "  ('know', 0.5936321020126343),\n",
              "  ('cause', 0.5794581770896912),\n",
              "  ('knew', 0.5783403515815735),\n",
              "  ('wanted', 0.5663569569587708),\n",
              "  ('thought', 0.5656927227973938),\n",
              "  ('love', 0.5642676949501038),\n",
              "  ('well', 0.5594444274902344)],\n",
              " 'night': [('nights', 0.6247104406356812),\n",
              "  ('day', 0.6153123378753662),\n",
              "  ('evening', 0.5803428888320923),\n",
              "  ('time', 0.5784144401550293),\n",
              "  ('nite', 0.5661332607269287),\n",
              "  ('tonight', 0.5653706789016724),\n",
              "  ('afternoon', 0.5647668838500977),\n",
              "  ('nighttime', 0.5435749292373657),\n",
              "  ('weekend', 0.530523955821991),\n",
              "  ('summer', 0.5119625329971313)],\n",
              " 'oh': [('yeah', 0.7701927423477173),\n",
              "  ('whoa', 0.7232392430305481),\n",
              "  ('baby', 0.6627639532089233),\n",
              "  ('ooh', 0.6391968727111816),\n",
              "  ('woah', 0.6288726925849915),\n",
              "  ('yes', 0.6179631948471069),\n",
              "  ('love', 0.6139537692070007),\n",
              "  ('know', 0.5848032236099243),\n",
              "  ('ohoh', 0.5715991258621216),\n",
              "  ('darling', 0.5619756579399109)],\n",
              " 'one': [('another', 0.604525625705719),\n",
              "  ('cause', 0.5950263738632202),\n",
              "  ('love', 0.5835368633270264),\n",
              "  ('know', 0.573313295841217),\n",
              "  ('every', 0.5676662921905518),\n",
              "  ('always', 0.5614287853240967),\n",
              "  ('time', 0.5575677156448364),\n",
              "  ('baby', 0.5520301461219788),\n",
              "  ('never', 0.5458110570907593),\n",
              "  ('last', 0.5454145073890686)],\n",
              " 'que': [('aunque', 0.6561038494110107),\n",
              "  ('porque', 0.6422054767608643),\n",
              "  ('cuando', 0.6404244899749756),\n",
              "  ('qu', 0.637305498123169),\n",
              "  ('quien', 0.6366889476776123),\n",
              "  ('cuanto', 0.6244676113128662),\n",
              "  ('cual', 0.6174500584602356),\n",
              "  ('porquã©', 0.6129997968673706),\n",
              "  ('nunca', 0.6052175164222717),\n",
              "  ('siguiente', 0.6016839146614075)],\n",
              " 'right': [('alright', 0.6129940152168274),\n",
              "  ('cause', 0.6042527556419373),\n",
              "  ('baby', 0.6039656400680542),\n",
              "  ('know', 0.6017818450927734),\n",
              "  ('wrong', 0.5991408824920654),\n",
              "  ('well', 0.5937243700027466),\n",
              "  ('way', 0.5792624354362488),\n",
              "  ('yeah', 0.5752719640731812),\n",
              "  ('thats', 0.5575822591781616),\n",
              "  ('tonight', 0.5572980642318726)],\n",
              " 'say': [('said', 0.6881771087646484),\n",
              "  ('know', 0.6807085275650024),\n",
              "  ('saying', 0.6801313161849976),\n",
              "  ('tell', 0.6608906984329224),\n",
              "  ('cause', 0.6286619305610657),\n",
              "  ('think', 0.6175837516784668),\n",
              "  ('believe', 0.5964290499687195),\n",
              "  ('anyway', 0.5893985033035278),\n",
              "  ('see', 0.5859062075614929),\n",
              "  ('really', 0.5829858183860779)],\n",
              " 'see': [('know', 0.6804629564285278),\n",
              "  ('cause', 0.6377122402191162),\n",
              "  ('look', 0.6355868577957153),\n",
              "  ('tell', 0.6182280778884888),\n",
              "  ('believe', 0.6110179424285889),\n",
              "  ('say', 0.5859062671661377),\n",
              "  ('love', 0.5747463703155518),\n",
              "  ('feel', 0.5738500356674194),\n",
              "  ('want', 0.5735973119735718),\n",
              "  ('find', 0.572998046875)],\n",
              " 'take': [('taking', 0.6688400506973267),\n",
              "  ('took', 0.6339499354362488),\n",
              "  ('takin', 0.6107965707778931),\n",
              "  ('takes', 0.6035956740379333),\n",
              "  ('give', 0.6015477180480957),\n",
              "  ('go', 0.594890832901001),\n",
              "  ('get', 0.5751512050628662),\n",
              "  ('taken', 0.5728748440742493),\n",
              "  ('come', 0.5529507398605347),\n",
              "  ('hold', 0.5514504909515381)],\n",
              " 'tell': [('know', 0.7166658639907837),\n",
              "  ('say', 0.6608906984329224),\n",
              "  ('told', 0.6349256038665771),\n",
              "  ('cause', 0.6279783248901367),\n",
              "  ('telling', 0.6278929710388184),\n",
              "  ('see', 0.6182279586791992),\n",
              "  ('baby', 0.6109880208969116),\n",
              "  ('let', 0.6085594296455383),\n",
              "  ('ask', 0.6049959659576416),\n",
              "  ('want', 0.5938804745674133)],\n",
              " 'thats': [('cause', 0.6139174699783325),\n",
              "  ('know', 0.6096793413162231),\n",
              "  ('yeah', 0.5884584188461304),\n",
              "  ('love', 0.574028491973877),\n",
              "  ('right', 0.5575822591781616),\n",
              "  ('always', 0.5561968684196472),\n",
              "  ('well', 0.5434052348136902),\n",
              "  ('im', 0.5379587411880493),\n",
              "  ('baby', 0.5377656817436218),\n",
              "  ('youre', 0.5377607345581055)],\n",
              " 'time': [('day', 0.6214034557342529),\n",
              "  ('cause', 0.6036745309829712),\n",
              "  ('life', 0.5884292125701904),\n",
              "  ('well', 0.5859331488609314),\n",
              "  ('moment', 0.5793101787567139),\n",
              "  ('night', 0.5784144401550293),\n",
              "  ('way', 0.5614072680473328),\n",
              "  ('always', 0.561324954032898),\n",
              "  ('love', 0.5591306686401367),\n",
              "  ('one', 0.5575677156448364)],\n",
              " 'wan': [('want', 0.7278181314468384),\n",
              "  ('dont', 0.6192669868469238),\n",
              "  ('know', 0.6145517826080322),\n",
              "  ('need', 0.5623868703842163),\n",
              "  ('let', 0.5534406304359436),\n",
              "  ('baby', 0.5521178245544434),\n",
              "  ('na', 0.5407001972198486),\n",
              "  ('gon', 0.5324732065200806),\n",
              "  ('cause', 0.5253652334213257),\n",
              "  ('love', 0.5121247172355652)],\n",
              " 'want': [('need', 0.7785831689834595),\n",
              "  ('know', 0.7280735969543457),\n",
              "  ('wan', 0.7278181314468384),\n",
              "  ('dont', 0.7057095766067505),\n",
              "  ('baby', 0.6634206771850586),\n",
              "  ('love', 0.6500438451766968),\n",
              "  ('cause', 0.6478263139724731),\n",
              "  ('let', 0.6378557682037354),\n",
              "  ('ill', 0.6131727695465088),\n",
              "  ('really', 0.6057466864585876)],\n",
              " 'way': [('cause', 0.6175308227539062),\n",
              "  ('know', 0.6110949516296387),\n",
              "  ('love', 0.6083264350891113),\n",
              "  ('well', 0.5804617404937744),\n",
              "  ('right', 0.5792624354362488),\n",
              "  ('always', 0.570573091506958),\n",
              "  ('time', 0.5614072680473328),\n",
              "  ('want', 0.5559087991714478),\n",
              "  ('never', 0.5558369159698486),\n",
              "  ('baby', 0.5547428727149963)],\n",
              " 'well': [('ill', 0.6336854100227356),\n",
              "  ('cause', 0.6320924162864685),\n",
              "  ('know', 0.60029137134552),\n",
              "  ('right', 0.5937243700027466),\n",
              "  ('time', 0.5859331488609314),\n",
              "  ('might', 0.5854139924049377),\n",
              "  ('way', 0.5804617404937744),\n",
              "  ('could', 0.5724698305130005),\n",
              "  ('youll', 0.5721513032913208),\n",
              "  ('love', 0.5707862377166748)],\n",
              " 'world': [('worlds', 0.6214714050292969),\n",
              "  ('life', 0.6046401262283325),\n",
              "  ('universe', 0.5409906506538391),\n",
              "  ('love', 0.5300467014312744),\n",
              "  ('cause', 0.5249975919723511),\n",
              "  ('everything', 0.5211694240570068),\n",
              "  ('know', 0.5113743543624878),\n",
              "  ('us', 0.5106778144836426),\n",
              "  ('way', 0.506877064704895),\n",
              "  ('see', 0.4957452118396759)],\n",
              " 'yeah': [('oh', 0.7701928019523621),\n",
              "  ('baby', 0.6733824014663696),\n",
              "  ('ooh', 0.6446304321289062),\n",
              "  ('whoa', 0.6369405388832092),\n",
              "  ('know', 0.6301347017288208),\n",
              "  ('cause', 0.5995997190475464),\n",
              "  ('love', 0.5901765823364258),\n",
              "  ('thats', 0.5884584188461304),\n",
              "  ('yes', 0.5804415941238403),\n",
              "  ('yea', 0.5766392350196838)],\n",
              " 'youre': [('im', 0.7965488433837891),\n",
              "  ('cause', 0.6366878747940063),\n",
              "  ('theyre', 0.6294310092926025),\n",
              "  ('shes', 0.6290774345397949),\n",
              "  ('know', 0.6185724139213562),\n",
              "  ('baby', 0.5931977033615112),\n",
              "  ('hes', 0.5844792127609253),\n",
              "  ('always', 0.583590030670166),\n",
              "  ('feel', 0.5631477236747742),\n",
              "  ('love', 0.5630502700805664)]}"
            ]
          },
          "metadata": {
            "tags": []
          },
          "execution_count": 41
        }
      ]
    },
    {
      "metadata": {
        "id": "1W3GUhLPRXbr",
        "colab_type": "code",
        "outputId": "3817e27b-a53b-48bd-ed8d-7f58214af662",
        "colab": {
          "base_uri": "https://localhost:8080/",
          "height": 245
        }
      },
      "cell_type": "code",
      "source": [
        "wevec_model.wv.most_similar('fire')"
      ],
      "execution_count": 42,
      "outputs": [
        {
          "output_type": "stream",
          "text": [
            "/usr/local/lib/python3.6/dist-packages/gensim/matutils.py:737: FutureWarning: Conversion of the second argument of issubdtype from `int` to `np.signedinteger` is deprecated. In future, it will be treated as `np.int64 == np.dtype(int).type`.\n",
            "  if np.issubdtype(vec.dtype, np.int):\n"
          ],
          "name": "stderr"
        },
        {
          "output_type": "execute_result",
          "data": {
            "text/plain": [
              "[('flames', 0.6274703741073608),\n",
              " ('flame', 0.6212589144706726),\n",
              " ('fires', 0.6149237751960754),\n",
              " ('desire', 0.5363163352012634),\n",
              " ('alight', 0.5229468941688538),\n",
              " ('ablaze', 0.49833786487579346),\n",
              " ('burning', 0.490545392036438),\n",
              " ('torch', 0.48680174350738525),\n",
              " ('gasoline', 0.4819372296333313),\n",
              " ('burnin', 0.47222429513931274)]"
            ]
          },
          "metadata": {
            "tags": []
          },
          "execution_count": 42
        }
      ]
    },
    {
      "metadata": {
        "id": "ab9S8xOnRXbt",
        "colab_type": "code",
        "outputId": "efbf0b19-5a06-4b89-cd27-344e2751e865",
        "colab": {}
      },
      "cell_type": "code",
      "source": [
        "wevec_model.wv.most_similar('kiss')"
      ],
      "execution_count": 0,
      "outputs": [
        {
          "output_type": "execute_result",
          "data": {
            "text/plain": [
              "[('kissed', 0.5996934771537781),\n",
              " ('touch', 0.5846958160400391),\n",
              " ('kisses', 0.5504751205444336),\n",
              " ('hug', 0.5244470834732056),\n",
              " ('caress', 0.5160906314849854),\n",
              " ('kissing', 0.4945163130760193),\n",
              " ('love', 0.4940756559371948),\n",
              " ('baby', 0.4696815013885498),\n",
              " ('kissin', 0.46546944975852966),\n",
              " ('taste', 0.4626149833202362)]"
            ]
          },
          "metadata": {
            "tags": []
          },
          "execution_count": 68
        }
      ]
    },
    {
      "metadata": {
        "id": "zdeUfR_aRXbw",
        "colab_type": "code",
        "outputId": "c3f46683-7aeb-4deb-a1c0-a3d05e7e2cc9",
        "colab": {}
      },
      "cell_type": "code",
      "source": [
        "wevec_model.wv.most_similar('girl')"
      ],
      "execution_count": 0,
      "outputs": [
        {
          "output_type": "execute_result",
          "data": {
            "text/plain": [
              "[('baby', 0.7139131426811218),\n",
              " ('boy', 0.7059749960899353),\n",
              " ('woman', 0.6433032751083374),\n",
              " ('know', 0.6125483512878418),\n",
              " ('cause', 0.5841875672340393),\n",
              " ('love', 0.5832270383834839),\n",
              " ('girls', 0.5812261700630188),\n",
              " ('yeah', 0.5732951164245605),\n",
              " ('want', 0.5672628879547119),\n",
              " ('youre', 0.5650014877319336)]"
            ]
          },
          "metadata": {
            "tags": []
          },
          "execution_count": 69
        }
      ]
    },
    {
      "metadata": {
        "id": "doTUjmQ1RXbz",
        "colab_type": "code",
        "outputId": "a3a65284-8718-41ee-b663-7d4b6c4d0dfe",
        "colab": {
          "base_uri": "https://localhost:8080/",
          "height": 245
        }
      },
      "cell_type": "code",
      "source": [
        "wevec_model.wv.most_similar('day')"
      ],
      "execution_count": 0,
      "outputs": [
        {
          "output_type": "stream",
          "text": [
            "/usr/local/lib/python3.6/dist-packages/gensim/matutils.py:737: FutureWarning: Conversion of the second argument of issubdtype from `int` to `np.signedinteger` is deprecated. In future, it will be treated as `np.int64 == np.dtype(int).type`.\n",
            "  if np.issubdtype(vec.dtype, np.int):\n"
          ],
          "name": "stderr"
        },
        {
          "output_type": "execute_result",
          "data": {
            "text/plain": [
              "[('time', 0.6266740560531616),\n",
              " ('night', 0.620597243309021),\n",
              " ('everyday', 0.5926679372787476),\n",
              " ('morning', 0.5725794434547424),\n",
              " ('today', 0.5702868103981018),\n",
              " ('days', 0.5561830997467041),\n",
              " ('year', 0.5419521331787109),\n",
              " ('moment', 0.5355156660079956),\n",
              " ('life', 0.5351184606552124),\n",
              " ('way', 0.528084933757782)]"
            ]
          },
          "metadata": {
            "tags": []
          },
          "execution_count": 23
        }
      ]
    },
    {
      "metadata": {
        "id": "_BaSE8w0RXb2",
        "colab_type": "text"
      },
      "cell_type": "markdown",
      "source": [
        "### Word Vectors Algebra\n",
        "We've seen in class examples of algebraic games on the word vectors (e.g. man - woman + king = queen ). \n",
        "\n",
        "Try a few vector algebra terms, and evaluate how well they work. Try to use the Cosine distance and compare it to the Euclidean distance."
      ]
    },
    {
      "metadata": {
        "id": "oDyT5JtPRXb3",
        "colab_type": "code",
        "outputId": "a5e976d2-3b02-45d3-f7fc-d3485366f41f",
        "colab": {
          "base_uri": "https://localhost:8080/",
          "height": 245
        }
      },
      "cell_type": "code",
      "source": [
        "v1 = wevec_model.wv['man'] \n",
        "v2 = wevec_model.wv['woman'] \n",
        "v3 = wevec_model.wv['king'] \n",
        "\n",
        "res =  v1 - v2 + v3\n",
        "wevec_model.wv.similar_by_vector(res)"
      ],
      "execution_count": 43,
      "outputs": [
        {
          "output_type": "stream",
          "text": [
            "/usr/local/lib/python3.6/dist-packages/gensim/matutils.py:737: FutureWarning: Conversion of the second argument of issubdtype from `int` to `np.signedinteger` is deprecated. In future, it will be treated as `np.int64 == np.dtype(int).type`.\n",
            "  if np.issubdtype(vec.dtype, np.int):\n"
          ],
          "name": "stderr"
        },
        {
          "output_type": "execute_result",
          "data": {
            "text/plain": [
              "[('king', 0.7956687808036804),\n",
              " ('man', 0.5048424601554871),\n",
              " ('kings', 0.41699284315109253),\n",
              " ('ruler', 0.3888830542564392),\n",
              " ('messiah', 0.38084906339645386),\n",
              " ('prophet', 0.3737831711769104),\n",
              " ('chief', 0.37042540311813354),\n",
              " ('undisputed', 0.3704187273979187),\n",
              " ('queens', 0.3692237138748169),\n",
              " ('hail', 0.3673720955848694)]"
            ]
          },
          "metadata": {
            "tags": []
          },
          "execution_count": 43
        }
      ]
    },
    {
      "metadata": {
        "id": "LeYCRYwxRXb8",
        "colab_type": "code",
        "outputId": "40c827e5-a332-424d-9e65-3dcba4987e51",
        "colab": {
          "base_uri": "https://localhost:8080/",
          "height": 245
        }
      },
      "cell_type": "code",
      "source": [
        "v1 = wevec_model.wv['girl'] \n",
        "v2 = wevec_model.wv['baby'] \n",
        "\n",
        "res =  v1 + v2 \n",
        "wevec_model.wv.similar_by_vector(res)"
      ],
      "execution_count": 44,
      "outputs": [
        {
          "output_type": "stream",
          "text": [
            "/usr/local/lib/python3.6/dist-packages/gensim/matutils.py:737: FutureWarning: Conversion of the second argument of issubdtype from `int` to `np.signedinteger` is deprecated. In future, it will be treated as `np.int64 == np.dtype(int).type`.\n",
            "  if np.issubdtype(vec.dtype, np.int):\n"
          ],
          "name": "stderr"
        },
        {
          "output_type": "execute_result",
          "data": {
            "text/plain": [
              "[('girl', 0.9306955933570862),\n",
              " ('baby', 0.918463945388794),\n",
              " ('boy', 0.7279973030090332),\n",
              " ('babe', 0.6947583556175232),\n",
              " ('know', 0.6891475915908813),\n",
              " ('love', 0.673132061958313),\n",
              " ('cause', 0.6672967672348022),\n",
              " ('yeah', 0.6605707406997681),\n",
              " ('want', 0.6536444425582886),\n",
              " ('woman', 0.6461348533630371)]"
            ]
          },
          "metadata": {
            "tags": []
          },
          "execution_count": 44
        }
      ]
    },
    {
      "metadata": {
        "id": "-YaIx-p5RXcA",
        "colab_type": "code",
        "outputId": "29caddcc-d0c1-4899-f49a-c80725dfdbac",
        "colab": {
          "base_uri": "https://localhost:8080/",
          "height": 245
        }
      },
      "cell_type": "code",
      "source": [
        "v1 = wevec_model.wv['lover'] \n",
        "v2 = wevec_model.wv['man'] \n",
        "v3 = wevec_model.wv['woman'] \n",
        "\n",
        "res =  v1 - v2  + v3\n",
        "wevec_model.wv.similar_by_vector(res)"
      ],
      "execution_count": 45,
      "outputs": [
        {
          "output_type": "stream",
          "text": [
            "/usr/local/lib/python3.6/dist-packages/gensim/matutils.py:737: FutureWarning: Conversion of the second argument of issubdtype from `int` to `np.signedinteger` is deprecated. In future, it will be treated as `np.int64 == np.dtype(int).type`.\n",
            "  if np.issubdtype(vec.dtype, np.int):\n"
          ],
          "name": "stderr"
        },
        {
          "output_type": "execute_result",
          "data": {
            "text/plain": [
              "[('lover', 0.7889189720153809),\n",
              " ('woman', 0.6615818738937378),\n",
              " ('girl', 0.4710633158683777),\n",
              " ('lady', 0.4490094780921936),\n",
              " ('friend', 0.4321625232696533),\n",
              " ('baby', 0.43071648478507996),\n",
              " ('darlin', 0.41321665048599243),\n",
              " ('babe', 0.40872514247894287),\n",
              " ('shes', 0.4064115881919861),\n",
              " ('love', 0.4057885408401489)]"
            ]
          },
          "metadata": {
            "tags": []
          },
          "execution_count": 45
        }
      ]
    },
    {
      "metadata": {
        "id": "FU3sAwZERXcF",
        "colab_type": "code",
        "outputId": "d4523adc-6aae-4b8e-9dcc-901bf195f2f1",
        "colab": {
          "base_uri": "https://localhost:8080/",
          "height": 245
        }
      },
      "cell_type": "code",
      "source": [
        "v1 = wevec_model.wv['love'] \n",
        "v2 = wevec_model.wv['woman'] \n",
        "\n",
        "res =  v1 + v2\n",
        "wevec_model.wv.similar_by_vector(res)"
      ],
      "execution_count": 46,
      "outputs": [
        {
          "output_type": "stream",
          "text": [
            "/usr/local/lib/python3.6/dist-packages/gensim/matutils.py:737: FutureWarning: Conversion of the second argument of issubdtype from `int` to `np.signedinteger` is deprecated. In future, it will be treated as `np.int64 == np.dtype(int).type`.\n",
            "  if np.issubdtype(vec.dtype, np.int):\n"
          ],
          "name": "stderr"
        },
        {
          "output_type": "execute_result",
          "data": {
            "text/plain": [
              "[('woman', 0.8841882944107056),\n",
              " ('love', 0.8688031435012817),\n",
              " ('girl', 0.697725772857666),\n",
              " ('baby', 0.6929010152816772),\n",
              " ('know', 0.6711302399635315),\n",
              " ('cause', 0.6309007406234741),\n",
              " ('want', 0.6185309886932373),\n",
              " ('lovin', 0.617651104927063),\n",
              " ('man', 0.6168626546859741),\n",
              " ('way', 0.6094549894332886)]"
            ]
          },
          "metadata": {
            "tags": []
          },
          "execution_count": 46
        }
      ]
    },
    {
      "metadata": {
        "id": "cG4bL0g4RXcJ",
        "colab_type": "code",
        "outputId": "c5c9a036-24c7-47ce-8a23-80302d52ab9f",
        "colab": {}
      },
      "cell_type": "code",
      "source": [
        "v1 = wevec_model.wv['love'] \n",
        "v2 = wevec_model.wv['woman'] \n",
        "\n",
        "res =  v1 + v2\n",
        "wevec_model.wv.similar_by_vector(res)"
      ],
      "execution_count": 0,
      "outputs": [
        {
          "output_type": "execute_result",
          "data": {
            "text/plain": [
              "[('woman', 0.877863347530365),\n",
              " ('love', 0.8622276782989502),\n",
              " ('girl', 0.7056551575660706),\n",
              " ('baby', 0.6891446709632874),\n",
              " ('know', 0.6853798627853394),\n",
              " ('cause', 0.6328531503677368),\n",
              " ('lovin', 0.6304674744606018),\n",
              " ('want', 0.6176474094390869),\n",
              " ('man', 0.615849494934082),\n",
              " ('way', 0.6060291528701782)]"
            ]
          },
          "metadata": {
            "tags": []
          },
          "execution_count": 75
        }
      ]
    },
    {
      "metadata": {
        "id": "OJov8FhCRXcL",
        "colab_type": "code",
        "outputId": "07215033-68a9-4c31-c1ca-b3a715c6b96d",
        "colab": {
          "base_uri": "https://localhost:8080/",
          "height": 245
        }
      },
      "cell_type": "code",
      "source": [
        "v1 = wevec_model.wv['baby'] \n",
        "v2 = wevec_model.wv['girl'] \n",
        "v3 = wevec_model.wv['man'] \n",
        "\n",
        "res =  v1 - v2 + v3\n",
        "wevec_model.wv.similar_by_vector(res)"
      ],
      "execution_count": 0,
      "outputs": [
        {
          "output_type": "stream",
          "text": [
            "/usr/local/lib/python3.6/dist-packages/gensim/matutils.py:737: FutureWarning: Conversion of the second argument of issubdtype from `int` to `np.signedinteger` is deprecated. In future, it will be treated as `np.int64 == np.dtype(int).type`.\n",
            "  if np.issubdtype(vec.dtype, np.int):\n"
          ],
          "name": "stderr"
        },
        {
          "output_type": "execute_result",
          "data": {
            "text/plain": [
              "[('man', 0.7545353770256042),\n",
              " ('baby', 0.5510138273239136),\n",
              " ('yeah', 0.46613001823425293),\n",
              " ('oh', 0.4390658438205719),\n",
              " ('love', 0.42743343114852905),\n",
              " ('yes', 0.42291349172592163),\n",
              " ('well', 0.42170244455337524),\n",
              " ('know', 0.41399848461151123),\n",
              " ('lord', 0.4125754237174988),\n",
              " ('babe', 0.41126126050949097)]"
            ]
          },
          "metadata": {
            "tags": []
          },
          "execution_count": 28
        }
      ]
    },
    {
      "metadata": {
        "id": "6GXrv02MRXcN",
        "colab_type": "code",
        "outputId": "9e6c6fbc-6052-43d9-b915-1763585eece8",
        "colab": {}
      },
      "cell_type": "code",
      "source": [
        "v2 = wevec_model.wv['love'] \n",
        "v2 = wevec_model.wv['woman'] \n",
        "\n",
        "res =  v1 + v2\n",
        "wevec_model.wv.similar_by_vector(res)"
      ],
      "execution_count": 0,
      "outputs": [
        {
          "output_type": "execute_result",
          "data": {
            "text/plain": [
              "[('woman', 0.886969268321991),\n",
              " ('baby', 0.8707532286643982),\n",
              " ('girl', 0.7706629037857056),\n",
              " ('babe', 0.6707208752632141),\n",
              " ('love', 0.6638684868812561),\n",
              " ('know', 0.6623520255088806),\n",
              " ('want', 0.630240261554718),\n",
              " ('yeah', 0.6264259815216064),\n",
              " ('cause', 0.6246328353881836),\n",
              " ('honey', 0.6214901208877563)]"
            ]
          },
          "metadata": {
            "tags": []
          },
          "execution_count": 77
        }
      ]
    },
    {
      "metadata": {
        "id": "uiHCl_FjRXcP",
        "colab_type": "code",
        "colab": {}
      },
      "cell_type": "code",
      "source": [
        ""
      ],
      "execution_count": 0,
      "outputs": []
    },
    {
      "metadata": {
        "id": "IV41Rzd-RXcR",
        "colab_type": "text"
      },
      "cell_type": "markdown",
      "source": [
        "## Sentiment Analysis\n",
        "Estimate sentiment of words using word vectors.  \n",
        "In this section, we'll use the SemEval-2015 English Twitter Sentiment Lexicon.  \n",
        "The lexicon was used as an official test set in the SemEval-2015 shared Task #10: Subtask E, and contains a polarity score for words in range -1 (negative) to 1 (positive) - http://saifmohammad.com/WebPages/SCL.html#OPP"
      ]
    },
    {
      "metadata": {
        "id": "2xZFSPXIRXcR",
        "colab_type": "text"
      },
      "cell_type": "markdown",
      "source": [
        "Build a classifier for the sentiment of a word given its word vector. Split the data to a train and test sets, and report the model performance on both sets."
      ]
    },
    {
      "metadata": {
        "id": "nPyYXUApRXcS",
        "colab_type": "code",
        "outputId": "5b387b66-7a52-48e0-eae9-5f3c2c99b785",
        "colab": {
          "base_uri": "https://localhost:8080/",
          "height": 386
        }
      },
      "cell_type": "code",
      "source": [
        "twitter_lex_df = pd.read_csv('/content/drive/My Drive/SemEval2015-English-Twitter-Lexicon.txt', sep='\\t',  names =['polarity', 'word'])\n",
        "twitter_lex_df.describe(include = 'all')"
      ],
      "execution_count": 47,
      "outputs": [
        {
          "output_type": "execute_result",
          "data": {
            "text/html": [
              "<div>\n",
              "<style scoped>\n",
              "    .dataframe tbody tr th:only-of-type {\n",
              "        vertical-align: middle;\n",
              "    }\n",
              "\n",
              "    .dataframe tbody tr th {\n",
              "        vertical-align: top;\n",
              "    }\n",
              "\n",
              "    .dataframe thead th {\n",
              "        text-align: right;\n",
              "    }\n",
              "</style>\n",
              "<table border=\"1\" class=\"dataframe\">\n",
              "  <thead>\n",
              "    <tr style=\"text-align: right;\">\n",
              "      <th></th>\n",
              "      <th>polarity</th>\n",
              "      <th>word</th>\n",
              "    </tr>\n",
              "  </thead>\n",
              "  <tbody>\n",
              "    <tr>\n",
              "      <th>count</th>\n",
              "      <td>1515.000000</td>\n",
              "      <td>1515</td>\n",
              "    </tr>\n",
              "    <tr>\n",
              "      <th>unique</th>\n",
              "      <td>NaN</td>\n",
              "      <td>1515</td>\n",
              "    </tr>\n",
              "    <tr>\n",
              "      <th>top</th>\n",
              "      <td>NaN</td>\n",
              "      <td>not complaining</td>\n",
              "    </tr>\n",
              "    <tr>\n",
              "      <th>freq</th>\n",
              "      <td>NaN</td>\n",
              "      <td>1</td>\n",
              "    </tr>\n",
              "    <tr>\n",
              "      <th>mean</th>\n",
              "      <td>0.000319</td>\n",
              "      <td>NaN</td>\n",
              "    </tr>\n",
              "    <tr>\n",
              "      <th>std</th>\n",
              "      <td>0.502247</td>\n",
              "      <td>NaN</td>\n",
              "    </tr>\n",
              "    <tr>\n",
              "      <th>min</th>\n",
              "      <td>-0.984000</td>\n",
              "      <td>NaN</td>\n",
              "    </tr>\n",
              "    <tr>\n",
              "      <th>25%</th>\n",
              "      <td>-0.422000</td>\n",
              "      <td>NaN</td>\n",
              "    </tr>\n",
              "    <tr>\n",
              "      <th>50%</th>\n",
              "      <td>0.031000</td>\n",
              "      <td>NaN</td>\n",
              "    </tr>\n",
              "    <tr>\n",
              "      <th>75%</th>\n",
              "      <td>0.406000</td>\n",
              "      <td>NaN</td>\n",
              "    </tr>\n",
              "    <tr>\n",
              "      <th>max</th>\n",
              "      <td>0.984000</td>\n",
              "      <td>NaN</td>\n",
              "    </tr>\n",
              "  </tbody>\n",
              "</table>\n",
              "</div>"
            ],
            "text/plain": [
              "           polarity             word\n",
              "count   1515.000000             1515\n",
              "unique          NaN             1515\n",
              "top             NaN  not complaining\n",
              "freq            NaN                1\n",
              "mean       0.000319              NaN\n",
              "std        0.502247              NaN\n",
              "min       -0.984000              NaN\n",
              "25%       -0.422000              NaN\n",
              "50%        0.031000              NaN\n",
              "75%        0.406000              NaN\n",
              "max        0.984000              NaN"
            ]
          },
          "metadata": {
            "tags": []
          },
          "execution_count": 47
        }
      ]
    },
    {
      "metadata": {
        "id": "gvIxpK4ARXcY",
        "colab_type": "code",
        "outputId": "9193d70b-9cec-43e7-de64-d48dee5c3727",
        "colab": {
          "base_uri": "https://localhost:8080/",
          "height": 202
        }
      },
      "cell_type": "code",
      "source": [
        "twitter_lex_df.head()"
      ],
      "execution_count": 48,
      "outputs": [
        {
          "output_type": "execute_result",
          "data": {
            "text/html": [
              "<div>\n",
              "<style scoped>\n",
              "    .dataframe tbody tr th:only-of-type {\n",
              "        vertical-align: middle;\n",
              "    }\n",
              "\n",
              "    .dataframe tbody tr th {\n",
              "        vertical-align: top;\n",
              "    }\n",
              "\n",
              "    .dataframe thead th {\n",
              "        text-align: right;\n",
              "    }\n",
              "</style>\n",
              "<table border=\"1\" class=\"dataframe\">\n",
              "  <thead>\n",
              "    <tr style=\"text-align: right;\">\n",
              "      <th></th>\n",
              "      <th>polarity</th>\n",
              "      <th>word</th>\n",
              "    </tr>\n",
              "  </thead>\n",
              "  <tbody>\n",
              "    <tr>\n",
              "      <th>0</th>\n",
              "      <td>0.984</td>\n",
              "      <td>loves</td>\n",
              "    </tr>\n",
              "    <tr>\n",
              "      <th>1</th>\n",
              "      <td>0.984</td>\n",
              "      <td>#inspirational</td>\n",
              "    </tr>\n",
              "    <tr>\n",
              "      <th>2</th>\n",
              "      <td>0.969</td>\n",
              "      <td>amazing</td>\n",
              "    </tr>\n",
              "    <tr>\n",
              "      <th>3</th>\n",
              "      <td>0.969</td>\n",
              "      <td>#peaceful</td>\n",
              "    </tr>\n",
              "    <tr>\n",
              "      <th>4</th>\n",
              "      <td>0.953</td>\n",
              "      <td>#greatness</td>\n",
              "    </tr>\n",
              "  </tbody>\n",
              "</table>\n",
              "</div>"
            ],
            "text/plain": [
              "   polarity            word\n",
              "0     0.984           loves\n",
              "1     0.984  #inspirational\n",
              "2     0.969         amazing\n",
              "3     0.969       #peaceful\n",
              "4     0.953      #greatness"
            ]
          },
          "metadata": {
            "tags": []
          },
          "execution_count": 48
        }
      ]
    },
    {
      "metadata": {
        "id": "3gFx_-0pRXcb",
        "colab_type": "code",
        "colab": {}
      },
      "cell_type": "code",
      "source": [
        "twitter_lex_df['vector'] = twitter_lex_df[\"word\"].map(lambda word: wevec_model.wv[word].reshape(1,-1) if word in wevec_model.wv else None)\n",
        "twitter_lex_df = twitter_lex_df[twitter_lex_df.vector.notnull()]\n"
      ],
      "execution_count": 0,
      "outputs": []
    },
    {
      "metadata": {
        "id": "1qhm9PFZRXcd",
        "colab_type": "code",
        "colab": {}
      },
      "cell_type": "code",
      "source": [
        "  \n",
        "train, test = train_test_split(twitter_lex_df, test_size=0.2, random_state=999)\n",
        "X_train = train['vector'].values\n",
        "y_train = train['polarity'].values\n",
        "X_test = test['vector'].values\n",
        "y_test = test['polarity'].values\n",
        "\n",
        "X_train = np.concatenate(X_train).reshape(X_train.shape[0], X_train[0].shape[1])\n",
        "\n",
        "shape = list(X_test[0].shape)\n",
        "X_test = np.concatenate(X_test).reshape(X_test.shape[0],X_test[0].shape[1])"
      ],
      "execution_count": 0,
      "outputs": []
    },
    {
      "metadata": {
        "id": "JTajK9JHRXce",
        "colab_type": "code",
        "outputId": "cf24de5a-879e-4527-b7f8-5192aecbb421",
        "colab": {
          "base_uri": "https://localhost:8080/",
          "height": 121
        }
      },
      "cell_type": "code",
      "source": [
        "model = XGBRegressor()\n",
        "model.fit(X_train, y_train)"
      ],
      "execution_count": 51,
      "outputs": [
        {
          "output_type": "execute_result",
          "data": {
            "text/plain": [
              "XGBRegressor(base_score=0.5, booster='gbtree', colsample_bylevel=1,\n",
              "       colsample_bytree=1, gamma=0, learning_rate=0.1, max_delta_step=0,\n",
              "       max_depth=3, min_child_weight=1, missing=None, n_estimators=100,\n",
              "       n_jobs=1, nthread=None, objective='reg:linear', random_state=0,\n",
              "       reg_alpha=0, reg_lambda=1, scale_pos_weight=1, seed=None,\n",
              "       silent=True, subsample=1)"
            ]
          },
          "metadata": {
            "tags": []
          },
          "execution_count": 51
        }
      ]
    },
    {
      "metadata": {
        "id": "A6CXEYhWRXch",
        "colab_type": "code",
        "outputId": "b3e26102-49d1-4311-ad46-9aab1c8747b7",
        "colab": {
          "base_uri": "https://localhost:8080/",
          "height": 35
        }
      },
      "cell_type": "code",
      "source": [
        "model.score(X_test, y_test)"
      ],
      "execution_count": 52,
      "outputs": [
        {
          "output_type": "execute_result",
          "data": {
            "text/plain": [
              "0.37610162843154593"
            ]
          },
          "metadata": {
            "tags": []
          },
          "execution_count": 52
        }
      ]
    },
    {
      "metadata": {
        "id": "32oVBSJGRXcl",
        "colab_type": "code",
        "outputId": "813a28f9-d114-4f86-8bfb-3d006af64980",
        "colab": {
          "base_uri": "https://localhost:8080/",
          "height": 121
        }
      },
      "cell_type": "code",
      "source": [
        "\n",
        "regr = RandomForestRegressor(max_depth=3, random_state=999, n_estimators=150, min_samples_leaf=3)\n",
        "regr.fit(X_train, y_train)"
      ],
      "execution_count": 53,
      "outputs": [
        {
          "output_type": "execute_result",
          "data": {
            "text/plain": [
              "RandomForestRegressor(bootstrap=True, criterion='mse', max_depth=3,\n",
              "           max_features='auto', max_leaf_nodes=None,\n",
              "           min_impurity_decrease=0.0, min_impurity_split=None,\n",
              "           min_samples_leaf=3, min_samples_split=2,\n",
              "           min_weight_fraction_leaf=0.0, n_estimators=150, n_jobs=None,\n",
              "           oob_score=False, random_state=999, verbose=0, warm_start=False)"
            ]
          },
          "metadata": {
            "tags": []
          },
          "execution_count": 53
        }
      ]
    },
    {
      "metadata": {
        "id": "XnrL0bUmRXcp",
        "colab_type": "code",
        "outputId": "8a009dbb-5a38-4fab-fd73-754fdac20d20",
        "colab": {
          "base_uri": "https://localhost:8080/",
          "height": 35
        }
      },
      "cell_type": "code",
      "source": [
        "regr.score(X_test, y_test)"
      ],
      "execution_count": 54,
      "outputs": [
        {
          "output_type": "execute_result",
          "data": {
            "text/plain": [
              "0.24390653010985916"
            ]
          },
          "metadata": {
            "tags": []
          },
          "execution_count": 54
        }
      ]
    },
    {
      "metadata": {
        "id": "tq9k0rF4RXcs",
        "colab_type": "code",
        "colab": {}
      },
      "cell_type": "code",
      "source": [
        ""
      ],
      "execution_count": 0,
      "outputs": []
    },
    {
      "metadata": {
        "id": "0ZPQpE1YRXcx",
        "colab_type": "code",
        "colab": {}
      },
      "cell_type": "code",
      "source": [
        "y = y_train.reshape(-1, 1)\n",
        "yy = y_test.reshape(-1, 1)\n"
      ],
      "execution_count": 0,
      "outputs": []
    },
    {
      "metadata": {
        "id": "gSZsh-cbRXc1",
        "colab_type": "code",
        "colab": {}
      },
      "cell_type": "code",
      "source": [
        "training_samples = utils_data.TensorDataset(torch.from_numpy(X_train), torch.from_numpy(y))\n",
        "data_loader = utils_data.DataLoader(training_samples, batch_size=5, shuffle=False)\t\n",
        "\n",
        "test_samples = utils_data.TensorDataset(torch.from_numpy(X_test), torch.from_numpy(yy))\n",
        "test_data_loader = utils_data.DataLoader(test_samples, batch_size=len(X_test), shuffle=False)\t\n",
        "test_data_loader_1 = utils_data.DataLoader(test_samples, batch_size=1, shuffle=False)\n"
      ],
      "execution_count": 0,
      "outputs": []
    },
    {
      "metadata": {
        "id": "IMah6XckRXc5",
        "colab_type": "code",
        "colab": {}
      },
      "cell_type": "code",
      "source": [
        ""
      ],
      "execution_count": 0,
      "outputs": []
    },
    {
      "metadata": {
        "id": "4Od1vn9wRXc8",
        "colab_type": "code",
        "outputId": "ad8ca011-3145-4816-986b-36d260e0ace6",
        "colab": {
          "base_uri": "https://localhost:8080/",
          "height": 35
        }
      },
      "cell_type": "code",
      "source": [
        "liveloss = PlotLosses()\n",
        "\n",
        "\n",
        "\n",
        "class Net(torch.nn.Module):\n",
        "    def __init__(self, n_feature, n_hidden, n_output):\n",
        "        super(Net, self).__init__()\n",
        "        self.hidden = torch.nn.Linear(n_feature, n_hidden)\n",
        "        self.predict = torch.nn.Linear(n_hidden, n_output)\n",
        "        self.dropout1 = nn.Dropout(p=0.1)\n",
        "        \n",
        "\n",
        "    def forward(self, x):\n",
        "        x = F.relu(self.hidden(x))   \n",
        "        x = self.dropout1(x)\n",
        "        x = self.predict(x)  \n",
        "        return x\n",
        "\n",
        "      \n",
        "      \n",
        "net = Net(n_feature=300, n_hidden=20, n_output=1)     \n",
        "optimizer = torch.optim.SGD(net.parameters(), lr=0.001)\n",
        "loss_func = torch.nn.MSELoss()\n",
        "\n",
        "if use_cuda:\n",
        "  net = net.cuda()\n",
        "  \n",
        "# plt.ion()  \n",
        "\n",
        "for epoch in range(100):\n",
        "    for batch_idx, (data, target) in enumerate(data_loader):\n",
        "        \n",
        "        if use_cuda:\n",
        "          data = data.cuda()\n",
        "          target = target.cuda()\n",
        "          \n",
        "          \n",
        "        data, target = Variable(data).float(), Variable(target).float()\n",
        "        optimizer.zero_grad()\n",
        "        prediction = net(data)\n",
        "        loss = loss_func(prediction, target) \n",
        "        \n",
        "        loss.backward() \n",
        "        optimizer.step()\n",
        "        \n",
        "\n",
        "def score(model, data_loader, criterion):\n",
        "  \n",
        "  running_loss = 0.\n",
        "  calc_count =0.\n",
        "  \n",
        "  model.eval()\n",
        "  \n",
        "  with torch.no_grad():\n",
        "    for images, labels in data_loader:\n",
        "      if use_cuda:\n",
        "        images = images.cuda()\n",
        "        labels = labels.cuda()\n",
        "        \n",
        "      images = Variable(images)  \n",
        "      labels = Variable(labels)\n",
        "      \n",
        "      outputs = model(images.float())\n",
        "      loss = criterion(outputs, labels.float())\n",
        "      return loss \n",
        "\n",
        "score(net, test_data_loader, loss_func ).item()  "
      ],
      "execution_count": 64,
      "outputs": [
        {
          "output_type": "execute_result",
          "data": {
            "text/plain": [
              "0.12064286321401596"
            ]
          },
          "metadata": {
            "tags": []
          },
          "execution_count": 64
        }
      ]
    },
    {
      "metadata": {
        "id": "onaHnQPXRXc-",
        "colab_type": "code",
        "colab": {}
      },
      "cell_type": "code",
      "source": [
        "\n",
        "        \n",
        "       \n",
        "\n",
        "     \n"
      ],
      "execution_count": 0,
      "outputs": []
    },
    {
      "metadata": {
        "id": "LZT1RIAyRXdB",
        "colab_type": "code",
        "colab": {}
      },
      "cell_type": "code",
      "source": [
        "\n"
      ],
      "execution_count": 0,
      "outputs": []
    },
    {
      "metadata": {
        "id": "r4oCCXA1RXdE",
        "colab_type": "code",
        "colab": {}
      },
      "cell_type": "code",
      "source": [
        ""
      ],
      "execution_count": 0,
      "outputs": []
    },
    {
      "metadata": {
        "id": "Goi1mSRQRXdG",
        "colab_type": "code",
        "colab": {}
      },
      "cell_type": "code",
      "source": [
        ""
      ],
      "execution_count": 0,
      "outputs": []
    },
    {
      "metadata": {
        "id": "uXH77-NnRXdM",
        "colab_type": "code",
        "colab": {}
      },
      "cell_type": "code",
      "source": [
        ""
      ],
      "execution_count": 0,
      "outputs": []
    },
    {
      "metadata": {
        "id": "ViJvZQ0lRXdP",
        "colab_type": "text"
      },
      "cell_type": "markdown",
      "source": [
        "Use your trained model from the previous question to predict the sentiment score of words in the lyrics corpus that are not part of the original sentiment dataset. Review the words with the highest positive and negative sentiment. Do the results make sense?"
      ]
    },
    {
      "metadata": {
        "id": "Rg8p9R5wRXdQ",
        "colab_type": "code",
        "colab": {}
      },
      "cell_type": "code",
      "source": [
        "X_train.shape"
      ],
      "execution_count": 0,
      "outputs": []
    },
    {
      "metadata": {
        "id": "02nUNxJ1RXdR",
        "colab_type": "text"
      },
      "cell_type": "markdown",
      "source": [
        "### Visualize Word Vectors\n",
        "In this section, you'll plot words on a 2D grid based on their inner similarity. We'll use the tSNE transformation to reduce dimensions from 300 to 2. You can get sample code from https://www.kaggle.com/pierremegret/gensim-word2vec-tutorial or other tutorials online.\n",
        "\n",
        "Perform the following:\n",
        "- Keep only the 3,000 most frequent words (after removing stopwords)\n",
        "- For this list, compute for each word its relative abundance in each of the genres\n",
        "- Compute the ratio between the proportion of each word in each genre and the proportion of the word in the entire corpus (the background distribution)\n",
        "- Pick the top 50 words for each genre. These words give good indication for that genre. Join the words from all genres into a single list of top significant words. \n",
        "- Compute tSNE transformation to 2D for all words, based on their word vectors\n",
        "- Plot the list of the top significant words in 2D. Next to each word output its text. The color of each point should indicate the genre for which it is most significant.\n",
        "\n",
        "You might prefer to use a different number of points or a slightly different methodology for improved results.  \n",
        "Analyze the results."
      ]
    },
    {
      "metadata": {
        "id": "B1p05fLZRXdS",
        "colab_type": "code",
        "colab": {}
      },
      "cell_type": "code",
      "source": [
        "\n",
        "\n",
        "texts = lyrics_df[\"clean_lyrics\"].tolist()\n",
        "\n",
        "all_text = [item for sublist in texts for item in sublist]\n",
        "req_dist = nltk.FreqDist(all_text)\n",
        "words_couter = [(word, count) for (word, count) in req_dist.items()]\n",
        "words_couter.sort(key=lambda tup: tup[1], reverse=True) \n",
        "top_words = words_couter[0:3000]"
      ],
      "execution_count": 0,
      "outputs": []
    },
    {
      "metadata": {
        "id": "VQoMlRKhRXdT",
        "colab_type": "code",
        "colab": {}
      },
      "cell_type": "code",
      "source": [
        "geners = lyrics_df['genre'].unique()\n",
        "word_gener_counter = np.zeros(shape=(3000, len(geners)))\n",
        "word_total_counter = np.zeros(len(geners))\n",
        "word_index = {word: index for index, (word,counter) in enumerate(top_words)}\n",
        "index_word = {index:word for index, (word,counter) in enumerate(top_words)}\n",
        "\n",
        "genere_index = {genere: index for index, genere in enumerate(geners)}\n",
        "index_genere = {index:genere  for index, genere in enumerate(geners)}\n",
        "\n",
        "for index, row in lyrics_df.iterrows():\n",
        "    genre = row['genre']\n",
        "    words = row['clean_lyrics']\n",
        "    \n",
        "    current_genere_index = genere_index[genre]\n",
        "     \n",
        "    \n",
        "    for word in words:\n",
        "        if word in word_index:\n",
        "            word_total_counter[current_genere_index] += 1\n",
        "            current_word_index = word_index[word]\n",
        "            word_gener_counter[current_word_index][current_genere_index]  += 1"
      ],
      "execution_count": 0,
      "outputs": []
    },
    {
      "metadata": {
        "id": "sArcPgdvRXdU",
        "colab_type": "code",
        "colab": {}
      },
      "cell_type": "code",
      "source": [
        "ratios = word_gener_counter / word_total_counter.reshape(12)\n",
        "(ratios[1, 10],word_gener_counter[1, 10]/ word_total_counter[10])\n",
        "\n",
        "ratios_sorted = np.argsort(ratios, axis=0, kind='quicksort')\n",
        "top_ineces = ratios_sorted[0:50, :]\n",
        "\n",
        "\n",
        "ratios = word_gener_counter / word_total_counter.reshape(12)\n",
        "(ratios[1, 10],word_gener_counter[1, 10]/ word_total_counter[10])\n",
        "genget_top_words = {}\n",
        "for row in top_ineces:\n",
        "    for column, val in enumerate(row):\n",
        "        genre = index_genere[column]\n",
        "        if genre not in genget_top_words:\n",
        "            genget_top_words[genre] = []\n",
        "        \n",
        "        word =index_word[val]\n",
        "        genget_top_words[genre].append(word)\n",
        "        "
      ],
      "execution_count": 0,
      "outputs": []
    },
    {
      "metadata": {
        "id": "bS32v78YRXdW",
        "colab_type": "code",
        "colab": {}
      },
      "cell_type": "code",
      "source": [
        ""
      ],
      "execution_count": 0,
      "outputs": []
    },
    {
      "metadata": {
        "id": "XOXibTX6RXdY",
        "colab_type": "code",
        "outputId": "89fa6282-089b-437d-c618-92c4d72a5a31",
        "colab": {
          "base_uri": "https://localhost:8080/",
          "height": 706
        }
      },
      "cell_type": "code",
      "source": [
        ""
      ],
      "execution_count": 71,
      "outputs": [
        {
          "output_type": "stream",
          "text": [
            "/usr/local/lib/python3.6/dist-packages/gensim/matutils.py:737: FutureWarning: Conversion of the second argument of issubdtype from `int` to `np.signedinteger` is deprecated. In future, it will be treated as `np.int64 == np.dtype(int).type`.\n",
            "  if np.issubdtype(vec.dtype, np.int):\n"
          ],
          "name": "stderr"
        },
        {
          "output_type": "error",
          "ename": "ValueError",
          "evalue": "ignored",
          "traceback": [
            "\u001b[0;31m---------------------------------------------------------------------------\u001b[0m",
            "\u001b[0;31mValueError\u001b[0m                                Traceback (most recent call last)",
            "\u001b[0;32m<ipython-input-71-2c54e8cdec94>\u001b[0m in \u001b[0;36m<module>\u001b[0;34m()\u001b[0m\n\u001b[0;32m----> 1\u001b[0;31m \u001b[0mtsnescatterplot\u001b[0m\u001b[0;34m(\u001b[0m\u001b[0mwevec_model\u001b[0m\u001b[0;34m,\u001b[0m \u001b[0;34m'lady'\u001b[0m\u001b[0;34m,\u001b[0m \u001b[0;34m[\u001b[0m\u001b[0;34m'winter'\u001b[0m\u001b[0;34m,\u001b[0m \u001b[0;34m'song'\u001b[0m\u001b[0;34m]\u001b[0m\u001b[0;34m)\u001b[0m\u001b[0;34m\u001b[0m\u001b[0;34m\u001b[0m\u001b[0m\n\u001b[0m",
            "\u001b[0;32m<ipython-input-70-188e7be5f049>\u001b[0m in \u001b[0;36mtsnescatterplot\u001b[0;34m(model, word, list_names)\u001b[0m\n\u001b[1;32m     28\u001b[0m \u001b[0;34m\u001b[0m\u001b[0m\n\u001b[1;32m     29\u001b[0m     \u001b[0;31m# Reduces the dimensionality from 300 to 50 dimensions with PCA\u001b[0m\u001b[0;34m\u001b[0m\u001b[0;34m\u001b[0m\u001b[0;34m\u001b[0m\u001b[0m\n\u001b[0;32m---> 30\u001b[0;31m     \u001b[0mreduc\u001b[0m \u001b[0;34m=\u001b[0m \u001b[0mPCA\u001b[0m\u001b[0;34m(\u001b[0m\u001b[0mn_components\u001b[0m\u001b[0;34m=\u001b[0m\u001b[0;36m50\u001b[0m\u001b[0;34m)\u001b[0m\u001b[0;34m.\u001b[0m\u001b[0mfit_transform\u001b[0m\u001b[0;34m(\u001b[0m\u001b[0marrays\u001b[0m\u001b[0;34m)\u001b[0m\u001b[0;34m\u001b[0m\u001b[0;34m\u001b[0m\u001b[0m\n\u001b[0m\u001b[1;32m     31\u001b[0m \u001b[0;34m\u001b[0m\u001b[0m\n\u001b[1;32m     32\u001b[0m     \u001b[0;31m# Finds t-SNE coordinates for 2 dimensions\u001b[0m\u001b[0;34m\u001b[0m\u001b[0;34m\u001b[0m\u001b[0;34m\u001b[0m\u001b[0m\n",
            "\u001b[0;32m/usr/local/lib/python3.6/dist-packages/sklearn/decomposition/pca.py\u001b[0m in \u001b[0;36mfit_transform\u001b[0;34m(self, X, y)\u001b[0m\n\u001b[1;32m    357\u001b[0m \u001b[0;34m\u001b[0m\u001b[0m\n\u001b[1;32m    358\u001b[0m         \"\"\"\n\u001b[0;32m--> 359\u001b[0;31m         \u001b[0mU\u001b[0m\u001b[0;34m,\u001b[0m \u001b[0mS\u001b[0m\u001b[0;34m,\u001b[0m \u001b[0mV\u001b[0m \u001b[0;34m=\u001b[0m \u001b[0mself\u001b[0m\u001b[0;34m.\u001b[0m\u001b[0m_fit\u001b[0m\u001b[0;34m(\u001b[0m\u001b[0mX\u001b[0m\u001b[0;34m)\u001b[0m\u001b[0;34m\u001b[0m\u001b[0;34m\u001b[0m\u001b[0m\n\u001b[0m\u001b[1;32m    360\u001b[0m         \u001b[0mU\u001b[0m \u001b[0;34m=\u001b[0m \u001b[0mU\u001b[0m\u001b[0;34m[\u001b[0m\u001b[0;34m:\u001b[0m\u001b[0;34m,\u001b[0m \u001b[0;34m:\u001b[0m\u001b[0mself\u001b[0m\u001b[0;34m.\u001b[0m\u001b[0mn_components_\u001b[0m\u001b[0;34m]\u001b[0m\u001b[0;34m\u001b[0m\u001b[0;34m\u001b[0m\u001b[0m\n\u001b[1;32m    361\u001b[0m \u001b[0;34m\u001b[0m\u001b[0m\n",
            "\u001b[0;32m/usr/local/lib/python3.6/dist-packages/sklearn/decomposition/pca.py\u001b[0m in \u001b[0;36m_fit\u001b[0;34m(self, X)\u001b[0m\n\u001b[1;32m    404\u001b[0m         \u001b[0;31m# Call different fits for either full or truncated SVD\u001b[0m\u001b[0;34m\u001b[0m\u001b[0;34m\u001b[0m\u001b[0;34m\u001b[0m\u001b[0m\n\u001b[1;32m    405\u001b[0m         \u001b[0;32mif\u001b[0m \u001b[0mself\u001b[0m\u001b[0;34m.\u001b[0m\u001b[0m_fit_svd_solver\u001b[0m \u001b[0;34m==\u001b[0m \u001b[0;34m'full'\u001b[0m\u001b[0;34m:\u001b[0m\u001b[0;34m\u001b[0m\u001b[0;34m\u001b[0m\u001b[0m\n\u001b[0;32m--> 406\u001b[0;31m             \u001b[0;32mreturn\u001b[0m \u001b[0mself\u001b[0m\u001b[0;34m.\u001b[0m\u001b[0m_fit_full\u001b[0m\u001b[0;34m(\u001b[0m\u001b[0mX\u001b[0m\u001b[0;34m,\u001b[0m \u001b[0mn_components\u001b[0m\u001b[0;34m)\u001b[0m\u001b[0;34m\u001b[0m\u001b[0;34m\u001b[0m\u001b[0m\n\u001b[0m\u001b[1;32m    407\u001b[0m         \u001b[0;32melif\u001b[0m \u001b[0mself\u001b[0m\u001b[0;34m.\u001b[0m\u001b[0m_fit_svd_solver\u001b[0m \u001b[0;32min\u001b[0m \u001b[0;34m[\u001b[0m\u001b[0;34m'arpack'\u001b[0m\u001b[0;34m,\u001b[0m \u001b[0;34m'randomized'\u001b[0m\u001b[0;34m]\u001b[0m\u001b[0;34m:\u001b[0m\u001b[0;34m\u001b[0m\u001b[0;34m\u001b[0m\u001b[0m\n\u001b[1;32m    408\u001b[0m             \u001b[0;32mreturn\u001b[0m \u001b[0mself\u001b[0m\u001b[0;34m.\u001b[0m\u001b[0m_fit_truncated\u001b[0m\u001b[0;34m(\u001b[0m\u001b[0mX\u001b[0m\u001b[0;34m,\u001b[0m \u001b[0mn_components\u001b[0m\u001b[0;34m,\u001b[0m \u001b[0mself\u001b[0m\u001b[0;34m.\u001b[0m\u001b[0m_fit_svd_solver\u001b[0m\u001b[0;34m)\u001b[0m\u001b[0;34m\u001b[0m\u001b[0;34m\u001b[0m\u001b[0m\n",
            "\u001b[0;32m/usr/local/lib/python3.6/dist-packages/sklearn/decomposition/pca.py\u001b[0m in \u001b[0;36m_fit_full\u001b[0;34m(self, X, n_components)\u001b[0m\n\u001b[1;32m    423\u001b[0m                              \u001b[0;34m\"min(n_samples, n_features)=%r with \"\u001b[0m\u001b[0;34m\u001b[0m\u001b[0;34m\u001b[0m\u001b[0m\n\u001b[1;32m    424\u001b[0m                              \u001b[0;34m\"svd_solver='full'\"\u001b[0m\u001b[0;34m\u001b[0m\u001b[0;34m\u001b[0m\u001b[0m\n\u001b[0;32m--> 425\u001b[0;31m                              % (n_components, min(n_samples, n_features)))\n\u001b[0m\u001b[1;32m    426\u001b[0m         \u001b[0;32melif\u001b[0m \u001b[0mn_components\u001b[0m \u001b[0;34m>=\u001b[0m \u001b[0;36m1\u001b[0m\u001b[0;34m:\u001b[0m\u001b[0;34m\u001b[0m\u001b[0;34m\u001b[0m\u001b[0m\n\u001b[1;32m    427\u001b[0m             \u001b[0;32mif\u001b[0m \u001b[0;32mnot\u001b[0m \u001b[0misinstance\u001b[0m\u001b[0;34m(\u001b[0m\u001b[0mn_components\u001b[0m\u001b[0;34m,\u001b[0m \u001b[0;34m(\u001b[0m\u001b[0mnumbers\u001b[0m\u001b[0;34m.\u001b[0m\u001b[0mIntegral\u001b[0m\u001b[0;34m,\u001b[0m \u001b[0mnp\u001b[0m\u001b[0;34m.\u001b[0m\u001b[0minteger\u001b[0m\u001b[0;34m)\u001b[0m\u001b[0;34m)\u001b[0m\u001b[0;34m:\u001b[0m\u001b[0;34m\u001b[0m\u001b[0;34m\u001b[0m\u001b[0m\n",
            "\u001b[0;31mValueError\u001b[0m: n_components=50 must be between 0 and min(n_samples, n_features)=13 with svd_solver='full'"
          ]
        }
      ]
    },
    {
      "metadata": {
        "id": "bKjUU5QYRXda",
        "colab_type": "code",
        "colab": {}
      },
      "cell_type": "code",
      "source": [
        "\n",
        "\n",
        "\n",
        "\n",
        "def tsnescatterplot(model, genere_words):\n",
        "    \"\"\" Plot in seaborn the results from the t-SNE dimensionality reduction algorithm of the vectors of a query word,\n",
        "    its list of most similar words, and a list of words.\n",
        "    \"\"\"\n",
        "    num_of_geners = len(genere_words.keys()) * 50\n",
        "    arrays = np.empty((0, 300), dtype='f')\n",
        "    #arrays = np.empty((0,num_of_geners)  , dtype='f')\n",
        "                      \n",
        "#     word_labels = [word]\n",
        "    word_labels = []\n",
        "\n",
        "#     color_list  = ['red']\n",
        "    color_list_ptions = ['white',  'green', 'purple', 'black',  'blue', 'yellow', 'orange', 'red', 'olive', \n",
        "                  'pink', 'cyan', 'brown']\n",
        "    \n",
        "\n",
        "    color_list = []                  \n",
        "    for index, (genere, list_names) in  enumerate(genere_words.items()):\n",
        "        color = color_list_ptions[index]\n",
        "        for wrd in list_names:\n",
        "            wrd_vector = model.wv.__getitem__([wrd])   \n",
        "            word_labels.append(wrd)\n",
        "            color_list.append(color)\n",
        "            arrays = np.append(arrays, wrd_vector, axis=0)\n",
        "                      \n",
        "         \n",
        "                    \n",
        "        \n",
        "    # Reduces the dimensionality from 300 to 50 dimensions with PCA\n",
        "    reduc = PCA(n_components=50).fit_transform(arrays)\n",
        "    \n",
        "    # Finds t-SNE coordinates for 2 dimensions\n",
        "    np.set_printoptions(suppress=True)\n",
        "    \n",
        "    Y = TSNE(n_components=2, random_state=0, perplexity=15).fit_transform(reduc)\n",
        "    \n",
        "    # Sets everything up to plot\n",
        "    df = pd.DataFrame({'x': [x for x in Y[:, 0]],\n",
        "                       'y': [y for y in Y[:, 1]],\n",
        "                       'words': word_labels,\n",
        "                       'color': color_list})\n",
        "    \n",
        "    fig, _ = plt.subplots()\n",
        "    fig.set_size_inches(9, 9)\n",
        "    \n",
        "    # Basic plot\n",
        "    p1 = sns.regplot(data=df,\n",
        "                     x=\"x\",\n",
        "                     y=\"y\",\n",
        "                     fit_reg=False,\n",
        "                     marker=\"o\",\n",
        "                     scatter_kws={'s': 40,\n",
        "                                  'facecolors': df['color']\n",
        "                                 }\n",
        "                    )\n",
        "    \n",
        "    # Adds annotations one by one with a loop\n",
        "    for line in range(0, df.shape[0]):\n",
        "         p1.text(df[\"x\"][line],\n",
        "                 df['y'][line],\n",
        "                 '  ' + df[\"words\"][line].title(),\n",
        "                 horizontalalignment='left',\n",
        "                 verticalalignment='bottom', size='medium',\n",
        "                 color=df['color'][line],\n",
        "                 weight='normal'\n",
        "                ).set_size(15)\n",
        "\n",
        "    \n",
        "    plt.xlim(Y[:, 0].min()-50, Y[:, 0].max()+50)\n",
        "    plt.ylim(Y[:, 1].min()-50, Y[:, 1].max()+50)\n",
        "            \n",
        "    plt.title('t-SNE visualization for {}'.format(word.title()))"
      ],
      "execution_count": 0,
      "outputs": []
    },
    {
      "metadata": {
        "id": "DVRJZ5M5RXdd",
        "colab_type": "code",
        "outputId": "95790346-7a2e-4540-aae3-659c0b6f940c",
        "colab": {
          "base_uri": "https://localhost:8080/",
          "height": 567
        }
      },
      "cell_type": "code",
      "source": [
        "tsnescatterplot(wevec_model, genget_top_words)"
      ],
      "execution_count": 73,
      "outputs": [
        {
          "output_type": "display_data",
          "data": {
            "image/png": "[encoded data removed]",
            "text/plain": [
              "<Figure size 648x648 with 1 Axes>"
            ]
          },
          "metadata": {
            "tags": []
          }
        }
      ]
    },
    {
      "metadata": {
        "id": "4WJDq0L_RXdf",
        "colab_type": "text"
      },
      "cell_type": "markdown",
      "source": [
        "## Text Classification\n",
        "In this section, you'll build a text classifier, determining the genre of a song based on its lyrics."
      ]
    },
    {
      "metadata": {
        "id": "r7r2gGPNRXdg",
        "colab_type": "text"
      },
      "cell_type": "markdown",
      "source": [
        "### Text classification using Bag-of-Words\n",
        "Build a Naive Bayes classifier based on the bag of Words.  \n",
        "You will need to divide your dataset into a train and test sets."
      ]
    },
    {
      "metadata": {
        "id": "m7_TWU0MRXdg",
        "colab_type": "code",
        "colab": {}
      },
      "cell_type": "code",
      "source": [
        "lyrics_df['clean_sentense'] = lyrics_df['clean_lyrics'].map(lambda words: ' '.join(words)) \n",
        "train, test = train_test_split(lyrics_df, test_size=0.2, random_state=999)\n",
        "\n",
        "\n",
        "X_train = train['clean_sentense'].tolist()\n",
        "y_train = train['genre'].tolist()\n",
        "\n",
        "\n",
        "X_test = test['clean_sentense']\n",
        "y_test = test['genre']"
      ],
      "execution_count": 0,
      "outputs": []
    },
    {
      "metadata": {
        "id": "dbqc1AeARXdk",
        "colab_type": "code",
        "colab": {}
      },
      "cell_type": "code",
      "source": [
        "vect = CountVectorizer()\n",
        "X_train_dtm = vect.fit_transform(X_train)\n"
      ],
      "execution_count": 0,
      "outputs": []
    },
    {
      "metadata": {
        "id": "gQTfWo3PRXdn",
        "colab_type": "code",
        "outputId": "9acf28d1-a9a4-4361-fee0-e1e39f7dd7bf",
        "colab": {
          "base_uri": "https://localhost:8080/",
          "height": 35
        }
      },
      "cell_type": "code",
      "source": [
        "\n",
        "nb = MultinomialNB()\n",
        "nb.fit(X_train_dtm, y_train)\n"
      ],
      "execution_count": 18,
      "outputs": [
        {
          "output_type": "execute_result",
          "data": {
            "text/plain": [
              "MultinomialNB(alpha=1.0, class_prior=None, fit_prior=True)"
            ]
          },
          "metadata": {
            "tags": []
          },
          "execution_count": 18
        }
      ]
    },
    {
      "metadata": {
        "id": "a3Lg6fv_RXdp",
        "colab_type": "code",
        "outputId": "3f906349-365c-45e1-fec6-cd108eb8e1a5",
        "colab": {
          "base_uri": "https://localhost:8080/",
          "height": 35
        }
      },
      "cell_type": "code",
      "source": [
        "\n",
        "X_test_dtm = vect.transform(X_test)\n",
        "y_pred_class = nb.predict(X_test_dtm)\n",
        "accuracy = accuracy_score(y_test, y_pred_class)\n",
        "accuracy\n",
        "\n"
      ],
      "execution_count": 19,
      "outputs": [
        {
          "output_type": "execute_result",
          "data": {
            "text/plain": [
              "0.489939713639789"
            ]
          },
          "metadata": {
            "tags": []
          },
          "execution_count": 19
        }
      ]
    },
    {
      "metadata": {
        "id": "uVMOr9T8RXdr",
        "colab_type": "code",
        "colab": {
          "base_uri": "https://localhost:8080/",
          "height": 35
        },
        "outputId": "d8789a4b-841c-4af0-b2c2-1df0a64a69c1"
      },
      "cell_type": "code",
      "source": [
        ""
      ],
      "execution_count": 80,
      "outputs": [
        {
          "output_type": "execute_result",
          "data": {
            "text/plain": [
              "0.49339713279204267"
            ]
          },
          "metadata": {
            "tags": []
          },
          "execution_count": 80
        }
      ]
    },
    {
      "metadata": {
        "id": "f7vRLIjhRXdt",
        "colab_type": "code",
        "outputId": "7b3d2433-f75b-4b1b-8a4e-479f0e8b5f1b",
        "colab": {
          "base_uri": "https://localhost:8080/",
          "height": 809
        }
      },
      "cell_type": "code",
      "source": [
        "\n",
        "geners = lyrics_df['genre'].unique()\n",
        "conf_mat = confusion_matrix(y_test, y_pred_class, labels = geners)\n",
        "plt_confusion_matrix(conf_mat, geners)"
      ],
      "execution_count": 23,
      "outputs": [
        {
          "output_type": "display_data",
          "data": {
            "image/png": "[encoded data removed]",
            "text/plain": [
              "<Figure size 1440x1008 with 2 Axes>"
            ]
          },
          "metadata": {
            "tags": []
          }
        }
      ]
    },
    {
      "metadata": {
        "id": "UeYY3BYyRXdu",
        "colab_type": "code",
        "outputId": "45699551-80ba-4823-f4b4-2f01bc13d8f1",
        "colab": {
          "base_uri": "https://localhost:8080/",
          "height": 809
        }
      },
      "cell_type": "code",
      "source": [
        ""
      ],
      "execution_count": 0,
      "outputs": [
        {
          "output_type": "display_data",
          "data": {
            "image/png": "[encoded data removed]",
            "text/plain": [
              "<Figure size 1440x1008 with 2 Axes>"
            ]
          },
          "metadata": {
            "tags": []
          }
        }
      ]
    },
    {
      "metadata": {
        "id": "u3OJnG3-RXdv",
        "colab_type": "text"
      },
      "cell_type": "markdown",
      "source": [
        "Show the classification report - precision, recall, f1 for each class."
      ]
    },
    {
      "metadata": {
        "id": "MCHuOuKBRXdv",
        "colab_type": "code",
        "outputId": "ecbde3e9-f69d-479d-cd52-82d98bf67501",
        "colab": {
          "base_uri": "https://localhost:8080/",
          "height": 347
        }
      },
      "cell_type": "code",
      "source": [
        "print(classification_report(y_test, y_pred_class))\n"
      ],
      "execution_count": 24,
      "outputs": [
        {
          "output_type": "stream",
          "text": [
            "               precision    recall  f1-score   support\n",
            "\n",
            "      Country       0.29      0.57      0.39      2921\n",
            "   Electronic       0.32      0.06      0.11      1643\n",
            "         Folk       0.21      0.15      0.17       412\n",
            "      Hip-Hop       0.65      0.74      0.69      4944\n",
            "        Indie       0.10      0.00      0.01       646\n",
            "         Jazz       0.32      0.15      0.21      1564\n",
            "        Metal       0.48      0.66      0.56      4830\n",
            "Not Available       0.30      0.18      0.22      4657\n",
            "        Other       0.11      0.15      0.12      1002\n",
            "          Pop       0.43      0.16      0.24      8079\n",
            "          R&B       0.29      0.03      0.06       694\n",
            "         Rock       0.56      0.68      0.61     21688\n",
            "\n",
            "    micro avg       0.49      0.49      0.49     53080\n",
            "    macro avg       0.34      0.29      0.28     53080\n",
            " weighted avg       0.47      0.49      0.46     53080\n",
            "\n"
          ],
          "name": "stdout"
        }
      ]
    },
    {
      "metadata": {
        "id": "KuT0hps4RXdx",
        "colab_type": "text"
      },
      "cell_type": "markdown",
      "source": [
        "### Text classification using Word Vectors\n",
        "#### Average word vectors\n",
        "Do the same, using a classifier that averages the word vectors of words in the document."
      ]
    },
    {
      "metadata": {
        "id": "2WPbc8BIRXdx",
        "colab_type": "code",
        "colab": {}
      },
      "cell_type": "code",
      "source": [
        "def avg_sentense(sentense_words):\n",
        "    vectors = []\n",
        "    for word in sentense_words:\n",
        "      if word in wevec_model.wv:\n",
        "        vectors.append(wevec_model.wv[word].reshape(1,-1))\n",
        "\n",
        "    if len(vectors) > 1:\n",
        "        #return np.mean(vectors, axis=0)\n",
        "        return np.concatenate(vectors).mean(axis=0)\n",
        "    elif len(vectors) ==1:\n",
        "        return vectors[0][0]\n",
        "    else:\n",
        "      return None\n",
        "\n",
        "# lyrics_df = lyrics_df[lyrics_df.clean_lyrics.notnull()]\n",
        "# lyrics_df['avg_vector'] = lyrics_df[\"clean_lyrics\"].map(lambda sentense: (avg_sentense(sentense)))\n",
        "\n",
        "\n"
      ],
      "execution_count": 0,
      "outputs": []
    },
    {
      "metadata": {
        "id": "B5-GdId2RXdy",
        "colab_type": "code",
        "colab": {}
      },
      "cell_type": "code",
      "source": [
        "\n",
        "X_train = train['avg_vector'].tolist()\n",
        "X_train = [x.squeeze() for x in X_train]\n",
        "X_train = np.asanyarray(X_train)\n",
        "\n",
        "y_train = train['genre'].tolist()\n",
        "\n",
        "X_test = test['avg_vector'].tolist()\n",
        "X_test = [x.squeeze() for x in X_test]\n",
        "X_test = np.asanyarray(X_test)\n",
        "\n",
        "y_test = test['genre']\n"
      ],
      "execution_count": 0,
      "outputs": []
    },
    {
      "metadata": {
        "id": "kBWyIDskRXd1",
        "colab_type": "code",
        "colab": {}
      },
      "cell_type": "code",
      "source": [
        "\n",
        "\n",
        "\n",
        "\n"
      ],
      "execution_count": 0,
      "outputs": []
    },
    {
      "metadata": {
        "id": "NuFvKc8IRXd2",
        "colab_type": "code",
        "colab": {}
      },
      "cell_type": "code",
      "source": [
        ""
      ],
      "execution_count": 0,
      "outputs": []
    },
    {
      "metadata": {
        "id": "7FgbClY3RXd9",
        "colab_type": "code",
        "colab": {}
      },
      "cell_type": "code",
      "source": [
        "\n",
        "scaler = MinMaxScaler()\n",
        "scaler.fit(X_train)\n",
        "X_scaled = scaler.transform(X_train)\n",
        "X_test1 = scaler.transform(X_test)\n"
      ],
      "execution_count": 0,
      "outputs": []
    },
    {
      "metadata": {
        "id": "2714gf9ERXd-",
        "colab_type": "code",
        "colab": {}
      },
      "cell_type": "code",
      "source": [
        "translator = {}\n",
        "translator2 = {}\n",
        "for index, y in  enumerate(set(y_train)):\n",
        "    translator[index] = y\n",
        "    translator2[y] = index"
      ],
      "execution_count": 0,
      "outputs": []
    },
    {
      "metadata": {
        "id": "LDe4CVX5RXd_",
        "colab_type": "code",
        "colab": {}
      },
      "cell_type": "code",
      "source": [
        "y_train_numbers = [translator2[y] for y in y_train]"
      ],
      "execution_count": 0,
      "outputs": []
    },
    {
      "metadata": {
        "id": "TJ0MkF9bRXeA",
        "colab_type": "code",
        "colab": {
          "base_uri": "https://localhost:8080/",
          "height": 35
        },
        "outputId": "b846f239-0ad7-4e17-dde5-40295b903be0"
      },
      "cell_type": "code",
      "source": [
        "nb = MultinomialNB()\n",
        "nb.fit(X_scaled, y_train_numbers)"
      ],
      "execution_count": 97,
      "outputs": [
        {
          "output_type": "execute_result",
          "data": {
            "text/plain": [
              "MultinomialNB(alpha=1.0, class_prior=None, fit_prior=True)"
            ]
          },
          "metadata": {
            "tags": []
          },
          "execution_count": 97
        }
      ]
    },
    {
      "metadata": {
        "id": "PTx6dg-gRXeD",
        "colab_type": "code",
        "colab": {
          "base_uri": "https://localhost:8080/",
          "height": 35
        },
        "outputId": "da99efed-7f50-43f1-f6cf-7aae00e9610f"
      },
      "cell_type": "code",
      "source": [
        "y_pred_class = nb.predict(X_test1)\n",
        "res = [translator[y1] for y1 in y_pred_class]\n",
        "acc_score = accuracy_score(y_test, res)\n",
        "acc_score"
      ],
      "execution_count": 98,
      "outputs": [
        {
          "output_type": "execute_result",
          "data": {
            "text/plain": [
              "0.4063265383021214"
            ]
          },
          "metadata": {
            "tags": []
          },
          "execution_count": 98
        }
      ]
    },
    {
      "metadata": {
        "id": "vy2GTuIiRXeE",
        "colab_type": "text"
      },
      "cell_type": "markdown",
      "source": [
        "#### TfIdf Weighting\n",
        "Do the same, using a classifier that averages the word vectors of words in the document, weighting each word by its TfIdf.\n"
      ]
    },
    {
      "metadata": {
        "id": "_svSV6f1RXeG",
        "colab_type": "code",
        "colab": {}
      },
      "cell_type": "code",
      "source": [
        ""
      ],
      "execution_count": 0,
      "outputs": []
    },
    {
      "metadata": {
        "id": "EzLU6-qKRXeH",
        "colab_type": "text"
      },
      "cell_type": "markdown",
      "source": [
        "### Text classification using ConvNet\n",
        "Do the same, using a ConvNet.  \n",
        "The ConvNet should get as input a 2D matrix where each column is an embedding vector of a single word, and words are in order. Use zero padding so that all matrices have a similar length.  \n",
        "Some songs might be very long. Trim them so you keep a maximum of 128 words (after cleaning stop words and rare words).  \n",
        "Initialize the embedding layer using the word vectors that you've trained before, but allow them to change during training.  \n",
        "\n",
        "Extra: Try training the ConvNet with 2 slight modifications:\n",
        "1. freezing the the weights trained using Word2vec (preventing it from updating)\n",
        "1. random initialization of the embedding layer"
      ]
    },
    {
      "metadata": {
        "id": "8FjeeWcfRXeH",
        "colab_type": "text"
      },
      "cell_type": "markdown",
      "source": [
        "You are encouraged to try this question on your own.  \n",
        "\n",
        "You might prefer to get ideas from the paper \"Convolutional Neural Networks for Sentence Classification\" (Kim 2014, [link](https://arxiv.org/abs/1408.5882)).\n",
        "\n",
        "There are several implementations of the paper code in PyTorch online (see for example [this repo](https://github.com/prakashpandey9/Text-Classification-Pytorch) for a PyTorch implementation of CNN and other architectures for text classification). If you get stuck, they might provide you with a reference for your own code."
      ]
    },
    {
      "metadata": {
        "id": "rvOBQ3TzRXeI",
        "colab_type": "code",
        "colab": {}
      },
      "cell_type": "code",
      "source": [
        "\n",
        "\n"
      ],
      "execution_count": 0,
      "outputs": []
    },
    {
      "metadata": {
        "id": "vDkI-HqvEP_S",
        "colab_type": "code",
        "colab": {}
      },
      "cell_type": "code",
      "source": [
        "\n",
        "class CNN(nn.Module):\n",
        "    def __init__(self, batch_size, output_size, in_channels, out_channels, kernel_heights, stride, padding, keep_probab,\n",
        "                 vocab_size, embedding_length, weights, requires_grad=False):\n",
        "        super(CNN, self).__init__()\n",
        "\n",
        "\n",
        "        self.batch_size = batch_size\n",
        "        self.output_size = output_size\n",
        "        self.in_channels = in_channels\n",
        "        self.out_channels = out_channels\n",
        "        self.kernel_heights = kernel_heights\n",
        "        self.stride = stride\n",
        "        self.padding = padding\n",
        "        self.vocab_size = vocab_size\n",
        "        self.embedding_length = embedding_length\n",
        "\n",
        "        self.word_embeddings = nn.Embedding(vocab_size, embedding_length)\n",
        "        weights = torch.from_numpy(weights)\n",
        "        self.word_embeddings.weight = nn.Parameter(weights, requires_grad=requires_grad)\n",
        "        #self.word_embeddings.weight.data.copy_(torch.from_numpy(weights))\n",
        "\n",
        "        self.conv1 = nn.Conv2d(in_channels, out_channels, (kernel_heights[0], embedding_length), stride, padding)\n",
        "        self.conv2 = nn.Conv2d(in_channels, out_channels, (kernel_heights[1], embedding_length), stride, padding)\n",
        "        self.conv3 = nn.Conv2d(in_channels, out_channels, (kernel_heights[2], embedding_length), stride, padding)\n",
        "        self.dropout = nn.Dropout(keep_probab)\n",
        "        self.label = nn.Linear(len(kernel_heights) * out_channels, output_size)\n",
        "\n",
        "    def conv_block(self, input, conv_layer):\n",
        "        conv_out = conv_layer(input.float())  # conv_out.size() = (batch_size, out_channels, dim, 1)\n",
        "        activation = F.relu(conv_out.squeeze(3))  # activation.size() = (batch_size, out_channels, dim1)\n",
        "        max_out = F.max_pool1d(activation, activation.size()[2]).squeeze(\n",
        "            2)  # maxpool_out.size() = (batch_size, out_channels)\n",
        "\n",
        "        return max_out\n",
        "\n",
        "    def forward(self, input_sentences, batch_size=None):\n",
        "        input = self.word_embeddings(input_sentences)\n",
        "        #F.pad(input, (1, 19)).shape\n",
        "\n",
        "        # input.size() = (batch_size, num_seq, embedding_length)\n",
        "        input = input.unsqueeze(1)\n",
        "        # input.size() = (batch_size, 1, num_seq, embedding_length)\n",
        "        max_out1 = self.conv_block(input, self.conv1)\n",
        "        max_out2 = self.conv_block(input, self.conv2)\n",
        "        max_out3 = self.conv_block(input, self.conv3)\n",
        "\n",
        "        all_out = torch.cat((max_out1, max_out2, max_out3), 1)\n",
        "        # all_out.size() = (batch_size, num_kernels*out_channels)\n",
        "        fc_in = self.dropout(all_out)\n",
        "        # fc_in.size()) = (batch_size, num_kernels*out_channels)\n",
        "        logits = self.label(fc_in)\n",
        "        return logits"
      ],
      "execution_count": 0,
      "outputs": []
    },
    {
      "metadata": {
        "id": "JPrnqg6T4aTd",
        "colab_type": "code",
        "colab": {}
      },
      "cell_type": "code",
      "source": [
        "geners = lyrics_df['genre'].drop_duplicates().tolist()\n",
        "weights_matrix = wevec_model.wv.vectors\n",
        "vector = np.zeros(shape=(FEATURE_VECTOR_SIZE, ))\n",
        "weights_matrix = np.append(weights_matrix, [vector], axis=0)\n",
        "pading_index = weights_matrix.shape[0] -1\n"
      ],
      "execution_count": 0,
      "outputs": []
    },
    {
      "metadata": {
        "id": "7foWY4w8BeDd",
        "colab_type": "code",
        "colab": {}
      },
      "cell_type": "code",
      "source": [
        "train, validation = train_test_split(lyrics_df, test_size=0.2, random_state=999)\n",
        "\n",
        "geners = lyrics_df['genre'].drop_duplicates().tolist()\n",
        "\n",
        "gene_to_index = {gene : index for index, gene in enumerate(geners)}\n",
        "index_to_gene = {index : gene  for index, gene in enumerate(geners)}\n"
      ],
      "execution_count": 0,
      "outputs": []
    },
    {
      "metadata": {
        "id": "qzoBnrtp4o2_",
        "colab_type": "code",
        "colab": {}
      },
      "cell_type": "code",
      "source": [
        "def clip_gradient(model, clip_value):\n",
        "    params = list(filter(lambda p: p.grad is not None, model.parameters()))\n",
        "    for p in params:\n",
        "        p.grad.data.clamp_(-clip_value, clip_value)\n",
        "\n",
        "class DatasetLoader(Dataset):\n",
        "\n",
        "    def __init__(self, df, gene_to_index, w2vec, pading_index):\n",
        "        self._df = df\n",
        "        self.gene_to_index = gene_to_index\n",
        "        self.w2vec = w2vec\n",
        "        self.pading_index = pading_index\n",
        "\n",
        "    def __len__(self):\n",
        "        return len(self._df)\n",
        "\n",
        "    def __getitem__(self, idx):\n",
        "        current_element = self._df.iloc[idx]\n",
        "        words = current_element['clean_lyrics']\n",
        "        words = [word if word  in self.w2vec.wv.vocab else UNKOWN_WORDS for word in words]\n",
        "        genre = current_element['genre']\n",
        "        if len(words) > MAX_WORDS_TO_TAKE:\n",
        "            words = words[0:MAX_WORDS_TO_TAKE]\n",
        "\n",
        "        indexes = [self.w2vec.wv.vocab[word].index for word in words]\n",
        "        if len(indexes) < MAX_WORDS_TO_TAKE:\n",
        "            missing = MAX_WORDS_TO_TAKE - len(indexes)\n",
        "            x1 = np.repeat(self.pading_index, repeats=missing)\n",
        "            indexes = np.concatenate([indexes, x1])\n",
        "\n",
        "        return np.array(indexes), self.gene_to_index[genre]\n",
        "                "
      ],
      "execution_count": 0,
      "outputs": []
    },
    {
      "metadata": {
        "id": "1kpTglxojGP-",
        "colab_type": "code",
        "outputId": "ec85d671-af10-4d84-a816-c837e7e24d21",
        "colab": {
          "base_uri": "https://localhost:8080/",
          "height": 35
        }
      },
      "cell_type": "code",
      "source": [
        "train.shape "
      ],
      "execution_count": 103,
      "outputs": [
        {
          "output_type": "execute_result",
          "data": {
            "text/plain": [
              "(212308, 5)"
            ]
          },
          "metadata": {
            "tags": []
          },
          "execution_count": 103
        }
      ]
    },
    {
      "metadata": {
        "id": "fYV5caDUUHmw",
        "colab_type": "code",
        "colab": {}
      },
      "cell_type": "code",
      "source": [
        "train_dataset_loader  = DatasetLoader(train, gene_to_index, wevec_model, pading_index)\n",
        "\n",
        "train_data_loader = torch.utils.data.DataLoader(train_dataset_loader,\n",
        "                                             batch_size=BATCH_SIZE, shuffle=True, num_workers=4)\n",
        "\n",
        "validation_dataset_loader  = DatasetLoader(validation, gene_to_index, wevec_model, pading_index)\n",
        "\n",
        "validation_data_loader = torch.utils.data.DataLoader(validation_dataset_loader,\n",
        "                                             batch_size=BATCH_SIZE, shuffle=True, num_workers=4)\n",
        "\n"
      ],
      "execution_count": 0,
      "outputs": []
    },
    {
      "metadata": {
        "id": "64WttrCjXnO9",
        "colab_type": "code",
        "outputId": "5e08618a-bf0a-464c-b6f6-ed5ba266b471",
        "colab": {
          "base_uri": "https://localhost:8080/",
          "height": 35
        }
      },
      "cell_type": "code",
      "source": [
        "use_cuda"
      ],
      "execution_count": 105,
      "outputs": [
        {
          "output_type": "execute_result",
          "data": {
            "text/plain": [
              "True"
            ]
          },
          "metadata": {
            "tags": []
          },
          "execution_count": 105
        }
      ]
    },
    {
      "metadata": {
        "id": "6xj7Jx1a42wr",
        "colab_type": "code",
        "colab": {}
      },
      "cell_type": "code",
      "source": [
        "def train_model(model, train_iter, epoch, loss_fn, cm):\n",
        "  total_epoch_loss = 0\n",
        "  total_epoch_acc = 0\n",
        "#   if use_cuda:\n",
        "#     model.cuda()\n",
        "\n",
        "  optim = torch.optim.Adam(filter(lambda p: p.requires_grad, model.parameters()))\n",
        "  steps = 0\n",
        "  model.train()\n",
        "  for idx, (sentenses, labels) in enumerate(train_iter):\n",
        "    sentenses = Variable(sentenses)\n",
        "    labels = Variable(labels)\n",
        "\n",
        "    if torch.cuda.is_available():\n",
        "      sentenses = sentenses.long().cuda()\n",
        "      labels = labels.cuda()\n",
        "\n",
        "    optim.zero_grad()\n",
        "    prediction = model(sentenses)\n",
        "    loss = loss_fn(prediction, labels)\n",
        "    model_predictions = torch.max(prediction, 1)[1]\n",
        "    num_corrects = (model_predictions == labels).float().sum()\n",
        "    acc = 100.0 * num_corrects / len(sentenses)\n",
        "    loss.backward()\n",
        "    clip_gradient(model, 1e-1)\n",
        "    optim.step()\n",
        "    steps += 1\n",
        "    cm.add(model_predictions, labels)\n",
        "        \n",
        "    if steps % 100 == 0:\n",
        "      print('Epoch: {0}, Idx: {1}, Training Loss: {2}, Training Accuracy: {3}%'.format(epoch, idx, loss.item(),acc.item()))\n",
        "\n",
        "    total_epoch_loss += loss.item()\n",
        "    total_epoch_acc += acc.item()\n",
        "\n",
        "  return round(total_epoch_loss / len(train_iter), 4), round(total_epoch_acc / len(train_iter), 4)\n",
        "\n",
        "  \n",
        "def eval_model(model, val_iter, cm):\n",
        "    total_epoch_loss = 0\n",
        "    total_epoch_acc = 0\n",
        "    model.eval()\n",
        "    with torch.no_grad():\n",
        "        for idx, (sentenses, labels) in enumerate(val_iter):\n",
        "            \n",
        "            if use_cuda:\n",
        "              sentenses = sentenses.cuda()\n",
        "              labels = labels.cuda()\n",
        "              \n",
        "            sentenses = Variable(sentenses)\n",
        "            labels = Variable(labels)\n",
        "       \n",
        "            prediction = model(sentenses)\n",
        "            loss = loss_fn(prediction, labels)\n",
        "            model_predictions = torch.max(prediction, 1)[1]\n",
        "            num_corrects = (model_predictions == labels).float().sum()\n",
        "            \n",
        "            confusion_matrix.add(model_predictions, labels)\n",
        "            acc = 100.0 * num_corrects/len(sentenses)\n",
        "            total_epoch_loss += loss.item()\n",
        "            total_epoch_acc += acc.item()\n",
        "\n",
        "    return round(total_epoch_loss/len(val_iter), 4), round(total_epoch_acc/len(val_iter),4)\n",
        "  "
      ],
      "execution_count": 0,
      "outputs": []
    },
    {
      "metadata": {
        "id": "QpMKWVsVYjej",
        "colab_type": "code",
        "colab": {}
      },
      "cell_type": "code",
      "source": [
        "num_classes = len(geners)\n",
        "cnn = CNN(BATCH_SIZE, num_classes, 1, 10, [3,5,7], 1, 0, 0.5,len(wevec_model.wv.vocab) + 1, 300, weights_matrix)\n",
        "\n",
        "if use_cuda:\n",
        "  cnn = cnn.cuda()"
      ],
      "execution_count": 0,
      "outputs": []
    },
    {
      "metadata": {
        "id": "1bfMebMBcy3n",
        "colab_type": "code",
        "colab": {}
      },
      "cell_type": "code",
      "source": [
        "def plt_confusion_matrix(cm, class_names, normalize =False):\n",
        "  \n",
        "  if normalize:\n",
        "        cm = cm.astype('float') / cm.sum(axis=1)[:, np.newaxis]\n",
        "      \n",
        "  \n",
        "  df_cm = pd.DataFrame(cm, index = [i for i in class_names],\n",
        "                    columns = class_names)\n",
        "  \n",
        "  plt.figure(figsize = (10,7))\n",
        "  sn.heatmap(df_cm, annot=True)"
      ],
      "execution_count": 0,
      "outputs": []
    },
    {
      "metadata": {
        "id": "I938XidjBPr0",
        "colab_type": "code",
        "outputId": "1cce7834-abe6-4ea1-ae84-9a05f7317495",
        "colab": {
          "base_uri": "https://localhost:8080/",
          "height": 1085
        }
      },
      "cell_type": "code",
      "source": [
        "from torchnet.meter import ConfusionMeter\n",
        "\n",
        "loss_fn = F.cross_entropy\n",
        "liveloss = PlotLosses()\n",
        "validation_confusion_matrix = ConfusionMeter(num_classes)\n",
        "train_confusion_matrix = ConfusionMeter(num_classes)\n",
        "\n",
        "criterion = nn.CrossEntropyLoss()\n",
        "if use_cuda:\n",
        "  criterion = criterion.cuda()\n",
        "\n",
        "for epoch in range(100):\n",
        "    loss, acc = train_model(cnn, train_data_loader, epoch, loss_fn, train_confusion_matrix)\n",
        "    val_loss, val_acc = eval_model(cnn, validation_data_loader, validation_confusion_matrix)\n",
        "    \n",
        "    \n",
        "    liveloss.update({\n",
        "          'log loss': loss,\n",
        "          'val_log loss': val_loss,\n",
        "          'accuracy': acc,\n",
        "          'val_accuracy': val_acc\n",
        "      })\n",
        "    \n",
        "    liveloss.draw()\n",
        "\n",
        "test_loss, test_acc = eval_model(cnn, test_iter)\n",
        "\n"
      ],
      "execution_count": 109,
      "outputs": [
        {
          "output_type": "error",
          "ename": "RuntimeError",
          "evalue": "ignored",
          "traceback": [
            "\u001b[0;31m---------------------------------------------------------------------------\u001b[0m",
            "\u001b[0;31mRuntimeError\u001b[0m                              Traceback (most recent call last)",
            "\u001b[0;32m<ipython-input-109-ffb5882e7dc9>\u001b[0m in \u001b[0;36m<module>\u001b[0;34m()\u001b[0m\n\u001b[1;32m     11\u001b[0m \u001b[0;34m\u001b[0m\u001b[0m\n\u001b[1;32m     12\u001b[0m \u001b[0;32mfor\u001b[0m \u001b[0mepoch\u001b[0m \u001b[0;32min\u001b[0m \u001b[0mrange\u001b[0m\u001b[0;34m(\u001b[0m\u001b[0;36m10\u001b[0m\u001b[0;34m)\u001b[0m\u001b[0;34m:\u001b[0m\u001b[0;34m\u001b[0m\u001b[0;34m\u001b[0m\u001b[0m\n\u001b[0;32m---> 13\u001b[0;31m     \u001b[0mloss\u001b[0m\u001b[0;34m,\u001b[0m \u001b[0macc\u001b[0m \u001b[0;34m=\u001b[0m \u001b[0mtrain_model\u001b[0m\u001b[0;34m(\u001b[0m\u001b[0mcnn\u001b[0m\u001b[0;34m,\u001b[0m \u001b[0mtrain_data_loader\u001b[0m\u001b[0;34m,\u001b[0m \u001b[0mepoch\u001b[0m\u001b[0;34m,\u001b[0m \u001b[0mloss_fn\u001b[0m\u001b[0;34m,\u001b[0m \u001b[0mtrain_confusion_matrix\u001b[0m\u001b[0;34m)\u001b[0m\u001b[0;34m\u001b[0m\u001b[0;34m\u001b[0m\u001b[0m\n\u001b[0m\u001b[1;32m     14\u001b[0m     \u001b[0mval_loss\u001b[0m\u001b[0;34m,\u001b[0m \u001b[0mval_acc\u001b[0m \u001b[0;34m=\u001b[0m \u001b[0meval_model\u001b[0m\u001b[0;34m(\u001b[0m\u001b[0mcnn\u001b[0m\u001b[0;34m,\u001b[0m \u001b[0mvalidation_data_loader\u001b[0m\u001b[0;34m,\u001b[0m \u001b[0mvalidation_confusion_matrix\u001b[0m\u001b[0;34m)\u001b[0m\u001b[0;34m\u001b[0m\u001b[0;34m\u001b[0m\u001b[0m\n\u001b[1;32m     15\u001b[0m \u001b[0;34m\u001b[0m\u001b[0m\n",
            "\u001b[0;32m<ipython-input-106-497330c28b34>\u001b[0m in \u001b[0;36mtrain_model\u001b[0;34m(model, train_iter, epoch, loss_fn, cm)\u001b[0m\n\u001b[1;32m     17\u001b[0m \u001b[0;34m\u001b[0m\u001b[0m\n\u001b[1;32m     18\u001b[0m     \u001b[0moptim\u001b[0m\u001b[0;34m.\u001b[0m\u001b[0mzero_grad\u001b[0m\u001b[0;34m(\u001b[0m\u001b[0;34m)\u001b[0m\u001b[0;34m\u001b[0m\u001b[0;34m\u001b[0m\u001b[0m\n\u001b[0;32m---> 19\u001b[0;31m     \u001b[0mprediction\u001b[0m \u001b[0;34m=\u001b[0m \u001b[0mmodel\u001b[0m\u001b[0;34m(\u001b[0m\u001b[0msentenses\u001b[0m\u001b[0;34m)\u001b[0m\u001b[0;34m\u001b[0m\u001b[0;34m\u001b[0m\u001b[0m\n\u001b[0m\u001b[1;32m     20\u001b[0m     \u001b[0mloss\u001b[0m \u001b[0;34m=\u001b[0m \u001b[0mloss_fn\u001b[0m\u001b[0;34m(\u001b[0m\u001b[0mprediction\u001b[0m\u001b[0;34m,\u001b[0m \u001b[0mlabels\u001b[0m\u001b[0;34m)\u001b[0m\u001b[0;34m\u001b[0m\u001b[0;34m\u001b[0m\u001b[0m\n\u001b[1;32m     21\u001b[0m     \u001b[0mmodel_predictions\u001b[0m \u001b[0;34m=\u001b[0m \u001b[0mtorch\u001b[0m\u001b[0;34m.\u001b[0m\u001b[0mmax\u001b[0m\u001b[0;34m(\u001b[0m\u001b[0mprediction\u001b[0m\u001b[0;34m,\u001b[0m \u001b[0;36m1\u001b[0m\u001b[0;34m)\u001b[0m\u001b[0;34m[\u001b[0m\u001b[0;36m1\u001b[0m\u001b[0;34m]\u001b[0m\u001b[0;34m\u001b[0m\u001b[0;34m\u001b[0m\u001b[0m\n",
            "\u001b[0;32m/usr/local/lib/python3.6/dist-packages/torch/nn/modules/module.py\u001b[0m in \u001b[0;36m__call__\u001b[0;34m(self, *input, **kwargs)\u001b[0m\n\u001b[1;32m    487\u001b[0m             \u001b[0mresult\u001b[0m \u001b[0;34m=\u001b[0m \u001b[0mself\u001b[0m\u001b[0;34m.\u001b[0m\u001b[0m_slow_forward\u001b[0m\u001b[0;34m(\u001b[0m\u001b[0;34m*\u001b[0m\u001b[0minput\u001b[0m\u001b[0;34m,\u001b[0m \u001b[0;34m**\u001b[0m\u001b[0mkwargs\u001b[0m\u001b[0;34m)\u001b[0m\u001b[0;34m\u001b[0m\u001b[0;34m\u001b[0m\u001b[0m\n\u001b[1;32m    488\u001b[0m         \u001b[0;32melse\u001b[0m\u001b[0;34m:\u001b[0m\u001b[0;34m\u001b[0m\u001b[0;34m\u001b[0m\u001b[0m\n\u001b[0;32m--> 489\u001b[0;31m             \u001b[0mresult\u001b[0m \u001b[0;34m=\u001b[0m \u001b[0mself\u001b[0m\u001b[0;34m.\u001b[0m\u001b[0mforward\u001b[0m\u001b[0;34m(\u001b[0m\u001b[0;34m*\u001b[0m\u001b[0minput\u001b[0m\u001b[0;34m,\u001b[0m \u001b[0;34m**\u001b[0m\u001b[0mkwargs\u001b[0m\u001b[0;34m)\u001b[0m\u001b[0;34m\u001b[0m\u001b[0;34m\u001b[0m\u001b[0m\n\u001b[0m\u001b[1;32m    490\u001b[0m         \u001b[0;32mfor\u001b[0m \u001b[0mhook\u001b[0m \u001b[0;32min\u001b[0m \u001b[0mself\u001b[0m\u001b[0;34m.\u001b[0m\u001b[0m_forward_hooks\u001b[0m\u001b[0;34m.\u001b[0m\u001b[0mvalues\u001b[0m\u001b[0;34m(\u001b[0m\u001b[0;34m)\u001b[0m\u001b[0;34m:\u001b[0m\u001b[0;34m\u001b[0m\u001b[0;34m\u001b[0m\u001b[0m\n\u001b[1;32m    491\u001b[0m             \u001b[0mhook_result\u001b[0m \u001b[0;34m=\u001b[0m \u001b[0mhook\u001b[0m\u001b[0;34m(\u001b[0m\u001b[0mself\u001b[0m\u001b[0;34m,\u001b[0m \u001b[0minput\u001b[0m\u001b[0;34m,\u001b[0m \u001b[0mresult\u001b[0m\u001b[0;34m)\u001b[0m\u001b[0;34m\u001b[0m\u001b[0;34m\u001b[0m\u001b[0m\n",
            "\u001b[0;32m<ipython-input-99-0243f304609d>\u001b[0m in \u001b[0;36mforward\u001b[0;34m(self, input_sentences, batch_size)\u001b[0m\n\u001b[1;32m     42\u001b[0m         \u001b[0minput\u001b[0m \u001b[0;34m=\u001b[0m \u001b[0minput\u001b[0m\u001b[0;34m.\u001b[0m\u001b[0munsqueeze\u001b[0m\u001b[0;34m(\u001b[0m\u001b[0;36m1\u001b[0m\u001b[0;34m)\u001b[0m\u001b[0;34m\u001b[0m\u001b[0;34m\u001b[0m\u001b[0m\n\u001b[1;32m     43\u001b[0m         \u001b[0;31m# input.size() = (batch_size, 1, num_seq, embedding_length)\u001b[0m\u001b[0;34m\u001b[0m\u001b[0;34m\u001b[0m\u001b[0;34m\u001b[0m\u001b[0m\n\u001b[0;32m---> 44\u001b[0;31m         \u001b[0mmax_out1\u001b[0m \u001b[0;34m=\u001b[0m \u001b[0mself\u001b[0m\u001b[0;34m.\u001b[0m\u001b[0mconv_block\u001b[0m\u001b[0;34m(\u001b[0m\u001b[0minput\u001b[0m\u001b[0;34m,\u001b[0m \u001b[0mself\u001b[0m\u001b[0;34m.\u001b[0m\u001b[0mconv1\u001b[0m\u001b[0;34m)\u001b[0m\u001b[0;34m\u001b[0m\u001b[0;34m\u001b[0m\u001b[0m\n\u001b[0m\u001b[1;32m     45\u001b[0m         \u001b[0mmax_out2\u001b[0m \u001b[0;34m=\u001b[0m \u001b[0mself\u001b[0m\u001b[0;34m.\u001b[0m\u001b[0mconv_block\u001b[0m\u001b[0;34m(\u001b[0m\u001b[0minput\u001b[0m\u001b[0;34m,\u001b[0m \u001b[0mself\u001b[0m\u001b[0;34m.\u001b[0m\u001b[0mconv2\u001b[0m\u001b[0;34m)\u001b[0m\u001b[0;34m\u001b[0m\u001b[0;34m\u001b[0m\u001b[0m\n\u001b[1;32m     46\u001b[0m         \u001b[0mmax_out3\u001b[0m \u001b[0;34m=\u001b[0m \u001b[0mself\u001b[0m\u001b[0;34m.\u001b[0m\u001b[0mconv_block\u001b[0m\u001b[0;34m(\u001b[0m\u001b[0minput\u001b[0m\u001b[0;34m,\u001b[0m \u001b[0mself\u001b[0m\u001b[0;34m.\u001b[0m\u001b[0mconv3\u001b[0m\u001b[0;34m)\u001b[0m\u001b[0;34m\u001b[0m\u001b[0;34m\u001b[0m\u001b[0m\n",
            "\u001b[0;32m<ipython-input-99-0243f304609d>\u001b[0m in \u001b[0;36mconv_block\u001b[0;34m(self, input, conv_layer)\u001b[0m\n\u001b[1;32m     28\u001b[0m \u001b[0;34m\u001b[0m\u001b[0m\n\u001b[1;32m     29\u001b[0m     \u001b[0;32mdef\u001b[0m \u001b[0mconv_block\u001b[0m\u001b[0;34m(\u001b[0m\u001b[0mself\u001b[0m\u001b[0;34m,\u001b[0m \u001b[0minput\u001b[0m\u001b[0;34m,\u001b[0m \u001b[0mconv_layer\u001b[0m\u001b[0;34m)\u001b[0m\u001b[0;34m:\u001b[0m\u001b[0;34m\u001b[0m\u001b[0;34m\u001b[0m\u001b[0m\n\u001b[0;32m---> 30\u001b[0;31m         \u001b[0mconv_out\u001b[0m \u001b[0;34m=\u001b[0m \u001b[0mconv_layer\u001b[0m\u001b[0;34m(\u001b[0m\u001b[0minput\u001b[0m\u001b[0;34m.\u001b[0m\u001b[0mfloat\u001b[0m\u001b[0;34m(\u001b[0m\u001b[0;34m)\u001b[0m\u001b[0;34m)\u001b[0m  \u001b[0;31m# conv_out.size() = (batch_size, out_channels, dim, 1)\u001b[0m\u001b[0;34m\u001b[0m\u001b[0;34m\u001b[0m\u001b[0m\n\u001b[0m\u001b[1;32m     31\u001b[0m         \u001b[0mactivation\u001b[0m \u001b[0;34m=\u001b[0m \u001b[0mF\u001b[0m\u001b[0;34m.\u001b[0m\u001b[0mrelu\u001b[0m\u001b[0;34m(\u001b[0m\u001b[0mconv_out\u001b[0m\u001b[0;34m.\u001b[0m\u001b[0msqueeze\u001b[0m\u001b[0;34m(\u001b[0m\u001b[0;36m3\u001b[0m\u001b[0;34m)\u001b[0m\u001b[0;34m)\u001b[0m  \u001b[0;31m# activation.size() = (batch_size, out_channels, dim1)\u001b[0m\u001b[0;34m\u001b[0m\u001b[0;34m\u001b[0m\u001b[0m\n\u001b[1;32m     32\u001b[0m         max_out = F.max_pool1d(activation, activation.size()[2]).squeeze(\n",
            "\u001b[0;32m/usr/local/lib/python3.6/dist-packages/torch/nn/modules/module.py\u001b[0m in \u001b[0;36m__call__\u001b[0;34m(self, *input, **kwargs)\u001b[0m\n\u001b[1;32m    487\u001b[0m             \u001b[0mresult\u001b[0m \u001b[0;34m=\u001b[0m \u001b[0mself\u001b[0m\u001b[0;34m.\u001b[0m\u001b[0m_slow_forward\u001b[0m\u001b[0;34m(\u001b[0m\u001b[0;34m*\u001b[0m\u001b[0minput\u001b[0m\u001b[0;34m,\u001b[0m \u001b[0;34m**\u001b[0m\u001b[0mkwargs\u001b[0m\u001b[0;34m)\u001b[0m\u001b[0;34m\u001b[0m\u001b[0;34m\u001b[0m\u001b[0m\n\u001b[1;32m    488\u001b[0m         \u001b[0;32melse\u001b[0m\u001b[0;34m:\u001b[0m\u001b[0;34m\u001b[0m\u001b[0;34m\u001b[0m\u001b[0m\n\u001b[0;32m--> 489\u001b[0;31m             \u001b[0mresult\u001b[0m \u001b[0;34m=\u001b[0m \u001b[0mself\u001b[0m\u001b[0;34m.\u001b[0m\u001b[0mforward\u001b[0m\u001b[0;34m(\u001b[0m\u001b[0;34m*\u001b[0m\u001b[0minput\u001b[0m\u001b[0;34m,\u001b[0m \u001b[0;34m**\u001b[0m\u001b[0mkwargs\u001b[0m\u001b[0;34m)\u001b[0m\u001b[0;34m\u001b[0m\u001b[0;34m\u001b[0m\u001b[0m\n\u001b[0m\u001b[1;32m    490\u001b[0m         \u001b[0;32mfor\u001b[0m \u001b[0mhook\u001b[0m \u001b[0;32min\u001b[0m \u001b[0mself\u001b[0m\u001b[0;34m.\u001b[0m\u001b[0m_forward_hooks\u001b[0m\u001b[0;34m.\u001b[0m\u001b[0mvalues\u001b[0m\u001b[0;34m(\u001b[0m\u001b[0;34m)\u001b[0m\u001b[0;34m:\u001b[0m\u001b[0;34m\u001b[0m\u001b[0;34m\u001b[0m\u001b[0m\n\u001b[1;32m    491\u001b[0m             \u001b[0mhook_result\u001b[0m \u001b[0;34m=\u001b[0m \u001b[0mhook\u001b[0m\u001b[0;34m(\u001b[0m\u001b[0mself\u001b[0m\u001b[0;34m,\u001b[0m \u001b[0minput\u001b[0m\u001b[0;34m,\u001b[0m \u001b[0mresult\u001b[0m\u001b[0;34m)\u001b[0m\u001b[0;34m\u001b[0m\u001b[0;34m\u001b[0m\u001b[0m\n",
            "\u001b[0;32m/usr/local/lib/python3.6/dist-packages/torch/nn/modules/conv.py\u001b[0m in \u001b[0;36mforward\u001b[0;34m(self, input)\u001b[0m\n\u001b[1;32m    318\u001b[0m     \u001b[0;32mdef\u001b[0m \u001b[0mforward\u001b[0m\u001b[0;34m(\u001b[0m\u001b[0mself\u001b[0m\u001b[0;34m,\u001b[0m \u001b[0minput\u001b[0m\u001b[0;34m)\u001b[0m\u001b[0;34m:\u001b[0m\u001b[0;34m\u001b[0m\u001b[0;34m\u001b[0m\u001b[0m\n\u001b[1;32m    319\u001b[0m         return F.conv2d(input, self.weight, self.bias, self.stride,\n\u001b[0;32m--> 320\u001b[0;31m                         self.padding, self.dilation, self.groups)\n\u001b[0m\u001b[1;32m    321\u001b[0m \u001b[0;34m\u001b[0m\u001b[0m\n\u001b[1;32m    322\u001b[0m \u001b[0;34m\u001b[0m\u001b[0m\n",
            "\u001b[0;32m/usr/local/lib/python3.6/dist-packages/torch/utils/data/dataloader.py\u001b[0m in \u001b[0;36mhandler\u001b[0;34m(signum, frame)\u001b[0m\n\u001b[1;32m    272\u001b[0m         \u001b[0;31m# This following call uses `waitid` with WNOHANG from C side. Therefore,\u001b[0m\u001b[0;34m\u001b[0m\u001b[0;34m\u001b[0m\u001b[0;34m\u001b[0m\u001b[0m\n\u001b[1;32m    273\u001b[0m         \u001b[0;31m# Python can still get and update the process status successfully.\u001b[0m\u001b[0;34m\u001b[0m\u001b[0;34m\u001b[0m\u001b[0;34m\u001b[0m\u001b[0m\n\u001b[0;32m--> 274\u001b[0;31m         \u001b[0m_error_if_any_worker_fails\u001b[0m\u001b[0;34m(\u001b[0m\u001b[0;34m)\u001b[0m\u001b[0;34m\u001b[0m\u001b[0;34m\u001b[0m\u001b[0m\n\u001b[0m\u001b[1;32m    275\u001b[0m         \u001b[0;32mif\u001b[0m \u001b[0mprevious_handler\u001b[0m \u001b[0;32mis\u001b[0m \u001b[0;32mnot\u001b[0m \u001b[0;32mNone\u001b[0m\u001b[0;34m:\u001b[0m\u001b[0;34m\u001b[0m\u001b[0;34m\u001b[0m\u001b[0m\n\u001b[1;32m    276\u001b[0m             \u001b[0mprevious_handler\u001b[0m\u001b[0;34m(\u001b[0m\u001b[0msignum\u001b[0m\u001b[0;34m,\u001b[0m \u001b[0mframe\u001b[0m\u001b[0;34m)\u001b[0m\u001b[0;34m\u001b[0m\u001b[0;34m\u001b[0m\u001b[0m\n",
            "\u001b[0;31mRuntimeError\u001b[0m: DataLoader worker (pid 585) is killed by signal: Killed. "
          ]
        }
      ]
    },
    {
      "metadata": {
        "id": "W6vp8EyQCGZs",
        "colab_type": "code",
        "colab": {}
      },
      "cell_type": "code",
      "source": [
        ""
      ],
      "execution_count": 0,
      "outputs": []
    },
    {
      "metadata": {
        "id": "5BWyW5bfBTSP",
        "colab_type": "code",
        "colab": {}
      },
      "cell_type": "code",
      "source": [
        ""
      ],
      "execution_count": 0,
      "outputs": []
    },
    {
      "metadata": {
        "id": "dmW53C5kCKpf",
        "colab_type": "code",
        "colab": {}
      },
      "cell_type": "code",
      "source": [
        ""
      ],
      "execution_count": 0,
      "outputs": []
    }
  ]
}