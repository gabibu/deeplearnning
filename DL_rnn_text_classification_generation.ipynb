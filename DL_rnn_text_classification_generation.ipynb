{
 "cells": [
  {
   "cell_type": "markdown",
   "metadata": {
    "colab_type": "text",
    "id": "_WcJc-zfdpsN"
   },
   "source": [
    "# RNN for text classification and text generation\n",
    "### Dr. Omri Allouche 2018. YData Deep Learning Course\n",
    "\n",
    "[Open in Google Colab](https://colab.research.google.com/github/omriallouche/deep_learning_course/blob/master/DL_rnn_text_classification_generation.ipynb)"
   ]
  },
  {
   "cell_type": "markdown",
   "metadata": {
    "colab_type": "text",
    "id": "tjyXPUj1dpsT"
   },
   "source": [
    "In the first part of this exercise, we’ll continue our attempts to classify text using different network architectures. This time, we’ll try a LSTM. We'll use the Metrolyrics dataset we used in the previous exercise.  \n",
    "\n",
    "You are encouraged to review the code in [this](https://github.com/prakashpandey9/Text-Classification-Pytorch) repo, that contains implementation of several deep learning architectures for text classification in PyTorch. If you face time limitations, you're welcome to adapt it to your needs instead of writing your own code from scratch.\n",
    "\n",
    "In the second part of this exercise, you'll unleash the hidden creativity of your computer, by letting it generate Country songs (yeehaw!). You'll train a character-level RNN-based language model, and use it to generate new songs.\n",
    "\n",
    "\n",
    "### Special Note\n",
    "Our Deep Learning course was packed with both theory and practice. In a short time, you've got to learn the basics of deep learning theory and get hands-on experience training and using pretrained DL networks, while learning PyTorch.  \n",
    "Past exercises required a lot of work, and hopefully gave you a sense of the challenges and difficulties one faces when using deep learning in the real world. While the investment you've made in the course so far is enormous, I strongly encourage you to take a stab at this exercise. \n",
    "\n",
    "DL networks for NLP are much shallower than those for image classification. It's possible to construct your own networks from scratch, and achieve nice results. While I hope the theoretical foundations of RNNs are clear after our class sessions, getting your hands dirty with their implementation in PyTorch allows you to set breakpoints, watch the dimensions of the different layers and components and get a much better understand of theory, in addition to code that might prove useful later for your own projects. \n",
    "\n",
    "I tried to provide references for all parts that walk you through a very similar task (actually, the same task on a different dataset). I expect this exercise to require much less of your time than previous exercises.\n",
    "\n",
    "The exercise is aimed to help you get better understanding of the concepts. I am not looking for the optimal model performance, and don't look for extensive optimization of hyperparameters. The task we face in this exercise, namely the classification of the song’s genre from its text alone, is quite challenging, and we probably shouldn’t expect great results from our classifier. Don’t let this discourage you - not every task reaches an f1 score of 90%+. \n",
    "\n",
    "In fact, some of the reasons I chose this dataset is because it highlights some of the issues we face in machine learning models in the real world. Examples include:\n",
    "- The classes are highly imbalanced - try to think how this affects the network learning\n",
    "- Given the small amount of data for some classes, you might actually prefer to remove them from the dataset. How would you decide that?\n",
    "- NLP tasks often involve preprocessing (lowercasing, tokenization, lemmatization, stopwords removal etc.). The decision on the actual preprocessing pipeline depends on the task, and is often influenced by our believes about the data and exploratory analysis of it. Thinking conciously about these questions helps you be a better data scientist\n",
    "- Some songs contain no lyrics (for example, they just contain the text \"instrumental\"). Others include non-English characters. You'll often need to preprocess your data and make decisions as to what your network should actually get as input (think - how should you treat newline characters?)\n",
    "- While model performance on this dataset are not amazing, we can try to answer interesting follow-up questions - which genres are more similar to each other and are often confused? Do genres become more similar through the years? ...\n",
    "\n",
    "More issues will probably pop up while you're working on this task. If you face technical difficulties or find a step in the process that takes too long, please let me know. It would also be great if you share with the class code you wrote that speeds up some of the work (for example, a data loader class, a parsed dataset etc.)"
   ]
  },
  {
   "cell_type": "markdown",
   "metadata": {
    "colab_type": "text",
    "id": "ApfTsazfdpsX"
   },
   "source": [
    "## RNN for Text Classification\n",
    "In this section you'll write a text classifier using LSTM, to determine the genre of a song based on its lyrics.  \n",
    "The code needed for this section should be very similar to code you've written for the previous exercise, and use the same dataset.  "
   ]
  },
  {
   "cell_type": "code",
   "execution_count": 1,
   "metadata": {
    "colab": {
     "base_uri": "https://localhost:8080/",
     "height": 374
    },
    "colab_type": "code",
    "id": "foxy3VLSdpsa",
    "outputId": "d55a6be6-4e27-4f9e-bd1a-0366f0fb0e43"
   },
   "outputs": [],
   "source": [
    "import numpy as np \n",
    "import torch\n",
    "import torch.utils.data as utils_data\n",
    "from torch.autograd import Variable\n",
    "import numpy as np\n",
    "from torch import nn, optim\n",
    "import matplotlib.pyplot as plt\n",
    "import pandas  as pd\n",
    "import nltk\n",
    "import seaborn as sns\n",
    "import nltk\n",
    "from nltk.tokenize import RegexpTokenizer\n",
    "from nltk.corpus import stopwords\n",
    "from nltk.tokenize import RegexpTokenizer\n",
    "from nltk.tokenize import word_tokenize\n",
    "import string \n",
    "from livelossplot import PlotLosses\n",
    "from gensim.models import Word2Vec\n",
    "import numpy as np \n",
    "from sklearn.model_selection import train_test_split\n",
    "# from xgboost import XGBClassifier,XGBRegressor\n",
    "from sklearn.metrics import accuracy_score\n",
    "from sklearn.ensemble import RandomForestRegressor\n",
    "import torch\n",
    "import nltk\n",
    "import seaborn as sns\n",
    "from sklearn.decomposition import PCA\n",
    "import matplotlib.pyplot as plt\n",
    "from sklearn.manifold import TSNE\n",
    "from sklearn.feature_extraction.text import CountVectorizer\n",
    "from sklearn.naive_bayes import MultinomialNB\n",
    "from sklearn.metrics import confusion_matrix\n",
    "from sklearn.metrics import classification_report\n",
    "from sklearn import preprocessing\n",
    "from sklearn.preprocessing import MinMaxScaler\n",
    "import torch\n",
    "import torch.nn as nn\n",
    "from torch.autograd import Variable\n",
    "from torch.nn import functional as F\n",
    "import numpy as np\n",
    "import pandas as pd\n",
    "from torch.utils.data import Dataset,DataLoader\n",
    "import nltk\n",
    "from nltk.tokenize import RegexpTokenizer\n",
    "import string \n",
    "from nltk.tokenize import word_tokenize\n",
    "from nltk.corpus import stopwords\n",
    "from gensim.models import Word2Vec\n",
    "import unidecode"
   ]
  },
  {
   "cell_type": "code",
   "execution_count": 2,
   "metadata": {
    "colab": {
     "base_uri": "https://localhost:8080/",
     "height": 173
    },
    "colab_type": "code",
    "id": "JiQMlY6GjIwu",
    "outputId": "42f9e476-e2bc-4c0a-ee7d-90bb11cb3a81"
   },
   "outputs": [
    {
     "name": "stderr",
     "output_type": "stream",
     "text": [
      "[nltk_data] Downloading package punkt to\n",
      "[nltk_data]     /home/gabiburabia24/nltk_data...\n",
      "[nltk_data]   Package punkt is already up-to-date!\n",
      "[nltk_data] Downloading package stopwords to\n",
      "[nltk_data]     /home/gabiburabia24/nltk_data...\n",
      "[nltk_data]   Package stopwords is already up-to-date!\n"
     ]
    }
   ],
   "source": [
    "%matplotlib inline\n",
    "sns.set_style(\"darkgrid\")\n",
    "nltk.download('punkt')\n",
    "nltk.download('stopwords')\n",
    "use_cuda = torch.cuda.is_available()\n",
    "all_characters = string.ascii_letters + \" .,;'-\"\n",
    "n_characters = len(all_characters) +1\n",
    "SEED = 999\n",
    "import random \n",
    "def fixSeed(seed):\n",
    "    random.seed(seed)\n",
    "    np.random.seed(seed)\n",
    "    torch.manual_seed(seed)\n",
    "    if use_cuda:\n",
    "        torch.cuda.manual_seed(seed)\n",
    "        torch.cuda.manual_seed_all(seed)\n",
    "\n",
    "fixSeed(SEED)"
   ]
  },
  {
   "cell_type": "code",
   "execution_count": 0,
   "metadata": {
    "colab": {},
    "colab_type": "code",
    "id": "5HcaQvZHOIl7"
   },
   "outputs": [],
   "source": [
    "!kaggle datasets download -d gyani95/380000-lyrics-from-metrolyrics\n",
    "!unzip -q 380000-lyrics-from-metrolyrics.zip -d data"
   ]
  },
  {
   "cell_type": "code",
   "execution_count": 3,
   "metadata": {
    "colab": {},
    "colab_type": "code",
    "id": "yVkf9YtLOKtY"
   },
   "outputs": [
    {
     "name": "stdout",
     "output_type": "stream",
     "text": [
      "ls: cannot access 'data/': No such file or directory\r\n"
     ]
    }
   ],
   "source": [
    "!ls data/"
   ]
  },
  {
   "cell_type": "code",
   "execution_count": 3,
   "metadata": {
    "colab": {
     "base_uri": "https://localhost:8080/",
     "height": 35
    },
    "colab_type": "code",
    "id": "jR8Ce73Ue87k",
    "outputId": "fd2f1a17-760f-4b51-bfb7-307ad0cda815"
   },
   "outputs": [],
   "source": [
    "lyrics_df = pd.read_csv(\"../data/lyrics.csv\", usecols=['genre', 'lyrics'])"
   ]
  },
  {
   "cell_type": "code",
   "execution_count": 4,
   "metadata": {
    "colab": {
     "base_uri": "https://localhost:8080/",
     "height": 87
    },
    "colab_type": "code",
    "id": "hFpb-CGge_ks",
    "outputId": "07738146-c292-4710-d847-c5a157e3bfbf"
   },
   "outputs": [
    {
     "data": {
      "text/html": [
       "<div>\n",
       "<style scoped>\n",
       "    .dataframe tbody tr th:only-of-type {\n",
       "        vertical-align: middle;\n",
       "    }\n",
       "\n",
       "    .dataframe tbody tr th {\n",
       "        vertical-align: top;\n",
       "    }\n",
       "\n",
       "    .dataframe thead th {\n",
       "        text-align: right;\n",
       "    }\n",
       "</style>\n",
       "<table border=\"1\" class=\"dataframe\">\n",
       "  <thead>\n",
       "    <tr style=\"text-align: right;\">\n",
       "      <th></th>\n",
       "      <th>genre</th>\n",
       "      <th>lyrics</th>\n",
       "    </tr>\n",
       "  </thead>\n",
       "  <tbody>\n",
       "    <tr>\n",
       "      <th>count</th>\n",
       "      <td>362237</td>\n",
       "      <td>266557</td>\n",
       "    </tr>\n",
       "    <tr>\n",
       "      <th>unique</th>\n",
       "      <td>12</td>\n",
       "      <td>244873</td>\n",
       "    </tr>\n",
       "    <tr>\n",
       "      <th>top</th>\n",
       "      <td>Rock</td>\n",
       "      <td>INSTRUMENTAL</td>\n",
       "    </tr>\n",
       "    <tr>\n",
       "      <th>freq</th>\n",
       "      <td>131377</td>\n",
       "      <td>1369</td>\n",
       "    </tr>\n",
       "  </tbody>\n",
       "</table>\n",
       "</div>"
      ],
      "text/plain": [
       "         genre        lyrics\n",
       "count   362237        266557\n",
       "unique      12        244873\n",
       "top       Rock  INSTRUMENTAL\n",
       "freq    131377          1369"
      ]
     },
     "execution_count": 4,
     "metadata": {},
     "output_type": "execute_result"
    }
   ],
   "source": [
    "lyrics_df.describe(include = 'all')"
   ]
  },
  {
   "cell_type": "code",
   "execution_count": 5,
   "metadata": {
    "colab": {
     "base_uri": "https://localhost:8080/",
     "height": 93,
     "resources": {
      "http://localhost:8080/nbextensions/google.colab/files.js": {
       "data": "Ly8gQ29weXJpZ2h0IDIwMTcgR29vZ2xlIExMQwovLwovLyBMaWNlbnNlZCB1bmRlciB0aGUgQXBhY2hlIExpY2Vuc2UsIFZlcnNpb24gMi4wICh0aGUgIkxpY2Vuc2UiKTsKLy8geW91IG1heSBub3QgdXNlIHRoaXMgZmlsZSBleGNlcHQgaW4gY29tcGxpYW5jZSB3aXRoIHRoZSBMaWNlbnNlLgovLyBZb3UgbWF5IG9idGFpbiBhIGNvcHkgb2YgdGhlIExpY2Vuc2UgYXQKLy8KLy8gICAgICBodHRwOi8vd3d3LmFwYWNoZS5vcmcvbGljZW5zZXMvTElDRU5TRS0yLjAKLy8KLy8gVW5sZXNzIHJlcXVpcmVkIGJ5IGFwcGxpY2FibGUgbGF3IG9yIGFncmVlZCB0byBpbiB3cml0aW5nLCBzb2Z0d2FyZQovLyBkaXN0cmlidXRlZCB1bmRlciB0aGUgTGljZW5zZSBpcyBkaXN0cmlidXRlZCBvbiBhbiAiQVMgSVMiIEJBU0lTLAovLyBXSVRIT1VUIFdBUlJBTlRJRVMgT1IgQ09ORElUSU9OUyBPRiBBTlkgS0lORCwgZWl0aGVyIGV4cHJlc3Mgb3IgaW1wbGllZC4KLy8gU2VlIHRoZSBMaWNlbnNlIGZvciB0aGUgc3BlY2lmaWMgbGFuZ3VhZ2UgZ292ZXJuaW5nIHBlcm1pc3Npb25zIGFuZAovLyBsaW1pdGF0aW9ucyB1bmRlciB0aGUgTGljZW5zZS4KCi8qKgogKiBAZmlsZW92ZXJ2aWV3IEhlbHBlcnMgZm9yIGdvb2dsZS5jb2xhYiBQeXRob24gbW9kdWxlLgogKi8KKGZ1bmN0aW9uKHNjb3BlKSB7CmZ1bmN0aW9uIHNwYW4odGV4dCwgc3R5bGVBdHRyaWJ1dGVzID0ge30pIHsKICBjb25zdCBlbGVtZW50ID0gZG9jdW1lbnQuY3JlYXRlRWxlbWVudCgnc3BhbicpOwogIGVsZW1lbnQudGV4dENvbnRlbnQgPSB0ZXh0OwogIGZvciAoY29uc3Qga2V5IG9mIE9iamVjdC5rZXlzKHN0eWxlQXR0cmlidXRlcykpIHsKICAgIGVsZW1lbnQuc3R5bGVba2V5XSA9IHN0eWxlQXR0cmlidXRlc1trZXldOwogIH0KICByZXR1cm4gZWxlbWVudDsKfQoKLy8gTWF4IG51bWJlciBvZiBieXRlcyB3aGljaCB3aWxsIGJlIHVwbG9hZGVkIGF0IGEgdGltZS4KY29uc3QgTUFYX1BBWUxPQURfU0laRSA9IDEwMCAqIDEwMjQ7Ci8vIE1heCBhbW91bnQgb2YgdGltZSB0byBibG9jayB3YWl0aW5nIGZvciB0aGUgdXNlci4KY29uc3QgRklMRV9DSEFOR0VfVElNRU9VVF9NUyA9IDMwICogMTAwMDsKCmZ1bmN0aW9uIF91cGxvYWRGaWxlcyhpbnB1dElkLCBvdXRwdXRJZCkgewogIGNvbnN0IHN0ZXBzID0gdXBsb2FkRmlsZXNTdGVwKGlucHV0SWQsIG91dHB1dElkKTsKICBjb25zdCBvdXRwdXRFbGVtZW50ID0gZG9jdW1lbnQuZ2V0RWxlbWVudEJ5SWQob3V0cHV0SWQpOwogIC8vIENhY2hlIHN0ZXBzIG9uIHRoZSBvdXRwdXRFbGVtZW50IHRvIG1ha2UgaXQgYXZhaWxhYmxlIGZvciB0aGUgbmV4dCBjYWxsCiAgLy8gdG8gdXBsb2FkRmlsZXNDb250aW51ZSBmcm9tIFB5dGhvbi4KICBvdXRwdXRFbGVtZW50LnN0ZXBzID0gc3RlcHM7CgogIHJldHVybiBfdXBsb2FkRmlsZXNDb250aW51ZShvdXRwdXRJZCk7Cn0KCi8vIFRoaXMgaXMgcm91Z2hseSBhbiBhc3luYyBnZW5lcmF0b3IgKG5vdCBzdXBwb3J0ZWQgaW4gdGhlIGJyb3dzZXIgeWV0KSwKLy8gd2hlcmUgdGhlcmUgYXJlIG11bHRpcGxlIGFzeW5jaHJvbm91cyBzdGVwcyBhbmQgdGhlIFB5dGhvbiBzaWRlIGlzIGdvaW5nCi8vIHRvIHBvbGwgZm9yIGNvbXBsZXRpb24gb2YgZWFjaCBzdGVwLgovLyBUaGlzIHVzZXMgYSBQcm9taXNlIHRvIGJsb2NrIHRoZSBweXRob24gc2lkZSBvbiBjb21wbGV0aW9uIG9mIGVhY2ggc3RlcCwKLy8gdGhlbiBwYXNzZXMgdGhlIHJlc3VsdCBvZiB0aGUgcHJldmlvdXMgc3RlcCBhcyB0aGUgaW5wdXQgdG8gdGhlIG5leHQgc3RlcC4KZnVuY3Rpb24gX3VwbG9hZEZpbGVzQ29udGludWUob3V0cHV0SWQpIHsKICBjb25zdCBvdXRwdXRFbGVtZW50ID0gZG9jdW1lbnQuZ2V0RWxlbWVudEJ5SWQob3V0cHV0SWQpOwogIGNvbnN0IHN0ZXBzID0gb3V0cHV0RWxlbWVudC5zdGVwczsKCiAgY29uc3QgbmV4dCA9IHN0ZXBzLm5leHQob3V0cHV0RWxlbWVudC5sYXN0UHJvbWlzZVZhbHVlKTsKICByZXR1cm4gUHJvbWlzZS5yZXNvbHZlKG5leHQudmFsdWUucHJvbWlzZSkudGhlbigodmFsdWUpID0+IHsKICAgIC8vIENhY2hlIHRoZSBsYXN0IHByb21pc2UgdmFsdWUgdG8gbWFrZSBpdCBhdmFpbGFibGUgdG8gdGhlIG5leHQKICAgIC8vIHN0ZXAgb2YgdGhlIGdlbmVyYXRvci4KICAgIG91dHB1dEVsZW1lbnQubGFzdFByb21pc2VWYWx1ZSA9IHZhbHVlOwogICAgcmV0dXJuIG5leHQudmFsdWUucmVzcG9uc2U7CiAgfSk7Cn0KCi8qKgogKiBHZW5lcmF0b3IgZnVuY3Rpb24gd2hpY2ggaXMgY2FsbGVkIGJldHdlZW4gZWFjaCBhc3luYyBzdGVwIG9mIHRoZSB1cGxvYWQKICogcHJvY2Vzcy4KICogQHBhcmFtIHtzdHJpbmd9IGlucHV0SWQgRWxlbWVudCBJRCBvZiB0aGUgaW5wdXQgZmlsZSBwaWNrZXIgZWxlbWVudC4KICogQHBhcmFtIHtzdHJpbmd9IG91dHB1dElkIEVsZW1lbnQgSUQgb2YgdGhlIG91dHB1dCBkaXNwbGF5LgogKiBAcmV0dXJuIHshSXRlcmFibGU8IU9iamVjdD59IEl0ZXJhYmxlIG9mIG5leHQgc3RlcHMuCiAqLwpmdW5jdGlvbiogdXBsb2FkRmlsZXNTdGVwKGlucHV0SWQsIG91dHB1dElkKSB7CiAgY29uc3QgaW5wdXRFbGVtZW50ID0gZG9jdW1lbnQuZ2V0RWxlbWVudEJ5SWQoaW5wdXRJZCk7CiAgaW5wdXRFbGVtZW50LmRpc2FibGVkID0gZmFsc2U7CgogIGNvbnN0IG91dHB1dEVsZW1lbnQgPSBkb2N1bWVudC5nZXRFbGVtZW50QnlJZChvdXRwdXRJZCk7CiAgb3V0cHV0RWxlbWVudC5pbm5lckhUTUwgPSAnJzsKCiAgY29uc3QgcGlja2VkUHJvbWlzZSA9IG5ldyBQcm9taXNlKChyZXNvbHZlKSA9PiB7CiAgICBpbnB1dEVsZW1lbnQuYWRkRXZlbnRMaXN0ZW5lcignY2hhbmdlJywgKGUpID0+IHsKICAgICAgcmVzb2x2ZShlLnRhcmdldC5maWxlcyk7CiAgICB9KTsKICB9KTsKCiAgY29uc3QgY2FuY2VsID0gZG9jdW1lbnQuY3JlYXRlRWxlbWVudCgnYnV0dG9uJyk7CiAgaW5wdXRFbGVtZW50LnBhcmVudEVsZW1lbnQuYXBwZW5kQ2hpbGQoY2FuY2VsKTsKICBjYW5jZWwudGV4dENvbnRlbnQgPSAnQ2FuY2VsIHVwbG9hZCc7CiAgY29uc3QgY2FuY2VsUHJvbWlzZSA9IG5ldyBQcm9taXNlKChyZXNvbHZlKSA9PiB7CiAgICBjYW5jZWwub25jbGljayA9ICgpID0+IHsKICAgICAgcmVzb2x2ZShudWxsKTsKICAgIH07CiAgfSk7CgogIC8vIENhbmNlbCB1cGxvYWQgaWYgdXNlciBoYXNuJ3QgcGlja2VkIGFueXRoaW5nIGluIHRpbWVvdXQuCiAgY29uc3QgdGltZW91dFByb21pc2UgPSBuZXcgUHJvbWlzZSgocmVzb2x2ZSkgPT4gewogICAgc2V0VGltZW91dCgoKSA9PiB7CiAgICAgIHJlc29sdmUobnVsbCk7CiAgICB9LCBGSUxFX0NIQU5HRV9USU1FT1VUX01TKTsKICB9KTsKCiAgLy8gV2FpdCBmb3IgdGhlIHVzZXIgdG8gcGljayB0aGUgZmlsZXMuCiAgY29uc3QgZmlsZXMgPSB5aWVsZCB7CiAgICBwcm9taXNlOiBQcm9taXNlLnJhY2UoW3BpY2tlZFByb21pc2UsIHRpbWVvdXRQcm9taXNlLCBjYW5jZWxQcm9taXNlXSksCiAgICByZXNwb25zZTogewogICAgICBhY3Rpb246ICdzdGFydGluZycsCiAgICB9CiAgfTsKCiAgaWYgKCFmaWxlcykgewogICAgcmV0dXJuIHsKICAgICAgcmVzcG9uc2U6IHsKICAgICAgICBhY3Rpb246ICdjb21wbGV0ZScsCiAgICAgIH0KICAgIH07CiAgfQoKICBjYW5jZWwucmVtb3ZlKCk7CgogIC8vIERpc2FibGUgdGhlIGlucHV0IGVsZW1lbnQgc2luY2UgZnVydGhlciBwaWNrcyBhcmUgbm90IGFsbG93ZWQuCiAgaW5wdXRFbGVtZW50LmRpc2FibGVkID0gdHJ1ZTsKCiAgZm9yIChjb25zdCBmaWxlIG9mIGZpbGVzKSB7CiAgICBjb25zdCBsaSA9IGRvY3VtZW50LmNyZWF0ZUVsZW1lbnQoJ2xpJyk7CiAgICBsaS5hcHBlbmQoc3BhbihmaWxlLm5hbWUsIHtmb250V2VpZ2h0OiAnYm9sZCd9KSk7CiAgICBsaS5hcHBlbmQoc3BhbigKICAgICAgICBgKCR7ZmlsZS50eXBlIHx8ICduL2EnfSkgLSAke2ZpbGUuc2l6ZX0gYnl0ZXMsIGAgKwogICAgICAgIGBsYXN0IG1vZGlmaWVkOiAkewogICAgICAgICAgICBmaWxlLmxhc3RNb2RpZmllZERhdGUgPyBmaWxlLmxhc3RNb2RpZmllZERhdGUudG9Mb2NhbGVEYXRlU3RyaW5nKCkgOgogICAgICAgICAgICAgICAgICAgICAgICAgICAgICAgICAgICAnbi9hJ30gLSBgKSk7CiAgICBjb25zdCBwZXJjZW50ID0gc3BhbignMCUgZG9uZScpOwogICAgbGkuYXBwZW5kQ2hpbGQocGVyY2VudCk7CgogICAgb3V0cHV0RWxlbWVudC5hcHBlbmRDaGlsZChsaSk7CgogICAgY29uc3QgZmlsZURhdGFQcm9taXNlID0gbmV3IFByb21pc2UoKHJlc29sdmUpID0+IHsKICAgICAgY29uc3QgcmVhZGVyID0gbmV3IEZpbGVSZWFkZXIoKTsKICAgICAgcmVhZGVyLm9ubG9hZCA9IChlKSA9PiB7CiAgICAgICAgcmVzb2x2ZShlLnRhcmdldC5yZXN1bHQpOwogICAgICB9OwogICAgICByZWFkZXIucmVhZEFzQXJyYXlCdWZmZXIoZmlsZSk7CiAgICB9KTsKICAgIC8vIFdhaXQgZm9yIHRoZSBkYXRhIHRvIGJlIHJlYWR5LgogICAgbGV0IGZpbGVEYXRhID0geWllbGQgewogICAgICBwcm9taXNlOiBmaWxlRGF0YVByb21pc2UsCiAgICAgIHJlc3BvbnNlOiB7CiAgICAgICAgYWN0aW9uOiAnY29udGludWUnLAogICAgICB9CiAgICB9OwoKICAgIC8vIFVzZSBhIGNodW5rZWQgc2VuZGluZyB0byBhdm9pZCBtZXNzYWdlIHNpemUgbGltaXRzLiBTZWUgYi82MjExNTY2MC4KICAgIGxldCBwb3NpdGlvbiA9IDA7CiAgICB3aGlsZSAocG9zaXRpb24gPCBmaWxlRGF0YS5ieXRlTGVuZ3RoKSB7CiAgICAgIGNvbnN0IGxlbmd0aCA9IE1hdGgubWluKGZpbGVEYXRhLmJ5dGVMZW5ndGggLSBwb3NpdGlvbiwgTUFYX1BBWUxPQURfU0laRSk7CiAgICAgIGNvbnN0IGNodW5rID0gbmV3IFVpbnQ4QXJyYXkoZmlsZURhdGEsIHBvc2l0aW9uLCBsZW5ndGgpOwogICAgICBwb3NpdGlvbiArPSBsZW5ndGg7CgogICAgICBjb25zdCBiYXNlNjQgPSBidG9hKFN0cmluZy5mcm9tQ2hhckNvZGUuYXBwbHkobnVsbCwgY2h1bmspKTsKICAgICAgeWllbGQgewogICAgICAgIHJlc3BvbnNlOiB7CiAgICAgICAgICBhY3Rpb246ICdhcHBlbmQnLAogICAgICAgICAgZmlsZTogZmlsZS5uYW1lLAogICAgICAgICAgZGF0YTogYmFzZTY0LAogICAgICAgIH0sCiAgICAgIH07CiAgICAgIHBlcmNlbnQudGV4dENvbnRlbnQgPQogICAgICAgICAgYCR7TWF0aC5yb3VuZCgocG9zaXRpb24gLyBmaWxlRGF0YS5ieXRlTGVuZ3RoKSAqIDEwMCl9JSBkb25lYDsKICAgIH0KICB9CgogIC8vIEFsbCBkb25lLgogIHlpZWxkIHsKICAgIHJlc3BvbnNlOiB7CiAgICAgIGFjdGlvbjogJ2NvbXBsZXRlJywKICAgIH0KICB9Owp9CgpzY29wZS5nb29nbGUgPSBzY29wZS5nb29nbGUgfHwge307CnNjb3BlLmdvb2dsZS5jb2xhYiA9IHNjb3BlLmdvb2dsZS5jb2xhYiB8fCB7fTsKc2NvcGUuZ29vZ2xlLmNvbGFiLl9maWxlcyA9IHsKICBfdXBsb2FkRmlsZXMsCiAgX3VwbG9hZEZpbGVzQ29udGludWUsCn07Cn0pKHNlbGYpOwo=",
       "headers": [
        [
         "content-type",
         "application/javascript"
        ]
       ],
       "ok": true,
       "status": 200,
       "status_text": ""
      }
     }
    },
    "colab_type": "code",
    "id": "tPrMABCmfCQW",
    "outputId": "b42c95d8-08e9-4e20-e5ce-41e42dadbe19"
   },
   "outputs": [
    {
     "name": "stdout",
     "output_type": "stream",
     "text": [
      "<class 'pandas.core.frame.DataFrame'>\n",
      "RangeIndex: 362237 entries, 0 to 362236\n",
      "Data columns (total 2 columns):\n",
      "genre     362237 non-null object\n",
      "lyrics    266557 non-null object\n",
      "dtypes: object(2)\n",
      "memory usage: 5.5+ MB\n"
     ]
    }
   ],
   "source": [
    "lyrics_df.info()\n"
   ]
  },
  {
   "cell_type": "code",
   "execution_count": 7,
   "metadata": {},
   "outputs": [],
   "source": [
    "def unicodeToAscii(s):\n",
    "    return ''.join(\n",
    "        c for c in unicodedata.normalize('NFD', s)\n",
    "        if unicodedata.category(c) != 'Mn'\n",
    "        and c in all_characters\n",
    "    )\n"
   ]
  },
  {
   "cell_type": "code",
   "execution_count": 8,
   "metadata": {
    "colab": {
     "base_uri": "https://localhost:8080/",
     "height": 72
    },
    "colab_type": "code",
    "id": "K0A5dwTpfEvF",
    "outputId": "a7e30fac-85cf-4a3e-9709-f1374795fb7b"
   },
   "outputs": [
    {
     "data": {
      "text/html": [
       "<div>\n",
       "<style scoped>\n",
       "    .dataframe tbody tr th:only-of-type {\n",
       "        vertical-align: middle;\n",
       "    }\n",
       "\n",
       "    .dataframe tbody tr th {\n",
       "        vertical-align: top;\n",
       "    }\n",
       "\n",
       "    .dataframe thead th {\n",
       "        text-align: right;\n",
       "    }\n",
       "</style>\n",
       "<table border=\"1\" class=\"dataframe\">\n",
       "  <thead>\n",
       "    <tr style=\"text-align: right;\">\n",
       "      <th></th>\n",
       "      <th>genre</th>\n",
       "      <th>lyrics</th>\n",
       "      <th>ascii_lyrics</th>\n",
       "    </tr>\n",
       "  </thead>\n",
       "  <tbody>\n",
       "    <tr>\n",
       "      <th>343917</th>\n",
       "      <td>Rock</td>\n",
       "      <td>(corthon)\\nGot lots of money\\nGot lots of phon...</td>\n",
       "      <td>corthonGot lots of moneyGot lots of phony frie...</td>\n",
       "    </tr>\n",
       "    <tr>\n",
       "      <th>267582</th>\n",
       "      <td>Rock</td>\n",
       "      <td>It's no big surprise\\nWe turned out this way\\n...</td>\n",
       "      <td>It's no big surpriseWe turned out this wayIt's...</td>\n",
       "    </tr>\n",
       "    <tr>\n",
       "      <th>309031</th>\n",
       "      <td>Hip-Hop</td>\n",
       "      <td>I don't sweat no bitches, I only issue dick\\nI...</td>\n",
       "      <td>I don't sweat no bitches, I only issue dickI o...</td>\n",
       "    </tr>\n",
       "    <tr>\n",
       "      <th>19899</th>\n",
       "      <td>Not Available</td>\n",
       "      <td>Me estÃ¡ gustando\\nQue me des los buenos dÃ­as...</td>\n",
       "      <td>Me estA gustandoQue me des los buenos dAasQue ...</td>\n",
       "    </tr>\n",
       "    <tr>\n",
       "      <th>175151</th>\n",
       "      <td>Hip-Hop</td>\n",
       "      <td>What's so different?\\nWhat's so different?\\nIf...</td>\n",
       "      <td>What's so differentWhat's so differentIf you c...</td>\n",
       "    </tr>\n",
       "    <tr>\n",
       "      <th>113034</th>\n",
       "      <td>Not Available</td>\n",
       "      <td>Hello cruel world, so this is you\\nA broken he...</td>\n",
       "      <td>Hello cruel world, so this is youA broken hear...</td>\n",
       "    </tr>\n",
       "    <tr>\n",
       "      <th>201066</th>\n",
       "      <td>Jazz</td>\n",
       "      <td>I thought I told you everything\\nYou needed, n...</td>\n",
       "      <td>I thought I told you everythingYou needed, nee...</td>\n",
       "    </tr>\n",
       "    <tr>\n",
       "      <th>311614</th>\n",
       "      <td>Metal</td>\n",
       "      <td>Mike and Susan have been together for nearly f...</td>\n",
       "      <td>Mike and Susan have been together for nearly f...</td>\n",
       "    </tr>\n",
       "    <tr>\n",
       "      <th>156807</th>\n",
       "      <td>Rock</td>\n",
       "      <td>There's a specter in the corner of an illustra...</td>\n",
       "      <td>There's a specter in the corner of an illustra...</td>\n",
       "    </tr>\n",
       "    <tr>\n",
       "      <th>293961</th>\n",
       "      <td>Jazz</td>\n",
       "      <td>Heb je wel 'ns verlangd naar 't Tjeukemeer\\nDa...</td>\n",
       "      <td>Heb je wel 'ns verlangd naar 't TjeukemeerDan ...</td>\n",
       "    </tr>\n",
       "  </tbody>\n",
       "</table>\n",
       "</div>"
      ],
      "text/plain": [
       "                genre                                             lyrics  \\\n",
       "343917           Rock  (corthon)\\nGot lots of money\\nGot lots of phon...   \n",
       "267582           Rock  It's no big surprise\\nWe turned out this way\\n...   \n",
       "309031        Hip-Hop  I don't sweat no bitches, I only issue dick\\nI...   \n",
       "19899   Not Available  Me estÃ¡ gustando\\nQue me des los buenos dÃ­as...   \n",
       "175151        Hip-Hop  What's so different?\\nWhat's so different?\\nIf...   \n",
       "113034  Not Available  Hello cruel world, so this is you\\nA broken he...   \n",
       "201066           Jazz  I thought I told you everything\\nYou needed, n...   \n",
       "311614          Metal  Mike and Susan have been together for nearly f...   \n",
       "156807           Rock  There's a specter in the corner of an illustra...   \n",
       "293961           Jazz  Heb je wel 'ns verlangd naar 't Tjeukemeer\\nDa...   \n",
       "\n",
       "                                             ascii_lyrics  \n",
       "343917  corthonGot lots of moneyGot lots of phony frie...  \n",
       "267582  It's no big surpriseWe turned out this wayIt's...  \n",
       "309031  I don't sweat no bitches, I only issue dickI o...  \n",
       "19899   Me estA gustandoQue me des los buenos dAasQue ...  \n",
       "175151  What's so differentWhat's so differentIf you c...  \n",
       "113034  Hello cruel world, so this is youA broken hear...  \n",
       "201066  I thought I told you everythingYou needed, nee...  \n",
       "311614  Mike and Susan have been together for nearly f...  \n",
       "156807  There's a specter in the corner of an illustra...  \n",
       "293961  Heb je wel 'ns verlangd naar 't TjeukemeerDan ...  "
      ]
     },
     "execution_count": 8,
     "metadata": {},
     "output_type": "execute_result"
    }
   ],
   "source": [
    "lyrics_df = lyrics_df[lyrics_df.lyrics.notnull()]\n",
    "import unicodedata\n",
    "\n",
    "#lyrics_df[\"ascii_lyrics\"] = lyrics_df[\"lyrics\"].map(lambda text:  unidecode.unidecode(text))\n",
    "lyrics_df[\"ascii_lyrics\"] = lyrics_df[\"lyrics\"].map(lambda text:  unicodeToAscii(text))\n",
    "#unicodedata.normalize('NFD', s)\n",
    "lyrics_df.sample(10)\n"
   ]
  },
  {
   "cell_type": "code",
   "execution_count": 0,
   "metadata": {
    "colab": {
     "base_uri": "https://localhost:8080/",
     "height": 35
    },
    "colab_type": "code",
    "id": "AT_pN8Bxfja1",
    "outputId": "60efda10-4bbc-42b0-f6c7-ade70652618e"
   },
   "outputs": [
    {
     "name": "stdout",
     "output_type": "stream",
     "text": [
      "replace data/lyrics.csv? [y]es, [n]o, [A]ll, [N]one, [r]ename: N\n"
     ]
    }
   ],
   "source": [
    "MIN_OCCURENCES = 5\n",
    "UNKOWN_WORDS = '<UNK>'\n",
    "FEATURE_VECTOR_SIZE = 300 \n",
    "WINDOW_SIZE = 2\n",
    "MAX_WORDS_TO_TAKE = 128 \n",
    "BATCH_SIZE = 100\n"
   ]
  },
  {
   "cell_type": "code",
   "execution_count": 0,
   "metadata": {
    "colab": {},
    "colab_type": "code",
    "id": "8tn4csYkh6DU"
   },
   "outputs": [],
   "source": [
    "texts = lyrics_df[\"lyrics\"].tolist()\n",
    "tokenizer = RegexpTokenizer(r'\\w+')\n",
    "flat_list =  [word for word in [tokenizer.tokenize(text.lower()) for text  in texts]]\n",
    "all_text = [item for sublist in flat_list for item in sublist]\n",
    "req_dist = nltk.FreqDist(all_text)\n",
    "rare_words = {word for (word, count) in req_dist.items() if count < MIN_OCCURENCES}\n",
    "replace_words = {word for (word, count) in req_dist.items() if count == MIN_OCCURENCES}"
   ]
  },
  {
   "cell_type": "code",
   "execution_count": 0,
   "metadata": {
    "colab": {
     "base_uri": "https://localhost:8080/",
     "height": 171
    },
    "colab_type": "code",
    "id": "C4I0c0LuiClL",
    "outputId": "fa1ae7cd-d7dd-4a7d-def5-6d733c6d5012"
   },
   "outputs": [
    {
     "data": {
      "text/html": [
       "<div>\n",
       "<style scoped>\n",
       "    .dataframe tbody tr th:only-of-type {\n",
       "        vertical-align: middle;\n",
       "    }\n",
       "\n",
       "    .dataframe tbody tr th {\n",
       "        vertical-align: top;\n",
       "    }\n",
       "\n",
       "    .dataframe thead th {\n",
       "        text-align: right;\n",
       "    }\n",
       "</style>\n",
       "<table border=\"1\" class=\"dataframe\">\n",
       "  <thead>\n",
       "    <tr style=\"text-align: right;\">\n",
       "      <th></th>\n",
       "      <th>genre</th>\n",
       "      <th>lyrics</th>\n",
       "    </tr>\n",
       "  </thead>\n",
       "  <tbody>\n",
       "    <tr>\n",
       "      <th>count</th>\n",
       "      <td>362237</td>\n",
       "      <td>266557</td>\n",
       "    </tr>\n",
       "    <tr>\n",
       "      <th>unique</th>\n",
       "      <td>12</td>\n",
       "      <td>244873</td>\n",
       "    </tr>\n",
       "    <tr>\n",
       "      <th>top</th>\n",
       "      <td>Rock</td>\n",
       "      <td>INSTRUMENTAL</td>\n",
       "    </tr>\n",
       "    <tr>\n",
       "      <th>freq</th>\n",
       "      <td>131377</td>\n",
       "      <td>1369</td>\n",
       "    </tr>\n",
       "  </tbody>\n",
       "</table>\n",
       "</div>"
      ],
      "text/plain": [
       "         genre        lyrics\n",
       "count   362237        266557\n",
       "unique      12        244873\n",
       "top       Rock  INSTRUMENTAL\n",
       "freq    131377          1369"
      ]
     },
     "execution_count": 8,
     "metadata": {
      "tags": []
     },
     "output_type": "execute_result"
    }
   ],
   "source": [
    "def cleanText(text, rare_words=None, replace_words = None):\n",
    "    table = str.maketrans({key: None for key in string.punctuation})\n",
    "    text = text.translate(table)\n",
    "\n",
    "    tokens = word_tokenize(text)\n",
    "    tokens = [w.lower() for w in tokens]\n",
    "\n",
    "    stops = set(stopwords.words(\"english\"))\n",
    "\n",
    "    words = [word for word in tokens if word not in stops and (rare_words is None or word not in rare_words)]\n",
    "\n",
    "    if replace_words and words:\n",
    "        words = [word if word not in replace_words else UNKOWN_WORDS for word in words]\n",
    "\n",
    "\n",
    "    if len(words) == 0:\n",
    "        return None\n",
    "\n",
    "    return words"
   ]
  },
  {
   "cell_type": "code",
   "execution_count": 0,
   "metadata": {
    "colab": {},
    "colab_type": "code",
    "id": "6pg3-ifvOqAa"
   },
   "outputs": [],
   "source": [
    "lyrics_df[\"clean_lyrics\"] = lyrics_df[\"lyrics\"].map(lambda text: cleanText(text, rare_words, replace_words))\n",
    "lyrics_df = lyrics_df[lyrics_df.clean_lyrics.notnull()]\n",
    "lyrics_df.sample(10)"
   ]
  },
  {
   "cell_type": "code",
   "execution_count": 0,
   "metadata": {
    "colab": {
     "base_uri": "https://localhost:8080/",
     "height": 139
    },
    "colab_type": "code",
    "id": "o473sFd1iE4z",
    "outputId": "97b9d7c6-044d-4e91-d291-e4e129dc61e5"
   },
   "outputs": [
    {
     "name": "stdout",
     "output_type": "stream",
     "text": [
      "<class 'pandas.core.frame.DataFrame'>\n",
      "RangeIndex: 362237 entries, 0 to 362236\n",
      "Data columns (total 2 columns):\n",
      "genre     362237 non-null object\n",
      "lyrics    266557 non-null object\n",
      "dtypes: object(2)\n",
      "memory usage: 5.5+ MB\n"
     ]
    }
   ],
   "source": [
    "all_sentenses = lyrics_df[\"clean_lyrics\"].tolist()\n",
    "wevec_model = Word2Vec(all_sentenses, size=FEATURE_VECTOR_SIZE, window=WINDOW_SIZE, workers=4)"
   ]
  },
  {
   "cell_type": "code",
   "execution_count": 0,
   "metadata": {
    "colab": {
     "base_uri": "https://localhost:8080/",
     "height": 355
    },
    "colab_type": "code",
    "id": "RthQL5utiK99",
    "outputId": "6a8e8237-2d48-4bec-c3da-3d3becd16569"
   },
   "outputs": [
    {
     "data": {
      "text/html": [
       "<div>\n",
       "<style scoped>\n",
       "    .dataframe tbody tr th:only-of-type {\n",
       "        vertical-align: middle;\n",
       "    }\n",
       "\n",
       "    .dataframe tbody tr th {\n",
       "        vertical-align: top;\n",
       "    }\n",
       "\n",
       "    .dataframe thead th {\n",
       "        text-align: right;\n",
       "    }\n",
       "</style>\n",
       "<table border=\"1\" class=\"dataframe\">\n",
       "  <thead>\n",
       "    <tr style=\"text-align: right;\">\n",
       "      <th></th>\n",
       "      <th>genre</th>\n",
       "      <th>lyrics</th>\n",
       "    </tr>\n",
       "  </thead>\n",
       "  <tbody>\n",
       "    <tr>\n",
       "      <th>343917</th>\n",
       "      <td>Rock</td>\n",
       "      <td>(corthon)\\nGot lots of money\\nGot lots of phon...</td>\n",
       "    </tr>\n",
       "    <tr>\n",
       "      <th>267582</th>\n",
       "      <td>Rock</td>\n",
       "      <td>It's no big surprise\\nWe turned out this way\\n...</td>\n",
       "    </tr>\n",
       "    <tr>\n",
       "      <th>309031</th>\n",
       "      <td>Hip-Hop</td>\n",
       "      <td>I don't sweat no bitches, I only issue dick\\nI...</td>\n",
       "    </tr>\n",
       "    <tr>\n",
       "      <th>19899</th>\n",
       "      <td>Not Available</td>\n",
       "      <td>Me estÃ¡ gustando\\nQue me des los buenos dÃ­as...</td>\n",
       "    </tr>\n",
       "    <tr>\n",
       "      <th>175151</th>\n",
       "      <td>Hip-Hop</td>\n",
       "      <td>What's so different?\\nWhat's so different?\\nIf...</td>\n",
       "    </tr>\n",
       "    <tr>\n",
       "      <th>113034</th>\n",
       "      <td>Not Available</td>\n",
       "      <td>Hello cruel world, so this is you\\nA broken he...</td>\n",
       "    </tr>\n",
       "    <tr>\n",
       "      <th>201066</th>\n",
       "      <td>Jazz</td>\n",
       "      <td>I thought I told you everything\\nYou needed, n...</td>\n",
       "    </tr>\n",
       "    <tr>\n",
       "      <th>311614</th>\n",
       "      <td>Metal</td>\n",
       "      <td>Mike and Susan have been together for nearly f...</td>\n",
       "    </tr>\n",
       "    <tr>\n",
       "      <th>156807</th>\n",
       "      <td>Rock</td>\n",
       "      <td>There's a specter in the corner of an illustra...</td>\n",
       "    </tr>\n",
       "    <tr>\n",
       "      <th>293961</th>\n",
       "      <td>Jazz</td>\n",
       "      <td>Heb je wel 'ns verlangd naar 't Tjeukemeer\\nDa...</td>\n",
       "    </tr>\n",
       "  </tbody>\n",
       "</table>\n",
       "</div>"
      ],
      "text/plain": [
       "                genre                                             lyrics\n",
       "343917           Rock  (corthon)\\nGot lots of money\\nGot lots of phon...\n",
       "267582           Rock  It's no big surprise\\nWe turned out this way\\n...\n",
       "309031        Hip-Hop  I don't sweat no bitches, I only issue dick\\nI...\n",
       "19899   Not Available  Me estÃ¡ gustando\\nQue me des los buenos dÃ­as...\n",
       "175151        Hip-Hop  What's so different?\\nWhat's so different?\\nIf...\n",
       "113034  Not Available  Hello cruel world, so this is you\\nA broken he...\n",
       "201066           Jazz  I thought I told you everything\\nYou needed, n...\n",
       "311614          Metal  Mike and Susan have been together for nearly f...\n",
       "156807           Rock  There's a specter in the corner of an illustra...\n",
       "293961           Jazz  Heb je wel 'ns verlangd naar 't Tjeukemeer\\nDa..."
      ]
     },
     "execution_count": 10,
     "metadata": {
      "tags": []
     },
     "output_type": "execute_result"
    }
   ],
   "source": [
    "import torch\n",
    "import torch.nn as nn\n",
    "from torch.autograd import Variable\n",
    "from torch.nn import functional as F\n",
    "\n",
    "class LSTMClassifier(nn.Module):\n",
    "\tdef __init__(self, batch_size, output_size, hidden_size, vocab_size, embedding_length, weights):\n",
    "\t\tsuper(LSTMClassifier, self).__init__()\n",
    "\t\t\n",
    "\t\t\n",
    "\t\tself.batch_size = batch_size\n",
    "\t\tself.output_size = output_size\n",
    "\t\tself.hidden_size = hidden_size\n",
    "\t\tself.vocab_size = vocab_size\n",
    "\t\tself.embedding_length = embedding_length\n",
    "\t\t\n",
    "\t\tself.word_embeddings = nn.Embedding(vocab_size, embedding_length)# Initializing the look-up table.\n",
    "\t\tself.word_embeddings.weight = nn.Parameter(weights, requires_grad=False) # Assigning the look-up table to the pre-trained GloVe word embedding.\n",
    "\t\tself.lstm = nn.LSTM(embedding_length, hidden_size)\n",
    "\t\tself.label = nn.Linear(hidden_size, output_size)\n",
    "\t\t\n",
    "\tdef forward(self, input_sentence, batch_size=None):\n",
    "\t\tinput = self.word_embeddings(input_sentence) # embedded input of shape = (batch_size, num_sequences,  embedding_length)\n",
    "\t\tinput = input.permute(1, 0, 2) # input.size() = (num_sequences, batch_size, embedding_length)\n",
    "\t\tif batch_size is None:\n",
    "\t\t\th_0 = Variable(torch.zeros(1, self.batch_size, self.hidden_size).cuda()) # Initial hidden state of the LSTM\n",
    "\t\t\tc_0 = Variable(torch.zeros(1, self.batch_size, self.hidden_size).cuda()) # Initial cell state of the LSTM\n",
    "\t\telse:\n",
    "\t\t\th_0 = Variable(torch.zeros(1, batch_size, self.hidden_size).cuda())\n",
    "\t\t\tc_0 = Variable(torch.zeros(1, batch_size, self.hidden_size).cuda())\n",
    "\t\toutput, (final_hidden_state, final_cell_state) = self.lstm(input, (h_0, c_0))\n",
    "\t\tfinal_output = self.label(final_hidden_state[-1]) # final_hidden_state.size() = (1, batch_size, hidden_size) & final_output.size() = (batch_size, output_size)\n",
    "\t\t\n",
    "\t\treturn final_output\n",
    "    "
   ]
  },
  {
   "cell_type": "code",
   "execution_count": 0,
   "metadata": {
    "colab": {},
    "colab_type": "code",
    "id": "z0VKTcKsiNY2"
   },
   "outputs": [],
   "source": [
    "geners = lyrics_df['genre'].drop_duplicates().tolist()\n",
    "weights_matrix = wevec_model.wv.vectors\n",
    "vector = np.zeros(shape=(FEATURE_VECTOR_SIZE, ))"
   ]
  },
  {
   "cell_type": "code",
   "execution_count": 0,
   "metadata": {
    "colab": {},
    "colab_type": "code",
    "id": "VBewPKB_iYIA"
   },
   "outputs": [],
   "source": [
    "train, validation = train_test_split(lyrics_df, test_size=0.2, random_state=999)\n",
    "\n",
    "geners = lyrics_df['genre'].drop_duplicates().tolist()\n",
    "\n",
    "gene_to_index = {gene : index for index, gene in enumerate(geners)}\n",
    "index_to_gene = {index : gene  for index, gene in enumerate(geners)}"
   ]
  },
  {
   "cell_type": "code",
   "execution_count": 0,
   "metadata": {
    "colab": {},
    "colab_type": "code",
    "id": "TXK6S3TgkWZl"
   },
   "outputs": [],
   "source": [
    "def clip_gradient(model, clip_value):\n",
    "    params = list(filter(lambda p: p.grad is not None, model.parameters()))\n",
    "    for p in params:\n",
    "        p.grad.data.clamp_(-clip_value, clip_value)\n",
    "\n",
    "class DatasetLoader(Dataset):\n",
    "\n",
    "    def __init__(self, df, gene_to_index, w2vec):\n",
    "        self._df = df\n",
    "        self.gene_to_index = gene_to_index\n",
    "        self.w2vec = w2vec\n",
    "\n",
    "    def __len__(self):\n",
    "        return len(self._df)\n",
    "\n",
    "    def __getitem__(self, idx):\n",
    "        current_element = self._df.iloc[idx]\n",
    "        words = current_element['clean_lyrics']\n",
    "        words = [word if word  in self.w2vec.wv.vocab else UNKOWN_WORDS for word in words]\n",
    "        genre = current_element['genre']\n",
    "        if len(words) > MAX_WORDS_TO_TAKE:\n",
    "            words = words[0:MAX_WORDS_TO_TAKE]\n",
    "        elif len(words) < MAX_WORDS_TO_TAKE:\n",
    "          missing = MAX_WORDS_TO_TAKE - len(words)\n",
    "          words = words +  ([UNKOWN_WORDS] * missing)\n",
    "          \n",
    "        indexes = [self.w2vec.wv.vocab[word].index for word in words]\n",
    "        \n",
    "        return np.array(indexes), self.gene_to_index[genre]"
   ]
  },
  {
   "cell_type": "code",
   "execution_count": 0,
   "metadata": {
    "colab": {
     "base_uri": "https://localhost:8080/",
     "height": 355
    },
    "colab_type": "code",
    "id": "T8tb9Ii8jAh-",
    "outputId": "d48ea9db-6b57-4eda-b4fe-2abf6b0b188e"
   },
   "outputs": [
    {
     "data": {
      "text/html": [
       "<div>\n",
       "<style scoped>\n",
       "    .dataframe tbody tr th:only-of-type {\n",
       "        vertical-align: middle;\n",
       "    }\n",
       "\n",
       "    .dataframe tbody tr th {\n",
       "        vertical-align: top;\n",
       "    }\n",
       "\n",
       "    .dataframe thead th {\n",
       "        text-align: right;\n",
       "    }\n",
       "</style>\n",
       "<table border=\"1\" class=\"dataframe\">\n",
       "  <thead>\n",
       "    <tr style=\"text-align: right;\">\n",
       "      <th></th>\n",
       "      <th>genre</th>\n",
       "      <th>lyrics</th>\n",
       "      <th>clean_lyrics</th>\n",
       "    </tr>\n",
       "  </thead>\n",
       "  <tbody>\n",
       "    <tr>\n",
       "      <th>1085</th>\n",
       "      <td>Rock</td>\n",
       "      <td>Our father which art on Wall Street\\nHonored b...</td>\n",
       "      <td>[father, art, wall, street, thy, buck, thy, &lt;U...</td>\n",
       "    </tr>\n",
       "    <tr>\n",
       "      <th>1429</th>\n",
       "      <td>Metal</td>\n",
       "      <td>Somewhere in time there was a dream\\nA dream I...</td>\n",
       "      <td>[somewhere, time, dream, dream, felt, deep, in...</td>\n",
       "    </tr>\n",
       "    <tr>\n",
       "      <th>269</th>\n",
       "      <td>Hip-Hop</td>\n",
       "      <td>This is a real life jack in progress. Nigga gi...</td>\n",
       "      <td>[real, life, jack, progress, nigga, give, shit...</td>\n",
       "    </tr>\n",
       "    <tr>\n",
       "      <th>1482</th>\n",
       "      <td>Not Available</td>\n",
       "      <td>(M. Detroit)\\nMaybe it's my blood sugar\\nMaybe...</td>\n",
       "      <td>[detroit, maybe, blood, sugar, maybe, im, mad,...</td>\n",
       "    </tr>\n",
       "    <tr>\n",
       "      <th>4</th>\n",
       "      <td>Pop</td>\n",
       "      <td>Party the people, the people the party it's po...</td>\n",
       "      <td>[party, people, people, party, popping, sittin...</td>\n",
       "    </tr>\n",
       "    <tr>\n",
       "      <th>77</th>\n",
       "      <td>Pop</td>\n",
       "      <td>[Verse 1]\\nI'm in my penthouse half naked\\nI c...</td>\n",
       "      <td>[verse, 1, im, half, naked, naked, hell, one, ...</td>\n",
       "    </tr>\n",
       "    <tr>\n",
       "      <th>822</th>\n",
       "      <td>Rock</td>\n",
       "      <td>I wish you well\\nCouldn't you tell after all t...</td>\n",
       "      <td>[wish, well, tell, years, wish, love, life, wo...</td>\n",
       "    </tr>\n",
       "    <tr>\n",
       "      <th>1110</th>\n",
       "      <td>Rock</td>\n",
       "      <td>Hey baby, be my dog, ooh\\nAlice in my fantasie...</td>\n",
       "      <td>[hey, baby, dog, ooh, fantasies, uh, promised,...</td>\n",
       "    </tr>\n",
       "    <tr>\n",
       "      <th>688</th>\n",
       "      <td>Jazz</td>\n",
       "      <td>It's only small town talk\\nYou know how people...</td>\n",
       "      <td>[small, town, talk, know, people, cant, stand,...</td>\n",
       "    </tr>\n",
       "    <tr>\n",
       "      <th>468</th>\n",
       "      <td>Other</td>\n",
       "      <td>Sen arardÄ±n beni cep telefonumdan\\nArardÄ±n,a...</td>\n",
       "      <td>[sen, arardä±n, beni, cep, telefonumdan, arard...</td>\n",
       "    </tr>\n",
       "  </tbody>\n",
       "</table>\n",
       "</div>"
      ],
      "text/plain": [
       "              genre                                             lyrics  \\\n",
       "1085           Rock  Our father which art on Wall Street\\nHonored b...   \n",
       "1429          Metal  Somewhere in time there was a dream\\nA dream I...   \n",
       "269         Hip-Hop  This is a real life jack in progress. Nigga gi...   \n",
       "1482  Not Available  (M. Detroit)\\nMaybe it's my blood sugar\\nMaybe...   \n",
       "4               Pop  Party the people, the people the party it's po...   \n",
       "77              Pop  [Verse 1]\\nI'm in my penthouse half naked\\nI c...   \n",
       "822            Rock  I wish you well\\nCouldn't you tell after all t...   \n",
       "1110           Rock  Hey baby, be my dog, ooh\\nAlice in my fantasie...   \n",
       "688            Jazz  It's only small town talk\\nYou know how people...   \n",
       "468           Other  Sen arardÄ±n beni cep telefonumdan\\nArardÄ±n,a...   \n",
       "\n",
       "                                           clean_lyrics  \n",
       "1085  [father, art, wall, street, thy, buck, thy, <U...  \n",
       "1429  [somewhere, time, dream, dream, felt, deep, in...  \n",
       "269   [real, life, jack, progress, nigga, give, shit...  \n",
       "1482  [detroit, maybe, blood, sugar, maybe, im, mad,...  \n",
       "4     [party, people, people, party, popping, sittin...  \n",
       "77    [verse, 1, im, half, naked, naked, hell, one, ...  \n",
       "822   [wish, well, tell, years, wish, love, life, wo...  \n",
       "1110  [hey, baby, dog, ooh, fantasies, uh, promised,...  \n",
       "688   [small, town, talk, know, people, cant, stand,...  \n",
       "468   [sen, arardä±n, beni, cep, telefonumdan, arard...  "
      ]
     },
     "execution_count": 25,
     "metadata": {
      "tags": []
     },
     "output_type": "execute_result"
    }
   ],
   "source": [
    "BATCH_SIZE = 100\n",
    "train_dataset_loader  = DatasetLoader(train, gene_to_index, wevec_model)\n",
    "\n",
    "train_data_loader = torch.utils.data.DataLoader(train_dataset_loader,\n",
    "                                             batch_size=BATCH_SIZE, shuffle=True, num_workers=4,drop_last=True)\n",
    "\n",
    "validation_dataset_loader  = DatasetLoader(validation, gene_to_index, wevec_model)\n",
    "\n",
    "validation_data_loader = torch.utils.data.DataLoader(validation_dataset_loader,\n",
    "                                             batch_size=BATCH_SIZE, shuffle=True, num_workers=4,drop_last=True)"
   ]
  },
  {
   "cell_type": "code",
   "execution_count": 0,
   "metadata": {
    "colab": {},
    "colab_type": "code",
    "id": "vBN_naYhlg5h"
   },
   "outputs": [],
   "source": [
    "def train_model(model, train_iter, epoch, loss_fn, cm):\n",
    "  total_epoch_loss = 0\n",
    "  total_epoch_acc = 0\n",
    "#   if use_cuda:\n",
    "#     model.cuda()\n",
    "\n",
    "  optim = torch.optim.Adam(filter(lambda p: p.requires_grad, model.parameters()))\n",
    "  steps = 0\n",
    "  model.train()\n",
    "  for idx, (sentenses, labels) in enumerate(train_iter):\n",
    "    sentenses = Variable(sentenses)\n",
    "    labels = Variable(labels)\n",
    "\n",
    "    if torch.cuda.is_available():\n",
    "      sentenses = sentenses.long().cuda()\n",
    "      labels = labels.cuda()\n",
    "\n",
    "    optim.zero_grad()\n",
    "    prediction = model(sentenses)\n",
    "    loss = loss_fn(prediction, labels)\n",
    "    model_predictions = torch.max(prediction, 1)[1]\n",
    "    num_corrects = (model_predictions == labels).float().sum()\n",
    "    acc = 100.0 * num_corrects / len(sentenses)\n",
    "    loss.backward()\n",
    "    clip_gradient(model, 1e-1)\n",
    "    optim.step()\n",
    "    steps += 1\n",
    "    cm.add(model_predictions, labels)\n",
    "        \n",
    "    if steps % 100 == 0:\n",
    "      print('Epoch: {0}, Idx: {1}, Training Loss: {2}, Training Accuracy: {3}%'.format(epoch, idx, loss.item(),acc.item()))\n",
    "\n",
    "    total_epoch_loss += loss.item()\n",
    "    total_epoch_acc += acc.item()\n",
    "\n",
    "  return round(total_epoch_loss / len(train_iter), 4), round(total_epoch_acc / len(train_iter), 4)\n",
    "\n",
    "  \n",
    "def eval_model(model, val_iter, cm):\n",
    "    total_epoch_loss = 0\n",
    "    total_epoch_acc = 0\n",
    "    model.eval()\n",
    "    with torch.no_grad():\n",
    "        for idx, (sentenses, labels) in enumerate(val_iter):\n",
    "            \n",
    "            if use_cuda:\n",
    "              sentenses = sentenses.cuda()\n",
    "              labels = labels.cuda()\n",
    "              \n",
    "            sentenses = Variable(sentenses)\n",
    "            labels = Variable(labels)\n",
    "       \n",
    "            prediction = model(sentenses)\n",
    "            loss = loss_fn(prediction, labels)\n",
    "            model_predictions = torch.max(prediction, 1)[1]\n",
    "            num_corrects = (model_predictions == labels).float().sum()\n",
    "            \n",
    "            cm.add(model_predictions, labels)\n",
    "            acc = 100.0 * num_corrects/len(sentenses)\n",
    "            total_epoch_loss += loss.item()\n",
    "            total_epoch_acc += acc.item()\n",
    "\n",
    "    return round(total_epoch_loss/len(val_iter), 4), round(total_epoch_acc/len(val_iter),4)"
   ]
  },
  {
   "cell_type": "code",
   "execution_count": 0,
   "metadata": {
    "colab": {},
    "colab_type": "code",
    "id": "Kk-BCg9LfsAC"
   },
   "outputs": [],
   "source": [
    "!export CUDA_LAUNCH_BLOCKING=1\n",
    "import os\n",
    "os.environ['CUDA_LAUNCH_BLOCKING'] = '1'"
   ]
  },
  {
   "cell_type": "code",
   "execution_count": 0,
   "metadata": {
    "colab": {},
    "colab_type": "code",
    "id": "2mI6lPsJlzdi"
   },
   "outputs": [],
   "source": [
    "num_classes = len(geners)\n",
    "#cnn = CNN(BATCH_SIZE, num_classes, 1, 10, [3,5,7], 1, 0, 0.5,len(wevec_model.wv.vocab) + 1, 300, weights_matrix)\n",
    "weights_tensor = torch.from_numpy(weights_matrix)\n",
    "model = LSTMClassifier(BATCH_SIZE, len(geners), 20,len(wevec_model.wv.vocab) , 300, weights_tensor)\n",
    "\n",
    "if use_cuda:\n",
    "  model = model.cuda()"
   ]
  },
  {
   "cell_type": "code",
   "execution_count": 0,
   "metadata": {
    "colab": {},
    "colab_type": "code",
    "id": "-OzAqoUsqiQJ"
   },
   "outputs": [],
   "source": [
    "def plt_confusion_matrix(cm, class_names, normalize =False):\n",
    "  \n",
    "  if normalize:\n",
    "        cm = cm.astype('float') / cm.sum(axis=1)[:, np.newaxis]\n",
    "      \n",
    "  \n",
    "  df_cm = pd.DataFrame(cm, index = [i for i in class_names],\n",
    "                    columns = class_names)\n",
    "  \n",
    "  plt.figure(figsize = (10,7))\n",
    "  sn.heatmap(df_cm, annot=True)"
   ]
  },
  {
   "cell_type": "code",
   "execution_count": 0,
   "metadata": {
    "colab": {},
    "colab_type": "code",
    "id": "U4cnHTkbl6pP"
   },
   "outputs": [],
   "source": [
    "from torchnet.meter import ConfusionMeter\n",
    "\n",
    "loss_fn = F.cross_entropy\n",
    "liveloss = PlotLosses()\n",
    "validation_confusion_matrix = ConfusionMeter(num_classes)\n",
    "train_confusion_matrix = ConfusionMeter(num_classes)\n",
    "\n",
    "criterion = nn.CrossEntropyLoss()\n",
    "if use_cuda:\n",
    "  criterion = criterion.cuda()\n",
    "\n",
    "for epoch in range(100):\n",
    "    loss, acc = train_model(model, train_data_loader, epoch, loss_fn, train_confusion_matrix)\n",
    "    val_loss, val_acc = eval_model(model, validation_data_loader, validation_confusion_matrix)\n",
    "    \n",
    "    \n",
    "    liveloss.update({\n",
    "          'log loss': loss,\n",
    "          'val_log loss': val_loss,\n",
    "          'accuracy': acc,\n",
    "          'val_accuracy': val_acc\n",
    "      })\n",
    "    \n",
    "    liveloss.draw()\n",
    "\n",
    "test_loss, test_acc = eval_model(model, test_iter)"
   ]
  },
  {
   "cell_type": "markdown",
   "metadata": {
    "colab_type": "text",
    "id": "7LkMp6JOdpsh"
   },
   "source": [
    "## RNN for Text Generation\n",
    "In this section, we'll use an LSTM to generate new songs. You can pick any genre you like, or just use all genres. You can even try to generate songs in the style of a certain artist - remember that the Metrolyrics dataset contains the author of each song. \n",
    "\n",
    "For this, we’ll first train a character-based language model. We’ve mostly discussed in class the usage of RNNs to predict the next word given past words, but as we’ve mentioned in class, RNNs can also be used to learn sequences of characters.\n",
    "\n",
    "First, please go through the [PyTorch tutorial](https://pytorch.org/tutorials/intermediate/char_rnn_generation_tutorial.html) on generating family names. You can download a .py file or a jupyter notebook with the entire code of the tutorial. \n",
    "\n",
    "As a reminder of topics we've discussed in class, see Andrej Karpathy's popular blog post [\"The Unreasonable Effectiveness of Recurrent Neural Networks\"](http://karpathy.github.io/2015/05/21/rnn-effectiveness/). You are also encouraged to view [this](https://gist.github.com/karpathy/d4dee566867f8291f086) vanilla implementation of a character-level RNN, written in numpy with just 100 lines of code, including the forward and backward passes.  \n",
    "\n",
    "Other tutorials that might prove useful:\n",
    "1. http://warmspringwinds.github.io/pytorch/rnns/2018/01/27/learning-to-generate-lyrics-and-music-with-recurrent-neural-networks/\n",
    "1. https://github.com/mcleonard/pytorch-charRNN\n",
    "1. https://github.com/spro/practical-pytorch/blob/master/char-rnn-generation/char-rnn-generation.ipynb"
   ]
  },
  {
   "cell_type": "code",
   "execution_count": 3,
   "metadata": {},
   "outputs": [],
   "source": [
    "import string\n",
    "import unicodedata\n",
    "import pandas as pd\n",
    "from torch.autograd import Variable\n",
    "from torch import nn\n",
    "import torch\n",
    "import logging\n",
    "import random\n",
    "from torch.autograd import Variable\n",
    "import torch\n",
    "from livelossplot import PlotLosses\n"
   ]
  },
  {
   "cell_type": "code",
   "execution_count": 5,
   "metadata": {},
   "outputs": [],
   "source": [
    "GENERE = 'Rock'\n",
    "MIN_LENGTH_FOR_TRAIN = 10\n",
    "use_cuda = torch.cuda.is_available()\n",
    "all_characters = string.ascii_letters + \" .,;'-\"\n",
    "n_characters = len(all_characters) + 1"
   ]
  },
  {
   "cell_type": "code",
   "execution_count": 6,
   "metadata": {},
   "outputs": [],
   "source": [
    "def unicodeToAscii(s):\n",
    "    return ''.join(\n",
    "        c for c in unicodedata.normalize('NFD', s)\n",
    "        if unicodedata.category(c) != 'Mn'\n",
    "        and c in all_characters\n",
    "    )\n",
    "\n",
    "def randomChoice(l):\n",
    "    return l.iloc[random.randint(0, len(l) - 1)]"
   ]
  },
  {
   "cell_type": "code",
   "execution_count": 7,
   "metadata": {},
   "outputs": [
    {
     "name": "stderr",
     "output_type": "stream",
     "text": [
      "/home/gabiburabia24/.local/lib/python3.5/site-packages/ipykernel_launcher.py:6: SettingWithCopyWarning: \n",
      "A value is trying to be set on a copy of a slice from a DataFrame.\n",
      "Try using .loc[row_indexer,col_indexer] = value instead\n",
      "\n",
      "See the caveats in the documentation: http://pandas.pydata.org/pandas-docs/stable/indexing.html#indexing-view-versus-copy\n",
      "  \n",
      "/home/gabiburabia24/.local/lib/python3.5/site-packages/ipykernel_launcher.py:7: SettingWithCopyWarning: \n",
      "A value is trying to be set on a copy of a slice from a DataFrame.\n",
      "Try using .loc[row_indexer,col_indexer] = value instead\n",
      "\n",
      "See the caveats in the documentation: http://pandas.pydata.org/pandas-docs/stable/indexing.html#indexing-view-versus-copy\n",
      "  import sys\n"
     ]
    }
   ],
   "source": [
    "lyrics_df = pd.read_csv(\"../data/lyrics.csv\", usecols=['genre', 'lyrics'])\n",
    "\n",
    "lyrics_df = lyrics_df[lyrics_df.lyrics.notnull()]\n",
    "rock_lyrics_df = lyrics_df[lyrics_df.genre == GENERE]\n",
    "\n",
    "rock_lyrics_df[\"ascii_lyrics\"] = rock_lyrics_df[\"lyrics\"].map(lambda text:  unicodeToAscii(text))\n",
    "rock_lyrics_df[\"length\"] = rock_lyrics_df['ascii_lyrics'].map(lambda text:  len(text))\n",
    "\n",
    "rock_lyrics_df = rock_lyrics_df[rock_lyrics_df['length'] > MIN_LENGTH_FOR_TRAIN]\n"
   ]
  },
  {
   "cell_type": "code",
   "execution_count": 9,
   "metadata": {},
   "outputs": [
    {
     "data": {
      "text/html": [
       "<div>\n",
       "<style scoped>\n",
       "    .dataframe tbody tr th:only-of-type {\n",
       "        vertical-align: middle;\n",
       "    }\n",
       "\n",
       "    .dataframe tbody tr th {\n",
       "        vertical-align: top;\n",
       "    }\n",
       "\n",
       "    .dataframe thead th {\n",
       "        text-align: right;\n",
       "    }\n",
       "</style>\n",
       "<table border=\"1\" class=\"dataframe\">\n",
       "  <thead>\n",
       "    <tr style=\"text-align: right;\">\n",
       "      <th></th>\n",
       "      <th>genre</th>\n",
       "      <th>lyrics</th>\n",
       "      <th>ascii_lyrics</th>\n",
       "      <th>length</th>\n",
       "    </tr>\n",
       "  </thead>\n",
       "  <tbody>\n",
       "    <tr>\n",
       "      <th>247192</th>\n",
       "      <td>Rock</td>\n",
       "      <td>Wednesday morning was the last time we talked\\...</td>\n",
       "      <td>Wednesday morning was the last time we talkedI...</td>\n",
       "      <td>1026</td>\n",
       "    </tr>\n",
       "    <tr>\n",
       "      <th>12935</th>\n",
       "      <td>Rock</td>\n",
       "      <td>Precious words drift away from their meanings\\...</td>\n",
       "      <td>Precious words drift away from their meaningsA...</td>\n",
       "      <td>655</td>\n",
       "    </tr>\n",
       "    <tr>\n",
       "      <th>175561</th>\n",
       "      <td>Rock</td>\n",
       "      <td>Pain\\nI guess it's a matter of sensation\\nBut ...</td>\n",
       "      <td>PainI guess it's a matter of sensationBut some...</td>\n",
       "      <td>714</td>\n",
       "    </tr>\n",
       "    <tr>\n",
       "      <th>327795</th>\n",
       "      <td>Rock</td>\n",
       "      <td>From the clatter of Honky tonk\\nTo the quiet o...</td>\n",
       "      <td>From the clatter of Honky tonkTo the quiet of ...</td>\n",
       "      <td>720</td>\n",
       "    </tr>\n",
       "    <tr>\n",
       "      <th>336060</th>\n",
       "      <td>Rock</td>\n",
       "      <td>For days I have tried to forget you\\nAnd not c...</td>\n",
       "      <td>For days I have tried to forget youAnd not car...</td>\n",
       "      <td>911</td>\n",
       "    </tr>\n",
       "    <tr>\n",
       "      <th>64102</th>\n",
       "      <td>Rock</td>\n",
       "      <td>Let me find out who l am\\nLet me live and let ...</td>\n",
       "      <td>Let me find out who l amLet me live and let me...</td>\n",
       "      <td>555</td>\n",
       "    </tr>\n",
       "    <tr>\n",
       "      <th>182163</th>\n",
       "      <td>Rock</td>\n",
       "      <td>I started to write you a letter the other day\\...</td>\n",
       "      <td>I started to write you a letter the other dayD...</td>\n",
       "      <td>1146</td>\n",
       "    </tr>\n",
       "    <tr>\n",
       "      <th>347885</th>\n",
       "      <td>Rock</td>\n",
       "      <td>Ticking like a time bomb\\nWhere did you come f...</td>\n",
       "      <td>Ticking like a time bombWhere did you come fro...</td>\n",
       "      <td>1714</td>\n",
       "    </tr>\n",
       "    <tr>\n",
       "      <th>204651</th>\n",
       "      <td>Rock</td>\n",
       "      <td>Remember last time, you know how it went\\nI th...</td>\n",
       "      <td>Remember last time, you know how it wentI thou...</td>\n",
       "      <td>620</td>\n",
       "    </tr>\n",
       "    <tr>\n",
       "      <th>348793</th>\n",
       "      <td>Rock</td>\n",
       "      <td>You and I in a little toy shop\\nbuy a bag of b...</td>\n",
       "      <td>You and I in a little toy shopbuy a bag of bal...</td>\n",
       "      <td>887</td>\n",
       "    </tr>\n",
       "  </tbody>\n",
       "</table>\n",
       "</div>"
      ],
      "text/plain": [
       "       genre                                             lyrics  \\\n",
       "247192  Rock  Wednesday morning was the last time we talked\\...   \n",
       "12935   Rock  Precious words drift away from their meanings\\...   \n",
       "175561  Rock  Pain\\nI guess it's a matter of sensation\\nBut ...   \n",
       "327795  Rock  From the clatter of Honky tonk\\nTo the quiet o...   \n",
       "336060  Rock  For days I have tried to forget you\\nAnd not c...   \n",
       "64102   Rock  Let me find out who l am\\nLet me live and let ...   \n",
       "182163  Rock  I started to write you a letter the other day\\...   \n",
       "347885  Rock  Ticking like a time bomb\\nWhere did you come f...   \n",
       "204651  Rock  Remember last time, you know how it went\\nI th...   \n",
       "348793  Rock  You and I in a little toy shop\\nbuy a bag of b...   \n",
       "\n",
       "                                             ascii_lyrics  length  \n",
       "247192  Wednesday morning was the last time we talkedI...    1026  \n",
       "12935   Precious words drift away from their meaningsA...     655  \n",
       "175561  PainI guess it's a matter of sensationBut some...     714  \n",
       "327795  From the clatter of Honky tonkTo the quiet of ...     720  \n",
       "336060  For days I have tried to forget youAnd not car...     911  \n",
       "64102   Let me find out who l amLet me live and let me...     555  \n",
       "182163  I started to write you a letter the other dayD...    1146  \n",
       "347885  Ticking like a time bombWhere did you come fro...    1714  \n",
       "204651  Remember last time, you know how it wentI thou...     620  \n",
       "348793  You and I in a little toy shopbuy a bag of bal...     887  "
      ]
     },
     "execution_count": 9,
     "metadata": {},
     "output_type": "execute_result"
    }
   ],
   "source": [
    "rock_lyrics_df.sample(10)"
   ]
  },
  {
   "cell_type": "code",
   "execution_count": 10,
   "metadata": {},
   "outputs": [],
   "source": [
    "class RNN(nn.Module):\n",
    "    def __init__(self, input_size, hidden_size, output_size, n_layers=1):\n",
    "        super(RNN, self).__init__()\n",
    "        self.input_size = input_size\n",
    "        self.hidden_size = hidden_size\n",
    "        self.output_size = output_size\n",
    "        self.n_layers = n_layers\n",
    "        self.dropout = nn.Dropout(0.1)\n",
    "        self.gru = nn.GRU(input_size, hidden_size, n_layers)\n",
    "        self.decoder = nn.Linear(hidden_size, output_size)\n",
    "\n",
    "    def forward(self, input, hidden):\n",
    "        output, hidden = self.gru(input, hidden)\n",
    "        output = self.dropout (output)\n",
    "        output = self.decoder(output)\n",
    "        return output.squeeze(), hidden\n",
    "\n",
    "    def init_hidden(self):\n",
    "        return Variable(torch.zeros(self.n_layers, 1, self.hidden_size))"
   ]
  },
  {
   "cell_type": "code",
   "execution_count": 11,
   "metadata": {},
   "outputs": [],
   "source": [
    "def inputTensor(line):\n",
    "    tensor = torch.zeros(len(line), 1, n_characters)\n",
    "    for li in range(len(line)):\n",
    "        letter = line[li]\n",
    "        tensor[li][0][all_characters.find(letter)] = 1\n",
    "    return tensor\n",
    "\n",
    "def targetTensor(line):\n",
    "\n",
    "    letter_indexes = [all_characters.find(line[li]) for li in range(1, len(line))]\n",
    "    letter_indexes.append(n_characters - 1)  \n",
    "    return torch.LongTensor(letter_indexes).squeeze()\n",
    "\n",
    "\n",
    "def train_decoder(model, optimizer, text, criterion, epoch):\n",
    "    try:\n",
    "        total_epoch_loss = 0.0\n",
    "        total_epoch_acc = 0.0\n",
    "        exalpes_count = 0.0\n",
    "\n",
    "        inputs = inputTensor(text[0:-1])\n",
    "        labels = targetTensor(text[1:])\n",
    "        inputs = Variable(inputs)\n",
    "        labels = Variable(labels)\n",
    "        \n",
    "        model.zero_grad()\n",
    "        hidden = model.init_hidden()\n",
    "        \n",
    "        if use_cuda:\n",
    "            hidden = hidden.cuda()\n",
    "            labels = labels.cuda()\n",
    "            inputs = inputs.cuda()\n",
    "            \n",
    "        \n",
    "        loss = 0\n",
    "        for i in range(inputs.size(0)):\n",
    "            input = inputs[i].reshape(1, 1, -1)\n",
    "            output, hidden = model(input, hidden)\n",
    "            expected = torch.Tensor([labels[i]]).long()\n",
    "            if use_cuda:\n",
    "                expected = expected.cuda()\n",
    "                \n",
    "            l = criteriממוצע לדירה.\"on(output.reshape(1, -1), expected)\n",
    "            loss += l\n",
    "            _, max_chracter_index = output.max(0)\n",
    "            num_corrects = (max_chracter_index == labels[i]).item()\n",
    "            total_epoch_acc += num_corrects\n",
    "            \n",
    "        loss.backward()\n",
    "        optimizer.step()\n",
    "        return total_epoch_acc,loss.item() ,inputs.size(0)\n",
    "    except:\n",
    "        logging.exception('train')\n",
    "        print((inputs.size(0), labels, inputs,  text))\n",
    "        return None\n"
   ]
  },
  {
   "cell_type": "code",
   "execution_count": 12,
   "metadata": {},
   "outputs": [],
   "source": [
    "HIDDEN_SIZE =100\n",
    "GRU_LAYERS = 1\n",
    "learnning_rate = 0.01"
   ]
  },
  {
   "cell_type": "code",
   "execution_count": 13,
   "metadata": {},
   "outputs": [],
   "source": [
    "model = RNN(n_characters, HIDDEN_SIZE, n_characters, GRU_LAYERS)\n",
    "optimizer = torch.optim.Adam(model.parameters(), lr=learnning_rate)\n",
    "criterion = nn.CrossEntropyLoss()\n",
    "\n",
    "if use_cuda:\n",
    "    model = model.cuda()\n",
    "    criterion = criterion.cuda()"
   ]
  },
  {
   "cell_type": "code",
   "execution_count": null,
   "metadata": {},
   "outputs": [
    {
     "data": {
      "image/png": "[encoded data removed]",
      "text/plain": [
       "<Figure size 864x576 with 2 Axes>"
      ]
     },
     "metadata": {
      "needs_background": "light"
     },
     "output_type": "display_data"
    },
    {
     "name": "stdout",
     "output_type": "stream",
     "text": [
      "accuracy:\n",
      "training   (min:    0.001, max:    0.279, cur:    0.279)\n",
      "\n",
      "log loss:\n",
      "training   (min:    2.644, max:    4.094, cur:    2.644)\n"
     ]
    }
   ],
   "source": [
    "rock_lyrics_df.reset_index(drop=True, inplace=True)\n",
    "acc= 0.0\n",
    "loss = 0.0\n",
    "size= 0.0\n",
    "liveloss = PlotLosses()\n",
    "preset_after= 100\n",
    "for x in range(1000000):\n",
    "    row = randomChoice(rock_lyrics_df)\n",
    "    res = train_decoder(model, optimizer, row['ascii_lyrics'], criterion, x)\n",
    "    if res is not None:\n",
    "        sampele_acc, sample_loss, sample_size = res\n",
    "        acc += sampele_acc\n",
    "        loss += sample_loss\n",
    "        size += sample_size\n",
    "     \n",
    "    if size > 0 and  x % preset_after == 0:\n",
    "        liveloss.update({\n",
    "          'log loss': loss/size,\n",
    "          'accuracy': acc/size\n",
    "          })\n",
    "      \n",
    "        liveloss.draw()  \n",
    "        acc = 0.0        \n",
    "        size = 0.0\n",
    "        loss = 0.0\n"
   ]
  },
  {
   "cell_type": "code",
   "execution_count": null,
   "metadata": {},
   "outputs": [],
   "source": [
    "def generate(model, start_chracter='T', max_length=20):\n",
    "    with torch.no_grad():\n",
    "        input = inputTensor1(start_letter)\n",
    "        hidden = model.init_hidden()\n",
    "        text = start_letter\n",
    "        \n",
    "        for i in range(max_length):\n",
    "            input = input[0].reshape(1, 1, -1)\n",
    "            model_output, hidden = model(input, hidden)\n",
    "            _, topi = model_output.topk(1)\n",
    "            topi = topi[0][0]\n",
    "            if topi == n_characters - 1:\n",
    "                break\n",
    "            else:\n",
    "                letter = all_characters[topi]\n",
    "                text += letter\n",
    "            input = inputTensor1(letter)        \n",
    "    \n",
    "    return text\n",
    "    "
   ]
  },
  {
   "cell_type": "code",
   "execution_count": null,
   "metadata": {},
   "outputs": [],
   "source": [
    "generate(model)"
   ]
  },
  {
   "cell_type": "code",
   "execution_count": null,
   "metadata": {},
   "outputs": [],
   "source": [
    "generate(model, 'I')"
   ]
  },
  {
   "cell_type": "code",
   "execution_count": null,
   "metadata": {},
   "outputs": [],
   "source": [
    "generate(model, 'W')"
   ]
  },
  {
   "cell_type": "code",
   "execution_count": null,
   "metadata": {},
   "outputs": [],
   "source": [
    "generate(model, 'L')"
   ]
  },
  {
   "cell_type": "markdown",
   "metadata": {
    "colab_type": "text",
    "id": "JeHIW8WGdpsp"
   },
   "source": [
    "### Final Tips\n",
    "As a final tip, I do encourage you to do most of the work first on your local machine. They say that Data Scientists spend 80% of their time cleaning the data and preparing it for training (and 20% complaining about cleaning the data and preparing it). Handling these parts on your local machine usually mean you will spend less time complaining. You can switch to the cloud once your code runs and your pipeline is in place, for the actual training using a GPU.  \n",
    "\n",
    "I also encourage you to use a small subset of the dataset first, so things run smoothly. The Metrolyrics dataset contains over 300k songs. You can start with a much much smaller set (even 3,000 songs) and try to train a network based on it. Once everything runs properly, add more data. \n",
    "\n",
    "Good luck!  \n",
    "Omri"
   ]
  }
 ],
 "metadata": {
  "accelerator": "GPU",
  "colab": {
   "name": "DL_rnn_text_classification_generation.ipynb",
   "provenance": [],
   "version": "0.3.2"
  },
  "kernelspec": {
   "display_name": "Python 3",
   "language": "python",
   "name": "python3"
  },
  "language_info": {
   "codemirror_mode": {
    "name": "ipython",
    "version": 3
   },
   "file_extension": ".py",
   "mimetype": "text/x-python",
   "name": "python",
   "nbconvert_exporter": "python",
   "pygments_lexer": "ipython3",
   "version": "3.5.2"
  }
 },
 "nbformat": 4,
 "nbformat_minor": 1
}
